{
 "cells": [
  {
   "cell_type": "code",
   "execution_count": 1,
   "metadata": {},
   "outputs": [],
   "source": [
    "import seaborn as sn\n",
    "import matplotlib.pyplot as plt\n",
    "import pandas as pd\n",
    "import numpy as np\n",
    "\n",
    "import config\n",
    "from src.utils.HTMLParser import HTMLParser\n",
    "from src.data.data_loader import *\n",
    "from src.utils.helpers import *\n",
    "from src.models.networks import *\n",
    "from src.models.similarity_matrices import *\n",
    "from src.models.markov_chains import *\n",
    "\n",
    "parser = HTMLParser()\n",
    "parser.load_pickle()"
   ]
  },
  {
   "cell_type": "code",
   "execution_count": 8,
   "metadata": {},
   "outputs": [
    {
     "name": "stdout",
     "output_type": "stream",
     "text": [
      "Unfinished Paths\n",
      "---------------- \n",
      "Number of rows before filtering: 24875\n",
      "Invalid target articles found: {'Test', 'Black ops 2', 'Netbook', 'Adolph Hitler', 'Fats', 'Pikachu', 'Rat', 'Sportacus', 'Rss', 'Christmas', 'The', 'English', 'Usa', ' Zebra', 'Podcast', 'The Rock', 'Long peper', 'Western Australia', 'Georgia', 'Macedonia', 'Great', 'Kashmir', 'Mustard', 'Charlottes web', 'Bogota'}\n",
      "Invalid articles found in path: {'Local community', 'Osteomalacia', 'Pikachu', 'Wikipedia Text of the GNU Free Documentation License', 'Private Peaceful'}\n",
      "Number of 'timeout' games with a duration of less than 30 minutes: 7\n",
      "Number of rows after filtering: 24709 \n",
      "\n",
      "Finished Paths\n",
      "-------------- \n",
      "Number of rows before filtering: 51318\n",
      "Invalid articles found in path: {'Pikachu', 'Local community', 'Wikipedia Text of the GNU Free Documentation License', 'Osteomalacia'}\n",
      "Number of rows after filtering: 51196\n"
     ]
    }
   ],
   "source": [
    "# Load and preprocess the data\n",
    "df_article_names, df_html_stats, df_categories, df_links, df_shortest_path, df_unfinished, df_finished, df_article = read_all()"
   ]
  },
  {
   "cell_type": "code",
   "execution_count": 43,
   "metadata": {},
   "outputs": [],
   "source": [
    "world_regions_categories = ['Geography of Great Britain', 'Geography of Asia', 'Geography of Oceania Australasia', 'North American Geography', 'European Geography', 'African Geography', 'Central and South American Geography', 'Antarctica', 'Geography of the Middle East', 'African Countries', 'Countries']\n",
    "df_categories = assign_world_region_categories(df_categories, world_regions_categories)\n",
    "\n",
    "# Sort paths into voyage and non-voyage\n",
    "df_finished = game_voyage_sorting(df_finished, df_categories)\n",
    "df_unfinished = game_voyage_sorting(df_unfinished, df_categories)\n",
    "\n",
    "# Assign the categories \"World Regions\" to the concerned articles\n",
    "category_map = dict(zip(df_categories[\"article\"], df_categories[\"level_1\"]))\n",
    "df_article[\"category\"] = df_article[\"article\"].map(category_map)\n",
    "\n",
    "df_merged = pd.concat([df_finished, df_unfinished], ignore_index=True, sort=False)"
   ]
  },
  {
   "cell_type": "code",
   "execution_count": 44,
   "metadata": {},
   "outputs": [
    {
     "data": {
      "text/html": [
       "<div>\n",
       "<style scoped>\n",
       "    .dataframe tbody tr th:only-of-type {\n",
       "        vertical-align: middle;\n",
       "    }\n",
       "\n",
       "    .dataframe tbody tr th {\n",
       "        vertical-align: top;\n",
       "    }\n",
       "\n",
       "    .dataframe thead th {\n",
       "        text-align: right;\n",
       "    }\n",
       "</style>\n",
       "<table border=\"1\" class=\"dataframe\">\n",
       "  <thead>\n",
       "    <tr style=\"text-align: right;\">\n",
       "      <th></th>\n",
       "      <th>hashedIpAddress</th>\n",
       "      <th>timestamp</th>\n",
       "      <th>durationInSec</th>\n",
       "      <th>path</th>\n",
       "      <th>rating</th>\n",
       "      <th>source</th>\n",
       "      <th>target</th>\n",
       "      <th>cosine_similarity</th>\n",
       "      <th>shortest_path</th>\n",
       "      <th>path_length</th>\n",
       "      <th>back_clicks</th>\n",
       "      <th>categories_similarity</th>\n",
       "      <th>Transition Category Path</th>\n",
       "      <th>Category Path</th>\n",
       "      <th>source_maincategory</th>\n",
       "      <th>target_maincategory</th>\n",
       "      <th>Wikispeedia_Voyage</th>\n",
       "      <th>type</th>\n",
       "    </tr>\n",
       "  </thead>\n",
       "  <tbody>\n",
       "    <tr>\n",
       "      <th>0</th>\n",
       "      <td>6a3701d319fc3754</td>\n",
       "      <td>2011-02-15 03:26:49</td>\n",
       "      <td>166</td>\n",
       "      <td>14th century;15th century;16th century;Pacific...</td>\n",
       "      <td>NaN</td>\n",
       "      <td>14th century</td>\n",
       "      <td>African slave trade</td>\n",
       "      <td>0.353137</td>\n",
       "      <td>3</td>\n",
       "      <td>9</td>\n",
       "      <td>0</td>\n",
       "      <td>1.0</td>\n",
       "      <td>[History, Geography, World Regions, History]</td>\n",
       "      <td>[History, History, History, Geography, Geograp...</td>\n",
       "      <td>History</td>\n",
       "      <td>History</td>\n",
       "      <td>True</td>\n",
       "      <td>NaN</td>\n",
       "    </tr>\n",
       "    <tr>\n",
       "      <th>1</th>\n",
       "      <td>3824310e536af032</td>\n",
       "      <td>2012-08-12 06:36:52</td>\n",
       "      <td>88</td>\n",
       "      <td>14th century;Europe;Africa;Atlantic slave trad...</td>\n",
       "      <td>3.0</td>\n",
       "      <td>14th century</td>\n",
       "      <td>African slave trade</td>\n",
       "      <td>0.353137</td>\n",
       "      <td>3</td>\n",
       "      <td>5</td>\n",
       "      <td>0</td>\n",
       "      <td>1.0</td>\n",
       "      <td>[History, World Regions, History]</td>\n",
       "      <td>[History, World Regions, World Regions, Histor...</td>\n",
       "      <td>History</td>\n",
       "      <td>History</td>\n",
       "      <td>True</td>\n",
       "      <td>NaN</td>\n",
       "    </tr>\n",
       "    <tr>\n",
       "      <th>2</th>\n",
       "      <td>415612e93584d30e</td>\n",
       "      <td>2012-10-03 21:10:40</td>\n",
       "      <td>138</td>\n",
       "      <td>14th century;Niger;Nigeria;British Empire;Slav...</td>\n",
       "      <td>NaN</td>\n",
       "      <td>14th century</td>\n",
       "      <td>African slave trade</td>\n",
       "      <td>0.353137</td>\n",
       "      <td>3</td>\n",
       "      <td>8</td>\n",
       "      <td>0</td>\n",
       "      <td>1.0</td>\n",
       "      <td>[History, World Regions, History, Citizenship,...</td>\n",
       "      <td>[History, World Regions, World Regions, Histor...</td>\n",
       "      <td>History</td>\n",
       "      <td>History</td>\n",
       "      <td>True</td>\n",
       "      <td>NaN</td>\n",
       "    </tr>\n",
       "    <tr>\n",
       "      <th>3</th>\n",
       "      <td>64dd5cd342e3780c</td>\n",
       "      <td>2010-02-08 07:25:25</td>\n",
       "      <td>37</td>\n",
       "      <td>14th century;Renaissance;Ancient Greece;Greece</td>\n",
       "      <td>NaN</td>\n",
       "      <td>14th century</td>\n",
       "      <td>Greece</td>\n",
       "      <td>0.371986</td>\n",
       "      <td>2</td>\n",
       "      <td>4</td>\n",
       "      <td>0</td>\n",
       "      <td>0.0</td>\n",
       "      <td>[History, World Regions]</td>\n",
       "      <td>[History, History, History, World Regions]</td>\n",
       "      <td>History</td>\n",
       "      <td>World Regions</td>\n",
       "      <td>False</td>\n",
       "      <td>NaN</td>\n",
       "    </tr>\n",
       "    <tr>\n",
       "      <th>4</th>\n",
       "      <td>015245d773376aab</td>\n",
       "      <td>2013-04-23 15:27:08</td>\n",
       "      <td>175</td>\n",
       "      <td>14th century;Italy;Roman Catholic Church;HIV;R...</td>\n",
       "      <td>3.0</td>\n",
       "      <td>14th century</td>\n",
       "      <td>John F. Kennedy</td>\n",
       "      <td>0.331395</td>\n",
       "      <td>3</td>\n",
       "      <td>7</td>\n",
       "      <td>0</td>\n",
       "      <td>0.0</td>\n",
       "      <td>[History, World Regions, Religion, Science, Pe...</td>\n",
       "      <td>[History, World Regions, Religion, Science, Pe...</td>\n",
       "      <td>History</td>\n",
       "      <td>People</td>\n",
       "      <td>True</td>\n",
       "      <td>NaN</td>\n",
       "    </tr>\n",
       "    <tr>\n",
       "      <th>...</th>\n",
       "      <td>...</td>\n",
       "      <td>...</td>\n",
       "      <td>...</td>\n",
       "      <td>...</td>\n",
       "      <td>...</td>\n",
       "      <td>...</td>\n",
       "      <td>...</td>\n",
       "      <td>...</td>\n",
       "      <td>...</td>\n",
       "      <td>...</td>\n",
       "      <td>...</td>\n",
       "      <td>...</td>\n",
       "      <td>...</td>\n",
       "      <td>...</td>\n",
       "      <td>...</td>\n",
       "      <td>...</td>\n",
       "      <td>...</td>\n",
       "      <td>...</td>\n",
       "    </tr>\n",
       "    <tr>\n",
       "      <th>75900</th>\n",
       "      <td>109ed71f571d86e9</td>\n",
       "      <td>2014-01-15 12:06:45</td>\n",
       "      <td>180</td>\n",
       "      <td>Franz Kafka;Tuberculosis;World Health Organiza...</td>\n",
       "      <td>NaN</td>\n",
       "      <td>Franz Kafka</td>\n",
       "      <td>Cholera</td>\n",
       "      <td>0.453761</td>\n",
       "      <td>3</td>\n",
       "      <td>8</td>\n",
       "      <td>1</td>\n",
       "      <td>0.0</td>\n",
       "      <td>[People, Science, Citizenship, Science, World ...</td>\n",
       "      <td>[People, Science, Citizenship, Science, World ...</td>\n",
       "      <td>People</td>\n",
       "      <td>World Regions</td>\n",
       "      <td>False</td>\n",
       "      <td>restart</td>\n",
       "    </tr>\n",
       "    <tr>\n",
       "      <th>75901</th>\n",
       "      <td>232f992e57d43e8d</td>\n",
       "      <td>2014-01-15 12:08:17</td>\n",
       "      <td>6</td>\n",
       "      <td>Modern history</td>\n",
       "      <td>NaN</td>\n",
       "      <td>Modern history</td>\n",
       "      <td>Hollandic</td>\n",
       "      <td>0.328068</td>\n",
       "      <td>3</td>\n",
       "      <td>1</td>\n",
       "      <td>0</td>\n",
       "      <td>0.0</td>\n",
       "      <td>[History]</td>\n",
       "      <td>[History]</td>\n",
       "      <td>History</td>\n",
       "      <td>History</td>\n",
       "      <td>False</td>\n",
       "      <td>restart</td>\n",
       "    </tr>\n",
       "    <tr>\n",
       "      <th>75902</th>\n",
       "      <td>2e09a7224600a7cd</td>\n",
       "      <td>2014-01-15 15:06:40</td>\n",
       "      <td>1900</td>\n",
       "      <td>Computer programming;Linguistics;Culture;Popul...</td>\n",
       "      <td>NaN</td>\n",
       "      <td>Computer programming</td>\n",
       "      <td>The Beatles</td>\n",
       "      <td>0.395061</td>\n",
       "      <td>3</td>\n",
       "      <td>5</td>\n",
       "      <td>1</td>\n",
       "      <td>0.0</td>\n",
       "      <td>[IT, Language and literature, Everyday life, C...</td>\n",
       "      <td>[IT, Language and literature, Everyday life, C...</td>\n",
       "      <td>IT</td>\n",
       "      <td>&lt;</td>\n",
       "      <td>False</td>\n",
       "      <td>timeout</td>\n",
       "    </tr>\n",
       "    <tr>\n",
       "      <th>75903</th>\n",
       "      <td>60af9e2138051b96</td>\n",
       "      <td>2014-01-15 15:24:41</td>\n",
       "      <td>1903</td>\n",
       "      <td>Jamaica;United Kingdom;World War II;Battle of ...</td>\n",
       "      <td>NaN</td>\n",
       "      <td>Jamaica</td>\n",
       "      <td>Alan Turing</td>\n",
       "      <td>0.369151</td>\n",
       "      <td>3</td>\n",
       "      <td>4</td>\n",
       "      <td>0</td>\n",
       "      <td>0.0</td>\n",
       "      <td>[World Regions, History]</td>\n",
       "      <td>[World Regions, World Regions, History, History]</td>\n",
       "      <td>World Regions</td>\n",
       "      <td>History</td>\n",
       "      <td>False</td>\n",
       "      <td>timeout</td>\n",
       "    </tr>\n",
       "    <tr>\n",
       "      <th>75904</th>\n",
       "      <td>1cf0cbb3281049ab</td>\n",
       "      <td>2014-01-15 21:54:01</td>\n",
       "      <td>352</td>\n",
       "      <td>Mark Antony;Rome;Tennis;Hawk-Eye;Computer</td>\n",
       "      <td>NaN</td>\n",
       "      <td>Mark Antony</td>\n",
       "      <td>Feather</td>\n",
       "      <td>0.285379</td>\n",
       "      <td>3</td>\n",
       "      <td>5</td>\n",
       "      <td>0</td>\n",
       "      <td>0.0</td>\n",
       "      <td>[People, World Regions, Everyday life, Design ...</td>\n",
       "      <td>[People, World Regions, Everyday life, Design ...</td>\n",
       "      <td>People</td>\n",
       "      <td>IT</td>\n",
       "      <td>True</td>\n",
       "      <td>restart</td>\n",
       "    </tr>\n",
       "  </tbody>\n",
       "</table>\n",
       "<p>75905 rows × 18 columns</p>\n",
       "</div>"
      ],
      "text/plain": [
       "        hashedIpAddress           timestamp  durationInSec  \\\n",
       "0      6a3701d319fc3754 2011-02-15 03:26:49            166   \n",
       "1      3824310e536af032 2012-08-12 06:36:52             88   \n",
       "2      415612e93584d30e 2012-10-03 21:10:40            138   \n",
       "3      64dd5cd342e3780c 2010-02-08 07:25:25             37   \n",
       "4      015245d773376aab 2013-04-23 15:27:08            175   \n",
       "...                 ...                 ...            ...   \n",
       "75900  109ed71f571d86e9 2014-01-15 12:06:45            180   \n",
       "75901  232f992e57d43e8d 2014-01-15 12:08:17              6   \n",
       "75902  2e09a7224600a7cd 2014-01-15 15:06:40           1900   \n",
       "75903  60af9e2138051b96 2014-01-15 15:24:41           1903   \n",
       "75904  1cf0cbb3281049ab 2014-01-15 21:54:01            352   \n",
       "\n",
       "                                                    path  rating  \\\n",
       "0      14th century;15th century;16th century;Pacific...     NaN   \n",
       "1      14th century;Europe;Africa;Atlantic slave trad...     3.0   \n",
       "2      14th century;Niger;Nigeria;British Empire;Slav...     NaN   \n",
       "3         14th century;Renaissance;Ancient Greece;Greece     NaN   \n",
       "4      14th century;Italy;Roman Catholic Church;HIV;R...     3.0   \n",
       "...                                                  ...     ...   \n",
       "75900  Franz Kafka;Tuberculosis;World Health Organiza...     NaN   \n",
       "75901                                     Modern history     NaN   \n",
       "75902  Computer programming;Linguistics;Culture;Popul...     NaN   \n",
       "75903  Jamaica;United Kingdom;World War II;Battle of ...     NaN   \n",
       "75904          Mark Antony;Rome;Tennis;Hawk-Eye;Computer     NaN   \n",
       "\n",
       "                     source               target  cosine_similarity  \\\n",
       "0              14th century  African slave trade           0.353137   \n",
       "1              14th century  African slave trade           0.353137   \n",
       "2              14th century  African slave trade           0.353137   \n",
       "3              14th century               Greece           0.371986   \n",
       "4              14th century      John F. Kennedy           0.331395   \n",
       "...                     ...                  ...                ...   \n",
       "75900           Franz Kafka              Cholera           0.453761   \n",
       "75901        Modern history            Hollandic           0.328068   \n",
       "75902  Computer programming          The Beatles           0.395061   \n",
       "75903               Jamaica          Alan Turing           0.369151   \n",
       "75904           Mark Antony              Feather           0.285379   \n",
       "\n",
       "       shortest_path  path_length  back_clicks  categories_similarity  \\\n",
       "0                  3            9            0                    1.0   \n",
       "1                  3            5            0                    1.0   \n",
       "2                  3            8            0                    1.0   \n",
       "3                  2            4            0                    0.0   \n",
       "4                  3            7            0                    0.0   \n",
       "...              ...          ...          ...                    ...   \n",
       "75900              3            8            1                    0.0   \n",
       "75901              3            1            0                    0.0   \n",
       "75902              3            5            1                    0.0   \n",
       "75903              3            4            0                    0.0   \n",
       "75904              3            5            0                    0.0   \n",
       "\n",
       "                                Transition Category Path  \\\n",
       "0           [History, Geography, World Regions, History]   \n",
       "1                      [History, World Regions, History]   \n",
       "2      [History, World Regions, History, Citizenship,...   \n",
       "3                               [History, World Regions]   \n",
       "4      [History, World Regions, Religion, Science, Pe...   \n",
       "...                                                  ...   \n",
       "75900  [People, Science, Citizenship, Science, World ...   \n",
       "75901                                          [History]   \n",
       "75902  [IT, Language and literature, Everyday life, C...   \n",
       "75903                           [World Regions, History]   \n",
       "75904  [People, World Regions, Everyday life, Design ...   \n",
       "\n",
       "                                           Category Path source_maincategory  \\\n",
       "0      [History, History, History, Geography, Geograp...             History   \n",
       "1      [History, World Regions, World Regions, Histor...             History   \n",
       "2      [History, World Regions, World Regions, Histor...             History   \n",
       "3             [History, History, History, World Regions]             History   \n",
       "4      [History, World Regions, Religion, Science, Pe...             History   \n",
       "...                                                  ...                 ...   \n",
       "75900  [People, Science, Citizenship, Science, World ...              People   \n",
       "75901                                          [History]             History   \n",
       "75902  [IT, Language and literature, Everyday life, C...                  IT   \n",
       "75903   [World Regions, World Regions, History, History]       World Regions   \n",
       "75904  [People, World Regions, Everyday life, Design ...              People   \n",
       "\n",
       "      target_maincategory  Wikispeedia_Voyage     type  \n",
       "0                 History                True      NaN  \n",
       "1                 History                True      NaN  \n",
       "2                 History                True      NaN  \n",
       "3           World Regions               False      NaN  \n",
       "4                  People                True      NaN  \n",
       "...                   ...                 ...      ...  \n",
       "75900       World Regions               False  restart  \n",
       "75901             History               False  restart  \n",
       "75902                   <               False  timeout  \n",
       "75903             History               False  timeout  \n",
       "75904                  IT                True  restart  \n",
       "\n",
       "[75905 rows x 18 columns]"
      ]
     },
     "execution_count": 44,
     "metadata": {},
     "output_type": "execute_result"
    }
   ],
   "source": [
    "df_merged"
   ]
  },
  {
   "cell_type": "code",
   "execution_count": 70,
   "metadata": {},
   "outputs": [
    {
     "data": {
      "text/html": [
       "<div>\n",
       "<style scoped>\n",
       "    .dataframe tbody tr th:only-of-type {\n",
       "        vertical-align: middle;\n",
       "    }\n",
       "\n",
       "    .dataframe tbody tr th {\n",
       "        vertical-align: top;\n",
       "    }\n",
       "\n",
       "    .dataframe thead th {\n",
       "        text-align: right;\n",
       "    }\n",
       "</style>\n",
       "<table border=\"1\" class=\"dataframe\">\n",
       "  <thead>\n",
       "    <tr style=\"text-align: right;\">\n",
       "      <th></th>\n",
       "      <th>source_maincategory</th>\n",
       "      <th>target_maincategory</th>\n",
       "      <th>Wikispeedia_Voyage</th>\n",
       "      <th>Category Path</th>\n",
       "      <th>type</th>\n",
       "      <th>intermediate_step</th>\n",
       "      <th>Count</th>\n",
       "    </tr>\n",
       "  </thead>\n",
       "  <tbody>\n",
       "    <tr>\n",
       "      <th>0</th>\n",
       "      <td>Others</td>\n",
       "      <td>Others</td>\n",
       "      <td>True</td>\n",
       "      <td>[History, History, History, Geography, Geograp...</td>\n",
       "      <td>NaN</td>\n",
       "      <td>World Regions</td>\n",
       "      <td>1</td>\n",
       "    </tr>\n",
       "    <tr>\n",
       "      <th>1</th>\n",
       "      <td>Others</td>\n",
       "      <td>Others</td>\n",
       "      <td>True</td>\n",
       "      <td>[History, World Regions, World Regions, Histor...</td>\n",
       "      <td>NaN</td>\n",
       "      <td>World Regions</td>\n",
       "      <td>1</td>\n",
       "    </tr>\n",
       "    <tr>\n",
       "      <th>2</th>\n",
       "      <td>Others</td>\n",
       "      <td>Others</td>\n",
       "      <td>True</td>\n",
       "      <td>[History, World Regions, World Regions, Histor...</td>\n",
       "      <td>NaN</td>\n",
       "      <td>World Regions</td>\n",
       "      <td>1</td>\n",
       "    </tr>\n",
       "    <tr>\n",
       "      <th>3</th>\n",
       "      <td>Others</td>\n",
       "      <td>World Regions</td>\n",
       "      <td>False</td>\n",
       "      <td>[History, History, History, World Regions]</td>\n",
       "      <td>NaN</td>\n",
       "      <td>Others</td>\n",
       "      <td>1</td>\n",
       "    </tr>\n",
       "    <tr>\n",
       "      <th>4</th>\n",
       "      <td>Others</td>\n",
       "      <td>Others</td>\n",
       "      <td>True</td>\n",
       "      <td>[History, World Regions, Religion, Science, Pe...</td>\n",
       "      <td>NaN</td>\n",
       "      <td>World Regions</td>\n",
       "      <td>1</td>\n",
       "    </tr>\n",
       "    <tr>\n",
       "      <th>...</th>\n",
       "      <td>...</td>\n",
       "      <td>...</td>\n",
       "      <td>...</td>\n",
       "      <td>...</td>\n",
       "      <td>...</td>\n",
       "      <td>...</td>\n",
       "      <td>...</td>\n",
       "    </tr>\n",
       "    <tr>\n",
       "      <th>75900</th>\n",
       "      <td>Others</td>\n",
       "      <td>World Regions</td>\n",
       "      <td>False</td>\n",
       "      <td>[People, Science, Citizenship, Science, World ...</td>\n",
       "      <td>restart</td>\n",
       "      <td>World Regions</td>\n",
       "      <td>1</td>\n",
       "    </tr>\n",
       "    <tr>\n",
       "      <th>75901</th>\n",
       "      <td>Others</td>\n",
       "      <td>Others</td>\n",
       "      <td>False</td>\n",
       "      <td>[History]</td>\n",
       "      <td>restart</td>\n",
       "      <td>Others</td>\n",
       "      <td>1</td>\n",
       "    </tr>\n",
       "    <tr>\n",
       "      <th>75902</th>\n",
       "      <td>Others</td>\n",
       "      <td>Others</td>\n",
       "      <td>False</td>\n",
       "      <td>[IT, Language and literature, Everyday life, C...</td>\n",
       "      <td>timeout</td>\n",
       "      <td>Others</td>\n",
       "      <td>1</td>\n",
       "    </tr>\n",
       "    <tr>\n",
       "      <th>75903</th>\n",
       "      <td>World Regions</td>\n",
       "      <td>Others</td>\n",
       "      <td>False</td>\n",
       "      <td>[World Regions, World Regions, History, History]</td>\n",
       "      <td>timeout</td>\n",
       "      <td>World Regions</td>\n",
       "      <td>1</td>\n",
       "    </tr>\n",
       "    <tr>\n",
       "      <th>75904</th>\n",
       "      <td>Others</td>\n",
       "      <td>Others</td>\n",
       "      <td>True</td>\n",
       "      <td>[People, World Regions, Everyday life, Design ...</td>\n",
       "      <td>restart</td>\n",
       "      <td>World Regions</td>\n",
       "      <td>1</td>\n",
       "    </tr>\n",
       "  </tbody>\n",
       "</table>\n",
       "<p>75905 rows × 7 columns</p>\n",
       "</div>"
      ],
      "text/plain": [
       "      source_maincategory target_maincategory  Wikispeedia_Voyage  \\\n",
       "0                  Others              Others                True   \n",
       "1                  Others              Others                True   \n",
       "2                  Others              Others                True   \n",
       "3                  Others       World Regions               False   \n",
       "4                  Others              Others                True   \n",
       "...                   ...                 ...                 ...   \n",
       "75900              Others       World Regions               False   \n",
       "75901              Others              Others               False   \n",
       "75902              Others              Others               False   \n",
       "75903       World Regions              Others               False   \n",
       "75904              Others              Others                True   \n",
       "\n",
       "                                           Category Path     type  \\\n",
       "0      [History, History, History, Geography, Geograp...      NaN   \n",
       "1      [History, World Regions, World Regions, Histor...      NaN   \n",
       "2      [History, World Regions, World Regions, Histor...      NaN   \n",
       "3             [History, History, History, World Regions]      NaN   \n",
       "4      [History, World Regions, Religion, Science, Pe...      NaN   \n",
       "...                                                  ...      ...   \n",
       "75900  [People, Science, Citizenship, Science, World ...  restart   \n",
       "75901                                          [History]  restart   \n",
       "75902  [IT, Language and literature, Everyday life, C...  timeout   \n",
       "75903   [World Regions, World Regions, History, History]  timeout   \n",
       "75904  [People, World Regions, Everyday life, Design ...  restart   \n",
       "\n",
       "      intermediate_step  Count  \n",
       "0         World Regions      1  \n",
       "1         World Regions      1  \n",
       "2         World Regions      1  \n",
       "3                Others      1  \n",
       "4         World Regions      1  \n",
       "...                 ...    ...  \n",
       "75900     World Regions      1  \n",
       "75901            Others      1  \n",
       "75902            Others      1  \n",
       "75903     World Regions      1  \n",
       "75904     World Regions      1  \n",
       "\n",
       "[75905 rows x 7 columns]"
      ]
     },
     "execution_count": 70,
     "metadata": {},
     "output_type": "execute_result"
    }
   ],
   "source": [
    "#  sankey diagram : users paths -----------------------------------------------------------------\n",
    "\n",
    "# get paths data and their voyage status \n",
    "df_merged_ = df_merged.copy()\n",
    "df_merged_=df_merged_[['source_maincategory', 'target_maincategory', 'Wikispeedia_Voyage', 'Category Path', 'type']]\n",
    "\n",
    "# get intermediate step:\n",
    "def process_row(row):\n",
    "    series = row['Category Path']\n",
    "    type_value = row['type']\n",
    "    \n",
    "    if pd.isna(type_value):\n",
    "        # Check excluding the first and last elements\n",
    "        series_to_check = series[1:-1]\n",
    "    else:\n",
    "        # Check excluding the first element\n",
    "        series_to_check = series[1:]\n",
    "    # Check for 'World Regions' in the filtered series\n",
    "    return 'World Regions' if 'World Regions' in series_to_check else 'Others'\n",
    "\n",
    "df_merged_['intermediate_step'] = df_merged_.apply(process_row, axis=1)\n",
    "\n",
    "# Replace source and target categories that are not 'World Regions' to 'Others' \n",
    "df_merged_.loc[df_merged_['source_maincategory']!='World Regions', 'source_maincategory'] = 'Others'\n",
    "df_merged_.loc[df_merged_['target_maincategory']!='World Regions', 'target_maincategory'] = 'Others'\n",
    "df_merged_[\"Count\"] = 1\n",
    "df_merged_"
   ]
  },
  {
   "cell_type": "code",
   "execution_count": 71,
   "metadata": {},
   "outputs": [
    {
     "data": {
      "text/html": [
       "<div>\n",
       "<style scoped>\n",
       "    .dataframe tbody tr th:only-of-type {\n",
       "        vertical-align: middle;\n",
       "    }\n",
       "\n",
       "    .dataframe tbody tr th {\n",
       "        vertical-align: top;\n",
       "    }\n",
       "\n",
       "    .dataframe thead th {\n",
       "        text-align: right;\n",
       "    }\n",
       "</style>\n",
       "<table border=\"1\" class=\"dataframe\">\n",
       "  <thead>\n",
       "    <tr style=\"text-align: right;\">\n",
       "      <th></th>\n",
       "      <th>source</th>\n",
       "      <th>target</th>\n",
       "      <th>count</th>\n",
       "      <th>step</th>\n",
       "      <th>percentage</th>\n",
       "    </tr>\n",
       "  </thead>\n",
       "  <tbody>\n",
       "    <tr>\n",
       "      <th>0</th>\n",
       "      <td>Others</td>\n",
       "      <td>Others</td>\n",
       "      <td>27723</td>\n",
       "      <td>1</td>\n",
       "      <td>36.523286</td>\n",
       "    </tr>\n",
       "    <tr>\n",
       "      <th>1</th>\n",
       "      <td>Others</td>\n",
       "      <td>World Regions</td>\n",
       "      <td>37314</td>\n",
       "      <td>1</td>\n",
       "      <td>49.158817</td>\n",
       "    </tr>\n",
       "    <tr>\n",
       "      <th>2</th>\n",
       "      <td>World Regions</td>\n",
       "      <td>Others</td>\n",
       "      <td>3996</td>\n",
       "      <td>1</td>\n",
       "      <td>5.264475</td>\n",
       "    </tr>\n",
       "    <tr>\n",
       "      <th>3</th>\n",
       "      <td>World Regions</td>\n",
       "      <td>World Regions</td>\n",
       "      <td>6872</td>\n",
       "      <td>1</td>\n",
       "      <td>9.053422</td>\n",
       "    </tr>\n",
       "  </tbody>\n",
       "</table>\n",
       "</div>"
      ],
      "text/plain": [
       "          source         target  count  step  percentage\n",
       "0         Others         Others  27723     1   36.523286\n",
       "1         Others  World Regions  37314     1   49.158817\n",
       "2  World Regions         Others   3996     1    5.264475\n",
       "3  World Regions  World Regions   6872     1    9.053422"
      ]
     },
     "execution_count": 71,
     "metadata": {},
     "output_type": "execute_result"
    }
   ],
   "source": [
    "#The first transition describes the transition fron the source of the path to an intermediate category \n",
    "#count first steps of users paths \n",
    "transitions_1_to_2 = df_merged_.groupby(['source_maincategory', 'intermediate_step']).count().reset_index()\n",
    "transitions_1_to_2_count = transitions_1_to_2[['source_maincategory', 'intermediate_step', 'Count']].rename(columns={'source_maincategory': 'source', 'intermediate_step': 'target', 'Count':'count'})\n",
    "transitions_1_to_2_count['step'] = 1\n",
    "\n",
    "# Calculate percentages within each step\n",
    "transitions_1_to_2_count['percentage'] = transitions_1_to_2_count['count'].transform(lambda x: (x / x.sum()) * 100)\n",
    "\n",
    "transitions_1_to_2_count"
   ]
  },
  {
   "cell_type": "code",
   "execution_count": 72,
   "metadata": {},
   "outputs": [
    {
     "data": {
      "text/html": [
       "<div>\n",
       "<style scoped>\n",
       "    .dataframe tbody tr th:only-of-type {\n",
       "        vertical-align: middle;\n",
       "    }\n",
       "\n",
       "    .dataframe tbody tr th {\n",
       "        vertical-align: top;\n",
       "    }\n",
       "\n",
       "    .dataframe thead th {\n",
       "        text-align: right;\n",
       "    }\n",
       "</style>\n",
       "<table border=\"1\" class=\"dataframe\">\n",
       "  <thead>\n",
       "    <tr style=\"text-align: right;\">\n",
       "      <th></th>\n",
       "      <th>source</th>\n",
       "      <th>target</th>\n",
       "      <th>count</th>\n",
       "      <th>step</th>\n",
       "      <th>percentage</th>\n",
       "    </tr>\n",
       "  </thead>\n",
       "  <tbody>\n",
       "    <tr>\n",
       "      <th>0</th>\n",
       "      <td>Others</td>\n",
       "      <td>Others</td>\n",
       "      <td>29824</td>\n",
       "      <td>2</td>\n",
       "      <td>39.291219</td>\n",
       "    </tr>\n",
       "    <tr>\n",
       "      <th>1</th>\n",
       "      <td>Others</td>\n",
       "      <td>World Regions</td>\n",
       "      <td>1895</td>\n",
       "      <td>2</td>\n",
       "      <td>2.496542</td>\n",
       "    </tr>\n",
       "    <tr>\n",
       "      <th>2</th>\n",
       "      <td>World Regions</td>\n",
       "      <td>Others</td>\n",
       "      <td>30772</td>\n",
       "      <td>2</td>\n",
       "      <td>40.540149</td>\n",
       "    </tr>\n",
       "    <tr>\n",
       "      <th>3</th>\n",
       "      <td>World Regions</td>\n",
       "      <td>World Regions</td>\n",
       "      <td>13414</td>\n",
       "      <td>2</td>\n",
       "      <td>17.672090</td>\n",
       "    </tr>\n",
       "  </tbody>\n",
       "</table>\n",
       "</div>"
      ],
      "text/plain": [
       "          source         target  count  step  percentage\n",
       "0         Others         Others  29824     2   39.291219\n",
       "1         Others  World Regions   1895     2    2.496542\n",
       "2  World Regions         Others  30772     2   40.540149\n",
       "3  World Regions  World Regions  13414     2   17.672090"
      ]
     },
     "execution_count": 72,
     "metadata": {},
     "output_type": "execute_result"
    }
   ],
   "source": [
    "#The second transition describes the transition fron the intermediate of the path tothe target category \n",
    "#count first steps of users paths \n",
    "transitions_2_to_3 = df_merged_.groupby(['intermediate_step', 'target_maincategory']).count().reset_index()\n",
    "transitions_2_to_3_count = transitions_2_to_3[['intermediate_step', 'target_maincategory', 'Count']].rename(columns={'intermediate_step': 'source', 'target_maincategory': 'target', 'Count':'count'})\n",
    "transitions_2_to_3_count['step'] = 2\n",
    "\n",
    "# Calculate percentages within each step\n",
    "transitions_2_to_3_count['percentage'] = transitions_2_to_3_count['count'].transform(lambda x: (x / x.sum()) * 100)\n",
    "\n",
    "transitions_2_to_3_count"
   ]
  },
  {
   "cell_type": "code",
   "execution_count": 73,
   "metadata": {},
   "outputs": [
    {
     "data": {
      "text/html": [
       "<div>\n",
       "<style scoped>\n",
       "    .dataframe tbody tr th:only-of-type {\n",
       "        vertical-align: middle;\n",
       "    }\n",
       "\n",
       "    .dataframe tbody tr th {\n",
       "        vertical-align: top;\n",
       "    }\n",
       "\n",
       "    .dataframe thead th {\n",
       "        text-align: right;\n",
       "    }\n",
       "</style>\n",
       "<table border=\"1\" class=\"dataframe\">\n",
       "  <thead>\n",
       "    <tr style=\"text-align: right;\">\n",
       "      <th></th>\n",
       "      <th>source</th>\n",
       "      <th>target</th>\n",
       "      <th>count</th>\n",
       "      <th>step</th>\n",
       "      <th>percentage</th>\n",
       "    </tr>\n",
       "  </thead>\n",
       "  <tbody>\n",
       "    <tr>\n",
       "      <th>0</th>\n",
       "      <td>Others</td>\n",
       "      <td>Others</td>\n",
       "      <td>27723</td>\n",
       "      <td>1</td>\n",
       "      <td>36.523286</td>\n",
       "    </tr>\n",
       "    <tr>\n",
       "      <th>1</th>\n",
       "      <td>Others</td>\n",
       "      <td>World Regions</td>\n",
       "      <td>37314</td>\n",
       "      <td>1</td>\n",
       "      <td>49.158817</td>\n",
       "    </tr>\n",
       "    <tr>\n",
       "      <th>2</th>\n",
       "      <td>World Regions</td>\n",
       "      <td>Others</td>\n",
       "      <td>3996</td>\n",
       "      <td>1</td>\n",
       "      <td>5.264475</td>\n",
       "    </tr>\n",
       "    <tr>\n",
       "      <th>3</th>\n",
       "      <td>World Regions</td>\n",
       "      <td>World Regions</td>\n",
       "      <td>6872</td>\n",
       "      <td>1</td>\n",
       "      <td>9.053422</td>\n",
       "    </tr>\n",
       "    <tr>\n",
       "      <th>0</th>\n",
       "      <td>Others</td>\n",
       "      <td>Others</td>\n",
       "      <td>29824</td>\n",
       "      <td>2</td>\n",
       "      <td>39.291219</td>\n",
       "    </tr>\n",
       "    <tr>\n",
       "      <th>1</th>\n",
       "      <td>Others</td>\n",
       "      <td>World Regions</td>\n",
       "      <td>1895</td>\n",
       "      <td>2</td>\n",
       "      <td>2.496542</td>\n",
       "    </tr>\n",
       "    <tr>\n",
       "      <th>2</th>\n",
       "      <td>World Regions</td>\n",
       "      <td>Others</td>\n",
       "      <td>30772</td>\n",
       "      <td>2</td>\n",
       "      <td>40.540149</td>\n",
       "    </tr>\n",
       "    <tr>\n",
       "      <th>3</th>\n",
       "      <td>World Regions</td>\n",
       "      <td>World Regions</td>\n",
       "      <td>13414</td>\n",
       "      <td>2</td>\n",
       "      <td>17.672090</td>\n",
       "    </tr>\n",
       "  </tbody>\n",
       "</table>\n",
       "</div>"
      ],
      "text/plain": [
       "          source         target  count  step  percentage\n",
       "0         Others         Others  27723     1   36.523286\n",
       "1         Others  World Regions  37314     1   49.158817\n",
       "2  World Regions         Others   3996     1    5.264475\n",
       "3  World Regions  World Regions   6872     1    9.053422\n",
       "0         Others         Others  29824     2   39.291219\n",
       "1         Others  World Regions   1895     2    2.496542\n",
       "2  World Regions         Others  30772     2   40.540149\n",
       "3  World Regions  World Regions  13414     2   17.672090"
      ]
     },
     "execution_count": 73,
     "metadata": {},
     "output_type": "execute_result"
    }
   ],
   "source": [
    "final_sankey_transitions=pd.concat([transitions_1_to_2_count, transitions_2_to_3_count])\n",
    "final_sankey_transitions"
   ]
  },
  {
   "cell_type": "code",
   "execution_count": 74,
   "metadata": {},
   "outputs": [
    {
     "data": {
      "text/html": [
       "<div>\n",
       "<style scoped>\n",
       "    .dataframe tbody tr th:only-of-type {\n",
       "        vertical-align: middle;\n",
       "    }\n",
       "\n",
       "    .dataframe tbody tr th {\n",
       "        vertical-align: top;\n",
       "    }\n",
       "\n",
       "    .dataframe thead th {\n",
       "        text-align: right;\n",
       "    }\n",
       "</style>\n",
       "<table border=\"1\" class=\"dataframe\">\n",
       "  <thead>\n",
       "    <tr style=\"text-align: right;\">\n",
       "      <th></th>\n",
       "      <th>source</th>\n",
       "      <th>target</th>\n",
       "      <th>count</th>\n",
       "      <th>step</th>\n",
       "      <th>percentage</th>\n",
       "    </tr>\n",
       "  </thead>\n",
       "  <tbody>\n",
       "    <tr>\n",
       "      <th>0</th>\n",
       "      <td>Others</td>\n",
       "      <td>Others</td>\n",
       "      <td>27723</td>\n",
       "      <td>1</td>\n",
       "      <td>36.523286</td>\n",
       "    </tr>\n",
       "    <tr>\n",
       "      <th>1</th>\n",
       "      <td>Others</td>\n",
       "      <td>World Regions</td>\n",
       "      <td>37314</td>\n",
       "      <td>1</td>\n",
       "      <td>49.158817</td>\n",
       "    </tr>\n",
       "    <tr>\n",
       "      <th>2</th>\n",
       "      <td>World Regions</td>\n",
       "      <td>Others</td>\n",
       "      <td>3996</td>\n",
       "      <td>1</td>\n",
       "      <td>5.264475</td>\n",
       "    </tr>\n",
       "    <tr>\n",
       "      <th>3</th>\n",
       "      <td>World Regions</td>\n",
       "      <td>World Regions</td>\n",
       "      <td>6872</td>\n",
       "      <td>1</td>\n",
       "      <td>9.053422</td>\n",
       "    </tr>\n",
       "    <tr>\n",
       "      <th>0</th>\n",
       "      <td>Others</td>\n",
       "      <td>Others</td>\n",
       "      <td>29824</td>\n",
       "      <td>2</td>\n",
       "      <td>39.291219</td>\n",
       "    </tr>\n",
       "    <tr>\n",
       "      <th>1</th>\n",
       "      <td>Others</td>\n",
       "      <td>World Regions</td>\n",
       "      <td>1895</td>\n",
       "      <td>2</td>\n",
       "      <td>2.496542</td>\n",
       "    </tr>\n",
       "    <tr>\n",
       "      <th>2</th>\n",
       "      <td>World Regions</td>\n",
       "      <td>Others</td>\n",
       "      <td>30772</td>\n",
       "      <td>2</td>\n",
       "      <td>40.540149</td>\n",
       "    </tr>\n",
       "    <tr>\n",
       "      <th>3</th>\n",
       "      <td>World Regions</td>\n",
       "      <td>World Regions</td>\n",
       "      <td>13414</td>\n",
       "      <td>2</td>\n",
       "      <td>17.672090</td>\n",
       "    </tr>\n",
       "  </tbody>\n",
       "</table>\n",
       "</div>"
      ],
      "text/plain": [
       "          source         target  count  step  percentage\n",
       "0         Others         Others  27723     1   36.523286\n",
       "1         Others  World Regions  37314     1   49.158817\n",
       "2  World Regions         Others   3996     1    5.264475\n",
       "3  World Regions  World Regions   6872     1    9.053422\n",
       "0         Others         Others  29824     2   39.291219\n",
       "1         Others  World Regions   1895     2    2.496542\n",
       "2  World Regions         Others  30772     2   40.540149\n",
       "3  World Regions  World Regions  13414     2   17.672090"
      ]
     },
     "execution_count": 74,
     "metadata": {},
     "output_type": "execute_result"
    }
   ],
   "source": [
    "# Calculate percentages within each step\n",
    "final_sankey_transitions['percentage'] = (\n",
    "    final_sankey_transitions.groupby('step')['count']\n",
    "    .transform(lambda x: (x / x.sum()) * 100)\n",
    ")\n",
    "\n",
    "final_sankey_transitions"
   ]
  },
  {
   "cell_type": "code",
   "execution_count": 77,
   "metadata": {},
   "outputs": [
    {
     "data": {
      "text/html": [
       "<div>\n",
       "<style scoped>\n",
       "    .dataframe tbody tr th:only-of-type {\n",
       "        vertical-align: middle;\n",
       "    }\n",
       "\n",
       "    .dataframe tbody tr th {\n",
       "        vertical-align: top;\n",
       "    }\n",
       "\n",
       "    .dataframe thead th {\n",
       "        text-align: right;\n",
       "    }\n",
       "</style>\n",
       "<table border=\"1\" class=\"dataframe\">\n",
       "  <thead>\n",
       "    <tr style=\"text-align: right;\">\n",
       "      <th></th>\n",
       "      <th>source</th>\n",
       "      <th>target</th>\n",
       "      <th>count</th>\n",
       "      <th>step</th>\n",
       "      <th>percentage</th>\n",
       "      <th>source_label</th>\n",
       "      <th>target_label</th>\n",
       "      <th>source_index</th>\n",
       "      <th>target_index</th>\n",
       "    </tr>\n",
       "  </thead>\n",
       "  <tbody>\n",
       "    <tr>\n",
       "      <th>0</th>\n",
       "      <td>Others</td>\n",
       "      <td>Others</td>\n",
       "      <td>27723</td>\n",
       "      <td>1</td>\n",
       "      <td>36.523286</td>\n",
       "      <td>Start - Others</td>\n",
       "      <td>Path - Others</td>\n",
       "      <td>0</td>\n",
       "      <td>2</td>\n",
       "    </tr>\n",
       "    <tr>\n",
       "      <th>1</th>\n",
       "      <td>Others</td>\n",
       "      <td>World Regions</td>\n",
       "      <td>37314</td>\n",
       "      <td>1</td>\n",
       "      <td>49.158817</td>\n",
       "      <td>Start - Others</td>\n",
       "      <td>Path - World Regions</td>\n",
       "      <td>0</td>\n",
       "      <td>3</td>\n",
       "    </tr>\n",
       "    <tr>\n",
       "      <th>2</th>\n",
       "      <td>World Regions</td>\n",
       "      <td>Others</td>\n",
       "      <td>3996</td>\n",
       "      <td>1</td>\n",
       "      <td>5.264475</td>\n",
       "      <td>Start - World Regions</td>\n",
       "      <td>Path - Others</td>\n",
       "      <td>1</td>\n",
       "      <td>2</td>\n",
       "    </tr>\n",
       "    <tr>\n",
       "      <th>3</th>\n",
       "      <td>World Regions</td>\n",
       "      <td>World Regions</td>\n",
       "      <td>6872</td>\n",
       "      <td>1</td>\n",
       "      <td>9.053422</td>\n",
       "      <td>Start - World Regions</td>\n",
       "      <td>Path - World Regions</td>\n",
       "      <td>1</td>\n",
       "      <td>3</td>\n",
       "    </tr>\n",
       "    <tr>\n",
       "      <th>0</th>\n",
       "      <td>Others</td>\n",
       "      <td>Others</td>\n",
       "      <td>29824</td>\n",
       "      <td>2</td>\n",
       "      <td>39.291219</td>\n",
       "      <td>Path - Others</td>\n",
       "      <td>Target - Others</td>\n",
       "      <td>2</td>\n",
       "      <td>4</td>\n",
       "    </tr>\n",
       "    <tr>\n",
       "      <th>1</th>\n",
       "      <td>Others</td>\n",
       "      <td>World Regions</td>\n",
       "      <td>1895</td>\n",
       "      <td>2</td>\n",
       "      <td>2.496542</td>\n",
       "      <td>Path - Others</td>\n",
       "      <td>Target - World Regions</td>\n",
       "      <td>2</td>\n",
       "      <td>5</td>\n",
       "    </tr>\n",
       "    <tr>\n",
       "      <th>2</th>\n",
       "      <td>World Regions</td>\n",
       "      <td>Others</td>\n",
       "      <td>30772</td>\n",
       "      <td>2</td>\n",
       "      <td>40.540149</td>\n",
       "      <td>Path - World Regions</td>\n",
       "      <td>Target - Others</td>\n",
       "      <td>3</td>\n",
       "      <td>4</td>\n",
       "    </tr>\n",
       "    <tr>\n",
       "      <th>3</th>\n",
       "      <td>World Regions</td>\n",
       "      <td>World Regions</td>\n",
       "      <td>13414</td>\n",
       "      <td>2</td>\n",
       "      <td>17.672090</td>\n",
       "      <td>Path - World Regions</td>\n",
       "      <td>Target - World Regions</td>\n",
       "      <td>3</td>\n",
       "      <td>5</td>\n",
       "    </tr>\n",
       "  </tbody>\n",
       "</table>\n",
       "</div>"
      ],
      "text/plain": [
       "          source         target  count  step  percentage  \\\n",
       "0         Others         Others  27723     1   36.523286   \n",
       "1         Others  World Regions  37314     1   49.158817   \n",
       "2  World Regions         Others   3996     1    5.264475   \n",
       "3  World Regions  World Regions   6872     1    9.053422   \n",
       "0         Others         Others  29824     2   39.291219   \n",
       "1         Others  World Regions   1895     2    2.496542   \n",
       "2  World Regions         Others  30772     2   40.540149   \n",
       "3  World Regions  World Regions  13414     2   17.672090   \n",
       "\n",
       "            source_label            target_label  source_index  target_index  \n",
       "0         Start - Others           Path - Others             0             2  \n",
       "1         Start - Others    Path - World Regions             0             3  \n",
       "2  Start - World Regions           Path - Others             1             2  \n",
       "3  Start - World Regions    Path - World Regions             1             3  \n",
       "0          Path - Others         Target - Others             2             4  \n",
       "1          Path - Others  Target - World Regions             2             5  \n",
       "2   Path - World Regions         Target - Others             3             4  \n",
       "3   Path - World Regions  Target - World Regions             3             5  "
      ]
     },
     "execution_count": 77,
     "metadata": {},
     "output_type": "execute_result"
    }
   ],
   "source": [
    "df = final_sankey_transitions.copy()\n",
    "\n",
    "# Step 1: Modify source and target labels based on step\n",
    "df['source_label'] = df.apply(lambda row: f\"Start - {row['source']}\" if row['step'] == 1 else f\"Path - {row['source']}\", axis=1)\n",
    "df['target_label'] = df.apply(lambda row: f\"Path - {row['target']}\" if row['step'] == 1 else f\"Target - {row['target']}\", axis=1)\n",
    "\n",
    "# Step 2: Create a unique list of all nodes\n",
    "all_nodes = pd.concat([df['source_label'], df['target_label']]).unique()\n",
    "node_mapping = {node: i for i, node in enumerate(all_nodes)}\n",
    "\n",
    "# Step 3: Map nodes to indices\n",
    "df['source_index'] = df['source_label'].map(node_mapping)\n",
    "df['target_index'] = df['target_label'].map(node_mapping)\n",
    "\n",
    "# Step 4: Prepare Sankey inputs\n",
    "sources = df['source_index']\n",
    "targets = df['target_index']\n",
    "values = df['percentage']\n",
    "\n",
    "\n",
    "df"
   ]
  },
  {
   "cell_type": "code",
   "execution_count": null,
   "metadata": {},
   "outputs": [],
   "source": [
    "# finaly we stop the idea but for really obtain the good percentage for the flow voyages you need to soutraire le percentage de start world regions who go to others and the percentage of others who go to target world\n",
    "# aka the two layers are independant and we need to soustract the percentage of the first layer to the percentage of the second layer"
   ]
  },
  {
   "cell_type": "code",
   "execution_count": 78,
   "metadata": {},
   "outputs": [
    {
     "data": {
      "application/vnd.plotly.v1+json": {
       "config": {
        "plotlyServerURL": "https://plot.ly"
       },
       "data": [
        {
         "link": {
          "color": [
           "lightblue",
           "orange",
           "lightblue",
           "lightblue",
           "lightblue",
           "lightblue",
           "orange",
           "lightblue"
          ],
          "source": [
           0,
           0,
           1,
           1,
           2,
           2,
           3,
           3
          ],
          "target": [
           2,
           3,
           2,
           3,
           4,
           5,
           4,
           5
          ],
          "value": [
           36.52328568605493,
           49.15881694223042,
           5.264475331005863,
           9.053422040708782,
           39.291219287266976,
           2.496541729793821,
           40.540148870298395,
           17.672090112640802
          ]
         },
         "node": {
          "color": [
           "blue",
           "green",
           "blue",
           "green",
           "blue",
           "green"
          ],
          "label": [
           "Start - Others",
           "Start - World Regions",
           "Path - Others",
           "Path - World Regions",
           "Target - Others",
           "Target - World Regions"
          ],
          "pad": 15,
          "thickness": 20
         },
         "type": "sankey"
        }
       ],
       "layout": {
        "font": {
         "size": 12
        },
        "template": {
         "data": {
          "bar": [
           {
            "error_x": {
             "color": "#2a3f5f"
            },
            "error_y": {
             "color": "#2a3f5f"
            },
            "marker": {
             "line": {
              "color": "#E5ECF6",
              "width": 0.5
             },
             "pattern": {
              "fillmode": "overlay",
              "size": 10,
              "solidity": 0.2
             }
            },
            "type": "bar"
           }
          ],
          "barpolar": [
           {
            "marker": {
             "line": {
              "color": "#E5ECF6",
              "width": 0.5
             },
             "pattern": {
              "fillmode": "overlay",
              "size": 10,
              "solidity": 0.2
             }
            },
            "type": "barpolar"
           }
          ],
          "carpet": [
           {
            "aaxis": {
             "endlinecolor": "#2a3f5f",
             "gridcolor": "white",
             "linecolor": "white",
             "minorgridcolor": "white",
             "startlinecolor": "#2a3f5f"
            },
            "baxis": {
             "endlinecolor": "#2a3f5f",
             "gridcolor": "white",
             "linecolor": "white",
             "minorgridcolor": "white",
             "startlinecolor": "#2a3f5f"
            },
            "type": "carpet"
           }
          ],
          "choropleth": [
           {
            "colorbar": {
             "outlinewidth": 0,
             "ticks": ""
            },
            "type": "choropleth"
           }
          ],
          "contour": [
           {
            "colorbar": {
             "outlinewidth": 0,
             "ticks": ""
            },
            "colorscale": [
             [
              0,
              "#0d0887"
             ],
             [
              0.1111111111111111,
              "#46039f"
             ],
             [
              0.2222222222222222,
              "#7201a8"
             ],
             [
              0.3333333333333333,
              "#9c179e"
             ],
             [
              0.4444444444444444,
              "#bd3786"
             ],
             [
              0.5555555555555556,
              "#d8576b"
             ],
             [
              0.6666666666666666,
              "#ed7953"
             ],
             [
              0.7777777777777778,
              "#fb9f3a"
             ],
             [
              0.8888888888888888,
              "#fdca26"
             ],
             [
              1,
              "#f0f921"
             ]
            ],
            "type": "contour"
           }
          ],
          "contourcarpet": [
           {
            "colorbar": {
             "outlinewidth": 0,
             "ticks": ""
            },
            "type": "contourcarpet"
           }
          ],
          "heatmap": [
           {
            "colorbar": {
             "outlinewidth": 0,
             "ticks": ""
            },
            "colorscale": [
             [
              0,
              "#0d0887"
             ],
             [
              0.1111111111111111,
              "#46039f"
             ],
             [
              0.2222222222222222,
              "#7201a8"
             ],
             [
              0.3333333333333333,
              "#9c179e"
             ],
             [
              0.4444444444444444,
              "#bd3786"
             ],
             [
              0.5555555555555556,
              "#d8576b"
             ],
             [
              0.6666666666666666,
              "#ed7953"
             ],
             [
              0.7777777777777778,
              "#fb9f3a"
             ],
             [
              0.8888888888888888,
              "#fdca26"
             ],
             [
              1,
              "#f0f921"
             ]
            ],
            "type": "heatmap"
           }
          ],
          "heatmapgl": [
           {
            "colorbar": {
             "outlinewidth": 0,
             "ticks": ""
            },
            "colorscale": [
             [
              0,
              "#0d0887"
             ],
             [
              0.1111111111111111,
              "#46039f"
             ],
             [
              0.2222222222222222,
              "#7201a8"
             ],
             [
              0.3333333333333333,
              "#9c179e"
             ],
             [
              0.4444444444444444,
              "#bd3786"
             ],
             [
              0.5555555555555556,
              "#d8576b"
             ],
             [
              0.6666666666666666,
              "#ed7953"
             ],
             [
              0.7777777777777778,
              "#fb9f3a"
             ],
             [
              0.8888888888888888,
              "#fdca26"
             ],
             [
              1,
              "#f0f921"
             ]
            ],
            "type": "heatmapgl"
           }
          ],
          "histogram": [
           {
            "marker": {
             "pattern": {
              "fillmode": "overlay",
              "size": 10,
              "solidity": 0.2
             }
            },
            "type": "histogram"
           }
          ],
          "histogram2d": [
           {
            "colorbar": {
             "outlinewidth": 0,
             "ticks": ""
            },
            "colorscale": [
             [
              0,
              "#0d0887"
             ],
             [
              0.1111111111111111,
              "#46039f"
             ],
             [
              0.2222222222222222,
              "#7201a8"
             ],
             [
              0.3333333333333333,
              "#9c179e"
             ],
             [
              0.4444444444444444,
              "#bd3786"
             ],
             [
              0.5555555555555556,
              "#d8576b"
             ],
             [
              0.6666666666666666,
              "#ed7953"
             ],
             [
              0.7777777777777778,
              "#fb9f3a"
             ],
             [
              0.8888888888888888,
              "#fdca26"
             ],
             [
              1,
              "#f0f921"
             ]
            ],
            "type": "histogram2d"
           }
          ],
          "histogram2dcontour": [
           {
            "colorbar": {
             "outlinewidth": 0,
             "ticks": ""
            },
            "colorscale": [
             [
              0,
              "#0d0887"
             ],
             [
              0.1111111111111111,
              "#46039f"
             ],
             [
              0.2222222222222222,
              "#7201a8"
             ],
             [
              0.3333333333333333,
              "#9c179e"
             ],
             [
              0.4444444444444444,
              "#bd3786"
             ],
             [
              0.5555555555555556,
              "#d8576b"
             ],
             [
              0.6666666666666666,
              "#ed7953"
             ],
             [
              0.7777777777777778,
              "#fb9f3a"
             ],
             [
              0.8888888888888888,
              "#fdca26"
             ],
             [
              1,
              "#f0f921"
             ]
            ],
            "type": "histogram2dcontour"
           }
          ],
          "mesh3d": [
           {
            "colorbar": {
             "outlinewidth": 0,
             "ticks": ""
            },
            "type": "mesh3d"
           }
          ],
          "parcoords": [
           {
            "line": {
             "colorbar": {
              "outlinewidth": 0,
              "ticks": ""
             }
            },
            "type": "parcoords"
           }
          ],
          "pie": [
           {
            "automargin": true,
            "type": "pie"
           }
          ],
          "scatter": [
           {
            "fillpattern": {
             "fillmode": "overlay",
             "size": 10,
             "solidity": 0.2
            },
            "type": "scatter"
           }
          ],
          "scatter3d": [
           {
            "line": {
             "colorbar": {
              "outlinewidth": 0,
              "ticks": ""
             }
            },
            "marker": {
             "colorbar": {
              "outlinewidth": 0,
              "ticks": ""
             }
            },
            "type": "scatter3d"
           }
          ],
          "scattercarpet": [
           {
            "marker": {
             "colorbar": {
              "outlinewidth": 0,
              "ticks": ""
             }
            },
            "type": "scattercarpet"
           }
          ],
          "scattergeo": [
           {
            "marker": {
             "colorbar": {
              "outlinewidth": 0,
              "ticks": ""
             }
            },
            "type": "scattergeo"
           }
          ],
          "scattergl": [
           {
            "marker": {
             "colorbar": {
              "outlinewidth": 0,
              "ticks": ""
             }
            },
            "type": "scattergl"
           }
          ],
          "scattermapbox": [
           {
            "marker": {
             "colorbar": {
              "outlinewidth": 0,
              "ticks": ""
             }
            },
            "type": "scattermapbox"
           }
          ],
          "scatterpolar": [
           {
            "marker": {
             "colorbar": {
              "outlinewidth": 0,
              "ticks": ""
             }
            },
            "type": "scatterpolar"
           }
          ],
          "scatterpolargl": [
           {
            "marker": {
             "colorbar": {
              "outlinewidth": 0,
              "ticks": ""
             }
            },
            "type": "scatterpolargl"
           }
          ],
          "scatterternary": [
           {
            "marker": {
             "colorbar": {
              "outlinewidth": 0,
              "ticks": ""
             }
            },
            "type": "scatterternary"
           }
          ],
          "surface": [
           {
            "colorbar": {
             "outlinewidth": 0,
             "ticks": ""
            },
            "colorscale": [
             [
              0,
              "#0d0887"
             ],
             [
              0.1111111111111111,
              "#46039f"
             ],
             [
              0.2222222222222222,
              "#7201a8"
             ],
             [
              0.3333333333333333,
              "#9c179e"
             ],
             [
              0.4444444444444444,
              "#bd3786"
             ],
             [
              0.5555555555555556,
              "#d8576b"
             ],
             [
              0.6666666666666666,
              "#ed7953"
             ],
             [
              0.7777777777777778,
              "#fb9f3a"
             ],
             [
              0.8888888888888888,
              "#fdca26"
             ],
             [
              1,
              "#f0f921"
             ]
            ],
            "type": "surface"
           }
          ],
          "table": [
           {
            "cells": {
             "fill": {
              "color": "#EBF0F8"
             },
             "line": {
              "color": "white"
             }
            },
            "header": {
             "fill": {
              "color": "#C8D4E3"
             },
             "line": {
              "color": "white"
             }
            },
            "type": "table"
           }
          ]
         },
         "layout": {
          "annotationdefaults": {
           "arrowcolor": "#2a3f5f",
           "arrowhead": 0,
           "arrowwidth": 1
          },
          "autotypenumbers": "strict",
          "coloraxis": {
           "colorbar": {
            "outlinewidth": 0,
            "ticks": ""
           }
          },
          "colorscale": {
           "diverging": [
            [
             0,
             "#8e0152"
            ],
            [
             0.1,
             "#c51b7d"
            ],
            [
             0.2,
             "#de77ae"
            ],
            [
             0.3,
             "#f1b6da"
            ],
            [
             0.4,
             "#fde0ef"
            ],
            [
             0.5,
             "#f7f7f7"
            ],
            [
             0.6,
             "#e6f5d0"
            ],
            [
             0.7,
             "#b8e186"
            ],
            [
             0.8,
             "#7fbc41"
            ],
            [
             0.9,
             "#4d9221"
            ],
            [
             1,
             "#276419"
            ]
           ],
           "sequential": [
            [
             0,
             "#0d0887"
            ],
            [
             0.1111111111111111,
             "#46039f"
            ],
            [
             0.2222222222222222,
             "#7201a8"
            ],
            [
             0.3333333333333333,
             "#9c179e"
            ],
            [
             0.4444444444444444,
             "#bd3786"
            ],
            [
             0.5555555555555556,
             "#d8576b"
            ],
            [
             0.6666666666666666,
             "#ed7953"
            ],
            [
             0.7777777777777778,
             "#fb9f3a"
            ],
            [
             0.8888888888888888,
             "#fdca26"
            ],
            [
             1,
             "#f0f921"
            ]
           ],
           "sequentialminus": [
            [
             0,
             "#0d0887"
            ],
            [
             0.1111111111111111,
             "#46039f"
            ],
            [
             0.2222222222222222,
             "#7201a8"
            ],
            [
             0.3333333333333333,
             "#9c179e"
            ],
            [
             0.4444444444444444,
             "#bd3786"
            ],
            [
             0.5555555555555556,
             "#d8576b"
            ],
            [
             0.6666666666666666,
             "#ed7953"
            ],
            [
             0.7777777777777778,
             "#fb9f3a"
            ],
            [
             0.8888888888888888,
             "#fdca26"
            ],
            [
             1,
             "#f0f921"
            ]
           ]
          },
          "colorway": [
           "#636efa",
           "#EF553B",
           "#00cc96",
           "#ab63fa",
           "#FFA15A",
           "#19d3f3",
           "#FF6692",
           "#B6E880",
           "#FF97FF",
           "#FECB52"
          ],
          "font": {
           "color": "#2a3f5f"
          },
          "geo": {
           "bgcolor": "white",
           "lakecolor": "white",
           "landcolor": "#E5ECF6",
           "showlakes": true,
           "showland": true,
           "subunitcolor": "white"
          },
          "hoverlabel": {
           "align": "left"
          },
          "hovermode": "closest",
          "mapbox": {
           "style": "light"
          },
          "paper_bgcolor": "white",
          "plot_bgcolor": "#E5ECF6",
          "polar": {
           "angularaxis": {
            "gridcolor": "white",
            "linecolor": "white",
            "ticks": ""
           },
           "bgcolor": "#E5ECF6",
           "radialaxis": {
            "gridcolor": "white",
            "linecolor": "white",
            "ticks": ""
           }
          },
          "scene": {
           "xaxis": {
            "backgroundcolor": "#E5ECF6",
            "gridcolor": "white",
            "gridwidth": 2,
            "linecolor": "white",
            "showbackground": true,
            "ticks": "",
            "zerolinecolor": "white"
           },
           "yaxis": {
            "backgroundcolor": "#E5ECF6",
            "gridcolor": "white",
            "gridwidth": 2,
            "linecolor": "white",
            "showbackground": true,
            "ticks": "",
            "zerolinecolor": "white"
           },
           "zaxis": {
            "backgroundcolor": "#E5ECF6",
            "gridcolor": "white",
            "gridwidth": 2,
            "linecolor": "white",
            "showbackground": true,
            "ticks": "",
            "zerolinecolor": "white"
           }
          },
          "shapedefaults": {
           "line": {
            "color": "#2a3f5f"
           }
          },
          "ternary": {
           "aaxis": {
            "gridcolor": "white",
            "linecolor": "white",
            "ticks": ""
           },
           "baxis": {
            "gridcolor": "white",
            "linecolor": "white",
            "ticks": ""
           },
           "bgcolor": "#E5ECF6",
           "caxis": {
            "gridcolor": "white",
            "linecolor": "white",
            "ticks": ""
           }
          },
          "title": {
           "x": 0.05
          },
          "xaxis": {
           "automargin": true,
           "gridcolor": "white",
           "linecolor": "white",
           "ticks": "",
           "title": {
            "standoff": 15
           },
           "zerolinecolor": "white",
           "zerolinewidth": 2
          },
          "yaxis": {
           "automargin": true,
           "gridcolor": "white",
           "linecolor": "white",
           "ticks": "",
           "title": {
            "standoff": 15
           },
           "zerolinecolor": "white",
           "zerolinewidth": 2
          }
         }
        },
        "title": {
         "text": "Highlighting the Path: Others → World Regions → Others"
        }
       }
      }
     },
     "metadata": {},
     "output_type": "display_data"
    }
   ],
   "source": [
    "import plotly.graph_objects as go\n",
    "\n",
    "# Define the links and highlight the specific path\n",
    "links = dict(\n",
    "    source= sources,  # Source nodes\n",
    "    target= targets,  # Target nodes\n",
    "    value= values,  # Flow values\n",
    "    color=[\n",
    "        \"lightblue\", \"orange\", \n",
    "        \"lightblue\", \"lightblue\",     \n",
    "        \"lightblue\", \"lightblue\",   \n",
    "        \"orange\", \"lightblue\"   \n",
    "    ]\n",
    ")\n",
    "\n",
    "# Create the Sankey diagram\n",
    "fig = go.Figure(go.Sankey(\n",
    "    node=dict(\n",
    "        pad=15, thickness=20,\n",
    "        label=list(node_mapping.keys()),  # Dynamically generate node labels\n",
    "        color=[\"blue\", \"green\", \"blue\", \"green\", \"blue\", \"green\"]\n",
    "    ),\n",
    "    link=dict(\n",
    "        source=links['source'],\n",
    "        target=links['target'],\n",
    "        value=links['value'],\n",
    "        color=links['color']  # Custom colors for highlighting\n",
    "    )\n",
    "))\n",
    "\n",
    "# Update layout\n",
    "fig.update_layout(title_text=\"Highlighting the Path: Others → World Regions → Others\", font_size=12)\n",
    "fig.show()"
   ]
  },
  {
   "cell_type": "markdown",
   "metadata": {},
   "source": [
    "### Example brut"
   ]
  },
  {
   "cell_type": "code",
   "execution_count": 15,
   "metadata": {},
   "outputs": [
    {
     "data": {
      "application/vnd.plotly.v1+json": {
       "config": {
        "plotlyServerURL": "https://plot.ly"
       },
       "data": [
        {
         "link": {
          "color": [
           "lightblue",
           "lightblue",
           "orange",
           "lightblue",
           "lightblue",
           "orange",
           "lightblue",
           "lightblue"
          ],
          "source": [
           0,
           0,
           1,
           1,
           2,
           2,
           3,
           3
          ],
          "target": [
           2,
           3,
           2,
           3,
           4,
           5,
           4,
           5
          ],
          "value": [
           50,
           20,
           10,
           20,
           40,
           10,
           15,
           15
          ]
         },
         "node": {
          "color": [
           "blue",
           "green",
           "blue",
           "green",
           "blue",
           "green"
          ],
          "label": [
           "Start - World Regions",
           "Start - Others",
           "Path - World Regions",
           "Path - Others",
           "Target - World Regions",
           "Target - Others"
          ],
          "pad": 15,
          "thickness": 20
         },
         "type": "sankey"
        }
       ],
       "layout": {
        "font": {
         "size": 12
        },
        "template": {
         "data": {
          "bar": [
           {
            "error_x": {
             "color": "#2a3f5f"
            },
            "error_y": {
             "color": "#2a3f5f"
            },
            "marker": {
             "line": {
              "color": "#E5ECF6",
              "width": 0.5
             },
             "pattern": {
              "fillmode": "overlay",
              "size": 10,
              "solidity": 0.2
             }
            },
            "type": "bar"
           }
          ],
          "barpolar": [
           {
            "marker": {
             "line": {
              "color": "#E5ECF6",
              "width": 0.5
             },
             "pattern": {
              "fillmode": "overlay",
              "size": 10,
              "solidity": 0.2
             }
            },
            "type": "barpolar"
           }
          ],
          "carpet": [
           {
            "aaxis": {
             "endlinecolor": "#2a3f5f",
             "gridcolor": "white",
             "linecolor": "white",
             "minorgridcolor": "white",
             "startlinecolor": "#2a3f5f"
            },
            "baxis": {
             "endlinecolor": "#2a3f5f",
             "gridcolor": "white",
             "linecolor": "white",
             "minorgridcolor": "white",
             "startlinecolor": "#2a3f5f"
            },
            "type": "carpet"
           }
          ],
          "choropleth": [
           {
            "colorbar": {
             "outlinewidth": 0,
             "ticks": ""
            },
            "type": "choropleth"
           }
          ],
          "contour": [
           {
            "colorbar": {
             "outlinewidth": 0,
             "ticks": ""
            },
            "colorscale": [
             [
              0,
              "#0d0887"
             ],
             [
              0.1111111111111111,
              "#46039f"
             ],
             [
              0.2222222222222222,
              "#7201a8"
             ],
             [
              0.3333333333333333,
              "#9c179e"
             ],
             [
              0.4444444444444444,
              "#bd3786"
             ],
             [
              0.5555555555555556,
              "#d8576b"
             ],
             [
              0.6666666666666666,
              "#ed7953"
             ],
             [
              0.7777777777777778,
              "#fb9f3a"
             ],
             [
              0.8888888888888888,
              "#fdca26"
             ],
             [
              1,
              "#f0f921"
             ]
            ],
            "type": "contour"
           }
          ],
          "contourcarpet": [
           {
            "colorbar": {
             "outlinewidth": 0,
             "ticks": ""
            },
            "type": "contourcarpet"
           }
          ],
          "heatmap": [
           {
            "colorbar": {
             "outlinewidth": 0,
             "ticks": ""
            },
            "colorscale": [
             [
              0,
              "#0d0887"
             ],
             [
              0.1111111111111111,
              "#46039f"
             ],
             [
              0.2222222222222222,
              "#7201a8"
             ],
             [
              0.3333333333333333,
              "#9c179e"
             ],
             [
              0.4444444444444444,
              "#bd3786"
             ],
             [
              0.5555555555555556,
              "#d8576b"
             ],
             [
              0.6666666666666666,
              "#ed7953"
             ],
             [
              0.7777777777777778,
              "#fb9f3a"
             ],
             [
              0.8888888888888888,
              "#fdca26"
             ],
             [
              1,
              "#f0f921"
             ]
            ],
            "type": "heatmap"
           }
          ],
          "heatmapgl": [
           {
            "colorbar": {
             "outlinewidth": 0,
             "ticks": ""
            },
            "colorscale": [
             [
              0,
              "#0d0887"
             ],
             [
              0.1111111111111111,
              "#46039f"
             ],
             [
              0.2222222222222222,
              "#7201a8"
             ],
             [
              0.3333333333333333,
              "#9c179e"
             ],
             [
              0.4444444444444444,
              "#bd3786"
             ],
             [
              0.5555555555555556,
              "#d8576b"
             ],
             [
              0.6666666666666666,
              "#ed7953"
             ],
             [
              0.7777777777777778,
              "#fb9f3a"
             ],
             [
              0.8888888888888888,
              "#fdca26"
             ],
             [
              1,
              "#f0f921"
             ]
            ],
            "type": "heatmapgl"
           }
          ],
          "histogram": [
           {
            "marker": {
             "pattern": {
              "fillmode": "overlay",
              "size": 10,
              "solidity": 0.2
             }
            },
            "type": "histogram"
           }
          ],
          "histogram2d": [
           {
            "colorbar": {
             "outlinewidth": 0,
             "ticks": ""
            },
            "colorscale": [
             [
              0,
              "#0d0887"
             ],
             [
              0.1111111111111111,
              "#46039f"
             ],
             [
              0.2222222222222222,
              "#7201a8"
             ],
             [
              0.3333333333333333,
              "#9c179e"
             ],
             [
              0.4444444444444444,
              "#bd3786"
             ],
             [
              0.5555555555555556,
              "#d8576b"
             ],
             [
              0.6666666666666666,
              "#ed7953"
             ],
             [
              0.7777777777777778,
              "#fb9f3a"
             ],
             [
              0.8888888888888888,
              "#fdca26"
             ],
             [
              1,
              "#f0f921"
             ]
            ],
            "type": "histogram2d"
           }
          ],
          "histogram2dcontour": [
           {
            "colorbar": {
             "outlinewidth": 0,
             "ticks": ""
            },
            "colorscale": [
             [
              0,
              "#0d0887"
             ],
             [
              0.1111111111111111,
              "#46039f"
             ],
             [
              0.2222222222222222,
              "#7201a8"
             ],
             [
              0.3333333333333333,
              "#9c179e"
             ],
             [
              0.4444444444444444,
              "#bd3786"
             ],
             [
              0.5555555555555556,
              "#d8576b"
             ],
             [
              0.6666666666666666,
              "#ed7953"
             ],
             [
              0.7777777777777778,
              "#fb9f3a"
             ],
             [
              0.8888888888888888,
              "#fdca26"
             ],
             [
              1,
              "#f0f921"
             ]
            ],
            "type": "histogram2dcontour"
           }
          ],
          "mesh3d": [
           {
            "colorbar": {
             "outlinewidth": 0,
             "ticks": ""
            },
            "type": "mesh3d"
           }
          ],
          "parcoords": [
           {
            "line": {
             "colorbar": {
              "outlinewidth": 0,
              "ticks": ""
             }
            },
            "type": "parcoords"
           }
          ],
          "pie": [
           {
            "automargin": true,
            "type": "pie"
           }
          ],
          "scatter": [
           {
            "fillpattern": {
             "fillmode": "overlay",
             "size": 10,
             "solidity": 0.2
            },
            "type": "scatter"
           }
          ],
          "scatter3d": [
           {
            "line": {
             "colorbar": {
              "outlinewidth": 0,
              "ticks": ""
             }
            },
            "marker": {
             "colorbar": {
              "outlinewidth": 0,
              "ticks": ""
             }
            },
            "type": "scatter3d"
           }
          ],
          "scattercarpet": [
           {
            "marker": {
             "colorbar": {
              "outlinewidth": 0,
              "ticks": ""
             }
            },
            "type": "scattercarpet"
           }
          ],
          "scattergeo": [
           {
            "marker": {
             "colorbar": {
              "outlinewidth": 0,
              "ticks": ""
             }
            },
            "type": "scattergeo"
           }
          ],
          "scattergl": [
           {
            "marker": {
             "colorbar": {
              "outlinewidth": 0,
              "ticks": ""
             }
            },
            "type": "scattergl"
           }
          ],
          "scattermapbox": [
           {
            "marker": {
             "colorbar": {
              "outlinewidth": 0,
              "ticks": ""
             }
            },
            "type": "scattermapbox"
           }
          ],
          "scatterpolar": [
           {
            "marker": {
             "colorbar": {
              "outlinewidth": 0,
              "ticks": ""
             }
            },
            "type": "scatterpolar"
           }
          ],
          "scatterpolargl": [
           {
            "marker": {
             "colorbar": {
              "outlinewidth": 0,
              "ticks": ""
             }
            },
            "type": "scatterpolargl"
           }
          ],
          "scatterternary": [
           {
            "marker": {
             "colorbar": {
              "outlinewidth": 0,
              "ticks": ""
             }
            },
            "type": "scatterternary"
           }
          ],
          "surface": [
           {
            "colorbar": {
             "outlinewidth": 0,
             "ticks": ""
            },
            "colorscale": [
             [
              0,
              "#0d0887"
             ],
             [
              0.1111111111111111,
              "#46039f"
             ],
             [
              0.2222222222222222,
              "#7201a8"
             ],
             [
              0.3333333333333333,
              "#9c179e"
             ],
             [
              0.4444444444444444,
              "#bd3786"
             ],
             [
              0.5555555555555556,
              "#d8576b"
             ],
             [
              0.6666666666666666,
              "#ed7953"
             ],
             [
              0.7777777777777778,
              "#fb9f3a"
             ],
             [
              0.8888888888888888,
              "#fdca26"
             ],
             [
              1,
              "#f0f921"
             ]
            ],
            "type": "surface"
           }
          ],
          "table": [
           {
            "cells": {
             "fill": {
              "color": "#EBF0F8"
             },
             "line": {
              "color": "white"
             }
            },
            "header": {
             "fill": {
              "color": "#C8D4E3"
             },
             "line": {
              "color": "white"
             }
            },
            "type": "table"
           }
          ]
         },
         "layout": {
          "annotationdefaults": {
           "arrowcolor": "#2a3f5f",
           "arrowhead": 0,
           "arrowwidth": 1
          },
          "autotypenumbers": "strict",
          "coloraxis": {
           "colorbar": {
            "outlinewidth": 0,
            "ticks": ""
           }
          },
          "colorscale": {
           "diverging": [
            [
             0,
             "#8e0152"
            ],
            [
             0.1,
             "#c51b7d"
            ],
            [
             0.2,
             "#de77ae"
            ],
            [
             0.3,
             "#f1b6da"
            ],
            [
             0.4,
             "#fde0ef"
            ],
            [
             0.5,
             "#f7f7f7"
            ],
            [
             0.6,
             "#e6f5d0"
            ],
            [
             0.7,
             "#b8e186"
            ],
            [
             0.8,
             "#7fbc41"
            ],
            [
             0.9,
             "#4d9221"
            ],
            [
             1,
             "#276419"
            ]
           ],
           "sequential": [
            [
             0,
             "#0d0887"
            ],
            [
             0.1111111111111111,
             "#46039f"
            ],
            [
             0.2222222222222222,
             "#7201a8"
            ],
            [
             0.3333333333333333,
             "#9c179e"
            ],
            [
             0.4444444444444444,
             "#bd3786"
            ],
            [
             0.5555555555555556,
             "#d8576b"
            ],
            [
             0.6666666666666666,
             "#ed7953"
            ],
            [
             0.7777777777777778,
             "#fb9f3a"
            ],
            [
             0.8888888888888888,
             "#fdca26"
            ],
            [
             1,
             "#f0f921"
            ]
           ],
           "sequentialminus": [
            [
             0,
             "#0d0887"
            ],
            [
             0.1111111111111111,
             "#46039f"
            ],
            [
             0.2222222222222222,
             "#7201a8"
            ],
            [
             0.3333333333333333,
             "#9c179e"
            ],
            [
             0.4444444444444444,
             "#bd3786"
            ],
            [
             0.5555555555555556,
             "#d8576b"
            ],
            [
             0.6666666666666666,
             "#ed7953"
            ],
            [
             0.7777777777777778,
             "#fb9f3a"
            ],
            [
             0.8888888888888888,
             "#fdca26"
            ],
            [
             1,
             "#f0f921"
            ]
           ]
          },
          "colorway": [
           "#636efa",
           "#EF553B",
           "#00cc96",
           "#ab63fa",
           "#FFA15A",
           "#19d3f3",
           "#FF6692",
           "#B6E880",
           "#FF97FF",
           "#FECB52"
          ],
          "font": {
           "color": "#2a3f5f"
          },
          "geo": {
           "bgcolor": "white",
           "lakecolor": "white",
           "landcolor": "#E5ECF6",
           "showlakes": true,
           "showland": true,
           "subunitcolor": "white"
          },
          "hoverlabel": {
           "align": "left"
          },
          "hovermode": "closest",
          "mapbox": {
           "style": "light"
          },
          "paper_bgcolor": "white",
          "plot_bgcolor": "#E5ECF6",
          "polar": {
           "angularaxis": {
            "gridcolor": "white",
            "linecolor": "white",
            "ticks": ""
           },
           "bgcolor": "#E5ECF6",
           "radialaxis": {
            "gridcolor": "white",
            "linecolor": "white",
            "ticks": ""
           }
          },
          "scene": {
           "xaxis": {
            "backgroundcolor": "#E5ECF6",
            "gridcolor": "white",
            "gridwidth": 2,
            "linecolor": "white",
            "showbackground": true,
            "ticks": "",
            "zerolinecolor": "white"
           },
           "yaxis": {
            "backgroundcolor": "#E5ECF6",
            "gridcolor": "white",
            "gridwidth": 2,
            "linecolor": "white",
            "showbackground": true,
            "ticks": "",
            "zerolinecolor": "white"
           },
           "zaxis": {
            "backgroundcolor": "#E5ECF6",
            "gridcolor": "white",
            "gridwidth": 2,
            "linecolor": "white",
            "showbackground": true,
            "ticks": "",
            "zerolinecolor": "white"
           }
          },
          "shapedefaults": {
           "line": {
            "color": "#2a3f5f"
           }
          },
          "ternary": {
           "aaxis": {
            "gridcolor": "white",
            "linecolor": "white",
            "ticks": ""
           },
           "baxis": {
            "gridcolor": "white",
            "linecolor": "white",
            "ticks": ""
           },
           "bgcolor": "#E5ECF6",
           "caxis": {
            "gridcolor": "white",
            "linecolor": "white",
            "ticks": ""
           }
          },
          "title": {
           "x": 0.05
          },
          "xaxis": {
           "automargin": true,
           "gridcolor": "white",
           "linecolor": "white",
           "ticks": "",
           "title": {
            "standoff": 15
           },
           "zerolinecolor": "white",
           "zerolinewidth": 2
          },
          "yaxis": {
           "automargin": true,
           "gridcolor": "white",
           "linecolor": "white",
           "ticks": "",
           "title": {
            "standoff": 15
           },
           "zerolinecolor": "white",
           "zerolinewidth": 2
          }
         }
        },
        "title": {
         "text": "Highlighting the Path: Others → World Regions → Others"
        }
       }
      }
     },
     "metadata": {},
     "output_type": "display_data"
    }
   ],
   "source": [
    "import plotly.graph_objects as go\n",
    "\n",
    "# Define the nodes\n",
    "nodes = [\"Start - World Regions\", \"Start - Others\", \n",
    "         \"Path - World Regions\", \"Path - Others\",\n",
    "         \"Target - World Regions\", \"Target - Others\"]\n",
    "\n",
    "# Define the links and highlight the specific path\n",
    "links = dict(\n",
    "    source=[0, 0, 1, 1, 2, 2, 3, 3],  # Source nodes\n",
    "    target=[2, 3, 2, 3, 4, 5, 4, 5],  # Target nodes\n",
    "    value=[50, 20, 10, 20, 40, 10, 15, 15],  # Flow values\n",
    "    color=[\n",
    "        \"lightblue\", \"lightblue\",  # Start -> Path\n",
    "        \"orange\", \"lightblue\",        # Start -> Path (Others -> World Regions)\n",
    "        \"lightblue\", \"orange\",    # Path -> Target (World Regions -> Others highlighted)\n",
    "        \"lightblue\", \"lightblue\"   # Path -> Target\n",
    "    ]\n",
    ")\n",
    "\n",
    "# Create the Sankey diagram\n",
    "fig = go.Figure(go.Sankey(\n",
    "    node=dict(\n",
    "        pad=15, thickness=20,\n",
    "        label=nodes, color=[\"blue\", \"green\", \"blue\", \"green\", \"blue\", \"green\"]\n",
    "    ),\n",
    "    link=dict(\n",
    "        source=links['source'],\n",
    "        target=links['target'],\n",
    "        value=links['value'],\n",
    "        color=links['color']  # Custom colors for highlighting\n",
    "    )\n",
    "))\n",
    "\n",
    "# Update layout\n",
    "fig.update_layout(title_text=\"Highlighting the Path: Others → World Regions → Others\", font_size=12)\n",
    "fig.show()"
   ]
  },
  {
   "cell_type": "code",
   "execution_count": null,
   "metadata": {},
   "outputs": [],
   "source": []
  }
 ],
 "metadata": {
  "kernelspec": {
   "display_name": "ada_p",
   "language": "python",
   "name": "python3"
  },
  "language_info": {
   "codemirror_mode": {
    "name": "ipython",
    "version": 3
   },
   "file_extension": ".py",
   "mimetype": "text/x-python",
   "name": "python",
   "nbconvert_exporter": "python",
   "pygments_lexer": "ipython3",
   "version": "3.10.15"
  }
 },
 "nbformat": 4,
 "nbformat_minor": 2
}
