{
 "cells": [
  {
   "cell_type": "code",
   "execution_count": 11,
   "metadata": {},
   "outputs": [
    {
     "name": "stdout",
     "output_type": "stream",
     "text": [
      "The autoreload extension is already loaded. To reload it, use:\n",
      "  %reload_ext autoreload\n"
     ]
    }
   ],
   "source": [
    "%load_ext autoreload\n",
    "%autoreload 2"
   ]
  },
  {
   "cell_type": "code",
   "execution_count": 55,
   "metadata": {},
   "outputs": [],
   "source": [
    "import pandas as pd\n",
    "from src.data.data_loader import read_all, replace_back_clicks\n",
    "import networkx as nx\n",
    "import matplotlib.pyplot as plt"
   ]
  },
  {
   "cell_type": "code",
   "execution_count": 13,
   "metadata": {},
   "outputs": [
    {
     "name": "stdout",
     "output_type": "stream",
     "text": [
      "Unfinished Paths\n",
      "---------------- \n",
      "Number of rows before filtering: 24875\n",
      "Invalid target articles found: {'Macedonia', 'Bogota', 'The', 'Rat', 'Kashmir', ' Zebra', 'Great', 'Adolph Hitler', 'Mustard', 'Georgia', 'Netbook', 'Western Australia', 'English', 'Christmas', 'The Rock', 'Sportacus', 'Rss', 'Pikachu', 'Usa', 'Black ops 2', 'Charlottes web', 'Fats', 'Long peper', 'Podcast', 'Test'}\n",
      "Invalid articles found in path: {'Local community', 'Private Peaceful', 'Osteomalacia', 'Pikachu', 'Wikipedia Text of the GNU Free Documentation License'}\n",
      "Number of 'timeout' games with a duration of less than 30 minutes: 7\n",
      "Number of rows after filtering: 24709 \n",
      "\n",
      "Finished Paths\n",
      "-------------- \n",
      "Number of rows before filtering: 51318\n",
      "Invalid articles found in path: {'Pikachu', 'Wikipedia Text of the GNU Free Documentation License', 'Local community', 'Osteomalacia'}\n",
      "Number of rows after filtering: 51196\n",
      "df_article_names length: 4584\n",
      "df_links length (unique linkTarget): 4128\n",
      "df_links length (unique linkSource): 4584\n",
      "df_html_stats length: 4599\n",
      "df_categories length: 5190\n",
      "After merging in_degree: 4584\n",
      "After merging out_degree: 4584\n",
      "After dropping columns: 4584\n",
      "After merging df_html_stats: 4594\n",
      "After merging df_categories: 4594\n"
     ]
    }
   ],
   "source": [
    "df_article_names, df_html_stats, df_categories, df_links, df_shortest_path, df_unfinished, df_finished, df_sm, df_scat, df_article = read_all()"
   ]
  },
  {
   "cell_type": "code",
   "execution_count": 47,
   "metadata": {},
   "outputs": [
    {
     "data": {
      "text/plain": [
       "4584"
      ]
     },
     "execution_count": 47,
     "metadata": {},
     "output_type": "execute_result"
    }
   ],
   "source": [
    "# Drop the dupicates\n",
    "df_article = df_article.drop_duplicates('article')\n",
    "len(df_article)"
   ]
  },
  {
   "cell_type": "code",
   "execution_count": 51,
   "metadata": {},
   "outputs": [
    {
     "data": {
      "text/html": [
       "<div>\n",
       "<style scoped>\n",
       "    .dataframe tbody tr th:only-of-type {\n",
       "        vertical-align: middle;\n",
       "    }\n",
       "\n",
       "    .dataframe tbody tr th {\n",
       "        vertical-align: top;\n",
       "    }\n",
       "\n",
       "    .dataframe thead th {\n",
       "        text-align: right;\n",
       "    }\n",
       "</style>\n",
       "<table border=\"1\" class=\"dataframe\">\n",
       "  <thead>\n",
       "    <tr style=\"text-align: right;\">\n",
       "      <th></th>\n",
       "      <th>article</th>\n",
       "      <th>in_degree</th>\n",
       "      <th>out_degree</th>\n",
       "      <th>total_words</th>\n",
       "      <th>total_links</th>\n",
       "      <th>link_density</th>\n",
       "      <th>abstract_words</th>\n",
       "      <th>abstract_links</th>\n",
       "      <th>abstract_link_density</th>\n",
       "      <th>num_sections</th>\n",
       "      <th>num_subsections</th>\n",
       "      <th>num_tables</th>\n",
       "      <th>category</th>\n",
       "    </tr>\n",
       "  </thead>\n",
       "  <tbody>\n",
       "    <tr>\n",
       "      <th>0</th>\n",
       "      <td>Áedán mac Gabráin</td>\n",
       "      <td>0</td>\n",
       "      <td>11</td>\n",
       "      <td>1841.0</td>\n",
       "      <td>12.0</td>\n",
       "      <td>0.006518</td>\n",
       "      <td>169.0</td>\n",
       "      <td>10.0</td>\n",
       "      <td>0.059172</td>\n",
       "      <td>5.0</td>\n",
       "      <td>0.0</td>\n",
       "      <td>0.0</td>\n",
       "      <td>History</td>\n",
       "    </tr>\n",
       "    <tr>\n",
       "      <th>1</th>\n",
       "      <td>Åland</td>\n",
       "      <td>0</td>\n",
       "      <td>19</td>\n",
       "      <td>2387.0</td>\n",
       "      <td>27.0</td>\n",
       "      <td>0.011311</td>\n",
       "      <td>400.0</td>\n",
       "      <td>9.0</td>\n",
       "      <td>0.022500</td>\n",
       "      <td>11.0</td>\n",
       "      <td>0.0</td>\n",
       "      <td>5.0</td>\n",
       "      <td>Countries</td>\n",
       "    </tr>\n",
       "    <tr>\n",
       "      <th>2</th>\n",
       "      <td>Édouard Manet</td>\n",
       "      <td>0</td>\n",
       "      <td>20</td>\n",
       "      <td>2901.0</td>\n",
       "      <td>28.0</td>\n",
       "      <td>0.009652</td>\n",
       "      <td>163.0</td>\n",
       "      <td>7.0</td>\n",
       "      <td>0.042945</td>\n",
       "      <td>3.0</td>\n",
       "      <td>11.0</td>\n",
       "      <td>2.0</td>\n",
       "      <td>People</td>\n",
       "    </tr>\n",
       "    <tr>\n",
       "      <th>3</th>\n",
       "      <td>Éire</td>\n",
       "      <td>0</td>\n",
       "      <td>8</td>\n",
       "      <td>2047.0</td>\n",
       "      <td>12.0</td>\n",
       "      <td>0.005862</td>\n",
       "      <td>339.0</td>\n",
       "      <td>6.0</td>\n",
       "      <td>0.017699</td>\n",
       "      <td>2.0</td>\n",
       "      <td>0.0</td>\n",
       "      <td>0.0</td>\n",
       "      <td>Countries</td>\n",
       "    </tr>\n",
       "    <tr>\n",
       "      <th>4</th>\n",
       "      <td>Óengus I of the Picts</td>\n",
       "      <td>0</td>\n",
       "      <td>10</td>\n",
       "      <td>2010.0</td>\n",
       "      <td>12.0</td>\n",
       "      <td>0.005970</td>\n",
       "      <td>254.0</td>\n",
       "      <td>6.0</td>\n",
       "      <td>0.023622</td>\n",
       "      <td>5.0</td>\n",
       "      <td>0.0</td>\n",
       "      <td>1.0</td>\n",
       "      <td>History</td>\n",
       "    </tr>\n",
       "    <tr>\n",
       "      <th>...</th>\n",
       "      <td>...</td>\n",
       "      <td>...</td>\n",
       "      <td>...</td>\n",
       "      <td>...</td>\n",
       "      <td>...</td>\n",
       "      <td>...</td>\n",
       "      <td>...</td>\n",
       "      <td>...</td>\n",
       "      <td>...</td>\n",
       "      <td>...</td>\n",
       "      <td>...</td>\n",
       "      <td>...</td>\n",
       "      <td>...</td>\n",
       "    </tr>\n",
       "    <tr>\n",
       "      <th>4589</th>\n",
       "      <td>Zionism</td>\n",
       "      <td>25</td>\n",
       "      <td>74</td>\n",
       "      <td>9351.0</td>\n",
       "      <td>109.0</td>\n",
       "      <td>0.011657</td>\n",
       "      <td>454.0</td>\n",
       "      <td>16.0</td>\n",
       "      <td>0.035242</td>\n",
       "      <td>9.0</td>\n",
       "      <td>16.0</td>\n",
       "      <td>2.0</td>\n",
       "      <td>Religion</td>\n",
       "    </tr>\n",
       "    <tr>\n",
       "      <th>4590</th>\n",
       "      <td>Zirconium</td>\n",
       "      <td>15</td>\n",
       "      <td>42</td>\n",
       "      <td>1539.0</td>\n",
       "      <td>58.0</td>\n",
       "      <td>0.037687</td>\n",
       "      <td>522.0</td>\n",
       "      <td>28.0</td>\n",
       "      <td>0.053640</td>\n",
       "      <td>5.0</td>\n",
       "      <td>1.0</td>\n",
       "      <td>5.0</td>\n",
       "      <td>Science</td>\n",
       "    </tr>\n",
       "    <tr>\n",
       "      <th>4591</th>\n",
       "      <td>Zoroaster</td>\n",
       "      <td>9</td>\n",
       "      <td>28</td>\n",
       "      <td>2965.0</td>\n",
       "      <td>32.0</td>\n",
       "      <td>0.010793</td>\n",
       "      <td>216.0</td>\n",
       "      <td>3.0</td>\n",
       "      <td>0.013889</td>\n",
       "      <td>7.0</td>\n",
       "      <td>5.0</td>\n",
       "      <td>1.0</td>\n",
       "      <td>People</td>\n",
       "    </tr>\n",
       "    <tr>\n",
       "      <th>4592</th>\n",
       "      <td>Zuid-Gelders</td>\n",
       "      <td>5</td>\n",
       "      <td>5</td>\n",
       "      <td>276.0</td>\n",
       "      <td>6.0</td>\n",
       "      <td>0.021739</td>\n",
       "      <td>276.0</td>\n",
       "      <td>6.0</td>\n",
       "      <td>0.021739</td>\n",
       "      <td>0.0</td>\n",
       "      <td>0.0</td>\n",
       "      <td>1.0</td>\n",
       "      <td>Language and literature</td>\n",
       "    </tr>\n",
       "    <tr>\n",
       "      <th>4593</th>\n",
       "      <td>Zulu</td>\n",
       "      <td>14</td>\n",
       "      <td>15</td>\n",
       "      <td>2443.0</td>\n",
       "      <td>20.0</td>\n",
       "      <td>0.008187</td>\n",
       "      <td>209.0</td>\n",
       "      <td>9.0</td>\n",
       "      <td>0.043062</td>\n",
       "      <td>5.0</td>\n",
       "      <td>4.0</td>\n",
       "      <td>1.0</td>\n",
       "      <td>Geography</td>\n",
       "    </tr>\n",
       "  </tbody>\n",
       "</table>\n",
       "<p>4584 rows × 13 columns</p>\n",
       "</div>"
      ],
      "text/plain": [
       "                    article  in_degree  out_degree  total_words  total_links  \\\n",
       "0         Áedán mac Gabráin          0          11       1841.0         12.0   \n",
       "1                     Åland          0          19       2387.0         27.0   \n",
       "2             Édouard Manet          0          20       2901.0         28.0   \n",
       "3                      Éire          0           8       2047.0         12.0   \n",
       "4     Óengus I of the Picts          0          10       2010.0         12.0   \n",
       "...                     ...        ...         ...          ...          ...   \n",
       "4589                Zionism         25          74       9351.0        109.0   \n",
       "4590              Zirconium         15          42       1539.0         58.0   \n",
       "4591              Zoroaster          9          28       2965.0         32.0   \n",
       "4592           Zuid-Gelders          5           5        276.0          6.0   \n",
       "4593                   Zulu         14          15       2443.0         20.0   \n",
       "\n",
       "      link_density  abstract_words  abstract_links  abstract_link_density  \\\n",
       "0         0.006518           169.0            10.0               0.059172   \n",
       "1         0.011311           400.0             9.0               0.022500   \n",
       "2         0.009652           163.0             7.0               0.042945   \n",
       "3         0.005862           339.0             6.0               0.017699   \n",
       "4         0.005970           254.0             6.0               0.023622   \n",
       "...            ...             ...             ...                    ...   \n",
       "4589      0.011657           454.0            16.0               0.035242   \n",
       "4590      0.037687           522.0            28.0               0.053640   \n",
       "4591      0.010793           216.0             3.0               0.013889   \n",
       "4592      0.021739           276.0             6.0               0.021739   \n",
       "4593      0.008187           209.0             9.0               0.043062   \n",
       "\n",
       "      num_sections  num_subsections  num_tables                 category  \n",
       "0              5.0              0.0         0.0                  History  \n",
       "1             11.0              0.0         5.0                Countries  \n",
       "2              3.0             11.0         2.0                   People  \n",
       "3              2.0              0.0         0.0                Countries  \n",
       "4              5.0              0.0         1.0                  History  \n",
       "...            ...              ...         ...                      ...  \n",
       "4589           9.0             16.0         2.0                 Religion  \n",
       "4590           5.0              1.0         5.0                  Science  \n",
       "4591           7.0              5.0         1.0                   People  \n",
       "4592           0.0              0.0         1.0  Language and literature  \n",
       "4593           5.0              4.0         1.0                Geography  \n",
       "\n",
       "[4584 rows x 13 columns]"
      ]
     },
     "execution_count": 51,
     "metadata": {},
     "output_type": "execute_result"
    }
   ],
   "source": [
    "df_article"
   ]
  },
  {
   "cell_type": "code",
   "execution_count": 17,
   "metadata": {},
   "outputs": [],
   "source": [
    "paths_merged = pd.concat([df_finished, df_unfinished])\n",
    "paths_merged = paths_merged['path'].apply(replace_back_clicks)"
   ]
  },
  {
   "cell_type": "code",
   "execution_count": 21,
   "metadata": {},
   "outputs": [
    {
     "name": "stdout",
     "output_type": "stream",
     "text": [
      "{'in_degree': 71, 'out_degree': 31, 'total_words': 841.0, 'total_links': 39.0, 'link_density': 0.04637336504161712, 'abstract_words': 104.0, 'abstract_links': 5.0, 'abstract_link_density': 0.04807692307692308, 'num_sections': 4.0, 'num_subsections': 0.0, 'num_tables': 3.0, 'category': 'History'}\n",
      "{'weight': 23}\n"
     ]
    }
   ],
   "source": [
    "def build_article_graph(paths):\n",
    "    \"\"\"\n",
    "    Build a directed graph from article paths.\n",
    "    Each node is an article, and edges represent transitions between consecutive articles in a path.\n",
    "    The edge weight is the number of times that transition appears.\n",
    "    \"\"\"\n",
    "    G = nx.DiGraph()\n",
    "    for path in paths:\n",
    "        nodes = path.split(';')\n",
    "        for i in range(len(nodes) - 1):\n",
    "            u = nodes[i]\n",
    "            v = nodes[i + 1]\n",
    "            # Add edge or update weight\n",
    "            if G.has_edge(u, v):\n",
    "                G[u][v]['weight'] += 1\n",
    "            else:\n",
    "                G.add_edge(u, v, weight=1)\n",
    "    return G\n",
    "\n",
    "# Build the graph from paths_merged\n",
    "G = build_article_graph(paths_merged)\n",
    "\n",
    "# We'll set all columns except \"article\" as node attributes\n",
    "attribute_df = df_article.set_index('article')\n",
    "attributes = attribute_df.to_dict('index')\n",
    "\n",
    "# Set node attributes\n",
    "nx.set_node_attributes(G, attributes)\n",
    "\n",
    "# Now G is a graph with:\n",
    "# - Nodes: articles\n",
    "# - Edges: transitions between articles with 'weight' attribute\n",
    "# - Node attributes: in_degree, out_degree, total_words, etc. from df\n",
    "\n",
    "# Example: Access node attributes for a given node:\n",
    "print(G.nodes['14th century'])  # If '14th century' is a node name\n",
    "# Example: Access edge attributes:\n",
    "print(G['14th century']['15th century'])"
   ]
  },
  {
   "cell_type": "code",
   "execution_count": 54,
   "metadata": {},
   "outputs": [
    {
     "name": "stdout",
     "output_type": "stream",
     "text": [
      "Number of nodes: 4175\n",
      "Number of edges: 69460\n",
      "Number of articles in df_article not present in the graph: 409\n",
      "Missing articles:\n",
      "{'History of Burnside', 'David Helvarg', 'Lottie Dod', 'Civil War token', 'Georg Forster', 'List of North American countries', 'Georg von Boeselager', 'History of Singapore', 'Economy of Scotland', 'Music of Albania', 'Eustreptospondylus', 'Greater Cane Rat', 'Keurusselkä', 'Criticism of the War on Terrorism', 'Treaty of Devol', 'Nanomedicine', 'Chepstow Bridge', 'Australian constitutional law', 'HIV AIDS in Africa', 'Tropical Storm Isabel (1985)', 'Iraq and weapons of mass destruction', 'Crimson-collared Tanager', 'Snake charming', 'HD 28185', '1997 Pacific hurricane season', 'Milk thistle', \"List of world's largest lakes\", 'Weyauwega derailment', 'HMS E18', 'History of the West Indian cricket team', 'Arthur Upfield', 'Snaefell Mountain Railway', 'Ohm', 'The Importance of Being Earnest', 'History of Wikipedia', 'Geology of Dorset', 'Great Tit', 'Lesothosaurus', 'Tiridates I of Armenia', 'Human abdomen', 'X Window core protocol', 'Elfin-woods Warbler', 'List of Canadian provinces and territories by area', 'Gremlins', \"Hickman's potentilla\", 'Esox', 'Actuary', 'Japanese grammar', 'Jacob Riis', 'AC DC', 'Zara Yaqob', 'Phenylketonuria', 'Crystallographic defects in diamond', 'Algoma Central Railway', 'Yellowhammer', 'Nigella', 'Southern Rockhopper Penguin', 'Templon', '2005 Lake Tanganyika earthquake', 'Forensic facial reconstruction', 'M-10003-6', 'Ateneo de Manila University', 'Nepenthes rajah', 'Newshounds', 'List of animal welfare groups', 'Weyto language', 'Weather map', 'Geography of Africa', 'Anton Alexander von Werner', 'Spotted Flycatcher', 'Saxicola', 'Grand Central Station (Chicago)', 'Architecture of Windows NT', 'Woodruff', 'Humbert Roque Versace', 'M-10001', 'Graniteville train disaster', 'Nephron', 'African Jacana', 'Áedán mac Gabráin', 'Basset Hound', 'Yuri Knorosov', 'Warsaw Uprising (1794)', \"The Children's Machine\", 'Carolingian Gospel Book (British Library, MS Add. 11848)', 'Three Mile Island accident', 'Tagoi language', 'Asp (reptile)', 'Fetal alcohol spectrum disorder', 'Elizabethan Poor Law (1601)', 'Trabancos River', 'Gallimimus', 'Black Robin', \"You're Still the One\", 'Lincoln Town Car', 'John A.T. Robinson', 'Spirit of the American Doughboy', 'Abbas I of Persia', 'History of Limerick', 'Wars of Castro', 'Mixtape', 'History of saffron', 'Kipchaks in Georgia', 'Project MKULTRA', 'Indian Institutes of Technology', 'Iron Mike', \"The King's Regiment (Liverpool)\", 'The Famous Five (characters)', 'Nicobar Long-tailed Macaque', 'Common agouti', 'Pandanus', 'Mausoleum of Maussollos', 'Uffington White Horse', 'Hawfinch', 'Phosphoryl chloride', 'Tropical Storm Chris (2006)', 'Chinese Rites controversy', 'Cicely', 'Floris and Blancheflour', 'Goldcrest', 'Military history of France', 'Gordon Griffith', 'List of members of the Commonwealth of Nations by date joined', 'Simca Vedette', 'Abacá', 'Cyrus K. Holliday', 'Aradia, or the Gospel of the Witches', 'Lope de Barrientos', 'Disneyland Railroad', 'Sino-German cooperation (1911-1941)', 'Emma Roberts', 'Australian Ringneck', 'Julius and Ethel Rosenberg', 'Paricutín', 'European Kingfisher', 'Hiroh Kikai', 'Tone cluster', 'The Catlins', 'Great hammerhead', 'History of Solidarity', 'Floyd Mayweather Jr.', 'Stanisław Lem', 'Winston Tunnel', 'Wolf Brother', 'Basil Brush', 'HD 28185 b', 'A. E. J. Collins', 'Atlantic herring', 'History of the Australian Capital Territory', 'History of Cape Colony from 1806 to 1870', 'Swedish allotment system', 'Gallery of the Kings and Queens of England', 'Autobianchi Primula', 'Astrophysics Data System', 'English monarchs family tree', 'History of Portugal (1777–1834)', 'Eurasian Bullfinch', 'Ireland King of Arms', 'Defaka', 'Euston Manifesto', 'Scanian (linguistics)', 'Henry Wood (conductor)', 'Schuttern Gospels', 'Jórvík', 'Star Fox  Assault', 'Hurricane Marty (2003)', 'New York City Subway nomenclature', 'Abraham Goldfaden', 'San Francisco garter snake', 'Kakariki', 'Common Eider', 'Sudanic languages', \"Niccolò dell'Abbate\", 'Carl G. Fisher', 'Mary Kingsley', 'Ursuline Convent Riots', 'Military history of Canada', 'Sustainable forestry', 'The Frogs', 'Adriaen van der Donck', \"Spix's Macaw\", 'Louis Freeh', 'Jean Charles de Menezes', 'Black-footed Cat', 'Stephen Trigg', 'Falkirk Wheel', 'Directive Principles in India', 'Dewey Square', 'Brian Close', 'Wigeon', 'Eifel Aqueduct', 'Franklin B. Gowen', 'El Hatillo Municipality, Miranda', 'List of lakes', 'Grand Forks, North Dakota', 'Pygmy Hippopotamus', 'Toraja', 'Baden-Powell House', 'Arthur Ernest Percival', 'Trobairitz', 'Annibale Bugnini', 'Scott Special', 'Marginated Tortoise', 'European Greenfinch', 'Blue Tit', 'History of the Netherlands', 'Kidnapped (novel)', 'Shrimp farm', 'Black widow spider', 'Amda Seyon I', 'Hepatorenal syndrome', 'HD 217107 b', 'Bohor Reedbuck', 'Scotch College, Perth', 'Financial statements', 'Jordanhill railway station', 'All your base are belong to us', 'HD 217107 c', 'History of the Grand Canyon area', 'Rudolf Vrba', 'History of the Portuguese Communist Party', 'Adi Shankara', 'E. P. Wigner', 'Logba language', 'Whitethroat', 'Hurricane Danny (1997)', 'Mamenchisaurus', 'Aleksey Arakcheyev', 'History of the Royal Australian Navy', 'Firecrest', 'Alamosaurus', 'Bionicle  Mask of Light', 'Geography of Texas', 'Betelgeuse incident', 'Common Pheasant', 'African Black Oystercatcher', 'Bench language', 'Yungay, Peru', 'St Buryan', 'Phla-Pherá languages', 'Palio di Siena', 'Sydney Riot of 1879', \"S. A. Andrée's Arctic balloon expedition of 1897\", 'Triggerplant', 'List of particles', 'X-Men  The Last Stand', 'Eurasian Oystercatcher', 'Pere Marquette 1225', 'Radhanite', 'Common Basilisk', 'Dunstable Downs', 'Aye-aye', 'Danny Deever', 'Trade and usage of saffron', 'Daley Thompson', 'Leo (constellation)', 'Michael Woodruff', 'PRR M1', 'David Blanchflower', 'Postman Pat', 'T. D. Judah', 'FM Consolidated line', 'Lead(II) nitrate', 'Ormulum', 'Wyndham Robertson', 'Bourbonnais train accident', 'Hrafnkels saga', 'Fundamental Rights in India', 'Mongol invasion of Central Asia', 'Karikkoselkä', 'Haji Mohammad Suharto', 'Marc Pugh', 'Catherine Cranston', 'United for Peace and Justice', 'Tropical Storm Bilis (2006)', 'Storm of October 1804', 'Óengus I of the Picts', 'Garden Gnome Liberation Front', 'Copenhagen Fire of 1728', 'All You Need Is Love (The JAMs song)', 'Monarda didyma', 'InterBase', 'Southern Pacific 4449', \"St Michael's Mount\", 'Automatic number plate recognition', 'Cyclamen', 'Crossbill', 'Bahamas', 'David III of Tao', 'Sasha (DJ)', 'Final Fantasy Adventure', 'Restoration literature', 'Chiltern Hills', 'Shabo language', 'Magdalena Abakanowicz', 'The Oz books', 'History of the Panama Canal', 'History of Northwest Territories capital cities', 'Sicilian Baroque', 'Prehistoric man', 'Lancia Flaminia', 'Struthiomimus', 'James T. Aubrey, Jr.', 'Domestic AC power plugs and sockets', 'Mary Somerville', 'Revised Standard Version', 'Linnet', 'Winfield Scott (ship)', 'Hermann Maier', 'Martello tower', 'Pedro del Valle', 'History of Cape Colony from 1870 to 1899', 'Sauropsid', 'History of merit badges (Boy Scouts of America)', 'Swissair Flight 111', 'Empires  Dawn of the Modern World', 'Katyn massacre', 'History of Louisville, Kentucky', 'Fort de Chartres', 'Albrecht Rodenbach', 'Westport Country Playhouse', 'List of African countries', 'Hero of Ukraine', 'Arp2 3 complex', 'Albertosaurus', 'List of South American countries', 'History of Miami, Florida', 'Fur language', 'Whitney Joins The JAMs', 'Andrew Gonzalez', 'Samantha Smith', 'Hypsilophodon', 'Autostereogram', 'Mega Man X (character)', 'Theta', 'Photovoltaic array', 'Cyclone Percy', 'Pro Milone', 'Treecreeper', 'S-mine', 'Rebecca Helferich Clarke', 'Tropical Storm Danielle (1992)', 'Evan Rachel Wood', 'Washington streetcars', 'Umbrella Cockatoo', 'Sears Catalog Home', 'LANSA Cuzco Crash', 'Tropical Storm Vamei', 'Architecture of the California missions', 'Fanny Blankers-Koen', 'Hamilton-Burr duel', 'Polish–Muscovite War (1605–1618)', 'Moorgate', 'Weakest Link', 'International English', 'A Wrinkle in Time', 'Western painting', 'Draughts', 'Belton House', 'Turner syndrome', 'Boston and Lowell Railroad', 'Reed Bunting', 'Lincoln (automobile)', 'Eastern Roman Empire', 'Cyril Clarke', 'GNU Linux naming controversy', 'Titanosauridae', 'Stourbridge Lion', 'Galerina', 'Iowa class battleship', 'Goleta, California', 'Blokus', 'Vernon Kell', 'George Thomas Coker', 'Heilbronn', 'Military history of Puerto Rico', 'Roman Vishniac', 'Antarctosaurus', 'Cyclone Rosita', 'E.T. the Extra-Terrestrial (Atari 2600)', 'Edmonton', 'Benjamin of Tudela', 'Music of Thailand', 'Opuntia imbricata', 'Phineas Gage', 'Royal Grammar School Worcester', 'Mirabilis (plant)', 'X Window System protocols and architecture', 'History of education', 'Gowanus Canal', 'Evanton', 'White Wagtail', 'Nine Million Bicycles', 'Avatar  The Last Airbender', 'Defense of Sihang Warehouse', 'History of Poland (1945–1989)', 'Parasaurolophus', 'USS Wisconsin (BB-64)', 'Benjamin Mountfort', 'Long-tailed Tit', 'The Catcher in the Rye', 'Plateosaurus', 'John Henninger Reagan', 'Rondane National Park', 'Crime in Mexico', 'Ben-Hur (1959 film)', 'Joel Brand', 'Francis Petre', 'Moorhen'}\n"
     ]
    }
   ],
   "source": [
    "print(f\"Number of nodes: {G.number_of_nodes()}\")\n",
    "print(f\"Number of edges: {G.number_of_edges()}\")\n",
    "\n",
    "# Identify articles in df_article that are not nodes in the graph\n",
    "missing_articles = set(df_article['article']) - set(G.nodes)\n",
    "\n",
    "# Display missing articles\n",
    "print(f\"Number of articles in df_article not present in the graph: {len(missing_articles)}\")\n",
    "print(\"Missing articles:\")\n",
    "print(missing_articles)\n"
   ]
  },
  {
   "cell_type": "code",
   "execution_count": 60,
   "metadata": {},
   "outputs": [
    {
     "data": {
      "image/png": "[encoded data removed]",
      "text/plain": [
       "<Figure size 1000x600 with 1 Axes>"
      ]
     },
     "metadata": {},
     "output_type": "display_data"
    },
    {
     "data": {
      "image/png": "[encoded data removed]",
      "text/plain": [
       "<Figure size 1000x600 with 1 Axes>"
      ]
     },
     "metadata": {},
     "output_type": "display_data"
    }
   ],
   "source": [
    "import matplotlib.pyplot as plt\n",
    "\n",
    "# Compute in-degree and out-degree for all nodes\n",
    "in_degrees = dict(G.in_degree())  # In-degree\n",
    "out_degrees = dict(G.out_degree())  # Out-degree\n",
    "\n",
    "# Convert to lists for plotting\n",
    "in_degree_values = list(in_degrees.values())\n",
    "out_degree_values = list(out_degrees.values())\n",
    "\n",
    "# Plot In-Degree Distribution\n",
    "plt.figure(figsize=(10, 6))\n",
    "plt.hist(in_degree_values, bins=50, color='blue', alpha=0.7, edgecolor='black')\n",
    "plt.title(\"In-Degree Distribution\")\n",
    "plt.xlabel(\"In-Degree\")\n",
    "plt.ylabel(\"Frequency\")\n",
    "plt.grid(axis='y', linestyle='--', alpha=0.7)\n",
    "plt.show()\n",
    "\n",
    "# Plot Out-Degree Distribution\n",
    "plt.figure(figsize=(10, 6))\n",
    "plt.hist(out_degree_values, bins=50, color='orange', alpha=0.7, edgecolor='black')\n",
    "plt.title(\"Out-Degree Distribution\")\n",
    "plt.xlabel(\"Out-Degree\")\n",
    "plt.ylabel(\"Frequency\")\n",
    "plt.grid(axis='y', linestyle='--', alpha=0.7)\n",
    "plt.show()"
   ]
  },
  {
   "cell_type": "code",
   "execution_count": 61,
   "metadata": {},
   "outputs": [
    {
     "name": "stdout",
     "output_type": "stream",
     "text": [
      "Network sparsity: 0.0040\n"
     ]
    }
   ],
   "source": [
    "# 174 * (2) / ( 119* 118)\n",
    "print(\"Network sparsity: %.4f\" %nx.density(G))"
   ]
  },
  {
   "cell_type": "code",
   "execution_count": 63,
   "metadata": {},
   "outputs": [
    {
     "name": "stdout",
     "output_type": "stream",
     "text": [
      "0.1188\n"
     ]
    }
   ],
   "source": [
    "print('%.4f' %nx.transitivity(G))"
   ]
  },
  {
   "cell_type": "code",
   "execution_count": 90,
   "metadata": {},
   "outputs": [
    {
     "name": "stdout",
     "output_type": "stream",
     "text": [
      "Approximate largest eigenvalue: 1455.5023427296894, chosen alpha: 0.000618343216344204\n"
     ]
    }
   ],
   "source": [
    "import networkx as nx\n",
    "import numpy as np\n",
    "from scipy.sparse import csr_matrix\n",
    "\n",
    "# Get a dense adjacency array (not memory-friendly for large graphs)\n",
    "A_dense = nx.to_numpy_array(G, nodelist=sorted(G.nodes()), dtype=float)\n",
    "A = csr_matrix(A_dense)\n",
    "\n",
    "def approximate_largest_eigenvalue(A, max_iter=100, tol=1e-6):\n",
    "    # A is assumed to be a scipy.sparse matrix\n",
    "    n = A.shape[0]\n",
    "    x = np.random.rand(n)\n",
    "    x = x / np.linalg.norm(x)\n",
    "    old_val = 0.0\n",
    "    \n",
    "    for i in range(max_iter):\n",
    "        x_new = A.dot(x)\n",
    "        val = np.linalg.norm(x_new)\n",
    "        x_new = x_new / val\n",
    "        if np.abs(val - old_val) < tol:\n",
    "            break\n",
    "        x = x_new\n",
    "        old_val = val\n",
    "    return val\n",
    "\n",
    "lambda_max_approx = approximate_largest_eigenvalue(A)\n",
    "alpha = 0.9 * (1/lambda_max_approx)  # pick alpha smaller than reciprocal of estimated eigenvalue\n",
    "print(f\"Approximate largest eigenvalue: {lambda_max_approx}, chosen alpha: {alpha}\")\n"
   ]
  },
  {
   "cell_type": "code",
   "execution_count": 91,
   "metadata": {},
   "outputs": [
    {
     "name": "stdout",
     "output_type": "stream",
     "text": [
      "Top n Nodes by Katz Centrality:\n",
      "United States | Category: Countries | Katz Centrality: 0.223678 | In-Degree: 1342 | Out-Degree: 451\n",
      "Europe | Category: Geography | Katz Centrality: 0.141254 | In-Degree: 751 | Out-Degree: 251\n",
      "United Kingdom | Category: Countries | Katz Centrality: 0.140719 | In-Degree: 756 | Out-Degree: 273\n",
      "World War II | Category: History | Katz Centrality: 0.108942 | In-Degree: 545 | Out-Degree: 195\n",
      "England | Category: Geography | Katz Centrality: 0.107336 | In-Degree: 630 | Out-Degree: 275\n",
      "France | Category: Countries | Katz Centrality: 0.106722 | In-Degree: 521 | Out-Degree: 159\n",
      "Germany | Category: Countries | Katz Centrality: 0.088604 | In-Degree: 409 | Out-Degree: 170\n",
      "English language | Category: Language and literature | Katz Centrality: 0.082198 | In-Degree: 378 | Out-Degree: 121\n",
      "India | Category: Countries | Katz Centrality: 0.078114 | In-Degree: 354 | Out-Degree: 123\n",
      "Africa | Category: Geography | Katz Centrality: 0.076297 | In-Degree: 372 | Out-Degree: 216\n"
     ]
    }
   ],
   "source": [
    "from operator import itemgetter\n",
    "\n",
    "# Compute Katz centrality\n",
    "alpha = 0.01\n",
    "katz_centralities = nx.katz_centrality(G, alpha=alpha, beta=1.0, max_iter=1000, tol=1e-06, normalized=True)\n",
    "\n",
    "# Sort nodes by Katz centrality\n",
    "sorted_katz = sorted(katz_centralities.items(), key=itemgetter(1), reverse=True)\n",
    "\n",
    "n = 10  # Top n nodes\n",
    "\n",
    "print(\"Top n Nodes by Katz Centrality:\")\n",
    "for node, centrality in sorted_katz[:n]:\n",
    "    # Safely get category, in-degree, out-degree\n",
    "    in_degree = G.in_degree(node)\n",
    "    out_degree = G.out_degree(node)\n",
    "    category = G.nodes[node].get('category', 'N/A')\n",
    "    print(f\"{node} | Category: {category} | Katz Centrality: {centrality:.6f} | In-Degree: {in_degree} | Out-Degree: {out_degree}\")"
   ]
  },
  {
   "cell_type": "code",
   "execution_count": 74,
   "metadata": {},
   "outputs": [
    {
     "name": "stdout",
     "output_type": "stream",
     "text": [
      "Top n Nodes by Betweenness Centrality (Exact):\n",
      "United States | Category: Countries | Betweenness: 0.155940 | In-Degree: 1342 | Out-Degree: 451\n",
      "United Kingdom | Category: Countries | Betweenness: 0.066740 | In-Degree: 756 | Out-Degree: 273\n",
      "England | Category: Geography | Betweenness: 0.056107 | In-Degree: 630 | Out-Degree: 275\n",
      "Europe | Category: Geography | Betweenness: 0.055323 | In-Degree: 751 | Out-Degree: 251\n",
      "World War II | Category: History | Betweenness: 0.031895 | In-Degree: 545 | Out-Degree: 195\n",
      "Africa | Category: Geography | Betweenness: 0.030577 | In-Degree: 372 | Out-Degree: 216\n",
      "France | Category: Countries | Betweenness: 0.027708 | In-Degree: 521 | Out-Degree: 159\n",
      "Germany | Category: Countries | Betweenness: 0.023617 | In-Degree: 409 | Out-Degree: 170\n",
      "Earth | Category: Science | Betweenness: 0.020375 | In-Degree: 277 | Out-Degree: 147\n",
      "London | Category: Geography | Betweenness: 0.019769 | In-Degree: 356 | Out-Degree: 146\n"
     ]
    }
   ],
   "source": [
    "# Compute betweenness centrality (exact)\n",
    "betweenness = nx.betweenness_centrality(G, normalized=True)\n",
    "\n",
    "# Sort nodes by betweenness\n",
    "sorted_betweenness = sorted(betweenness.items(), key=itemgetter(1), reverse=True)\n",
    "\n",
    "n = 10  # Top n nodes\n",
    "print(\"Top n Nodes by Betweenness Centrality (Exact):\")\n",
    "for node, bc in sorted_betweenness[:n]:\n",
    "    in_degree = G.in_degree(node)\n",
    "    out_degree = G.out_degree(node)\n",
    "    category = G.nodes[node].get('category', 'N/A')\n",
    "    print(f\"{node} | Category: {category} | Betweenness: {bc:.6f} | In-Degree: {in_degree} | Out-Degree: {out_degree}\")"
   ]
  },
  {
   "cell_type": "code",
   "execution_count": 83,
   "metadata": {},
   "outputs": [
    {
     "name": "stdout",
     "output_type": "stream",
     "text": [
      "{'in_degree': 1551, 'out_degree': 294, 'total_words': 9453.0, 'total_links': 457.0, 'link_density': 0.04834444091822702, 'abstract_words': 470.0, 'abstract_links': 42.0, 'abstract_link_density': 0.08936170212765958, 'num_sections': 10.0, 'num_subsections': 27.0, 'num_tables': 6.0, 'category': 'Countries'}\n"
     ]
    }
   ],
   "source": [
    "print(G.nodes['United States'])"
   ]
  },
  {
   "cell_type": "code",
   "execution_count": 84,
   "metadata": {},
   "outputs": [
    {
     "data": {
      "text/plain": [
       "0.23393903773302827"
      ]
     },
     "execution_count": 84,
     "metadata": {},
     "output_type": "execute_result"
    }
   ],
   "source": [
    "nx.attribute_assortativity_coefficient(G, 'category')"
   ]
  },
  {
   "cell_type": "code",
   "execution_count": 85,
   "metadata": {},
   "outputs": [
    {
     "data": {
      "text/plain": [
       "-0.0006205002983634896"
      ]
     },
     "execution_count": 85,
     "metadata": {},
     "output_type": "execute_result"
    }
   ],
   "source": [
    "nx.attribute_assortativity_coefficient(G, 'total_words')"
   ]
  },
  {
   "cell_type": "code",
   "execution_count": 86,
   "metadata": {},
   "outputs": [
    {
     "data": {
      "text/plain": [
       "-0.0006950076864825694"
      ]
     },
     "execution_count": 86,
     "metadata": {},
     "output_type": "execute_result"
    }
   ],
   "source": [
    "nx.attribute_assortativity_coefficient(G, 'link_density')"
   ]
  },
  {
   "cell_type": "code",
   "execution_count": 92,
   "metadata": {},
   "outputs": [
    {
     "data": {
      "text/plain": [
       "-0.00011887756224751755"
      ]
     },
     "execution_count": 92,
     "metadata": {},
     "output_type": "execute_result"
    }
   ],
   "source": [
    "nx.attribute_assortativity_coefficient(G, 'total_links')"
   ]
  },
  {
   "cell_type": "code",
   "execution_count": null,
   "metadata": {},
   "outputs": [],
   "source": []
  }
 ],
 "metadata": {
  "kernelspec": {
   "display_name": "ada_project",
   "language": "python",
   "name": "python3"
  },
  "language_info": {
   "codemirror_mode": {
    "name": "ipython",
    "version": 3
   },
   "file_extension": ".py",
   "mimetype": "text/x-python",
   "name": "python",
   "nbconvert_exporter": "python",
   "pygments_lexer": "ipython3",
   "version": "3.8.19"
  }
 },
 "nbformat": 4,
 "nbformat_minor": 2
}
