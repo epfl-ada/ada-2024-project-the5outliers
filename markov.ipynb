{
 "cells": [
  {
   "cell_type": "code",
   "execution_count": 1,
   "metadata": {},
   "outputs": [],
   "source": [
    "%load_ext autoreload\n",
    "%autoreload 2"
   ]
  },
  {
   "cell_type": "markdown",
   "metadata": {},
   "source": [
    "### Comparison with random path"
   ]
  },
  {
   "cell_type": "code",
   "execution_count": 15,
   "metadata": {},
   "outputs": [],
   "source": [
    "from src.models.markov_chains import *\n",
    "from src.utils.HTMLParser import HTMLParser\n",
    "from src.utils.helpers import *\n",
    "from src.data.data_loader import *\n",
    "import pandas as pd\n",
    "import matplotlib.colors as mcolors\n",
    "import plotly.express as px\n",
    "import numpy as np\n",
    "import config\n",
    "\n",
    "parser = HTMLParser()\n",
    "parser.load_pickle()"
   ]
  },
  {
   "cell_type": "code",
   "execution_count": 3,
   "metadata": {},
   "outputs": [
    {
     "name": "stdout",
     "output_type": "stream",
     "text": [
      "Unfinished Paths\n",
      "---------------- \n",
      "Number of rows before filtering: 24875\n",
      "Invalid target articles found: {'Black ops 2', 'The Rock', 'Christmas', 'The', 'Test', 'Great', 'Fats', 'Rat', ' Zebra', 'Podcast', 'Mustard', 'Kashmir', 'Usa', 'Bogota', 'Long peper', 'Rss', 'English', 'Georgia', 'Macedonia', 'Charlottes web', 'Sportacus', 'Pikachu', 'Netbook', 'Adolph Hitler', 'Western Australia'}\n",
      "Invalid articles found in path: {'Private Peaceful', 'Local community', 'Osteomalacia', 'Wikipedia Text of the GNU Free Documentation License', 'Pikachu'}\n",
      "Number of 'timeout' games with a duration of less than 30 minutes: 7\n",
      "Number of rows after filtering: 24709 \n",
      "\n",
      "Finished Paths\n",
      "-------------- \n",
      "Number of rows before filtering: 51318\n",
      "Invalid articles found in path: {'Osteomalacia', 'Wikipedia Text of the GNU Free Documentation License', 'Local community', 'Pikachu'}\n",
      "Number of rows after filtering: 51196\n"
     ]
    }
   ],
   "source": [
    "df_article_names, df_html_stats, df_categories, df_links, df_shortest_path, df_unfinished, df_finished, df_sm, df_scat, df_article = read_all()"
   ]
  },
  {
   "cell_type": "code",
   "execution_count": 183,
   "metadata": {},
   "outputs": [],
   "source": [
    "df_paths = pd.concat([df_finished[['path', 'path_length']], df_unfinished[['path', 'path_length']]])"
   ]
  },
  {
   "cell_type": "code",
   "execution_count": 184,
   "metadata": {},
   "outputs": [],
   "source": [
    "backclick_articles = pd.concat([pd.Series(['<']), df_article_names]).reset_index(drop=True)\n",
    "backclick_categories = df_categories[['article', 'level_1']]\n",
    "backclick_categories = pd.concat([pd.DataFrame([['<', '<']], columns=['article', 'level_1']), backclick_categories], ignore_index=True)"
   ]
  },
  {
   "cell_type": "code",
   "execution_count": 185,
   "metadata": {},
   "outputs": [
    {
     "data": {
      "text/html": [
       "<div>\n",
       "<style scoped>\n",
       "    .dataframe tbody tr th:only-of-type {\n",
       "        vertical-align: middle;\n",
       "    }\n",
       "\n",
       "    .dataframe tbody tr th {\n",
       "        vertical-align: top;\n",
       "    }\n",
       "\n",
       "    .dataframe thead th {\n",
       "        text-align: right;\n",
       "    }\n",
       "</style>\n",
       "<table border=\"1\" class=\"dataframe\">\n",
       "  <thead>\n",
       "    <tr style=\"text-align: right;\">\n",
       "      <th></th>\n",
       "      <th>&lt;</th>\n",
       "      <th>Áedán mac Gabráin</th>\n",
       "      <th>Åland</th>\n",
       "      <th>Édouard Manet</th>\n",
       "      <th>Éire</th>\n",
       "      <th>Óengus I of the Picts</th>\n",
       "      <th>€2 commemorative coins</th>\n",
       "      <th>10th century</th>\n",
       "      <th>11th century</th>\n",
       "      <th>12th century</th>\n",
       "      <th>...</th>\n",
       "      <th>Ziad Jarrah</th>\n",
       "      <th>Zimbabwe</th>\n",
       "      <th>Zinc</th>\n",
       "      <th>Zinc chloride</th>\n",
       "      <th>Zion National Park</th>\n",
       "      <th>Zionism</th>\n",
       "      <th>Zirconium</th>\n",
       "      <th>Zoroaster</th>\n",
       "      <th>Zuid-Gelders</th>\n",
       "      <th>Zulu</th>\n",
       "    </tr>\n",
       "  </thead>\n",
       "  <tbody>\n",
       "    <tr>\n",
       "      <th>&lt;</th>\n",
       "      <td>0.0</td>\n",
       "      <td>0.0</td>\n",
       "      <td>0.0</td>\n",
       "      <td>0.0</td>\n",
       "      <td>0.0</td>\n",
       "      <td>0.0</td>\n",
       "      <td>0.0</td>\n",
       "      <td>0.0</td>\n",
       "      <td>0.0</td>\n",
       "      <td>0.0</td>\n",
       "      <td>...</td>\n",
       "      <td>0.0</td>\n",
       "      <td>0.0</td>\n",
       "      <td>0.0</td>\n",
       "      <td>0.0</td>\n",
       "      <td>0.0</td>\n",
       "      <td>0.0</td>\n",
       "      <td>0.0</td>\n",
       "      <td>0.0</td>\n",
       "      <td>0.0</td>\n",
       "      <td>0.0</td>\n",
       "    </tr>\n",
       "    <tr>\n",
       "      <th>Áedán mac Gabráin</th>\n",
       "      <td>0.0</td>\n",
       "      <td>0.0</td>\n",
       "      <td>0.0</td>\n",
       "      <td>0.0</td>\n",
       "      <td>0.0</td>\n",
       "      <td>0.0</td>\n",
       "      <td>0.0</td>\n",
       "      <td>0.0</td>\n",
       "      <td>0.0</td>\n",
       "      <td>0.0</td>\n",
       "      <td>...</td>\n",
       "      <td>0.0</td>\n",
       "      <td>0.0</td>\n",
       "      <td>0.0</td>\n",
       "      <td>0.0</td>\n",
       "      <td>0.0</td>\n",
       "      <td>0.0</td>\n",
       "      <td>0.0</td>\n",
       "      <td>0.0</td>\n",
       "      <td>0.0</td>\n",
       "      <td>0.0</td>\n",
       "    </tr>\n",
       "    <tr>\n",
       "      <th>Åland</th>\n",
       "      <td>0.0</td>\n",
       "      <td>0.0</td>\n",
       "      <td>0.0</td>\n",
       "      <td>0.0</td>\n",
       "      <td>0.0</td>\n",
       "      <td>0.0</td>\n",
       "      <td>0.0</td>\n",
       "      <td>0.0</td>\n",
       "      <td>0.0</td>\n",
       "      <td>0.0</td>\n",
       "      <td>...</td>\n",
       "      <td>0.0</td>\n",
       "      <td>0.0</td>\n",
       "      <td>0.0</td>\n",
       "      <td>0.0</td>\n",
       "      <td>0.0</td>\n",
       "      <td>0.0</td>\n",
       "      <td>0.0</td>\n",
       "      <td>0.0</td>\n",
       "      <td>0.0</td>\n",
       "      <td>0.0</td>\n",
       "    </tr>\n",
       "    <tr>\n",
       "      <th>Édouard Manet</th>\n",
       "      <td>0.0</td>\n",
       "      <td>0.0</td>\n",
       "      <td>0.0</td>\n",
       "      <td>0.0</td>\n",
       "      <td>0.0</td>\n",
       "      <td>0.0</td>\n",
       "      <td>0.0</td>\n",
       "      <td>0.0</td>\n",
       "      <td>0.0</td>\n",
       "      <td>0.0</td>\n",
       "      <td>...</td>\n",
       "      <td>0.0</td>\n",
       "      <td>0.0</td>\n",
       "      <td>0.0</td>\n",
       "      <td>0.0</td>\n",
       "      <td>0.0</td>\n",
       "      <td>0.0</td>\n",
       "      <td>0.0</td>\n",
       "      <td>0.0</td>\n",
       "      <td>0.0</td>\n",
       "      <td>0.0</td>\n",
       "    </tr>\n",
       "    <tr>\n",
       "      <th>Éire</th>\n",
       "      <td>0.0</td>\n",
       "      <td>0.0</td>\n",
       "      <td>0.0</td>\n",
       "      <td>0.0</td>\n",
       "      <td>0.0</td>\n",
       "      <td>0.0</td>\n",
       "      <td>0.0</td>\n",
       "      <td>0.0</td>\n",
       "      <td>0.0</td>\n",
       "      <td>0.0</td>\n",
       "      <td>...</td>\n",
       "      <td>0.0</td>\n",
       "      <td>0.0</td>\n",
       "      <td>0.0</td>\n",
       "      <td>0.0</td>\n",
       "      <td>0.0</td>\n",
       "      <td>0.0</td>\n",
       "      <td>0.0</td>\n",
       "      <td>0.0</td>\n",
       "      <td>0.0</td>\n",
       "      <td>0.0</td>\n",
       "    </tr>\n",
       "    <tr>\n",
       "      <th>...</th>\n",
       "      <td>...</td>\n",
       "      <td>...</td>\n",
       "      <td>...</td>\n",
       "      <td>...</td>\n",
       "      <td>...</td>\n",
       "      <td>...</td>\n",
       "      <td>...</td>\n",
       "      <td>...</td>\n",
       "      <td>...</td>\n",
       "      <td>...</td>\n",
       "      <td>...</td>\n",
       "      <td>...</td>\n",
       "      <td>...</td>\n",
       "      <td>...</td>\n",
       "      <td>...</td>\n",
       "      <td>...</td>\n",
       "      <td>...</td>\n",
       "      <td>...</td>\n",
       "      <td>...</td>\n",
       "      <td>...</td>\n",
       "      <td>...</td>\n",
       "    </tr>\n",
       "    <tr>\n",
       "      <th>Zionism</th>\n",
       "      <td>0.0</td>\n",
       "      <td>0.0</td>\n",
       "      <td>0.0</td>\n",
       "      <td>0.0</td>\n",
       "      <td>0.0</td>\n",
       "      <td>0.0</td>\n",
       "      <td>0.0</td>\n",
       "      <td>0.0</td>\n",
       "      <td>0.0</td>\n",
       "      <td>0.0</td>\n",
       "      <td>...</td>\n",
       "      <td>0.0</td>\n",
       "      <td>0.0</td>\n",
       "      <td>0.0</td>\n",
       "      <td>0.0</td>\n",
       "      <td>0.0</td>\n",
       "      <td>0.0</td>\n",
       "      <td>0.0</td>\n",
       "      <td>0.0</td>\n",
       "      <td>0.0</td>\n",
       "      <td>0.0</td>\n",
       "    </tr>\n",
       "    <tr>\n",
       "      <th>Zirconium</th>\n",
       "      <td>0.0</td>\n",
       "      <td>0.0</td>\n",
       "      <td>0.0</td>\n",
       "      <td>0.0</td>\n",
       "      <td>0.0</td>\n",
       "      <td>0.0</td>\n",
       "      <td>0.0</td>\n",
       "      <td>0.0</td>\n",
       "      <td>0.0</td>\n",
       "      <td>0.0</td>\n",
       "      <td>...</td>\n",
       "      <td>0.0</td>\n",
       "      <td>0.0</td>\n",
       "      <td>0.0</td>\n",
       "      <td>0.0</td>\n",
       "      <td>0.0</td>\n",
       "      <td>0.0</td>\n",
       "      <td>0.0</td>\n",
       "      <td>0.0</td>\n",
       "      <td>0.0</td>\n",
       "      <td>0.0</td>\n",
       "    </tr>\n",
       "    <tr>\n",
       "      <th>Zoroaster</th>\n",
       "      <td>0.0</td>\n",
       "      <td>0.0</td>\n",
       "      <td>0.0</td>\n",
       "      <td>0.0</td>\n",
       "      <td>0.0</td>\n",
       "      <td>0.0</td>\n",
       "      <td>0.0</td>\n",
       "      <td>0.0</td>\n",
       "      <td>0.0</td>\n",
       "      <td>0.0</td>\n",
       "      <td>...</td>\n",
       "      <td>0.0</td>\n",
       "      <td>0.0</td>\n",
       "      <td>0.0</td>\n",
       "      <td>0.0</td>\n",
       "      <td>0.0</td>\n",
       "      <td>0.0</td>\n",
       "      <td>0.0</td>\n",
       "      <td>0.0</td>\n",
       "      <td>0.0</td>\n",
       "      <td>0.0</td>\n",
       "    </tr>\n",
       "    <tr>\n",
       "      <th>Zuid-Gelders</th>\n",
       "      <td>0.0</td>\n",
       "      <td>0.0</td>\n",
       "      <td>0.0</td>\n",
       "      <td>0.0</td>\n",
       "      <td>0.0</td>\n",
       "      <td>0.0</td>\n",
       "      <td>0.0</td>\n",
       "      <td>0.0</td>\n",
       "      <td>0.0</td>\n",
       "      <td>0.0</td>\n",
       "      <td>...</td>\n",
       "      <td>0.0</td>\n",
       "      <td>0.0</td>\n",
       "      <td>0.0</td>\n",
       "      <td>0.0</td>\n",
       "      <td>0.0</td>\n",
       "      <td>0.0</td>\n",
       "      <td>0.0</td>\n",
       "      <td>0.0</td>\n",
       "      <td>0.0</td>\n",
       "      <td>0.0</td>\n",
       "    </tr>\n",
       "    <tr>\n",
       "      <th>Zulu</th>\n",
       "      <td>0.0</td>\n",
       "      <td>0.0</td>\n",
       "      <td>0.0</td>\n",
       "      <td>0.0</td>\n",
       "      <td>0.0</td>\n",
       "      <td>0.0</td>\n",
       "      <td>0.0</td>\n",
       "      <td>0.0</td>\n",
       "      <td>0.0</td>\n",
       "      <td>0.0</td>\n",
       "      <td>...</td>\n",
       "      <td>0.0</td>\n",
       "      <td>0.0</td>\n",
       "      <td>0.0</td>\n",
       "      <td>0.0</td>\n",
       "      <td>0.0</td>\n",
       "      <td>0.0</td>\n",
       "      <td>0.0</td>\n",
       "      <td>0.0</td>\n",
       "      <td>0.0</td>\n",
       "      <td>0.0</td>\n",
       "    </tr>\n",
       "  </tbody>\n",
       "</table>\n",
       "<p>4585 rows × 4585 columns</p>\n",
       "</div>"
      ],
      "text/plain": [
       "                     <  Áedán mac Gabráin  Åland  Édouard Manet  Éire  \\\n",
       "<                  0.0                0.0    0.0            0.0   0.0   \n",
       "Áedán mac Gabráin  0.0                0.0    0.0            0.0   0.0   \n",
       "Åland              0.0                0.0    0.0            0.0   0.0   \n",
       "Édouard Manet      0.0                0.0    0.0            0.0   0.0   \n",
       "Éire               0.0                0.0    0.0            0.0   0.0   \n",
       "...                ...                ...    ...            ...   ...   \n",
       "Zionism            0.0                0.0    0.0            0.0   0.0   \n",
       "Zirconium          0.0                0.0    0.0            0.0   0.0   \n",
       "Zoroaster          0.0                0.0    0.0            0.0   0.0   \n",
       "Zuid-Gelders       0.0                0.0    0.0            0.0   0.0   \n",
       "Zulu               0.0                0.0    0.0            0.0   0.0   \n",
       "\n",
       "                   Óengus I of the Picts  €2 commemorative coins  \\\n",
       "<                                    0.0                     0.0   \n",
       "Áedán mac Gabráin                    0.0                     0.0   \n",
       "Åland                                0.0                     0.0   \n",
       "Édouard Manet                        0.0                     0.0   \n",
       "Éire                                 0.0                     0.0   \n",
       "...                                  ...                     ...   \n",
       "Zionism                              0.0                     0.0   \n",
       "Zirconium                            0.0                     0.0   \n",
       "Zoroaster                            0.0                     0.0   \n",
       "Zuid-Gelders                         0.0                     0.0   \n",
       "Zulu                                 0.0                     0.0   \n",
       "\n",
       "                   10th century  11th century  12th century  ...  Ziad Jarrah  \\\n",
       "<                           0.0           0.0           0.0  ...          0.0   \n",
       "Áedán mac Gabráin           0.0           0.0           0.0  ...          0.0   \n",
       "Åland                       0.0           0.0           0.0  ...          0.0   \n",
       "Édouard Manet               0.0           0.0           0.0  ...          0.0   \n",
       "Éire                        0.0           0.0           0.0  ...          0.0   \n",
       "...                         ...           ...           ...  ...          ...   \n",
       "Zionism                     0.0           0.0           0.0  ...          0.0   \n",
       "Zirconium                   0.0           0.0           0.0  ...          0.0   \n",
       "Zoroaster                   0.0           0.0           0.0  ...          0.0   \n",
       "Zuid-Gelders                0.0           0.0           0.0  ...          0.0   \n",
       "Zulu                        0.0           0.0           0.0  ...          0.0   \n",
       "\n",
       "                   Zimbabwe  Zinc  Zinc chloride  Zion National Park  Zionism  \\\n",
       "<                       0.0   0.0            0.0                 0.0      0.0   \n",
       "Áedán mac Gabráin       0.0   0.0            0.0                 0.0      0.0   \n",
       "Åland                   0.0   0.0            0.0                 0.0      0.0   \n",
       "Édouard Manet           0.0   0.0            0.0                 0.0      0.0   \n",
       "Éire                    0.0   0.0            0.0                 0.0      0.0   \n",
       "...                     ...   ...            ...                 ...      ...   \n",
       "Zionism                 0.0   0.0            0.0                 0.0      0.0   \n",
       "Zirconium               0.0   0.0            0.0                 0.0      0.0   \n",
       "Zoroaster               0.0   0.0            0.0                 0.0      0.0   \n",
       "Zuid-Gelders            0.0   0.0            0.0                 0.0      0.0   \n",
       "Zulu                    0.0   0.0            0.0                 0.0      0.0   \n",
       "\n",
       "                   Zirconium  Zoroaster  Zuid-Gelders  Zulu  \n",
       "<                        0.0        0.0           0.0   0.0  \n",
       "Áedán mac Gabráin        0.0        0.0           0.0   0.0  \n",
       "Åland                    0.0        0.0           0.0   0.0  \n",
       "Édouard Manet            0.0        0.0           0.0   0.0  \n",
       "Éire                     0.0        0.0           0.0   0.0  \n",
       "...                      ...        ...           ...   ...  \n",
       "Zionism                  0.0        0.0           0.0   0.0  \n",
       "Zirconium                0.0        0.0           0.0   0.0  \n",
       "Zoroaster                0.0        0.0           0.0   0.0  \n",
       "Zuid-Gelders             0.0        0.0           0.0   0.0  \n",
       "Zulu                     0.0        0.0           0.0   0.0  \n",
       "\n",
       "[4585 rows x 4585 columns]"
      ]
     },
     "execution_count": 185,
     "metadata": {},
     "output_type": "execute_result"
    }
   ],
   "source": [
    "backclick_markov = get_transition_probabilities(df_article_names, parser, backclicks=True)\n",
    "backclick_users= get_nth_transition_matrix(df_paths, backclick_articles, transition=1)"
   ]
  },
  {
   "cell_type": "code",
   "execution_count": null,
   "metadata": {},
   "outputs": [
    {
     "name": "stdout",
     "output_type": "stream",
     "text": [
      "Non-zero values of random transitions: 119855\n",
      "Non-zero values of user transitions: 25151\n"
     ]
    }
   ],
   "source": [
    "markov_transitions = get_transition_probabilities(df_article_names, parser, backclicks=False)\n",
    "user_transitions = get_nth_transition_matrix(df_finished, df_article_names, 1)\n",
    "\n",
    "print(f'Non-zero values of random transitions: {np.count_nonzero(markov_transitions)}')\n",
    "print(f'Non-zero values of user transitions: {np.count_nonzero(user_transitions.to_numpy())}')"
   ]
  },
  {
   "cell_type": "markdown",
   "metadata": {},
   "source": [
    "<div class=\"alert alert-block alert-info\">\n",
    "\n",
    "The transition matrix's $P$ left eigenvector with eigenvalue 1 (i.e. $x$ such that $xP=x$) is called the steady-state of the system. Let's call the normalised vector $x = (x_1, x_2, \\dots, x_N)$, where the sum of all $x_i$ is 1. After $\\infty$ iterations, starting from whatever article, the probability distribution of the end article is given by $x$. \n",
    "\n",
    "**Example**: For 3 articles, let's say that we have $x=(0.2, 0.3, 0.5)$. Then, when starting from any of the articles and taking infinitely many steps, there is probability 0.2 to be in article 1, probability 0.3 to be in article 2 and probability 0.5 to be in article 3.\n",
    "\n",
    "</div>"
   ]
  },
  {
   "cell_type": "code",
   "execution_count": 5,
   "metadata": {},
   "outputs": [],
   "source": [
    "ss = compute_steady_state(markov_transitions, df_article_names)"
   ]
  },
  {
   "cell_type": "code",
   "execution_count": null,
   "metadata": {},
   "outputs": [
    {
     "data": {
      "text/html": [
       "<div>\n",
       "<style scoped>\n",
       "    .dataframe tbody tr th:only-of-type {\n",
       "        vertical-align: middle;\n",
       "    }\n",
       "\n",
       "    .dataframe tbody tr th {\n",
       "        vertical-align: top;\n",
       "    }\n",
       "\n",
       "    .dataframe thead th {\n",
       "        text-align: right;\n",
       "    }\n",
       "</style>\n",
       "<table border=\"1\" class=\"dataframe\">\n",
       "  <thead>\n",
       "    <tr style=\"text-align: right;\">\n",
       "      <th></th>\n",
       "      <th>articles</th>\n",
       "      <th>value</th>\n",
       "    </tr>\n",
       "  </thead>\n",
       "  <tbody>\n",
       "    <tr>\n",
       "      <th>4280</th>\n",
       "      <td>United States</td>\n",
       "      <td>0.013515</td>\n",
       "    </tr>\n",
       "    <tr>\n",
       "      <th>1562</th>\n",
       "      <td>France</td>\n",
       "      <td>0.010126</td>\n",
       "    </tr>\n",
       "    <tr>\n",
       "      <th>4276</th>\n",
       "      <td>United Kingdom</td>\n",
       "      <td>0.009922</td>\n",
       "    </tr>\n",
       "    <tr>\n",
       "      <th>1427</th>\n",
       "      <td>Europe</td>\n",
       "      <td>0.007502</td>\n",
       "    </tr>\n",
       "    <tr>\n",
       "      <th>1687</th>\n",
       "      <td>Germany</td>\n",
       "      <td>0.007472</td>\n",
       "    </tr>\n",
       "    <tr>\n",
       "      <th>1383</th>\n",
       "      <td>English language</td>\n",
       "      <td>0.006910</td>\n",
       "    </tr>\n",
       "    <tr>\n",
       "      <th>1433</th>\n",
       "      <td>European Union</td>\n",
       "      <td>0.006109</td>\n",
       "    </tr>\n",
       "    <tr>\n",
       "      <th>4523</th>\n",
       "      <td>World War II</td>\n",
       "      <td>0.005818</td>\n",
       "    </tr>\n",
       "    <tr>\n",
       "      <th>3554</th>\n",
       "      <td>Russia</td>\n",
       "      <td>0.005677</td>\n",
       "    </tr>\n",
       "    <tr>\n",
       "      <th>1379</th>\n",
       "      <td>England</td>\n",
       "      <td>0.005490</td>\n",
       "    </tr>\n",
       "    <tr>\n",
       "      <th>2176</th>\n",
       "      <td>Italy</td>\n",
       "      <td>0.005476</td>\n",
       "    </tr>\n",
       "    <tr>\n",
       "      <th>2091</th>\n",
       "      <td>India</td>\n",
       "      <td>0.005415</td>\n",
       "    </tr>\n",
       "    <tr>\n",
       "      <th>3815</th>\n",
       "      <td>Spain</td>\n",
       "      <td>0.005299</td>\n",
       "    </tr>\n",
       "    <tr>\n",
       "      <th>1591</th>\n",
       "      <td>French language</td>\n",
       "      <td>0.004801</td>\n",
       "    </tr>\n",
       "    <tr>\n",
       "      <th>2219</th>\n",
       "      <td>Japan</td>\n",
       "      <td>0.004607</td>\n",
       "    </tr>\n",
       "    <tr>\n",
       "      <th>2409</th>\n",
       "      <td>Latin</td>\n",
       "      <td>0.004605</td>\n",
       "    </tr>\n",
       "    <tr>\n",
       "      <th>893</th>\n",
       "      <td>China</td>\n",
       "      <td>0.004468</td>\n",
       "    </tr>\n",
       "    <tr>\n",
       "      <th>906</th>\n",
       "      <td>Christianity</td>\n",
       "      <td>0.003903</td>\n",
       "    </tr>\n",
       "    <tr>\n",
       "      <th>4279</th>\n",
       "      <td>United Nations</td>\n",
       "      <td>0.003844</td>\n",
       "    </tr>\n",
       "    <tr>\n",
       "      <th>767</th>\n",
       "      <td>Canada</td>\n",
       "      <td>0.003791</td>\n",
       "    </tr>\n",
       "  </tbody>\n",
       "</table>\n",
       "</div>"
      ],
      "text/plain": [
       "              articles     value\n",
       "4280     United States  0.013515\n",
       "1562            France  0.010126\n",
       "4276    United Kingdom  0.009922\n",
       "1427            Europe  0.007502\n",
       "1687           Germany  0.007472\n",
       "1383  English language  0.006910\n",
       "1433    European Union  0.006109\n",
       "4523      World War II  0.005818\n",
       "3554            Russia  0.005677\n",
       "1379           England  0.005490\n",
       "2176             Italy  0.005476\n",
       "2091             India  0.005415\n",
       "3815             Spain  0.005299\n",
       "1591   French language  0.004801\n",
       "2219             Japan  0.004607\n",
       "2409             Latin  0.004605\n",
       "893              China  0.004468\n",
       "906       Christianity  0.003903\n",
       "4279    United Nations  0.003844\n",
       "767             Canada  0.003791"
      ]
     },
     "execution_count": 9,
     "metadata": {},
     "output_type": "execute_result"
    }
   ],
   "source": [
    "ss.sort_values(by='steady_state_proportion', ascending=False).head(20)"
   ]
  },
  {
   "cell_type": "code",
   "execution_count": null,
   "metadata": {},
   "outputs": [],
   "source": [
    "markov_transitions = get_transition_probabilities(df_article_names, parser, backclicks=True)\n",
    "ssb = compute_steady_state(markov_transitions, df_article_names, backclicks=True)"
   ]
  },
  {
   "cell_type": "code",
   "execution_count": 10,
   "metadata": {},
   "outputs": [
    {
     "data": {
      "text/html": [
       "<div>\n",
       "<style scoped>\n",
       "    .dataframe tbody tr th:only-of-type {\n",
       "        vertical-align: middle;\n",
       "    }\n",
       "\n",
       "    .dataframe tbody tr th {\n",
       "        vertical-align: top;\n",
       "    }\n",
       "\n",
       "    .dataframe thead th {\n",
       "        text-align: right;\n",
       "    }\n",
       "</style>\n",
       "<table border=\"1\" class=\"dataframe\">\n",
       "  <thead>\n",
       "    <tr style=\"text-align: right;\">\n",
       "      <th></th>\n",
       "      <th>articles</th>\n",
       "      <th>value</th>\n",
       "    </tr>\n",
       "  </thead>\n",
       "  <tbody>\n",
       "    <tr>\n",
       "      <th>0</th>\n",
       "      <td>&lt;</td>\n",
       "      <td>0.022395</td>\n",
       "    </tr>\n",
       "    <tr>\n",
       "      <th>4281</th>\n",
       "      <td>United States</td>\n",
       "      <td>0.013123</td>\n",
       "    </tr>\n",
       "    <tr>\n",
       "      <th>1563</th>\n",
       "      <td>France</td>\n",
       "      <td>0.009682</td>\n",
       "    </tr>\n",
       "    <tr>\n",
       "      <th>4277</th>\n",
       "      <td>United Kingdom</td>\n",
       "      <td>0.009540</td>\n",
       "    </tr>\n",
       "    <tr>\n",
       "      <th>1428</th>\n",
       "      <td>Europe</td>\n",
       "      <td>0.007221</td>\n",
       "    </tr>\n",
       "    <tr>\n",
       "      <th>1688</th>\n",
       "      <td>Germany</td>\n",
       "      <td>0.007137</td>\n",
       "    </tr>\n",
       "    <tr>\n",
       "      <th>1384</th>\n",
       "      <td>English language</td>\n",
       "      <td>0.006593</td>\n",
       "    </tr>\n",
       "    <tr>\n",
       "      <th>1434</th>\n",
       "      <td>European Union</td>\n",
       "      <td>0.005803</td>\n",
       "    </tr>\n",
       "    <tr>\n",
       "      <th>4524</th>\n",
       "      <td>World War II</td>\n",
       "      <td>0.005620</td>\n",
       "    </tr>\n",
       "    <tr>\n",
       "      <th>3555</th>\n",
       "      <td>Russia</td>\n",
       "      <td>0.005439</td>\n",
       "    </tr>\n",
       "    <tr>\n",
       "      <th>1380</th>\n",
       "      <td>England</td>\n",
       "      <td>0.005312</td>\n",
       "    </tr>\n",
       "    <tr>\n",
       "      <th>2177</th>\n",
       "      <td>Italy</td>\n",
       "      <td>0.005227</td>\n",
       "    </tr>\n",
       "    <tr>\n",
       "      <th>2092</th>\n",
       "      <td>India</td>\n",
       "      <td>0.005177</td>\n",
       "    </tr>\n",
       "    <tr>\n",
       "      <th>3816</th>\n",
       "      <td>Spain</td>\n",
       "      <td>0.005071</td>\n",
       "    </tr>\n",
       "    <tr>\n",
       "      <th>1592</th>\n",
       "      <td>French language</td>\n",
       "      <td>0.004554</td>\n",
       "    </tr>\n",
       "    <tr>\n",
       "      <th>2220</th>\n",
       "      <td>Japan</td>\n",
       "      <td>0.004433</td>\n",
       "    </tr>\n",
       "    <tr>\n",
       "      <th>2410</th>\n",
       "      <td>Latin</td>\n",
       "      <td>0.004355</td>\n",
       "    </tr>\n",
       "    <tr>\n",
       "      <th>894</th>\n",
       "      <td>China</td>\n",
       "      <td>0.004250</td>\n",
       "    </tr>\n",
       "    <tr>\n",
       "      <th>2530</th>\n",
       "      <td>London</td>\n",
       "      <td>0.003687</td>\n",
       "    </tr>\n",
       "    <tr>\n",
       "      <th>768</th>\n",
       "      <td>Canada</td>\n",
       "      <td>0.003683</td>\n",
       "    </tr>\n",
       "  </tbody>\n",
       "</table>\n",
       "</div>"
      ],
      "text/plain": [
       "              articles     value\n",
       "0                    <  0.022395\n",
       "4281     United States  0.013123\n",
       "1563            France  0.009682\n",
       "4277    United Kingdom  0.009540\n",
       "1428            Europe  0.007221\n",
       "1688           Germany  0.007137\n",
       "1384  English language  0.006593\n",
       "1434    European Union  0.005803\n",
       "4524      World War II  0.005620\n",
       "3555            Russia  0.005439\n",
       "1380           England  0.005312\n",
       "2177             Italy  0.005227\n",
       "2092             India  0.005177\n",
       "3816             Spain  0.005071\n",
       "1592   French language  0.004554\n",
       "2220             Japan  0.004433\n",
       "2410             Latin  0.004355\n",
       "894              China  0.004250\n",
       "2530            London  0.003687\n",
       "768             Canada  0.003683"
      ]
     },
     "execution_count": 10,
     "metadata": {},
     "output_type": "execute_result"
    }
   ],
   "source": [
    "ssb.sort_values(by='steady_state_proportion', ascending=False).head(20)"
   ]
  },
  {
   "cell_type": "markdown",
   "metadata": {},
   "source": [
    "<div class=\"alert alert-block alert-success\">\n",
    "There is indeed a vector with eigenvalue one, so there is a steady state in the system. To find the probabilities to be in a certain article in the steady state, we can look at the normalised values of the eigenvector. We see that United States is the most likely article to be in, followed mainly by a bunch of other countries.\n",
    "</div>"
   ]
  },
  {
   "cell_type": "markdown",
   "metadata": {},
   "source": [
    "<div class=\"alert alert-block alert-info\">\n",
    "\n",
    "#### Compare user vs random\n",
    "\n",
    "Let's start in any article $i$ and take $l$ steps in the network, which leads to article $j$. The probability of this happening by chance in the network is simply $P_{ij}(l)=A^l_{ij}$. To get probabilities of transitions for every pair of articles and path length $l$, we only need to take the $l$-th power of the transition matrix! This effectively characterises the bias of the network itself: if users pass by an article A very often BUT that only by chance you end up on the same article often too, we cannot conclude that the user made that choice. \n",
    "\n",
    "To characterise the user choices, we simply take the paths they created by playing. We can then similarly create a transition matrix based on observed data: just take the aggregated count of all the transitions from all starting articles. For instance, from article $i$ we count 2 transitions to article $j_1$, 3 to $j_2$ and none to $j_3$. The normalised transition probabilities for article $i$ are then $(0.4, 0.6, 0)$. \n",
    "\n",
    "The difference in transition probabilities $\\Delta P=(0.4, 0.6, 0) - (0.2, 0.3, 0.5) = (0.2, 0.3, -0.5) \\in [-1, 1]^3$ then gives an idea of how likely it is that a user purposedly made a choice and not only ended in an article by accident. A highly positive value means that even though the transition is very unlikely in the network, the user made that choice. A larger negative value means that a user took a path that is rather unlikely under the random walk assumption. The Markov Chain allows to filter out the network bias in the user decisions.\n",
    "\n",
    "<b>Note:</b> Maybe look into odds instead of probabilities to be more rigorous? https://stats.stackexchange.com/questions/22796/compare-the-difference-of-two-probabilities-or-a-ratio-of-probabilities\n",
    "\n",
    "</div>"
   ]
  },
  {
   "cell_type": "code",
   "execution_count": null,
   "metadata": {},
   "outputs": [],
   "source": [
    "#TODO: replace with markov, regrouper par categories comme plot avant\n",
    "#TODO: plot camille position page structure"
   ]
  },
  {
   "cell_type": "code",
   "execution_count": 11,
   "metadata": {},
   "outputs": [
    {
     "data": {
      "text/plain": [
       "array(['Art', 'Mathematics', 'IT', 'Business Studies', 'Music',\n",
       "       'Religion', 'Language and literature', 'Citizenship',\n",
       "       'World Regions', 'Design and Technology', 'Everyday life',\n",
       "       'History', 'People', 'Geography', 'Science'], dtype=object)"
      ]
     },
     "execution_count": 11,
     "metadata": {},
     "output_type": "execute_result"
    }
   ],
   "source": [
    "world_regions_categories = ['Geography of Great Britain', 'Geography of Asia', 'Geography of Oceania Australasia', 'North American Geography', 'European Geography', 'African Geography', 'Central and South American Geography', 'Antarctica', 'Geography of the Middle East', 'African Countries', 'Countries']\n",
    "df_categories = assign_world_region_categories(df_categories, world_regions_categories)\n",
    "\n",
    "df_categories['level_1'].unique()\n"
   ]
  },
  {
   "cell_type": "code",
   "execution_count": 10,
   "metadata": {},
   "outputs": [
    {
     "data": {
      "text/plain": [
       "article\n",
       "United States                219.681123\n",
       "Europe                       100.233262\n",
       "England                       95.131996\n",
       "United Kingdom                69.586810\n",
       "World War II                  40.748234\n",
       "                                ...    \n",
       "Animal                       -10.015920\n",
       "Carolus Linnaeus             -10.290777\n",
       "Binomial nomenclature        -18.524412\n",
       "Chordate                     -19.782002\n",
       "Scientific classification    -21.930998\n",
       "Length: 4584, dtype: float64"
      ]
     },
     "execution_count": 10,
     "metadata": {},
     "output_type": "execute_result"
    }
   ],
   "source": [
    "diff = user_transitions-markov_transitions\n",
    "mean_diff_indegree = diff.sum(axis=0).sort_values(ascending=False)\n",
    "mean_diff_indegree"
   ]
  },
  {
   "cell_type": "code",
   "execution_count": 11,
   "metadata": {},
   "outputs": [
    {
     "data": {
      "image/png": "[encoded data removed]",
      "text/plain": [
       "<Figure size 640x480 with 2 Axes>"
      ]
     },
     "metadata": {},
     "output_type": "display_data"
    }
   ],
   "source": [
    "import seaborn as sn\n",
    "import matplotlib.pyplot as plt\n",
    "sn.heatmap(diff.iloc[4200:4300, 4200:4300], cmap='BuPu', cbar=True)\n",
    "plt.show()"
   ]
  },
  {
   "cell_type": "code",
   "execution_count": 13,
   "metadata": {},
   "outputs": [
    {
     "name": "stderr",
     "output_type": "stream",
     "text": [
      "c:\\Users\\yanni\\.conda\\envs\\ada_project\\lib\\site-packages\\pandas\\core\\internals\\blocks.py:329: RuntimeWarning: divide by zero encountered in log\n",
      "  result = func(self.values, **kwargs)\n"
     ]
    },
    {
     "data": {
      "text/plain": [
       "article\n",
       "United States           580.752776\n",
       "Europe                  276.440782\n",
       "England                 254.826100\n",
       "United Kingdom          202.655357\n",
       "World War II            126.872270\n",
       "                           ...    \n",
       "GNOME                    -0.265180\n",
       "Abhidhamma Pitaka        -0.270310\n",
       "The Supremes             -0.295799\n",
       "Wikimedia Foundation     -0.329321\n",
       "Action potential         -0.347136\n",
       "Length: 4584, dtype: float64"
      ]
     },
     "execution_count": 13,
     "metadata": {},
     "output_type": "execute_result"
    }
   ],
   "source": [
    "KL = np.where((user_transitions > 0) & (markov_transitions > 0), user_transitions * np.log(user_transitions / markov_transitions), 0)\n",
    "KL_df = pd.DataFrame(KL, columns=user_transitions.columns, index=user_transitions.index)\n",
    "mean_KL = KL_df.sum(axis=0).sort_values(ascending=False)\n",
    "mean_KL"
   ]
  },
  {
   "cell_type": "code",
   "execution_count": 14,
   "metadata": {},
   "outputs": [
    {
     "data": {
      "image/png": "[encoded data removed]",
      "text/plain": [
       "<Figure size 640x480 with 2 Axes>"
      ]
     },
     "metadata": {},
     "output_type": "display_data"
    }
   ],
   "source": [
    "sn.heatmap(KL_df.iloc[4200:4300, 4200:4300], cmap='BuPu', cbar=True)\n",
    "plt.show()"
   ]
  },
  {
   "cell_type": "markdown",
   "metadata": {},
   "source": [
    "<div class=\"alert alert-block alert-success\">\n",
    "\n",
    "For the first transition, much more users go to United States or Europe than only following random transitions would.\n",
    "\n",
    "<b>Notes:</b> \n",
    "- Values close to 0 means it is close to random behaviour. Values that are closer to -1 or 1 are the special behaviour, either clicking much more or much less on certain articles than random would predict.\n",
    "- How could we remove the link position bias? Maybe check if certain links are on the top/bottom of the page and give more or less importance accordingly?\n",
    "- Does adding backclicks as in the function above make sense?\n",
    "</div>"
   ]
  },
  {
   "cell_type": "markdown",
   "metadata": {},
   "source": [
    "## How does user's deviation from random path evolve during games ?\n"
   ]
  },
  {
   "cell_type": "markdown",
   "metadata": {},
   "source": [
    "<div class=\"alert alert-block alert-success\">\n",
    "\n",
    "We can look at the difference between user games and random games at different steps of the game. This highlights the evolution of which articles palyers **voluntarily chose** to visit at different stages of the game. \n",
    "</div>"
   ]
  },
  {
   "cell_type": "code",
   "execution_count": 73,
   "metadata": {},
   "outputs": [],
   "source": [
    "%%capture\n",
    "mean_KL_step = get_step_divergences(df_article_names, parser, df_paths)"
   ]
  },
  {
   "cell_type": "code",
   "execution_count": 63,
   "metadata": {},
   "outputs": [
    {
     "data": {
      "text/html": [
       "<div>\n",
       "<style scoped>\n",
       "    .dataframe tbody tr th:only-of-type {\n",
       "        vertical-align: middle;\n",
       "    }\n",
       "\n",
       "    .dataframe tbody tr th {\n",
       "        vertical-align: top;\n",
       "    }\n",
       "\n",
       "    .dataframe thead tr th {\n",
       "        text-align: left;\n",
       "    }\n",
       "\n",
       "    .dataframe thead tr:last-of-type th {\n",
       "        text-align: right;\n",
       "    }\n",
       "</style>\n",
       "<table border=\"1\" class=\"dataframe\">\n",
       "  <thead>\n",
       "    <tr>\n",
       "      <th></th>\n",
       "      <th colspan=\"2\" halign=\"left\">1</th>\n",
       "      <th colspan=\"2\" halign=\"left\">2</th>\n",
       "      <th>3</th>\n",
       "    </tr>\n",
       "    <tr>\n",
       "      <th></th>\n",
       "      <th>mean</th>\n",
       "      <th>std</th>\n",
       "      <th>mean</th>\n",
       "      <th>std</th>\n",
       "      <th>mean</th>\n",
       "    </tr>\n",
       "    <tr>\n",
       "      <th>article</th>\n",
       "      <th></th>\n",
       "      <th></th>\n",
       "      <th></th>\n",
       "      <th></th>\n",
       "      <th></th>\n",
       "    </tr>\n",
       "  </thead>\n",
       "  <tbody>\n",
       "    <tr>\n",
       "      <th>United States</th>\n",
       "      <td>0.117266</td>\n",
       "      <td>0.306368</td>\n",
       "      <td>0.056909</td>\n",
       "      <td>0.312469</td>\n",
       "      <td>0.023799</td>\n",
       "    </tr>\n",
       "    <tr>\n",
       "      <th>Europe</th>\n",
       "      <td>0.053836</td>\n",
       "      <td>0.211951</td>\n",
       "      <td>0.022400</td>\n",
       "      <td>0.195713</td>\n",
       "      <td>0.012401</td>\n",
       "    </tr>\n",
       "    <tr>\n",
       "      <th>England</th>\n",
       "      <td>0.051067</td>\n",
       "      <td>0.211649</td>\n",
       "      <td>0.025769</td>\n",
       "      <td>0.212493</td>\n",
       "      <td>0.012750</td>\n",
       "    </tr>\n",
       "    <tr>\n",
       "      <th>United Kingdom</th>\n",
       "      <td>0.039282</td>\n",
       "      <td>0.160167</td>\n",
       "      <td>0.021919</td>\n",
       "      <td>0.178657</td>\n",
       "      <td>0.007489</td>\n",
       "    </tr>\n",
       "    <tr>\n",
       "      <th>World War II</th>\n",
       "      <td>0.022942</td>\n",
       "      <td>0.117402</td>\n",
       "      <td>0.009356</td>\n",
       "      <td>0.102462</td>\n",
       "      <td>0.007576</td>\n",
       "    </tr>\n",
       "  </tbody>\n",
       "</table>\n",
       "</div>"
      ],
      "text/plain": [
       "                       1                   2                   3\n",
       "                    mean       std      mean       std      mean\n",
       "article                                                         \n",
       "United States   0.117266  0.306368  0.056909  0.312469  0.023799\n",
       "Europe          0.053836  0.211951  0.022400  0.195713  0.012401\n",
       "England         0.051067  0.211649  0.025769  0.212493  0.012750\n",
       "United Kingdom  0.039282  0.160167  0.021919  0.178657  0.007489\n",
       "World War II    0.022942  0.117402  0.009356  0.102462  0.007576"
      ]
     },
     "execution_count": 63,
     "metadata": {},
     "output_type": "execute_result"
    }
   ],
   "source": [
    "mean_KL_step.iloc[:5, :5]"
   ]
  },
  {
   "cell_type": "code",
   "execution_count": 64,
   "metadata": {},
   "outputs": [
    {
     "data": {
      "text/plain": [
       "MultiIndex([( 1, 'mean'),\n",
       "            ( 1,  'std'),\n",
       "            ( 2, 'mean'),\n",
       "            ( 2,  'std'),\n",
       "            ( 3, 'mean'),\n",
       "            ( 3,  'std'),\n",
       "            ( 4, 'mean'),\n",
       "            ( 4,  'std'),\n",
       "            ( 5, 'mean'),\n",
       "            ( 5,  'std'),\n",
       "            ( 6, 'mean'),\n",
       "            ( 6,  'std'),\n",
       "            ( 7, 'mean'),\n",
       "            ( 7,  'std'),\n",
       "            ( 8, 'mean'),\n",
       "            ( 8,  'std'),\n",
       "            ( 9, 'mean'),\n",
       "            ( 9,  'std'),\n",
       "            (10, 'mean'),\n",
       "            (10,  'std')],\n",
       "           )"
      ]
     },
     "execution_count": 64,
     "metadata": {},
     "output_type": "execute_result"
    }
   ],
   "source": [
    "mean_KL_step.columns"
   ]
  },
  {
   "cell_type": "code",
   "execution_count": 68,
   "metadata": {},
   "outputs": [
    {
     "data": {
      "text/html": [
       "<div>\n",
       "<style scoped>\n",
       "    .dataframe tbody tr th:only-of-type {\n",
       "        vertical-align: middle;\n",
       "    }\n",
       "\n",
       "    .dataframe tbody tr th {\n",
       "        vertical-align: top;\n",
       "    }\n",
       "\n",
       "    .dataframe thead th {\n",
       "        text-align: right;\n",
       "    }\n",
       "</style>\n",
       "<table border=\"1\" class=\"dataframe\">\n",
       "  <thead>\n",
       "    <tr style=\"text-align: right;\">\n",
       "      <th></th>\n",
       "      <th>1</th>\n",
       "      <th>2</th>\n",
       "      <th>3</th>\n",
       "      <th>4</th>\n",
       "      <th>5</th>\n",
       "    </tr>\n",
       "    <tr>\n",
       "      <th>article</th>\n",
       "      <th></th>\n",
       "      <th></th>\n",
       "      <th></th>\n",
       "      <th></th>\n",
       "      <th></th>\n",
       "    </tr>\n",
       "  </thead>\n",
       "  <tbody>\n",
       "    <tr>\n",
       "      <th>United States</th>\n",
       "      <td>0.306368</td>\n",
       "      <td>0.312469</td>\n",
       "      <td>0.189296</td>\n",
       "      <td>0.148143</td>\n",
       "      <td>0.166196</td>\n",
       "    </tr>\n",
       "    <tr>\n",
       "      <th>Europe</th>\n",
       "      <td>0.211951</td>\n",
       "      <td>0.195713</td>\n",
       "      <td>0.168021</td>\n",
       "      <td>0.091898</td>\n",
       "      <td>0.035447</td>\n",
       "    </tr>\n",
       "    <tr>\n",
       "      <th>England</th>\n",
       "      <td>0.211649</td>\n",
       "      <td>0.212493</td>\n",
       "      <td>0.158779</td>\n",
       "      <td>0.148559</td>\n",
       "      <td>0.103701</td>\n",
       "    </tr>\n",
       "    <tr>\n",
       "      <th>United Kingdom</th>\n",
       "      <td>0.160167</td>\n",
       "      <td>0.178657</td>\n",
       "      <td>0.112654</td>\n",
       "      <td>0.107024</td>\n",
       "      <td>0.088527</td>\n",
       "    </tr>\n",
       "    <tr>\n",
       "      <th>World War II</th>\n",
       "      <td>0.117402</td>\n",
       "      <td>0.102462</td>\n",
       "      <td>0.114302</td>\n",
       "      <td>0.057090</td>\n",
       "      <td>0.080536</td>\n",
       "    </tr>\n",
       "  </tbody>\n",
       "</table>\n",
       "</div>"
      ],
      "text/plain": [
       "                       1         2         3         4         5\n",
       "article                                                         \n",
       "United States   0.306368  0.312469  0.189296  0.148143  0.166196\n",
       "Europe          0.211951  0.195713  0.168021  0.091898  0.035447\n",
       "England         0.211649  0.212493  0.158779  0.148559  0.103701\n",
       "United Kingdom  0.160167  0.178657  0.112654  0.107024  0.088527\n",
       "World War II    0.117402  0.102462  0.114302  0.057090  0.080536"
      ]
     },
     "execution_count": 68,
     "metadata": {},
     "output_type": "execute_result"
    }
   ],
   "source": [
    "df_mean = mean_KL_step.xs('mean', level=1, axis=1)\n",
    "df_std = mean_KL_step.xs('std', level=1, axis=1)\n",
    "df_std.iloc[:5, :5]"
   ]
  },
  {
   "cell_type": "code",
   "execution_count": 194,
   "metadata": {},
   "outputs": [
    {
     "data": {
      "application/vnd.plotly.v1+json": {
       "config": {
        "plotlyServerURL": "https://plot.ly"
       },
       "data": [
        {
         "line": {
          "color": "#1AC5BD"
         },
         "name": "United States",
         "type": "scatter",
         "x": [
          1,
          2,
          3,
          4,
          5,
          6,
          7,
          8,
          9,
          10
         ],
         "y": [
          0.11726586756140331,
          0.05690892167186058,
          0.023799154399749486,
          0.01559905133369799,
          0.01626593218333205,
          0.013558924761205732,
          0.014999967101494245,
          0.011906590279647973,
          0.00797319620359284,
          0.013218921009725717
         ]
        },
        {
         "fill": "toself",
         "fillcolor": "rgba(26,197,189,0.2)",
         "hoverinfo": "skip",
         "line": {
          "color": "rgba(255,255,255,0)"
         },
         "showlegend": false,
         "type": "scatter",
         "x": [
          1,
          2,
          3,
          4,
          5,
          6,
          7,
          8,
          9,
          10,
          10,
          9,
          8,
          7,
          6,
          5,
          4,
          3,
          2,
          1
         ],
         "y": [
          0.12179089858211017,
          0.06152405817633905,
          0.026595041941165912,
          0.0177871076976956,
          0.018720635267536007,
          0.016026794539110687,
          0.01748496107776644,
          0.014151031700250635,
          0.009782942517983569,
          0.01567783614482589,
          0.010760005874625542,
          0.006163449889202113,
          0.009662148859045311,
          0.01251497312522205,
          0.011091054983300777,
          0.013811229099128096,
          0.013410994969700381,
          0.02100326685833306,
          0.05229378516738212,
          0.11274083654069644
         ]
        },
        {
         "line": {
          "color": "#1AC5BD"
         },
         "name": "Europe",
         "type": "scatter",
         "x": [
          1,
          2,
          3,
          4,
          5,
          6,
          7,
          8,
          9,
          10
         ],
         "y": [
          0.05383574045959651,
          0.0224000246545752,
          0.012401031166946649,
          0.004872860731229787,
          0.002259436371411768,
          0.0024947792239507103,
          0.0029672968816055532,
          0.003766747824646156,
          0.0023778820053076,
          0.004000019963146281
         ]
        },
        {
         "fill": "toself",
         "fillcolor": "rgba(26,197,189,0.2)",
         "hoverinfo": "skip",
         "line": {
          "color": "rgba(255,255,255,0)"
         },
         "showlegend": false,
         "type": "scatter",
         "x": [
          1,
          2,
          3,
          4,
          5,
          6,
          7,
          8,
          9,
          10,
          10,
          9,
          8,
          7,
          6,
          5,
          4,
          3,
          2,
          1
         ],
         "y": [
          0.05696623844556013,
          0.0252906802685598,
          0.014882682388452789,
          0.006230192068211515,
          0.002782984297643359,
          0.0031089982126166478,
          0.003991087323461428,
          0.005210057863236237,
          0.0032258096943774523,
          0.005434013933407978,
          0.002566025992884584,
          0.0015299543162377474,
          0.0023234377860560746,
          0.0019435064397496785,
          0.0018805602352847729,
          0.0017358884451801775,
          0.0035155293942480594,
          0.00991937994544051,
          0.019509369040590602,
          0.05070524247363288
         ]
        },
        {
         "line": {
          "color": "#1AC5BD"
         },
         "name": "England",
         "type": "scatter",
         "x": [
          1,
          2,
          3,
          4,
          5,
          6,
          7,
          8,
          9,
          10
         ],
         "y": [
          0.051066609326289765,
          0.025768906482552343,
          0.012750017472618048,
          0.010480282328018179,
          0.0059601440340247,
          0.005419043266828138,
          0.0034061113367394712,
          0.00242894982218988,
          0.004620484322782886,
          0.003154118212723778
         ]
        },
        {
         "fill": "toself",
         "fillcolor": "rgba(26,197,189,0.2)",
         "hoverinfo": "skip",
         "line": {
          "color": "rgba(255,255,255,0)"
         },
         "showlegend": false,
         "type": "scatter",
         "x": [
          1,
          2,
          3,
          4,
          5,
          6,
          7,
          8,
          9,
          10,
          10,
          9,
          8,
          7,
          6,
          5,
          4,
          3,
          2,
          1
         ],
         "y": [
          0.054192639523786015,
          0.028907410118210606,
          0.015095162020474031,
          0.012674490165943526,
          0.007491793719032706,
          0.0069433225661664315,
          0.004609492573391093,
          0.003433182849088761,
          0.006084621461451901,
          0.0043932426465205674,
          0.0019149937789269883,
          0.0031563471841138703,
          0.0014247167952909992,
          0.0022027301000878494,
          0.003894763967489844,
          0.004428494349016695,
          0.008286074490092832,
          0.010404872924762065,
          0.02263040284689408,
          0.047940579128793515
         ]
        },
        {
         "line": {
          "color": "#1AC5BD"
         },
         "name": "United Kingdom",
         "type": "scatter",
         "x": [
          1,
          2,
          3,
          4,
          5,
          6,
          7,
          8,
          9,
          10
         ],
         "y": [
          0.03928190444712688,
          0.021918646635231204,
          0.007489132271981874,
          0.005548195300901079,
          0.00428167702528824,
          0.003915943399541101,
          0.0026403935425426896,
          0.003226711811907509,
          0.0036498543111873507,
          0.0029860576501478144
         ]
        },
        {
         "fill": "toself",
         "fillcolor": "rgba(26,197,189,0.2)",
         "hoverinfo": "skip",
         "line": {
          "color": "rgba(255,255,255,0)"
         },
         "showlegend": false,
         "type": "scatter",
         "x": [
          1,
          2,
          3,
          4,
          5,
          6,
          7,
          8,
          9,
          10,
          10,
          9,
          8,
          7,
          6,
          5,
          4,
          3,
          2,
          1
         ],
         "y": [
          0.041647562510538645,
          0.024557387402489653,
          0.009153019698980332,
          0.007128924221409404,
          0.005589219762189445,
          0.005072277325229669,
          0.003613921055228213,
          0.004395051057371596,
          0.004883947110213956,
          0.004056542726015253,
          0.0019155725742803754,
          0.002415761512160746,
          0.002058372566443422,
          0.0016668660298571661,
          0.0027596094738525324,
          0.002974134288387034,
          0.003967466380392754,
          0.005825244844983416,
          0.019279905867972756,
          0.03691624638371511
         ]
        },
        {
         "line": {
          "color": "#494949"
         },
         "name": "World War II",
         "type": "scatter",
         "x": [
          1,
          2,
          3,
          4,
          5,
          6,
          7,
          8,
          9,
          10
         ],
         "y": [
          0.022942448983428777,
          0.00935577565639786,
          0.007576291421792821,
          0.0033927755416736875,
          0.0033232201105036327,
          0.0024935132854567135,
          0.002131033826256952,
          0.002575368628220913,
          0.002528735269899443,
          0.002535139222143105
         ]
        },
        {
         "fill": "toself",
         "fillcolor": "rgba(73,73,73,0.2)",
         "hoverinfo": "skip",
         "line": {
          "color": "rgba(255,255,255,0)"
         },
         "showlegend": false,
         "type": "scatter",
         "x": [
          1,
          2,
          3,
          4,
          5,
          6,
          7,
          8,
          9,
          10,
          10,
          9,
          8,
          7,
          6,
          5,
          4,
          3,
          2,
          1
         ],
         "y": [
          0.024676469819202997,
          0.010869127774109809,
          0.0092645150424564,
          0.004235993011236582,
          0.004512722452721757,
          0.0033076507715493037,
          0.003049153921474765,
          0.0035625605478706826,
          0.003662279997574399,
          0.00385116165283008,
          0.0012191167914561304,
          0.0013951905422244866,
          0.0015881767085711433,
          0.0012129137310391384,
          0.0016793757993641234,
          0.0021337177682855084,
          0.0025495580721107925,
          0.0058880678011292405,
          0.007842423538685911,
          0.021208428147654557
         ]
        },
        {
         "line": {
          "color": "#1AC5BD"
         },
         "name": "Africa",
         "type": "scatter",
         "x": [
          1,
          2,
          3,
          4,
          5,
          6,
          7,
          8,
          9,
          10
         ],
         "y": [
          0.02060329656212695,
          0.014483962405799999,
          0.011743683005620257,
          0.006565250247057907,
          0.006769364521716348,
          0.0075116546622546925,
          0.0074738122099674825,
          0.004175820308527744,
          0.005135831013027146,
          0.005300472766549665
         ]
        },
        {
         "fill": "toself",
         "fillcolor": "rgba(26,197,189,0.2)",
         "hoverinfo": "skip",
         "line": {
          "color": "rgba(255,255,255,0)"
         },
         "showlegend": false,
         "type": "scatter",
         "x": [
          1,
          2,
          3,
          4,
          5,
          6,
          7,
          8,
          9,
          10,
          10,
          9,
          8,
          7,
          6,
          5,
          4,
          3,
          2,
          1
         ],
         "y": [
          0.022623444456955168,
          0.016487813912656742,
          0.013820474239889706,
          0.007806775516140353,
          0.008116392484528376,
          0.009219281799235587,
          0.009291998718460141,
          0.005411112847550814,
          0.006675192750573634,
          0.007161099397494693,
          0.0034398461356046376,
          0.003596469275480657,
          0.0029405277695046745,
          0.005655625701474824,
          0.005804027525273798,
          0.005422336558904319,
          0.005323724977975461,
          0.009666891771350808,
          0.012480110898943256,
          0.01858314866729873
         ]
        },
        {
         "line": {
          "color": "#1AC5BD"
         },
         "name": "North America",
         "type": "scatter",
         "x": [
          1,
          2,
          3,
          4,
          5,
          6,
          7,
          8,
          9,
          10
         ],
         "y": [
          0.02008542953562324,
          0.011462702388271653,
          0.0016494804860544955,
          0.002021832976828069,
          0.0010366816924692163,
          0.0032203584190417674,
          0.0019618043048413515,
          0.001842321508196413,
          0.0006712792011897991,
          0.0009864351238906557
         ]
        },
        {
         "fill": "toself",
         "fillcolor": "rgba(26,197,189,0.2)",
         "hoverinfo": "skip",
         "line": {
          "color": "rgba(255,255,255,0)"
         },
         "showlegend": false,
         "type": "scatter",
         "x": [
          1,
          2,
          3,
          4,
          5,
          6,
          7,
          8,
          9,
          10,
          10,
          9,
          8,
          7,
          6,
          5,
          4,
          3,
          2,
          1
         ],
         "y": [
          0.021915964972212217,
          0.013627770325319179,
          0.002210326285582894,
          0.0027306989122501493,
          0.0014716305963503003,
          0.004383288826366082,
          0.0028262160205097145,
          0.002598192625693607,
          0.0010351562860840538,
          0.0015898059225359783,
          0.00038306432524533307,
          0.0003074021162955445,
          0.001086450390699219,
          0.0010973925891729886,
          0.0020574280117174526,
          0.0006017327885881323,
          0.0013129670414059884,
          0.001088634686526097,
          0.009297634451224127,
          0.01825489409903426
         ]
        },
        {
         "line": {
          "color": "#1AC5BD"
         },
         "name": "France",
         "type": "scatter",
         "x": [
          1,
          2,
          3,
          4,
          5,
          6,
          7,
          8,
          9,
          10
         ],
         "y": [
          0.019902254230913238,
          0.00836241381698865,
          0.003886503152809879,
          0.0036423343267751192,
          0.00147251613985857,
          0.0022223456282274142,
          0.002959852222897089,
          0.0020766346391284753,
          0.0011625374239517588,
          0.0010685282119123536
         ]
        },
        {
         "fill": "toself",
         "fillcolor": "rgba(26,197,189,0.2)",
         "hoverinfo": "skip",
         "line": {
          "color": "rgba(255,255,255,0)"
         },
         "showlegend": false,
         "type": "scatter",
         "x": [
          1,
          2,
          3,
          4,
          5,
          6,
          7,
          8,
          9,
          10,
          10,
          9,
          8,
          7,
          6,
          5,
          4,
          3,
          2,
          1
         ],
         "y": [
          0.021602170446197503,
          0.00980458664497044,
          0.00490128854209061,
          0.004963558049271842,
          0.002011249958316418,
          0.00315555482873454,
          0.0041597976800891055,
          0.0030040939603473457,
          0.0017750295385780008,
          0.0016177282374385754,
          0.0005193281863861318,
          0.0005500453093255168,
          0.001149175317909605,
          0.0017599067657050724,
          0.0012891364277202886,
          0.0009337823214007218,
          0.0023211106042783968,
          0.0028717177635291472,
          0.006920240989006858,
          0.018202338015628972
         ]
        },
        {
         "line": {
          "color": "#626262"
         },
         "name": "Earth",
         "type": "scatter",
         "x": [
          1,
          2,
          3,
          4,
          5,
          6,
          7,
          8,
          9,
          10
         ],
         "y": [
          0.019409430878079958,
          0.010745681653413825,
          0.004963317205319628,
          0.004244817316335846,
          0.002870840542788706,
          0.0016446842428974738,
          0.0010753990530811683,
          0.0015163210573696732,
          0.0011689494678631025,
          0.00398613426031558
         ]
        },
        {
         "fill": "toself",
         "fillcolor": "rgba(98,98,98,0.2)",
         "hoverinfo": "skip",
         "line": {
          "color": "rgba(255,255,255,0)"
         },
         "showlegend": false,
         "type": "scatter",
         "x": [
          1,
          2,
          3,
          4,
          5,
          6,
          7,
          8,
          9,
          10,
          10,
          9,
          8,
          7,
          6,
          5,
          4,
          3,
          2,
          1
         ],
         "y": [
          0.021299255795699353,
          0.012505696959389795,
          0.005998189801284973,
          0.005256223600378484,
          0.0036609989987504412,
          0.002167633595703222,
          0.0015189793002849958,
          0.001969775904488209,
          0.0019238931650502958,
          0.005436884782031108,
          0.0025353837386000526,
          0.0004140057706759093,
          0.0010628662102511372,
          0.0006318188058773407,
          0.0011217348900917257,
          0.0020806820868269705,
          0.0032334110322932083,
          0.003928444609354282,
          0.008985666347437854,
          0.017519605960460562
         ]
        },
        {
         "line": {
          "color": "#505050"
         },
         "name": "English language",
         "type": "scatter",
         "x": [
          1,
          2,
          3,
          4,
          5,
          6,
          7,
          8,
          9,
          10
         ],
         "y": [
          0.015149330658282644,
          0.0084024719927776,
          0.00196153352199812,
          0.0008029879084807393,
          0.0006895162441248395,
          0.0017968941191136088,
          0.0037400404842637064,
          0.0009603331521894045,
          0.002667154128170181,
          0.0006971695387168826
         ]
        },
        {
         "fill": "toself",
         "fillcolor": "rgba(80,80,80,0.2)",
         "hoverinfo": "skip",
         "line": {
          "color": "rgba(255,255,255,0)"
         },
         "showlegend": false,
         "type": "scatter",
         "x": [
          1,
          2,
          3,
          4,
          5,
          6,
          7,
          8,
          9,
          10,
          10,
          9,
          8,
          7,
          6,
          5,
          4,
          3,
          2,
          1
         ],
         "y": [
          0.01670608141329963,
          0.009994598080323805,
          0.002480162521047856,
          0.001127145116495087,
          0.0009506166449965228,
          0.0025047934869775277,
          0.005094869613383932,
          0.0013453720011413989,
          0.0038595047651689683,
          0.0012772561135452978,
          0.00011708296388846754,
          0.0014748034911713941,
          0.0005752943032374101,
          0.0023852113551434805,
          0.0010889947512496897,
          0.0004284158432531562,
          0.0004788307004663917,
          0.0014429045229483843,
          0.006810345905231394,
          0.013592579903265659
         ]
        },
        {
         "line": {
          "color": "#1AC5BD"
         },
         "name": "Germany",
         "type": "scatter",
         "x": [
          1,
          2,
          3,
          4,
          5,
          6,
          7,
          8,
          9,
          10
         ],
         "y": [
          0.014777225438332642,
          0.013302195866601594,
          0.003177171422064879,
          0.0021612866610082153,
          0.002013152084306911,
          0.0031181033551780897,
          0.0013061266591555705,
          0.0019167808795468439,
          0.0016345402627577043,
          0.003664115671484663
         ]
        },
        {
         "fill": "toself",
         "fillcolor": "rgba(26,197,189,0.2)",
         "hoverinfo": "skip",
         "line": {
          "color": "rgba(255,255,255,0)"
         },
         "showlegend": false,
         "type": "scatter",
         "x": [
          1,
          2,
          3,
          4,
          5,
          6,
          7,
          8,
          9,
          10,
          10,
          9,
          8,
          7,
          6,
          5,
          4,
          3,
          2,
          1
         ],
         "y": [
          0.016410028832115613,
          0.015432634671024225,
          0.003981724666792087,
          0.002828866561688232,
          0.002741056359740461,
          0.0043004786320183855,
          0.0020262244056863206,
          0.00293883544147885,
          0.0025987691000508685,
          0.005114285853433697,
          0.002213945489535629,
          0.0006703114254645399,
          0.0008947263176148381,
          0.0005860289126248206,
          0.0019357280783377936,
          0.0012852478088733613,
          0.0014937067603281984,
          0.002372618177337672,
          0.011171757062178963,
          0.01314442204454967
         ]
        },
        {
         "line": {
          "color": "#3a3a3a"
         },
         "name": "United Nations",
         "type": "scatter",
         "x": [
          1,
          2,
          3,
          4,
          5,
          6,
          7,
          8,
          9,
          10
         ],
         "y": [
          0.011582661367062963,
          0.005480739899650557,
          0.0035071443542140485,
          0.0011818673373383288,
          0.0012047540069540722,
          0.0024634042675929528,
          0.001203393135693245,
          0.0008313924225921667,
          0.0005356390855790037,
          0.001575673858812494
         ]
        },
        {
         "fill": "toself",
         "fillcolor": "rgba(58,58,58,0.2)",
         "hoverinfo": "skip",
         "line": {
          "color": "rgba(255,255,255,0)"
         },
         "showlegend": false,
         "type": "scatter",
         "x": [
          1,
          2,
          3,
          4,
          5,
          6,
          7,
          8,
          9,
          10,
          10,
          9,
          8,
          7,
          6,
          5,
          4,
          3,
          2,
          1
         ],
         "y": [
          0.012957440739914795,
          0.007052190666937342,
          0.004702274117911704,
          0.001856055655834028,
          0.0018505255149988816,
          0.003317946437343446,
          0.001642597045365201,
          0.0011570536718683814,
          0.000812215392555684,
          0.002455007118531982,
          0.0006963405990930062,
          0.0002590627786023234,
          0.000505731173315952,
          0.0007641892260212889,
          0.0016088620978424594,
          0.0005589824989092627,
          0.0005076790188426295,
          0.002312014590516393,
          0.0039092891323637725,
          0.01020788199421113
         ]
        },
        {
         "line": {
          "color": "#1AC5BD"
         },
         "name": "India",
         "type": "scatter",
         "x": [
          1,
          2,
          3,
          4,
          5,
          6,
          7,
          8,
          9,
          10
         ],
         "y": [
          0.011267406249871726,
          0.0053116712830532,
          0.004389613915121366,
          0.0030680042567195584,
          0.0031524380218110317,
          0.002635458408769908,
          0.001957521626999108,
          0.0021076847202117013,
          0.0005938679345928735,
          0.0005630278292079419
         ]
        },
        {
         "fill": "toself",
         "fillcolor": "rgba(26,197,189,0.2)",
         "hoverinfo": "skip",
         "line": {
          "color": "rgba(255,255,255,0)"
         },
         "showlegend": false,
         "type": "scatter",
         "x": [
          1,
          2,
          3,
          4,
          5,
          6,
          7,
          8,
          9,
          10,
          10,
          9,
          8,
          7,
          6,
          5,
          4,
          3,
          2,
          1
         ],
         "y": [
          0.01251625726050197,
          0.006979486950641071,
          0.0056773872280006955,
          0.003919164194521843,
          0.004258430525485432,
          0.0035546820577808964,
          0.002552911707484078,
          0.0034006649065838708,
          0.0009222389747901282,
          0.0008539677575879023,
          0.0002720879008279815,
          0.0002654968943956187,
          0.0008147045338395321,
          0.001362131546514138,
          0.0017162347597589195,
          0.002046445518136632,
          0.0022168443189172736,
          0.003101840602242037,
          0.0036438556154653294,
          0.010018555239241483
         ]
        },
        {
         "line": {
          "color": "#1AC5BD"
         },
         "name": "London",
         "type": "scatter",
         "x": [
          1,
          2,
          3,
          4,
          5,
          6,
          7,
          8,
          9,
          10
         ],
         "y": [
          0.011218511755067702,
          0.00787120022317801,
          0.0019188620371401479,
          0.003546932306325853,
          0.001607131875814621,
          0.0032313432754702822,
          0.0018390082406518902,
          0.0026192956919091465,
          0.0012057863690035356,
          0.00003693190569487384
         ]
        },
        {
         "fill": "toself",
         "fillcolor": "rgba(26,197,189,0.2)",
         "hoverinfo": "skip",
         "line": {
          "color": "rgba(255,255,255,0)"
         },
         "showlegend": false,
         "type": "scatter",
         "x": [
          1,
          2,
          3,
          4,
          5,
          6,
          7,
          8,
          9,
          10,
          10,
          9,
          8,
          7,
          6,
          5,
          4,
          3,
          2,
          1
         ],
         "y": [
          0.012390796583225295,
          0.009666353608844483,
          0.002603927769750032,
          0.004812135899025183,
          0.002457577860704525,
          0.004474691410104863,
          0.0026282824289370235,
          0.003611812814845412,
          0.0018287777227320853,
          0.00007210995135429672,
          0.0000017538600354509521,
          0.0005827950152749858,
          0.0016267785689728811,
          0.0010497340523667568,
          0.0019879951408357023,
          0.0007566858909247172,
          0.002281728713626524,
          0.0012337963045302635,
          0.006076046837511538,
          0.010046226926910108
         ]
        },
        {
         "line": {
          "color": "#1AC5BD"
         },
         "name": "Australia",
         "type": "scatter",
         "x": [
          1,
          2,
          3,
          4,
          5,
          6,
          7,
          8,
          9,
          10
         ],
         "y": [
          0.0104112473343589,
          0.004026596348712236,
          0.0038778125589129927,
          0.0026365353021038035,
          0.001835495958730901,
          0.004096041248184102,
          0.001539192291753474,
          0.004229051299220538,
          0.0009619453669393426,
          0.0016967141045805202
         ]
        },
        {
         "fill": "toself",
         "fillcolor": "rgba(26,197,189,0.2)",
         "hoverinfo": "skip",
         "line": {
          "color": "rgba(255,255,255,0)"
         },
         "showlegend": false,
         "type": "scatter",
         "x": [
          1,
          2,
          3,
          4,
          5,
          6,
          7,
          8,
          9,
          10,
          10,
          9,
          8,
          7,
          6,
          5,
          4,
          3,
          2,
          1
         ],
         "y": [
          0.011689249974618756,
          0.005141815194816007,
          0.00487734416289948,
          0.0035281837024554604,
          0.0025851498272879176,
          0.0055354566756587046,
          0.002129855760037921,
          0.005977101006060235,
          0.0015154305836502296,
          0.0025814257513183617,
          0.0008120024578426788,
          0.0004084601502284556,
          0.0024810015923808415,
          0.0009485288234690269,
          0.0026566258207094988,
          0.0010858420901738845,
          0.0017448869017521467,
          0.0028782809549265055,
          0.002911377502608464,
          0.009133244694099044
         ]
        },
        {
         "line": {
          "color": "#1AC5BD"
         },
         "name": "Russia",
         "type": "scatter",
         "x": [
          1,
          2,
          3,
          4,
          5,
          6,
          7,
          8,
          9,
          10
         ],
         "y": [
          0.009638926896861313,
          0.006113249821090214,
          0.0017105329047779458,
          0.0014556474356220979,
          0.0013904447216615068,
          0.0011742400879891574,
          0.0012229719482490474,
          0.0014493173594866025,
          0.002169721955382336,
          0.001224270735428793
         ]
        },
        {
         "fill": "toself",
         "fillcolor": "rgba(26,197,189,0.2)",
         "hoverinfo": "skip",
         "line": {
          "color": "rgba(255,255,255,0)"
         },
         "showlegend": false,
         "type": "scatter",
         "x": [
          1,
          2,
          3,
          4,
          5,
          6,
          7,
          8,
          9,
          10,
          10,
          9,
          8,
          7,
          6,
          5,
          4,
          3,
          2,
          1
         ],
         "y": [
          0.010889511129087759,
          0.007757265303651397,
          0.0022058764753186038,
          0.001919939553637156,
          0.0019560265697585667,
          0.0015824326184077924,
          0.001917536543497092,
          0.0021170605278725686,
          0.0033296586049514497,
          0.0019888464474600047,
          0.00045969502339758106,
          0.0010097853058132224,
          0.0007815741911006362,
          0.0005284073530010029,
          0.0007660475575705226,
          0.0008248628735644468,
          0.0009913553176070398,
          0.0012151893342372876,
          0.004469234338529032,
          0.008388342664634868
         ]
        },
        {
         "line": {
          "color": "#1AC5BD"
         },
         "name": "China",
         "type": "scatter",
         "x": [
          1,
          2,
          3,
          4,
          5,
          6,
          7,
          8,
          9,
          10
         ],
         "y": [
          0.009229838877628278,
          0.00540381182741322,
          0.004249856882949212,
          0.0025587925113369275,
          0.002182652314801488,
          0.0017490318632541032,
          0.0019094594134800966,
          0.0014642518579277895,
          0.001499456606320473,
          0.001247882995038667
         ]
        },
        {
         "fill": "toself",
         "fillcolor": "rgba(26,197,189,0.2)",
         "hoverinfo": "skip",
         "line": {
          "color": "rgba(255,255,255,0)"
         },
         "showlegend": false,
         "type": "scatter",
         "x": [
          1,
          2,
          3,
          4,
          5,
          6,
          7,
          8,
          9,
          10,
          10,
          9,
          8,
          7,
          6,
          5,
          4,
          3,
          2,
          1
         ],
         "y": [
          0.01044218809558873,
          0.006561119288250479,
          0.005398955924955411,
          0.0035884093050782347,
          0.0029234482952722337,
          0.0022656865372800428,
          0.0028262795401234764,
          0.00220262123001391,
          0.0021258355638978784,
          0.0019738332893365265,
          0.0005219327007408073,
          0.0008730776487430672,
          0.0007258824858416692,
          0.0009926392868367165,
          0.0012323771892281637,
          0.0014418563343307424,
          0.0015291757175956203,
          0.0031007578409430123,
          0.004246504366575961,
          0.008017489659667826
         ]
        },
        {
         "line": {
          "color": "#494949"
         },
         "name": "20th century",
         "type": "scatter",
         "x": [
          1,
          2,
          3,
          4,
          5,
          6,
          7,
          8,
          9,
          10
         ],
         "y": [
          0.009086427961878392,
          0.004364279827930977,
          0.0031695112548608775,
          0.0013578268544230728,
          0.002078647793295771,
          0.002840894592462036,
          0.001430566720103003,
          0.0013989379595999937,
          0.002269594672358752,
          0.002347285899968385
         ]
        },
        {
         "fill": "toself",
         "fillcolor": "rgba(73,73,73,0.2)",
         "hoverinfo": "skip",
         "line": {
          "color": "rgba(255,255,255,0)"
         },
         "showlegend": false,
         "type": "scatter",
         "x": [
          1,
          2,
          3,
          4,
          5,
          6,
          7,
          8,
          9,
          10,
          10,
          9,
          8,
          7,
          6,
          5,
          4,
          3,
          2,
          1
         ],
         "y": [
          0.010091004831637251,
          0.005439086756932796,
          0.004378004215725203,
          0.0019700174028122177,
          0.00319755517651738,
          0.004051089732272525,
          0.00203786625305416,
          0.0019368405837487843,
          0.003433412102967954,
          0.0034458918245867136,
          0.0012486799753500565,
          0.0011057772417495495,
          0.0008610353354512031,
          0.0008232671871518461,
          0.001630699452651547,
          0.0009597404100741616,
          0.0007456363060339278,
          0.0019610182939965525,
          0.0032894728989291576,
          0.008081851092119533
         ]
        },
        {
         "line": {
          "color": "#494949"
         },
         "name": "World War I",
         "type": "scatter",
         "x": [
          1,
          2,
          3,
          4,
          5,
          6,
          7,
          8,
          9,
          10
         ],
         "y": [
          0.00795702989222818,
          0.004638760058449707,
          0.0025751042374643645,
          0.001264691696107151,
          0.001972161639965019,
          0.0022761843523444038,
          0.0026843076903232703,
          0.0017750229959080364,
          0.001312389133512765,
          0.0015951447373735612
         ]
        },
        {
         "fill": "toself",
         "fillcolor": "rgba(73,73,73,0.2)",
         "hoverinfo": "skip",
         "line": {
          "color": "rgba(255,255,255,0)"
         },
         "showlegend": false,
         "type": "scatter",
         "x": [
          1,
          2,
          3,
          4,
          5,
          6,
          7,
          8,
          9,
          10,
          10,
          9,
          8,
          7,
          6,
          5,
          4,
          3,
          2,
          1
         ],
         "y": [
          0.009098491756687378,
          0.005771847037313808,
          0.003525353800330448,
          0.0017014629785023802,
          0.002870389043413889,
          0.0033502501197442656,
          0.003936557881335279,
          0.0027541474927370788,
          0.0020726655697617786,
          0.0024351620564432176,
          0.0007551274183039047,
          0.0005521126972637515,
          0.0007958984990789942,
          0.0014320574993112614,
          0.0012021185849445419,
          0.0010739342365161492,
          0.0008279204137119216,
          0.0016248546745982811,
          0.0035056730795856063,
          0.006815568027768981
         ]
        },
        {
         "line": {
          "color": "#454545"
         },
         "name": "Atlantic Ocean",
         "type": "scatter",
         "x": [
          1,
          2,
          3,
          4,
          5,
          6,
          7,
          8,
          9,
          10
         ],
         "y": [
          0.007578430358922139,
          0.00496104633440802,
          0.00383956702515661,
          0.0012022088872193622,
          0.001497924168207401,
          0.0030779009773679103,
          0.0008931777533973702,
          0.0013403164398394355,
          0.0004967068627892265,
          0.0007231875422306812
         ]
        },
        {
         "fill": "toself",
         "fillcolor": "rgba(69,69,69,0.2)",
         "hoverinfo": "skip",
         "line": {
          "color": "rgba(255,255,255,0)"
         },
         "showlegend": false,
         "type": "scatter",
         "x": [
          1,
          2,
          3,
          4,
          5,
          6,
          7,
          8,
          9,
          10,
          10,
          9,
          8,
          7,
          6,
          5,
          4,
          3,
          2,
          1
         ],
         "y": [
          0.008571516093280104,
          0.006067369009021512,
          0.005020412648111326,
          0.0015844718920801754,
          0.0022250143412077044,
          0.004399405115068146,
          0.0012994355684124014,
          0.0020767074810413436,
          0.0008240629169331461,
          0.0010355933673232987,
          0.00041078171713806354,
          0.000169350808645307,
          0.0006039253986375277,
          0.000486919938382339,
          0.0017563968396676745,
          0.0007708339952070978,
          0.000819945882358549,
          0.0026587214022018944,
          0.0038547236597945276,
          0.006585344624564175
         ]
        },
        {
         "line": {
          "color": "#626262"
         },
         "name": "Human",
         "type": "scatter",
         "x": [
          1,
          2,
          3,
          4,
          5,
          6,
          7,
          8,
          9,
          10
         ],
         "y": [
          0.0074737371634621885,
          0.006351225307074588,
          0.0030880124551734443,
          0.0026281145032328677,
          0.0016750899084512633,
          0.003376266084922489,
          0.0024062661500808013,
          0.002672292982112591,
          0.0023783556589809414,
          0.0031235403595929754
         ]
        },
        {
         "fill": "toself",
         "fillcolor": "rgba(98,98,98,0.2)",
         "hoverinfo": "skip",
         "line": {
          "color": "rgba(255,255,255,0)"
         },
         "showlegend": false,
         "type": "scatter",
         "x": [
          1,
          2,
          3,
          4,
          5,
          6,
          7,
          8,
          9,
          10,
          10,
          9,
          8,
          7,
          6,
          5,
          4,
          3,
          2,
          1
         ],
         "y": [
          0.008453498555062488,
          0.0076601697661035865,
          0.003783792407839748,
          0.0035862215359149276,
          0.0022659276260289297,
          0.004487700121916515,
          0.0031782665949440067,
          0.004016742225423654,
          0.003292974541630315,
          0.004068483459330926,
          0.002178597259855025,
          0.0014637367763315676,
          0.0013278437388015278,
          0.0016342657052175959,
          0.002264832047928463,
          0.0010842521908735968,
          0.0016700074705508076,
          0.0023922325025071407,
          0.00504228084804559,
          0.00649397577186189
         ]
        },
        {
         "line": {
          "color": "#1AC5BD"
         },
         "name": "Italy",
         "type": "scatter",
         "x": [
          1,
          2,
          3,
          4,
          5,
          6,
          7,
          8,
          9,
          10
         ],
         "y": [
          0.007438424942281195,
          0.004316847013291482,
          0.002724874342108555,
          0.003356723571918679,
          0.002759011799732673,
          0.0012296774407349218,
          0.0013634800055578496,
          0.0005959341966661955,
          0.0006057630232590241,
          0.002539446026794772
         ]
        },
        {
         "fill": "toself",
         "fillcolor": "rgba(26,197,189,0.2)",
         "hoverinfo": "skip",
         "line": {
          "color": "rgba(255,255,255,0)"
         },
         "showlegend": false,
         "type": "scatter",
         "x": [
          1,
          2,
          3,
          4,
          5,
          6,
          7,
          8,
          9,
          10,
          10,
          9,
          8,
          7,
          6,
          5,
          4,
          3,
          2,
          1
         ],
         "y": [
          0.00831345998966112,
          0.005444222807424146,
          0.0037834149875527806,
          0.0044860106262474084,
          0.004169719079550839,
          0.0017790195940466575,
          0.0022242248949782915,
          0.000912132843055804,
          0.00087828873443624,
          0.0037535573268927145,
          0.0013253347266968297,
          0.00033323731208180827,
          0.0002797355502765871,
          0.0005027351161374076,
          0.0006803352874231863,
          0.0013483045199145073,
          0.00222743651758995,
          0.0016663336966643292,
          0.003189471219158818,
          0.0065633898949012705
         ]
        },
        {
         "line": {
          "color": "#1AC5BD"
         },
         "name": "Japan",
         "type": "scatter",
         "x": [
          1,
          2,
          3,
          4,
          5,
          6,
          7,
          8,
          9,
          10
         ],
         "y": [
          0.007263365284021069,
          0.006012024921023657,
          0.003227321940389994,
          0.003727010131656535,
          0.003125069286404256,
          0.0016258290706268675,
          0.0006732802375368394,
          0.00024451254641940794,
          0.0017412618198156676,
          0.001238228349216962
         ]
        },
        {
         "fill": "toself",
         "fillcolor": "rgba(26,197,189,0.2)",
         "hoverinfo": "skip",
         "line": {
          "color": "rgba(255,255,255,0)"
         },
         "showlegend": false,
         "type": "scatter",
         "x": [
          1,
          2,
          3,
          4,
          5,
          6,
          7,
          8,
          9,
          10,
          10,
          9,
          8,
          7,
          6,
          5,
          4,
          3,
          2,
          1
         ],
         "y": [
          0.008176905368614014,
          0.007509565687629913,
          0.004290009147339097,
          0.00489540672929184,
          0.004365514100536401,
          0.0024302490232639175,
          0.0009629099466424674,
          0.0003936816633322109,
          0.0026108312818315022,
          0.0021303106840733564,
          0.0003461460143605676,
          0.000871692357799833,
          0.00009534342950660502,
          0.0003836505284312115,
          0.0008214091179898175,
          0.0018846244722721104,
          0.002558613534021229,
          0.0021646347334408917,
          0.004514484154417401,
          0.006349825199428122
         ]
        },
        {
         "line": {
          "color": "#1AC5BD"
         },
         "name": "Canada",
         "type": "scatter",
         "x": [
          1,
          2,
          3,
          4,
          5,
          6,
          7,
          8,
          9,
          10
         ],
         "y": [
          0.007097623646123089,
          0.0039895060799290845,
          0.0022709774453248174,
          0.002606700480009131,
          0.0014100890528697969,
          0.002568145610241123,
          0.00018046740896983347,
          0.001193277860321596,
          0.0008289881874585746,
          0.0008469591566367144
         ]
        },
        {
         "fill": "toself",
         "fillcolor": "rgba(26,197,189,0.2)",
         "hoverinfo": "skip",
         "line": {
          "color": "rgba(255,255,255,0)"
         },
         "showlegend": false,
         "type": "scatter",
         "x": [
          1,
          2,
          3,
          4,
          5,
          6,
          7,
          8,
          9,
          10,
          10,
          9,
          8,
          7,
          6,
          5,
          4,
          3,
          2,
          1
         ],
         "y": [
          0.00837003570825442,
          0.00489938028440771,
          0.0031589431449503018,
          0.003557321724473557,
          0.0020080057445905743,
          0.003832331350140755,
          0.00025901636806685584,
          0.0019556813249953136,
          0.001605299078994273,
          0.0012306763622834255,
          0.0004632419509900034,
          0.000052677295922876045,
          0.00043087439564787854,
          0.00010191844987281108,
          0.0013039598703414907,
          0.0008121723611490193,
          0.0016560792355447048,
          0.0013830117456993332,
          0.003079631875450459,
          0.005825211583991758
         ]
        },
        {
         "line": {
          "color": "#3a3a3a"
         },
         "name": "Great Britain",
         "type": "scatter",
         "x": [
          1,
          2,
          3,
          4,
          5,
          6,
          7,
          8,
          9,
          10
         ],
         "y": [
          0.006976661497953825,
          0.0041076248530350435,
          0.0010850398860309282,
          0.0013065761267969695,
          0.0007898568348548018,
          0.000619494132864573,
          0.000535151477682153,
          0.0004862175138493306,
          0.00040127056030523896,
          0.001403314032101059
         ]
        },
        {
         "fill": "toself",
         "fillcolor": "rgba(58,58,58,0.2)",
         "hoverinfo": "skip",
         "line": {
          "color": "rgba(255,255,255,0)"
         },
         "showlegend": false,
         "type": "scatter",
         "x": [
          1,
          2,
          3,
          4,
          5,
          6,
          7,
          8,
          9,
          10,
          10,
          9,
          8,
          7,
          6,
          5,
          4,
          3,
          2,
          1
         ],
         "y": [
          0.008060227212701302,
          0.005375397485002973,
          0.0015066248415140638,
          0.0019767676048471953,
          0.0010616094099885978,
          0.0009663524092876645,
          0.0008140087615053607,
          0.0007621241872097135,
          0.0006197806052996473,
          0.0023421137713842705,
          0.0004645142928178474,
          0.00018276051531083054,
          0.0002103108404889476,
          0.0002562941938589454,
          0.0002726358564414815,
          0.0005181042597210059,
          0.0006363846487467436,
          0.0006634549305477926,
          0.0028398522210671137,
          0.005893095783206348
         ]
        },
        {
         "line": {
          "color": "#424242"
         },
         "name": "Science",
         "type": "scatter",
         "x": [
          1,
          2,
          3,
          4,
          5,
          6,
          7,
          8,
          9,
          10
         ],
         "y": [
          0.006633089635370236,
          0.007371628544768885,
          0.0050294880232267455,
          0.003090149127126915,
          0.002893807479135625,
          0.0014646621424366302,
          0.0031988602557363674,
          0.003465201596536904,
          0.002644131832542316,
          0.0034369344045165288
         ]
        },
        {
         "fill": "toself",
         "fillcolor": "rgba(66,66,66,0.2)",
         "hoverinfo": "skip",
         "line": {
          "color": "rgba(255,255,255,0)"
         },
         "showlegend": false,
         "type": "scatter",
         "x": [
          1,
          2,
          3,
          4,
          5,
          6,
          7,
          8,
          9,
          10,
          10,
          9,
          8,
          7,
          6,
          5,
          4,
          3,
          2,
          1
         ],
         "y": [
          0.0076240196354258275,
          0.009025925618087795,
          0.006462989244536403,
          0.004241049836068942,
          0.004028821965244915,
          0.0020410533459578597,
          0.004622116764672977,
          0.005041693568136326,
          0.0038719648201032382,
          0.004986232444084533,
          0.001887636364948524,
          0.0014162988449813935,
          0.0018887096249374819,
          0.0017756037467997585,
          0.0008882709389154005,
          0.0017587929930263342,
          0.0019392484181848882,
          0.003595986801917088,
          0.005717331471449976,
          0.005642159635314644
         ]
        },
        {
         "line": {
          "color": "#1AC5BD"
         },
         "name": "Asia",
         "type": "scatter",
         "x": [
          1,
          2,
          3,
          4,
          5,
          6,
          7,
          8,
          9,
          10
         ],
         "y": [
          0.006289071145481619,
          0.0032241829972741777,
          0.0018404472537809512,
          0.0009014767580782935,
          0.0004711134679138825,
          0.00226761794966777,
          0.000881399004664485,
          0.0004229639166177685,
          0.0010663415951752103,
          0.0005347910650988726
         ]
        },
        {
         "fill": "toself",
         "fillcolor": "rgba(26,197,189,0.2)",
         "hoverinfo": "skip",
         "line": {
          "color": "rgba(255,255,255,0)"
         },
         "showlegend": false,
         "type": "scatter",
         "x": [
          1,
          2,
          3,
          4,
          5,
          6,
          7,
          8,
          9,
          10,
          10,
          9,
          8,
          7,
          6,
          5,
          4,
          3,
          2,
          1
         ],
         "y": [
          0.007074807889826716,
          0.003954674786640939,
          0.002626430902707235,
          0.0012827634790889193,
          0.000666474153217783,
          0.0033754901780577587,
          0.001692108328595914,
          0.0007143564633730816,
          0.0016934712684473856,
          0.0009816619821806072,
          0.00008792014801713816,
          0.00043921192190303504,
          0.00013157136986245542,
          0.00007068968073305594,
          0.0011597457212777819,
          0.000275752782609982,
          0.0005201900370676677,
          0.0010544636048546675,
          0.0024936912079074162,
          0.005503334401136523
         ]
        },
        {
         "line": {
          "color": "#1AC5BD"
         },
         "name": "South America",
         "type": "scatter",
         "x": [
          1,
          2,
          3,
          4,
          5,
          6,
          7,
          8,
          9,
          10
         ],
         "y": [
          0.006267536140806706,
          0.002522840842598588,
          0.0029827562847194655,
          0.0021794739072308043,
          0.0019204864900881804,
          0.0013268913182846343,
          0.0007974561312894027,
          0.0011515168604701036,
          0.0018445766028643744,
          0.00014025728785884445
         ]
        },
        {
         "fill": "toself",
         "fillcolor": "rgba(26,197,189,0.2)",
         "hoverinfo": "skip",
         "line": {
          "color": "rgba(255,255,255,0)"
         },
         "showlegend": false,
         "type": "scatter",
         "x": [
          1,
          2,
          3,
          4,
          5,
          6,
          7,
          8,
          9,
          10,
          10,
          9,
          8,
          7,
          6,
          5,
          4,
          3,
          2,
          1
         ],
         "y": [
          0.007122247413037566,
          0.003405078881022997,
          0.003994845356282075,
          0.0027557666944716414,
          0.002657848648977541,
          0.0017374304497076172,
          0.001133721521234062,
          0.0016552239622929328,
          0.0027574863416339863,
          0.00020231098465300698,
          0.00007820359106468192,
          0.0009316668640947626,
          0.0006478097586472743,
          0.00046119074134474345,
          0.0009163521868616514,
          0.0011831243311988197,
          0.0016031811199899671,
          0.001970667213156855,
          0.0016406028041741788,
          0.005412824868575847
         ]
        },
        {
         "line": {
          "color": "#1AC5BD"
         },
         "name": "California",
         "type": "scatter",
         "x": [
          1,
          2,
          3,
          4,
          5,
          6,
          7,
          8,
          9,
          10
         ],
         "y": [
          0.006263027023447874,
          0.002659328381479267,
          0.0016260434883536832,
          0.00393236521564551,
          0.0011829372350599127,
          0.000510281172957962,
          0.0014004588833880758,
          0.0014409420628447276,
          0.001637070754949885,
          0.0007318475647378347
         ]
        },
        {
         "fill": "toself",
         "fillcolor": "rgba(26,197,189,0.2)",
         "hoverinfo": "skip",
         "line": {
          "color": "rgba(255,255,255,0)"
         },
         "showlegend": false,
         "type": "scatter",
         "x": [
          1,
          2,
          3,
          4,
          5,
          6,
          7,
          8,
          9,
          10,
          10,
          9,
          8,
          7,
          6,
          5,
          4,
          3,
          2,
          1
         ],
         "y": [
          0.00724618950496672,
          0.0034731809182508466,
          0.0023828265536407376,
          0.0054499777369770965,
          0.0018834554504218249,
          0.000758608659476148,
          0.002094972401056003,
          0.0023031251207595122,
          0.002531225580631731,
          0.001294141040154084,
          0.00016955408932158554,
          0.0007429159292680392,
          0.0005787590049299433,
          0.0007059453657201485,
          0.00026195368643977594,
          0.0004824190196980006,
          0.002414752694313924,
          0.0008692604230666286,
          0.0018454758447076871,
          0.005279864541929028
         ]
        },
        {
         "line": {
          "color": "#5f5f5f"
         },
         "name": "Christianity",
         "type": "scatter",
         "x": [
          1,
          2,
          3,
          4,
          5,
          6,
          7,
          8,
          9,
          10
         ],
         "y": [
          0.005718768668298592,
          0.0066181074034755375,
          0.0036026173877726025,
          0.0019909677633127305,
          0.0037225914059783936,
          0.0014329932350370218,
          0.0022406009862894457,
          0.0017230113330883444,
          0.0024103259257512964,
          0.0018726966502011517
         ]
        },
        {
         "fill": "toself",
         "fillcolor": "rgba(95,95,95,0.2)",
         "hoverinfo": "skip",
         "line": {
          "color": "rgba(255,255,255,0)"
         },
         "showlegend": false,
         "type": "scatter",
         "x": [
          1,
          2,
          3,
          4,
          5,
          6,
          7,
          8,
          9,
          10,
          10,
          9,
          8,
          7,
          6,
          5,
          4,
          3,
          2,
          1
         ],
         "y": [
          0.006558148720354621,
          0.00809485529867775,
          0.0044704401763231314,
          0.0028303720233832175,
          0.005007243900193131,
          0.0019482510187660224,
          0.003243575349513595,
          0.0022928166036057535,
          0.0031977932600336947,
          0.0027362815651500168,
          0.0010091117352522866,
          0.0016228585914688982,
          0.0011532060625709353,
          0.0012376266230652963,
          0.0009177354513080212,
          0.0024379389117636565,
          0.0011515635032422434,
          0.0027347945992220735,
          0.005141359508273324,
          0.004879388616242562
         ]
        }
       ],
       "layout": {
        "annotations": [
         {
          "font": {
           "color": "black",
           "size": 12
          },
          "showarrow": false,
          "text": "Random Path",
          "x": 1,
          "xanchor": "right",
          "xref": "x domain",
          "y": 0,
          "yanchor": "top",
          "yref": "y"
         }
        ],
        "height": 600,
        "shapes": [
         {
          "line": {
           "color": "black",
           "dash": "dash"
          },
          "type": "line",
          "x0": 0,
          "x1": 1,
          "xref": "x domain",
          "y0": 0,
          "y1": 0,
          "yref": "y"
         }
        ],
        "template": {
         "data": {
          "bar": [
           {
            "error_x": {
             "color": "#2a3f5f"
            },
            "error_y": {
             "color": "#2a3f5f"
            },
            "marker": {
             "line": {
              "color": "#E5ECF6",
              "width": 0.5
             },
             "pattern": {
              "fillmode": "overlay",
              "size": 10,
              "solidity": 0.2
             }
            },
            "type": "bar"
           }
          ],
          "barpolar": [
           {
            "marker": {
             "line": {
              "color": "#E5ECF6",
              "width": 0.5
             },
             "pattern": {
              "fillmode": "overlay",
              "size": 10,
              "solidity": 0.2
             }
            },
            "type": "barpolar"
           }
          ],
          "carpet": [
           {
            "aaxis": {
             "endlinecolor": "#2a3f5f",
             "gridcolor": "white",
             "linecolor": "white",
             "minorgridcolor": "white",
             "startlinecolor": "#2a3f5f"
            },
            "baxis": {
             "endlinecolor": "#2a3f5f",
             "gridcolor": "white",
             "linecolor": "white",
             "minorgridcolor": "white",
             "startlinecolor": "#2a3f5f"
            },
            "type": "carpet"
           }
          ],
          "choropleth": [
           {
            "colorbar": {
             "outlinewidth": 0,
             "ticks": ""
            },
            "type": "choropleth"
           }
          ],
          "contour": [
           {
            "colorbar": {
             "outlinewidth": 0,
             "ticks": ""
            },
            "colorscale": [
             [
              0,
              "#0d0887"
             ],
             [
              0.1111111111111111,
              "#46039f"
             ],
             [
              0.2222222222222222,
              "#7201a8"
             ],
             [
              0.3333333333333333,
              "#9c179e"
             ],
             [
              0.4444444444444444,
              "#bd3786"
             ],
             [
              0.5555555555555556,
              "#d8576b"
             ],
             [
              0.6666666666666666,
              "#ed7953"
             ],
             [
              0.7777777777777778,
              "#fb9f3a"
             ],
             [
              0.8888888888888888,
              "#fdca26"
             ],
             [
              1,
              "#f0f921"
             ]
            ],
            "type": "contour"
           }
          ],
          "contourcarpet": [
           {
            "colorbar": {
             "outlinewidth": 0,
             "ticks": ""
            },
            "type": "contourcarpet"
           }
          ],
          "heatmap": [
           {
            "colorbar": {
             "outlinewidth": 0,
             "ticks": ""
            },
            "colorscale": [
             [
              0,
              "#0d0887"
             ],
             [
              0.1111111111111111,
              "#46039f"
             ],
             [
              0.2222222222222222,
              "#7201a8"
             ],
             [
              0.3333333333333333,
              "#9c179e"
             ],
             [
              0.4444444444444444,
              "#bd3786"
             ],
             [
              0.5555555555555556,
              "#d8576b"
             ],
             [
              0.6666666666666666,
              "#ed7953"
             ],
             [
              0.7777777777777778,
              "#fb9f3a"
             ],
             [
              0.8888888888888888,
              "#fdca26"
             ],
             [
              1,
              "#f0f921"
             ]
            ],
            "type": "heatmap"
           }
          ],
          "heatmapgl": [
           {
            "colorbar": {
             "outlinewidth": 0,
             "ticks": ""
            },
            "colorscale": [
             [
              0,
              "#0d0887"
             ],
             [
              0.1111111111111111,
              "#46039f"
             ],
             [
              0.2222222222222222,
              "#7201a8"
             ],
             [
              0.3333333333333333,
              "#9c179e"
             ],
             [
              0.4444444444444444,
              "#bd3786"
             ],
             [
              0.5555555555555556,
              "#d8576b"
             ],
             [
              0.6666666666666666,
              "#ed7953"
             ],
             [
              0.7777777777777778,
              "#fb9f3a"
             ],
             [
              0.8888888888888888,
              "#fdca26"
             ],
             [
              1,
              "#f0f921"
             ]
            ],
            "type": "heatmapgl"
           }
          ],
          "histogram": [
           {
            "marker": {
             "pattern": {
              "fillmode": "overlay",
              "size": 10,
              "solidity": 0.2
             }
            },
            "type": "histogram"
           }
          ],
          "histogram2d": [
           {
            "colorbar": {
             "outlinewidth": 0,
             "ticks": ""
            },
            "colorscale": [
             [
              0,
              "#0d0887"
             ],
             [
              0.1111111111111111,
              "#46039f"
             ],
             [
              0.2222222222222222,
              "#7201a8"
             ],
             [
              0.3333333333333333,
              "#9c179e"
             ],
             [
              0.4444444444444444,
              "#bd3786"
             ],
             [
              0.5555555555555556,
              "#d8576b"
             ],
             [
              0.6666666666666666,
              "#ed7953"
             ],
             [
              0.7777777777777778,
              "#fb9f3a"
             ],
             [
              0.8888888888888888,
              "#fdca26"
             ],
             [
              1,
              "#f0f921"
             ]
            ],
            "type": "histogram2d"
           }
          ],
          "histogram2dcontour": [
           {
            "colorbar": {
             "outlinewidth": 0,
             "ticks": ""
            },
            "colorscale": [
             [
              0,
              "#0d0887"
             ],
             [
              0.1111111111111111,
              "#46039f"
             ],
             [
              0.2222222222222222,
              "#7201a8"
             ],
             [
              0.3333333333333333,
              "#9c179e"
             ],
             [
              0.4444444444444444,
              "#bd3786"
             ],
             [
              0.5555555555555556,
              "#d8576b"
             ],
             [
              0.6666666666666666,
              "#ed7953"
             ],
             [
              0.7777777777777778,
              "#fb9f3a"
             ],
             [
              0.8888888888888888,
              "#fdca26"
             ],
             [
              1,
              "#f0f921"
             ]
            ],
            "type": "histogram2dcontour"
           }
          ],
          "mesh3d": [
           {
            "colorbar": {
             "outlinewidth": 0,
             "ticks": ""
            },
            "type": "mesh3d"
           }
          ],
          "parcoords": [
           {
            "line": {
             "colorbar": {
              "outlinewidth": 0,
              "ticks": ""
             }
            },
            "type": "parcoords"
           }
          ],
          "pie": [
           {
            "automargin": true,
            "type": "pie"
           }
          ],
          "scatter": [
           {
            "fillpattern": {
             "fillmode": "overlay",
             "size": 10,
             "solidity": 0.2
            },
            "type": "scatter"
           }
          ],
          "scatter3d": [
           {
            "line": {
             "colorbar": {
              "outlinewidth": 0,
              "ticks": ""
             }
            },
            "marker": {
             "colorbar": {
              "outlinewidth": 0,
              "ticks": ""
             }
            },
            "type": "scatter3d"
           }
          ],
          "scattercarpet": [
           {
            "marker": {
             "colorbar": {
              "outlinewidth": 0,
              "ticks": ""
             }
            },
            "type": "scattercarpet"
           }
          ],
          "scattergeo": [
           {
            "marker": {
             "colorbar": {
              "outlinewidth": 0,
              "ticks": ""
             }
            },
            "type": "scattergeo"
           }
          ],
          "scattergl": [
           {
            "marker": {
             "colorbar": {
              "outlinewidth": 0,
              "ticks": ""
             }
            },
            "type": "scattergl"
           }
          ],
          "scattermapbox": [
           {
            "marker": {
             "colorbar": {
              "outlinewidth": 0,
              "ticks": ""
             }
            },
            "type": "scattermapbox"
           }
          ],
          "scatterpolar": [
           {
            "marker": {
             "colorbar": {
              "outlinewidth": 0,
              "ticks": ""
             }
            },
            "type": "scatterpolar"
           }
          ],
          "scatterpolargl": [
           {
            "marker": {
             "colorbar": {
              "outlinewidth": 0,
              "ticks": ""
             }
            },
            "type": "scatterpolargl"
           }
          ],
          "scatterternary": [
           {
            "marker": {
             "colorbar": {
              "outlinewidth": 0,
              "ticks": ""
             }
            },
            "type": "scatterternary"
           }
          ],
          "surface": [
           {
            "colorbar": {
             "outlinewidth": 0,
             "ticks": ""
            },
            "colorscale": [
             [
              0,
              "#0d0887"
             ],
             [
              0.1111111111111111,
              "#46039f"
             ],
             [
              0.2222222222222222,
              "#7201a8"
             ],
             [
              0.3333333333333333,
              "#9c179e"
             ],
             [
              0.4444444444444444,
              "#bd3786"
             ],
             [
              0.5555555555555556,
              "#d8576b"
             ],
             [
              0.6666666666666666,
              "#ed7953"
             ],
             [
              0.7777777777777778,
              "#fb9f3a"
             ],
             [
              0.8888888888888888,
              "#fdca26"
             ],
             [
              1,
              "#f0f921"
             ]
            ],
            "type": "surface"
           }
          ],
          "table": [
           {
            "cells": {
             "fill": {
              "color": "#EBF0F8"
             },
             "line": {
              "color": "white"
             }
            },
            "header": {
             "fill": {
              "color": "#C8D4E3"
             },
             "line": {
              "color": "white"
             }
            },
            "type": "table"
           }
          ]
         },
         "layout": {
          "annotationdefaults": {
           "arrowcolor": "#2a3f5f",
           "arrowhead": 0,
           "arrowwidth": 1
          },
          "autotypenumbers": "strict",
          "coloraxis": {
           "colorbar": {
            "outlinewidth": 0,
            "ticks": ""
           }
          },
          "colorscale": {
           "diverging": [
            [
             0,
             "#8e0152"
            ],
            [
             0.1,
             "#c51b7d"
            ],
            [
             0.2,
             "#de77ae"
            ],
            [
             0.3,
             "#f1b6da"
            ],
            [
             0.4,
             "#fde0ef"
            ],
            [
             0.5,
             "#f7f7f7"
            ],
            [
             0.6,
             "#e6f5d0"
            ],
            [
             0.7,
             "#b8e186"
            ],
            [
             0.8,
             "#7fbc41"
            ],
            [
             0.9,
             "#4d9221"
            ],
            [
             1,
             "#276419"
            ]
           ],
           "sequential": [
            [
             0,
             "#0d0887"
            ],
            [
             0.1111111111111111,
             "#46039f"
            ],
            [
             0.2222222222222222,
             "#7201a8"
            ],
            [
             0.3333333333333333,
             "#9c179e"
            ],
            [
             0.4444444444444444,
             "#bd3786"
            ],
            [
             0.5555555555555556,
             "#d8576b"
            ],
            [
             0.6666666666666666,
             "#ed7953"
            ],
            [
             0.7777777777777778,
             "#fb9f3a"
            ],
            [
             0.8888888888888888,
             "#fdca26"
            ],
            [
             1,
             "#f0f921"
            ]
           ],
           "sequentialminus": [
            [
             0,
             "#0d0887"
            ],
            [
             0.1111111111111111,
             "#46039f"
            ],
            [
             0.2222222222222222,
             "#7201a8"
            ],
            [
             0.3333333333333333,
             "#9c179e"
            ],
            [
             0.4444444444444444,
             "#bd3786"
            ],
            [
             0.5555555555555556,
             "#d8576b"
            ],
            [
             0.6666666666666666,
             "#ed7953"
            ],
            [
             0.7777777777777778,
             "#fb9f3a"
            ],
            [
             0.8888888888888888,
             "#fdca26"
            ],
            [
             1,
             "#f0f921"
            ]
           ]
          },
          "colorway": [
           "#636efa",
           "#EF553B",
           "#00cc96",
           "#ab63fa",
           "#FFA15A",
           "#19d3f3",
           "#FF6692",
           "#B6E880",
           "#FF97FF",
           "#FECB52"
          ],
          "font": {
           "color": "#2a3f5f"
          },
          "geo": {
           "bgcolor": "white",
           "lakecolor": "white",
           "landcolor": "#E5ECF6",
           "showlakes": true,
           "showland": true,
           "subunitcolor": "white"
          },
          "hoverlabel": {
           "align": "left"
          },
          "hovermode": "closest",
          "mapbox": {
           "style": "light"
          },
          "paper_bgcolor": "white",
          "plot_bgcolor": "#E5ECF6",
          "polar": {
           "angularaxis": {
            "gridcolor": "white",
            "linecolor": "white",
            "ticks": ""
           },
           "bgcolor": "#E5ECF6",
           "radialaxis": {
            "gridcolor": "white",
            "linecolor": "white",
            "ticks": ""
           }
          },
          "scene": {
           "xaxis": {
            "backgroundcolor": "#E5ECF6",
            "gridcolor": "white",
            "gridwidth": 2,
            "linecolor": "white",
            "showbackground": true,
            "ticks": "",
            "zerolinecolor": "white"
           },
           "yaxis": {
            "backgroundcolor": "#E5ECF6",
            "gridcolor": "white",
            "gridwidth": 2,
            "linecolor": "white",
            "showbackground": true,
            "ticks": "",
            "zerolinecolor": "white"
           },
           "zaxis": {
            "backgroundcolor": "#E5ECF6",
            "gridcolor": "white",
            "gridwidth": 2,
            "linecolor": "white",
            "showbackground": true,
            "ticks": "",
            "zerolinecolor": "white"
           }
          },
          "shapedefaults": {
           "line": {
            "color": "#2a3f5f"
           }
          },
          "ternary": {
           "aaxis": {
            "gridcolor": "white",
            "linecolor": "white",
            "ticks": ""
           },
           "baxis": {
            "gridcolor": "white",
            "linecolor": "white",
            "ticks": ""
           },
           "bgcolor": "#E5ECF6",
           "caxis": {
            "gridcolor": "white",
            "linecolor": "white",
            "ticks": ""
           }
          },
          "title": {
           "x": 0.05
          },
          "xaxis": {
           "automargin": true,
           "gridcolor": "white",
           "linecolor": "white",
           "ticks": "",
           "title": {
            "standoff": 15
           },
           "zerolinecolor": "white",
           "zerolinewidth": 2
          },
          "yaxis": {
           "automargin": true,
           "gridcolor": "white",
           "linecolor": "white",
           "ticks": "",
           "title": {
            "standoff": 15
           },
           "zerolinecolor": "white",
           "zerolinewidth": 2
          }
         }
        },
        "title": {
         "text": "Stepwise Divergence from Random Path"
        },
        "width": 800,
        "xaxis": {
         "range": [
          0.5,
          10.5
         ],
         "tickmode": "linear",
         "title": {
          "text": "Step"
         }
        },
        "yaxis": {
         "title": {
          "text": "Divergence Value"
         }
        }
       }
      }
     },
     "metadata": {},
     "output_type": "display_data"
    }
   ],
   "source": [
    "PALETTE_ARTICLE_DICT_COLORS = {}\n",
    "for _, row in df_categories.iterrows():\n",
    "    article = row['article']\n",
    "    category = row['level_1']\n",
    "    PALETTE_ARTICLE_DICT_COLORS[article] = config.PALETTE_CATEGORY_DICT.get(category, '#808080')\n",
    "\n",
    "main_mean_div = mean_KL_step.iloc[:30]\n",
    "plot_article_step_divergence(main_mean_div, PALETTE_ARTICLE_DICT_COLORS)"
   ]
  },
  {
   "cell_type": "code",
   "execution_count": 117,
   "metadata": {},
   "outputs": [
    {
     "name": "stderr",
     "output_type": "stream",
     "text": [
      "c:\\Users\\yanni\\.conda\\envs\\ada_project\\lib\\site-packages\\pandas\\core\\internals\\blocks.py:329: RuntimeWarning:\n",
      "\n",
      "divide by zero encountered in log\n",
      "\n"
     ]
    }
   ],
   "source": [
    "KL_n = np.where((user_transitions > 0) & (markov_transitions > 0),\n",
    "                        user_transitions * np.log(user_transitions / markov_transitions), 0)\n",
    "KL_n_df = pd.DataFrame(KL_n, columns=user_transitions.columns, index=user_transitions.index)"
   ]
  },
  {
   "cell_type": "markdown",
   "metadata": {},
   "source": [
    "### What about the evolution of categories ?"
   ]
  },
  {
   "cell_type": "code",
   "execution_count": 186,
   "metadata": {},
   "outputs": [],
   "source": [
    "%%capture\n",
    "\n",
    "KL_cat_df = get_step_divergences(df_article_names, parser, df_paths, df_categories=df_categories)"
   ]
  },
  {
   "cell_type": "code",
   "execution_count": 187,
   "metadata": {},
   "outputs": [
    {
     "data": {
      "text/html": [
       "<div>\n",
       "<style scoped>\n",
       "    .dataframe tbody tr th:only-of-type {\n",
       "        vertical-align: middle;\n",
       "    }\n",
       "\n",
       "    .dataframe tbody tr th {\n",
       "        vertical-align: top;\n",
       "    }\n",
       "\n",
       "    .dataframe thead tr th {\n",
       "        text-align: left;\n",
       "    }\n",
       "\n",
       "    .dataframe thead tr:last-of-type th {\n",
       "        text-align: right;\n",
       "    }\n",
       "</style>\n",
       "<table border=\"1\" class=\"dataframe\">\n",
       "  <thead>\n",
       "    <tr>\n",
       "      <th></th>\n",
       "      <th colspan=\"2\" halign=\"left\">1</th>\n",
       "      <th colspan=\"2\" halign=\"left\">2</th>\n",
       "      <th colspan=\"2\" halign=\"left\">3</th>\n",
       "      <th colspan=\"2\" halign=\"left\">4</th>\n",
       "      <th colspan=\"2\" halign=\"left\">5</th>\n",
       "      <th colspan=\"2\" halign=\"left\">6</th>\n",
       "      <th colspan=\"2\" halign=\"left\">7</th>\n",
       "      <th colspan=\"2\" halign=\"left\">8</th>\n",
       "      <th colspan=\"2\" halign=\"left\">9</th>\n",
       "      <th colspan=\"2\" halign=\"left\">10</th>\n",
       "    </tr>\n",
       "    <tr>\n",
       "      <th></th>\n",
       "      <th>mean</th>\n",
       "      <th>sem</th>\n",
       "      <th>mean</th>\n",
       "      <th>sem</th>\n",
       "      <th>mean</th>\n",
       "      <th>sem</th>\n",
       "      <th>mean</th>\n",
       "      <th>sem</th>\n",
       "      <th>mean</th>\n",
       "      <th>sem</th>\n",
       "      <th>mean</th>\n",
       "      <th>sem</th>\n",
       "      <th>mean</th>\n",
       "      <th>sem</th>\n",
       "      <th>mean</th>\n",
       "      <th>sem</th>\n",
       "      <th>mean</th>\n",
       "      <th>sem</th>\n",
       "      <th>mean</th>\n",
       "      <th>sem</th>\n",
       "    </tr>\n",
       "    <tr>\n",
       "      <th>level_1</th>\n",
       "      <th></th>\n",
       "      <th></th>\n",
       "      <th></th>\n",
       "      <th></th>\n",
       "      <th></th>\n",
       "      <th></th>\n",
       "      <th></th>\n",
       "      <th></th>\n",
       "      <th></th>\n",
       "      <th></th>\n",
       "      <th></th>\n",
       "      <th></th>\n",
       "      <th></th>\n",
       "      <th></th>\n",
       "      <th></th>\n",
       "      <th></th>\n",
       "      <th></th>\n",
       "      <th></th>\n",
       "      <th></th>\n",
       "      <th></th>\n",
       "    </tr>\n",
       "  </thead>\n",
       "  <tbody>\n",
       "    <tr>\n",
       "      <th>World Regions</th>\n",
       "      <td>0.000748</td>\n",
       "      <td>0.000013</td>\n",
       "      <td>0.000472</td>\n",
       "      <td>0.000015</td>\n",
       "      <td>0.000321</td>\n",
       "      <td>0.000013</td>\n",
       "      <td>0.000284</td>\n",
       "      <td>0.000012</td>\n",
       "      <td>0.000274</td>\n",
       "      <td>0.000012</td>\n",
       "      <td>0.000278</td>\n",
       "      <td>0.000012</td>\n",
       "      <td>0.000239</td>\n",
       "      <td>0.000011</td>\n",
       "      <td>0.000219</td>\n",
       "      <td>0.000012</td>\n",
       "      <td>0.000200</td>\n",
       "      <td>0.000011</td>\n",
       "      <td>0.000192</td>\n",
       "      <td>0.000011</td>\n",
       "    </tr>\n",
       "    <tr>\n",
       "      <th>Citizenship</th>\n",
       "      <td>0.000346</td>\n",
       "      <td>0.000013</td>\n",
       "      <td>0.000344</td>\n",
       "      <td>0.000023</td>\n",
       "      <td>0.000303</td>\n",
       "      <td>0.000023</td>\n",
       "      <td>0.000320</td>\n",
       "      <td>0.000024</td>\n",
       "      <td>0.000321</td>\n",
       "      <td>0.000023</td>\n",
       "      <td>0.000305</td>\n",
       "      <td>0.000023</td>\n",
       "      <td>0.000337</td>\n",
       "      <td>0.000027</td>\n",
       "      <td>0.000324</td>\n",
       "      <td>0.000027</td>\n",
       "      <td>0.000274</td>\n",
       "      <td>0.000024</td>\n",
       "      <td>0.000242</td>\n",
       "      <td>0.000024</td>\n",
       "    </tr>\n",
       "    <tr>\n",
       "      <th>Geography</th>\n",
       "      <td>0.000287</td>\n",
       "      <td>0.000011</td>\n",
       "      <td>0.000325</td>\n",
       "      <td>0.000020</td>\n",
       "      <td>0.000290</td>\n",
       "      <td>0.000021</td>\n",
       "      <td>0.000277</td>\n",
       "      <td>0.000020</td>\n",
       "      <td>0.000257</td>\n",
       "      <td>0.000019</td>\n",
       "      <td>0.000287</td>\n",
       "      <td>0.000021</td>\n",
       "      <td>0.000285</td>\n",
       "      <td>0.000022</td>\n",
       "      <td>0.000265</td>\n",
       "      <td>0.000021</td>\n",
       "      <td>0.000249</td>\n",
       "      <td>0.000020</td>\n",
       "      <td>0.000235</td>\n",
       "      <td>0.000020</td>\n",
       "    </tr>\n",
       "    <tr>\n",
       "      <th>Language and literature</th>\n",
       "      <td>0.000262</td>\n",
       "      <td>0.000013</td>\n",
       "      <td>0.000284</td>\n",
       "      <td>0.000024</td>\n",
       "      <td>0.000175</td>\n",
       "      <td>0.000017</td>\n",
       "      <td>0.000223</td>\n",
       "      <td>0.000022</td>\n",
       "      <td>0.000169</td>\n",
       "      <td>0.000019</td>\n",
       "      <td>0.000174</td>\n",
       "      <td>0.000020</td>\n",
       "      <td>0.000160</td>\n",
       "      <td>0.000019</td>\n",
       "      <td>0.000185</td>\n",
       "      <td>0.000021</td>\n",
       "      <td>0.000170</td>\n",
       "      <td>0.000020</td>\n",
       "      <td>0.000147</td>\n",
       "      <td>0.000019</td>\n",
       "    </tr>\n",
       "    <tr>\n",
       "      <th>Religion</th>\n",
       "      <td>0.000238</td>\n",
       "      <td>0.000013</td>\n",
       "      <td>0.000301</td>\n",
       "      <td>0.000028</td>\n",
       "      <td>0.000269</td>\n",
       "      <td>0.000026</td>\n",
       "      <td>0.000300</td>\n",
       "      <td>0.000030</td>\n",
       "      <td>0.000303</td>\n",
       "      <td>0.000029</td>\n",
       "      <td>0.000242</td>\n",
       "      <td>0.000025</td>\n",
       "      <td>0.000237</td>\n",
       "      <td>0.000027</td>\n",
       "      <td>0.000271</td>\n",
       "      <td>0.000032</td>\n",
       "      <td>0.000275</td>\n",
       "      <td>0.000032</td>\n",
       "      <td>0.000254</td>\n",
       "      <td>0.000031</td>\n",
       "    </tr>\n",
       "    <tr>\n",
       "      <th>History</th>\n",
       "      <td>0.000230</td>\n",
       "      <td>0.000007</td>\n",
       "      <td>0.000186</td>\n",
       "      <td>0.000011</td>\n",
       "      <td>0.000196</td>\n",
       "      <td>0.000012</td>\n",
       "      <td>0.000198</td>\n",
       "      <td>0.000012</td>\n",
       "      <td>0.000205</td>\n",
       "      <td>0.000013</td>\n",
       "      <td>0.000222</td>\n",
       "      <td>0.000014</td>\n",
       "      <td>0.000212</td>\n",
       "      <td>0.000014</td>\n",
       "      <td>0.000212</td>\n",
       "      <td>0.000014</td>\n",
       "      <td>0.000212</td>\n",
       "      <td>0.000015</td>\n",
       "      <td>0.000184</td>\n",
       "      <td>0.000014</td>\n",
       "    </tr>\n",
       "    <tr>\n",
       "      <th>Business Studies</th>\n",
       "      <td>0.000201</td>\n",
       "      <td>0.000016</td>\n",
       "      <td>0.000176</td>\n",
       "      <td>0.000023</td>\n",
       "      <td>0.000191</td>\n",
       "      <td>0.000027</td>\n",
       "      <td>0.000209</td>\n",
       "      <td>0.000030</td>\n",
       "      <td>0.000229</td>\n",
       "      <td>0.000033</td>\n",
       "      <td>0.000193</td>\n",
       "      <td>0.000029</td>\n",
       "      <td>0.000218</td>\n",
       "      <td>0.000031</td>\n",
       "      <td>0.000243</td>\n",
       "      <td>0.000034</td>\n",
       "      <td>0.000144</td>\n",
       "      <td>0.000027</td>\n",
       "      <td>0.000251</td>\n",
       "      <td>0.000040</td>\n",
       "    </tr>\n",
       "    <tr>\n",
       "      <th>Science</th>\n",
       "      <td>0.000141</td>\n",
       "      <td>0.000004</td>\n",
       "      <td>0.000189</td>\n",
       "      <td>0.000008</td>\n",
       "      <td>0.000190</td>\n",
       "      <td>0.000008</td>\n",
       "      <td>0.000206</td>\n",
       "      <td>0.000008</td>\n",
       "      <td>0.000217</td>\n",
       "      <td>0.000009</td>\n",
       "      <td>0.000215</td>\n",
       "      <td>0.000009</td>\n",
       "      <td>0.000213</td>\n",
       "      <td>0.000009</td>\n",
       "      <td>0.000224</td>\n",
       "      <td>0.000010</td>\n",
       "      <td>0.000208</td>\n",
       "      <td>0.000010</td>\n",
       "      <td>0.000193</td>\n",
       "      <td>0.000010</td>\n",
       "    </tr>\n",
       "    <tr>\n",
       "      <th>Art</th>\n",
       "      <td>0.000139</td>\n",
       "      <td>0.000019</td>\n",
       "      <td>0.000213</td>\n",
       "      <td>0.000047</td>\n",
       "      <td>0.000255</td>\n",
       "      <td>0.000049</td>\n",
       "      <td>0.000243</td>\n",
       "      <td>0.000046</td>\n",
       "      <td>0.000291</td>\n",
       "      <td>0.000058</td>\n",
       "      <td>0.000302</td>\n",
       "      <td>0.000055</td>\n",
       "      <td>0.000233</td>\n",
       "      <td>0.000047</td>\n",
       "      <td>0.000212</td>\n",
       "      <td>0.000051</td>\n",
       "      <td>0.000185</td>\n",
       "      <td>0.000044</td>\n",
       "      <td>0.000130</td>\n",
       "      <td>0.000036</td>\n",
       "    </tr>\n",
       "    <tr>\n",
       "      <th>Everyday life</th>\n",
       "      <td>0.000116</td>\n",
       "      <td>0.000006</td>\n",
       "      <td>0.000200</td>\n",
       "      <td>0.000015</td>\n",
       "      <td>0.000241</td>\n",
       "      <td>0.000016</td>\n",
       "      <td>0.000252</td>\n",
       "      <td>0.000016</td>\n",
       "      <td>0.000284</td>\n",
       "      <td>0.000018</td>\n",
       "      <td>0.000269</td>\n",
       "      <td>0.000018</td>\n",
       "      <td>0.000270</td>\n",
       "      <td>0.000018</td>\n",
       "      <td>0.000252</td>\n",
       "      <td>0.000018</td>\n",
       "      <td>0.000247</td>\n",
       "      <td>0.000018</td>\n",
       "      <td>0.000225</td>\n",
       "      <td>0.000018</td>\n",
       "    </tr>\n",
       "    <tr>\n",
       "      <th>Mathematics</th>\n",
       "      <td>0.000114</td>\n",
       "      <td>0.000016</td>\n",
       "      <td>0.000150</td>\n",
       "      <td>0.000028</td>\n",
       "      <td>0.000226</td>\n",
       "      <td>0.000039</td>\n",
       "      <td>0.000212</td>\n",
       "      <td>0.000035</td>\n",
       "      <td>0.000272</td>\n",
       "      <td>0.000044</td>\n",
       "      <td>0.000247</td>\n",
       "      <td>0.000044</td>\n",
       "      <td>0.000285</td>\n",
       "      <td>0.000054</td>\n",
       "      <td>0.000195</td>\n",
       "      <td>0.000044</td>\n",
       "      <td>0.000157</td>\n",
       "      <td>0.000034</td>\n",
       "      <td>0.000188</td>\n",
       "      <td>0.000041</td>\n",
       "    </tr>\n",
       "    <tr>\n",
       "      <th>IT</th>\n",
       "      <td>0.000087</td>\n",
       "      <td>0.000012</td>\n",
       "      <td>0.000179</td>\n",
       "      <td>0.000027</td>\n",
       "      <td>0.000238</td>\n",
       "      <td>0.000034</td>\n",
       "      <td>0.000263</td>\n",
       "      <td>0.000034</td>\n",
       "      <td>0.000210</td>\n",
       "      <td>0.000025</td>\n",
       "      <td>0.000216</td>\n",
       "      <td>0.000029</td>\n",
       "      <td>0.000207</td>\n",
       "      <td>0.000028</td>\n",
       "      <td>0.000206</td>\n",
       "      <td>0.000027</td>\n",
       "      <td>0.000227</td>\n",
       "      <td>0.000032</td>\n",
       "      <td>0.000211</td>\n",
       "      <td>0.000032</td>\n",
       "    </tr>\n",
       "    <tr>\n",
       "      <th>Design and Technology</th>\n",
       "      <td>0.000066</td>\n",
       "      <td>0.000006</td>\n",
       "      <td>0.000103</td>\n",
       "      <td>0.000013</td>\n",
       "      <td>0.000133</td>\n",
       "      <td>0.000014</td>\n",
       "      <td>0.000185</td>\n",
       "      <td>0.000017</td>\n",
       "      <td>0.000170</td>\n",
       "      <td>0.000017</td>\n",
       "      <td>0.000171</td>\n",
       "      <td>0.000017</td>\n",
       "      <td>0.000164</td>\n",
       "      <td>0.000016</td>\n",
       "      <td>0.000157</td>\n",
       "      <td>0.000016</td>\n",
       "      <td>0.000168</td>\n",
       "      <td>0.000018</td>\n",
       "      <td>0.000143</td>\n",
       "      <td>0.000017</td>\n",
       "    </tr>\n",
       "    <tr>\n",
       "      <th>Music</th>\n",
       "      <td>0.000054</td>\n",
       "      <td>0.000007</td>\n",
       "      <td>0.000134</td>\n",
       "      <td>0.000022</td>\n",
       "      <td>0.000172</td>\n",
       "      <td>0.000026</td>\n",
       "      <td>0.000259</td>\n",
       "      <td>0.000034</td>\n",
       "      <td>0.000223</td>\n",
       "      <td>0.000030</td>\n",
       "      <td>0.000193</td>\n",
       "      <td>0.000027</td>\n",
       "      <td>0.000230</td>\n",
       "      <td>0.000032</td>\n",
       "      <td>0.000237</td>\n",
       "      <td>0.000035</td>\n",
       "      <td>0.000199</td>\n",
       "      <td>0.000032</td>\n",
       "      <td>0.000174</td>\n",
       "      <td>0.000029</td>\n",
       "    </tr>\n",
       "    <tr>\n",
       "      <th>People</th>\n",
       "      <td>0.000054</td>\n",
       "      <td>0.000003</td>\n",
       "      <td>0.000084</td>\n",
       "      <td>0.000007</td>\n",
       "      <td>0.000092</td>\n",
       "      <td>0.000008</td>\n",
       "      <td>0.000130</td>\n",
       "      <td>0.000009</td>\n",
       "      <td>0.000129</td>\n",
       "      <td>0.000009</td>\n",
       "      <td>0.000125</td>\n",
       "      <td>0.000009</td>\n",
       "      <td>0.000114</td>\n",
       "      <td>0.000009</td>\n",
       "      <td>0.000117</td>\n",
       "      <td>0.000010</td>\n",
       "      <td>0.000109</td>\n",
       "      <td>0.000009</td>\n",
       "      <td>0.000101</td>\n",
       "      <td>0.000010</td>\n",
       "    </tr>\n",
       "  </tbody>\n",
       "</table>\n",
       "</div>"
      ],
      "text/plain": [
       "                               1                   2                   3   \\\n",
       "                             mean       sem      mean       sem      mean   \n",
       "level_1                                                                     \n",
       "World Regions            0.000748  0.000013  0.000472  0.000015  0.000321   \n",
       "Citizenship              0.000346  0.000013  0.000344  0.000023  0.000303   \n",
       "Geography                0.000287  0.000011  0.000325  0.000020  0.000290   \n",
       "Language and literature  0.000262  0.000013  0.000284  0.000024  0.000175   \n",
       "Religion                 0.000238  0.000013  0.000301  0.000028  0.000269   \n",
       "History                  0.000230  0.000007  0.000186  0.000011  0.000196   \n",
       "Business Studies         0.000201  0.000016  0.000176  0.000023  0.000191   \n",
       "Science                  0.000141  0.000004  0.000189  0.000008  0.000190   \n",
       "Art                      0.000139  0.000019  0.000213  0.000047  0.000255   \n",
       "Everyday life            0.000116  0.000006  0.000200  0.000015  0.000241   \n",
       "Mathematics              0.000114  0.000016  0.000150  0.000028  0.000226   \n",
       "IT                       0.000087  0.000012  0.000179  0.000027  0.000238   \n",
       "Design and Technology    0.000066  0.000006  0.000103  0.000013  0.000133   \n",
       "Music                    0.000054  0.000007  0.000134  0.000022  0.000172   \n",
       "People                   0.000054  0.000003  0.000084  0.000007  0.000092   \n",
       "\n",
       "                                         4                   5             \\\n",
       "                              sem      mean       sem      mean       sem   \n",
       "level_1                                                                     \n",
       "World Regions            0.000013  0.000284  0.000012  0.000274  0.000012   \n",
       "Citizenship              0.000023  0.000320  0.000024  0.000321  0.000023   \n",
       "Geography                0.000021  0.000277  0.000020  0.000257  0.000019   \n",
       "Language and literature  0.000017  0.000223  0.000022  0.000169  0.000019   \n",
       "Religion                 0.000026  0.000300  0.000030  0.000303  0.000029   \n",
       "History                  0.000012  0.000198  0.000012  0.000205  0.000013   \n",
       "Business Studies         0.000027  0.000209  0.000030  0.000229  0.000033   \n",
       "Science                  0.000008  0.000206  0.000008  0.000217  0.000009   \n",
       "Art                      0.000049  0.000243  0.000046  0.000291  0.000058   \n",
       "Everyday life            0.000016  0.000252  0.000016  0.000284  0.000018   \n",
       "Mathematics              0.000039  0.000212  0.000035  0.000272  0.000044   \n",
       "IT                       0.000034  0.000263  0.000034  0.000210  0.000025   \n",
       "Design and Technology    0.000014  0.000185  0.000017  0.000170  0.000017   \n",
       "Music                    0.000026  0.000259  0.000034  0.000223  0.000030   \n",
       "People                   0.000008  0.000130  0.000009  0.000129  0.000009   \n",
       "\n",
       "                               6                   7                   8   \\\n",
       "                             mean       sem      mean       sem      mean   \n",
       "level_1                                                                     \n",
       "World Regions            0.000278  0.000012  0.000239  0.000011  0.000219   \n",
       "Citizenship              0.000305  0.000023  0.000337  0.000027  0.000324   \n",
       "Geography                0.000287  0.000021  0.000285  0.000022  0.000265   \n",
       "Language and literature  0.000174  0.000020  0.000160  0.000019  0.000185   \n",
       "Religion                 0.000242  0.000025  0.000237  0.000027  0.000271   \n",
       "History                  0.000222  0.000014  0.000212  0.000014  0.000212   \n",
       "Business Studies         0.000193  0.000029  0.000218  0.000031  0.000243   \n",
       "Science                  0.000215  0.000009  0.000213  0.000009  0.000224   \n",
       "Art                      0.000302  0.000055  0.000233  0.000047  0.000212   \n",
       "Everyday life            0.000269  0.000018  0.000270  0.000018  0.000252   \n",
       "Mathematics              0.000247  0.000044  0.000285  0.000054  0.000195   \n",
       "IT                       0.000216  0.000029  0.000207  0.000028  0.000206   \n",
       "Design and Technology    0.000171  0.000017  0.000164  0.000016  0.000157   \n",
       "Music                    0.000193  0.000027  0.000230  0.000032  0.000237   \n",
       "People                   0.000125  0.000009  0.000114  0.000009  0.000117   \n",
       "\n",
       "                                         9                   10            \n",
       "                              sem      mean       sem      mean       sem  \n",
       "level_1                                                                    \n",
       "World Regions            0.000012  0.000200  0.000011  0.000192  0.000011  \n",
       "Citizenship              0.000027  0.000274  0.000024  0.000242  0.000024  \n",
       "Geography                0.000021  0.000249  0.000020  0.000235  0.000020  \n",
       "Language and literature  0.000021  0.000170  0.000020  0.000147  0.000019  \n",
       "Religion                 0.000032  0.000275  0.000032  0.000254  0.000031  \n",
       "History                  0.000014  0.000212  0.000015  0.000184  0.000014  \n",
       "Business Studies         0.000034  0.000144  0.000027  0.000251  0.000040  \n",
       "Science                  0.000010  0.000208  0.000010  0.000193  0.000010  \n",
       "Art                      0.000051  0.000185  0.000044  0.000130  0.000036  \n",
       "Everyday life            0.000018  0.000247  0.000018  0.000225  0.000018  \n",
       "Mathematics              0.000044  0.000157  0.000034  0.000188  0.000041  \n",
       "IT                       0.000027  0.000227  0.000032  0.000211  0.000032  \n",
       "Design and Technology    0.000016  0.000168  0.000018  0.000143  0.000017  \n",
       "Music                    0.000035  0.000199  0.000032  0.000174  0.000029  \n",
       "People                   0.000010  0.000109  0.000009  0.000101  0.000010  "
      ]
     },
     "execution_count": 187,
     "metadata": {},
     "output_type": "execute_result"
    }
   ],
   "source": [
    "KL_cat_df"
   ]
  },
  {
   "cell_type": "code",
   "execution_count": 192,
   "metadata": {},
   "outputs": [
    {
     "data": {
      "application/vnd.plotly.v1+json": {
       "config": {
        "plotlyServerURL": "https://plot.ly"
       },
       "data": [
        {
         "line": {
          "color": "#1AC5BD"
         },
         "name": "World Regions",
         "type": "scatter",
         "x": [
          1,
          2,
          3,
          4,
          5,
          6,
          7,
          8,
          9,
          10
         ],
         "y": [
          0.0007483433930195908,
          0.0004716009397858753,
          0.0003208919998353297,
          0.0002835073702363778,
          0.00027395819269427463,
          0.0002775505590011825,
          0.00023929347495703338,
          0.00021919136284766298,
          0.00019994948608820625,
          0.00019248420688392255
         ]
        },
        {
         "fill": "toself",
         "fillcolor": "rgba(26,197,189,0.2)",
         "hoverinfo": "skip",
         "line": {
          "color": "rgba(255,255,255,0)"
         },
         "showlegend": false,
         "type": "scatter",
         "x": [
          1,
          2,
          3,
          4,
          5,
          6,
          7,
          8,
          9,
          10,
          10,
          9,
          8,
          7,
          6,
          5,
          4,
          3,
          2,
          1
         ],
         "y": [
          0.0007611879138159082,
          0.00048663645744747436,
          0.00033348518242350784,
          0.0002952319121284039,
          0.0002856062613689346,
          0.00028983281282234243,
          0.00025076371926118326,
          0.00023079038110987885,
          0.0002111398807677981,
          0.0002039376491923956,
          0.0001810307645754495,
          0.0001887590914086144,
          0.0002075923445854471,
          0.00022782323065288353,
          0.0002652683051800226,
          0.00026231012401961465,
          0.0002717828283443517,
          0.0003082988172471516,
          0.0004565654221242762,
          0.0007354988722232733
         ]
        },
        {
         "line": {
          "color": "#567799"
         },
         "name": "Citizenship",
         "type": "scatter",
         "x": [
          1,
          2,
          3,
          4,
          5,
          6,
          7,
          8,
          9,
          10
         ],
         "y": [
          0.00034637755439648107,
          0.0003435336251026581,
          0.000303435652703567,
          0.0003197794545199908,
          0.00032136523813430595,
          0.00030544867994585146,
          0.0003373584523345044,
          0.0003235835258275981,
          0.00027352591248342123,
          0.00024154818223350518
         ]
        },
        {
         "fill": "toself",
         "fillcolor": "rgba(86,119,153,0.2)",
         "hoverinfo": "skip",
         "line": {
          "color": "rgba(255,255,255,0)"
         },
         "showlegend": false,
         "type": "scatter",
         "x": [
          1,
          2,
          3,
          4,
          5,
          6,
          7,
          8,
          9,
          10,
          10,
          9,
          8,
          7,
          6,
          5,
          4,
          3,
          2,
          1
         ],
         "y": [
          0.0003595897071453773,
          0.00036691174523113563,
          0.0003260187491422759,
          0.0003438896667277595,
          0.00034481350769250996,
          0.0003287507665797239,
          0.00036403990778066995,
          0.00035058287768801536,
          0.0002971792354880602,
          0.00026509857803602065,
          0.00021799778643098969,
          0.00024987258947878224,
          0.00029658417396718085,
          0.0003106769968883388,
          0.000282146593311979,
          0.00029791696857610193,
          0.0002956692423122221,
          0.00028085255626485807,
          0.00032015550497418055,
          0.00033316540164758483
         ]
        },
        {
         "line": {
          "color": "#565799"
         },
         "name": "Geography",
         "type": "scatter",
         "x": [
          1,
          2,
          3,
          4,
          5,
          6,
          7,
          8,
          9,
          10
         ],
         "y": [
          0.00028684716574705075,
          0.0003249741899472892,
          0.0002901647971480183,
          0.00027699371376318344,
          0.0002567445448799279,
          0.0002873515278370541,
          0.0002848757670243559,
          0.00026480453578796125,
          0.00024881423634545057,
          0.0002353828277821112
         ]
        },
        {
         "fill": "toself",
         "fillcolor": "rgba(86,87,153,0.2)",
         "hoverinfo": "skip",
         "line": {
          "color": "rgba(255,255,255,0)"
         },
         "showlegend": false,
         "type": "scatter",
         "x": [
          1,
          2,
          3,
          4,
          5,
          6,
          7,
          8,
          9,
          10,
          10,
          9,
          8,
          7,
          6,
          5,
          4,
          3,
          2,
          1
         ],
         "y": [
          0.00029813578612564,
          0.00034479594209657356,
          0.0003107955457893295,
          0.0002967534248895767,
          0.0002760578328515375,
          0.00030847285122813405,
          0.0003066741258224912,
          0.0002853647353243827,
          0.00026906558749397255,
          0.00025575267435491543,
          0.00021501298120930702,
          0.0002285628851969286,
          0.0002442443362515398,
          0.0002630774082262206,
          0.00026623020444597415,
          0.00023743125690831832,
          0.00025723400263679016,
          0.0002695340485067071,
          0.0003051524377980048,
          0.0002755585453684615
         ]
        },
        {
         "line": {
          "color": "#755699"
         },
         "name": "Language and literature",
         "type": "scatter",
         "x": [
          1,
          2,
          3,
          4,
          5,
          6,
          7,
          8,
          9,
          10
         ],
         "y": [
          0.0002623813794593656,
          0.00028435862874907257,
          0.00017535982524986477,
          0.00022257105790134888,
          0.00016943074984725017,
          0.00017410576421532134,
          0.00016045385680209603,
          0.00018531787746993287,
          0.00016965185129170672,
          0.00014679361511992382
         ]
        },
        {
         "fill": "toself",
         "fillcolor": "rgba(117,86,153,0.2)",
         "hoverinfo": "skip",
         "line": {
          "color": "rgba(255,255,255,0)"
         },
         "showlegend": false,
         "type": "scatter",
         "x": [
          1,
          2,
          3,
          4,
          5,
          6,
          7,
          8,
          9,
          10,
          10,
          9,
          8,
          7,
          6,
          5,
          4,
          3,
          2,
          1
         ],
         "y": [
          0.00027577159797672127,
          0.00030844938188885515,
          0.00019261119759215103,
          0.0002450424893705734,
          0.00018806516198889946,
          0.00019360642009404026,
          0.00017926352583506032,
          0.00020679630644319642,
          0.00018995722617041474,
          0.00016627105845858905,
          0.00012731617178125858,
          0.0001493464764129987,
          0.00016383944849666932,
          0.00014164418776913175,
          0.00015460510833660243,
          0.00015079633770560087,
          0.00020009962643212435,
          0.0001581084529075785,
          0.00026026787560929,
          0.0002489911609420099
         ]
        },
        {
         "line": {
          "color": "#995691"
         },
         "name": "Religion",
         "type": "scatter",
         "x": [
          1,
          2,
          3,
          4,
          5,
          6,
          7,
          8,
          9,
          10
         ],
         "y": [
          0.00023813617678779557,
          0.0003008912104190614,
          0.0002687339865000042,
          0.0003002965754100225,
          0.0003027688540532654,
          0.000241776568849527,
          0.00023737113417057897,
          0.0002705714270418447,
          0.0002751797174854912,
          0.0002539433573432511
         ]
        },
        {
         "fill": "toself",
         "fillcolor": "rgba(153,86,145,0.2)",
         "hoverinfo": "skip",
         "line": {
          "color": "rgba(255,255,255,0)"
         },
         "showlegend": false,
         "type": "scatter",
         "x": [
          1,
          2,
          3,
          4,
          5,
          6,
          7,
          8,
          9,
          10,
          10,
          9,
          8,
          7,
          6,
          5,
          4,
          3,
          2,
          1
         ],
         "y": [
          0.00025135738621429466,
          0.0003293702456966197,
          0.0002945196916833918,
          0.00033002984517825515,
          0.0003314535881301842,
          0.000266623949702736,
          0.00026448744731393176,
          0.0003021585948634753,
          0.00030689097092541357,
          0.00028520407371218225,
          0.0002226826409743199,
          0.00024346846404556878,
          0.00023898425922021412,
          0.00021025482102722618,
          0.00021692918799631796,
          0.00027408411997634663,
          0.00027056330564178985,
          0.0002429482813166166,
          0.00027241217514150317,
          0.00022491496736129648
         ]
        },
        {
         "line": {
          "color": "#605699"
         },
         "name": "History",
         "type": "scatter",
         "x": [
          1,
          2,
          3,
          4,
          5,
          6,
          7,
          8,
          9,
          10
         ],
         "y": [
          0.00023035506352766128,
          0.00018645475171161067,
          0.00019604787410090554,
          0.0001975740297752192,
          0.00020523590263802258,
          0.00022177873615165656,
          0.00021160685780088076,
          0.0002119450526173148,
          0.0002119840999680467,
          0.00018389465104508485
         ]
        },
        {
         "fill": "toself",
         "fillcolor": "rgba(96,86,153,0.2)",
         "hoverinfo": "skip",
         "line": {
          "color": "rgba(255,255,255,0)"
         },
         "showlegend": false,
         "type": "scatter",
         "x": [
          1,
          2,
          3,
          4,
          5,
          6,
          7,
          8,
          9,
          10,
          10,
          9,
          8,
          7,
          6,
          5,
          4,
          3,
          2,
          1
         ],
         "y": [
          0.0002377014860489984,
          0.00019757291688434332,
          0.0002078989083982418,
          0.00020931151578429914,
          0.00021781060599789474,
          0.0002357978559142845,
          0.00022561091183318882,
          0.00022582785985390211,
          0.00022675986009191226,
          0.00019813571616625932,
          0.00016965358592391038,
          0.00019720833984418113,
          0.0001980622453807275,
          0.0001976028037685727,
          0.00020775961638902862,
          0.0001926611992781504,
          0.00018583654376613928,
          0.00018419683980356927,
          0.00017533658653887802,
          0.00022300864100632415
         ]
        },
        {
         "line": {
          "color": "#568299"
         },
         "name": "Business Studies",
         "type": "scatter",
         "x": [
          1,
          2,
          3,
          4,
          5,
          6,
          7,
          8,
          9,
          10
         ],
         "y": [
          0.0002007543316131728,
          0.00017567852518508964,
          0.00019143245510370608,
          0.0002092059023900711,
          0.0002294150735882568,
          0.00019270074408949517,
          0.00021833564016445807,
          0.0002433082755179392,
          0.00014435098836366837,
          0.00025115706047555534
         ]
        },
        {
         "fill": "toself",
         "fillcolor": "rgba(86,130,153,0.2)",
         "hoverinfo": "skip",
         "line": {
          "color": "rgba(255,255,255,0)"
         },
         "showlegend": false,
         "type": "scatter",
         "x": [
          1,
          2,
          3,
          4,
          5,
          6,
          7,
          8,
          9,
          10,
          10,
          9,
          8,
          7,
          6,
          5,
          4,
          3,
          2,
          1
         ],
         "y": [
          0.0002164474472469656,
          0.0001986533732186799,
          0.00021858861301758475,
          0.00023933250687801843,
          0.0002621680813030294,
          0.00022173478332826818,
          0.00024925229169620933,
          0.0002774353310375705,
          0.00017138372579730536,
          0.0002908870192432239,
          0.0002114271017078868,
          0.00011731825093003138,
          0.0002091812199983079,
          0.0001874189886327068,
          0.00016366670485072217,
          0.00019666206587348425,
          0.00017907929790212377,
          0.00016427629718982742,
          0.0001527036771514994,
          0.00018506121597938
         ]
        },
        {
         "line": {
          "color": "#995687"
         },
         "name": "Science",
         "type": "scatter",
         "x": [
          1,
          2,
          3,
          4,
          5,
          6,
          7,
          8,
          9,
          10
         ],
         "y": [
          0.00014084165928597765,
          0.00018869823502489018,
          0.00019036092929253497,
          0.00020560597464011943,
          0.0002169633561009583,
          0.00021534853107192187,
          0.00021335210903241102,
          0.00022358246121348575,
          0.00020783005359136796,
          0.0001931755865081593
         ]
        },
        {
         "fill": "toself",
         "fillcolor": "rgba(153,86,135,0.2)",
         "hoverinfo": "skip",
         "line": {
          "color": "rgba(255,255,255,0)"
         },
         "showlegend": false,
         "type": "scatter",
         "x": [
          1,
          2,
          3,
          4,
          5,
          6,
          7,
          8,
          9,
          10,
          10,
          9,
          8,
          7,
          6,
          5,
          4,
          3,
          2,
          1
         ],
         "y": [
          0.00014489717132937677,
          0.00019669146693238214,
          0.00019813939724435924,
          0.0002139216149792815,
          0.00022578504523861062,
          0.00022436594919324885,
          0.00022254034001599593,
          0.0002334550934327004,
          0.00021749872529035216,
          0.000202881866843359,
          0.0001834693061729596,
          0.00019816138189238377,
          0.0002137098289942711,
          0.0002041638780488261,
          0.0002063311129505949,
          0.00020814166696330597,
          0.00019729033430095736,
          0.0001825824613407107,
          0.0001807050031173982,
          0.00013678614724257852
         ]
        },
        {
         "line": {
          "color": "#568d99"
         },
         "name": "Art",
         "type": "scatter",
         "x": [
          1,
          2,
          3,
          4,
          5,
          6,
          7,
          8,
          9,
          10
         ],
         "y": [
          0.00013884383203532298,
          0.00021279237754306737,
          0.00025455727299452063,
          0.00024312030067881273,
          0.0002909243505613238,
          0.0003016616912290046,
          0.00023318802429412707,
          0.00021181196580945702,
          0.0001850060069088778,
          0.00013008967639553627
         ]
        },
        {
         "fill": "toself",
         "fillcolor": "rgba(86,141,153,0.2)",
         "hoverinfo": "skip",
         "line": {
          "color": "rgba(255,255,255,0)"
         },
         "showlegend": false,
         "type": "scatter",
         "x": [
          1,
          2,
          3,
          4,
          5,
          6,
          7,
          8,
          9,
          10,
          10,
          9,
          8,
          7,
          6,
          5,
          4,
          3,
          2,
          1
         ],
         "y": [
          0.00015773495961064654,
          0.0002597171622802393,
          0.0003032693897508206,
          0.00028959778845502187,
          0.0003488710742191663,
          0.0003567082176849454,
          0.0002800675591803484,
          0.00026318469734993574,
          0.0002294977128914303,
          0.0001657710080965602,
          0.00009440834469451233,
          0.0001405143009263253,
          0.00016043923426897833,
          0.00018630848940790571,
          0.0002466151647730638,
          0.00023297762690348132,
          0.0001966428129026036,
          0.00020584515623822068,
          0.00016586759280589548,
          0.00011995270445999941
         ]
        },
        {
         "line": {
          "color": "#566199"
         },
         "name": "Everyday life",
         "type": "scatter",
         "x": [
          1,
          2,
          3,
          4,
          5,
          6,
          7,
          8,
          9,
          10
         ],
         "y": [
          0.0001163582466248186,
          0.00020012839580129513,
          0.00024119655918739214,
          0.000252096936196361,
          0.0002839927965971355,
          0.000268522761766621,
          0.00026961087028824093,
          0.00025200904533331824,
          0.0002468686547994302,
          0.000224622454296363
         ]
        },
        {
         "fill": "toself",
         "fillcolor": "rgba(86,97,153,0.2)",
         "hoverinfo": "skip",
         "line": {
          "color": "rgba(255,255,255,0)"
         },
         "showlegend": false,
         "type": "scatter",
         "x": [
          1,
          2,
          3,
          4,
          5,
          6,
          7,
          8,
          9,
          10,
          10,
          9,
          8,
          7,
          6,
          5,
          4,
          3,
          2,
          1
         ],
         "y": [
          0.00012238699195041215,
          0.00021464575425613098,
          0.000257231772765107,
          0.0002684832199671559,
          0.00030248231302821774,
          0.0002863784619793172,
          0.00028794305026091016,
          0.0002696670635223131,
          0.0002649848729220763,
          0.00024240102277464472,
          0.0002068438858180813,
          0.00022875243667678407,
          0.0002343510271443234,
          0.0002512786903155717,
          0.0002506670615539248,
          0.0002655032801660532,
          0.0002357106524255661,
          0.00022516134560967722,
          0.00018561103734645928,
          0.00011032950129922505
         ]
        },
        {
         "line": {
          "color": "#805699"
         },
         "name": "Mathematics",
         "type": "scatter",
         "x": [
          1,
          2,
          3,
          4,
          5,
          6,
          7,
          8,
          9,
          10
         ],
         "y": [
          0.00011354077098044472,
          0.00014962853296170782,
          0.0002261060448097124,
          0.00021167889140505497,
          0.00027176071040072464,
          0.0002466754006832605,
          0.0002853449799229565,
          0.00019536674563000906,
          0.00015656347496365494,
          0.0001883662584836222
         ]
        },
        {
         "fill": "toself",
         "fillcolor": "rgba(128,86,153,0.2)",
         "hoverinfo": "skip",
         "line": {
          "color": "rgba(255,255,255,0)"
         },
         "showlegend": false,
         "type": "scatter",
         "x": [
          1,
          2,
          3,
          4,
          5,
          6,
          7,
          8,
          9,
          10,
          10,
          9,
          8,
          7,
          6,
          5,
          4,
          3,
          2,
          1
         ],
         "y": [
          0.00012959724619483894,
          0.00017812526835089398,
          0.0002647350101655015,
          0.0002464180211633442,
          0.0003155901911124344,
          0.00029117282345201217,
          0.00033965716056405336,
          0.00023919439725225038,
          0.00019056575547550314,
          0.00022902649642130273,
          0.00014770602054594168,
          0.00012256119445180674,
          0.00015153909400776773,
          0.00023103279928185966,
          0.00020217797791450886,
          0.0002279312296890149,
          0.00017693976164676574,
          0.00018747707945392328,
          0.00012113179757252167,
          0.00009748429576605048
         ]
        },
        {
         "line": {
          "color": "#6a5699"
         },
         "name": "IT",
         "type": "scatter",
         "x": [
          1,
          2,
          3,
          4,
          5,
          6,
          7,
          8,
          9,
          10
         ],
         "y": [
          0.0000869637494768053,
          0.00017928504566078416,
          0.00023781594781805305,
          0.00026259771624661035,
          0.00021020228727700594,
          0.00021590270814113784,
          0.000207381857363408,
          0.0002059077258737565,
          0.00022682146501524275,
          0.00021122838360726744
         ]
        },
        {
         "fill": "toself",
         "fillcolor": "rgba(106,86,153,0.2)",
         "hoverinfo": "skip",
         "line": {
          "color": "rgba(255,255,255,0)"
         },
         "showlegend": false,
         "type": "scatter",
         "x": [
          1,
          2,
          3,
          4,
          5,
          6,
          7,
          8,
          9,
          10,
          10,
          9,
          8,
          7,
          6,
          5,
          4,
          3,
          2,
          1
         ],
         "y": [
          0.00009913305244737182,
          0.00020612129950071443,
          0.0002721186084636779,
          0.00029634688458190486,
          0.00023561479531757459,
          0.000244790771996718,
          0.00023587567125118612,
          0.00023335812681874254,
          0.0002583414502240994,
          0.00024332680106905433,
          0.00017912996614548055,
          0.00019530147980638605,
          0.00017845732492877044,
          0.00017888804347562987,
          0.00018701464428555768,
          0.0001847897792364373,
          0.00022884854791131585,
          0.00020351328717242817,
          0.00015244879182085388,
          0.00007479444650623878
         ]
        },
        {
         "line": {
          "color": "#566c99"
         },
         "name": "Design and Technology",
         "type": "scatter",
         "x": [
          1,
          2,
          3,
          4,
          5,
          6,
          7,
          8,
          9,
          10
         ],
         "y": [
          0.00006580243128042608,
          0.00010296634753518495,
          0.0001326083259435688,
          0.00018485462830502875,
          0.00016966625914950696,
          0.00017141383983177013,
          0.00016391393674454642,
          0.00015732323748933146,
          0.00016797088139077369,
          0.0001427238814840371
         ]
        },
        {
         "fill": "toself",
         "fillcolor": "rgba(86,108,153,0.2)",
         "hoverinfo": "skip",
         "line": {
          "color": "rgba(255,255,255,0)"
         },
         "showlegend": false,
         "type": "scatter",
         "x": [
          1,
          2,
          3,
          4,
          5,
          6,
          7,
          8,
          9,
          10,
          10,
          9,
          8,
          7,
          6,
          5,
          4,
          3,
          2,
          1
         ],
         "y": [
          0.00007139273656271074,
          0.00011559099736813747,
          0.00014702519239660978,
          0.0002019866799174431,
          0.00018661531704822622,
          0.00018796177413164843,
          0.00017998580133672413,
          0.0001732363352226431,
          0.0001864464707582534,
          0.00015986543907987822,
          0.000125582323888196,
          0.00014949529202329398,
          0.00014141013975601982,
          0.0001478420721523687,
          0.00015486590553189184,
          0.0001527172012507877,
          0.0001677225766926144,
          0.00011819145949052786,
          0.00009034169770223242,
          0.00006021212599814141
         ]
        },
        {
         "line": {
          "color": "#8b5699"
         },
         "name": "Music",
         "type": "scatter",
         "x": [
          1,
          2,
          3,
          4,
          5,
          6,
          7,
          8,
          9,
          10
         ],
         "y": [
          0.000054419819204393626,
          0.0001339045852139534,
          0.00017193846294479383,
          0.00025927684067506425,
          0.00022281155328511597,
          0.00019273885186057223,
          0.00022973120415740263,
          0.00023654559460257202,
          0.00019862981508242522,
          0.00017420330040273846
         ]
        },
        {
         "fill": "toself",
         "fillcolor": "rgba(139,86,153,0.2)",
         "hoverinfo": "skip",
         "line": {
          "color": "rgba(255,255,255,0)"
         },
         "showlegend": false,
         "type": "scatter",
         "x": [
          1,
          2,
          3,
          4,
          5,
          6,
          7,
          8,
          9,
          10,
          10,
          9,
          8,
          7,
          6,
          5,
          4,
          3,
          2,
          1
         ],
         "y": [
          0.000060970468371700196,
          0.0001561898005616322,
          0.00019787509382250212,
          0.00029293726188351146,
          0.00025289806828129315,
          0.00021944519867650095,
          0.00026190046606544624,
          0.0002712509071712241,
          0.0002310818641400905,
          0.0002032013051205791,
          0.00014520529568489782,
          0.00016617776602475995,
          0.00020184028203391993,
          0.000197561942249359,
          0.00016603250504464352,
          0.0001927250382889388,
          0.00022561641946661706,
          0.00014600183206708555,
          0.0001116193698662746,
          0.00004786917003708706
         ]
        },
        {
         "line": {
          "color": "#965699"
         },
         "name": "People",
         "type": "scatter",
         "x": [
          1,
          2,
          3,
          4,
          5,
          6,
          7,
          8,
          9,
          10
         ],
         "y": [
          0.00005370429526876654,
          0.00008425791526918324,
          0.0000916099788048987,
          0.00012989662233713222,
          0.00012885772875529774,
          0.00012521062103701538,
          0.0001144345523322566,
          0.0001169721448133272,
          0.00010862440167158763,
          0.0001010157081087901
         ]
        },
        {
         "fill": "toself",
         "fillcolor": "rgba(150,86,153,0.2)",
         "hoverinfo": "skip",
         "line": {
          "color": "rgba(255,255,255,0)"
         },
         "showlegend": false,
         "type": "scatter",
         "x": [
          1,
          2,
          3,
          4,
          5,
          6,
          7,
          8,
          9,
          10,
          10,
          9,
          8,
          7,
          6,
          5,
          4,
          3,
          2,
          1
         ],
         "y": [
          0.00005655102978887638,
          0.00009105886856471026,
          0.00009915753378381957,
          0.00013921095998099638,
          0.00013820289808896464,
          0.00013454647763035167,
          0.00012358941913696386,
          0.00012692065149391314,
          0.00011807149655308455,
          0.00011058964604131351,
          0.0000914417701762667,
          0.0000991773067900907,
          0.00010702363813274126,
          0.00010527968552754932,
          0.00011587476444367908,
          0.00011951255942163086,
          0.00012058228469326806,
          0.00008406242382597784,
          0.00007745696197365622,
          0.00005085756074865671
         ]
        }
       ],
       "layout": {
        "annotations": [
         {
          "font": {
           "color": "black",
           "size": 12
          },
          "showarrow": false,
          "text": "Random Path",
          "x": 1,
          "xanchor": "right",
          "xref": "x domain",
          "y": 0,
          "yanchor": "top",
          "yref": "y"
         }
        ],
        "height": 600,
        "shapes": [
         {
          "line": {
           "color": "black",
           "dash": "dash"
          },
          "type": "line",
          "x0": 0,
          "x1": 1,
          "xref": "x domain",
          "y0": 0,
          "y1": 0,
          "yref": "y"
         }
        ],
        "template": {
         "data": {
          "bar": [
           {
            "error_x": {
             "color": "#2a3f5f"
            },
            "error_y": {
             "color": "#2a3f5f"
            },
            "marker": {
             "line": {
              "color": "#E5ECF6",
              "width": 0.5
             },
             "pattern": {
              "fillmode": "overlay",
              "size": 10,
              "solidity": 0.2
             }
            },
            "type": "bar"
           }
          ],
          "barpolar": [
           {
            "marker": {
             "line": {
              "color": "#E5ECF6",
              "width": 0.5
             },
             "pattern": {
              "fillmode": "overlay",
              "size": 10,
              "solidity": 0.2
             }
            },
            "type": "barpolar"
           }
          ],
          "carpet": [
           {
            "aaxis": {
             "endlinecolor": "#2a3f5f",
             "gridcolor": "white",
             "linecolor": "white",
             "minorgridcolor": "white",
             "startlinecolor": "#2a3f5f"
            },
            "baxis": {
             "endlinecolor": "#2a3f5f",
             "gridcolor": "white",
             "linecolor": "white",
             "minorgridcolor": "white",
             "startlinecolor": "#2a3f5f"
            },
            "type": "carpet"
           }
          ],
          "choropleth": [
           {
            "colorbar": {
             "outlinewidth": 0,
             "ticks": ""
            },
            "type": "choropleth"
           }
          ],
          "contour": [
           {
            "colorbar": {
             "outlinewidth": 0,
             "ticks": ""
            },
            "colorscale": [
             [
              0,
              "#0d0887"
             ],
             [
              0.1111111111111111,
              "#46039f"
             ],
             [
              0.2222222222222222,
              "#7201a8"
             ],
             [
              0.3333333333333333,
              "#9c179e"
             ],
             [
              0.4444444444444444,
              "#bd3786"
             ],
             [
              0.5555555555555556,
              "#d8576b"
             ],
             [
              0.6666666666666666,
              "#ed7953"
             ],
             [
              0.7777777777777778,
              "#fb9f3a"
             ],
             [
              0.8888888888888888,
              "#fdca26"
             ],
             [
              1,
              "#f0f921"
             ]
            ],
            "type": "contour"
           }
          ],
          "contourcarpet": [
           {
            "colorbar": {
             "outlinewidth": 0,
             "ticks": ""
            },
            "type": "contourcarpet"
           }
          ],
          "heatmap": [
           {
            "colorbar": {
             "outlinewidth": 0,
             "ticks": ""
            },
            "colorscale": [
             [
              0,
              "#0d0887"
             ],
             [
              0.1111111111111111,
              "#46039f"
             ],
             [
              0.2222222222222222,
              "#7201a8"
             ],
             [
              0.3333333333333333,
              "#9c179e"
             ],
             [
              0.4444444444444444,
              "#bd3786"
             ],
             [
              0.5555555555555556,
              "#d8576b"
             ],
             [
              0.6666666666666666,
              "#ed7953"
             ],
             [
              0.7777777777777778,
              "#fb9f3a"
             ],
             [
              0.8888888888888888,
              "#fdca26"
             ],
             [
              1,
              "#f0f921"
             ]
            ],
            "type": "heatmap"
           }
          ],
          "heatmapgl": [
           {
            "colorbar": {
             "outlinewidth": 0,
             "ticks": ""
            },
            "colorscale": [
             [
              0,
              "#0d0887"
             ],
             [
              0.1111111111111111,
              "#46039f"
             ],
             [
              0.2222222222222222,
              "#7201a8"
             ],
             [
              0.3333333333333333,
              "#9c179e"
             ],
             [
              0.4444444444444444,
              "#bd3786"
             ],
             [
              0.5555555555555556,
              "#d8576b"
             ],
             [
              0.6666666666666666,
              "#ed7953"
             ],
             [
              0.7777777777777778,
              "#fb9f3a"
             ],
             [
              0.8888888888888888,
              "#fdca26"
             ],
             [
              1,
              "#f0f921"
             ]
            ],
            "type": "heatmapgl"
           }
          ],
          "histogram": [
           {
            "marker": {
             "pattern": {
              "fillmode": "overlay",
              "size": 10,
              "solidity": 0.2
             }
            },
            "type": "histogram"
           }
          ],
          "histogram2d": [
           {
            "colorbar": {
             "outlinewidth": 0,
             "ticks": ""
            },
            "colorscale": [
             [
              0,
              "#0d0887"
             ],
             [
              0.1111111111111111,
              "#46039f"
             ],
             [
              0.2222222222222222,
              "#7201a8"
             ],
             [
              0.3333333333333333,
              "#9c179e"
             ],
             [
              0.4444444444444444,
              "#bd3786"
             ],
             [
              0.5555555555555556,
              "#d8576b"
             ],
             [
              0.6666666666666666,
              "#ed7953"
             ],
             [
              0.7777777777777778,
              "#fb9f3a"
             ],
             [
              0.8888888888888888,
              "#fdca26"
             ],
             [
              1,
              "#f0f921"
             ]
            ],
            "type": "histogram2d"
           }
          ],
          "histogram2dcontour": [
           {
            "colorbar": {
             "outlinewidth": 0,
             "ticks": ""
            },
            "colorscale": [
             [
              0,
              "#0d0887"
             ],
             [
              0.1111111111111111,
              "#46039f"
             ],
             [
              0.2222222222222222,
              "#7201a8"
             ],
             [
              0.3333333333333333,
              "#9c179e"
             ],
             [
              0.4444444444444444,
              "#bd3786"
             ],
             [
              0.5555555555555556,
              "#d8576b"
             ],
             [
              0.6666666666666666,
              "#ed7953"
             ],
             [
              0.7777777777777778,
              "#fb9f3a"
             ],
             [
              0.8888888888888888,
              "#fdca26"
             ],
             [
              1,
              "#f0f921"
             ]
            ],
            "type": "histogram2dcontour"
           }
          ],
          "mesh3d": [
           {
            "colorbar": {
             "outlinewidth": 0,
             "ticks": ""
            },
            "type": "mesh3d"
           }
          ],
          "parcoords": [
           {
            "line": {
             "colorbar": {
              "outlinewidth": 0,
              "ticks": ""
             }
            },
            "type": "parcoords"
           }
          ],
          "pie": [
           {
            "automargin": true,
            "type": "pie"
           }
          ],
          "scatter": [
           {
            "fillpattern": {
             "fillmode": "overlay",
             "size": 10,
             "solidity": 0.2
            },
            "type": "scatter"
           }
          ],
          "scatter3d": [
           {
            "line": {
             "colorbar": {
              "outlinewidth": 0,
              "ticks": ""
             }
            },
            "marker": {
             "colorbar": {
              "outlinewidth": 0,
              "ticks": ""
             }
            },
            "type": "scatter3d"
           }
          ],
          "scattercarpet": [
           {
            "marker": {
             "colorbar": {
              "outlinewidth": 0,
              "ticks": ""
             }
            },
            "type": "scattercarpet"
           }
          ],
          "scattergeo": [
           {
            "marker": {
             "colorbar": {
              "outlinewidth": 0,
              "ticks": ""
             }
            },
            "type": "scattergeo"
           }
          ],
          "scattergl": [
           {
            "marker": {
             "colorbar": {
              "outlinewidth": 0,
              "ticks": ""
             }
            },
            "type": "scattergl"
           }
          ],
          "scattermapbox": [
           {
            "marker": {
             "colorbar": {
              "outlinewidth": 0,
              "ticks": ""
             }
            },
            "type": "scattermapbox"
           }
          ],
          "scatterpolar": [
           {
            "marker": {
             "colorbar": {
              "outlinewidth": 0,
              "ticks": ""
             }
            },
            "type": "scatterpolar"
           }
          ],
          "scatterpolargl": [
           {
            "marker": {
             "colorbar": {
              "outlinewidth": 0,
              "ticks": ""
             }
            },
            "type": "scatterpolargl"
           }
          ],
          "scatterternary": [
           {
            "marker": {
             "colorbar": {
              "outlinewidth": 0,
              "ticks": ""
             }
            },
            "type": "scatterternary"
           }
          ],
          "surface": [
           {
            "colorbar": {
             "outlinewidth": 0,
             "ticks": ""
            },
            "colorscale": [
             [
              0,
              "#0d0887"
             ],
             [
              0.1111111111111111,
              "#46039f"
             ],
             [
              0.2222222222222222,
              "#7201a8"
             ],
             [
              0.3333333333333333,
              "#9c179e"
             ],
             [
              0.4444444444444444,
              "#bd3786"
             ],
             [
              0.5555555555555556,
              "#d8576b"
             ],
             [
              0.6666666666666666,
              "#ed7953"
             ],
             [
              0.7777777777777778,
              "#fb9f3a"
             ],
             [
              0.8888888888888888,
              "#fdca26"
             ],
             [
              1,
              "#f0f921"
             ]
            ],
            "type": "surface"
           }
          ],
          "table": [
           {
            "cells": {
             "fill": {
              "color": "#EBF0F8"
             },
             "line": {
              "color": "white"
             }
            },
            "header": {
             "fill": {
              "color": "#C8D4E3"
             },
             "line": {
              "color": "white"
             }
            },
            "type": "table"
           }
          ]
         },
         "layout": {
          "annotationdefaults": {
           "arrowcolor": "#2a3f5f",
           "arrowhead": 0,
           "arrowwidth": 1
          },
          "autotypenumbers": "strict",
          "coloraxis": {
           "colorbar": {
            "outlinewidth": 0,
            "ticks": ""
           }
          },
          "colorscale": {
           "diverging": [
            [
             0,
             "#8e0152"
            ],
            [
             0.1,
             "#c51b7d"
            ],
            [
             0.2,
             "#de77ae"
            ],
            [
             0.3,
             "#f1b6da"
            ],
            [
             0.4,
             "#fde0ef"
            ],
            [
             0.5,
             "#f7f7f7"
            ],
            [
             0.6,
             "#e6f5d0"
            ],
            [
             0.7,
             "#b8e186"
            ],
            [
             0.8,
             "#7fbc41"
            ],
            [
             0.9,
             "#4d9221"
            ],
            [
             1,
             "#276419"
            ]
           ],
           "sequential": [
            [
             0,
             "#0d0887"
            ],
            [
             0.1111111111111111,
             "#46039f"
            ],
            [
             0.2222222222222222,
             "#7201a8"
            ],
            [
             0.3333333333333333,
             "#9c179e"
            ],
            [
             0.4444444444444444,
             "#bd3786"
            ],
            [
             0.5555555555555556,
             "#d8576b"
            ],
            [
             0.6666666666666666,
             "#ed7953"
            ],
            [
             0.7777777777777778,
             "#fb9f3a"
            ],
            [
             0.8888888888888888,
             "#fdca26"
            ],
            [
             1,
             "#f0f921"
            ]
           ],
           "sequentialminus": [
            [
             0,
             "#0d0887"
            ],
            [
             0.1111111111111111,
             "#46039f"
            ],
            [
             0.2222222222222222,
             "#7201a8"
            ],
            [
             0.3333333333333333,
             "#9c179e"
            ],
            [
             0.4444444444444444,
             "#bd3786"
            ],
            [
             0.5555555555555556,
             "#d8576b"
            ],
            [
             0.6666666666666666,
             "#ed7953"
            ],
            [
             0.7777777777777778,
             "#fb9f3a"
            ],
            [
             0.8888888888888888,
             "#fdca26"
            ],
            [
             1,
             "#f0f921"
            ]
           ]
          },
          "colorway": [
           "#636efa",
           "#EF553B",
           "#00cc96",
           "#ab63fa",
           "#FFA15A",
           "#19d3f3",
           "#FF6692",
           "#B6E880",
           "#FF97FF",
           "#FECB52"
          ],
          "font": {
           "color": "#2a3f5f"
          },
          "geo": {
           "bgcolor": "white",
           "lakecolor": "white",
           "landcolor": "#E5ECF6",
           "showlakes": true,
           "showland": true,
           "subunitcolor": "white"
          },
          "hoverlabel": {
           "align": "left"
          },
          "hovermode": "closest",
          "mapbox": {
           "style": "light"
          },
          "paper_bgcolor": "white",
          "plot_bgcolor": "#E5ECF6",
          "polar": {
           "angularaxis": {
            "gridcolor": "white",
            "linecolor": "white",
            "ticks": ""
           },
           "bgcolor": "#E5ECF6",
           "radialaxis": {
            "gridcolor": "white",
            "linecolor": "white",
            "ticks": ""
           }
          },
          "scene": {
           "xaxis": {
            "backgroundcolor": "#E5ECF6",
            "gridcolor": "white",
            "gridwidth": 2,
            "linecolor": "white",
            "showbackground": true,
            "ticks": "",
            "zerolinecolor": "white"
           },
           "yaxis": {
            "backgroundcolor": "#E5ECF6",
            "gridcolor": "white",
            "gridwidth": 2,
            "linecolor": "white",
            "showbackground": true,
            "ticks": "",
            "zerolinecolor": "white"
           },
           "zaxis": {
            "backgroundcolor": "#E5ECF6",
            "gridcolor": "white",
            "gridwidth": 2,
            "linecolor": "white",
            "showbackground": true,
            "ticks": "",
            "zerolinecolor": "white"
           }
          },
          "shapedefaults": {
           "line": {
            "color": "#2a3f5f"
           }
          },
          "ternary": {
           "aaxis": {
            "gridcolor": "white",
            "linecolor": "white",
            "ticks": ""
           },
           "baxis": {
            "gridcolor": "white",
            "linecolor": "white",
            "ticks": ""
           },
           "bgcolor": "#E5ECF6",
           "caxis": {
            "gridcolor": "white",
            "linecolor": "white",
            "ticks": ""
           }
          },
          "title": {
           "x": 0.05
          },
          "xaxis": {
           "automargin": true,
           "gridcolor": "white",
           "linecolor": "white",
           "ticks": "",
           "title": {
            "standoff": 15
           },
           "zerolinecolor": "white",
           "zerolinewidth": 2
          },
          "yaxis": {
           "automargin": true,
           "gridcolor": "white",
           "linecolor": "white",
           "ticks": "",
           "title": {
            "standoff": 15
           },
           "zerolinecolor": "white",
           "zerolinewidth": 2
          }
         }
        },
        "title": {
         "text": "Stepwise Divergence from Random Path"
        },
        "width": 800,
        "xaxis": {
         "range": [
          0.5,
          10.5
         ],
         "tickmode": "linear",
         "title": {
          "text": "Step"
         }
        },
        "yaxis": {
         "title": {
          "text": "Divergence Value"
         }
        }
       }
      }
     },
     "metadata": {},
     "output_type": "display_data"
    }
   ],
   "source": [
    "plot_category_step_divergence(KL_cat_df, config.PALETTE_CATEGORY_DICT_COLORS)"
   ]
  },
  {
   "cell_type": "markdown",
   "metadata": {},
   "source": [
    "<div class=\"alert alert-block alert-success\">\n",
    "The Countries and Geography categories have similar behaviors, having extreme values, both strongly positive values for the first transition (~200 and 70 respectively), and strongly negative values in later steps (between -500 and -1000 and between -350 and -550 respectively).\n",
    "\n",
    "- The stronly positive values for the first transition shows strong evidence that the first click of players are voluntarily directed towards Countries and Geography articles.\n",
    "\n",
    "- The strong negative values for following steps shows strong evidence that folowing the first clicks, players voluntarily direct their click towards other categories.  \n",
    "\n",
    "Further study of the evolution of country and geography articles is needed to explore where those strong values come from.\n",
    "\n",
    "Let's look at articles of the Countries category more specifically:\n",
    "</div>"
   ]
  },
  {
   "cell_type": "markdown",
   "metadata": {},
   "source": [
    "<div class=\"alert alert-block alert-success\">\n",
    "Interestingly, no strongly negative values appear in later steps. This indicates that the strong negative values in the category plot is likely due to the accumulation of many small negative deviation from the random path. \n",
    "\n",
    "Lets verify this assimption by grouping articles that stay close to the random path as 'Others' article, and plotting their mean, and the value of their sum. \n",
    "</div>"
   ]
  },
  {
   "cell_type": "markdown",
   "metadata": {},
   "source": [
    "<div class=\"alert alert-block alert-success\">\n",
    "A great majority of countries articles are clicked close to randomly (the difference between player path and random path is close to 0), but they are so numerous that they cumulate to be very significant in the country category.\n",
    "\n",
    "These articles being so influent in the category stats and being close to random, we could make the choice to ingore them by :\n",
    "finding a way for them not to influence so much the category: by removing them? by expressing them under 'Other_mean'? how to justify this choice? \n",
    "</div>"
   ]
  },
  {
   "cell_type": "markdown",
   "metadata": {},
   "source": [
    "### Categories normalised by transition probabilities"
   ]
  },
  {
   "cell_type": "code",
   "execution_count": 26,
   "metadata": {},
   "outputs": [],
   "source": [
    "markov_transitions = get_transition_probabilities(df_article_names, parser, backclicks=False, normalise=False)"
   ]
  },
  {
   "cell_type": "code",
   "execution_count": 27,
   "metadata": {},
   "outputs": [],
   "source": [
    "from src.utils.helpers import map_path_to_categories\n",
    "article_to_category = dict(zip(df_categories['article'], df_categories['level_1']))\n",
    "mapped_categories = map_path_to_categories(df_article_names, article_to_category)"
   ]
  },
  {
   "cell_type": "code",
   "execution_count": 28,
   "metadata": {},
   "outputs": [
    {
     "data": {
      "text/html": [
       "<div>\n",
       "<style scoped>\n",
       "    .dataframe tbody tr th:only-of-type {\n",
       "        vertical-align: middle;\n",
       "    }\n",
       "\n",
       "    .dataframe tbody tr th {\n",
       "        vertical-align: top;\n",
       "    }\n",
       "\n",
       "    .dataframe thead th {\n",
       "        text-align: right;\n",
       "    }\n",
       "</style>\n",
       "<table border=\"1\" class=\"dataframe\">\n",
       "  <thead>\n",
       "    <tr style=\"text-align: right;\">\n",
       "      <th></th>\n",
       "      <th>category</th>\n",
       "      <th>transition</th>\n",
       "    </tr>\n",
       "  </thead>\n",
       "  <tbody>\n",
       "    <tr>\n",
       "      <th>0</th>\n",
       "      <td>Art</td>\n",
       "      <td>1352.0</td>\n",
       "    </tr>\n",
       "    <tr>\n",
       "      <th>1</th>\n",
       "      <td>Business Studies</td>\n",
       "      <td>3217.0</td>\n",
       "    </tr>\n",
       "    <tr>\n",
       "      <th>2</th>\n",
       "      <td>Citizenship</td>\n",
       "      <td>9227.0</td>\n",
       "    </tr>\n",
       "    <tr>\n",
       "      <th>3</th>\n",
       "      <td>Countries</td>\n",
       "      <td>23090.0</td>\n",
       "    </tr>\n",
       "    <tr>\n",
       "      <th>4</th>\n",
       "      <td>Design and Technology</td>\n",
       "      <td>5533.0</td>\n",
       "    </tr>\n",
       "    <tr>\n",
       "      <th>5</th>\n",
       "      <td>Everyday life</td>\n",
       "      <td>10700.0</td>\n",
       "    </tr>\n",
       "    <tr>\n",
       "      <th>6</th>\n",
       "      <td>Geography</td>\n",
       "      <td>31885.0</td>\n",
       "    </tr>\n",
       "    <tr>\n",
       "      <th>7</th>\n",
       "      <td>History</td>\n",
       "      <td>19845.0</td>\n",
       "    </tr>\n",
       "    <tr>\n",
       "      <th>8</th>\n",
       "      <td>IT</td>\n",
       "      <td>1350.0</td>\n",
       "    </tr>\n",
       "    <tr>\n",
       "      <th>9</th>\n",
       "      <td>Language and literature</td>\n",
       "      <td>5518.0</td>\n",
       "    </tr>\n",
       "    <tr>\n",
       "      <th>10</th>\n",
       "      <td>Mathematics</td>\n",
       "      <td>852.0</td>\n",
       "    </tr>\n",
       "    <tr>\n",
       "      <th>11</th>\n",
       "      <td>Music</td>\n",
       "      <td>2391.0</td>\n",
       "    </tr>\n",
       "    <tr>\n",
       "      <th>12</th>\n",
       "      <td>People</td>\n",
       "      <td>19442.0</td>\n",
       "    </tr>\n",
       "    <tr>\n",
       "      <th>13</th>\n",
       "      <td>Religion</td>\n",
       "      <td>4772.0</td>\n",
       "    </tr>\n",
       "    <tr>\n",
       "      <th>14</th>\n",
       "      <td>Science</td>\n",
       "      <td>28032.0</td>\n",
       "    </tr>\n",
       "  </tbody>\n",
       "</table>\n",
       "</div>"
      ],
      "text/plain": [
       "                   category  transition\n",
       "0                       Art      1352.0\n",
       "1          Business Studies      3217.0\n",
       "2               Citizenship      9227.0\n",
       "3                 Countries     23090.0\n",
       "4     Design and Technology      5533.0\n",
       "5             Everyday life     10700.0\n",
       "6                 Geography     31885.0\n",
       "7                   History     19845.0\n",
       "8                        IT      1350.0\n",
       "9   Language and literature      5518.0\n",
       "10              Mathematics       852.0\n",
       "11                    Music      2391.0\n",
       "12                   People     19442.0\n",
       "13                 Religion      4772.0\n",
       "14                  Science     28032.0"
      ]
     },
     "execution_count": 28,
     "metadata": {},
     "output_type": "execute_result"
    }
   ],
   "source": [
    "transitions_per_category = pd.DataFrame({'category': mapped_categories, 'transition': markov_transitions.sum(axis=1)})\n",
    "transitions_per_category=transitions_per_category.groupby('category', as_index=False).sum()\n",
    "transitions_per_category"
   ]
  },
  {
   "cell_type": "code",
   "execution_count": 29,
   "metadata": {},
   "outputs": [],
   "source": [
    "from collections import Counter\n",
    "\n",
    "category_counts = Counter(mapped_categories)\n",
    "# Convert to a DataFrame if needed\n",
    "category_counts_df = pd.DataFrame(category_counts.items(), columns=['category', 'count'])\n"
   ]
  },
  {
   "cell_type": "code",
   "execution_count": 30,
   "metadata": {},
   "outputs": [],
   "source": [
    "result = pd.merge(category_counts_df , transitions_per_category, on='category')\n",
    "result['ratio'] = result['count'] / result['transition']\n",
    "result=result.sort_values(by='ratio')"
   ]
  },
  {
   "cell_type": "code",
   "execution_count": 31,
   "metadata": {},
   "outputs": [
    {
     "name": "stderr",
     "output_type": "stream",
     "text": [
      "C:\\Users\\yanni\\AppData\\Local\\Temp\\ipykernel_45684\\4165116778.py:3: FutureWarning:\n",
      "\n",
      "\n",
      "\n",
      "Passing `palette` without assigning `hue` is deprecated and will be removed in v0.14.0. Assign the `x` variable to `hue` and set `legend=False` for the same effect.\n",
      "\n",
      "\n"
     ]
    },
    {
     "data": {
      "image/png": "[encoded data removed]",
      "text/plain": [
       "<Figure size 640x480 with 1 Axes>"
      ]
     },
     "metadata": {},
     "output_type": "display_data"
    }
   ],
   "source": [
    "#TODO: adapt plot to colors and categories chosen\n",
    "\n",
    "sn.barplot(data=result, x='category', y='ratio', palette='viridis')\n",
    "\n",
    "# Customize the plot\n",
    "plt.xlabel('Category')\n",
    "plt.ylabel('Count / Transitions')\n",
    "plt.title('Ratio of Count to Transitions by Category')\n",
    "plt.xticks(rotation=75) \n",
    "plt.show()"
   ]
  },
  {
   "cell_type": "code",
   "execution_count": 32,
   "metadata": {},
   "outputs": [
    {
     "name": "stdout",
     "output_type": "stream",
     "text": [
      "user:\n",
      "[[0.7 0.3]\n",
      " [0.4 0.6]]\n",
      "rand:\n",
      "[[0.5 0.5]\n",
      " [0.5 0.5]]\n",
      "Element-wise KL Divergence Matrix:\n",
      "[[ 0.23553057 -0.15324769]\n",
      " [-0.08925742  0.10939293]]\n"
     ]
    }
   ],
   "source": [
    "import numpy as np\n",
    "\n",
    "# Example matrices\n",
    "P_user = np.array([[0.7, 0.3], [0.4, 0.6]])\n",
    "P_random = np.array([[0.5, 0.5], [0.5, 0.5]])\n",
    "print(f'user:\\n{P_user}')\n",
    "print(f'rand:\\n{P_random}')\n",
    "\n",
    "KL_matrix = np.where(P_user > 0, P_user * np.log(P_user / P_random), 0)\n",
    "\n",
    "print(\"Element-wise KL Divergence Matrix:\")\n",
    "print(KL_matrix)\n"
   ]
  }
 ],
 "metadata": {
  "kernelspec": {
   "display_name": "ada_project",
   "language": "python",
   "name": "python3"
  },
  "language_info": {
   "codemirror_mode": {
    "name": "ipython",
    "version": 3
   },
   "file_extension": ".py",
   "mimetype": "text/x-python",
   "name": "python",
   "nbconvert_exporter": "python",
   "pygments_lexer": "ipython3",
   "version": "3.11.9"
  }
 },
 "nbformat": 4,
 "nbformat_minor": 2
}
