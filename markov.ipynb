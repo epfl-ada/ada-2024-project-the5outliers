{
 "cells": [
  {
   "cell_type": "code",
   "execution_count": 1,
   "metadata": {},
   "outputs": [],
   "source": [
    "from src.data.data_loader import read_articles, read_finished_paths, read_unfinished_paths, read_links, read_categories\n",
    "from src.utils.HTMLParser import HTMLParser\n",
    "from src.data.data_loader import read_all\n",
    "import pandas as pd\n",
    "import matplotlib.colors as mcolors\n",
    "import plotly.express as px\n",
    "import numpy as np\n",
    "\n",
    "\n",
    "\n",
    "parser = HTMLParser()\n",
    "parser.load_pickle()"
   ]
  },
  {
   "cell_type": "code",
   "execution_count": 2,
   "metadata": {},
   "outputs": [
    {
     "name": "stdout",
     "output_type": "stream",
     "text": [
      "Unfinished Paths\n",
      "---------------- \n",
      "Number of rows before filtering: 24875\n",
      "Invalid target articles found: {'Usa', 'Rat', 'Test', 'Black ops 2', 'The Rock', 'Great', 'Podcast', 'Adolph Hitler', 'Bogota', 'Sportacus', 'Christmas', ' Zebra', 'Kashmir', 'Pikachu', 'Long peper', 'Macedonia', 'Mustard', 'Netbook', 'Rss', 'Georgia', 'Western Australia', 'English', 'Fats', 'The', 'Charlottes web'}\n",
      "Invalid articles found in path: {'Pikachu', 'Wikipedia Text of the GNU Free Documentation License', 'Osteomalacia', 'Private Peaceful', 'Local community'}\n",
      "Number of 'timeout' games with a duration of less than 30 minutes: 7\n",
      "Number of rows after filtering: 24709 \n",
      "\n",
      "Finished Paths\n",
      "-------------- \n",
      "Number of rows before filtering: 51318\n",
      "Invalid articles found in path: {'Wikipedia Text of the GNU Free Documentation License', 'Local community', 'Osteomalacia', 'Pikachu'}\n",
      "Number of rows after filtering: 51196\n"
     ]
    }
   ],
   "source": [
    "df_article_names, df_html_stats, df_categories, df_links, df_shortest_path, df_unfinished, df_finished, df_sm, df_scat, df_article = read_all()"
   ]
  },
  {
   "cell_type": "code",
   "execution_count": 3,
   "metadata": {},
   "outputs": [],
   "source": [
    "categories_others = ['Art',\n",
    " 'Business Studies',\n",
    " 'Citizenship',\n",
    " 'Countries',\n",
    " 'Design and Technology',\n",
    " 'Everyday life',\n",
    " 'Geography',\n",
    " 'History',\n",
    " 'IT',\n",
    " 'Language and literature',\n",
    " 'Mathematics',\n",
    " 'Music',\n",
    " 'People',\n",
    " 'Religion',\n",
    " 'Science',\n",
    " 'Others',]\n",
    "\n",
    "# colors for country and geo \n",
    "highlight_colors = {'Countries': '#2CB5AE','Geography': '#16A2F3'}\n",
    "\n",
    "# shades of grey for other categories\n",
    "num_greys = len(categories_others) - 2  # num of categories - country and geo \n",
    "grey_shades = [mcolors.to_hex((v, v, v)) for v in np.linspace(0.2, 0.4, num_greys)]\n",
    "non_custom_categories = [cat for cat in categories_others if cat not in highlight_colors]\n",
    "grey_palette = dict(zip(non_custom_categories, grey_shades)) ##here zip with a new \n",
    "\n",
    "# Combine custom colors and grey palette : final category palette\n",
    "palette_category_dict = {**highlight_colors, **grey_palette}"
   ]
  },
  {
   "cell_type": "code",
   "execution_count": 4,
   "metadata": {},
   "outputs": [],
   "source": [
    "#cut df into different colors\n",
    "df_article_others = df_article[~df_article['category'].isin(['Countries', 'Geography'])]\n",
    "df_article_countries = df_article[df_article['category']=='Countries']\n",
    "df_article_geo = df_article[df_article['category']=='Geography']\n",
    "\n",
    "# colors for country and geo articles\n",
    "countries_articles_colors = dict.fromkeys(df_article_countries['article'], '#2CB5AE')\n",
    "geo_articles_color = dict.fromkeys(df_article_geo['article'], '#16A2F3')\n",
    "#colors for other articles\n",
    "num_greys = len(df_article_others)\n",
    "grey_shades = [mcolors.to_hex((v, v, v)) for v in np.linspace(0.2, 0.4, num_greys)]\n",
    "articles_other = [art for art in df_article_others['article']]\n",
    "grey_palette_articles = dict(zip(articles_other, grey_shades))\n",
    "\n",
    "palette_articles_dict = {**countries_articles_colors, **geo_articles_color, **grey_palette_articles}"
   ]
  },
  {
   "cell_type": "code",
   "execution_count": 5,
   "metadata": {},
   "outputs": [],
   "source": [
    "import numpy as np\n",
    "import pandas as pd\n",
    "import matplotlib.pyplot as plt\n",
    "import seaborn as sn\n",
    "\n",
    "def get_nth_transition_matrix(df, article_names, transition):\n",
    "    \"\"\"\n",
    "    Create the nth transition matrix based on the user paths.\n",
    "\n",
    "    Parameters:\n",
    "    - df (pd.DataFrame): The finished or unfinished paths.\n",
    "    - article_names (pd.Series): The names of all the articles to consider for transitions\n",
    "    - n (int): The position in the path to compute the transition (1 for first, 2 for second, etc.).\n",
    "\n",
    "    Returns:\n",
    "    - pd.DataFrame: A transition matrix for the nth position, with article_names as both rows and columns. Missing transitions are filled with 0.\n",
    "    \"\"\"\n",
    "    \n",
    "    df = df.copy()\n",
    "    df['path_split'] = df['path'].str.split(';')\n",
    "    df['current'] = df['path_split'].apply(lambda x: x[transition-1] if len(x) >= transition else None)\n",
    "    df = df.dropna(subset=['current'])\n",
    "    \n",
    "    if df['current'].nunique() < 2:\n",
    "        return pd.DataFrame(0, index=article_names, columns=article_names)\n",
    "    \n",
    "    df['next'] = df['path_split'].apply(lambda x: x[transition] if len(x) > transition else None)\n",
    "    transition_counts = df.groupby(['current', 'next']).size().reset_index(name='count')\n",
    "\n",
    "    transition_matrix = transition_counts.pivot(index='current', columns='next', values='count').fillna(0)\n",
    "    transition_matrix = transition_matrix.reindex(index=article_names, columns=article_names, fill_value=0)\n",
    "    \n",
    "    return transition_matrix\n",
    "\n",
    "def row_normalise(matrix):\n",
    "    \"\"\"Row-normalise the dataframe given in parameters\"\"\"\n",
    "\n",
    "    row_sums = matrix.sum(axis=1)  \n",
    "    normalized_matrix = matrix.div(row_sums, axis=0)  \n",
    "    normalized_matrix[row_sums == 0] = 0  # Keep rows with sum = 0 as zero\n",
    "\n",
    "    return normalized_matrix\n",
    "\n",
    "def get_transition_probabilities(df_article_names, parser, backclicks=False):\n",
    "    \"\"\"\n",
    "    Compute the transition probabilities for navigating between articles.\n",
    "\n",
    "    Parameters:\n",
    "    - df_article_names (pd.Series): A series of article names, representing the list of articles.\n",
    "    - parser (object): An object with a `parsed_articles` attribute, where `parsed_articles` is a dictionary \n",
    "    that maps article names to their associated metadata, including a 'total_links' key containing the links from the article.\n",
    "    - backclicks (bool, optional): If True, includes a \"backclick\" action as a possible navigation option,\n",
    "    where backclick allows transitioning equally to any other article. Defaults to False.\n",
    "\n",
    "    Returns:\n",
    "    - np.ndarray: A square matrix of shape (actions, actions), where `actions` is the number of articles (or articles + 1 if backclicks are enabled). \n",
    "    Each entry [i, j] represents the probability of transitioning from article `i` to article `j`.\n",
    "    \"\"\"\n",
    "\n",
    "\n",
    "    # are there any articles with no links? Not anymore. Are there disjoint sets that you cannot travel in both directions? I don't know\n",
    "    actions = len(df_article_names) \n",
    "\n",
    "    if backclicks: \n",
    "        actions += 1\n",
    "\n",
    "    transition_probabilities = np.zeros((actions, actions))\n",
    "    \n",
    "    if backclicks:\n",
    "        transition_probabilities[:, 0] = 1  # in each article, backclick is a unique possible click choice\n",
    "        transition_probabilities[0, :] = 1  # the article \"backclick\" is equally likely to lead to any article\n",
    "\n",
    "    for i, art in enumerate(df_article_names):\n",
    "        art_links = pd.Series(parser.parsed_articles[art]['total_links']).value_counts()\n",
    "        indx = df_article_names[df_article_names.isin(art_links.index)]\n",
    "        arts = np.array(indx.index.tolist())\n",
    "        vals = art_links.loc[indx].values\n",
    "\n",
    "        if backclicks: \n",
    "            i += 1\n",
    "            arts += 1\n",
    "\n",
    "        if arts.size > 0:\n",
    "            transition_probabilities[i, arts] += vals\n",
    "\n",
    "    transition_probabilities /= transition_probabilities.sum(axis=1)[:, np.newaxis]\n",
    "\n",
    "    return transition_probabilities"
   ]
  },
  {
   "cell_type": "code",
   "execution_count": 6,
   "metadata": {},
   "outputs": [
    {
     "data": {
      "text/plain": [
       "119855"
      ]
     },
     "execution_count": 6,
     "metadata": {},
     "output_type": "execute_result"
    }
   ],
   "source": [
    "markov_transitions = get_transition_probabilities(df_article_names, parser, backclicks=False)\n",
    "np.count_nonzero(markov_transitions)"
   ]
  },
  {
   "cell_type": "markdown",
   "metadata": {},
   "source": [
    "## Eigenvalue analysis"
   ]
  },
  {
   "cell_type": "markdown",
   "metadata": {},
   "source": [
    "<div class=\"alert alert-block alert-info\">\n",
    "\n",
    "The transition matrix's $P$ left eigenvector with eigenvalue 1 (i.e. $x$ such that $xP=x$) is called the steady-state of the system. Let's call the normalised vector $x = (x_1, x_2, \\dots, x_N)$, where the sum of all $x_i$ is 1. After $\\infty$ iterations, starting from whatever article, the probability distribution of the end article is given by $x$. \n",
    "\n",
    "**Example**: For 3 articles, let's say that we have $x=(0.2, 0.3, 0.5)$. Then, when starting from any of the articles and taking infinitely many steps, there is probability 0.2 to be in article 1, probability 0.3 to be in article 2 and probability 0.5 to be in article 3.\n",
    "\n",
    "</div>"
   ]
  },
  {
   "cell_type": "code",
   "execution_count": 7,
   "metadata": {},
   "outputs": [
    {
     "data": {
      "text/plain": [
       "<matplotlib.collections.PathCollection at 0x13f4bbe50>"
      ]
     },
     "execution_count": 7,
     "metadata": {},
     "output_type": "execute_result"
    },
    {
     "data": {
      "image/png": "[encoded data removed]",
      "text/plain": [
       "<Figure size 432x288 with 1 Axes>"
      ]
     },
     "metadata": {
      "needs_background": "light"
     },
     "output_type": "display_data"
    }
   ],
   "source": [
    "val, vec = np.linalg.eig(markov_transitions.T)\n",
    "plt.scatter(val.real, val.imag)"
   ]
  },
  {
   "cell_type": "code",
   "execution_count": 8,
   "metadata": {},
   "outputs": [
    {
     "data": {
      "text/plain": [
       "4280       United States\n",
       "1562              France\n",
       "4276      United Kingdom\n",
       "1427              Europe\n",
       "1687             Germany\n",
       "1383    English language\n",
       "1433      European Union\n",
       "4523        World War II\n",
       "3554              Russia\n",
       "1379             England\n",
       "2176               Italy\n",
       "2091               India\n",
       "3815               Spain\n",
       "1591     French language\n",
       "2219               Japan\n",
       "2409               Latin\n",
       "893                China\n",
       "906         Christianity\n",
       "4279      United Nations\n",
       "767               Canada\n",
       "Name: article, dtype: object"
      ]
     },
     "execution_count": 8,
     "metadata": {},
     "output_type": "execute_result"
    }
   ],
   "source": [
    "ss = np.real(-vec[:, 0]) / np.real(-vec[:, 0]).sum()\n",
    "top_indices = np.argsort(ss)[-20:][::-1]\n",
    "df_article_names.iloc[top_indices]"
   ]
  },
  {
   "cell_type": "markdown",
   "metadata": {},
   "source": [
    "<div class=\"alert alert-block alert-success\">\n",
    "There is indeed a vector with eigenvalue one, so there is a steady state in the system. To find the probabilities to be in a certain article in the steady state, we can look at the normalised values of the eigenvector. We see that United States is the most likely article to be in, followed mainly by a bunch of other countries.\n",
    "</div>"
   ]
  },
  {
   "cell_type": "markdown",
   "metadata": {},
   "source": [
    "## Comparing Network vs. Users first step"
   ]
  },
  {
   "cell_type": "markdown",
   "metadata": {},
   "source": [
    "<div class=\"alert alert-block alert-info\">\n",
    "\n",
    "Let's start in any article $i$ and take $l$ steps in the network, which leads to article $j$. The probability of this happening by chance in the network is simply $P_{ij}(l)=A^l_{ij}$. To get probabilities of transitions for every pair of articles and path length $l$, we only need to take the $l$-th power of the transition matrix! This effectively characterises the bias of the network itself: if users pass by an article A very often BUT that only by chance you end up on the same article often too, we cannot conclude that the user made that choice. \n",
    "\n",
    "To characterise the user choices, we simply take the paths they created by playing. We can then similarly create a transition matrix based on observed data: just take the aggregated count of all the transitions from all starting articles. For instance, from article $i$ we count 2 transitions to article $j_1$, 3 to $j_2$ and none to $j_3$. The normalised transition probabilities for article $i$ are then $(0.4, 0.6, 0)$. \n",
    "\n",
    "The difference in transition probabilities $\\Delta P=(0.4, 0.6, 0) - (0.2, 0.3, 0.5) = (0.2, 0.3, -0.5) \\in [-1, 1]^3$ then gives an idea of how likely it is that a user purposedly made a choice and not only ended in an article by accident. A highly positive value means that even though the transition is very unlikely in the network, the user made that choice. A larger negative value means that a user took a path that is rather unlikely under the random walk assumption. The Markov Chain allows to filter out the network bias in the user decisions.\n",
    "\n",
    "<b>Note:</b> Maybe look into odds instead of probabilities to be more rigorous? https://stats.stackexchange.com/questions/22796/compare-the-difference-of-two-probabilities-or-a-ratio-of-probabilities\n",
    "\n",
    "</div>"
   ]
  },
  {
   "cell_type": "code",
   "execution_count": 9,
   "metadata": {},
   "outputs": [
    {
     "data": {
      "text/plain": [
       "25151"
      ]
     },
     "execution_count": 9,
     "metadata": {},
     "output_type": "execute_result"
    }
   ],
   "source": [
    "user_transitions = row_normalise(get_nth_transition_matrix(df_finished, df_article_names, 1))\n",
    "np.count_nonzero(user_transitions.to_numpy())"
   ]
  },
  {
   "cell_type": "code",
   "execution_count": 10,
   "metadata": {},
   "outputs": [],
   "source": [
    "diff = user_transitions-markov_transitions"
   ]
  },
  {
   "cell_type": "code",
   "execution_count": 11,
   "metadata": {},
   "outputs": [
    {
     "data": {
      "image/png": "[encoded data removed]",
      "text/plain": [
       "<Figure size 432x288 with 2 Axes>"
      ]
     },
     "metadata": {
      "needs_background": "light"
     },
     "output_type": "display_data"
    }
   ],
   "source": [
    "sn.heatmap(diff.iloc[4200:4300, 4200:4300], cmap='BuPu', cbar=True)\n",
    "plt.show()"
   ]
  },
  {
   "cell_type": "code",
   "execution_count": 12,
   "metadata": {},
   "outputs": [
    {
     "data": {
      "text/plain": [
       "article\n",
       "United States                219.681123\n",
       "Europe                       100.233262\n",
       "England                       95.131996\n",
       "United Kingdom                69.586810\n",
       "World War II                  40.748234\n",
       "                                ...    \n",
       "Animal                       -10.015920\n",
       "Carolus Linnaeus             -10.290777\n",
       "Binomial nomenclature        -18.524412\n",
       "Chordate                     -19.782002\n",
       "Scientific classification    -21.930998\n",
       "Length: 4584, dtype: float64"
      ]
     },
     "execution_count": 12,
     "metadata": {},
     "output_type": "execute_result"
    }
   ],
   "source": [
    "mean_diff_indegree = diff.sum(axis=0).sort_values(ascending=False)\n",
    "mean_diff_indegree"
   ]
  },
  {
   "cell_type": "markdown",
   "metadata": {},
   "source": [
    "<div class=\"alert alert-block alert-success\">\n",
    "\n",
    "For the first transition, much more users go to United States or Europe than only following random transitions would.\n",
    "\n",
    "<b>Notes:</b> \n",
    "- Values close to 0 means it is close to random behaviour. Values that are closer to -1 or 1 are the special behaviour, either clicking much more or much less on certain articles than random would predict.\n",
    "- How could we remove the link position bias? Maybe check if certain links are on the top/bottom of the page and give more or less importance accordingly?\n",
    "- Does adding backclicks as in the function above make sense?\n",
    "</div>"
   ]
  },
  {
   "cell_type": "markdown",
   "metadata": {},
   "source": [
    "## Longer path lengths ($l>1$) comparison"
   ]
  },
  {
   "cell_type": "code",
   "execution_count": 13,
   "metadata": {},
   "outputs": [],
   "source": [
    "l = 1\n",
    "user_transitions_l = row_normalise(get_nth_transition_matrix(df_finished, df_article_names, l))\n",
    "markov_transitions_l = np.linalg.matrix_power(get_transition_probabilities(df_article_names, parser, backclicks=False), l)\n",
    "diff_l = user_transitions_l - markov_transitions_l\n",
    "mean_diff_l = diff_l.sum(axis=0).sort_values(ascending=False)\n"
   ]
  },
  {
   "cell_type": "markdown",
   "metadata": {},
   "source": [
    "<div class=\"alert alert-block alert-danger\"> \n",
    "\n",
    "- Check step by step: same transition matrix for every step to see the user choices vary along the path\n",
    "- And by path: transition probability over longer paths $l>1$ (updated transition matrix for probability of user to be in j starting from i)\n",
    "  \n",
    "</div>"
   ]
  },
  {
   "cell_type": "markdown",
   "metadata": {},
   "source": [
    "## How does user's deviation from random path evolve during games ?\n"
   ]
  },
  {
   "cell_type": "markdown",
   "metadata": {},
   "source": [
    "<div class=\"alert alert-block alert-success\">\n",
    "We can look at the difference between user games and random games at different steps of the game. This highlights the evolution of which articles palyers **voluntarily chose** to visit at different stages of the game. \n",
    "</div>"
   ]
  },
  {
   "cell_type": "code",
   "execution_count": 14,
   "metadata": {},
   "outputs": [],
   "source": [
    "#two choices to justify:\n",
    "# 1) the number of steps to look at : we chose 5 as results  already stabilize \n",
    "# 2) what are articles we look at; we chose the 6 that have the most positive difference (differences are less extreme in the negatives, so less interesting as they show less evidence of voluntary choice) \n",
    "\n",
    "mean_diff_step = [] #list of the difference between game and random : represents user choice \n",
    "articles_to_investigate = [] #select 6 articles per step (at most, no duplicates) that differ the most from random chance : aka the articles for which we have the most evidence for voluntary player choice\n",
    "\n",
    "for n in range(1,6):\n",
    "    # get transition matrices of the 5 first steps of users and markov\n",
    "    user_transitions_n = row_normalise(get_nth_transition_matrix(df_finished, df_article_names,n))\n",
    "    markov_transitions_n = np.linalg.matrix_power(get_transition_probabilities(df_article_names, parser, backclicks=False), n)\n",
    "    \n",
    "    #compute column wise sum of the difference between user and random : gives the sum of probalities of player voluntarily chosing to transition to article j\n",
    "    diff_n = user_transitions_n - markov_transitions_n\n",
    "    mean_diff_n = diff_n.sum(axis=0).sort_values(ascending=False)\n",
    "    \n",
    "    #store the difference  \n",
    "    mean_diff_step.append(mean_diff_n)\n",
    "    \n",
    "    #store 6 articles that have the most evidence of being chosen by the player \n",
    "    articles_n = list(mean_diff_n.keys()[:6])\n",
    "    for article in articles_n:\n",
    "        if article not in articles_to_investigate:\n",
    "            articles_to_investigate.append(article) "
   ]
  },
  {
   "cell_type": "code",
   "execution_count": 15,
   "metadata": {},
   "outputs": [
    {
     "data": {
      "application/vnd.plotly.v1+json": {
       "config": {
        "plotlyServerURL": "https://plot.ly"
       },
       "data": [
        {
         "hovertemplate": "article=United States<br>Step=%{x}<br>Cumulative difference=%{y}<extra></extra>",
         "legendgroup": "United States",
         "line": {
          "color": "#2CB5AE",
          "dash": "solid"
         },
         "marker": {
          "symbol": "circle"
         },
         "mode": "lines",
         "name": "United States",
         "orientation": "v",
         "showlegend": true,
         "type": "scatter",
         "x": [
          0,
          1,
          2,
          3,
          4
         ],
         "xaxis": "x",
         "y": [
          219.68112252569605,
          44.12267891717884,
          -11.560963581558429,
          -30.32373661860341,
          -34.37887087800565
         ],
         "yaxis": "y"
        },
        {
         "hovertemplate": "article=Europe<br>Step=%{x}<br>Cumulative difference=%{y}<extra></extra>",
         "legendgroup": "Europe",
         "line": {
          "color": "#16A2F3",
          "dash": "solid"
         },
         "marker": {
          "symbol": "circle"
         },
         "mode": "lines",
         "name": "Europe",
         "orientation": "v",
         "showlegend": true,
         "type": "scatter",
         "x": [
          0,
          1,
          2,
          3,
          4
         ],
         "xaxis": "x",
         "y": [
          100.23326174135067,
          15.480840208827669,
          -12.49514602996993,
          -22.998256004015072,
          -26.2978549405958
         ],
         "yaxis": "y"
        },
        {
         "hovertemplate": "article=England<br>Step=%{x}<br>Cumulative difference=%{y}<extra></extra>",
         "legendgroup": "England",
         "line": {
          "color": "#16A2F3",
          "dash": "solid"
         },
         "marker": {
          "symbol": "circle"
         },
         "mode": "lines",
         "name": "England",
         "orientation": "v",
         "showlegend": true,
         "type": "scatter",
         "x": [
          0,
          1,
          2,
          3,
          4
         ],
         "xaxis": "x",
         "y": [
          95.13199600538493,
          19.95114398183921,
          -0.5683983277492815,
          -5.893609422506494,
          -12.185629296389083
         ],
         "yaxis": "y"
        },
        {
         "hovertemplate": "article=United Kingdom<br>Step=%{x}<br>Cumulative difference=%{y}<extra></extra>",
         "legendgroup": "United Kingdom",
         "line": {
          "color": "#2CB5AE",
          "dash": "solid"
         },
         "marker": {
          "symbol": "circle"
         },
         "mode": "lines",
         "name": "United Kingdom",
         "orientation": "v",
         "showlegend": true,
         "type": "scatter",
         "x": [
          0,
          1,
          2,
          3,
          4
         ],
         "xaxis": "x",
         "y": [
          69.58680989198854,
          3.22093662443391,
          -26.219303509745817,
          -33.45327517942063,
          -33.83266657964102
         ],
         "yaxis": "y"
        },
        {
         "hovertemplate": "article=World War II<br>Step=%{x}<br>Cumulative difference=%{y}<extra></extra>",
         "legendgroup": "World War II",
         "line": {
          "color": "#656565",
          "dash": "solid"
         },
         "marker": {
          "symbol": "circle"
         },
         "mode": "lines",
         "name": "World War II",
         "orientation": "v",
         "showlegend": true,
         "type": "scatter",
         "x": [
          0,
          1,
          2,
          3,
          4
         ],
         "xaxis": "x",
         "y": [
          40.74823391902464,
          -2.633210717218417,
          -9.713425731901348,
          -18.38094641848668,
          -20.050754981922033
         ],
         "yaxis": "y"
        },
        {
         "hovertemplate": "article=Earth<br>Step=%{x}<br>Cumulative difference=%{y}<extra></extra>",
         "legendgroup": "Earth",
         "line": {
          "color": "#414141",
          "dash": "solid"
         },
         "marker": {
          "symbol": "circle"
         },
         "mode": "lines",
         "name": "Earth",
         "orientation": "v",
         "showlegend": true,
         "type": "scatter",
         "x": [
          0,
          1,
          2,
          3,
          4
         ],
         "xaxis": "x",
         "y": [
          38.08817256135092,
          13.717229175800917,
          0.7867756139736928,
          1.2451119073048653,
          -5.492577787307998
         ],
         "yaxis": "y"
        },
        {
         "hovertemplate": "article=Africa<br>Step=%{x}<br>Cumulative difference=%{y}<extra></extra>",
         "legendgroup": "Africa",
         "line": {
          "color": "#16A2F3",
          "dash": "solid"
         },
         "marker": {
          "symbol": "circle"
         },
         "mode": "lines",
         "name": "Africa",
         "orientation": "v",
         "showlegend": true,
         "type": "scatter",
         "x": [
          0,
          1,
          2,
          3,
          4
         ],
         "xaxis": "x",
         "y": [
          37.40931092957109,
          15.488733518902267,
          6.302869607385799,
          -1.3435388619435007,
          -3.2811590076446837
         ],
         "yaxis": "y"
        },
        {
         "hovertemplate": "article=Science<br>Step=%{x}<br>Cumulative difference=%{y}<extra></extra>",
         "legendgroup": "Science",
         "line": {
          "color": "#5b5b5b",
          "dash": "solid"
         },
         "marker": {
          "symbol": "circle"
         },
         "mode": "lines",
         "name": "Science",
         "orientation": "v",
         "showlegend": true,
         "type": "scatter",
         "x": [
          0,
          1,
          2,
          3,
          4
         ],
         "xaxis": "x",
         "y": [
          12.015862945143887,
          10.130116301445725,
          3.006128173679601,
          1.0236555129056986,
          -0.5866976646415462
         ],
         "yaxis": "y"
        },
        {
         "hovertemplate": "article=Periodic table<br>Step=%{x}<br>Cumulative difference=%{y}<extra></extra>",
         "legendgroup": "Periodic table",
         "line": {
          "color": "#565656",
          "dash": "solid"
         },
         "marker": {
          "symbol": "circle"
         },
         "mode": "lines",
         "name": "Periodic table",
         "orientation": "v",
         "showlegend": true,
         "type": "scatter",
         "x": [
          0,
          1,
          2,
          3,
          4
         ],
         "xaxis": "x",
         "y": [
          6.708657066616019,
          7.579382087742297,
          8.774638306446064,
          9.651265409861916,
          8.561115991701078
         ],
         "yaxis": "y"
        },
        {
         "hovertemplate": "article=Chemical element<br>Step=%{x}<br>Cumulative difference=%{y}<extra></extra>",
         "legendgroup": "Chemical element",
         "line": {
          "color": "#3d3d3d",
          "dash": "solid"
         },
         "marker": {
          "symbol": "circle"
         },
         "mode": "lines",
         "name": "Chemical element",
         "orientation": "v",
         "showlegend": true,
         "type": "scatter",
         "x": [
          0,
          1,
          2,
          3,
          4
         ],
         "xaxis": "x",
         "y": [
          4.995244252385166,
          2.4421621564740272,
          6.945247840078766,
          6.350769893851497,
          3.1490892389339433
         ],
         "yaxis": "y"
        },
        {
         "hovertemplate": "article=Computer<br>Step=%{x}<br>Cumulative difference=%{y}<extra></extra>",
         "legendgroup": "Computer",
         "line": {
          "color": "#3e3e3e",
          "dash": "solid"
         },
         "marker": {
          "symbol": "circle"
         },
         "mode": "lines",
         "name": "Computer",
         "orientation": "v",
         "showlegend": true,
         "type": "scatter",
         "x": [
          0,
          1,
          2,
          3,
          4
         ],
         "xaxis": "x",
         "y": [
          3.59521592158045,
          6.308844613436861,
          8.920181820041165,
          7.518698647801061,
          3.886958604332587
         ],
         "yaxis": "y"
        },
        {
         "hovertemplate": "article=River<br>Step=%{x}<br>Cumulative difference=%{y}<extra></extra>",
         "legendgroup": "River",
         "line": {
          "color": "#16A2F3",
          "dash": "solid"
         },
         "marker": {
          "symbol": "circle"
         },
         "mode": "lines",
         "name": "River",
         "orientation": "v",
         "showlegend": true,
         "type": "scatter",
         "x": [
          0,
          1,
          2,
          3,
          4
         ],
         "xaxis": "x",
         "y": [
          1.3542772927030955,
          4.116162281920724,
          4.800090193759032,
          1.941802383645574,
          -0.12211656615734223
         ],
         "yaxis": "y"
        },
        {
         "hovertemplate": "article=Music<br>Step=%{x}<br>Cumulative difference=%{y}<extra></extra>",
         "legendgroup": "Music",
         "line": {
          "color": "#535353",
          "dash": "solid"
         },
         "marker": {
          "symbol": "circle"
         },
         "mode": "lines",
         "name": "Music",
         "orientation": "v",
         "showlegend": true,
         "type": "scatter",
         "x": [
          0,
          1,
          2,
          3,
          4
         ],
         "xaxis": "x",
         "y": [
          1.2563931148972856,
          0.5227524288779821,
          2.135227618368768,
          5.0875046814850515,
          2.127245657858373
         ],
         "yaxis": "y"
        },
        {
         "hovertemplate": "article=Viking<br>Step=%{x}<br>Cumulative difference=%{y}<extra></extra>",
         "legendgroup": "Viking",
         "line": {
          "color": "#636363",
          "dash": "solid"
         },
         "marker": {
          "symbol": "circle"
         },
         "mode": "lines",
         "name": "Viking",
         "orientation": "v",
         "showlegend": true,
         "type": "scatter",
         "x": [
          0,
          1,
          2,
          3,
          4
         ],
         "xaxis": "x",
         "y": [
          -0.42825315398026687,
          -2.3097702380263505,
          -1.980169024518743,
          4.961821085233353,
          4.249478402434174
         ],
         "yaxis": "y"
        },
        {
         "hovertemplate": "article=Fruit<br>Step=%{x}<br>Cumulative difference=%{y}<extra></extra>",
         "legendgroup": "Fruit",
         "line": {
          "color": "#454545",
          "dash": "solid"
         },
         "marker": {
          "symbol": "circle"
         },
         "mode": "lines",
         "name": "Fruit",
         "orientation": "v",
         "showlegend": true,
         "type": "scatter",
         "x": [
          0,
          1,
          2,
          3,
          4
         ],
         "xaxis": "x",
         "y": [
          -0.46924710524744956,
          1.799690125387641,
          4.570619947693217,
          4.7544063116395145,
          4.103034180003815
         ],
         "yaxis": "y"
        },
        {
         "hovertemplate": "article=Telephone<br>Step=%{x}<br>Cumulative difference=%{y}<extra></extra>",
         "legendgroup": "Telephone",
         "line": {
          "color": "#5f5f5f",
          "dash": "solid"
         },
         "marker": {
          "symbol": "circle"
         },
         "mode": "lines",
         "name": "Telephone",
         "orientation": "v",
         "showlegend": true,
         "type": "scatter",
         "x": [
          0,
          1,
          2,
          3,
          4
         ],
         "xaxis": "x",
         "y": [
          -0.5733553368165855,
          -0.29195495033885877,
          -0.09238217381877863,
          4.124127795847236,
          4.1722823218664535
         ],
         "yaxis": "y"
        },
        {
         "hovertemplate": "article=Seed<br>Step=%{x}<br>Cumulative difference=%{y}<extra></extra>",
         "legendgroup": "Seed",
         "line": {
          "color": "#5c5c5c",
          "dash": "solid"
         },
         "marker": {
          "symbol": "circle"
         },
         "mode": "lines",
         "name": "Seed",
         "orientation": "v",
         "showlegend": true,
         "type": "scatter",
         "x": [
          0,
          1,
          2,
          3,
          4
         ],
         "xaxis": "x",
         "y": [
          -0.7004678904021857,
          0.9212273965138555,
          0.20078872845867782,
          4.971054852758306,
          4.830644132462794
         ],
         "yaxis": "y"
        },
        {
         "hovertemplate": "article=Bird<br>Step=%{x}<br>Cumulative difference=%{y}<extra></extra>",
         "legendgroup": "Bird",
         "line": {
          "color": "#3a3a3a",
          "dash": "solid"
         },
         "marker": {
          "symbol": "circle"
         },
         "mode": "lines",
         "name": "Bird",
         "orientation": "v",
         "showlegend": true,
         "type": "scatter",
         "x": [
          0,
          1,
          2,
          3,
          4
         ],
         "xaxis": "x",
         "y": [
          -2.531829686598789,
          3.275821467801451,
          2.981102549169354,
          6.444340307519427,
          6.238458895927898
         ],
         "yaxis": "y"
        }
       ],
       "layout": {
        "annotations": [
         {
          "font": {
           "color": "black",
           "size": 12
          },
          "showarrow": false,
          "text": "Random path",
          "x": 1,
          "xanchor": "right",
          "xref": "x domain",
          "y": 0,
          "yanchor": "top",
          "yref": "y"
         }
        ],
        "legend": {
         "title": {
          "text": "article"
         },
         "tracegroupgap": 0
        },
        "shapes": [
         {
          "line": {
           "color": "black",
           "dash": "dash"
          },
          "type": "line",
          "x0": 0,
          "x1": 1,
          "xref": "x domain",
          "y0": 0,
          "y1": 0,
          "yref": "y"
         }
        ],
        "template": {
         "data": {
          "bar": [
           {
            "error_x": {
             "color": "#2a3f5f"
            },
            "error_y": {
             "color": "#2a3f5f"
            },
            "marker": {
             "line": {
              "color": "#E5ECF6",
              "width": 0.5
             },
             "pattern": {
              "fillmode": "overlay",
              "size": 10,
              "solidity": 0.2
             }
            },
            "type": "bar"
           }
          ],
          "barpolar": [
           {
            "marker": {
             "line": {
              "color": "#E5ECF6",
              "width": 0.5
             },
             "pattern": {
              "fillmode": "overlay",
              "size": 10,
              "solidity": 0.2
             }
            },
            "type": "barpolar"
           }
          ],
          "carpet": [
           {
            "aaxis": {
             "endlinecolor": "#2a3f5f",
             "gridcolor": "white",
             "linecolor": "white",
             "minorgridcolor": "white",
             "startlinecolor": "#2a3f5f"
            },
            "baxis": {
             "endlinecolor": "#2a3f5f",
             "gridcolor": "white",
             "linecolor": "white",
             "minorgridcolor": "white",
             "startlinecolor": "#2a3f5f"
            },
            "type": "carpet"
           }
          ],
          "choropleth": [
           {
            "colorbar": {
             "outlinewidth": 0,
             "ticks": ""
            },
            "type": "choropleth"
           }
          ],
          "contour": [
           {
            "colorbar": {
             "outlinewidth": 0,
             "ticks": ""
            },
            "colorscale": [
             [
              0,
              "#0d0887"
             ],
             [
              0.1111111111111111,
              "#46039f"
             ],
             [
              0.2222222222222222,
              "#7201a8"
             ],
             [
              0.3333333333333333,
              "#9c179e"
             ],
             [
              0.4444444444444444,
              "#bd3786"
             ],
             [
              0.5555555555555556,
              "#d8576b"
             ],
             [
              0.6666666666666666,
              "#ed7953"
             ],
             [
              0.7777777777777778,
              "#fb9f3a"
             ],
             [
              0.8888888888888888,
              "#fdca26"
             ],
             [
              1,
              "#f0f921"
             ]
            ],
            "type": "contour"
           }
          ],
          "contourcarpet": [
           {
            "colorbar": {
             "outlinewidth": 0,
             "ticks": ""
            },
            "type": "contourcarpet"
           }
          ],
          "heatmap": [
           {
            "colorbar": {
             "outlinewidth": 0,
             "ticks": ""
            },
            "colorscale": [
             [
              0,
              "#0d0887"
             ],
             [
              0.1111111111111111,
              "#46039f"
             ],
             [
              0.2222222222222222,
              "#7201a8"
             ],
             [
              0.3333333333333333,
              "#9c179e"
             ],
             [
              0.4444444444444444,
              "#bd3786"
             ],
             [
              0.5555555555555556,
              "#d8576b"
             ],
             [
              0.6666666666666666,
              "#ed7953"
             ],
             [
              0.7777777777777778,
              "#fb9f3a"
             ],
             [
              0.8888888888888888,
              "#fdca26"
             ],
             [
              1,
              "#f0f921"
             ]
            ],
            "type": "heatmap"
           }
          ],
          "heatmapgl": [
           {
            "colorbar": {
             "outlinewidth": 0,
             "ticks": ""
            },
            "colorscale": [
             [
              0,
              "#0d0887"
             ],
             [
              0.1111111111111111,
              "#46039f"
             ],
             [
              0.2222222222222222,
              "#7201a8"
             ],
             [
              0.3333333333333333,
              "#9c179e"
             ],
             [
              0.4444444444444444,
              "#bd3786"
             ],
             [
              0.5555555555555556,
              "#d8576b"
             ],
             [
              0.6666666666666666,
              "#ed7953"
             ],
             [
              0.7777777777777778,
              "#fb9f3a"
             ],
             [
              0.8888888888888888,
              "#fdca26"
             ],
             [
              1,
              "#f0f921"
             ]
            ],
            "type": "heatmapgl"
           }
          ],
          "histogram": [
           {
            "marker": {
             "pattern": {
              "fillmode": "overlay",
              "size": 10,
              "solidity": 0.2
             }
            },
            "type": "histogram"
           }
          ],
          "histogram2d": [
           {
            "colorbar": {
             "outlinewidth": 0,
             "ticks": ""
            },
            "colorscale": [
             [
              0,
              "#0d0887"
             ],
             [
              0.1111111111111111,
              "#46039f"
             ],
             [
              0.2222222222222222,
              "#7201a8"
             ],
             [
              0.3333333333333333,
              "#9c179e"
             ],
             [
              0.4444444444444444,
              "#bd3786"
             ],
             [
              0.5555555555555556,
              "#d8576b"
             ],
             [
              0.6666666666666666,
              "#ed7953"
             ],
             [
              0.7777777777777778,
              "#fb9f3a"
             ],
             [
              0.8888888888888888,
              "#fdca26"
             ],
             [
              1,
              "#f0f921"
             ]
            ],
            "type": "histogram2d"
           }
          ],
          "histogram2dcontour": [
           {
            "colorbar": {
             "outlinewidth": 0,
             "ticks": ""
            },
            "colorscale": [
             [
              0,
              "#0d0887"
             ],
             [
              0.1111111111111111,
              "#46039f"
             ],
             [
              0.2222222222222222,
              "#7201a8"
             ],
             [
              0.3333333333333333,
              "#9c179e"
             ],
             [
              0.4444444444444444,
              "#bd3786"
             ],
             [
              0.5555555555555556,
              "#d8576b"
             ],
             [
              0.6666666666666666,
              "#ed7953"
             ],
             [
              0.7777777777777778,
              "#fb9f3a"
             ],
             [
              0.8888888888888888,
              "#fdca26"
             ],
             [
              1,
              "#f0f921"
             ]
            ],
            "type": "histogram2dcontour"
           }
          ],
          "mesh3d": [
           {
            "colorbar": {
             "outlinewidth": 0,
             "ticks": ""
            },
            "type": "mesh3d"
           }
          ],
          "parcoords": [
           {
            "line": {
             "colorbar": {
              "outlinewidth": 0,
              "ticks": ""
             }
            },
            "type": "parcoords"
           }
          ],
          "pie": [
           {
            "automargin": true,
            "type": "pie"
           }
          ],
          "scatter": [
           {
            "fillpattern": {
             "fillmode": "overlay",
             "size": 10,
             "solidity": 0.2
            },
            "type": "scatter"
           }
          ],
          "scatter3d": [
           {
            "line": {
             "colorbar": {
              "outlinewidth": 0,
              "ticks": ""
             }
            },
            "marker": {
             "colorbar": {
              "outlinewidth": 0,
              "ticks": ""
             }
            },
            "type": "scatter3d"
           }
          ],
          "scattercarpet": [
           {
            "marker": {
             "colorbar": {
              "outlinewidth": 0,
              "ticks": ""
             }
            },
            "type": "scattercarpet"
           }
          ],
          "scattergeo": [
           {
            "marker": {
             "colorbar": {
              "outlinewidth": 0,
              "ticks": ""
             }
            },
            "type": "scattergeo"
           }
          ],
          "scattergl": [
           {
            "marker": {
             "colorbar": {
              "outlinewidth": 0,
              "ticks": ""
             }
            },
            "type": "scattergl"
           }
          ],
          "scattermapbox": [
           {
            "marker": {
             "colorbar": {
              "outlinewidth": 0,
              "ticks": ""
             }
            },
            "type": "scattermapbox"
           }
          ],
          "scatterpolar": [
           {
            "marker": {
             "colorbar": {
              "outlinewidth": 0,
              "ticks": ""
             }
            },
            "type": "scatterpolar"
           }
          ],
          "scatterpolargl": [
           {
            "marker": {
             "colorbar": {
              "outlinewidth": 0,
              "ticks": ""
             }
            },
            "type": "scatterpolargl"
           }
          ],
          "scatterternary": [
           {
            "marker": {
             "colorbar": {
              "outlinewidth": 0,
              "ticks": ""
             }
            },
            "type": "scatterternary"
           }
          ],
          "surface": [
           {
            "colorbar": {
             "outlinewidth": 0,
             "ticks": ""
            },
            "colorscale": [
             [
              0,
              "#0d0887"
             ],
             [
              0.1111111111111111,
              "#46039f"
             ],
             [
              0.2222222222222222,
              "#7201a8"
             ],
             [
              0.3333333333333333,
              "#9c179e"
             ],
             [
              0.4444444444444444,
              "#bd3786"
             ],
             [
              0.5555555555555556,
              "#d8576b"
             ],
             [
              0.6666666666666666,
              "#ed7953"
             ],
             [
              0.7777777777777778,
              "#fb9f3a"
             ],
             [
              0.8888888888888888,
              "#fdca26"
             ],
             [
              1,
              "#f0f921"
             ]
            ],
            "type": "surface"
           }
          ],
          "table": [
           {
            "cells": {
             "fill": {
              "color": "#EBF0F8"
             },
             "line": {
              "color": "white"
             }
            },
            "header": {
             "fill": {
              "color": "#C8D4E3"
             },
             "line": {
              "color": "white"
             }
            },
            "type": "table"
           }
          ]
         },
         "layout": {
          "annotationdefaults": {
           "arrowcolor": "#2a3f5f",
           "arrowhead": 0,
           "arrowwidth": 1
          },
          "autotypenumbers": "strict",
          "coloraxis": {
           "colorbar": {
            "outlinewidth": 0,
            "ticks": ""
           }
          },
          "colorscale": {
           "diverging": [
            [
             0,
             "#8e0152"
            ],
            [
             0.1,
             "#c51b7d"
            ],
            [
             0.2,
             "#de77ae"
            ],
            [
             0.3,
             "#f1b6da"
            ],
            [
             0.4,
             "#fde0ef"
            ],
            [
             0.5,
             "#f7f7f7"
            ],
            [
             0.6,
             "#e6f5d0"
            ],
            [
             0.7,
             "#b8e186"
            ],
            [
             0.8,
             "#7fbc41"
            ],
            [
             0.9,
             "#4d9221"
            ],
            [
             1,
             "#276419"
            ]
           ],
           "sequential": [
            [
             0,
             "#0d0887"
            ],
            [
             0.1111111111111111,
             "#46039f"
            ],
            [
             0.2222222222222222,
             "#7201a8"
            ],
            [
             0.3333333333333333,
             "#9c179e"
            ],
            [
             0.4444444444444444,
             "#bd3786"
            ],
            [
             0.5555555555555556,
             "#d8576b"
            ],
            [
             0.6666666666666666,
             "#ed7953"
            ],
            [
             0.7777777777777778,
             "#fb9f3a"
            ],
            [
             0.8888888888888888,
             "#fdca26"
            ],
            [
             1,
             "#f0f921"
            ]
           ],
           "sequentialminus": [
            [
             0,
             "#0d0887"
            ],
            [
             0.1111111111111111,
             "#46039f"
            ],
            [
             0.2222222222222222,
             "#7201a8"
            ],
            [
             0.3333333333333333,
             "#9c179e"
            ],
            [
             0.4444444444444444,
             "#bd3786"
            ],
            [
             0.5555555555555556,
             "#d8576b"
            ],
            [
             0.6666666666666666,
             "#ed7953"
            ],
            [
             0.7777777777777778,
             "#fb9f3a"
            ],
            [
             0.8888888888888888,
             "#fdca26"
            ],
            [
             1,
             "#f0f921"
            ]
           ]
          },
          "colorway": [
           "#636efa",
           "#EF553B",
           "#00cc96",
           "#ab63fa",
           "#FFA15A",
           "#19d3f3",
           "#FF6692",
           "#B6E880",
           "#FF97FF",
           "#FECB52"
          ],
          "font": {
           "color": "#2a3f5f"
          },
          "geo": {
           "bgcolor": "white",
           "lakecolor": "white",
           "landcolor": "#E5ECF6",
           "showlakes": true,
           "showland": true,
           "subunitcolor": "white"
          },
          "hoverlabel": {
           "align": "left"
          },
          "hovermode": "closest",
          "mapbox": {
           "style": "light"
          },
          "paper_bgcolor": "white",
          "plot_bgcolor": "#E5ECF6",
          "polar": {
           "angularaxis": {
            "gridcolor": "white",
            "linecolor": "white",
            "ticks": ""
           },
           "bgcolor": "#E5ECF6",
           "radialaxis": {
            "gridcolor": "white",
            "linecolor": "white",
            "ticks": ""
           }
          },
          "scene": {
           "xaxis": {
            "backgroundcolor": "#E5ECF6",
            "gridcolor": "white",
            "gridwidth": 2,
            "linecolor": "white",
            "showbackground": true,
            "ticks": "",
            "zerolinecolor": "white"
           },
           "yaxis": {
            "backgroundcolor": "#E5ECF6",
            "gridcolor": "white",
            "gridwidth": 2,
            "linecolor": "white",
            "showbackground": true,
            "ticks": "",
            "zerolinecolor": "white"
           },
           "zaxis": {
            "backgroundcolor": "#E5ECF6",
            "gridcolor": "white",
            "gridwidth": 2,
            "linecolor": "white",
            "showbackground": true,
            "ticks": "",
            "zerolinecolor": "white"
           }
          },
          "shapedefaults": {
           "line": {
            "color": "#2a3f5f"
           }
          },
          "ternary": {
           "aaxis": {
            "gridcolor": "white",
            "linecolor": "white",
            "ticks": ""
           },
           "baxis": {
            "gridcolor": "white",
            "linecolor": "white",
            "ticks": ""
           },
           "bgcolor": "#E5ECF6",
           "caxis": {
            "gridcolor": "white",
            "linecolor": "white",
            "ticks": ""
           }
          },
          "title": {
           "x": 0.05
          },
          "xaxis": {
           "automargin": true,
           "gridcolor": "white",
           "linecolor": "white",
           "ticks": "",
           "title": {
            "standoff": 15
           },
           "zerolinecolor": "white",
           "zerolinewidth": 2
          },
          "yaxis": {
           "automargin": true,
           "gridcolor": "white",
           "linecolor": "white",
           "ticks": "",
           "title": {
            "standoff": 15
           },
           "zerolinecolor": "white",
           "zerolinewidth": 2
          }
         }
        },
        "title": {
         "text": "Stepwise deviation from random path, per article and for articles with higest deviation"
        },
        "xaxis": {
         "anchor": "y",
         "domain": [
          0,
          1
         ],
         "title": {
          "text": "Step"
         }
        },
        "yaxis": {
         "anchor": "x",
         "domain": [
          0,
          1
         ],
         "title": {
          "text": "Cumulative difference"
         }
        }
       }
      }
     },
     "metadata": {},
     "output_type": "display_data"
    }
   ],
   "source": [
    "# df of differences of all articles at 5 different steps\n",
    "mean_diff_steps = pd.DataFrame(mean_diff_step)\n",
    "\n",
    "# Only keep columns taht are articles to investigate\n",
    "mean_diff_steps_main = mean_diff_steps.drop([col for col in mean_diff_steps.columns if col not in articles_to_investigate], axis=1)\n",
    "mean_diff_steps_main_T = mean_diff_steps_main.transpose().reset_index()\n",
    "\n",
    "diff_steps_main = mean_diff_steps_main_T.melt(id_vars='article',\n",
    "                                              value_vars=[0,1,2,3,4],\n",
    "                                              var_name='Step',\n",
    "                                              value_name='Cumulative difference')\n",
    "\n",
    "fig = px.line(data_frame=diff_steps_main,\n",
    "              x='Step',\n",
    "              y='Cumulative difference',\n",
    "              color='article',\n",
    "              title='Stepwise deviation from random path, per article and for articles with higest deviation',\n",
    "              color_discrete_map=palette_articles_dict\n",
    "              )\n",
    "fig.add_hline(\n",
    "    y=0,  \n",
    "    line=dict(color='black', dash='dash' ),  \n",
    "    annotation_text=\"Random path\",  \n",
    "    annotation_position=\"bottom right\",  \n",
    "    annotation_font=dict(size=12, color=\"black\")  \n",
    ")\n",
    "\n",
    "fig.show()"
   ]
  },
  {
   "cell_type": "markdown",
   "metadata": {},
   "source": [
    "### What about the evolution of categories ?"
   ]
  },
  {
   "cell_type": "code",
   "execution_count": 16,
   "metadata": {},
   "outputs": [],
   "source": [
    "#get level 1 categories for each articles\n",
    "mean_diff_steps = pd.DataFrame(mean_diff_step)\n",
    "mean_diff_steps_T = mean_diff_steps.transpose().reset_index()\n",
    "mean_diff_steps_cat = mean_diff_steps_T.merge(right=df_article[['category', 'article']], on='article', how='left')\n",
    "\n",
    "#sum probabilities of articles of the same category \n",
    "mean_diff_step_cat = mean_diff_steps_cat.groupby('category').agg('sum').reset_index().drop(columns='article')"
   ]
  },
  {
   "cell_type": "code",
   "execution_count": 34,
   "metadata": {},
   "outputs": [
    {
     "data": {
      "application/vnd.plotly.v1+json": {
       "config": {
        "plotlyServerURL": "https://plot.ly"
       },
       "data": [
        {
         "hovertemplate": "category=Art<br>Step=%{x}<br>Cumulative difference=%{y}<extra></extra>",
         "legendgroup": "Art",
         "line": {
          "color": "#333333",
          "dash": "solid"
         },
         "marker": {
          "symbol": "circle"
         },
         "mode": "lines",
         "name": "Art",
         "orientation": "v",
         "showlegend": true,
         "type": "scatter",
         "x": [
          0,
          1,
          2,
          3,
          4
         ],
         "xaxis": "x",
         "y": [
          -7.202651692897475,
          -6.88686465192291,
          -3.8430042983527146,
          -1.320145061956193,
          -3.7284343585318207
         ],
         "yaxis": "y"
        },
        {
         "hovertemplate": "category=Business Studies<br>Step=%{x}<br>Cumulative difference=%{y}<extra></extra>",
         "legendgroup": "Business Studies",
         "line": {
          "color": "#373737",
          "dash": "solid"
         },
         "marker": {
          "symbol": "circle"
         },
         "mode": "lines",
         "name": "Business Studies",
         "orientation": "v",
         "showlegend": true,
         "type": "scatter",
         "x": [
          0,
          1,
          2,
          3,
          4
         ],
         "xaxis": "x",
         "y": [
          -21.261445616384584,
          -62.78143189755844,
          -74.35315292741126,
          -74.70151353029968,
          -74.17346506043985
         ],
         "yaxis": "y"
        },
        {
         "hovertemplate": "category=Citizenship<br>Step=%{x}<br>Cumulative difference=%{y}<extra></extra>",
         "legendgroup": "Citizenship",
         "line": {
          "color": "#3b3b3b",
          "dash": "solid"
         },
         "marker": {
          "symbol": "circle"
         },
         "mode": "lines",
         "name": "Citizenship",
         "orientation": "v",
         "showlegend": true,
         "type": "scatter",
         "x": [
          0,
          1,
          2,
          3,
          4
         ],
         "xaxis": "x",
         "y": [
          5.996657240849981,
          -116.75170410508973,
          -150.83195312736385,
          -155.2964552130602,
          -165.86764161004277
         ],
         "yaxis": "y"
        },
        {
         "hovertemplate": "category=Countries<br>Step=%{x}<br>Cumulative difference=%{y}<extra></extra>",
         "legendgroup": "Countries",
         "line": {
          "color": "#2CB5AE",
          "dash": "solid"
         },
         "marker": {
          "symbol": "circle"
         },
         "mode": "lines",
         "name": "Countries",
         "orientation": "v",
         "showlegend": true,
         "type": "scatter",
         "x": [
          0,
          1,
          2,
          3,
          4
         ],
         "xaxis": "x",
         "y": [
          194.5746816302053,
          -550.7138932011857,
          -767.8443853933674,
          -866.6226037611644,
          -916.2372580184821
         ],
         "yaxis": "y"
        },
        {
         "hovertemplate": "category=Design and Technology<br>Step=%{x}<br>Cumulative difference=%{y}<extra></extra>",
         "legendgroup": "Design and Technology",
         "line": {
          "color": "#3f3f3f",
          "dash": "solid"
         },
         "marker": {
          "symbol": "circle"
         },
         "mode": "lines",
         "name": "Design and Technology",
         "orientation": "v",
         "showlegend": true,
         "type": "scatter",
         "x": [
          0,
          1,
          2,
          3,
          4
         ],
         "xaxis": "x",
         "y": [
          -49.92880233006735,
          -46.34470490482371,
          -21.90485432533965,
          5.621813629013148,
          6.064167741726466
         ],
         "yaxis": "y"
        },
        {
         "hovertemplate": "category=Everyday life<br>Step=%{x}<br>Cumulative difference=%{y}<extra></extra>",
         "legendgroup": "Everyday life",
         "line": {
          "color": "#434343",
          "dash": "solid"
         },
         "marker": {
          "symbol": "circle"
         },
         "mode": "lines",
         "name": "Everyday life",
         "orientation": "v",
         "showlegend": true,
         "type": "scatter",
         "x": [
          0,
          1,
          2,
          3,
          4
         ],
         "xaxis": "x",
         "y": [
          -68.1612910529979,
          -67.47455000019102,
          -22.899188485713694,
          -4.22997762457407,
          2.640289587538616
         ],
         "yaxis": "y"
        },
        {
         "hovertemplate": "category=Geography<br>Step=%{x}<br>Cumulative difference=%{y}<extra></extra>",
         "legendgroup": "Geography",
         "line": {
          "color": "#16A2F3",
          "dash": "solid"
         },
         "marker": {
          "symbol": "circle"
         },
         "mode": "lines",
         "name": "Geography",
         "orientation": "v",
         "showlegend": true,
         "type": "scatter",
         "x": [
          0,
          1,
          2,
          3,
          4
         ],
         "xaxis": "x",
         "y": [
          72.93386069861015,
          -377.7566601253792,
          -470.25368661733825,
          -478.04591533844433,
          -514.6489536119832
         ],
         "yaxis": "y"
        },
        {
         "hovertemplate": "category=History<br>Step=%{x}<br>Cumulative difference=%{y}<extra></extra>",
         "legendgroup": "History",
         "line": {
          "color": "#474747",
          "dash": "solid"
         },
         "marker": {
          "symbol": "circle"
         },
         "mode": "lines",
         "name": "History",
         "orientation": "v",
         "showlegend": true,
         "type": "scatter",
         "x": [
          0,
          1,
          2,
          3,
          4
         ],
         "xaxis": "x",
         "y": [
          -21.902407203355654,
          -214.5683890354773,
          -236.0512231506066,
          -246.41814509121528,
          -250.0081733247555
         ],
         "yaxis": "y"
        },
        {
         "hovertemplate": "category=IT<br>Step=%{x}<br>Cumulative difference=%{y}<extra></extra>",
         "legendgroup": "IT",
         "line": {
          "color": "#4b4b4b",
          "dash": "solid"
         },
         "marker": {
          "symbol": "circle"
         },
         "mode": "lines",
         "name": "IT",
         "orientation": "v",
         "showlegend": true,
         "type": "scatter",
         "x": [
          0,
          1,
          2,
          3,
          4
         ],
         "xaxis": "x",
         "y": [
          -29.42844117533776,
          -18.800097409108922,
          -9.240565788176365,
          6.101427627393544,
          4.185862245534544
         ],
         "yaxis": "y"
        },
        {
         "hovertemplate": "category=Language and literature<br>Step=%{x}<br>Cumulative difference=%{y}<extra></extra>",
         "legendgroup": "Language and literature",
         "line": {
          "color": "#4e4e4e",
          "dash": "solid"
         },
         "marker": {
          "symbol": "circle"
         },
         "mode": "lines",
         "name": "Language and literature",
         "orientation": "v",
         "showlegend": true,
         "type": "scatter",
         "x": [
          0,
          1,
          2,
          3,
          4
         ],
         "xaxis": "x",
         "y": [
          -25.05951292476127,
          -105.97995781957742,
          -143.7991563649753,
          -146.9768705048977,
          -168.7421033403662
         ],
         "yaxis": "y"
        },
        {
         "hovertemplate": "category=Mathematics<br>Step=%{x}<br>Cumulative difference=%{y}<extra></extra>",
         "legendgroup": "Mathematics",
         "line": {
          "color": "#525252",
          "dash": "solid"
         },
         "marker": {
          "symbol": "circle"
         },
         "mode": "lines",
         "name": "Mathematics",
         "orientation": "v",
         "showlegend": true,
         "type": "scatter",
         "x": [
          0,
          1,
          2,
          3,
          4
         ],
         "xaxis": "x",
         "y": [
          -10.439164745559594,
          -9.612971939775614,
          -4.365526533816946,
          -2.7655782913522824,
          0.7217152183035778
         ],
         "yaxis": "y"
        },
        {
         "hovertemplate": "category=Music<br>Step=%{x}<br>Cumulative difference=%{y}<extra></extra>",
         "legendgroup": "Music",
         "line": {
          "color": "#565656",
          "dash": "solid"
         },
         "marker": {
          "symbol": "circle"
         },
         "mode": "lines",
         "name": "Music",
         "orientation": "v",
         "showlegend": true,
         "type": "scatter",
         "x": [
          0,
          1,
          2,
          3,
          4
         ],
         "xaxis": "x",
         "y": [
          -25.68698424207774,
          -13.093232899467406,
          5.001161906309861,
          25.594327511583067,
          17.591763645486665
         ],
         "yaxis": "y"
        },
        {
         "hovertemplate": "category=People<br>Step=%{x}<br>Cumulative difference=%{y}<extra></extra>",
         "legendgroup": "People",
         "line": {
          "color": "#5a5a5a",
          "dash": "solid"
         },
         "marker": {
          "symbol": "circle"
         },
         "mode": "lines",
         "name": "People",
         "orientation": "v",
         "showlegend": true,
         "type": "scatter",
         "x": [
          0,
          1,
          2,
          3,
          4
         ],
         "xaxis": "x",
         "y": [
          -165.30487000934954,
          -193.31764316275704,
          -175.68191695145313,
          -138.2568413510075,
          -146.24789899128547
         ],
         "yaxis": "y"
        },
        {
         "hovertemplate": "category=Religion<br>Step=%{x}<br>Cumulative difference=%{y}<extra></extra>",
         "legendgroup": "Religion",
         "line": {
          "color": "#5e5e5e",
          "dash": "solid"
         },
         "marker": {
          "symbol": "circle"
         },
         "mode": "lines",
         "name": "Religion",
         "orientation": "v",
         "showlegend": true,
         "type": "scatter",
         "x": [
          0,
          1,
          2,
          3,
          4
         ],
         "xaxis": "x",
         "y": [
          -22.883989420105646,
          -78.38890786737296,
          -95.15032939943617,
          -100.65920273849589,
          -108.67712693890975
         ],
         "yaxis": "y"
        },
        {
         "hovertemplate": "category=Science<br>Step=%{x}<br>Cumulative difference=%{y}<extra></extra>",
         "legendgroup": "Science",
         "line": {
          "color": "#626262",
          "dash": "solid"
         },
         "marker": {
          "symbol": "circle"
         },
         "mode": "lines",
         "name": "Science",
         "orientation": "v",
         "showlegend": true,
         "type": "scatter",
         "x": [
          0,
          1,
          2,
          3,
          4
         ],
         "xaxis": "x",
         "y": [
          -271.9892925283223,
          -333.4530829200538,
          -277.06662133731214,
          -220.7063197355063,
          -183.98777618444407
         ],
         "yaxis": "y"
        }
       ],
       "layout": {
        "annotations": [
         {
          "font": {
           "color": "black",
           "size": 12
          },
          "showarrow": false,
          "text": "Random path",
          "x": 1,
          "xanchor": "right",
          "xref": "x domain",
          "y": 0,
          "yanchor": "bottom",
          "yref": "y"
         }
        ],
        "legend": {
         "title": {
          "text": "category"
         },
         "tracegroupgap": 0
        },
        "shapes": [
         {
          "line": {
           "color": "black",
           "dash": "dash"
          },
          "type": "line",
          "x0": 0,
          "x1": 1,
          "xref": "x domain",
          "y0": 0,
          "y1": 0,
          "yref": "y"
         }
        ],
        "template": {
         "data": {
          "bar": [
           {
            "error_x": {
             "color": "#2a3f5f"
            },
            "error_y": {
             "color": "#2a3f5f"
            },
            "marker": {
             "line": {
              "color": "#E5ECF6",
              "width": 0.5
             },
             "pattern": {
              "fillmode": "overlay",
              "size": 10,
              "solidity": 0.2
             }
            },
            "type": "bar"
           }
          ],
          "barpolar": [
           {
            "marker": {
             "line": {
              "color": "#E5ECF6",
              "width": 0.5
             },
             "pattern": {
              "fillmode": "overlay",
              "size": 10,
              "solidity": 0.2
             }
            },
            "type": "barpolar"
           }
          ],
          "carpet": [
           {
            "aaxis": {
             "endlinecolor": "#2a3f5f",
             "gridcolor": "white",
             "linecolor": "white",
             "minorgridcolor": "white",
             "startlinecolor": "#2a3f5f"
            },
            "baxis": {
             "endlinecolor": "#2a3f5f",
             "gridcolor": "white",
             "linecolor": "white",
             "minorgridcolor": "white",
             "startlinecolor": "#2a3f5f"
            },
            "type": "carpet"
           }
          ],
          "choropleth": [
           {
            "colorbar": {
             "outlinewidth": 0,
             "ticks": ""
            },
            "type": "choropleth"
           }
          ],
          "contour": [
           {
            "colorbar": {
             "outlinewidth": 0,
             "ticks": ""
            },
            "colorscale": [
             [
              0,
              "#0d0887"
             ],
             [
              0.1111111111111111,
              "#46039f"
             ],
             [
              0.2222222222222222,
              "#7201a8"
             ],
             [
              0.3333333333333333,
              "#9c179e"
             ],
             [
              0.4444444444444444,
              "#bd3786"
             ],
             [
              0.5555555555555556,
              "#d8576b"
             ],
             [
              0.6666666666666666,
              "#ed7953"
             ],
             [
              0.7777777777777778,
              "#fb9f3a"
             ],
             [
              0.8888888888888888,
              "#fdca26"
             ],
             [
              1,
              "#f0f921"
             ]
            ],
            "type": "contour"
           }
          ],
          "contourcarpet": [
           {
            "colorbar": {
             "outlinewidth": 0,
             "ticks": ""
            },
            "type": "contourcarpet"
           }
          ],
          "heatmap": [
           {
            "colorbar": {
             "outlinewidth": 0,
             "ticks": ""
            },
            "colorscale": [
             [
              0,
              "#0d0887"
             ],
             [
              0.1111111111111111,
              "#46039f"
             ],
             [
              0.2222222222222222,
              "#7201a8"
             ],
             [
              0.3333333333333333,
              "#9c179e"
             ],
             [
              0.4444444444444444,
              "#bd3786"
             ],
             [
              0.5555555555555556,
              "#d8576b"
             ],
             [
              0.6666666666666666,
              "#ed7953"
             ],
             [
              0.7777777777777778,
              "#fb9f3a"
             ],
             [
              0.8888888888888888,
              "#fdca26"
             ],
             [
              1,
              "#f0f921"
             ]
            ],
            "type": "heatmap"
           }
          ],
          "heatmapgl": [
           {
            "colorbar": {
             "outlinewidth": 0,
             "ticks": ""
            },
            "colorscale": [
             [
              0,
              "#0d0887"
             ],
             [
              0.1111111111111111,
              "#46039f"
             ],
             [
              0.2222222222222222,
              "#7201a8"
             ],
             [
              0.3333333333333333,
              "#9c179e"
             ],
             [
              0.4444444444444444,
              "#bd3786"
             ],
             [
              0.5555555555555556,
              "#d8576b"
             ],
             [
              0.6666666666666666,
              "#ed7953"
             ],
             [
              0.7777777777777778,
              "#fb9f3a"
             ],
             [
              0.8888888888888888,
              "#fdca26"
             ],
             [
              1,
              "#f0f921"
             ]
            ],
            "type": "heatmapgl"
           }
          ],
          "histogram": [
           {
            "marker": {
             "pattern": {
              "fillmode": "overlay",
              "size": 10,
              "solidity": 0.2
             }
            },
            "type": "histogram"
           }
          ],
          "histogram2d": [
           {
            "colorbar": {
             "outlinewidth": 0,
             "ticks": ""
            },
            "colorscale": [
             [
              0,
              "#0d0887"
             ],
             [
              0.1111111111111111,
              "#46039f"
             ],
             [
              0.2222222222222222,
              "#7201a8"
             ],
             [
              0.3333333333333333,
              "#9c179e"
             ],
             [
              0.4444444444444444,
              "#bd3786"
             ],
             [
              0.5555555555555556,
              "#d8576b"
             ],
             [
              0.6666666666666666,
              "#ed7953"
             ],
             [
              0.7777777777777778,
              "#fb9f3a"
             ],
             [
              0.8888888888888888,
              "#fdca26"
             ],
             [
              1,
              "#f0f921"
             ]
            ],
            "type": "histogram2d"
           }
          ],
          "histogram2dcontour": [
           {
            "colorbar": {
             "outlinewidth": 0,
             "ticks": ""
            },
            "colorscale": [
             [
              0,
              "#0d0887"
             ],
             [
              0.1111111111111111,
              "#46039f"
             ],
             [
              0.2222222222222222,
              "#7201a8"
             ],
             [
              0.3333333333333333,
              "#9c179e"
             ],
             [
              0.4444444444444444,
              "#bd3786"
             ],
             [
              0.5555555555555556,
              "#d8576b"
             ],
             [
              0.6666666666666666,
              "#ed7953"
             ],
             [
              0.7777777777777778,
              "#fb9f3a"
             ],
             [
              0.8888888888888888,
              "#fdca26"
             ],
             [
              1,
              "#f0f921"
             ]
            ],
            "type": "histogram2dcontour"
           }
          ],
          "mesh3d": [
           {
            "colorbar": {
             "outlinewidth": 0,
             "ticks": ""
            },
            "type": "mesh3d"
           }
          ],
          "parcoords": [
           {
            "line": {
             "colorbar": {
              "outlinewidth": 0,
              "ticks": ""
             }
            },
            "type": "parcoords"
           }
          ],
          "pie": [
           {
            "automargin": true,
            "type": "pie"
           }
          ],
          "scatter": [
           {
            "fillpattern": {
             "fillmode": "overlay",
             "size": 10,
             "solidity": 0.2
            },
            "type": "scatter"
           }
          ],
          "scatter3d": [
           {
            "line": {
             "colorbar": {
              "outlinewidth": 0,
              "ticks": ""
             }
            },
            "marker": {
             "colorbar": {
              "outlinewidth": 0,
              "ticks": ""
             }
            },
            "type": "scatter3d"
           }
          ],
          "scattercarpet": [
           {
            "marker": {
             "colorbar": {
              "outlinewidth": 0,
              "ticks": ""
             }
            },
            "type": "scattercarpet"
           }
          ],
          "scattergeo": [
           {
            "marker": {
             "colorbar": {
              "outlinewidth": 0,
              "ticks": ""
             }
            },
            "type": "scattergeo"
           }
          ],
          "scattergl": [
           {
            "marker": {
             "colorbar": {
              "outlinewidth": 0,
              "ticks": ""
             }
            },
            "type": "scattergl"
           }
          ],
          "scattermapbox": [
           {
            "marker": {
             "colorbar": {
              "outlinewidth": 0,
              "ticks": ""
             }
            },
            "type": "scattermapbox"
           }
          ],
          "scatterpolar": [
           {
            "marker": {
             "colorbar": {
              "outlinewidth": 0,
              "ticks": ""
             }
            },
            "type": "scatterpolar"
           }
          ],
          "scatterpolargl": [
           {
            "marker": {
             "colorbar": {
              "outlinewidth": 0,
              "ticks": ""
             }
            },
            "type": "scatterpolargl"
           }
          ],
          "scatterternary": [
           {
            "marker": {
             "colorbar": {
              "outlinewidth": 0,
              "ticks": ""
             }
            },
            "type": "scatterternary"
           }
          ],
          "surface": [
           {
            "colorbar": {
             "outlinewidth": 0,
             "ticks": ""
            },
            "colorscale": [
             [
              0,
              "#0d0887"
             ],
             [
              0.1111111111111111,
              "#46039f"
             ],
             [
              0.2222222222222222,
              "#7201a8"
             ],
             [
              0.3333333333333333,
              "#9c179e"
             ],
             [
              0.4444444444444444,
              "#bd3786"
             ],
             [
              0.5555555555555556,
              "#d8576b"
             ],
             [
              0.6666666666666666,
              "#ed7953"
             ],
             [
              0.7777777777777778,
              "#fb9f3a"
             ],
             [
              0.8888888888888888,
              "#fdca26"
             ],
             [
              1,
              "#f0f921"
             ]
            ],
            "type": "surface"
           }
          ],
          "table": [
           {
            "cells": {
             "fill": {
              "color": "#EBF0F8"
             },
             "line": {
              "color": "white"
             }
            },
            "header": {
             "fill": {
              "color": "#C8D4E3"
             },
             "line": {
              "color": "white"
             }
            },
            "type": "table"
           }
          ]
         },
         "layout": {
          "annotationdefaults": {
           "arrowcolor": "#2a3f5f",
           "arrowhead": 0,
           "arrowwidth": 1
          },
          "autotypenumbers": "strict",
          "coloraxis": {
           "colorbar": {
            "outlinewidth": 0,
            "ticks": ""
           }
          },
          "colorscale": {
           "diverging": [
            [
             0,
             "#8e0152"
            ],
            [
             0.1,
             "#c51b7d"
            ],
            [
             0.2,
             "#de77ae"
            ],
            [
             0.3,
             "#f1b6da"
            ],
            [
             0.4,
             "#fde0ef"
            ],
            [
             0.5,
             "#f7f7f7"
            ],
            [
             0.6,
             "#e6f5d0"
            ],
            [
             0.7,
             "#b8e186"
            ],
            [
             0.8,
             "#7fbc41"
            ],
            [
             0.9,
             "#4d9221"
            ],
            [
             1,
             "#276419"
            ]
           ],
           "sequential": [
            [
             0,
             "#0d0887"
            ],
            [
             0.1111111111111111,
             "#46039f"
            ],
            [
             0.2222222222222222,
             "#7201a8"
            ],
            [
             0.3333333333333333,
             "#9c179e"
            ],
            [
             0.4444444444444444,
             "#bd3786"
            ],
            [
             0.5555555555555556,
             "#d8576b"
            ],
            [
             0.6666666666666666,
             "#ed7953"
            ],
            [
             0.7777777777777778,
             "#fb9f3a"
            ],
            [
             0.8888888888888888,
             "#fdca26"
            ],
            [
             1,
             "#f0f921"
            ]
           ],
           "sequentialminus": [
            [
             0,
             "#0d0887"
            ],
            [
             0.1111111111111111,
             "#46039f"
            ],
            [
             0.2222222222222222,
             "#7201a8"
            ],
            [
             0.3333333333333333,
             "#9c179e"
            ],
            [
             0.4444444444444444,
             "#bd3786"
            ],
            [
             0.5555555555555556,
             "#d8576b"
            ],
            [
             0.6666666666666666,
             "#ed7953"
            ],
            [
             0.7777777777777778,
             "#fb9f3a"
            ],
            [
             0.8888888888888888,
             "#fdca26"
            ],
            [
             1,
             "#f0f921"
            ]
           ]
          },
          "colorway": [
           "#636efa",
           "#EF553B",
           "#00cc96",
           "#ab63fa",
           "#FFA15A",
           "#19d3f3",
           "#FF6692",
           "#B6E880",
           "#FF97FF",
           "#FECB52"
          ],
          "font": {
           "color": "#2a3f5f"
          },
          "geo": {
           "bgcolor": "white",
           "lakecolor": "white",
           "landcolor": "#E5ECF6",
           "showlakes": true,
           "showland": true,
           "subunitcolor": "white"
          },
          "hoverlabel": {
           "align": "left"
          },
          "hovermode": "closest",
          "mapbox": {
           "style": "light"
          },
          "paper_bgcolor": "white",
          "plot_bgcolor": "#E5ECF6",
          "polar": {
           "angularaxis": {
            "gridcolor": "white",
            "linecolor": "white",
            "ticks": ""
           },
           "bgcolor": "#E5ECF6",
           "radialaxis": {
            "gridcolor": "white",
            "linecolor": "white",
            "ticks": ""
           }
          },
          "scene": {
           "xaxis": {
            "backgroundcolor": "#E5ECF6",
            "gridcolor": "white",
            "gridwidth": 2,
            "linecolor": "white",
            "showbackground": true,
            "ticks": "",
            "zerolinecolor": "white"
           },
           "yaxis": {
            "backgroundcolor": "#E5ECF6",
            "gridcolor": "white",
            "gridwidth": 2,
            "linecolor": "white",
            "showbackground": true,
            "ticks": "",
            "zerolinecolor": "white"
           },
           "zaxis": {
            "backgroundcolor": "#E5ECF6",
            "gridcolor": "white",
            "gridwidth": 2,
            "linecolor": "white",
            "showbackground": true,
            "ticks": "",
            "zerolinecolor": "white"
           }
          },
          "shapedefaults": {
           "line": {
            "color": "#2a3f5f"
           }
          },
          "ternary": {
           "aaxis": {
            "gridcolor": "white",
            "linecolor": "white",
            "ticks": ""
           },
           "baxis": {
            "gridcolor": "white",
            "linecolor": "white",
            "ticks": ""
           },
           "bgcolor": "#E5ECF6",
           "caxis": {
            "gridcolor": "white",
            "linecolor": "white",
            "ticks": ""
           }
          },
          "title": {
           "x": 0.05
          },
          "xaxis": {
           "automargin": true,
           "gridcolor": "white",
           "linecolor": "white",
           "ticks": "",
           "title": {
            "standoff": 15
           },
           "zerolinecolor": "white",
           "zerolinewidth": 2
          },
          "yaxis": {
           "automargin": true,
           "gridcolor": "white",
           "linecolor": "white",
           "ticks": "",
           "title": {
            "standoff": 15
           },
           "zerolinecolor": "white",
           "zerolinewidth": 2
          }
         }
        },
        "title": {
         "text": "Stepwise deviation from random path, per category"
        },
        "xaxis": {
         "anchor": "y",
         "domain": [
          0,
          1
         ],
         "title": {
          "text": "Step"
         }
        },
        "yaxis": {
         "anchor": "x",
         "domain": [
          0,
          1
         ],
         "title": {
          "text": "Cumulative difference"
         }
        }
       }
      }
     },
     "metadata": {},
     "output_type": "display_data"
    }
   ],
   "source": [
    "# melt df to get one col for the step, and one col for the category-difference\n",
    "df_long = mean_diff_step_cat.melt(id_vars='category', \n",
    "                                  value_vars=[0, 1, 2, 3, 4], \n",
    "                                  var_name='Step', \n",
    "                                  value_name='Cumulative difference')\n",
    "\n",
    "#plot evolution\n",
    "fig = px.line(df_long, \n",
    "              x='Step', \n",
    "              y='Cumulative difference', \n",
    "              color='category', \n",
    "              title='Stepwise deviation from random path, per category',\n",
    "              color_discrete_map=palette_category_dict,\n",
    "              )\n",
    "fig.add_hline(\n",
    "    y=0,  \n",
    "    line=dict(color='black', dash='dash' ),  \n",
    "    annotation_text=\"Random path\",  \n",
    "    annotation_position=\"top right\",  \n",
    "    annotation_font=dict(size=12, color=\"black\")  \n",
    ")\n",
    "fig.show()"
   ]
  },
  {
   "cell_type": "code",
   "execution_count": 18,
   "metadata": {},
   "outputs": [],
   "source": [
    "#TODO add a measure of variance as shaded region around your main line"
   ]
  },
  {
   "cell_type": "markdown",
   "metadata": {},
   "source": [
    "<div class=\"alert alert-block alert-success\">\n",
    "The Countries and Geography categories have similar behaviors, having extreme values, both strongly positive values for the first transition (~200 and 70 respectively), and strongly negative values in later steps (between -500 and -1000 and between -350 and -550 respectively).\n",
    "\n",
    "- The stronly positive values for the first transition shows strong evidence that the first click of players are voluntarily directed towards Countries and Geography articles.\n",
    "\n",
    "- The strong negative values for following steps shows strong evidence that folowing the first clicks, players voluntarily direct their click towards other categories.  \n",
    "\n",
    "Further study of the evolution of country and geography articles is needed to explore where those strong values come from.\n",
    "\n",
    "Let's look at articles of the Countries category more specifically:\n",
    "</div>"
   ]
  },
  {
   "cell_type": "code",
   "execution_count": 33,
   "metadata": {},
   "outputs": [
    {
     "data": {
      "application/vnd.plotly.v1+json": {
       "config": {
        "plotlyServerURL": "https://plot.ly"
       },
       "data": [
        {
         "hovertemplate": "article=United States<br>Step=%{x}<br>Cumulative difference=%{y}<extra></extra>",
         "legendgroup": "United States",
         "line": {
          "color": "#636efa",
          "dash": "solid"
         },
         "marker": {
          "symbol": "circle"
         },
         "mode": "lines",
         "name": "United States",
         "showlegend": true,
         "type": "scattergl",
         "x": [
          0,
          1,
          2,
          3,
          4
         ],
         "xaxis": "x",
         "y": [
          219.68112252569605,
          44.12267891717884,
          -11.560963581558429,
          -30.32373661860341,
          -34.37887087800565
         ],
         "yaxis": "y"
        },
        {
         "hovertemplate": "article=United Kingdom<br>Step=%{x}<br>Cumulative difference=%{y}<extra></extra>",
         "legendgroup": "United Kingdom",
         "line": {
          "color": "#EF553B",
          "dash": "solid"
         },
         "marker": {
          "symbol": "circle"
         },
         "mode": "lines",
         "name": "United Kingdom",
         "showlegend": true,
         "type": "scattergl",
         "x": [
          0,
          1,
          2,
          3,
          4
         ],
         "xaxis": "x",
         "y": [
          69.58680989198854,
          3.22093662443391,
          -26.219303509745817,
          -33.45327517942063,
          -33.83266657964102
         ],
         "yaxis": "y"
        },
        {
         "hovertemplate": "article=France<br>Step=%{x}<br>Cumulative difference=%{y}<extra></extra>",
         "legendgroup": "France",
         "line": {
          "color": "#00cc96",
          "dash": "solid"
         },
         "marker": {
          "symbol": "circle"
         },
         "mode": "lines",
         "name": "France",
         "showlegend": true,
         "type": "scattergl",
         "x": [
          0,
          1,
          2,
          3,
          4
         ],
         "xaxis": "x",
         "y": [
          25.657438072752758,
          -22.24620185629402,
          -32.77781041741777,
          -36.382329167934,
          -41.382154116478084
         ],
         "yaxis": "y"
        },
        {
         "hovertemplate": "article=Germany<br>Step=%{x}<br>Cumulative difference=%{y}<extra></extra>",
         "legendgroup": "Germany",
         "line": {
          "color": "#ab63fa",
          "dash": "solid"
         },
         "marker": {
          "symbol": "circle"
         },
         "mode": "lines",
         "name": "Germany",
         "showlegend": true,
         "type": "scattergl",
         "x": [
          0,
          1,
          2,
          3,
          4
         ],
         "xaxis": "x",
         "y": [
          16.886951345555172,
          -2.2873519387121335,
          -20.142994792859568,
          -25.999378914628686,
          -28.730885352781854
         ],
         "yaxis": "y"
        },
        {
         "hovertemplate": "article=India<br>Step=%{x}<br>Cumulative difference=%{y}<extra></extra>",
         "legendgroup": "India",
         "line": {
          "color": "#FFA15A",
          "dash": "solid"
         },
         "marker": {
          "symbol": "circle"
         },
         "mode": "lines",
         "name": "India",
         "showlegend": true,
         "type": "scattergl",
         "x": [
          0,
          1,
          2,
          3,
          4
         ],
         "xaxis": "x",
         "y": [
          14.170072665775919,
          -11.366169502705683,
          -11.985535116617953,
          -18.944745784613847,
          -19.327238973262364
         ],
         "yaxis": "y"
        },
        {
         "hovertemplate": "article=Australia<br>Step=%{x}<br>Cumulative difference=%{y}<extra></extra>",
         "legendgroup": "Australia",
         "line": {
          "color": "#19d3f3",
          "dash": "solid"
         },
         "marker": {
          "symbol": "circle"
         },
         "mode": "lines",
         "name": "Australia",
         "showlegend": true,
         "type": "scattergl",
         "x": [
          0,
          1,
          2,
          3,
          4
         ],
         "xaxis": "x",
         "y": [
          13.920754573260588,
          -7.247803683081967,
          -7.614974732861029,
          -9.731619142700342,
          -12.152923639906678
         ],
         "yaxis": "y"
        },
        {
         "hovertemplate": "article=Russia<br>Step=%{x}<br>Cumulative difference=%{y}<extra></extra>",
         "legendgroup": "Russia",
         "line": {
          "color": "#FF6692",
          "dash": "solid"
         },
         "marker": {
          "symbol": "circle"
         },
         "mode": "lines",
         "name": "Russia",
         "showlegend": true,
         "type": "scattergl",
         "x": [
          0,
          1,
          2,
          3,
          4
         ],
         "xaxis": "x",
         "y": [
          11.899708083298425,
          -8.649823278886025,
          -17.358913647190523,
          -20.278992854373982,
          -21.562581440308946
         ],
         "yaxis": "y"
        },
        {
         "hovertemplate": "article=China<br>Step=%{x}<br>Cumulative difference=%{y}<extra></extra>",
         "legendgroup": "China",
         "line": {
          "color": "#B6E880",
          "dash": "solid"
         },
         "marker": {
          "symbol": "circle"
         },
         "mode": "lines",
         "name": "China",
         "showlegend": true,
         "type": "scattergl",
         "x": [
          0,
          1,
          2,
          3,
          4
         ],
         "xaxis": "x",
         "y": [
          10.071184551519178,
          -3.8428659476471876,
          -8.941354338965791,
          -13.982134646263056,
          -14.724592003696669
         ],
         "yaxis": "y"
        },
        {
         "hovertemplate": "article=South Africa<br>Step=%{x}<br>Cumulative difference=%{y}<extra></extra>",
         "legendgroup": "South Africa",
         "line": {
          "color": "#FF97FF",
          "dash": "solid"
         },
         "marker": {
          "symbol": "circle"
         },
         "mode": "lines",
         "name": "South Africa",
         "showlegend": true,
         "type": "scattergl",
         "x": [
          0,
          1,
          2,
          3,
          4
         ],
         "xaxis": "x",
         "y": [
          7.402663326455544,
          0.8816447332078969,
          -4.091218855042634,
          -5.133521740007856,
          -4.95416668369315
         ],
         "yaxis": "y"
        },
        {
         "hovertemplate": "article=Japan<br>Step=%{x}<br>Cumulative difference=%{y}<extra></extra>",
         "legendgroup": "Japan",
         "line": {
          "color": "#FECB52",
          "dash": "solid"
         },
         "marker": {
          "symbol": "circle"
         },
         "mode": "lines",
         "name": "Japan",
         "showlegend": true,
         "type": "scattergl",
         "x": [
          0,
          1,
          2,
          3,
          4
         ],
         "xaxis": "x",
         "y": [
          6.113377255533997,
          -6.954849044603405,
          -14.103616316058751,
          -13.520382175894312,
          -16.562740101529528
         ],
         "yaxis": "y"
        },
        {
         "hovertemplate": "article=Italy<br>Step=%{x}<br>Cumulative difference=%{y}<extra></extra>",
         "legendgroup": "Italy",
         "line": {
          "color": "#636efa",
          "dash": "solid"
         },
         "marker": {
          "symbol": "circle"
         },
         "mode": "lines",
         "name": "Italy",
         "showlegend": true,
         "type": "scattergl",
         "x": [
          0,
          1,
          2,
          3,
          4
         ],
         "xaxis": "x",
         "y": [
          5.207166750568877,
          -11.340362530125804,
          -15.866884511649529,
          -16.886188053980955,
          -19.8737523884322
         ],
         "yaxis": "y"
        },
        {
         "hovertemplate": "article=Greece<br>Step=%{x}<br>Cumulative difference=%{y}<extra></extra>",
         "legendgroup": "Greece",
         "line": {
          "color": "#EF553B",
          "dash": "solid"
         },
         "marker": {
          "symbol": "circle"
         },
         "mode": "lines",
         "name": "Greece",
         "showlegend": true,
         "type": "scattergl",
         "x": [
          0,
          1,
          2,
          3,
          4
         ],
         "xaxis": "x",
         "y": [
          3.5269604406288293,
          -3.215677723864346,
          -3.403285113213825,
          -4.7738092355860315,
          -7.357512211707492
         ],
         "yaxis": "y"
        },
        {
         "hovertemplate": "article=Egypt<br>Step=%{x}<br>Cumulative difference=%{y}<extra></extra>",
         "legendgroup": "Egypt",
         "line": {
          "color": "#00cc96",
          "dash": "solid"
         },
         "marker": {
          "symbol": "circle"
         },
         "mode": "lines",
         "name": "Egypt",
         "showlegend": true,
         "type": "scattergl",
         "x": [
          0,
          1,
          2,
          3,
          4
         ],
         "xaxis": "x",
         "y": [
          2.4363284553338285,
          -1.6467589785221863,
          -7.7323797737508535,
          -8.940741936388669,
          -7.1880217987480295
         ],
         "yaxis": "y"
        },
        {
         "hovertemplate": "article=Switzerland<br>Step=%{x}<br>Cumulative difference=%{y}<extra></extra>",
         "legendgroup": "Switzerland",
         "line": {
          "color": "#ab63fa",
          "dash": "solid"
         },
         "marker": {
          "symbol": "circle"
         },
         "mode": "lines",
         "name": "Switzerland",
         "showlegend": true,
         "type": "scattergl",
         "x": [
          0,
          1,
          2,
          3,
          4
         ],
         "xaxis": "x",
         "y": [
          1.9210147828104593,
          -6.430854379462545,
          -6.557694919332673,
          -8.675501460919499,
          -7.993845709629658
         ],
         "yaxis": "y"
        },
        {
         "hovertemplate": "article=Ireland<br>Step=%{x}<br>Cumulative difference=%{y}<extra></extra>",
         "legendgroup": "Ireland",
         "line": {
          "color": "#FFA15A",
          "dash": "solid"
         },
         "marker": {
          "symbol": "circle"
         },
         "mode": "lines",
         "name": "Ireland",
         "showlegend": true,
         "type": "scattergl",
         "x": [
          0,
          1,
          2,
          3,
          4
         ],
         "xaxis": "x",
         "y": [
          1.4438304497038308,
          -6.251549167897462,
          -7.823288826908829,
          -6.7698380928056885,
          -8.26258369324307
         ],
         "yaxis": "y"
        },
        {
         "hovertemplate": "article=People's Republic of China<br>Step=%{x}<br>Cumulative difference=%{y}<extra></extra>",
         "legendgroup": "People's Republic of China",
         "line": {
          "color": "#19d3f3",
          "dash": "solid"
         },
         "marker": {
          "symbol": "circle"
         },
         "mode": "lines",
         "name": "People's Republic of China",
         "showlegend": true,
         "type": "scattergl",
         "x": [
          0,
          1,
          2,
          3,
          4
         ],
         "xaxis": "x",
         "y": [
          1.3505361769428905,
          -10.672398212349462,
          -11.46770005607726,
          -13.714041130340732,
          -13.061449692197156
         ],
         "yaxis": "y"
        },
        {
         "hovertemplate": "article=Spain<br>Step=%{x}<br>Cumulative difference=%{y}<extra></extra>",
         "legendgroup": "Spain",
         "line": {
          "color": "#FF6692",
          "dash": "solid"
         },
         "marker": {
          "symbol": "circle"
         },
         "mode": "lines",
         "name": "Spain",
         "showlegend": true,
         "type": "scattergl",
         "x": [
          0,
          1,
          2,
          3,
          4
         ],
         "xaxis": "x",
         "y": [
          0.8296847471373554,
          -12.60853864709504,
          -17.103797137009863,
          -19.450685018848464,
          -21.734779831697974
         ],
         "yaxis": "y"
        },
        {
         "hovertemplate": "article=Christmas Island<br>Step=%{x}<br>Cumulative difference=%{y}<extra></extra>",
         "legendgroup": "Christmas Island",
         "line": {
          "color": "#B6E880",
          "dash": "solid"
         },
         "marker": {
          "symbol": "circle"
         },
         "mode": "lines",
         "name": "Christmas Island",
         "showlegend": true,
         "type": "scattergl",
         "x": [
          0,
          1,
          2,
          3,
          4
         ],
         "xaxis": "x",
         "y": [
          0.554239314161683,
          -0.516539218976658,
          -0.5222470922866227,
          -0.5333980879021274,
          -0.5393708777015026
         ],
         "yaxis": "y"
        },
        {
         "hovertemplate": "article=Afghanistan<br>Step=%{x}<br>Cumulative difference=%{y}<extra></extra>",
         "legendgroup": "Afghanistan",
         "line": {
          "color": "#FF97FF",
          "dash": "solid"
         },
         "marker": {
          "symbol": "circle"
         },
         "mode": "lines",
         "name": "Afghanistan",
         "showlegend": true,
         "type": "scattergl",
         "x": [
          0,
          1,
          2,
          3,
          4
         ],
         "xaxis": "x",
         "y": [
          0.41680791550170215,
          -3.2702940185258402,
          -2.7740210191372636,
          -3.6647874215479903,
          -2.970431791477144
         ],
         "yaxis": "y"
        },
        {
         "hovertemplate": "article=Netherlands<br>Step=%{x}<br>Cumulative difference=%{y}<extra></extra>",
         "legendgroup": "Netherlands",
         "line": {
          "color": "#FECB52",
          "dash": "solid"
         },
         "marker": {
          "symbol": "circle"
         },
         "mode": "lines",
         "name": "Netherlands",
         "showlegend": true,
         "type": "scattergl",
         "x": [
          0,
          1,
          2,
          3,
          4
         ],
         "xaxis": "x",
         "y": [
          0.3660737018508756,
          -6.396627364748836,
          -10.641389084096312,
          -12.05806881036055,
          -12.025372811426282
         ],
         "yaxis": "y"
        },
        {
         "hovertemplate": "article=Guinea-Bissau<br>Step=%{x}<br>Cumulative difference=%{y}<extra></extra>",
         "legendgroup": "Guinea-Bissau",
         "line": {
          "color": "#636efa",
          "dash": "solid"
         },
         "marker": {
          "symbol": "circle"
         },
         "mode": "lines",
         "name": "Guinea-Bissau",
         "showlegend": true,
         "type": "scattergl",
         "x": [
          0,
          1,
          2,
          3,
          4
         ],
         "xaxis": "x",
         "y": [
          0.2000149053913927,
          -1.30651166569296,
          -1.4161715594975988,
          -1.4908158940891008,
          -1.343511135975848
         ],
         "yaxis": "y"
        },
        {
         "hovertemplate": "article=Easter Island<br>Step=%{x}<br>Cumulative difference=%{y}<extra></extra>",
         "legendgroup": "Easter Island",
         "line": {
          "color": "#EF553B",
          "dash": "solid"
         },
         "marker": {
          "symbol": "circle"
         },
         "mode": "lines",
         "name": "Easter Island",
         "showlegend": true,
         "type": "scattergl",
         "x": [
          0,
          1,
          2,
          3,
          4
         ],
         "xaxis": "x",
         "y": [
          0.18993269436055107,
          -0.3718036252880968,
          -0.39050835888923485,
          -0.46365141526139403,
          -0.2805455117902109
         ],
         "yaxis": "y"
        },
        {
         "hovertemplate": "article=Galápagos Islands<br>Step=%{x}<br>Cumulative difference=%{y}<extra></extra>",
         "legendgroup": "Galápagos Islands",
         "line": {
          "color": "#00cc96",
          "dash": "solid"
         },
         "marker": {
          "symbol": "circle"
         },
         "mode": "lines",
         "name": "Galápagos Islands",
         "showlegend": true,
         "type": "scattergl",
         "x": [
          0,
          1,
          2,
          3,
          4
         ],
         "xaxis": "x",
         "y": [
          0.049093926341389926,
          0.2674428310708651,
          -0.31609222803923986,
          -0.23206982984325183,
          -0.2153565903559378
         ],
         "yaxis": "y"
        },
        {
         "hovertemplate": "article=Åland<br>Step=%{x}<br>Cumulative difference=%{y}<extra></extra>",
         "legendgroup": "Åland",
         "line": {
          "color": "#ab63fa",
          "dash": "solid"
         },
         "marker": {
          "symbol": "circle"
         },
         "mode": "lines",
         "name": "Åland",
         "showlegend": true,
         "type": "scattergl",
         "x": [
          0,
          1,
          2,
          3,
          4
         ],
         "xaxis": "x",
         "y": [
          0,
          0.037037037037037035,
          0,
          0,
          0
         ],
         "yaxis": "y"
        },
        {
         "hovertemplate": "article=Éire<br>Step=%{x}<br>Cumulative difference=%{y}<extra></extra>",
         "legendgroup": "Éire",
         "line": {
          "color": "#FFA15A",
          "dash": "solid"
         },
         "marker": {
          "symbol": "circle"
         },
         "mode": "lines",
         "name": "Éire",
         "showlegend": true,
         "type": "scattergl",
         "x": [
          0,
          1,
          2,
          3,
          4
         ],
         "xaxis": "x",
         "y": [
          0,
          0.041666666666666664,
          0,
          0.03125,
          0.05555555555555555
         ],
         "yaxis": "y"
        },
        {
         "hovertemplate": "article=Dominica<br>Step=%{x}<br>Cumulative difference=%{y}<extra></extra>",
         "legendgroup": "Dominica",
         "line": {
          "color": "#19d3f3",
          "dash": "solid"
         },
         "marker": {
          "symbol": "circle"
         },
         "mode": "lines",
         "name": "Dominica",
         "showlegend": true,
         "type": "scattergl",
         "x": [
          0,
          1,
          2,
          3,
          4
         ],
         "xaxis": "x",
         "y": [
          -0.016015147718577573,
          -0.9963370806832886,
          -1.0892282256543486,
          -1.0556945417825063,
          -0.06897006174956159
         ],
         "yaxis": "y"
        },
        {
         "hovertemplate": "article=Iceland<br>Step=%{x}<br>Cumulative difference=%{y}<extra></extra>",
         "legendgroup": "Iceland",
         "line": {
          "color": "#FF6692",
          "dash": "solid"
         },
         "marker": {
          "symbol": "circle"
         },
         "mode": "lines",
         "name": "Iceland",
         "showlegend": true,
         "type": "scattergl",
         "x": [
          0,
          1,
          2,
          3,
          4
         ],
         "xaxis": "x",
         "y": [
          -0.04451332944525499,
          -4.965121377841269,
          -4.5543956753837245,
          -3.3023923926230605,
          -4.849699362833337
         ],
         "yaxis": "y"
        },
        {
         "hovertemplate": "article=Aruba<br>Step=%{x}<br>Cumulative difference=%{y}<extra></extra>",
         "legendgroup": "Aruba",
         "line": {
          "color": "#B6E880",
          "dash": "solid"
         },
         "marker": {
          "symbol": "circle"
         },
         "mode": "lines",
         "name": "Aruba",
         "showlegend": true,
         "type": "scattergl",
         "x": [
          0,
          1,
          2,
          3,
          4
         ],
         "xaxis": "x",
         "y": [
          -0.062226109932680844,
          -1.405253852180311,
          -1.3599283970489597,
          -1.4240109145826294,
          -1.4138778282552438
         ],
         "yaxis": "y"
        },
        {
         "hovertemplate": "article=Serbia and Montenegro<br>Step=%{x}<br>Cumulative difference=%{y}<extra></extra>",
         "legendgroup": "Serbia and Montenegro",
         "line": {
          "color": "#FF97FF",
          "dash": "solid"
         },
         "marker": {
          "symbol": "circle"
         },
         "mode": "lines",
         "name": "Serbia and Montenegro",
         "showlegend": true,
         "type": "scattergl",
         "x": [
          0,
          1,
          2,
          3,
          4
         ],
         "xaxis": "x",
         "y": [
          -0.07905070730758675,
          -0.08346709518523972,
          0.1906830362985576,
          0.24790884782910555,
          0.3809692817005573
         ],
         "yaxis": "y"
        },
        {
         "hovertemplate": "article=Bolivia<br>Step=%{x}<br>Cumulative difference=%{y}<extra></extra>",
         "legendgroup": "Bolivia",
         "line": {
          "color": "#FECB52",
          "dash": "solid"
         },
         "marker": {
          "symbol": "circle"
         },
         "mode": "lines",
         "name": "Bolivia",
         "showlegend": true,
         "type": "scattergl",
         "x": [
          0,
          1,
          2,
          3,
          4
         ],
         "xaxis": "x",
         "y": [
          -0.08060424735271089,
          -2.212476326901496,
          -2.5712275654804304,
          -2.4292188919654607,
          -1.333130752590138
         ],
         "yaxis": "y"
        },
        {
         "hovertemplate": "article=Botswana<br>Step=%{x}<br>Cumulative difference=%{y}<extra></extra>",
         "legendgroup": "Botswana",
         "line": {
          "color": "#636efa",
          "dash": "solid"
         },
         "marker": {
          "symbol": "circle"
         },
         "mode": "lines",
         "name": "Botswana",
         "showlegend": true,
         "type": "scattergl",
         "x": [
          0,
          1,
          2,
          3,
          4
         ],
         "xaxis": "x",
         "y": [
          -0.08221081126374838,
          -1.1414757162931946,
          -0.1194502311198974,
          -1.1572188924018543,
          -1.3134996580357763
         ],
         "yaxis": "y"
        },
        {
         "hovertemplate": "article=South Ossetia<br>Step=%{x}<br>Cumulative difference=%{y}<extra></extra>",
         "legendgroup": "South Ossetia",
         "line": {
          "color": "#EF553B",
          "dash": "solid"
         },
         "marker": {
          "symbol": "circle"
         },
         "mode": "lines",
         "name": "South Ossetia",
         "showlegend": true,
         "type": "scattergl",
         "x": [
          0,
          1,
          2,
          3,
          4
         ],
         "xaxis": "x",
         "y": [
          -0.10478364455547519,
          -0.18938999939919707,
          -0.04511952325408503,
          0.31449056836261524,
          0.001958514856599417
         ],
         "yaxis": "y"
        },
        {
         "hovertemplate": "article=Antigua and Barbuda<br>Step=%{x}<br>Cumulative difference=%{y}<extra></extra>",
         "legendgroup": "Antigua and Barbuda",
         "line": {
          "color": "#00cc96",
          "dash": "solid"
         },
         "marker": {
          "symbol": "circle"
         },
         "mode": "lines",
         "name": "Antigua and Barbuda",
         "showlegend": true,
         "type": "scattergl",
         "x": [
          0,
          1,
          2,
          3,
          4
         ],
         "xaxis": "x",
         "y": [
          -0.12785041299548425,
          -0.6980422932421685,
          -0.7047927779187962,
          -0.6861546046878652,
          -0.7067318386408377
         ],
         "yaxis": "y"
        },
        {
         "hovertemplate": "article=British Indian Ocean Territory<br>Step=%{x}<br>Cumulative difference=%{y}<extra></extra>",
         "legendgroup": "British Indian Ocean Territory",
         "line": {
          "color": "#ab63fa",
          "dash": "solid"
         },
         "marker": {
          "symbol": "circle"
         },
         "mode": "lines",
         "name": "British Indian Ocean Territory",
         "showlegend": true,
         "type": "scattergl",
         "x": [
          0,
          1,
          2,
          3,
          4
         ],
         "xaxis": "x",
         "y": [
          -0.13924219440976218,
          -0.2806027704842294,
          -0.2791364296148592,
          -0.2919499359535751,
          -0.2984483935358364
         ],
         "yaxis": "y"
        },
        {
         "hovertemplate": "article=French Polynesia<br>Step=%{x}<br>Cumulative difference=%{y}<extra></extra>",
         "legendgroup": "French Polynesia",
         "line": {
          "color": "#FFA15A",
          "dash": "solid"
         },
         "marker": {
          "symbol": "circle"
         },
         "mode": "lines",
         "name": "French Polynesia",
         "showlegend": true,
         "type": "scattergl",
         "x": [
          0,
          1,
          2,
          3,
          4
         ],
         "xaxis": "x",
         "y": [
          -0.16689419422361937,
          -0.32629574578727594,
          -0.3022537387353179,
          0.6018818060214548,
          -0.34653540127726473
         ],
         "yaxis": "y"
        },
        {
         "hovertemplate": "article=Saudi Arabia<br>Step=%{x}<br>Cumulative difference=%{y}<extra></extra>",
         "legendgroup": "Saudi Arabia",
         "line": {
          "color": "#19d3f3",
          "dash": "solid"
         },
         "marker": {
          "symbol": "circle"
         },
         "mode": "lines",
         "name": "Saudi Arabia",
         "showlegend": true,
         "type": "scattergl",
         "x": [
          0,
          1,
          2,
          3,
          4
         ],
         "xaxis": "x",
         "y": [
          -0.1781433669464586,
          -2.50842918658487,
          -3.9315377222347627,
          -4.590780295694812,
          -3.9517596544751994
         ],
         "yaxis": "y"
        },
        {
         "hovertemplate": "article=Cocos (Keeling) Islands<br>Step=%{x}<br>Cumulative difference=%{y}<extra></extra>",
         "legendgroup": "Cocos (Keeling) Islands",
         "line": {
          "color": "#FF6692",
          "dash": "solid"
         },
         "marker": {
          "symbol": "circle"
         },
         "mode": "lines",
         "name": "Cocos (Keeling) Islands",
         "showlegend": true,
         "type": "scattergl",
         "x": [
          0,
          1,
          2,
          3,
          4
         ],
         "xaxis": "x",
         "y": [
          -0.18927622359397436,
          -0.494809079571094,
          -0.5066832831208801,
          -0.5209595241224425,
          -0.5352829582080363
         ],
         "yaxis": "y"
        },
        {
         "hovertemplate": "article=Palestinian territories<br>Step=%{x}<br>Cumulative difference=%{y}<extra></extra>",
         "legendgroup": "Palestinian territories",
         "line": {
          "color": "#B6E880",
          "dash": "solid"
         },
         "marker": {
          "symbol": "circle"
         },
         "mode": "lines",
         "name": "Palestinian territories",
         "showlegend": true,
         "type": "scattergl",
         "x": [
          0,
          1,
          2,
          3,
          4
         ],
         "xaxis": "x",
         "y": [
          -0.20121401326203708,
          -0.21954775880906863,
          -0.4638158045052533,
          -0.26021175959579607,
          0.48119798437302846
         ],
         "yaxis": "y"
        },
        {
         "hovertemplate": "article=British Virgin Islands<br>Step=%{x}<br>Cumulative difference=%{y}<extra></extra>",
         "legendgroup": "British Virgin Islands",
         "line": {
          "color": "#FF97FF",
          "dash": "solid"
         },
         "marker": {
          "symbol": "circle"
         },
         "mode": "lines",
         "name": "British Virgin Islands",
         "showlegend": true,
         "type": "scattergl",
         "x": [
          0,
          1,
          2,
          3,
          4
         ],
         "xaxis": "x",
         "y": [
          -0.21517190066625802,
          -0.823868759031071,
          -0.6845691895585811,
          -0.7070454571336224,
          -0.6952963213997078
         ],
         "yaxis": "y"
        },
        {
         "hovertemplate": "article=Abkhazia<br>Step=%{x}<br>Cumulative difference=%{y}<extra></extra>",
         "legendgroup": "Abkhazia",
         "line": {
          "color": "#FECB52",
          "dash": "solid"
         },
         "marker": {
          "symbol": "circle"
         },
         "mode": "lines",
         "name": "Abkhazia",
         "showlegend": true,
         "type": "scattergl",
         "x": [
          0,
          1,
          2,
          3,
          4
         ],
         "xaxis": "x",
         "y": [
          -0.2279769104005845,
          -0.29473231495290514,
          -0.16614589989877224,
          -0.40789039843023706,
          0.06004081136208816
         ],
         "yaxis": "y"
        },
        {
         "hovertemplate": "article=Netherlands Antilles<br>Step=%{x}<br>Cumulative difference=%{y}<extra></extra>",
         "legendgroup": "Netherlands Antilles",
         "line": {
          "color": "#636efa",
          "dash": "solid"
         },
         "marker": {
          "symbol": "circle"
         },
         "mode": "lines",
         "name": "Netherlands Antilles",
         "showlegend": true,
         "type": "scattergl",
         "x": [
          0,
          1,
          2,
          3,
          4
         ],
         "xaxis": "x",
         "y": [
          -0.22810631254332317,
          -1.5283678496591124,
          -0.46894470113076564,
          -1.6011143835571526,
          -1.609272347448497
         ],
         "yaxis": "y"
        },
        {
         "hovertemplate": "article=French Guiana<br>Step=%{x}<br>Cumulative difference=%{y}<extra></extra>",
         "legendgroup": "French Guiana",
         "line": {
          "color": "#EF553B",
          "dash": "solid"
         },
         "marker": {
          "symbol": "circle"
         },
         "mode": "lines",
         "name": "French Guiana",
         "showlegend": true,
         "type": "scattergl",
         "x": [
          0,
          1,
          2,
          3,
          4
         ],
         "xaxis": "x",
         "y": [
          -0.23594120692518578,
          -1.0013359400023518,
          -1.331817387591295,
          -1.529878105801114,
          -1.595048151861251
         ],
         "yaxis": "y"
        },
        {
         "hovertemplate": "article=Turkish Republic of Northern Cyprus<br>Step=%{x}<br>Cumulative difference=%{y}<extra></extra>",
         "legendgroup": "Turkish Republic of Northern Cyprus",
         "line": {
          "color": "#00cc96",
          "dash": "solid"
         },
         "marker": {
          "symbol": "circle"
         },
         "mode": "lines",
         "name": "Turkish Republic of Northern Cyprus",
         "showlegend": true,
         "type": "scattergl",
         "x": [
          0,
          1,
          2,
          3,
          4
         ],
         "xaxis": "x",
         "y": [
          -0.2481231185330766,
          -0.38985793882528735,
          -0.2727225085856506,
          -0.3732951926784171,
          -0.0392072254653496
         ],
         "yaxis": "y"
        },
        {
         "hovertemplate": "article=Abu Dhabi<br>Step=%{x}<br>Cumulative difference=%{y}<extra></extra>",
         "legendgroup": "Abu Dhabi",
         "line": {
          "color": "#ab63fa",
          "dash": "solid"
         },
         "marker": {
          "symbol": "circle"
         },
         "mode": "lines",
         "name": "Abu Dhabi",
         "showlegend": true,
         "type": "scattergl",
         "x": [
          0,
          1,
          2,
          3,
          4
         ],
         "xaxis": "x",
         "y": [
          -0.2577598371706018,
          -0.33632199410002195,
          -0.24596748357012208,
          -0.3349281181372721,
          -0.27450137097774724
         ],
         "yaxis": "y"
        },
        {
         "hovertemplate": "article=Argentina<br>Step=%{x}<br>Cumulative difference=%{y}<extra></extra>",
         "legendgroup": "Argentina",
         "line": {
          "color": "#FFA15A",
          "dash": "solid"
         },
         "marker": {
          "symbol": "circle"
         },
         "mode": "lines",
         "name": "Argentina",
         "showlegend": true,
         "type": "scattergl",
         "x": [
          0,
          1,
          2,
          3,
          4
         ],
         "xaxis": "x",
         "y": [
          -0.28006465967418853,
          -5.809138990573511,
          -5.686428367767929,
          -5.6471979892645185,
          -6.865907324791625
         ],
         "yaxis": "y"
        },
        {
         "hovertemplate": "article=Gaza Strip<br>Step=%{x}<br>Cumulative difference=%{y}<extra></extra>",
         "legendgroup": "Gaza Strip",
         "line": {
          "color": "#19d3f3",
          "dash": "solid"
         },
         "marker": {
          "symbol": "circle"
         },
         "mode": "lines",
         "name": "Gaza Strip",
         "showlegend": true,
         "type": "scattergl",
         "x": [
          0,
          1,
          2,
          3,
          4
         ],
         "xaxis": "x",
         "y": [
          -0.28203691882142157,
          -0.5296502885047247,
          0.4145719977996835,
          -0.5247796178675437,
          -0.6737456176272991
         ],
         "yaxis": "y"
        },
        {
         "hovertemplate": "article=Federated States of Micronesia<br>Step=%{x}<br>Cumulative difference=%{y}<extra></extra>",
         "legendgroup": "Federated States of Micronesia",
         "line": {
          "color": "#FF6692",
          "dash": "solid"
         },
         "marker": {
          "symbol": "circle"
         },
         "mode": "lines",
         "name": "Federated States of Micronesia",
         "showlegend": true,
         "type": "scattergl",
         "x": [
          0,
          1,
          2,
          3,
          4
         ],
         "xaxis": "x",
         "y": [
          -0.2834395023956008,
          -0.9754904555895103,
          -1.0028732820651463,
          -0.3958139671188872,
          -0.01946964611585585
         ],
         "yaxis": "y"
        },
        {
         "hovertemplate": "article=Turks and Caicos Islands<br>Step=%{x}<br>Cumulative difference=%{y}<extra></extra>",
         "legendgroup": "Turks and Caicos Islands",
         "line": {
          "color": "#B6E880",
          "dash": "solid"
         },
         "marker": {
          "symbol": "circle"
         },
         "mode": "lines",
         "name": "Turks and Caicos Islands",
         "showlegend": true,
         "type": "scattergl",
         "x": [
          0,
          1,
          2,
          3,
          4
         ],
         "xaxis": "x",
         "y": [
          -0.29637725922045294,
          -1.1741799969350863,
          -0.9610626772100443,
          -0.9408448387624498,
          -0.9098173756193698
         ],
         "yaxis": "y"
        },
        {
         "hovertemplate": "article=Solomon Islands<br>Step=%{x}<br>Cumulative difference=%{y}<extra></extra>",
         "legendgroup": "Solomon Islands",
         "line": {
          "color": "#FF97FF",
          "dash": "solid"
         },
         "marker": {
          "symbol": "circle"
         },
         "mode": "lines",
         "name": "Solomon Islands",
         "showlegend": true,
         "type": "scattergl",
         "x": [
          0,
          1,
          2,
          3,
          4
         ],
         "xaxis": "x",
         "y": [
          -0.3148739893833754,
          -1.0650049578638676,
          -0.711698660336725,
          -0.9693120407129399,
          -0.9985074551315882
         ],
         "yaxis": "y"
        },
        {
         "hovertemplate": "article=San Marino<br>Step=%{x}<br>Cumulative difference=%{y}<extra></extra>",
         "legendgroup": "San Marino",
         "line": {
          "color": "#FECB52",
          "dash": "solid"
         },
         "marker": {
          "symbol": "circle"
         },
         "mode": "lines",
         "name": "San Marino",
         "showlegend": true,
         "type": "scattergl",
         "x": [
          0,
          1,
          2,
          3,
          4
         ],
         "xaxis": "x",
         "y": [
          -0.3161340710005566,
          -0.7569503714619252,
          -1.0278795798750169,
          -1.1116025414683,
          -1.1723311415436053
         ],
         "yaxis": "y"
        },
        {
         "hovertemplate": "article=Saint Kitts and Nevis<br>Step=%{x}<br>Cumulative difference=%{y}<extra></extra>",
         "legendgroup": "Saint Kitts and Nevis",
         "line": {
          "color": "#636efa",
          "dash": "solid"
         },
         "marker": {
          "symbol": "circle"
         },
         "mode": "lines",
         "name": "Saint Kitts and Nevis",
         "showlegend": true,
         "type": "scattergl",
         "x": [
          0,
          1,
          2,
          3,
          4
         ],
         "xaxis": "x",
         "y": [
          -0.3297640966606105,
          -0.8790285078796398,
          -0.8543088222224691,
          -0.8662796605244337,
          -0.8675156475926912
         ],
         "yaxis": "y"
        },
        {
         "hovertemplate": "article=Trinidad and Tobago<br>Step=%{x}<br>Cumulative difference=%{y}<extra></extra>",
         "legendgroup": "Trinidad and Tobago",
         "line": {
          "color": "#EF553B",
          "dash": "solid"
         },
         "marker": {
          "symbol": "circle"
         },
         "mode": "lines",
         "name": "Trinidad and Tobago",
         "showlegend": true,
         "type": "scattergl",
         "x": [
          0,
          1,
          2,
          3,
          4
         ],
         "xaxis": "x",
         "y": [
          -0.36644580876304994,
          -0.8171793602139509,
          -1.288439263666021,
          -0.2578471177347372,
          -1.361105764459279
         ],
         "yaxis": "y"
        },
        {
         "hovertemplate": "article=Saint Helena<br>Step=%{x}<br>Cumulative difference=%{y}<extra></extra>",
         "legendgroup": "Saint Helena",
         "line": {
          "color": "#00cc96",
          "dash": "solid"
         },
         "marker": {
          "symbol": "circle"
         },
         "mode": "lines",
         "name": "Saint Helena",
         "showlegend": true,
         "type": "scattergl",
         "x": [
          0,
          1,
          2,
          3,
          4
         ],
         "xaxis": "x",
         "y": [
          -0.3670136714769305,
          -0.9375257694405054,
          -0.9446911501424643,
          -0.9687408991560226,
          -0.9888939342845954
         ],
         "yaxis": "y"
        },
        {
         "hovertemplate": "article=Andorra<br>Step=%{x}<br>Cumulative difference=%{y}<extra></extra>",
         "legendgroup": "Andorra",
         "line": {
          "color": "#ab63fa",
          "dash": "solid"
         },
         "marker": {
          "symbol": "circle"
         },
         "mode": "lines",
         "name": "Andorra",
         "showlegend": true,
         "type": "scattergl",
         "x": [
          0,
          1,
          2,
          3,
          4
         ],
         "xaxis": "x",
         "y": [
          -0.3811673574861007,
          -2.0637824647365517,
          -2.417928085492942,
          -2.6612903130247845,
          -2.8215655127722785
         ],
         "yaxis": "y"
        },
        {
         "hovertemplate": "article=Monaco<br>Step=%{x}<br>Cumulative difference=%{y}<extra></extra>",
         "legendgroup": "Monaco",
         "line": {
          "color": "#FFA15A",
          "dash": "solid"
         },
         "marker": {
          "symbol": "circle"
         },
         "mode": "lines",
         "name": "Monaco",
         "showlegend": true,
         "type": "scattergl",
         "x": [
          0,
          1,
          2,
          3,
          4
         ],
         "xaxis": "x",
         "y": [
          -0.39151996003890793,
          -1.8623609725693344,
          -1.9807485377297591,
          -2.578289603907546,
          -2.6976239124437322
         ],
         "yaxis": "y"
        },
        {
         "hovertemplate": "article=Tuvalu<br>Step=%{x}<br>Cumulative difference=%{y}<extra></extra>",
         "legendgroup": "Tuvalu",
         "line": {
          "color": "#19d3f3",
          "dash": "solid"
         },
         "marker": {
          "symbol": "circle"
         },
         "mode": "lines",
         "name": "Tuvalu",
         "showlegend": true,
         "type": "scattergl",
         "x": [
          0,
          1,
          2,
          3,
          4
         ],
         "xaxis": "x",
         "y": [
          -0.4023503090329921,
          -0.306573552683931,
          -0.3676432902631718,
          -0.4024259354795843,
          0.08314299948025086
         ],
         "yaxis": "y"
        },
        {
         "hovertemplate": "article=Cayman Islands<br>Step=%{x}<br>Cumulative difference=%{y}<extra></extra>",
         "legendgroup": "Cayman Islands",
         "line": {
          "color": "#FF6692",
          "dash": "solid"
         },
         "marker": {
          "symbol": "circle"
         },
         "mode": "lines",
         "name": "Cayman Islands",
         "showlegend": true,
         "type": "scattergl",
         "x": [
          0,
          1,
          2,
          3,
          4
         ],
         "xaxis": "x",
         "y": [
          -0.4117761015661491,
          -0.8883392215446161,
          -0.8080957701918784,
          0.2509060639920936,
          -0.7130227896144604
         ],
         "yaxis": "y"
        },
        {
         "hovertemplate": "article=The Gambia<br>Step=%{x}<br>Cumulative difference=%{y}<extra></extra>",
         "legendgroup": "The Gambia",
         "line": {
          "color": "#B6E880",
          "dash": "solid"
         },
         "marker": {
          "symbol": "circle"
         },
         "mode": "lines",
         "name": "The Gambia",
         "showlegend": true,
         "type": "scattergl",
         "x": [
          0,
          1,
          2,
          3,
          4
         ],
         "xaxis": "x",
         "y": [
          -0.42356847297098404,
          -1.2031958728777654,
          -1.1788048547067609,
          -1.2119237414889765,
          -1.2456557112536522
         ],
         "yaxis": "y"
        },
        {
         "hovertemplate": "article=Morocco<br>Step=%{x}<br>Cumulative difference=%{y}<extra></extra>",
         "legendgroup": "Morocco",
         "line": {
          "color": "#FF97FF",
          "dash": "solid"
         },
         "marker": {
          "symbol": "circle"
         },
         "mode": "lines",
         "name": "Morocco",
         "showlegend": true,
         "type": "scattergl",
         "x": [
          0,
          1,
          2,
          3,
          4
         ],
         "xaxis": "x",
         "y": [
          -0.42967820275363894,
          -3.62854008137246,
          -4.6899525466475,
          -5.69372255447686,
          -6.528238920154494
         ],
         "yaxis": "y"
        },
        {
         "hovertemplate": "article=Saint Vincent and the Grenadines<br>Step=%{x}<br>Cumulative difference=%{y}<extra></extra>",
         "legendgroup": "Saint Vincent and the Grenadines",
         "line": {
          "color": "#FECB52",
          "dash": "solid"
         },
         "marker": {
          "symbol": "circle"
         },
         "mode": "lines",
         "name": "Saint Vincent and the Grenadines",
         "showlegend": true,
         "type": "scattergl",
         "x": [
          0,
          1,
          2,
          3,
          4
         ],
         "xaxis": "x",
         "y": [
          -0.43063588242831874,
          -0.7282864574297633,
          -0.7276212250934073,
          -0.7433681601976693,
          -0.745959304115451
         ],
         "yaxis": "y"
        },
        {
         "hovertemplate": "article=Grenada<br>Step=%{x}<br>Cumulative difference=%{y}<extra></extra>",
         "legendgroup": "Grenada",
         "line": {
          "color": "#636efa",
          "dash": "solid"
         },
         "marker": {
          "symbol": "circle"
         },
         "mode": "lines",
         "name": "Grenada",
         "showlegend": true,
         "type": "scattergl",
         "x": [
          0,
          1,
          2,
          3,
          4
         ],
         "xaxis": "x",
         "y": [
          -0.4308177116360544,
          -0.9677060781487599,
          -0.8008321803932456,
          -0.7742028126021396,
          -0.8883250958482857
         ],
         "yaxis": "y"
        },
        {
         "hovertemplate": "article=El Salvador<br>Step=%{x}<br>Cumulative difference=%{y}<extra></extra>",
         "legendgroup": "El Salvador",
         "line": {
          "color": "#EF553B",
          "dash": "solid"
         },
         "marker": {
          "symbol": "circle"
         },
         "mode": "lines",
         "name": "El Salvador",
         "showlegend": true,
         "type": "scattergl",
         "x": [
          0,
          1,
          2,
          3,
          4
         ],
         "xaxis": "x",
         "y": [
          -0.4361974340803633,
          -1.6069049377951399,
          -1.832818583277874,
          -0.9798409615022933,
          -2.37155196928306
         ],
         "yaxis": "y"
        },
        {
         "hovertemplate": "article=Equatorial Guinea<br>Step=%{x}<br>Cumulative difference=%{y}<extra></extra>",
         "legendgroup": "Equatorial Guinea",
         "line": {
          "color": "#00cc96",
          "dash": "solid"
         },
         "marker": {
          "symbol": "circle"
         },
         "mode": "lines",
         "name": "Equatorial Guinea",
         "showlegend": true,
         "type": "scattergl",
         "x": [
          0,
          1,
          2,
          3,
          4
         ],
         "xaxis": "x",
         "y": [
          -0.4399293040141846,
          -1.7919306626632516,
          -2.045600532410506,
          -2.0788977206340293,
          -2.334689762535661
         ],
         "yaxis": "y"
        },
        {
         "hovertemplate": "article=Korea<br>Step=%{x}<br>Cumulative difference=%{y}<extra></extra>",
         "legendgroup": "Korea",
         "line": {
          "color": "#ab63fa",
          "dash": "solid"
         },
         "marker": {
          "symbol": "circle"
         },
         "mode": "lines",
         "name": "Korea",
         "showlegend": true,
         "type": "scattergl",
         "x": [
          0,
          1,
          2,
          3,
          4
         ],
         "xaxis": "x",
         "y": [
          -0.45525605039616784,
          -2.954355163015356,
          -2.5538500769181978,
          -2.815605888979646,
          -2.694306843552634
         ],
         "yaxis": "y"
        },
        {
         "hovertemplate": "article=West Bank<br>Step=%{x}<br>Cumulative difference=%{y}<extra></extra>",
         "legendgroup": "West Bank",
         "line": {
          "color": "#FFA15A",
          "dash": "solid"
         },
         "marker": {
          "symbol": "circle"
         },
         "mode": "lines",
         "name": "West Bank",
         "showlegend": true,
         "type": "scattergl",
         "x": [
          0,
          1,
          2,
          3,
          4
         ],
         "xaxis": "x",
         "y": [
          -0.46472538877204866,
          -0.47326832885488185,
          -0.6319846905091946,
          -0.4481870977926242,
          -0.6819337762851905
         ],
         "yaxis": "y"
        },
        {
         "hovertemplate": "article=Anguilla<br>Step=%{x}<br>Cumulative difference=%{y}<extra></extra>",
         "legendgroup": "Anguilla",
         "line": {
          "color": "#19d3f3",
          "dash": "solid"
         },
         "marker": {
          "symbol": "circle"
         },
         "mode": "lines",
         "name": "Anguilla",
         "showlegend": true,
         "type": "scattergl",
         "x": [
          0,
          1,
          2,
          3,
          4
         ],
         "xaxis": "x",
         "y": [
          -0.4797389309865081,
          -0.594726991526435,
          -0.5796999424679927,
          -0.5752229309372952,
          -0.5693004725930676
         ],
         "yaxis": "y"
        },
        {
         "hovertemplate": "article=United Arab Emirates<br>Step=%{x}<br>Cumulative difference=%{y}<extra></extra>",
         "legendgroup": "United Arab Emirates",
         "line": {
          "color": "#FF6692",
          "dash": "solid"
         },
         "marker": {
          "symbol": "circle"
         },
         "mode": "lines",
         "name": "United Arab Emirates",
         "showlegend": true,
         "type": "scattergl",
         "x": [
          0,
          1,
          2,
          3,
          4
         ],
         "xaxis": "x",
         "y": [
          -0.49914460481270384,
          -0.9406214279727074,
          -0.9249916169886163,
          -0.9732295352206695,
          -0.9576550988640794
         ],
         "yaxis": "y"
        },
        {
         "hovertemplate": "article=Réunion<br>Step=%{x}<br>Cumulative difference=%{y}<extra></extra>",
         "legendgroup": "Réunion",
         "line": {
          "color": "#B6E880",
          "dash": "solid"
         },
         "marker": {
          "symbol": "circle"
         },
         "mode": "lines",
         "name": "Réunion",
         "showlegend": true,
         "type": "scattergl",
         "x": [
          0,
          1,
          2,
          3,
          4
         ],
         "xaxis": "x",
         "y": [
          -0.5128141823684566,
          -0.6276590362418196,
          -0.6608455857111143,
          -0.7251378404450457,
          -0.755466860219495
         ],
         "yaxis": "y"
        },
        {
         "hovertemplate": "article=Puerto Rico<br>Step=%{x}<br>Cumulative difference=%{y}<extra></extra>",
         "legendgroup": "Puerto Rico",
         "line": {
          "color": "#FF97FF",
          "dash": "solid"
         },
         "marker": {
          "symbol": "circle"
         },
         "mode": "lines",
         "name": "Puerto Rico",
         "showlegend": true,
         "type": "scattergl",
         "x": [
          0,
          1,
          2,
          3,
          4
         ],
         "xaxis": "x",
         "y": [
          -0.5324521434476372,
          -2.576597200781407,
          -2.7925384109491778,
          -2.867496985298886,
          -2.7505258609229557
         ],
         "yaxis": "y"
        },
        {
         "hovertemplate": "article=Maldives<br>Step=%{x}<br>Cumulative difference=%{y}<extra></extra>",
         "legendgroup": "Maldives",
         "line": {
          "color": "#FECB52",
          "dash": "solid"
         },
         "marker": {
          "symbol": "circle"
         },
         "mode": "lines",
         "name": "Maldives",
         "showlegend": true,
         "type": "scattergl",
         "x": [
          0,
          1,
          2,
          3,
          4
         ],
         "xaxis": "x",
         "y": [
          -0.5335057864882438,
          -0.8943864678386764,
          -0.9739174809734202,
          -0.9749865444149936,
          -0.9640391533172011
         ],
         "yaxis": "y"
        },
        {
         "hovertemplate": "article=Central African Republic<br>Step=%{x}<br>Cumulative difference=%{y}<extra></extra>",
         "legendgroup": "Central African Republic",
         "line": {
          "color": "#636efa",
          "dash": "solid"
         },
         "marker": {
          "symbol": "circle"
         },
         "mode": "lines",
         "name": "Central African Republic",
         "showlegend": true,
         "type": "scattergl",
         "x": [
          0,
          1,
          2,
          3,
          4
         ],
         "xaxis": "x",
         "y": [
          -0.5373553785825792,
          -0.0836842224970005,
          -0.43994342388863933,
          -1.0971302030268664,
          -1.3017511449374553
         ],
         "yaxis": "y"
        },
        {
         "hovertemplate": "article=São Tomé and Príncipe<br>Step=%{x}<br>Cumulative difference=%{y}<extra></extra>",
         "legendgroup": "São Tomé and Príncipe",
         "line": {
          "color": "#EF553B",
          "dash": "solid"
         },
         "marker": {
          "symbol": "circle"
         },
         "mode": "lines",
         "name": "São Tomé and Príncipe",
         "showlegend": true,
         "type": "scattergl",
         "x": [
          0,
          1,
          2,
          3,
          4
         ],
         "xaxis": "x",
         "y": [
          -0.5400523708531288,
          -0.8606430050215808,
          -0.9835182478355705,
          -1.0617262531997862,
          -0.6115298652696742
         ],
         "yaxis": "y"
        },
        {
         "hovertemplate": "article=Republic of Macedonia<br>Step=%{x}<br>Cumulative difference=%{y}<extra></extra>",
         "legendgroup": "Republic of Macedonia",
         "line": {
          "color": "#00cc96",
          "dash": "solid"
         },
         "marker": {
          "symbol": "circle"
         },
         "mode": "lines",
         "name": "Republic of Macedonia",
         "showlegend": true,
         "type": "scattergl",
         "x": [
          0,
          1,
          2,
          3,
          4
         ],
         "xaxis": "x",
         "y": [
          -0.5411150691782896,
          -1.0377605948461084,
          -1.2018225512906426,
          -1.3126124005102333,
          -1.5083629782989734
         ],
         "yaxis": "y"
        },
        {
         "hovertemplate": "article=Vatican City<br>Step=%{x}<br>Cumulative difference=%{y}<extra></extra>",
         "legendgroup": "Vatican City",
         "line": {
          "color": "#ab63fa",
          "dash": "solid"
         },
         "marker": {
          "symbol": "circle"
         },
         "mode": "lines",
         "name": "Vatican City",
         "showlegend": true,
         "type": "scattergl",
         "x": [
          0,
          1,
          2,
          3,
          4
         ],
         "xaxis": "x",
         "y": [
          -0.5523987717216841,
          -4.127777917910745,
          -4.369234832335063,
          -5.054015129756619,
          -5.35897826244593
         ],
         "yaxis": "y"
        },
        {
         "hovertemplate": "article=Cambodia<br>Step=%{x}<br>Cumulative difference=%{y}<extra></extra>",
         "legendgroup": "Cambodia",
         "line": {
          "color": "#FFA15A",
          "dash": "solid"
         },
         "marker": {
          "symbol": "circle"
         },
         "mode": "lines",
         "name": "Cambodia",
         "showlegend": true,
         "type": "scattergl",
         "x": [
          0,
          1,
          2,
          3,
          4
         ],
         "xaxis": "x",
         "y": [
          -0.5529742879925118,
          -1.6170202418114008,
          -1.8132087658953853,
          -1.9696077123724236,
          -0.7996189078157088
         ],
         "yaxis": "y"
        },
        {
         "hovertemplate": "article=Cook Islands<br>Step=%{x}<br>Cumulative difference=%{y}<extra></extra>",
         "legendgroup": "Cook Islands",
         "line": {
          "color": "#19d3f3",
          "dash": "solid"
         },
         "marker": {
          "symbol": "circle"
         },
         "mode": "lines",
         "name": "Cook Islands",
         "showlegend": true,
         "type": "scattergl",
         "x": [
          0,
          1,
          2,
          3,
          4
         ],
         "xaxis": "x",
         "y": [
          -0.5538161335415344,
          -0.5390201796352906,
          -0.5082798975419108,
          -0.530688655292644,
          -0.5406856073243081
         ],
         "yaxis": "y"
        },
        {
         "hovertemplate": "article=Montserrat<br>Step=%{x}<br>Cumulative difference=%{y}<extra></extra>",
         "legendgroup": "Montserrat",
         "line": {
          "color": "#FF6692",
          "dash": "solid"
         },
         "marker": {
          "symbol": "circle"
         },
         "mode": "lines",
         "name": "Montserrat",
         "showlegend": true,
         "type": "scattergl",
         "x": [
          0,
          1,
          2,
          3,
          4
         ],
         "xaxis": "x",
         "y": [
          -0.5573107372001513,
          -1.1936838562418777,
          -1.0557854101669084,
          -1.0056901479609242,
          -0.9665556656434441
         ],
         "yaxis": "y"
        },
        {
         "hovertemplate": "article=Lebanon<br>Step=%{x}<br>Cumulative difference=%{y}<extra></extra>",
         "legendgroup": "Lebanon",
         "line": {
          "color": "#B6E880",
          "dash": "solid"
         },
         "marker": {
          "symbol": "circle"
         },
         "mode": "lines",
         "name": "Lebanon",
         "showlegend": true,
         "type": "scattergl",
         "x": [
          0,
          1,
          2,
          3,
          4
         ],
         "xaxis": "x",
         "y": [
          -0.5607304217668058,
          -2.8686432626065197,
          -4.154247443793191,
          -4.189970799022908,
          -4.818648141849845
         ],
         "yaxis": "y"
        },
        {
         "hovertemplate": "article=Eritrea<br>Step=%{x}<br>Cumulative difference=%{y}<extra></extra>",
         "legendgroup": "Eritrea",
         "line": {
          "color": "#FF97FF",
          "dash": "solid"
         },
         "marker": {
          "symbol": "circle"
         },
         "mode": "lines",
         "name": "Eritrea",
         "showlegend": true,
         "type": "scattergl",
         "x": [
          0,
          1,
          2,
          3,
          4
         ],
         "xaxis": "x",
         "y": [
          -0.5653470021651047,
          -1.4339805238710734,
          -1.2634492589446953,
          -1.2437092591006818,
          -1.3555823094950306
         ],
         "yaxis": "y"
        },
        {
         "hovertemplate": "article=Mali<br>Step=%{x}<br>Cumulative difference=%{y}<extra></extra>",
         "legendgroup": "Mali",
         "line": {
          "color": "#FECB52",
          "dash": "solid"
         },
         "marker": {
          "symbol": "circle"
         },
         "mode": "lines",
         "name": "Mali",
         "showlegend": true,
         "type": "scattergl",
         "x": [
          0,
          1,
          2,
          3,
          4
         ],
         "xaxis": "x",
         "y": [
          -0.5677595796892001,
          -2.0247208911916954,
          -1.8051961891286807,
          -2.122983222210068,
          -2.0838682922825504
         ],
         "yaxis": "y"
        },
        {
         "hovertemplate": "article=Belize<br>Step=%{x}<br>Cumulative difference=%{y}<extra></extra>",
         "legendgroup": "Belize",
         "line": {
          "color": "#636efa",
          "dash": "solid"
         },
         "marker": {
          "symbol": "circle"
         },
         "mode": "lines",
         "name": "Belize",
         "showlegend": true,
         "type": "scattergl",
         "x": [
          0,
          1,
          2,
          3,
          4
         ],
         "xaxis": "x",
         "y": [
          -0.5703758768006514,
          -1.8063155672888047,
          -1.7444380025205448,
          -1.6615372628808864,
          -1.7501153101678988
         ],
         "yaxis": "y"
        },
        {
         "hovertemplate": "article=Vanuatu<br>Step=%{x}<br>Cumulative difference=%{y}<extra></extra>",
         "legendgroup": "Vanuatu",
         "line": {
          "color": "#EF553B",
          "dash": "solid"
         },
         "marker": {
          "symbol": "circle"
         },
         "mode": "lines",
         "name": "Vanuatu",
         "showlegend": true,
         "type": "scattergl",
         "x": [
          0,
          1,
          2,
          3,
          4
         ],
         "xaxis": "x",
         "y": [
          -0.5733937263408624,
          -0.9138601202126633,
          -0.9491346597993437,
          -0.9243180684645463,
          -0.356289942270055
         ],
         "yaxis": "y"
        },
        {
         "hovertemplate": "article=Saint Lucia<br>Step=%{x}<br>Cumulative difference=%{y}<extra></extra>",
         "legendgroup": "Saint Lucia",
         "line": {
          "color": "#00cc96",
          "dash": "solid"
         },
         "marker": {
          "symbol": "circle"
         },
         "mode": "lines",
         "name": "Saint Lucia",
         "showlegend": true,
         "type": "scattergl",
         "x": [
          0,
          1,
          2,
          3,
          4
         ],
         "xaxis": "x",
         "y": [
          -0.5909079034938308,
          -0.955101546867122,
          -0.9596048900160308,
          -0.9760107676823172,
          -1.0024005688163948
         ],
         "yaxis": "y"
        },
        {
         "hovertemplate": "article=Bahrain<br>Step=%{x}<br>Cumulative difference=%{y}<extra></extra>",
         "legendgroup": "Bahrain",
         "line": {
          "color": "#ab63fa",
          "dash": "solid"
         },
         "marker": {
          "symbol": "circle"
         },
         "mode": "lines",
         "name": "Bahrain",
         "showlegend": true,
         "type": "scattergl",
         "x": [
          0,
          1,
          2,
          3,
          4
         ],
         "xaxis": "x",
         "y": [
          -0.6066863483095528,
          -1.3530113952878893,
          -1.6344391911636653,
          -1.630527266247412,
          -1.3660689450128156
         ],
         "yaxis": "y"
        },
        {
         "hovertemplate": "article=Liechtenstein<br>Step=%{x}<br>Cumulative difference=%{y}<extra></extra>",
         "legendgroup": "Liechtenstein",
         "line": {
          "color": "#FFA15A",
          "dash": "solid"
         },
         "marker": {
          "symbol": "circle"
         },
         "mode": "lines",
         "name": "Liechtenstein",
         "showlegend": true,
         "type": "scattergl",
         "x": [
          0,
          1,
          2,
          3,
          4
         ],
         "xaxis": "x",
         "y": [
          -0.6201933491432674,
          -1.852769279139023,
          -2.2065230700980942,
          -2.4237055974747306,
          -2.552050590883883
         ],
         "yaxis": "y"
        },
        {
         "hovertemplate": "article=Moldova<br>Step=%{x}<br>Cumulative difference=%{y}<extra></extra>",
         "legendgroup": "Moldova",
         "line": {
          "color": "#19d3f3",
          "dash": "solid"
         },
         "marker": {
          "symbol": "circle"
         },
         "mode": "lines",
         "name": "Moldova",
         "showlegend": true,
         "type": "scattergl",
         "x": [
          0,
          1,
          2,
          3,
          4
         ],
         "xaxis": "x",
         "y": [
          -0.6216282141486483,
          -1.3652930680341058,
          -1.9855109771771209,
          -1.8680082351606282,
          -1.8641503970723874
         ],
         "yaxis": "y"
        },
        {
         "hovertemplate": "article=Malaysia<br>Step=%{x}<br>Cumulative difference=%{y}<extra></extra>",
         "legendgroup": "Malaysia",
         "line": {
          "color": "#FF6692",
          "dash": "solid"
         },
         "marker": {
          "symbol": "circle"
         },
         "mode": "lines",
         "name": "Malaysia",
         "showlegend": true,
         "type": "scattergl",
         "x": [
          0,
          1,
          2,
          3,
          4
         ],
         "xaxis": "x",
         "y": [
          -0.6262943446913072,
          -3.2210843720680744,
          -2.6996199876083726,
          -3.3054050055362354,
          -3.649105280712641
         ],
         "yaxis": "y"
        },
        {
         "hovertemplate": "article=Bhutan<br>Step=%{x}<br>Cumulative difference=%{y}<extra></extra>",
         "legendgroup": "Bhutan",
         "line": {
          "color": "#B6E880",
          "dash": "solid"
         },
         "marker": {
          "symbol": "circle"
         },
         "mode": "lines",
         "name": "Bhutan",
         "showlegend": true,
         "type": "scattergl",
         "x": [
          0,
          1,
          2,
          3,
          4
         ],
         "xaxis": "x",
         "y": [
          -0.6298255365027197,
          -0.9945494924223677,
          -0.9973083395060072,
          -1.106739230327988,
          -1.075398480394516
         ],
         "yaxis": "y"
        },
        {
         "hovertemplate": "article=Guam<br>Step=%{x}<br>Cumulative difference=%{y}<extra></extra>",
         "legendgroup": "Guam",
         "line": {
          "color": "#FF97FF",
          "dash": "solid"
         },
         "marker": {
          "symbol": "circle"
         },
         "mode": "lines",
         "name": "Guam",
         "showlegend": true,
         "type": "scattergl",
         "x": [
          0,
          1,
          2,
          3,
          4
         ],
         "xaxis": "x",
         "y": [
          -0.6403047463624423,
          -1.52516136022994,
          -1.4031743104143715,
          -0.9821930169592397,
          -0.3288909140493411
         ],
         "yaxis": "y"
        },
        {
         "hovertemplate": "article=East Timor<br>Step=%{x}<br>Cumulative difference=%{y}<extra></extra>",
         "legendgroup": "East Timor",
         "line": {
          "color": "#FECB52",
          "dash": "solid"
         },
         "marker": {
          "symbol": "circle"
         },
         "mode": "lines",
         "name": "East Timor",
         "showlegend": true,
         "type": "scattergl",
         "x": [
          0,
          1,
          2,
          3,
          4
         ],
         "xaxis": "x",
         "y": [
          -0.6447367094879601,
          -1.043406839747094,
          -1.6000218656736083,
          -1.8514906436719474,
          -0.8238248934313596
         ],
         "yaxis": "y"
        },
        {
         "hovertemplate": "article=Brunei<br>Step=%{x}<br>Cumulative difference=%{y}<extra></extra>",
         "legendgroup": "Brunei",
         "line": {
          "color": "#636efa",
          "dash": "solid"
         },
         "marker": {
          "symbol": "circle"
         },
         "mode": "lines",
         "name": "Brunei",
         "showlegend": true,
         "type": "scattergl",
         "x": [
          0,
          1,
          2,
          3,
          4
         ],
         "xaxis": "x",
         "y": [
          -0.6458048545398929,
          -1.1451115811390113,
          -1.1798581189009254,
          -1.18857109278453,
          -1.383220099868147
         ],
         "yaxis": "y"
        },
        {
         "hovertemplate": "article=Djibouti<br>Step=%{x}<br>Cumulative difference=%{y}<extra></extra>",
         "legendgroup": "Djibouti",
         "line": {
          "color": "#EF553B",
          "dash": "solid"
         },
         "marker": {
          "symbol": "circle"
         },
         "mode": "lines",
         "name": "Djibouti",
         "showlegend": true,
         "type": "scattergl",
         "x": [
          0,
          1,
          2,
          3,
          4
         ],
         "xaxis": "x",
         "y": [
          -0.663488438601489,
          -0.9968619662742771,
          -1.1521894564960191,
          -1.3411450660846167,
          -1.0643131730801065
         ],
         "yaxis": "y"
        },
        {
         "hovertemplate": "article=Tajikistan<br>Step=%{x}<br>Cumulative difference=%{y}<extra></extra>",
         "legendgroup": "Tajikistan",
         "line": {
          "color": "#00cc96",
          "dash": "solid"
         },
         "marker": {
          "symbol": "circle"
         },
         "mode": "lines",
         "name": "Tajikistan",
         "showlegend": true,
         "type": "scattergl",
         "x": [
          0,
          1,
          2,
          3,
          4
         ],
         "xaxis": "x",
         "y": [
          -0.674188952173673,
          -1.0462394200812213,
          -1.2256961206052785,
          -0.3976362589148318,
          -1.3981747699538
         ],
         "yaxis": "y"
        },
        {
         "hovertemplate": "article=Gabon<br>Step=%{x}<br>Cumulative difference=%{y}<extra></extra>",
         "legendgroup": "Gabon",
         "line": {
          "color": "#ab63fa",
          "dash": "solid"
         },
         "marker": {
          "symbol": "circle"
         },
         "mode": "lines",
         "name": "Gabon",
         "showlegend": true,
         "type": "scattergl",
         "x": [
          0,
          1,
          2,
          3,
          4
         ],
         "xaxis": "x",
         "y": [
          -0.6748489026983934,
          -1.583719574182412,
          -1.7089729237709474,
          -1.8996423162822431,
          -1.9815793543056752
         ],
         "yaxis": "y"
        },
        {
         "hovertemplate": "article=Tonga<br>Step=%{x}<br>Cumulative difference=%{y}<extra></extra>",
         "legendgroup": "Tonga",
         "line": {
          "color": "#FFA15A",
          "dash": "solid"
         },
         "marker": {
          "symbol": "circle"
         },
         "mode": "lines",
         "name": "Tonga",
         "showlegend": true,
         "type": "scattergl",
         "x": [
          0,
          1,
          2,
          3,
          4
         ],
         "xaxis": "x",
         "y": [
          -0.6779900386286624,
          -0.5078557558688959,
          -0.4759376491796806,
          -0.4493928678006358,
          -0.010925597789249746
         ],
         "yaxis": "y"
        },
        {
         "hovertemplate": "article=Turkmenistan<br>Step=%{x}<br>Cumulative difference=%{y}<extra></extra>",
         "legendgroup": "Turkmenistan",
         "line": {
          "color": "#19d3f3",
          "dash": "solid"
         },
         "marker": {
          "symbol": "circle"
         },
         "mode": "lines",
         "name": "Turkmenistan",
         "showlegend": true,
         "type": "scattergl",
         "x": [
          0,
          1,
          2,
          3,
          4
         ],
         "xaxis": "x",
         "y": [
          -0.6898253490005442,
          -1.4282019525763805,
          -1.7101308177728816,
          -1.833286885816045,
          -2.1960587287206677
         ],
         "yaxis": "y"
        },
        {
         "hovertemplate": "article=Dubai<br>Step=%{x}<br>Cumulative difference=%{y}<extra></extra>",
         "legendgroup": "Dubai",
         "line": {
          "color": "#FF6692",
          "dash": "solid"
         },
         "marker": {
          "symbol": "circle"
         },
         "mode": "lines",
         "name": "Dubai",
         "showlegend": true,
         "type": "scattergl",
         "x": [
          0,
          1,
          2,
          3,
          4
         ],
         "xaxis": "x",
         "y": [
          -0.6922622558713549,
          -0.6021201295425707,
          0.8306453352559878,
          -0.05741094181852588,
          -0.2417533095087416
         ],
         "yaxis": "y"
        },
        {
         "hovertemplate": "article=Guatemala<br>Step=%{x}<br>Cumulative difference=%{y}<extra></extra>",
         "legendgroup": "Guatemala",
         "line": {
          "color": "#B6E880",
          "dash": "solid"
         },
         "marker": {
          "symbol": "circle"
         },
         "mode": "lines",
         "name": "Guatemala",
         "showlegend": true,
         "type": "scattergl",
         "x": [
          0,
          1,
          2,
          3,
          4
         ],
         "xaxis": "x",
         "y": [
          -0.6925461399870554,
          -1.2625859421046715,
          -1.4417149022542624,
          -1.4524677973369655,
          0.32955668351804335
         ],
         "yaxis": "y"
        },
        {
         "hovertemplate": "article=Martinique<br>Step=%{x}<br>Cumulative difference=%{y}<extra></extra>",
         "legendgroup": "Martinique",
         "line": {
          "color": "#FF97FF",
          "dash": "solid"
         },
         "marker": {
          "symbol": "circle"
         },
         "mode": "lines",
         "name": "Martinique",
         "showlegend": true,
         "type": "scattergl",
         "x": [
          0,
          1,
          2,
          3,
          4
         ],
         "xaxis": "x",
         "y": [
          -0.6988182836301289,
          -1.0311834059197025,
          -1.2186047339456827,
          -1.3212968653140513,
          -1.2231794132372389
         ],
         "yaxis": "y"
        },
        {
         "hovertemplate": "article=Guyana<br>Step=%{x}<br>Cumulative difference=%{y}<extra></extra>",
         "legendgroup": "Guyana",
         "line": {
          "color": "#FECB52",
          "dash": "solid"
         },
         "marker": {
          "symbol": "circle"
         },
         "mode": "lines",
         "name": "Guyana",
         "showlegend": true,
         "type": "scattergl",
         "x": [
          0,
          1,
          2,
          3,
          4
         ],
         "xaxis": "x",
         "y": [
          -0.7110753248149738,
          -1.3500815936291617,
          -0.10370592253158822,
          -1.492245148475378,
          -1.376186273745832
         ],
         "yaxis": "y"
        },
        {
         "hovertemplate": "article=Liberia<br>Step=%{x}<br>Cumulative difference=%{y}<extra></extra>",
         "legendgroup": "Liberia",
         "line": {
          "color": "#636efa",
          "dash": "solid"
         },
         "marker": {
          "symbol": "circle"
         },
         "mode": "lines",
         "name": "Liberia",
         "showlegend": true,
         "type": "scattergl",
         "x": [
          0,
          1,
          2,
          3,
          4
         ],
         "xaxis": "x",
         "y": [
          -0.7137408426315144,
          -2.37662654307293,
          -2.455109289811141,
          -2.301623616139237,
          -2.5025482483157147
         ],
         "yaxis": "y"
        },
        {
         "hovertemplate": "article=Falkland Islands<br>Step=%{x}<br>Cumulative difference=%{y}<extra></extra>",
         "legendgroup": "Falkland Islands",
         "line": {
          "color": "#EF553B",
          "dash": "solid"
         },
         "marker": {
          "symbol": "circle"
         },
         "mode": "lines",
         "name": "Falkland Islands",
         "showlegend": true,
         "type": "scattergl",
         "x": [
          0,
          1,
          2,
          3,
          4
         ],
         "xaxis": "x",
         "y": [
          -0.7258941528025612,
          -0.8408714595714786,
          -0.7912663651933931,
          -0.7860731702891636,
          -0.7388544631619985
         ],
         "yaxis": "y"
        },
        {
         "hovertemplate": "article=Samoa<br>Step=%{x}<br>Cumulative difference=%{y}<extra></extra>",
         "legendgroup": "Samoa",
         "line": {
          "color": "#00cc96",
          "dash": "solid"
         },
         "marker": {
          "symbol": "circle"
         },
         "mode": "lines",
         "name": "Samoa",
         "showlegend": true,
         "type": "scattergl",
         "x": [
          0,
          1,
          2,
          3,
          4
         ],
         "xaxis": "x",
         "y": [
          -0.7276629084945025,
          -0.690560441034085,
          0.2656098861139504,
          -0.7570118523372673,
          -0.26736078946796077
         ],
         "yaxis": "y"
        },
        {
         "hovertemplate": "article=Cyprus<br>Step=%{x}<br>Cumulative difference=%{y}<extra></extra>",
         "legendgroup": "Cyprus",
         "line": {
          "color": "#ab63fa",
          "dash": "solid"
         },
         "marker": {
          "symbol": "circle"
         },
         "mode": "lines",
         "name": "Cyprus",
         "showlegend": true,
         "type": "scattergl",
         "x": [
          0,
          1,
          2,
          3,
          4
         ],
         "xaxis": "x",
         "y": [
          -0.7369081946013903,
          -2.986306393000148,
          -3.3438415739120586,
          -4.295097452453514,
          -4.604299672564327
         ],
         "yaxis": "y"
        },
        {
         "hovertemplate": "article=Namibia<br>Step=%{x}<br>Cumulative difference=%{y}<extra></extra>",
         "legendgroup": "Namibia",
         "line": {
          "color": "#FFA15A",
          "dash": "solid"
         },
         "marker": {
          "symbol": "circle"
         },
         "mode": "lines",
         "name": "Namibia",
         "showlegend": true,
         "type": "scattergl",
         "x": [
          0,
          1,
          2,
          3,
          4
         ],
         "xaxis": "x",
         "y": [
          -0.7523240685473925,
          -1.7209780574518765,
          -1.6197410593860355,
          -1.654398368888367,
          -2.332102861939964
         ],
         "yaxis": "y"
        },
        {
         "hovertemplate": "article=Montenegro<br>Step=%{x}<br>Cumulative difference=%{y}<extra></extra>",
         "legendgroup": "Montenegro",
         "line": {
          "color": "#19d3f3",
          "dash": "solid"
         },
         "marker": {
          "symbol": "circle"
         },
         "mode": "lines",
         "name": "Montenegro",
         "showlegend": true,
         "type": "scattergl",
         "x": [
          0,
          1,
          2,
          3,
          4
         ],
         "xaxis": "x",
         "y": [
          -0.7532865380826326,
          -1.7329486393481595,
          -1.9544932745471337,
          -2.381876172209659,
          -2.8838112828464344
         ],
         "yaxis": "y"
        },
        {
         "hovertemplate": "article=Western Sahara<br>Step=%{x}<br>Cumulative difference=%{y}<extra></extra>",
         "legendgroup": "Western Sahara",
         "line": {
          "color": "#FF6692",
          "dash": "solid"
         },
         "marker": {
          "symbol": "circle"
         },
         "mode": "lines",
         "name": "Western Sahara",
         "showlegend": true,
         "type": "scattergl",
         "x": [
          0,
          1,
          2,
          3,
          4
         ],
         "xaxis": "x",
         "y": [
          -0.761087116384578,
          -0.9435964046127596,
          -1.5187575717044262,
          -1.420305835267575,
          -1.4787533753155824
         ],
         "yaxis": "y"
        },
        {
         "hovertemplate": "article=Azerbaijan<br>Step=%{x}<br>Cumulative difference=%{y}<extra></extra>",
         "legendgroup": "Azerbaijan",
         "line": {
          "color": "#B6E880",
          "dash": "solid"
         },
         "marker": {
          "symbol": "circle"
         },
         "mode": "lines",
         "name": "Azerbaijan",
         "showlegend": true,
         "type": "scattergl",
         "x": [
          0,
          1,
          2,
          3,
          4
         ],
         "xaxis": "x",
         "y": [
          -0.7852287032433494,
          -2.8232174520746782,
          -3.368842512553788,
          -3.4854381936460292,
          -3.7410733502657516
         ],
         "yaxis": "y"
        },
        {
         "hovertemplate": "article=Serbia<br>Step=%{x}<br>Cumulative difference=%{y}<extra></extra>",
         "legendgroup": "Serbia",
         "line": {
          "color": "#FF97FF",
          "dash": "solid"
         },
         "marker": {
          "symbol": "circle"
         },
         "mode": "lines",
         "name": "Serbia",
         "showlegend": true,
         "type": "scattergl",
         "x": [
          0,
          1,
          2,
          3,
          4
         ],
         "xaxis": "x",
         "y": [
          -0.7903230263760935,
          -1.9324646889711632,
          -1.6219642683503148,
          -3.2194907009323064,
          -4.5861648848137015
         ],
         "yaxis": "y"
        },
        {
         "hovertemplate": "article=Paraguay<br>Step=%{x}<br>Cumulative difference=%{y}<extra></extra>",
         "legendgroup": "Paraguay",
         "line": {
          "color": "#FECB52",
          "dash": "solid"
         },
         "marker": {
          "symbol": "circle"
         },
         "mode": "lines",
         "name": "Paraguay",
         "showlegend": true,
         "type": "scattergl",
         "x": [
          0,
          1,
          2,
          3,
          4
         ],
         "xaxis": "x",
         "y": [
          -0.7998825175770027,
          -1.4451153332696942,
          -1.688507164319078,
          -1.9168281420173578,
          -1.8659792618310773
         ],
         "yaxis": "y"
        },
        {
         "hovertemplate": "article=Malawi<br>Step=%{x}<br>Cumulative difference=%{y}<extra></extra>",
         "legendgroup": "Malawi",
         "line": {
          "color": "#636efa",
          "dash": "solid"
         },
         "marker": {
          "symbol": "circle"
         },
         "mode": "lines",
         "name": "Malawi",
         "showlegend": true,
         "type": "scattergl",
         "x": [
          0,
          1,
          2,
          3,
          4
         ],
         "xaxis": "x",
         "y": [
          -0.8173733429475666,
          -1.0353732445338741,
          -0.9488321848524509,
          -0.8681557107838889,
          -0.012595991485903565
         ],
         "yaxis": "y"
        },
        {
         "hovertemplate": "article=Costa Rica<br>Step=%{x}<br>Cumulative difference=%{y}<extra></extra>",
         "legendgroup": "Costa Rica",
         "line": {
          "color": "#EF553B",
          "dash": "solid"
         },
         "marker": {
          "symbol": "circle"
         },
         "mode": "lines",
         "name": "Costa Rica",
         "showlegend": true,
         "type": "scattergl",
         "x": [
          0,
          1,
          2,
          3,
          4
         ],
         "xaxis": "x",
         "y": [
          -0.8173763430814814,
          -1.7742002599740982,
          -1.723877864248962,
          -1.9517227365123626,
          -1.7345221512022972
         ],
         "yaxis": "y"
        },
        {
         "hovertemplate": "article=Cape Verde<br>Step=%{x}<br>Cumulative difference=%{y}<extra></extra>",
         "legendgroup": "Cape Verde",
         "line": {
          "color": "#00cc96",
          "dash": "solid"
         },
         "marker": {
          "symbol": "circle"
         },
         "mode": "lines",
         "name": "Cape Verde",
         "showlegend": true,
         "type": "scattergl",
         "x": [
          0,
          1,
          2,
          3,
          4
         ],
         "xaxis": "x",
         "y": [
          -0.8319037679588724,
          -1.0061220365980235,
          -1.4766589420350817,
          -1.5994147718024114,
          -0.8455217850229091
         ],
         "yaxis": "y"
        },
        {
         "hovertemplate": "article=Bosnia and Herzegovina<br>Step=%{x}<br>Cumulative difference=%{y}<extra></extra>",
         "legendgroup": "Bosnia and Herzegovina",
         "line": {
          "color": "#ab63fa",
          "dash": "solid"
         },
         "marker": {
          "symbol": "circle"
         },
         "mode": "lines",
         "name": "Bosnia and Herzegovina",
         "showlegend": true,
         "type": "scattergl",
         "x": [
          0,
          1,
          2,
          3,
          4
         ],
         "xaxis": "x",
         "y": [
          -0.8356899108773491,
          -2.352668962511408,
          -2.5437548016479927,
          -1.9089404695287309,
          -3.1061245562991875
         ],
         "yaxis": "y"
        },
        {
         "hovertemplate": "article=Canada<br>Step=%{x}<br>Cumulative difference=%{y}<extra></extra>",
         "legendgroup": "Canada",
         "line": {
          "color": "#FFA15A",
          "dash": "solid"
         },
         "marker": {
          "symbol": "circle"
         },
         "mode": "lines",
         "name": "Canada",
         "showlegend": true,
         "type": "scattergl",
         "x": [
          0,
          1,
          2,
          3,
          4
         ],
         "xaxis": "x",
         "y": [
          -0.8511193816830621,
          -5.104204614343853,
          -13.66449582670201,
          -13.309626136532076,
          -14.337633839956808
         ],
         "yaxis": "y"
        },
        {
         "hovertemplate": "article=Slovenia<br>Step=%{x}<br>Cumulative difference=%{y}<extra></extra>",
         "legendgroup": "Slovenia",
         "line": {
          "color": "#19d3f3",
          "dash": "solid"
         },
         "marker": {
          "symbol": "circle"
         },
         "mode": "lines",
         "name": "Slovenia",
         "showlegend": true,
         "type": "scattergl",
         "x": [
          0,
          1,
          2,
          3,
          4
         ],
         "xaxis": "x",
         "y": [
          -0.8526247011458867,
          -2.9102828703222325,
          -3.2890993951838867,
          -4.0695138005468365,
          -4.5494370078040225
         ],
         "yaxis": "y"
        },
        {
         "hovertemplate": "article=Kosovo<br>Step=%{x}<br>Cumulative difference=%{y}<extra></extra>",
         "legendgroup": "Kosovo",
         "line": {
          "color": "#FF6692",
          "dash": "solid"
         },
         "marker": {
          "symbol": "circle"
         },
         "mode": "lines",
         "name": "Kosovo",
         "showlegend": true,
         "type": "scattergl",
         "x": [
          0,
          1,
          2,
          3,
          4
         ],
         "xaxis": "x",
         "y": [
          -0.8668610508740966,
          -1.2065553154056499,
          -1.6262189698388259,
          -1.7771955663811085,
          -1.896218918490986
         ],
         "yaxis": "y"
        },
        {
         "hovertemplate": "article=Algeria<br>Step=%{x}<br>Cumulative difference=%{y}<extra></extra>",
         "legendgroup": "Algeria",
         "line": {
          "color": "#B6E880",
          "dash": "solid"
         },
         "marker": {
          "symbol": "circle"
         },
         "mode": "lines",
         "name": "Algeria",
         "showlegend": true,
         "type": "scattergl",
         "x": [
          0,
          1,
          2,
          3,
          4
         ],
         "xaxis": "x",
         "y": [
          -0.8738761064806606,
          -3.157315223472091,
          -4.246073468531439,
          -4.374427463450535,
          -5.189305787616098
         ],
         "yaxis": "y"
        },
        {
         "hovertemplate": "article=Mauritius<br>Step=%{x}<br>Cumulative difference=%{y}<extra></extra>",
         "legendgroup": "Mauritius",
         "line": {
          "color": "#FF97FF",
          "dash": "solid"
         },
         "marker": {
          "symbol": "circle"
         },
         "mode": "lines",
         "name": "Mauritius",
         "showlegend": true,
         "type": "scattergl",
         "x": [
          0,
          1,
          2,
          3,
          4
         ],
         "xaxis": "x",
         "y": [
          -0.8821787962843514,
          -1.7393958294638105,
          -1.8401784418528067,
          -1.8720662554023777,
          -1.861122094384423
         ],
         "yaxis": "y"
        },
        {
         "hovertemplate": "article=Côte d'Ivoire<br>Step=%{x}<br>Cumulative difference=%{y}<extra></extra>",
         "legendgroup": "Côte d'Ivoire",
         "line": {
          "color": "#FECB52",
          "dash": "solid"
         },
         "marker": {
          "symbol": "circle"
         },
         "mode": "lines",
         "name": "Côte d'Ivoire",
         "showlegend": true,
         "type": "scattergl",
         "x": [
          0,
          1,
          2,
          3,
          4
         ],
         "xaxis": "x",
         "y": [
          -0.8877112883253379,
          -1.9818859280239804,
          -2.016654111141014,
          -1.2739625754710515,
          -2.364868022918309
         ],
         "yaxis": "y"
        },
        {
         "hovertemplate": "article=Swaziland<br>Step=%{x}<br>Cumulative difference=%{y}<extra></extra>",
         "legendgroup": "Swaziland",
         "line": {
          "color": "#636efa",
          "dash": "solid"
         },
         "marker": {
          "symbol": "circle"
         },
         "mode": "lines",
         "name": "Swaziland",
         "showlegend": true,
         "type": "scattergl",
         "x": [
          0,
          1,
          2,
          3,
          4
         ],
         "xaxis": "x",
         "y": [
          -0.8919278398072845,
          -1.337561984882532,
          -1.302533062374525,
          -1.3354962485134116,
          -1.2629135492135846
         ],
         "yaxis": "y"
        },
        {
         "hovertemplate": "article=New Zealand<br>Step=%{x}<br>Cumulative difference=%{y}<extra></extra>",
         "legendgroup": "New Zealand",
         "line": {
          "color": "#EF553B",
          "dash": "solid"
         },
         "marker": {
          "symbol": "circle"
         },
         "mode": "lines",
         "name": "New Zealand",
         "showlegend": true,
         "type": "scattergl",
         "x": [
          0,
          1,
          2,
          3,
          4
         ],
         "xaxis": "x",
         "y": [
          -0.8955189810727863,
          -6.317552869998525,
          -7.801126297583555,
          -7.991177342199997,
          -8.209027463661513
         ],
         "yaxis": "y"
        },
        {
         "hovertemplate": "article=Kyrgyzstan<br>Step=%{x}<br>Cumulative difference=%{y}<extra></extra>",
         "legendgroup": "Kyrgyzstan",
         "line": {
          "color": "#00cc96",
          "dash": "solid"
         },
         "marker": {
          "symbol": "circle"
         },
         "mode": "lines",
         "name": "Kyrgyzstan",
         "showlegend": true,
         "type": "scattergl",
         "x": [
          0,
          1,
          2,
          3,
          4
         ],
         "xaxis": "x",
         "y": [
          -0.902234820782585,
          -1.1708083646260063,
          -1.2316892318948813,
          -1.260278443062088,
          -1.5393325859768732
         ],
         "yaxis": "y"
        },
        {
         "hovertemplate": "article=Papua New Guinea<br>Step=%{x}<br>Cumulative difference=%{y}<extra></extra>",
         "legendgroup": "Papua New Guinea",
         "line": {
          "color": "#ab63fa",
          "dash": "solid"
         },
         "marker": {
          "symbol": "circle"
         },
         "mode": "lines",
         "name": "Papua New Guinea",
         "showlegend": true,
         "type": "scattergl",
         "x": [
          0,
          1,
          2,
          3,
          4
         ],
         "xaxis": "x",
         "y": [
          -0.906730189666849,
          -0.6397087991350217,
          -1.3294351571307457,
          -0.3211074519060773,
          -1.1336952304720638
         ],
         "yaxis": "y"
        },
        {
         "hovertemplate": "article=Uruguay<br>Step=%{x}<br>Cumulative difference=%{y}<extra></extra>",
         "legendgroup": "Uruguay",
         "line": {
          "color": "#FFA15A",
          "dash": "solid"
         },
         "marker": {
          "symbol": "circle"
         },
         "mode": "lines",
         "name": "Uruguay",
         "showlegend": true,
         "type": "scattergl",
         "x": [
          0,
          1,
          2,
          3,
          4
         ],
         "xaxis": "x",
         "y": [
          -0.9090943845209074,
          -1.709451511788769,
          -2.1024116202572567,
          -2.224224681377386,
          -2.14235732328008
         ],
         "yaxis": "y"
        },
        {
         "hovertemplate": "article=Nepal<br>Step=%{x}<br>Cumulative difference=%{y}<extra></extra>",
         "legendgroup": "Nepal",
         "line": {
          "color": "#19d3f3",
          "dash": "solid"
         },
         "marker": {
          "symbol": "circle"
         },
         "mode": "lines",
         "name": "Nepal",
         "showlegend": true,
         "type": "scattergl",
         "x": [
          0,
          1,
          2,
          3,
          4
         ],
         "xaxis": "x",
         "y": [
          -0.9176736594845925,
          -1.48269888933693,
          -2.4017319379869506,
          -2.4910267508495845,
          -2.861366284884044
         ],
         "yaxis": "y"
        },
        {
         "hovertemplate": "article=Republic of China<br>Step=%{x}<br>Cumulative difference=%{y}<extra></extra>",
         "legendgroup": "Republic of China",
         "line": {
          "color": "#FF6692",
          "dash": "solid"
         },
         "marker": {
          "symbol": "circle"
         },
         "mode": "lines",
         "name": "Republic of China",
         "showlegend": true,
         "type": "scattergl",
         "x": [
          0,
          1,
          2,
          3,
          4
         ],
         "xaxis": "x",
         "y": [
          -0.9273873793416292,
          -2.7596879878444525,
          -3.5811624604694985,
          -3.8377974439551004,
          -4.079166250174685
         ],
         "yaxis": "y"
        },
        {
         "hovertemplate": "article=Suriname<br>Step=%{x}<br>Cumulative difference=%{y}<extra></extra>",
         "legendgroup": "Suriname",
         "line": {
          "color": "#B6E880",
          "dash": "solid"
         },
         "marker": {
          "symbol": "circle"
         },
         "mode": "lines",
         "name": "Suriname",
         "showlegend": true,
         "type": "scattergl",
         "x": [
          0,
          1,
          2,
          3,
          4
         ],
         "xaxis": "x",
         "y": [
          -0.9301981264245083,
          -1.729306422687673,
          -2.029549339562515,
          -2.179997964641406,
          -2.277667301590489
         ],
         "yaxis": "y"
        },
        {
         "hovertemplate": "article=Greenland<br>Step=%{x}<br>Cumulative difference=%{y}<extra></extra>",
         "legendgroup": "Greenland",
         "line": {
          "color": "#FF97FF",
          "dash": "solid"
         },
         "marker": {
          "symbol": "circle"
         },
         "mode": "lines",
         "name": "Greenland",
         "showlegend": true,
         "type": "scattergl",
         "x": [
          0,
          1,
          2,
          3,
          4
         ],
         "xaxis": "x",
         "y": [
          -0.9365848583013279,
          -2.757232046040023,
          -2.8199493127431885,
          -1.90788535026767,
          -3.655490636520084
         ],
         "yaxis": "y"
        },
        {
         "hovertemplate": "article=Laos<br>Step=%{x}<br>Cumulative difference=%{y}<extra></extra>",
         "legendgroup": "Laos",
         "line": {
          "color": "#FECB52",
          "dash": "solid"
         },
         "marker": {
          "symbol": "circle"
         },
         "mode": "lines",
         "name": "Laos",
         "showlegend": true,
         "type": "scattergl",
         "x": [
          0,
          1,
          2,
          3,
          4
         ],
         "xaxis": "x",
         "y": [
          -0.9406219810271113,
          -1.7522764105182034,
          -2.0490042239201167,
          -2.286158803412118,
          -1.8562718047668867
         ],
         "yaxis": "y"
        },
        {
         "hovertemplate": "article=Guadeloupe<br>Step=%{x}<br>Cumulative difference=%{y}<extra></extra>",
         "legendgroup": "Guadeloupe",
         "line": {
          "color": "#636efa",
          "dash": "solid"
         },
         "marker": {
          "symbol": "circle"
         },
         "mode": "lines",
         "name": "Guadeloupe",
         "showlegend": true,
         "type": "scattergl",
         "x": [
          0,
          1,
          2,
          3,
          4
         ],
         "xaxis": "x",
         "y": [
          -0.9536093878725405,
          -1.0351991946570749,
          -0.6062122006593602,
          -1.1905616956175513,
          -1.2079760607105399
         ],
         "yaxis": "y"
        },
        {
         "hovertemplate": "article=Uzbekistan<br>Step=%{x}<br>Cumulative difference=%{y}<extra></extra>",
         "legendgroup": "Uzbekistan",
         "line": {
          "color": "#EF553B",
          "dash": "solid"
         },
         "marker": {
          "symbol": "circle"
         },
         "mode": "lines",
         "name": "Uzbekistan",
         "showlegend": true,
         "type": "scattergl",
         "x": [
          0,
          1,
          2,
          3,
          4
         ],
         "xaxis": "x",
         "y": [
          -0.9673199677106736,
          -1.360877307811959,
          -1.6374842655763144,
          -0.7767034334544717,
          -1.4799886179924262
         ],
         "yaxis": "y"
        },
        {
         "hovertemplate": "article=Albania<br>Step=%{x}<br>Cumulative difference=%{y}<extra></extra>",
         "legendgroup": "Albania",
         "line": {
          "color": "#00cc96",
          "dash": "solid"
         },
         "marker": {
          "symbol": "circle"
         },
         "mode": "lines",
         "name": "Albania",
         "showlegend": true,
         "type": "scattergl",
         "x": [
          0,
          1,
          2,
          3,
          4
         ],
         "xaxis": "x",
         "y": [
          -0.9734887078663942,
          -3.0425583827676994,
          -3.1660404846815378,
          -3.820252928458398,
          -4.00514752673652
         ],
         "yaxis": "y"
        },
        {
         "hovertemplate": "article=Kenya<br>Step=%{x}<br>Cumulative difference=%{y}<extra></extra>",
         "legendgroup": "Kenya",
         "line": {
          "color": "#ab63fa",
          "dash": "solid"
         },
         "marker": {
          "symbol": "circle"
         },
         "mode": "lines",
         "name": "Kenya",
         "showlegend": true,
         "type": "scattergl",
         "x": [
          0,
          1,
          2,
          3,
          4
         ],
         "xaxis": "x",
         "y": [
          -0.9735156700791512,
          -1.712285846309147,
          -2.079758945413338,
          -1.395003944578665,
          -1.4486919627478587
         ],
         "yaxis": "y"
        },
        {
         "hovertemplate": "article=Qatar<br>Step=%{x}<br>Cumulative difference=%{y}<extra></extra>",
         "legendgroup": "Qatar",
         "line": {
          "color": "#FFA15A",
          "dash": "solid"
         },
         "marker": {
          "symbol": "circle"
         },
         "mode": "lines",
         "name": "Qatar",
         "showlegend": true,
         "type": "scattergl",
         "x": [
          0,
          1,
          2,
          3,
          4
         ],
         "xaxis": "x",
         "y": [
          -0.984977371585917,
          -1.5428611798701195,
          -1.8367057445722064,
          -1.7856390551571604,
          -1.8699038096880294
         ],
         "yaxis": "y"
        },
        {
         "hovertemplate": "article=Nicaragua<br>Step=%{x}<br>Cumulative difference=%{y}<extra></extra>",
         "legendgroup": "Nicaragua",
         "line": {
          "color": "#19d3f3",
          "dash": "solid"
         },
         "marker": {
          "symbol": "circle"
         },
         "mode": "lines",
         "name": "Nicaragua",
         "showlegend": true,
         "type": "scattergl",
         "x": [
          0,
          1,
          2,
          3,
          4
         ],
         "xaxis": "x",
         "y": [
          -0.9870178902814073,
          -2.2961986566395995,
          -2.0176291906812502,
          -1.3038973609752664,
          -1.9869926762711043
         ],
         "yaxis": "y"
        },
        {
         "hovertemplate": "article=Honduras<br>Step=%{x}<br>Cumulative difference=%{y}<extra></extra>",
         "legendgroup": "Honduras",
         "line": {
          "color": "#FF6692",
          "dash": "solid"
         },
         "marker": {
          "symbol": "circle"
         },
         "mode": "lines",
         "name": "Honduras",
         "showlegend": true,
         "type": "scattergl",
         "x": [
          0,
          1,
          2,
          3,
          4
         ],
         "xaxis": "x",
         "y": [
          -0.9944817500699681,
          -2.0707957990295767,
          -2.237605524503154,
          -2.153980791154427,
          -2.041849681445624
         ],
         "yaxis": "y"
        },
        {
         "hovertemplate": "article=Oman<br>Step=%{x}<br>Cumulative difference=%{y}<extra></extra>",
         "legendgroup": "Oman",
         "line": {
          "color": "#B6E880",
          "dash": "solid"
         },
         "marker": {
          "symbol": "circle"
         },
         "mode": "lines",
         "name": "Oman",
         "showlegend": true,
         "type": "scattergl",
         "x": [
          0,
          1,
          2,
          3,
          4
         ],
         "xaxis": "x",
         "y": [
          -0.994581387883209,
          -1.5450260176121626,
          -1.4494019767997788,
          -2.277388741247791,
          -2.4264094269897756
         ],
         "yaxis": "y"
        },
        {
         "hovertemplate": "article=Libya<br>Step=%{x}<br>Cumulative difference=%{y}<extra></extra>",
         "legendgroup": "Libya",
         "line": {
          "color": "#FF97FF",
          "dash": "solid"
         },
         "marker": {
          "symbol": "circle"
         },
         "mode": "lines",
         "name": "Libya",
         "showlegend": true,
         "type": "scattergl",
         "x": [
          0,
          1,
          2,
          3,
          4
         ],
         "xaxis": "x",
         "y": [
          -0.9999749302445847,
          -2.067215962328926,
          -1.6413493706099145,
          -3.348888170542889,
          -3.2924659831785963
         ],
         "yaxis": "y"
        },
        {
         "hovertemplate": "article=Burundi<br>Step=%{x}<br>Cumulative difference=%{y}<extra></extra>",
         "legendgroup": "Burundi",
         "line": {
          "color": "#FECB52",
          "dash": "solid"
         },
         "marker": {
          "symbol": "circle"
         },
         "mode": "lines",
         "name": "Burundi",
         "showlegend": true,
         "type": "scattergl",
         "x": [
          0,
          1,
          2,
          3,
          4
         ],
         "xaxis": "x",
         "y": [
          -1.0022272172055067,
          -1.4048099760737338,
          -1.3219235337220443,
          -1.3671881867912319,
          -1.3042412766521991
         ],
         "yaxis": "y"
        },
        {
         "hovertemplate": "article=Ecuador<br>Step=%{x}<br>Cumulative difference=%{y}<extra></extra>",
         "legendgroup": "Ecuador",
         "line": {
          "color": "#636efa",
          "dash": "solid"
         },
         "marker": {
          "symbol": "circle"
         },
         "mode": "lines",
         "name": "Ecuador",
         "showlegend": true,
         "type": "scattergl",
         "x": [
          0,
          1,
          2,
          3,
          4
         ],
         "xaxis": "x",
         "y": [
          -1.0064089365305349,
          -2.1682903686465367,
          -2.3953602038236417,
          -3.276672634069633,
          -2.963247797042691
         ],
         "yaxis": "y"
        },
        {
         "hovertemplate": "article=Benin<br>Step=%{x}<br>Cumulative difference=%{y}<extra></extra>",
         "legendgroup": "Benin",
         "line": {
          "color": "#EF553B",
          "dash": "solid"
         },
         "marker": {
          "symbol": "circle"
         },
         "mode": "lines",
         "name": "Benin",
         "showlegend": true,
         "type": "scattergl",
         "x": [
          0,
          1,
          2,
          3,
          4
         ],
         "xaxis": "x",
         "y": [
          -1.0120036530765646,
          -1.5503239116432783,
          -1.5360228766458959,
          -1.511496108229629,
          -1.712219107683865
         ],
         "yaxis": "y"
        },
        {
         "hovertemplate": "article=Yemen<br>Step=%{x}<br>Cumulative difference=%{y}<extra></extra>",
         "legendgroup": "Yemen",
         "line": {
          "color": "#00cc96",
          "dash": "solid"
         },
         "marker": {
          "symbol": "circle"
         },
         "mode": "lines",
         "name": "Yemen",
         "showlegend": true,
         "type": "scattergl",
         "x": [
          0,
          1,
          2,
          3,
          4
         ],
         "xaxis": "x",
         "y": [
          -1.0264797575358247,
          -2.245571267577264,
          -2.589190128652305,
          -1.6919550004333457,
          -2.935103473877421
         ],
         "yaxis": "y"
        },
        {
         "hovertemplate": "article=Mauritania<br>Step=%{x}<br>Cumulative difference=%{y}<extra></extra>",
         "legendgroup": "Mauritania",
         "line": {
          "color": "#ab63fa",
          "dash": "solid"
         },
         "marker": {
          "symbol": "circle"
         },
         "mode": "lines",
         "name": "Mauritania",
         "showlegend": true,
         "type": "scattergl",
         "x": [
          0,
          1,
          2,
          3,
          4
         ],
         "xaxis": "x",
         "y": [
          -1.0272274505268224,
          -2.258939237525474,
          -2.6258946667837937,
          -3.033056308594517,
          -2.6259024762517367
         ],
         "yaxis": "y"
        },
        {
         "hovertemplate": "article=Guinea<br>Step=%{x}<br>Cumulative difference=%{y}<extra></extra>",
         "legendgroup": "Guinea",
         "line": {
          "color": "#FFA15A",
          "dash": "solid"
         },
         "marker": {
          "symbol": "circle"
         },
         "mode": "lines",
         "name": "Guinea",
         "showlegend": true,
         "type": "scattergl",
         "x": [
          0,
          1,
          2,
          3,
          4
         ],
         "xaxis": "x",
         "y": [
          -1.035251314845722,
          -1.220990758158379,
          -1.8482384291935081,
          -2.043844538495353,
          -2.0382096970184387
         ],
         "yaxis": "y"
        },
        {
         "hovertemplate": "article=Sierra Leone<br>Step=%{x}<br>Cumulative difference=%{y}<extra></extra>",
         "legendgroup": "Sierra Leone",
         "line": {
          "color": "#19d3f3",
          "dash": "solid"
         },
         "marker": {
          "symbol": "circle"
         },
         "mode": "lines",
         "name": "Sierra Leone",
         "showlegend": true,
         "type": "scattergl",
         "x": [
          0,
          1,
          2,
          3,
          4
         ],
         "xaxis": "x",
         "y": [
          -1.0456271317662647,
          -1.7960420190190385,
          -1.201670128326261,
          -1.363083890769864,
          -1.7044113445529474
         ],
         "yaxis": "y"
        },
        {
         "hovertemplate": "article=Togo<br>Step=%{x}<br>Cumulative difference=%{y}<extra></extra>",
         "legendgroup": "Togo",
         "line": {
          "color": "#FF6692",
          "dash": "solid"
         },
         "marker": {
          "symbol": "circle"
         },
         "mode": "lines",
         "name": "Togo",
         "showlegend": true,
         "type": "scattergl",
         "x": [
          0,
          1,
          2,
          3,
          4
         ],
         "xaxis": "x",
         "y": [
          -1.0473529450198997,
          -1.4083242188729281,
          -1.5121506113352736,
          -1.5981929147358813,
          -1.653110888519147
         ],
         "yaxis": "y"
        },
        {
         "hovertemplate": "article=Turkey<br>Step=%{x}<br>Cumulative difference=%{y}<extra></extra>",
         "legendgroup": "Turkey",
         "line": {
          "color": "#B6E880",
          "dash": "solid"
         },
         "marker": {
          "symbol": "circle"
         },
         "mode": "lines",
         "name": "Turkey",
         "showlegend": true,
         "type": "scattergl",
         "x": [
          0,
          1,
          2,
          3,
          4
         ],
         "xaxis": "x",
         "y": [
          -1.0560013765936336,
          -6.918655859370812,
          -6.891949185305328,
          -8.647211159983648,
          -10.057991513469858
         ],
         "yaxis": "y"
        },
        {
         "hovertemplate": "article=Niger<br>Step=%{x}<br>Cumulative difference=%{y}<extra></extra>",
         "legendgroup": "Niger",
         "line": {
          "color": "#FF97FF",
          "dash": "solid"
         },
         "marker": {
          "symbol": "circle"
         },
         "mode": "lines",
         "name": "Niger",
         "showlegend": true,
         "type": "scattergl",
         "x": [
          0,
          1,
          2,
          3,
          4
         ],
         "xaxis": "x",
         "y": [
          -1.077000760497727,
          -1.4159334608452967,
          -1.7048756532210902,
          -1.8253020491612335,
          -1.9999514274113257
         ],
         "yaxis": "y"
        },
        {
         "hovertemplate": "article=North Korea<br>Step=%{x}<br>Cumulative difference=%{y}<extra></extra>",
         "legendgroup": "North Korea",
         "line": {
          "color": "#FECB52",
          "dash": "solid"
         },
         "marker": {
          "symbol": "circle"
         },
         "mode": "lines",
         "name": "North Korea",
         "showlegend": true,
         "type": "scattergl",
         "x": [
          0,
          1,
          2,
          3,
          4
         ],
         "xaxis": "x",
         "y": [
          -1.082856555203862,
          -2.6046543006110388,
          -2.6690663779659167,
          -3.2746131677977015,
          -3.10069939981071
         ],
         "yaxis": "y"
        },
        {
         "hovertemplate": "article=Austria<br>Step=%{x}<br>Cumulative difference=%{y}<extra></extra>",
         "legendgroup": "Austria",
         "line": {
          "color": "#636efa",
          "dash": "solid"
         },
         "marker": {
          "symbol": "circle"
         },
         "mode": "lines",
         "name": "Austria",
         "showlegend": true,
         "type": "scattergl",
         "x": [
          0,
          1,
          2,
          3,
          4
         ],
         "xaxis": "x",
         "y": [
          -1.094935879547954,
          -4.4705779808244746,
          -7.913729195632111,
          -10.155833524545239,
          -10.906253414198975
         ],
         "yaxis": "y"
        },
        {
         "hovertemplate": "article=Rwanda<br>Step=%{x}<br>Cumulative difference=%{y}<extra></extra>",
         "legendgroup": "Rwanda",
         "line": {
          "color": "#EF553B",
          "dash": "solid"
         },
         "marker": {
          "symbol": "circle"
         },
         "mode": "lines",
         "name": "Rwanda",
         "showlegend": true,
         "type": "scattergl",
         "x": [
          0,
          1,
          2,
          3,
          4
         ],
         "xaxis": "x",
         "y": [
          -1.1226492641701997,
          -0.9963554730486247,
          -0.5615606878218041,
          -0.3497361955680353,
          -0.06702747819199406
         ],
         "yaxis": "y"
        },
        {
         "hovertemplate": "article=Jamaica<br>Step=%{x}<br>Cumulative difference=%{y}<extra></extra>",
         "legendgroup": "Jamaica",
         "line": {
          "color": "#00cc96",
          "dash": "solid"
         },
         "marker": {
          "symbol": "circle"
         },
         "mode": "lines",
         "name": "Jamaica",
         "showlegend": true,
         "type": "scattergl",
         "x": [
          0,
          1,
          2,
          3,
          4
         ],
         "xaxis": "x",
         "y": [
          -1.128890051340907,
          -1.7655309476522896,
          -1.9739505421232142,
          -1.8399414883973368,
          -1.895734673400446
         ],
         "yaxis": "y"
        },
        {
         "hovertemplate": "article=Lesotho<br>Step=%{x}<br>Cumulative difference=%{y}<extra></extra>",
         "legendgroup": "Lesotho",
         "line": {
          "color": "#ab63fa",
          "dash": "solid"
         },
         "marker": {
          "symbol": "circle"
         },
         "mode": "lines",
         "name": "Lesotho",
         "showlegend": true,
         "type": "scattergl",
         "x": [
          0,
          1,
          2,
          3,
          4
         ],
         "xaxis": "x",
         "y": [
          -1.1293384571182754,
          -1.0532947992253319,
          -1.0360441797208848,
          -0.8876709636827559,
          -1.0533513861169952
         ],
         "yaxis": "y"
        },
        {
         "hovertemplate": "article=Malta<br>Step=%{x}<br>Cumulative difference=%{y}<extra></extra>",
         "legendgroup": "Malta",
         "line": {
          "color": "#FFA15A",
          "dash": "solid"
         },
         "marker": {
          "symbol": "circle"
         },
         "mode": "lines",
         "name": "Malta",
         "showlegend": true,
         "type": "scattergl",
         "x": [
          0,
          1,
          2,
          3,
          4
         ],
         "xaxis": "x",
         "y": [
          -1.1378761517668272,
          -2.583285600242601,
          -3.246623299167692,
          -3.498030198718769,
          -3.661203422640442
         ],
         "yaxis": "y"
        },
        {
         "hovertemplate": "article=Tunisia<br>Step=%{x}<br>Cumulative difference=%{y}<extra></extra>",
         "legendgroup": "Tunisia",
         "line": {
          "color": "#19d3f3",
          "dash": "solid"
         },
         "marker": {
          "symbol": "circle"
         },
         "mode": "lines",
         "name": "Tunisia",
         "showlegend": true,
         "type": "scattergl",
         "x": [
          0,
          1,
          2,
          3,
          4
         ],
         "xaxis": "x",
         "y": [
          -1.1538256455326574,
          -3.0750233873415564,
          -3.9566508873004946,
          -2.9636649225709286,
          -4.4965248532325
         ],
         "yaxis": "y"
        },
        {
         "hovertemplate": "article=Burkina Faso<br>Step=%{x}<br>Cumulative difference=%{y}<extra></extra>",
         "legendgroup": "Burkina Faso",
         "line": {
          "color": "#FF6692",
          "dash": "solid"
         },
         "marker": {
          "symbol": "circle"
         },
         "mode": "lines",
         "name": "Burkina Faso",
         "showlegend": true,
         "type": "scattergl",
         "x": [
          0,
          1,
          2,
          3,
          4
         ],
         "xaxis": "x",
         "y": [
          -1.1549911087664892,
          -1.5749454057771322,
          -1.2488396383299611,
          -1.853139621765791,
          -1.9475224480120426
         ],
         "yaxis": "y"
        },
        {
         "hovertemplate": "article=Barbados<br>Step=%{x}<br>Cumulative difference=%{y}<extra></extra>",
         "legendgroup": "Barbados",
         "line": {
          "color": "#B6E880",
          "dash": "solid"
         },
         "marker": {
          "symbol": "circle"
         },
         "mode": "lines",
         "name": "Barbados",
         "showlegend": true,
         "type": "scattergl",
         "x": [
          0,
          1,
          2,
          3,
          4
         ],
         "xaxis": "x",
         "y": [
          -1.1576670657559704,
          -1.131890622423624,
          -0.6852820842609748,
          -0.6810446507419754,
          -1.0675245308171821
         ],
         "yaxis": "y"
        },
        {
         "hovertemplate": "article=Jordan<br>Step=%{x}<br>Cumulative difference=%{y}<extra></extra>",
         "legendgroup": "Jordan",
         "line": {
          "color": "#FF97FF",
          "dash": "solid"
         },
         "marker": {
          "symbol": "circle"
         },
         "mode": "lines",
         "name": "Jordan",
         "showlegend": true,
         "type": "scattergl",
         "x": [
          0,
          1,
          2,
          3,
          4
         ],
         "xaxis": "x",
         "y": [
          -1.1590670499845523,
          -2.1007843726528956,
          -2.272547376126679,
          -2.1424437405033716,
          -2.6776167111016087
         ],
         "yaxis": "y"
        },
        {
         "hovertemplate": "article=Georgia (country)<br>Step=%{x}<br>Cumulative difference=%{y}<extra></extra>",
         "legendgroup": "Georgia (country)",
         "line": {
          "color": "#FECB52",
          "dash": "solid"
         },
         "marker": {
          "symbol": "circle"
         },
         "mode": "lines",
         "name": "Georgia (country)",
         "showlegend": true,
         "type": "scattergl",
         "x": [
          0,
          1,
          2,
          3,
          4
         ],
         "xaxis": "x",
         "y": [
          -1.1654358473042914,
          -3.049128361675653,
          -3.58513318521392,
          -3.786157878713659,
          -3.936631344931607
         ],
         "yaxis": "y"
        },
        {
         "hovertemplate": "article=Iraq<br>Step=%{x}<br>Cumulative difference=%{y}<extra></extra>",
         "legendgroup": "Iraq",
         "line": {
          "color": "#636efa",
          "dash": "solid"
         },
         "marker": {
          "symbol": "circle"
         },
         "mode": "lines",
         "name": "Iraq",
         "showlegend": true,
         "type": "scattergl",
         "x": [
          0,
          1,
          2,
          3,
          4
         ],
         "xaxis": "x",
         "y": [
          -1.1747622955235009,
          -3.444875055333433,
          -4.394475005581685,
          -4.254270216821427,
          -6.6239615965413545
         ],
         "yaxis": "y"
        },
        {
         "hovertemplate": "article=Zambia<br>Step=%{x}<br>Cumulative difference=%{y}<extra></extra>",
         "legendgroup": "Zambia",
         "line": {
          "color": "#EF553B",
          "dash": "solid"
         },
         "marker": {
          "symbol": "circle"
         },
         "mode": "lines",
         "name": "Zambia",
         "showlegend": true,
         "type": "scattergl",
         "x": [
          0,
          1,
          2,
          3,
          4
         ],
         "xaxis": "x",
         "y": [
          -1.1946109853665337,
          -2.0465678575849062,
          -1.5505362188039484,
          -1.4376600216875526,
          -0.5007253402794126
         ],
         "yaxis": "y"
        },
        {
         "hovertemplate": "article=Republic of Ireland<br>Step=%{x}<br>Cumulative difference=%{y}<extra></extra>",
         "legendgroup": "Republic of Ireland",
         "line": {
          "color": "#00cc96",
          "dash": "solid"
         },
         "marker": {
          "symbol": "circle"
         },
         "mode": "lines",
         "name": "Republic of Ireland",
         "showlegend": true,
         "type": "scattergl",
         "x": [
          0,
          1,
          2,
          3,
          4
         ],
         "xaxis": "x",
         "y": [
          -1.1992311314754855,
          -5.553958429440755,
          -6.201295873595505,
          -6.898291093483011,
          -6.336861312698825
         ],
         "yaxis": "y"
        },
        {
         "hovertemplate": "article=Sri Lanka<br>Step=%{x}<br>Cumulative difference=%{y}<extra></extra>",
         "legendgroup": "Sri Lanka",
         "line": {
          "color": "#ab63fa",
          "dash": "solid"
         },
         "marker": {
          "symbol": "circle"
         },
         "mode": "lines",
         "name": "Sri Lanka",
         "showlegend": true,
         "type": "scattergl",
         "x": [
          0,
          1,
          2,
          3,
          4
         ],
         "xaxis": "x",
         "y": [
          -1.2118112770458915,
          -3.271288984927641,
          -2.9815573657481464,
          -3.7258051727579304,
          -3.737100445210711
         ],
         "yaxis": "y"
        },
        {
         "hovertemplate": "article=Venezuela<br>Step=%{x}<br>Cumulative difference=%{y}<extra></extra>",
         "legendgroup": "Venezuela",
         "line": {
          "color": "#FFA15A",
          "dash": "solid"
         },
         "marker": {
          "symbol": "circle"
         },
         "mode": "lines",
         "name": "Venezuela",
         "showlegend": true,
         "type": "scattergl",
         "x": [
          0,
          1,
          2,
          3,
          4
         ],
         "xaxis": "x",
         "y": [
          -1.218031119255474,
          -2.313305717508783,
          -3.0620396722566374,
          -2.3427117128669015,
          -3.5979882574867843
         ],
         "yaxis": "y"
        },
        {
         "hovertemplate": "article=Israel<br>Step=%{x}<br>Cumulative difference=%{y}<extra></extra>",
         "legendgroup": "Israel",
         "line": {
          "color": "#19d3f3",
          "dash": "solid"
         },
         "marker": {
          "symbol": "circle"
         },
         "mode": "lines",
         "name": "Israel",
         "showlegend": true,
         "type": "scattergl",
         "x": [
          0,
          1,
          2,
          3,
          4
         ],
         "xaxis": "x",
         "y": [
          -1.2258296681826442,
          -4.715168143227234,
          -7.270250103420714,
          -7.678184886001541,
          -6.903676602112784
         ],
         "yaxis": "y"
        },
        {
         "hovertemplate": "article=Zimbabwe<br>Step=%{x}<br>Cumulative difference=%{y}<extra></extra>",
         "legendgroup": "Zimbabwe",
         "line": {
          "color": "#FF6692",
          "dash": "solid"
         },
         "marker": {
          "symbol": "circle"
         },
         "mode": "lines",
         "name": "Zimbabwe",
         "showlegend": true,
         "type": "scattergl",
         "x": [
          0,
          1,
          2,
          3,
          4
         ],
         "xaxis": "x",
         "y": [
          -1.2271852440635327,
          -2.3303599458682367,
          -1.6137950697009005,
          -1.304865236382046,
          -0.5072500075905001
         ],
         "yaxis": "y"
        },
        {
         "hovertemplate": "article=Kuwait<br>Step=%{x}<br>Cumulative difference=%{y}<extra></extra>",
         "legendgroup": "Kuwait",
         "line": {
          "color": "#B6E880",
          "dash": "solid"
         },
         "marker": {
          "symbol": "circle"
         },
         "mode": "lines",
         "name": "Kuwait",
         "showlegend": true,
         "type": "scattergl",
         "x": [
          0,
          1,
          2,
          3,
          4
         ],
         "xaxis": "x",
         "y": [
          -1.2311850750195386,
          -2.1760783549433933,
          -1.764614426093738,
          -1.4870494040848308,
          -2.599610182324761
         ],
         "yaxis": "y"
        },
        {
         "hovertemplate": "article=Latvia<br>Step=%{x}<br>Cumulative difference=%{y}<extra></extra>",
         "legendgroup": "Latvia",
         "line": {
          "color": "#FF97FF",
          "dash": "solid"
         },
         "marker": {
          "symbol": "circle"
         },
         "mode": "lines",
         "name": "Latvia",
         "showlegend": true,
         "type": "scattergl",
         "x": [
          0,
          1,
          2,
          3,
          4
         ],
         "xaxis": "x",
         "y": [
          -1.246863512820474,
          -3.2894063771904976,
          -4.070639398007079,
          -4.431336532177192,
          -4.5201893618372555
         ],
         "yaxis": "y"
        },
        {
         "hovertemplate": "article=Estonia<br>Step=%{x}<br>Cumulative difference=%{y}<extra></extra>",
         "legendgroup": "Estonia",
         "line": {
          "color": "#FECB52",
          "dash": "solid"
         },
         "marker": {
          "symbol": "circle"
         },
         "mode": "lines",
         "name": "Estonia",
         "showlegend": true,
         "type": "scattergl",
         "x": [
          0,
          1,
          2,
          3,
          4
         ],
         "xaxis": "x",
         "y": [
          -1.2532935209106175,
          -3.4976575608807,
          -4.135957050280483,
          -4.613840263341834,
          -4.849865476696209
         ],
         "yaxis": "y"
        },
        {
         "hovertemplate": "article=Pakistan<br>Step=%{x}<br>Cumulative difference=%{y}<extra></extra>",
         "legendgroup": "Pakistan",
         "line": {
          "color": "#636efa",
          "dash": "solid"
         },
         "marker": {
          "symbol": "circle"
         },
         "mode": "lines",
         "name": "Pakistan",
         "showlegend": true,
         "type": "scattergl",
         "x": [
          0,
          1,
          2,
          3,
          4
         ],
         "xaxis": "x",
         "y": [
          -1.2538526851440652,
          -4.49735240052774,
          -5.312593859183539,
          -6.326056108100017,
          -6.450361062122452
         ],
         "yaxis": "y"
        },
        {
         "hovertemplate": "article=Fiji<br>Step=%{x}<br>Cumulative difference=%{y}<extra></extra>",
         "legendgroup": "Fiji",
         "line": {
          "color": "#EF553B",
          "dash": "solid"
         },
         "marker": {
          "symbol": "circle"
         },
         "mode": "lines",
         "name": "Fiji",
         "showlegend": true,
         "type": "scattergl",
         "x": [
          0,
          1,
          2,
          3,
          4
         ],
         "xaxis": "x",
         "y": [
          -1.2932799253866814,
          -1.0595229102821475,
          -0.7427160916981982,
          -0.13149031895741206,
          -1.1896474096296716
         ],
         "yaxis": "y"
        },
        {
         "hovertemplate": "article=Myanmar<br>Step=%{x}<br>Cumulative difference=%{y}<extra></extra>",
         "legendgroup": "Myanmar",
         "line": {
          "color": "#00cc96",
          "dash": "solid"
         },
         "marker": {
          "symbol": "circle"
         },
         "mode": "lines",
         "name": "Myanmar",
         "showlegend": true,
         "type": "scattergl",
         "x": [
          0,
          1,
          2,
          3,
          4
         ],
         "xaxis": "x",
         "y": [
          -1.2992726769740905,
          -1.51851334755899,
          -2.600059747078625,
          -3.1964041904024985,
          -3.186970199396086
         ],
         "yaxis": "y"
        },
        {
         "hovertemplate": "article=Slovakia<br>Step=%{x}<br>Cumulative difference=%{y}<extra></extra>",
         "legendgroup": "Slovakia",
         "line": {
          "color": "#ab63fa",
          "dash": "solid"
         },
         "marker": {
          "symbol": "circle"
         },
         "mode": "lines",
         "name": "Slovakia",
         "showlegend": true,
         "type": "scattergl",
         "x": [
          0,
          1,
          2,
          3,
          4
         ],
         "xaxis": "x",
         "y": [
          -1.320456822122848,
          -2.9636146103028196,
          -3.422969998251825,
          -4.0923309664259415,
          -4.4469245526313195
         ],
         "yaxis": "y"
        },
        {
         "hovertemplate": "article=Angola<br>Step=%{x}<br>Cumulative difference=%{y}<extra></extra>",
         "legendgroup": "Angola",
         "line": {
          "color": "#FFA15A",
          "dash": "solid"
         },
         "marker": {
          "symbol": "circle"
         },
         "mode": "lines",
         "name": "Angola",
         "showlegend": true,
         "type": "scattergl",
         "x": [
          0,
          1,
          2,
          3,
          4
         ],
         "xaxis": "x",
         "y": [
          -1.3333610833003895,
          -2.025181731856885,
          -2.3777603090503248,
          -2.446838078757724,
          -2.589952269553217
         ],
         "yaxis": "y"
        },
        {
         "hovertemplate": "article=Tibet<br>Step=%{x}<br>Cumulative difference=%{y}<extra></extra>",
         "legendgroup": "Tibet",
         "line": {
          "color": "#19d3f3",
          "dash": "solid"
         },
         "marker": {
          "symbol": "circle"
         },
         "mode": "lines",
         "name": "Tibet",
         "showlegend": true,
         "type": "scattergl",
         "x": [
          0,
          1,
          2,
          3,
          4
         ],
         "xaxis": "x",
         "y": [
          -1.3494788891785812,
          -1.9354511048363963,
          -2.557413087753917,
          -1.7889957583195604,
          -2.7282751546781108
         ],
         "yaxis": "y"
        },
        {
         "hovertemplate": "article=Chad<br>Step=%{x}<br>Cumulative difference=%{y}<extra></extra>",
         "legendgroup": "Chad",
         "line": {
          "color": "#FF6692",
          "dash": "solid"
         },
         "marker": {
          "symbol": "circle"
         },
         "mode": "lines",
         "name": "Chad",
         "showlegend": true,
         "type": "scattergl",
         "x": [
          0,
          1,
          2,
          3,
          4
         ],
         "xaxis": "x",
         "y": [
          -1.3527520963540207,
          -1.4727063831501084,
          -0.940573929742084,
          -1.637183350458602,
          -1.6203395269818222
         ],
         "yaxis": "y"
        },
        {
         "hovertemplate": "article=Somalia<br>Step=%{x}<br>Cumulative difference=%{y}<extra></extra>",
         "legendgroup": "Somalia",
         "line": {
          "color": "#B6E880",
          "dash": "solid"
         },
         "marker": {
          "symbol": "circle"
         },
         "mode": "lines",
         "name": "Somalia",
         "showlegend": true,
         "type": "scattergl",
         "x": [
          0,
          1,
          2,
          3,
          4
         ],
         "xaxis": "x",
         "y": [
          -1.3550962864968428,
          -1.3356285929238019,
          -2.08838707981882,
          -2.187119318702842,
          -2.2286046365555405
         ],
         "yaxis": "y"
        },
        {
         "hovertemplate": "article=Lithuania<br>Step=%{x}<br>Cumulative difference=%{y}<extra></extra>",
         "legendgroup": "Lithuania",
         "line": {
          "color": "#FF97FF",
          "dash": "solid"
         },
         "marker": {
          "symbol": "circle"
         },
         "mode": "lines",
         "name": "Lithuania",
         "showlegend": true,
         "type": "scattergl",
         "x": [
          0,
          1,
          2,
          3,
          4
         ],
         "xaxis": "x",
         "y": [
          -1.3640398599856232,
          -4.267816032830701,
          -4.791595944154067,
          -5.251689750204368,
          -5.498557493850929
         ],
         "yaxis": "y"
        },
        {
         "hovertemplate": "article=Panama<br>Step=%{x}<br>Cumulative difference=%{y}<extra></extra>",
         "legendgroup": "Panama",
         "line": {
          "color": "#FECB52",
          "dash": "solid"
         },
         "marker": {
          "symbol": "circle"
         },
         "mode": "lines",
         "name": "Panama",
         "showlegend": true,
         "type": "scattergl",
         "x": [
          0,
          1,
          2,
          3,
          4
         ],
         "xaxis": "x",
         "y": [
          -1.376751490737563,
          -2.7029334698261973,
          -2.2628673510008657,
          -2.5771547426991446,
          -2.240731101459708
         ],
         "yaxis": "y"
        },
        {
         "hovertemplate": "article=Croatia<br>Step=%{x}<br>Cumulative difference=%{y}<extra></extra>",
         "legendgroup": "Croatia",
         "line": {
          "color": "#636efa",
          "dash": "solid"
         },
         "marker": {
          "symbol": "circle"
         },
         "mode": "lines",
         "name": "Croatia",
         "showlegend": true,
         "type": "scattergl",
         "x": [
          0,
          1,
          2,
          3,
          4
         ],
         "xaxis": "x",
         "y": [
          -1.3823642091879351,
          -3.00634300352611,
          -3.499653091009172,
          -3.7421917433544287,
          -2.648855721701922
         ],
         "yaxis": "y"
        },
        {
         "hovertemplate": "article=Indonesia<br>Step=%{x}<br>Cumulative difference=%{y}<extra></extra>",
         "legendgroup": "Indonesia",
         "line": {
          "color": "#EF553B",
          "dash": "solid"
         },
         "marker": {
          "symbol": "circle"
         },
         "mode": "lines",
         "name": "Indonesia",
         "showlegend": true,
         "type": "scattergl",
         "x": [
          0,
          1,
          2,
          3,
          4
         ],
         "xaxis": "x",
         "y": [
          -1.4260919566524708,
          -5.701344764731573,
          -5.466001166782224,
          -5.073353187010731,
          -5.651910806772984
         ],
         "yaxis": "y"
        },
        {
         "hovertemplate": "article=Colombia<br>Step=%{x}<br>Cumulative difference=%{y}<extra></extra>",
         "legendgroup": "Colombia",
         "line": {
          "color": "#00cc96",
          "dash": "solid"
         },
         "marker": {
          "symbol": "circle"
         },
         "mode": "lines",
         "name": "Colombia",
         "showlegend": true,
         "type": "scattergl",
         "x": [
          0,
          1,
          2,
          3,
          4
         ],
         "xaxis": "x",
         "y": [
          -1.428691140771054,
          -3.0747515409420787,
          -3.0239266838558105,
          -3.5735194564194197,
          -3.231344397547338
         ],
         "yaxis": "y"
        },
        {
         "hovertemplate": "article=Madagascar<br>Step=%{x}<br>Cumulative difference=%{y}<extra></extra>",
         "legendgroup": "Madagascar",
         "line": {
          "color": "#ab63fa",
          "dash": "solid"
         },
         "marker": {
          "symbol": "circle"
         },
         "mode": "lines",
         "name": "Madagascar",
         "showlegend": true,
         "type": "scattergl",
         "x": [
          0,
          1,
          2,
          3,
          4
         ],
         "xaxis": "x",
         "y": [
          -1.4421816195603143,
          -2.1697189259824783,
          -2.1766941931492814,
          -2.2717926089086076,
          -2.273314890383704
         ],
         "yaxis": "y"
        },
        {
         "hovertemplate": "article=Belgium<br>Step=%{x}<br>Cumulative difference=%{y}<extra></extra>",
         "legendgroup": "Belgium",
         "line": {
          "color": "#FFA15A",
          "dash": "solid"
         },
         "marker": {
          "symbol": "circle"
         },
         "mode": "lines",
         "name": "Belgium",
         "showlegend": true,
         "type": "scattergl",
         "x": [
          0,
          1,
          2,
          3,
          4
         ],
         "xaxis": "x",
         "y": [
          -1.4562925146636072,
          -8.267319428671431,
          -8.629252840486444,
          -9.975131669349341,
          -8.516715429032354
         ],
         "yaxis": "y"
        },
        {
         "hovertemplate": "article=Luxembourg<br>Step=%{x}<br>Cumulative difference=%{y}<extra></extra>",
         "legendgroup": "Luxembourg",
         "line": {
          "color": "#19d3f3",
          "dash": "solid"
         },
         "marker": {
          "symbol": "circle"
         },
         "mode": "lines",
         "name": "Luxembourg",
         "showlegend": true,
         "type": "scattergl",
         "x": [
          0,
          1,
          2,
          3,
          4
         ],
         "xaxis": "x",
         "y": [
          -1.5226766076249343,
          -4.4547951213804104,
          -5.328331173335648,
          -5.884047138648081,
          -5.208509848985993
         ],
         "yaxis": "y"
        },
        {
         "hovertemplate": "article=Belarus<br>Step=%{x}<br>Cumulative difference=%{y}<extra></extra>",
         "legendgroup": "Belarus",
         "line": {
          "color": "#FF6692",
          "dash": "solid"
         },
         "marker": {
          "symbol": "circle"
         },
         "mode": "lines",
         "name": "Belarus",
         "showlegend": true,
         "type": "scattergl",
         "x": [
          0,
          1,
          2,
          3,
          4
         ],
         "xaxis": "x",
         "y": [
          -1.5641698765602152,
          -2.6708584317835027,
          -2.874457901253178,
          -2.489168635007724,
          -3.741465549350783
         ],
         "yaxis": "y"
        },
        {
         "hovertemplate": "article=Mozambique<br>Step=%{x}<br>Cumulative difference=%{y}<extra></extra>",
         "legendgroup": "Mozambique",
         "line": {
          "color": "#B6E880",
          "dash": "solid"
         },
         "marker": {
          "symbol": "circle"
         },
         "mode": "lines",
         "name": "Mozambique",
         "showlegend": true,
         "type": "scattergl",
         "x": [
          0,
          1,
          2,
          3,
          4
         ],
         "xaxis": "x",
         "y": [
          -1.6121345419714006,
          -2.2524187000732767,
          -1.5873724441194865,
          -2.3239360105665114,
          -2.457416285526809
         ],
         "yaxis": "y"
        },
        {
         "hovertemplate": "article=Cameroon<br>Step=%{x}<br>Cumulative difference=%{y}<extra></extra>",
         "legendgroup": "Cameroon",
         "line": {
          "color": "#FF97FF",
          "dash": "solid"
         },
         "marker": {
          "symbol": "circle"
         },
         "mode": "lines",
         "name": "Cameroon",
         "showlegend": true,
         "type": "scattergl",
         "x": [
          0,
          1,
          2,
          3,
          4
         ],
         "xaxis": "x",
         "y": [
          -1.6131926082311019,
          -2.4609969861096577,
          -2.639079567638381,
          -2.784896383130058,
          -2.6633081760075887
         ],
         "yaxis": "y"
        },
        {
         "hovertemplate": "article=Tanzania<br>Step=%{x}<br>Cumulative difference=%{y}<extra></extra>",
         "legendgroup": "Tanzania",
         "line": {
          "color": "#FECB52",
          "dash": "solid"
         },
         "marker": {
          "symbol": "circle"
         },
         "mode": "lines",
         "name": "Tanzania",
         "showlegend": true,
         "type": "scattergl",
         "x": [
          0,
          1,
          2,
          3,
          4
         ],
         "xaxis": "x",
         "y": [
          -1.6244967426964145,
          -1.8709942839282436,
          -2.1025818407954713,
          -1.9687569136789922,
          -1.3019007989002485
         ],
         "yaxis": "y"
        },
        {
         "hovertemplate": "article=The Bahamas<br>Step=%{x}<br>Cumulative difference=%{y}<extra></extra>",
         "legendgroup": "The Bahamas",
         "line": {
          "color": "#636efa",
          "dash": "solid"
         },
         "marker": {
          "symbol": "circle"
         },
         "mode": "lines",
         "name": "The Bahamas",
         "showlegend": true,
         "type": "scattergl",
         "x": [
          0,
          0,
          1,
          1,
          2,
          2,
          3,
          3,
          4,
          4
         ],
         "xaxis": "x",
         "y": [
          -1.6247425597914495,
          -1.6247425597914495,
          -1.8684114334575492,
          -1.8684114334575492,
          -0.47852513466575475,
          -0.47852513466575475,
          -0.825589741636067,
          -0.825589741636067,
          -1.071433627686864,
          -1.071433627686864
         ],
         "yaxis": "y"
        },
        {
         "hovertemplate": "article=Dominican Republic<br>Step=%{x}<br>Cumulative difference=%{y}<extra></extra>",
         "legendgroup": "Dominican Republic",
         "line": {
          "color": "#EF553B",
          "dash": "solid"
         },
         "marker": {
          "symbol": "circle"
         },
         "mode": "lines",
         "name": "Dominican Republic",
         "showlegend": true,
         "type": "scattergl",
         "x": [
          0,
          1,
          2,
          3,
          4
         ],
         "xaxis": "x",
         "y": [
          -1.6588999636681052,
          -2.041890530595289,
          -1.733393162408038,
          -2.2067100904098123,
          -1.4355207948228594
         ],
         "yaxis": "y"
        },
        {
         "hovertemplate": "article=Bermuda<br>Step=%{x}<br>Cumulative difference=%{y}<extra></extra>",
         "legendgroup": "Bermuda",
         "line": {
          "color": "#00cc96",
          "dash": "solid"
         },
         "marker": {
          "symbol": "circle"
         },
         "mode": "lines",
         "name": "Bermuda",
         "showlegend": true,
         "type": "scattergl",
         "x": [
          0,
          1,
          2,
          3,
          4
         ],
         "xaxis": "x",
         "y": [
          -1.6688022194881127,
          -1.7506975912938092,
          -1.5065167489802354,
          -1.3797618415374877,
          -1.368383122428718
         ],
         "yaxis": "y"
        },
        {
         "hovertemplate": "article=Romania<br>Step=%{x}<br>Cumulative difference=%{y}<extra></extra>",
         "legendgroup": "Romania",
         "line": {
          "color": "#ab63fa",
          "dash": "solid"
         },
         "marker": {
          "symbol": "circle"
         },
         "mode": "lines",
         "name": "Romania",
         "showlegend": true,
         "type": "scattergl",
         "x": [
          0,
          1,
          2,
          3,
          4
         ],
         "xaxis": "x",
         "y": [
          -1.6763063111079548,
          -5.672299980873193,
          -5.477286757648865,
          -6.355476658027919,
          -7.485697379914272
         ],
         "yaxis": "y"
        },
        {
         "hovertemplate": "article=Bangladesh<br>Step=%{x}<br>Cumulative difference=%{y}<extra></extra>",
         "legendgroup": "Bangladesh",
         "line": {
          "color": "#FFA15A",
          "dash": "solid"
         },
         "marker": {
          "symbol": "circle"
         },
         "mode": "lines",
         "name": "Bangladesh",
         "showlegend": true,
         "type": "scattergl",
         "x": [
          0,
          1,
          2,
          3,
          4
         ],
         "xaxis": "x",
         "y": [
          -1.688037898967572,
          -2.4685854871156234,
          -2.609349404761787,
          -2.9791593198193,
          -2.8791489411806443
         ],
         "yaxis": "y"
        },
        {
         "hovertemplate": "article=Senegal<br>Step=%{x}<br>Cumulative difference=%{y}<extra></extra>",
         "legendgroup": "Senegal",
         "line": {
          "color": "#19d3f3",
          "dash": "solid"
         },
         "marker": {
          "symbol": "circle"
         },
         "mode": "lines",
         "name": "Senegal",
         "showlegend": true,
         "type": "scattergl",
         "x": [
          0,
          1,
          2,
          3,
          4
         ],
         "xaxis": "x",
         "y": [
          -1.697164051571309,
          -2.274388452464131,
          -2.5306652693506737,
          -2.5688142646565413,
          -2.8214759518555472
         ],
         "yaxis": "y"
        },
        {
         "hovertemplate": "article=Hong Kong<br>Step=%{x}<br>Cumulative difference=%{y}<extra></extra>",
         "legendgroup": "Hong Kong",
         "line": {
          "color": "#FF6692",
          "dash": "solid"
         },
         "marker": {
          "symbol": "circle"
         },
         "mode": "lines",
         "name": "Hong Kong",
         "showlegend": true,
         "type": "scattergl",
         "x": [
          0,
          1,
          2,
          3,
          4
         ],
         "xaxis": "x",
         "y": [
          -1.7251702304906575,
          -4.392862580776389,
          -5.139579232157444,
          -5.078092272778784,
          -5.505403025543638
         ],
         "yaxis": "y"
        },
        {
         "hovertemplate": "article=Kazakhstan<br>Step=%{x}<br>Cumulative difference=%{y}<extra></extra>",
         "legendgroup": "Kazakhstan",
         "line": {
          "color": "#B6E880",
          "dash": "solid"
         },
         "marker": {
          "symbol": "circle"
         },
         "mode": "lines",
         "name": "Kazakhstan",
         "showlegend": true,
         "type": "scattergl",
         "x": [
          0,
          1,
          2,
          3,
          4
         ],
         "xaxis": "x",
         "y": [
          -1.829345160959149,
          -1.84563068777164,
          -1.7231794043720468,
          -2.463771735211845,
          -2.816526545720664
         ],
         "yaxis": "y"
        },
        {
         "hovertemplate": "article=Cuba<br>Step=%{x}<br>Cumulative difference=%{y}<extra></extra>",
         "legendgroup": "Cuba",
         "line": {
          "color": "#FF97FF",
          "dash": "solid"
         },
         "marker": {
          "symbol": "circle"
         },
         "mode": "lines",
         "name": "Cuba",
         "showlegend": true,
         "type": "scattergl",
         "x": [
          0,
          1,
          2,
          3,
          4
         ],
         "xaxis": "x",
         "y": [
          -1.8701070647401326,
          -4.60658923675206,
          -4.070166241111697,
          -4.746029145445146,
          -4.191409381943897
         ],
         "yaxis": "y"
        },
        {
         "hovertemplate": "article=Philippines<br>Step=%{x}<br>Cumulative difference=%{y}<extra></extra>",
         "legendgroup": "Philippines",
         "line": {
          "color": "#FECB52",
          "dash": "solid"
         },
         "marker": {
          "symbol": "circle"
         },
         "mode": "lines",
         "name": "Philippines",
         "showlegend": true,
         "type": "scattergl",
         "x": [
          0,
          1,
          2,
          3,
          4
         ],
         "xaxis": "x",
         "y": [
          -1.8737579840929435,
          -3.7897738748619045,
          -4.406697722533234,
          -5.1623879591846515,
          -6.484766598883002
         ],
         "yaxis": "y"
        },
        {
         "hovertemplate": "article=Bulgaria<br>Step=%{x}<br>Cumulative difference=%{y}<extra></extra>",
         "legendgroup": "Bulgaria",
         "line": {
          "color": "#636efa",
          "dash": "solid"
         },
         "marker": {
          "symbol": "circle"
         },
         "mode": "lines",
         "name": "Bulgaria",
         "showlegend": true,
         "type": "scattergl",
         "x": [
          0,
          1,
          2,
          3,
          4
         ],
         "xaxis": "x",
         "y": [
          -1.8806001818518665,
          -3.8746748322548434,
          -4.833638052154832,
          -5.524982942472448,
          -5.291097708890661
         ],
         "yaxis": "y"
        },
        {
         "hovertemplate": "article=Haiti<br>Step=%{x}<br>Cumulative difference=%{y}<extra></extra>",
         "legendgroup": "Haiti",
         "line": {
          "color": "#EF553B",
          "dash": "solid"
         },
         "marker": {
          "symbol": "circle"
         },
         "mode": "lines",
         "name": "Haiti",
         "showlegend": true,
         "type": "scattergl",
         "x": [
          0,
          1,
          2,
          3,
          4
         ],
         "xaxis": "x",
         "y": [
          -1.8949576595809368,
          -3.104709426688765,
          -1.597931540317279,
          -2.9087691920865506,
          -2.8638655197285248
         ],
         "yaxis": "y"
        },
        {
         "hovertemplate": "article=South Korea<br>Step=%{x}<br>Cumulative difference=%{y}<extra></extra>",
         "legendgroup": "South Korea",
         "line": {
          "color": "#00cc96",
          "dash": "solid"
         },
         "marker": {
          "symbol": "circle"
         },
         "mode": "lines",
         "name": "South Korea",
         "showlegend": true,
         "type": "scattergl",
         "x": [
          0,
          1,
          2,
          3,
          4
         ],
         "xaxis": "x",
         "y": [
          -1.964983573751025,
          -4.120920175103374,
          -3.9894001129101064,
          -3.79607562358906,
          -4.061975366634346
         ],
         "yaxis": "y"
        },
        {
         "hovertemplate": "article=Armenia<br>Step=%{x}<br>Cumulative difference=%{y}<extra></extra>",
         "legendgroup": "Armenia",
         "line": {
          "color": "#ab63fa",
          "dash": "solid"
         },
         "marker": {
          "symbol": "circle"
         },
         "mode": "lines",
         "name": "Armenia",
         "showlegend": true,
         "type": "scattergl",
         "x": [
          0,
          1,
          2,
          3,
          4
         ],
         "xaxis": "x",
         "y": [
          -2.005741890748575,
          -2.7498505455485103,
          -3.1809175416728275,
          -3.3951209764084083,
          -3.046966709305881
         ],
         "yaxis": "y"
        },
        {
         "hovertemplate": "article=Ghana<br>Step=%{x}<br>Cumulative difference=%{y}<extra></extra>",
         "legendgroup": "Ghana",
         "line": {
          "color": "#FFA15A",
          "dash": "solid"
         },
         "marker": {
          "symbol": "circle"
         },
         "mode": "lines",
         "name": "Ghana",
         "showlegend": true,
         "type": "scattergl",
         "x": [
          0,
          1,
          2,
          3,
          4
         ],
         "xaxis": "x",
         "y": [
          -2.0080233205959632,
          -2.336426952785818,
          -1.4812222924381617,
          -2.443958196502216,
          -2.4026527825906725
         ],
         "yaxis": "y"
        },
        {
         "hovertemplate": "article=Ethiopia<br>Step=%{x}<br>Cumulative difference=%{y}<extra></extra>",
         "legendgroup": "Ethiopia",
         "line": {
          "color": "#19d3f3",
          "dash": "solid"
         },
         "marker": {
          "symbol": "circle"
         },
         "mode": "lines",
         "name": "Ethiopia",
         "showlegend": true,
         "type": "scattergl",
         "x": [
          0,
          1,
          2,
          3,
          4
         ],
         "xaxis": "x",
         "y": [
          -2.0081592992799338,
          -1.7383897199458125,
          -0.10509779325458196,
          -2.4047073689760485,
          -1.4747650824671936
         ],
         "yaxis": "y"
        },
        {
         "hovertemplate": "article=Finland<br>Step=%{x}<br>Cumulative difference=%{y}<extra></extra>",
         "legendgroup": "Finland",
         "line": {
          "color": "#FF6692",
          "dash": "solid"
         },
         "marker": {
          "symbol": "circle"
         },
         "mode": "lines",
         "name": "Finland",
         "showlegend": true,
         "type": "scattergl",
         "x": [
          0,
          1,
          2,
          3,
          4
         ],
         "xaxis": "x",
         "y": [
          -2.0338023984681803,
          -5.210258272382937,
          -6.554596324216353,
          -7.217482495572961,
          -6.733473335384589
         ],
         "yaxis": "y"
        },
        {
         "hovertemplate": "article=Thailand<br>Step=%{x}<br>Cumulative difference=%{y}<extra></extra>",
         "legendgroup": "Thailand",
         "line": {
          "color": "#B6E880",
          "dash": "solid"
         },
         "marker": {
          "symbol": "circle"
         },
         "mode": "lines",
         "name": "Thailand",
         "showlegend": true,
         "type": "scattergl",
         "x": [
          0,
          1,
          2,
          3,
          4
         ],
         "xaxis": "x",
         "y": [
          -2.0420063533525616,
          -3.7697923064256735,
          -3.665953526665579,
          -3.6407115087783763,
          -2.987532465228772
         ],
         "yaxis": "y"
        },
        {
         "hovertemplate": "article=Uganda<br>Step=%{x}<br>Cumulative difference=%{y}<extra></extra>",
         "legendgroup": "Uganda",
         "line": {
          "color": "#FF97FF",
          "dash": "solid"
         },
         "marker": {
          "symbol": "circle"
         },
         "mode": "lines",
         "name": "Uganda",
         "showlegend": true,
         "type": "scattergl",
         "x": [
          0,
          1,
          2,
          3,
          4
         ],
         "xaxis": "x",
         "y": [
          -2.046085081096221,
          -1.8335702471309072,
          -0.5611339641188373,
          -1.869631201522822,
          -1.910096041462107
         ],
         "yaxis": "y"
        },
        {
         "hovertemplate": "article=Nigeria<br>Step=%{x}<br>Cumulative difference=%{y}<extra></extra>",
         "legendgroup": "Nigeria",
         "line": {
          "color": "#FECB52",
          "dash": "solid"
         },
         "marker": {
          "symbol": "circle"
         },
         "mode": "lines",
         "name": "Nigeria",
         "showlegend": true,
         "type": "scattergl",
         "x": [
          0,
          1,
          2,
          3,
          4
         ],
         "xaxis": "x",
         "y": [
          -2.0643825876431112,
          -2.3182148752802525,
          -3.116727835080242,
          -2.629616155178344,
          -2.667734614139499
         ],
         "yaxis": "y"
        },
        {
         "hovertemplate": "article=Czech Republic<br>Step=%{x}<br>Cumulative difference=%{y}<extra></extra>",
         "legendgroup": "Czech Republic",
         "line": {
          "color": "#636efa",
          "dash": "solid"
         },
         "marker": {
          "symbol": "circle"
         },
         "mode": "lines",
         "name": "Czech Republic",
         "showlegend": true,
         "type": "scattergl",
         "x": [
          0,
          1,
          2,
          3,
          4
         ],
         "xaxis": "x",
         "y": [
          -2.106077312272746,
          -3.4520481043678357,
          -4.769702761623511,
          -4.698696359609896,
          -5.586357890067248
         ],
         "yaxis": "y"
        },
        {
         "hovertemplate": "article=Norway<br>Step=%{x}<br>Cumulative difference=%{y}<extra></extra>",
         "legendgroup": "Norway",
         "line": {
          "color": "#EF553B",
          "dash": "solid"
         },
         "marker": {
          "symbol": "circle"
         },
         "mode": "lines",
         "name": "Norway",
         "showlegend": true,
         "type": "scattergl",
         "x": [
          0,
          1,
          2,
          3,
          4
         ],
         "xaxis": "x",
         "y": [
          -2.1525775254736197,
          -6.585099191963449,
          -4.944214070666049,
          -6.483584874622146,
          -4.9798748332688145
         ],
         "yaxis": "y"
        },
        {
         "hovertemplate": "article=Vietnam<br>Step=%{x}<br>Cumulative difference=%{y}<extra></extra>",
         "legendgroup": "Vietnam",
         "line": {
          "color": "#00cc96",
          "dash": "solid"
         },
         "marker": {
          "symbol": "circle"
         },
         "mode": "lines",
         "name": "Vietnam",
         "showlegend": true,
         "type": "scattergl",
         "x": [
          0,
          1,
          2,
          3,
          4
         ],
         "xaxis": "x",
         "y": [
          -2.1825829826753824,
          -3.7083435190691083,
          -4.269372329969866,
          -3.785006196770467,
          -2.1003965101642437
         ],
         "yaxis": "y"
        },
        {
         "hovertemplate": "article=Peru<br>Step=%{x}<br>Cumulative difference=%{y}<extra></extra>",
         "legendgroup": "Peru",
         "line": {
          "color": "#ab63fa",
          "dash": "solid"
         },
         "marker": {
          "symbol": "circle"
         },
         "mode": "lines",
         "name": "Peru",
         "showlegend": true,
         "type": "scattergl",
         "x": [
          0,
          1,
          2,
          3,
          4
         ],
         "xaxis": "x",
         "y": [
          -2.329425869944666,
          -3.391874942167531,
          -3.7213377668687095,
          -4.1210424241755,
          -4.8412840409086195
         ],
         "yaxis": "y"
        },
        {
         "hovertemplate": "article=Iran<br>Step=%{x}<br>Cumulative difference=%{y}<extra></extra>",
         "legendgroup": "Iran",
         "line": {
          "color": "#FFA15A",
          "dash": "solid"
         },
         "marker": {
          "symbol": "circle"
         },
         "mode": "lines",
         "name": "Iran",
         "showlegend": true,
         "type": "scattergl",
         "x": [
          0,
          1,
          2,
          3,
          4
         ],
         "xaxis": "x",
         "y": [
          -2.3339241995380093,
          -5.688723470535294,
          -6.336225276707803,
          -6.493161719084442,
          -8.84767656517543
         ],
         "yaxis": "y"
        },
        {
         "hovertemplate": "article=Hungary<br>Step=%{x}<br>Cumulative difference=%{y}<extra></extra>",
         "legendgroup": "Hungary",
         "line": {
          "color": "#19d3f3",
          "dash": "solid"
         },
         "marker": {
          "symbol": "circle"
         },
         "mode": "lines",
         "name": "Hungary",
         "showlegend": true,
         "type": "scattergl",
         "x": [
          0,
          1,
          2,
          3,
          4
         ],
         "xaxis": "x",
         "y": [
          -2.380624890979274,
          -4.185864951869099,
          -5.636111324526182,
          -5.576747004814383,
          -6.53391411028339
         ],
         "yaxis": "y"
        },
        {
         "hovertemplate": "article=Syria<br>Step=%{x}<br>Cumulative difference=%{y}<extra></extra>",
         "legendgroup": "Syria",
         "line": {
          "color": "#FF6692",
          "dash": "solid"
         },
         "marker": {
          "symbol": "circle"
         },
         "mode": "lines",
         "name": "Syria",
         "showlegend": true,
         "type": "scattergl",
         "x": [
          0,
          1,
          2,
          3,
          4
         ],
         "xaxis": "x",
         "y": [
          -2.3975238254532942,
          -2.698095348753031,
          -4.9205423589685084,
          -4.98492673563162,
          -4.520569451390877
         ],
         "yaxis": "y"
        },
        {
         "hovertemplate": "article=Brazil<br>Step=%{x}<br>Cumulative difference=%{y}<extra></extra>",
         "legendgroup": "Brazil",
         "line": {
          "color": "#B6E880",
          "dash": "solid"
         },
         "marker": {
          "symbol": "circle"
         },
         "mode": "lines",
         "name": "Brazil",
         "showlegend": true,
         "type": "scattergl",
         "x": [
          0,
          1,
          2,
          3,
          4
         ],
         "xaxis": "x",
         "y": [
          -2.475057341879411,
          -1.6203572592086009,
          -7.533894208162985,
          -7.2233561622938005,
          -9.380044596789638
         ],
         "yaxis": "y"
        },
        {
         "hovertemplate": "article=Sweden<br>Step=%{x}<br>Cumulative difference=%{y}<extra></extra>",
         "legendgroup": "Sweden",
         "line": {
          "color": "#FF97FF",
          "dash": "solid"
         },
         "marker": {
          "symbol": "circle"
         },
         "mode": "lines",
         "name": "Sweden",
         "showlegend": true,
         "type": "scattergl",
         "x": [
          0,
          1,
          2,
          3,
          4
         ],
         "xaxis": "x",
         "y": [
          -2.5878531879755395,
          -11.87745604010489,
          -11.920711299062688,
          -11.8904826436799,
          -8.434607699237587
         ],
         "yaxis": "y"
        },
        {
         "hovertemplate": "article=Taiwan<br>Step=%{x}<br>Cumulative difference=%{y}<extra></extra>",
         "legendgroup": "Taiwan",
         "line": {
          "color": "#FECB52",
          "dash": "solid"
         },
         "marker": {
          "symbol": "circle"
         },
         "mode": "lines",
         "name": "Taiwan",
         "showlegend": true,
         "type": "scattergl",
         "x": [
          0,
          1,
          2,
          3,
          4
         ],
         "xaxis": "x",
         "y": [
          -2.6576753171971887,
          -3.9710021179603037,
          -4.159888952509713,
          -4.428167816711977,
          -4.026657554328755
         ],
         "yaxis": "y"
        },
        {
         "hovertemplate": "article=Singapore<br>Step=%{x}<br>Cumulative difference=%{y}<extra></extra>",
         "legendgroup": "Singapore",
         "line": {
          "color": "#636efa",
          "dash": "solid"
         },
         "marker": {
          "symbol": "circle"
         },
         "mode": "lines",
         "name": "Singapore",
         "showlegend": true,
         "type": "scattergl",
         "x": [
          0,
          1,
          2,
          3,
          4
         ],
         "xaxis": "x",
         "y": [
          -2.718784665717942,
          -3.977411307078874,
          -3.891210682848009,
          -3.420674573411165,
          -4.4872720285285865
         ],
         "yaxis": "y"
        },
        {
         "hovertemplate": "article=Sudan<br>Step=%{x}<br>Cumulative difference=%{y}<extra></extra>",
         "legendgroup": "Sudan",
         "line": {
          "color": "#EF553B",
          "dash": "solid"
         },
         "marker": {
          "symbol": "circle"
         },
         "mode": "lines",
         "name": "Sudan",
         "showlegend": true,
         "type": "scattergl",
         "x": [
          0,
          1,
          2,
          3,
          4
         ],
         "xaxis": "x",
         "y": [
          -2.749497774682362,
          -3.204780828123731,
          -3.892606346602274,
          -4.380717107735726,
          -3.8494010376062375
         ],
         "yaxis": "y"
        },
        {
         "hovertemplate": "article=Chile<br>Step=%{x}<br>Cumulative difference=%{y}<extra></extra>",
         "legendgroup": "Chile",
         "line": {
          "color": "#00cc96",
          "dash": "solid"
         },
         "marker": {
          "symbol": "circle"
         },
         "mode": "lines",
         "name": "Chile",
         "showlegend": true,
         "type": "scattergl",
         "x": [
          0,
          1,
          2,
          3,
          4
         ],
         "xaxis": "x",
         "y": [
          -3.178230255963754,
          -4.18862376815434,
          -4.6058620783188875,
          -4.300282888476385,
          -5.090901289637984
         ],
         "yaxis": "y"
        },
        {
         "hovertemplate": "article=Ukraine<br>Step=%{x}<br>Cumulative difference=%{y}<extra></extra>",
         "legendgroup": "Ukraine",
         "line": {
          "color": "#ab63fa",
          "dash": "solid"
         },
         "marker": {
          "symbol": "circle"
         },
         "mode": "lines",
         "name": "Ukraine",
         "showlegend": true,
         "type": "scattergl",
         "x": [
          0,
          1,
          2,
          3,
          4
         ],
         "xaxis": "x",
         "y": [
          -3.4066775381934904,
          -5.278286107736926,
          -7.170426805156352,
          -6.658532226061481,
          -8.285921021988278
         ],
         "yaxis": "y"
        },
        {
         "hovertemplate": "article=Portugal<br>Step=%{x}<br>Cumulative difference=%{y}<extra></extra>",
         "legendgroup": "Portugal",
         "line": {
          "color": "#FFA15A",
          "dash": "solid"
         },
         "marker": {
          "symbol": "circle"
         },
         "mode": "lines",
         "name": "Portugal",
         "showlegend": true,
         "type": "scattergl",
         "x": [
          0,
          1,
          2,
          3,
          4
         ],
         "xaxis": "x",
         "y": [
          -3.4446441574052757,
          -8.179969800335613,
          -11.975239235346539,
          -13.069913395930309,
          -13.894377922597409
         ],
         "yaxis": "y"
        },
        {
         "hovertemplate": "article=Denmark<br>Step=%{x}<br>Cumulative difference=%{y}<extra></extra>",
         "legendgroup": "Denmark",
         "line": {
          "color": "#19d3f3",
          "dash": "solid"
         },
         "marker": {
          "symbol": "circle"
         },
         "mode": "lines",
         "name": "Denmark",
         "showlegend": true,
         "type": "scattergl",
         "x": [
          0,
          1,
          2,
          3,
          4
         ],
         "xaxis": "x",
         "y": [
          -3.593924724673267,
          -6.909126046476892,
          -9.790185316872247,
          -9.5636119603803,
          -10.056414064612573
         ],
         "yaxis": "y"
        },
        {
         "hovertemplate": "article=Mexico<br>Step=%{x}<br>Cumulative difference=%{y}<extra></extra>",
         "legendgroup": "Mexico",
         "line": {
          "color": "#FF6692",
          "dash": "solid"
         },
         "marker": {
          "symbol": "circle"
         },
         "mode": "lines",
         "name": "Mexico",
         "showlegend": true,
         "type": "scattergl",
         "x": [
          0,
          1,
          2,
          3,
          4
         ],
         "xaxis": "x",
         "y": [
          -3.7824120999567183,
          -5.81927662700126,
          -8.842486706483802,
          -8.463169909765782,
          -8.232376222161772
         ],
         "yaxis": "y"
        },
        {
         "hovertemplate": "article=Poland<br>Step=%{x}<br>Cumulative difference=%{y}<extra></extra>",
         "legendgroup": "Poland",
         "line": {
          "color": "#B6E880",
          "dash": "solid"
         },
         "marker": {
          "symbol": "circle"
         },
         "mode": "lines",
         "name": "Poland",
         "showlegend": true,
         "type": "scattergl",
         "x": [
          0,
          1,
          2,
          3,
          4
         ],
         "xaxis": "x",
         "y": [
          -4.666643237727482,
          -8.338791539852211,
          -10.273667438226582,
          -11.293675573881973,
          -12.325411996530482
         ],
         "yaxis": "y"
        }
       ],
       "layout": {
        "annotations": [
         {
          "font": {
           "color": "black",
           "size": 12
          },
          "showarrow": false,
          "text": "Random path",
          "x": 1,
          "xanchor": "right",
          "xref": "x domain",
          "y": 0,
          "yanchor": "bottom",
          "yref": "y"
         }
        ],
        "legend": {
         "title": {
          "text": "article"
         },
         "tracegroupgap": 0
        },
        "shapes": [
         {
          "line": {
           "color": "black",
           "dash": "dash"
          },
          "type": "line",
          "x0": 0,
          "x1": 1,
          "xref": "x domain",
          "y0": 0,
          "y1": 0,
          "yref": "y"
         }
        ],
        "template": {
         "data": {
          "bar": [
           {
            "error_x": {
             "color": "#2a3f5f"
            },
            "error_y": {
             "color": "#2a3f5f"
            },
            "marker": {
             "line": {
              "color": "#E5ECF6",
              "width": 0.5
             },
             "pattern": {
              "fillmode": "overlay",
              "size": 10,
              "solidity": 0.2
             }
            },
            "type": "bar"
           }
          ],
          "barpolar": [
           {
            "marker": {
             "line": {
              "color": "#E5ECF6",
              "width": 0.5
             },
             "pattern": {
              "fillmode": "overlay",
              "size": 10,
              "solidity": 0.2
             }
            },
            "type": "barpolar"
           }
          ],
          "carpet": [
           {
            "aaxis": {
             "endlinecolor": "#2a3f5f",
             "gridcolor": "white",
             "linecolor": "white",
             "minorgridcolor": "white",
             "startlinecolor": "#2a3f5f"
            },
            "baxis": {
             "endlinecolor": "#2a3f5f",
             "gridcolor": "white",
             "linecolor": "white",
             "minorgridcolor": "white",
             "startlinecolor": "#2a3f5f"
            },
            "type": "carpet"
           }
          ],
          "choropleth": [
           {
            "colorbar": {
             "outlinewidth": 0,
             "ticks": ""
            },
            "type": "choropleth"
           }
          ],
          "contour": [
           {
            "colorbar": {
             "outlinewidth": 0,
             "ticks": ""
            },
            "colorscale": [
             [
              0,
              "#0d0887"
             ],
             [
              0.1111111111111111,
              "#46039f"
             ],
             [
              0.2222222222222222,
              "#7201a8"
             ],
             [
              0.3333333333333333,
              "#9c179e"
             ],
             [
              0.4444444444444444,
              "#bd3786"
             ],
             [
              0.5555555555555556,
              "#d8576b"
             ],
             [
              0.6666666666666666,
              "#ed7953"
             ],
             [
              0.7777777777777778,
              "#fb9f3a"
             ],
             [
              0.8888888888888888,
              "#fdca26"
             ],
             [
              1,
              "#f0f921"
             ]
            ],
            "type": "contour"
           }
          ],
          "contourcarpet": [
           {
            "colorbar": {
             "outlinewidth": 0,
             "ticks": ""
            },
            "type": "contourcarpet"
           }
          ],
          "heatmap": [
           {
            "colorbar": {
             "outlinewidth": 0,
             "ticks": ""
            },
            "colorscale": [
             [
              0,
              "#0d0887"
             ],
             [
              0.1111111111111111,
              "#46039f"
             ],
             [
              0.2222222222222222,
              "#7201a8"
             ],
             [
              0.3333333333333333,
              "#9c179e"
             ],
             [
              0.4444444444444444,
              "#bd3786"
             ],
             [
              0.5555555555555556,
              "#d8576b"
             ],
             [
              0.6666666666666666,
              "#ed7953"
             ],
             [
              0.7777777777777778,
              "#fb9f3a"
             ],
             [
              0.8888888888888888,
              "#fdca26"
             ],
             [
              1,
              "#f0f921"
             ]
            ],
            "type": "heatmap"
           }
          ],
          "heatmapgl": [
           {
            "colorbar": {
             "outlinewidth": 0,
             "ticks": ""
            },
            "colorscale": [
             [
              0,
              "#0d0887"
             ],
             [
              0.1111111111111111,
              "#46039f"
             ],
             [
              0.2222222222222222,
              "#7201a8"
             ],
             [
              0.3333333333333333,
              "#9c179e"
             ],
             [
              0.4444444444444444,
              "#bd3786"
             ],
             [
              0.5555555555555556,
              "#d8576b"
             ],
             [
              0.6666666666666666,
              "#ed7953"
             ],
             [
              0.7777777777777778,
              "#fb9f3a"
             ],
             [
              0.8888888888888888,
              "#fdca26"
             ],
             [
              1,
              "#f0f921"
             ]
            ],
            "type": "heatmapgl"
           }
          ],
          "histogram": [
           {
            "marker": {
             "pattern": {
              "fillmode": "overlay",
              "size": 10,
              "solidity": 0.2
             }
            },
            "type": "histogram"
           }
          ],
          "histogram2d": [
           {
            "colorbar": {
             "outlinewidth": 0,
             "ticks": ""
            },
            "colorscale": [
             [
              0,
              "#0d0887"
             ],
             [
              0.1111111111111111,
              "#46039f"
             ],
             [
              0.2222222222222222,
              "#7201a8"
             ],
             [
              0.3333333333333333,
              "#9c179e"
             ],
             [
              0.4444444444444444,
              "#bd3786"
             ],
             [
              0.5555555555555556,
              "#d8576b"
             ],
             [
              0.6666666666666666,
              "#ed7953"
             ],
             [
              0.7777777777777778,
              "#fb9f3a"
             ],
             [
              0.8888888888888888,
              "#fdca26"
             ],
             [
              1,
              "#f0f921"
             ]
            ],
            "type": "histogram2d"
           }
          ],
          "histogram2dcontour": [
           {
            "colorbar": {
             "outlinewidth": 0,
             "ticks": ""
            },
            "colorscale": [
             [
              0,
              "#0d0887"
             ],
             [
              0.1111111111111111,
              "#46039f"
             ],
             [
              0.2222222222222222,
              "#7201a8"
             ],
             [
              0.3333333333333333,
              "#9c179e"
             ],
             [
              0.4444444444444444,
              "#bd3786"
             ],
             [
              0.5555555555555556,
              "#d8576b"
             ],
             [
              0.6666666666666666,
              "#ed7953"
             ],
             [
              0.7777777777777778,
              "#fb9f3a"
             ],
             [
              0.8888888888888888,
              "#fdca26"
             ],
             [
              1,
              "#f0f921"
             ]
            ],
            "type": "histogram2dcontour"
           }
          ],
          "mesh3d": [
           {
            "colorbar": {
             "outlinewidth": 0,
             "ticks": ""
            },
            "type": "mesh3d"
           }
          ],
          "parcoords": [
           {
            "line": {
             "colorbar": {
              "outlinewidth": 0,
              "ticks": ""
             }
            },
            "type": "parcoords"
           }
          ],
          "pie": [
           {
            "automargin": true,
            "type": "pie"
           }
          ],
          "scatter": [
           {
            "fillpattern": {
             "fillmode": "overlay",
             "size": 10,
             "solidity": 0.2
            },
            "type": "scatter"
           }
          ],
          "scatter3d": [
           {
            "line": {
             "colorbar": {
              "outlinewidth": 0,
              "ticks": ""
             }
            },
            "marker": {
             "colorbar": {
              "outlinewidth": 0,
              "ticks": ""
             }
            },
            "type": "scatter3d"
           }
          ],
          "scattercarpet": [
           {
            "marker": {
             "colorbar": {
              "outlinewidth": 0,
              "ticks": ""
             }
            },
            "type": "scattercarpet"
           }
          ],
          "scattergeo": [
           {
            "marker": {
             "colorbar": {
              "outlinewidth": 0,
              "ticks": ""
             }
            },
            "type": "scattergeo"
           }
          ],
          "scattergl": [
           {
            "marker": {
             "colorbar": {
              "outlinewidth": 0,
              "ticks": ""
             }
            },
            "type": "scattergl"
           }
          ],
          "scattermapbox": [
           {
            "marker": {
             "colorbar": {
              "outlinewidth": 0,
              "ticks": ""
             }
            },
            "type": "scattermapbox"
           }
          ],
          "scatterpolar": [
           {
            "marker": {
             "colorbar": {
              "outlinewidth": 0,
              "ticks": ""
             }
            },
            "type": "scatterpolar"
           }
          ],
          "scatterpolargl": [
           {
            "marker": {
             "colorbar": {
              "outlinewidth": 0,
              "ticks": ""
             }
            },
            "type": "scatterpolargl"
           }
          ],
          "scatterternary": [
           {
            "marker": {
             "colorbar": {
              "outlinewidth": 0,
              "ticks": ""
             }
            },
            "type": "scatterternary"
           }
          ],
          "surface": [
           {
            "colorbar": {
             "outlinewidth": 0,
             "ticks": ""
            },
            "colorscale": [
             [
              0,
              "#0d0887"
             ],
             [
              0.1111111111111111,
              "#46039f"
             ],
             [
              0.2222222222222222,
              "#7201a8"
             ],
             [
              0.3333333333333333,
              "#9c179e"
             ],
             [
              0.4444444444444444,
              "#bd3786"
             ],
             [
              0.5555555555555556,
              "#d8576b"
             ],
             [
              0.6666666666666666,
              "#ed7953"
             ],
             [
              0.7777777777777778,
              "#fb9f3a"
             ],
             [
              0.8888888888888888,
              "#fdca26"
             ],
             [
              1,
              "#f0f921"
             ]
            ],
            "type": "surface"
           }
          ],
          "table": [
           {
            "cells": {
             "fill": {
              "color": "#EBF0F8"
             },
             "line": {
              "color": "white"
             }
            },
            "header": {
             "fill": {
              "color": "#C8D4E3"
             },
             "line": {
              "color": "white"
             }
            },
            "type": "table"
           }
          ]
         },
         "layout": {
          "annotationdefaults": {
           "arrowcolor": "#2a3f5f",
           "arrowhead": 0,
           "arrowwidth": 1
          },
          "autotypenumbers": "strict",
          "coloraxis": {
           "colorbar": {
            "outlinewidth": 0,
            "ticks": ""
           }
          },
          "colorscale": {
           "diverging": [
            [
             0,
             "#8e0152"
            ],
            [
             0.1,
             "#c51b7d"
            ],
            [
             0.2,
             "#de77ae"
            ],
            [
             0.3,
             "#f1b6da"
            ],
            [
             0.4,
             "#fde0ef"
            ],
            [
             0.5,
             "#f7f7f7"
            ],
            [
             0.6,
             "#e6f5d0"
            ],
            [
             0.7,
             "#b8e186"
            ],
            [
             0.8,
             "#7fbc41"
            ],
            [
             0.9,
             "#4d9221"
            ],
            [
             1,
             "#276419"
            ]
           ],
           "sequential": [
            [
             0,
             "#0d0887"
            ],
            [
             0.1111111111111111,
             "#46039f"
            ],
            [
             0.2222222222222222,
             "#7201a8"
            ],
            [
             0.3333333333333333,
             "#9c179e"
            ],
            [
             0.4444444444444444,
             "#bd3786"
            ],
            [
             0.5555555555555556,
             "#d8576b"
            ],
            [
             0.6666666666666666,
             "#ed7953"
            ],
            [
             0.7777777777777778,
             "#fb9f3a"
            ],
            [
             0.8888888888888888,
             "#fdca26"
            ],
            [
             1,
             "#f0f921"
            ]
           ],
           "sequentialminus": [
            [
             0,
             "#0d0887"
            ],
            [
             0.1111111111111111,
             "#46039f"
            ],
            [
             0.2222222222222222,
             "#7201a8"
            ],
            [
             0.3333333333333333,
             "#9c179e"
            ],
            [
             0.4444444444444444,
             "#bd3786"
            ],
            [
             0.5555555555555556,
             "#d8576b"
            ],
            [
             0.6666666666666666,
             "#ed7953"
            ],
            [
             0.7777777777777778,
             "#fb9f3a"
            ],
            [
             0.8888888888888888,
             "#fdca26"
            ],
            [
             1,
             "#f0f921"
            ]
           ]
          },
          "colorway": [
           "#636efa",
           "#EF553B",
           "#00cc96",
           "#ab63fa",
           "#FFA15A",
           "#19d3f3",
           "#FF6692",
           "#B6E880",
           "#FF97FF",
           "#FECB52"
          ],
          "font": {
           "color": "#2a3f5f"
          },
          "geo": {
           "bgcolor": "white",
           "lakecolor": "white",
           "landcolor": "#E5ECF6",
           "showlakes": true,
           "showland": true,
           "subunitcolor": "white"
          },
          "hoverlabel": {
           "align": "left"
          },
          "hovermode": "closest",
          "mapbox": {
           "style": "light"
          },
          "paper_bgcolor": "white",
          "plot_bgcolor": "#E5ECF6",
          "polar": {
           "angularaxis": {
            "gridcolor": "white",
            "linecolor": "white",
            "ticks": ""
           },
           "bgcolor": "#E5ECF6",
           "radialaxis": {
            "gridcolor": "white",
            "linecolor": "white",
            "ticks": ""
           }
          },
          "scene": {
           "xaxis": {
            "backgroundcolor": "#E5ECF6",
            "gridcolor": "white",
            "gridwidth": 2,
            "linecolor": "white",
            "showbackground": true,
            "ticks": "",
            "zerolinecolor": "white"
           },
           "yaxis": {
            "backgroundcolor": "#E5ECF6",
            "gridcolor": "white",
            "gridwidth": 2,
            "linecolor": "white",
            "showbackground": true,
            "ticks": "",
            "zerolinecolor": "white"
           },
           "zaxis": {
            "backgroundcolor": "#E5ECF6",
            "gridcolor": "white",
            "gridwidth": 2,
            "linecolor": "white",
            "showbackground": true,
            "ticks": "",
            "zerolinecolor": "white"
           }
          },
          "shapedefaults": {
           "line": {
            "color": "#2a3f5f"
           }
          },
          "ternary": {
           "aaxis": {
            "gridcolor": "white",
            "linecolor": "white",
            "ticks": ""
           },
           "baxis": {
            "gridcolor": "white",
            "linecolor": "white",
            "ticks": ""
           },
           "bgcolor": "#E5ECF6",
           "caxis": {
            "gridcolor": "white",
            "linecolor": "white",
            "ticks": ""
           }
          },
          "title": {
           "x": 0.05
          },
          "xaxis": {
           "automargin": true,
           "gridcolor": "white",
           "linecolor": "white",
           "ticks": "",
           "title": {
            "standoff": 15
           },
           "zerolinecolor": "white",
           "zerolinewidth": 2
          },
          "yaxis": {
           "automargin": true,
           "gridcolor": "white",
           "linecolor": "white",
           "ticks": "",
           "title": {
            "standoff": 15
           },
           "zerolinecolor": "white",
           "zerolinewidth": 2
          }
         }
        },
        "title": {
         "text": "Stepwise deviation from random path, per countries articles"
        },
        "xaxis": {
         "anchor": "y",
         "domain": [
          0,
          1
         ],
         "title": {
          "text": "Step"
         }
        },
        "yaxis": {
         "anchor": "x",
         "domain": [
          0,
          1
         ],
         "title": {
          "text": "Cumulative difference"
         }
        }
       }
      }
     },
     "metadata": {},
     "output_type": "display_data"
    }
   ],
   "source": [
    "#plot only countries articles\n",
    "mean_diff_steps_country = mean_diff_steps_cat.loc[mean_diff_steps_cat['category']=='Countries']\n",
    "\n",
    "mean_diff_steps_country_melt = mean_diff_steps_country.melt(id_vars='article',\n",
    "                                                       value_vars=[0,1,2,3,4],\n",
    "                                                       var_name='Step',\n",
    "                                                       value_name='Cumulative difference')\n",
    "\n",
    "fig = px.line(data_frame=mean_diff_steps_country_melt,\n",
    "              x='Step',\n",
    "              y='Cumulative difference',\n",
    "              color='article',\n",
    "              title='Stepwise deviation from random path, per countries articles',\n",
    "              )\n",
    "fig.add_hline(\n",
    "    y=0,  \n",
    "    line=dict(color='black', dash='dash' ),  \n",
    "    annotation_text=\"Random path\",  \n",
    "    annotation_position=\"top right\",  \n",
    "    annotation_font=dict(size=12, color=\"black\")  \n",
    ")\n",
    "fig.show()"
   ]
  },
  {
   "cell_type": "markdown",
   "metadata": {},
   "source": [
    "<div class=\"alert alert-block alert-success\">\n",
    "Interestingly, no strongly negative values appear in later steps. This indicates that the strong negative values in the category plot is likely due to the accumulation of many small negative deviation from the random path. \n",
    "\n",
    "Lets verify this assimption by grouping articles that stay close to the random path as 'Others' article, and plotting their mean, and the value of their sum. \n",
    "</div>"
   ]
  },
  {
   "cell_type": "code",
   "execution_count": 40,
   "metadata": {},
   "outputs": [
    {
     "name": "stdout",
     "output_type": "stream",
     "text": [
      "Out of 229 country articles, 220 dont show strong evidence of user choice, and will be groupped as 'Others'\n",
      "Let's study the 9 remaining articles along 'Others'.\n"
     ]
    }
   ],
   "source": [
    "#choice to justify : threshold\n",
    "threshold_other=15\n",
    "\n",
    "# get all rows where diff values are close to 0 (absolute value is under threshold)\n",
    "minor_articles_country = mean_diff_steps_country[mean_diff_steps_country[[0,1,2,3,4]].abs().lt(threshold_other).all(axis=1)]\n",
    "print(f\"Out of {len(mean_diff_steps_country)} country articles, {len(minor_articles_country)} dont show strong evidence of user choice, and will be groupped as 'Others'\")\n",
    "print(f\"Let's study the {len(mean_diff_steps_country)-len(minor_articles_country)} remaining articles along 'Others'.\")"
   ]
  },
  {
   "cell_type": "code",
   "execution_count": 31,
   "metadata": {},
   "outputs": [
    {
     "data": {
      "application/vnd.plotly.v1+json": {
       "config": {
        "plotlyServerURL": "https://plot.ly"
       },
       "data": [
        {
         "hovertemplate": "article=United States<br>Step=%{x}<br>Cumulative difference=%{y}<extra></extra>",
         "legendgroup": "United States",
         "line": {
          "color": "#636efa",
          "dash": "solid"
         },
         "marker": {
          "symbol": "circle"
         },
         "mode": "lines",
         "name": "United States",
         "orientation": "v",
         "showlegend": true,
         "type": "scatter",
         "x": [
          0,
          1,
          2,
          3,
          4
         ],
         "xaxis": "x",
         "y": [
          219.68112252569605,
          44.12267891717884,
          -11.560963581558429,
          -30.32373661860341,
          -34.37887087800565
         ],
         "yaxis": "y"
        },
        {
         "hovertemplate": "article=United Kingdom<br>Step=%{x}<br>Cumulative difference=%{y}<extra></extra>",
         "legendgroup": "United Kingdom",
         "line": {
          "color": "#EF553B",
          "dash": "solid"
         },
         "marker": {
          "symbol": "circle"
         },
         "mode": "lines",
         "name": "United Kingdom",
         "orientation": "v",
         "showlegend": true,
         "type": "scatter",
         "x": [
          0,
          1,
          2,
          3,
          4
         ],
         "xaxis": "x",
         "y": [
          69.58680989198854,
          3.22093662443391,
          -26.219303509745817,
          -33.45327517942063,
          -33.83266657964102
         ],
         "yaxis": "y"
        },
        {
         "hovertemplate": "article=France<br>Step=%{x}<br>Cumulative difference=%{y}<extra></extra>",
         "legendgroup": "France",
         "line": {
          "color": "#00cc96",
          "dash": "solid"
         },
         "marker": {
          "symbol": "circle"
         },
         "mode": "lines",
         "name": "France",
         "orientation": "v",
         "showlegend": true,
         "type": "scatter",
         "x": [
          0,
          1,
          2,
          3,
          4
         ],
         "xaxis": "x",
         "y": [
          25.657438072752758,
          -22.24620185629402,
          -32.77781041741777,
          -36.382329167934,
          -41.382154116478084
         ],
         "yaxis": "y"
        },
        {
         "hovertemplate": "article=Germany<br>Step=%{x}<br>Cumulative difference=%{y}<extra></extra>",
         "legendgroup": "Germany",
         "line": {
          "color": "#ab63fa",
          "dash": "solid"
         },
         "marker": {
          "symbol": "circle"
         },
         "mode": "lines",
         "name": "Germany",
         "orientation": "v",
         "showlegend": true,
         "type": "scatter",
         "x": [
          0,
          1,
          2,
          3,
          4
         ],
         "xaxis": "x",
         "y": [
          16.886951345555172,
          -2.2873519387121335,
          -20.142994792859568,
          -25.999378914628686,
          -28.730885352781854
         ],
         "yaxis": "y"
        },
        {
         "hovertemplate": "article=India<br>Step=%{x}<br>Cumulative difference=%{y}<extra></extra>",
         "legendgroup": "India",
         "line": {
          "color": "#FFA15A",
          "dash": "solid"
         },
         "marker": {
          "symbol": "circle"
         },
         "mode": "lines",
         "name": "India",
         "orientation": "v",
         "showlegend": true,
         "type": "scatter",
         "x": [
          0,
          1,
          2,
          3,
          4
         ],
         "xaxis": "x",
         "y": [
          14.170072665775919,
          -11.366169502705683,
          -11.985535116617953,
          -18.944745784613847,
          -19.327238973262364
         ],
         "yaxis": "y"
        },
        {
         "hovertemplate": "article=Russia<br>Step=%{x}<br>Cumulative difference=%{y}<extra></extra>",
         "legendgroup": "Russia",
         "line": {
          "color": "#19d3f3",
          "dash": "solid"
         },
         "marker": {
          "symbol": "circle"
         },
         "mode": "lines",
         "name": "Russia",
         "orientation": "v",
         "showlegend": true,
         "type": "scatter",
         "x": [
          0,
          1,
          2,
          3,
          4
         ],
         "xaxis": "x",
         "y": [
          11.899708083298425,
          -8.649823278886025,
          -17.358913647190523,
          -20.278992854373982,
          -21.562581440308946
         ],
         "yaxis": "y"
        },
        {
         "hovertemplate": "article=Japan<br>Step=%{x}<br>Cumulative difference=%{y}<extra></extra>",
         "legendgroup": "Japan",
         "line": {
          "color": "#FF6692",
          "dash": "solid"
         },
         "marker": {
          "symbol": "circle"
         },
         "mode": "lines",
         "name": "Japan",
         "orientation": "v",
         "showlegend": true,
         "type": "scatter",
         "x": [
          0,
          1,
          2,
          3,
          4
         ],
         "xaxis": "x",
         "y": [
          6.113377255533997,
          -6.954849044603405,
          -14.103616316058751,
          -13.520382175894312,
          -16.562740101529528
         ],
         "yaxis": "y"
        },
        {
         "hovertemplate": "article=Italy<br>Step=%{x}<br>Cumulative difference=%{y}<extra></extra>",
         "legendgroup": "Italy",
         "line": {
          "color": "#B6E880",
          "dash": "solid"
         },
         "marker": {
          "symbol": "circle"
         },
         "mode": "lines",
         "name": "Italy",
         "orientation": "v",
         "showlegend": true,
         "type": "scatter",
         "x": [
          0,
          1,
          2,
          3,
          4
         ],
         "xaxis": "x",
         "y": [
          5.207166750568877,
          -11.340362530125804,
          -15.866884511649529,
          -16.886188053980955,
          -19.8737523884322
         ],
         "yaxis": "y"
        },
        {
         "hovertemplate": "article=Spain<br>Step=%{x}<br>Cumulative difference=%{y}<extra></extra>",
         "legendgroup": "Spain",
         "line": {
          "color": "#FF97FF",
          "dash": "solid"
         },
         "marker": {
          "symbol": "circle"
         },
         "mode": "lines",
         "name": "Spain",
         "orientation": "v",
         "showlegend": true,
         "type": "scatter",
         "x": [
          0,
          1,
          2,
          3,
          4
         ],
         "xaxis": "x",
         "y": [
          0.8296847471373554,
          -12.60853864709504,
          -17.103797137009863,
          -19.450685018848464,
          -21.734779831697974
         ],
         "yaxis": "y"
        },
        {
         "hovertemplate": "article=Others_mean<br>Step=%{x}<br>Cumulative difference=%{y}<extra></extra>",
         "legendgroup": "Others_mean",
         "line": {
          "color": "#FECB52",
          "dash": "solid"
         },
         "marker": {
          "symbol": "circle"
         },
         "mode": "lines",
         "name": "Others_mean",
         "orientation": "v",
         "showlegend": true,
         "type": "scatter",
         "x": [
          0,
          1,
          2,
          3,
          4
         ],
         "xaxis": "x",
         "y": [
          -0.7975347714004625,
          -2.3754736906562557,
          -2.730566210742087,
          -2.960831318149392,
          -3.0856890379833843
         ],
         "yaxis": "y"
        },
        {
         "hovertemplate": "article=Others_sum<br>Step=%{x}<br>Cumulative difference=%{y}<extra></extra>",
         "legendgroup": "Others_sum",
         "line": {
          "color": "#636efa",
          "dash": "solid"
         },
         "marker": {
          "symbol": "circle"
         },
         "mode": "lines",
         "name": "Others_sum",
         "orientation": "v",
         "showlegend": true,
         "type": "scatter",
         "x": [
          0,
          1,
          2,
          3,
          4
         ],
         "xaxis": "x",
         "y": [
          -175.45764970810174,
          -522.6042119443763,
          -600.7245663632591,
          -651.3828899928662,
          -678.8515883563446
         ],
         "yaxis": "y"
        }
       ],
       "layout": {
        "annotations": [
         {
          "font": {
           "color": "black",
           "size": 12
          },
          "showarrow": false,
          "text": "Random path",
          "x": 1,
          "xanchor": "right",
          "xref": "x domain",
          "y": 0,
          "yanchor": "bottom",
          "yref": "y"
         }
        ],
        "legend": {
         "title": {
          "text": "article"
         },
         "tracegroupgap": 0
        },
        "shapes": [
         {
          "line": {
           "color": "black",
           "dash": "dash"
          },
          "type": "line",
          "x0": 0,
          "x1": 1,
          "xref": "x domain",
          "y0": 0,
          "y1": 0,
          "yref": "y"
         }
        ],
        "template": {
         "data": {
          "bar": [
           {
            "error_x": {
             "color": "#2a3f5f"
            },
            "error_y": {
             "color": "#2a3f5f"
            },
            "marker": {
             "line": {
              "color": "#E5ECF6",
              "width": 0.5
             },
             "pattern": {
              "fillmode": "overlay",
              "size": 10,
              "solidity": 0.2
             }
            },
            "type": "bar"
           }
          ],
          "barpolar": [
           {
            "marker": {
             "line": {
              "color": "#E5ECF6",
              "width": 0.5
             },
             "pattern": {
              "fillmode": "overlay",
              "size": 10,
              "solidity": 0.2
             }
            },
            "type": "barpolar"
           }
          ],
          "carpet": [
           {
            "aaxis": {
             "endlinecolor": "#2a3f5f",
             "gridcolor": "white",
             "linecolor": "white",
             "minorgridcolor": "white",
             "startlinecolor": "#2a3f5f"
            },
            "baxis": {
             "endlinecolor": "#2a3f5f",
             "gridcolor": "white",
             "linecolor": "white",
             "minorgridcolor": "white",
             "startlinecolor": "#2a3f5f"
            },
            "type": "carpet"
           }
          ],
          "choropleth": [
           {
            "colorbar": {
             "outlinewidth": 0,
             "ticks": ""
            },
            "type": "choropleth"
           }
          ],
          "contour": [
           {
            "colorbar": {
             "outlinewidth": 0,
             "ticks": ""
            },
            "colorscale": [
             [
              0,
              "#0d0887"
             ],
             [
              0.1111111111111111,
              "#46039f"
             ],
             [
              0.2222222222222222,
              "#7201a8"
             ],
             [
              0.3333333333333333,
              "#9c179e"
             ],
             [
              0.4444444444444444,
              "#bd3786"
             ],
             [
              0.5555555555555556,
              "#d8576b"
             ],
             [
              0.6666666666666666,
              "#ed7953"
             ],
             [
              0.7777777777777778,
              "#fb9f3a"
             ],
             [
              0.8888888888888888,
              "#fdca26"
             ],
             [
              1,
              "#f0f921"
             ]
            ],
            "type": "contour"
           }
          ],
          "contourcarpet": [
           {
            "colorbar": {
             "outlinewidth": 0,
             "ticks": ""
            },
            "type": "contourcarpet"
           }
          ],
          "heatmap": [
           {
            "colorbar": {
             "outlinewidth": 0,
             "ticks": ""
            },
            "colorscale": [
             [
              0,
              "#0d0887"
             ],
             [
              0.1111111111111111,
              "#46039f"
             ],
             [
              0.2222222222222222,
              "#7201a8"
             ],
             [
              0.3333333333333333,
              "#9c179e"
             ],
             [
              0.4444444444444444,
              "#bd3786"
             ],
             [
              0.5555555555555556,
              "#d8576b"
             ],
             [
              0.6666666666666666,
              "#ed7953"
             ],
             [
              0.7777777777777778,
              "#fb9f3a"
             ],
             [
              0.8888888888888888,
              "#fdca26"
             ],
             [
              1,
              "#f0f921"
             ]
            ],
            "type": "heatmap"
           }
          ],
          "heatmapgl": [
           {
            "colorbar": {
             "outlinewidth": 0,
             "ticks": ""
            },
            "colorscale": [
             [
              0,
              "#0d0887"
             ],
             [
              0.1111111111111111,
              "#46039f"
             ],
             [
              0.2222222222222222,
              "#7201a8"
             ],
             [
              0.3333333333333333,
              "#9c179e"
             ],
             [
              0.4444444444444444,
              "#bd3786"
             ],
             [
              0.5555555555555556,
              "#d8576b"
             ],
             [
              0.6666666666666666,
              "#ed7953"
             ],
             [
              0.7777777777777778,
              "#fb9f3a"
             ],
             [
              0.8888888888888888,
              "#fdca26"
             ],
             [
              1,
              "#f0f921"
             ]
            ],
            "type": "heatmapgl"
           }
          ],
          "histogram": [
           {
            "marker": {
             "pattern": {
              "fillmode": "overlay",
              "size": 10,
              "solidity": 0.2
             }
            },
            "type": "histogram"
           }
          ],
          "histogram2d": [
           {
            "colorbar": {
             "outlinewidth": 0,
             "ticks": ""
            },
            "colorscale": [
             [
              0,
              "#0d0887"
             ],
             [
              0.1111111111111111,
              "#46039f"
             ],
             [
              0.2222222222222222,
              "#7201a8"
             ],
             [
              0.3333333333333333,
              "#9c179e"
             ],
             [
              0.4444444444444444,
              "#bd3786"
             ],
             [
              0.5555555555555556,
              "#d8576b"
             ],
             [
              0.6666666666666666,
              "#ed7953"
             ],
             [
              0.7777777777777778,
              "#fb9f3a"
             ],
             [
              0.8888888888888888,
              "#fdca26"
             ],
             [
              1,
              "#f0f921"
             ]
            ],
            "type": "histogram2d"
           }
          ],
          "histogram2dcontour": [
           {
            "colorbar": {
             "outlinewidth": 0,
             "ticks": ""
            },
            "colorscale": [
             [
              0,
              "#0d0887"
             ],
             [
              0.1111111111111111,
              "#46039f"
             ],
             [
              0.2222222222222222,
              "#7201a8"
             ],
             [
              0.3333333333333333,
              "#9c179e"
             ],
             [
              0.4444444444444444,
              "#bd3786"
             ],
             [
              0.5555555555555556,
              "#d8576b"
             ],
             [
              0.6666666666666666,
              "#ed7953"
             ],
             [
              0.7777777777777778,
              "#fb9f3a"
             ],
             [
              0.8888888888888888,
              "#fdca26"
             ],
             [
              1,
              "#f0f921"
             ]
            ],
            "type": "histogram2dcontour"
           }
          ],
          "mesh3d": [
           {
            "colorbar": {
             "outlinewidth": 0,
             "ticks": ""
            },
            "type": "mesh3d"
           }
          ],
          "parcoords": [
           {
            "line": {
             "colorbar": {
              "outlinewidth": 0,
              "ticks": ""
             }
            },
            "type": "parcoords"
           }
          ],
          "pie": [
           {
            "automargin": true,
            "type": "pie"
           }
          ],
          "scatter": [
           {
            "fillpattern": {
             "fillmode": "overlay",
             "size": 10,
             "solidity": 0.2
            },
            "type": "scatter"
           }
          ],
          "scatter3d": [
           {
            "line": {
             "colorbar": {
              "outlinewidth": 0,
              "ticks": ""
             }
            },
            "marker": {
             "colorbar": {
              "outlinewidth": 0,
              "ticks": ""
             }
            },
            "type": "scatter3d"
           }
          ],
          "scattercarpet": [
           {
            "marker": {
             "colorbar": {
              "outlinewidth": 0,
              "ticks": ""
             }
            },
            "type": "scattercarpet"
           }
          ],
          "scattergeo": [
           {
            "marker": {
             "colorbar": {
              "outlinewidth": 0,
              "ticks": ""
             }
            },
            "type": "scattergeo"
           }
          ],
          "scattergl": [
           {
            "marker": {
             "colorbar": {
              "outlinewidth": 0,
              "ticks": ""
             }
            },
            "type": "scattergl"
           }
          ],
          "scattermapbox": [
           {
            "marker": {
             "colorbar": {
              "outlinewidth": 0,
              "ticks": ""
             }
            },
            "type": "scattermapbox"
           }
          ],
          "scatterpolar": [
           {
            "marker": {
             "colorbar": {
              "outlinewidth": 0,
              "ticks": ""
             }
            },
            "type": "scatterpolar"
           }
          ],
          "scatterpolargl": [
           {
            "marker": {
             "colorbar": {
              "outlinewidth": 0,
              "ticks": ""
             }
            },
            "type": "scatterpolargl"
           }
          ],
          "scatterternary": [
           {
            "marker": {
             "colorbar": {
              "outlinewidth": 0,
              "ticks": ""
             }
            },
            "type": "scatterternary"
           }
          ],
          "surface": [
           {
            "colorbar": {
             "outlinewidth": 0,
             "ticks": ""
            },
            "colorscale": [
             [
              0,
              "#0d0887"
             ],
             [
              0.1111111111111111,
              "#46039f"
             ],
             [
              0.2222222222222222,
              "#7201a8"
             ],
             [
              0.3333333333333333,
              "#9c179e"
             ],
             [
              0.4444444444444444,
              "#bd3786"
             ],
             [
              0.5555555555555556,
              "#d8576b"
             ],
             [
              0.6666666666666666,
              "#ed7953"
             ],
             [
              0.7777777777777778,
              "#fb9f3a"
             ],
             [
              0.8888888888888888,
              "#fdca26"
             ],
             [
              1,
              "#f0f921"
             ]
            ],
            "type": "surface"
           }
          ],
          "table": [
           {
            "cells": {
             "fill": {
              "color": "#EBF0F8"
             },
             "line": {
              "color": "white"
             }
            },
            "header": {
             "fill": {
              "color": "#C8D4E3"
             },
             "line": {
              "color": "white"
             }
            },
            "type": "table"
           }
          ]
         },
         "layout": {
          "annotationdefaults": {
           "arrowcolor": "#2a3f5f",
           "arrowhead": 0,
           "arrowwidth": 1
          },
          "autotypenumbers": "strict",
          "coloraxis": {
           "colorbar": {
            "outlinewidth": 0,
            "ticks": ""
           }
          },
          "colorscale": {
           "diverging": [
            [
             0,
             "#8e0152"
            ],
            [
             0.1,
             "#c51b7d"
            ],
            [
             0.2,
             "#de77ae"
            ],
            [
             0.3,
             "#f1b6da"
            ],
            [
             0.4,
             "#fde0ef"
            ],
            [
             0.5,
             "#f7f7f7"
            ],
            [
             0.6,
             "#e6f5d0"
            ],
            [
             0.7,
             "#b8e186"
            ],
            [
             0.8,
             "#7fbc41"
            ],
            [
             0.9,
             "#4d9221"
            ],
            [
             1,
             "#276419"
            ]
           ],
           "sequential": [
            [
             0,
             "#0d0887"
            ],
            [
             0.1111111111111111,
             "#46039f"
            ],
            [
             0.2222222222222222,
             "#7201a8"
            ],
            [
             0.3333333333333333,
             "#9c179e"
            ],
            [
             0.4444444444444444,
             "#bd3786"
            ],
            [
             0.5555555555555556,
             "#d8576b"
            ],
            [
             0.6666666666666666,
             "#ed7953"
            ],
            [
             0.7777777777777778,
             "#fb9f3a"
            ],
            [
             0.8888888888888888,
             "#fdca26"
            ],
            [
             1,
             "#f0f921"
            ]
           ],
           "sequentialminus": [
            [
             0,
             "#0d0887"
            ],
            [
             0.1111111111111111,
             "#46039f"
            ],
            [
             0.2222222222222222,
             "#7201a8"
            ],
            [
             0.3333333333333333,
             "#9c179e"
            ],
            [
             0.4444444444444444,
             "#bd3786"
            ],
            [
             0.5555555555555556,
             "#d8576b"
            ],
            [
             0.6666666666666666,
             "#ed7953"
            ],
            [
             0.7777777777777778,
             "#fb9f3a"
            ],
            [
             0.8888888888888888,
             "#fdca26"
            ],
            [
             1,
             "#f0f921"
            ]
           ]
          },
          "colorway": [
           "#636efa",
           "#EF553B",
           "#00cc96",
           "#ab63fa",
           "#FFA15A",
           "#19d3f3",
           "#FF6692",
           "#B6E880",
           "#FF97FF",
           "#FECB52"
          ],
          "font": {
           "color": "#2a3f5f"
          },
          "geo": {
           "bgcolor": "white",
           "lakecolor": "white",
           "landcolor": "#E5ECF6",
           "showlakes": true,
           "showland": true,
           "subunitcolor": "white"
          },
          "hoverlabel": {
           "align": "left"
          },
          "hovermode": "closest",
          "mapbox": {
           "style": "light"
          },
          "paper_bgcolor": "white",
          "plot_bgcolor": "#E5ECF6",
          "polar": {
           "angularaxis": {
            "gridcolor": "white",
            "linecolor": "white",
            "ticks": ""
           },
           "bgcolor": "#E5ECF6",
           "radialaxis": {
            "gridcolor": "white",
            "linecolor": "white",
            "ticks": ""
           }
          },
          "scene": {
           "xaxis": {
            "backgroundcolor": "#E5ECF6",
            "gridcolor": "white",
            "gridwidth": 2,
            "linecolor": "white",
            "showbackground": true,
            "ticks": "",
            "zerolinecolor": "white"
           },
           "yaxis": {
            "backgroundcolor": "#E5ECF6",
            "gridcolor": "white",
            "gridwidth": 2,
            "linecolor": "white",
            "showbackground": true,
            "ticks": "",
            "zerolinecolor": "white"
           },
           "zaxis": {
            "backgroundcolor": "#E5ECF6",
            "gridcolor": "white",
            "gridwidth": 2,
            "linecolor": "white",
            "showbackground": true,
            "ticks": "",
            "zerolinecolor": "white"
           }
          },
          "shapedefaults": {
           "line": {
            "color": "#2a3f5f"
           }
          },
          "ternary": {
           "aaxis": {
            "gridcolor": "white",
            "linecolor": "white",
            "ticks": ""
           },
           "baxis": {
            "gridcolor": "white",
            "linecolor": "white",
            "ticks": ""
           },
           "bgcolor": "#E5ECF6",
           "caxis": {
            "gridcolor": "white",
            "linecolor": "white",
            "ticks": ""
           }
          },
          "title": {
           "x": 0.05
          },
          "xaxis": {
           "automargin": true,
           "gridcolor": "white",
           "linecolor": "white",
           "ticks": "",
           "title": {
            "standoff": 15
           },
           "zerolinecolor": "white",
           "zerolinewidth": 2
          },
          "yaxis": {
           "automargin": true,
           "gridcolor": "white",
           "linecolor": "white",
           "ticks": "",
           "title": {
            "standoff": 15
           },
           "zerolinecolor": "white",
           "zerolinewidth": 2
          }
         }
        },
        "title": {
         "text": "Stepwise deviation from random path, per major Countries article"
        },
        "xaxis": {
         "anchor": "y",
         "domain": [
          0,
          1
         ],
         "title": {
          "text": "Step"
         }
        },
        "yaxis": {
         "anchor": "x",
         "domain": [
          0,
          1
         ],
         "title": {
          "text": "Cumulative difference"
         }
        }
       }
      }
     },
     "metadata": {},
     "output_type": "display_data"
    }
   ],
   "source": [
    "#Plot countries articles, regrouping the ones that dont vary much into 'Others'\n",
    "#get their average at each step\n",
    "avg = minor_articles_country[[0,1,2,3,4]].agg('mean',axis=0)\n",
    "avg_row = {'article': 'Others_mean', **avg.to_dict(), 'category':'Countries'}\n",
    "#get their sum at each step \n",
    "total_other = minor_articles_country[[0,1,2,3,4]].agg('sum', axis=0)\n",
    "total_row ={'article':'Others_sum', **total_other.to_dict(), 'category':'Countries'}\n",
    "\n",
    "#remove lines of minor articles\n",
    "mean_diff_steps_country_droped = mean_diff_steps_country[~mean_diff_steps_country['article'].isin(minor_articles_country['article'])].copy()\n",
    "\n",
    "# add 'Others' line : average and sum of removed lines\n",
    "mean_diff_steps_country_droped.loc[len(mean_diff_steps_country_droped)] = avg_row\n",
    "mean_diff_steps_country_droped.loc[len(mean_diff_steps_country_droped)] = total_row\n",
    "\n",
    "mean_diff_steps_country_droped_melt = mean_diff_steps_country_droped.melt(id_vars='article',\n",
    "                                    value_vars=[0,1,2,3,4],\n",
    "                                    var_name='Step',\n",
    "                                    value_name='Cumulative difference',\n",
    "                                    )\n",
    "fig = px.line(data_frame=mean_diff_steps_country_droped_melt,\n",
    "        x='Step',\n",
    "        y='Cumulative difference',\n",
    "        color='article',\n",
    "        title='Stepwise deviation from random path, per major Countries article')\n",
    "fig.add_hline(\n",
    "    y=0,  \n",
    "    line=dict(color='black', dash='dash' ),  \n",
    "    annotation_text=\"Random path\",  \n",
    "    annotation_position=\"top right\",  \n",
    "    annotation_font=dict(size=12, color=\"black\")  \n",
    ")\n",
    "fig.show()"
   ]
  },
  {
   "cell_type": "markdown",
   "metadata": {},
   "source": [
    "<div class=\"alert alert-block alert-success\">\n",
    "A great majority of countries articles are clicked close to randomly (the difference between player path and random path is close to 0), but they are so numerous that they cumulate to be very significant in the country category.\n",
    "\n",
    "These articles being so influent in the category stats and being close to random, we could make the choice to ingore them by :\n",
    "finding a way for them not to influence so much the category: by removing them? by expressing them under 'Other_mean'? how to justify this choice? \n",
    "</div>"
   ]
  },
  {
   "cell_type": "markdown",
   "metadata": {},
   "source": [
    "## Small Example"
   ]
  },
  {
   "cell_type": "code",
   "execution_count": 25,
   "metadata": {},
   "outputs": [],
   "source": [
    "example_articles = pd.Series(['United States', 'France', 'Agriculture', 'Mexico', 'Natural gas'])\n",
    "\n",
    "tp = get_transition_probabilities(example_articles, parser, backclicks=True)"
   ]
  },
  {
   "cell_type": "code",
   "execution_count": 26,
   "metadata": {},
   "outputs": [
    {
     "data": {
      "image/png": "[encoded data removed]",
      "text/plain": [
       "<Figure size 576x432 with 2 Axes>"
      ]
     },
     "metadata": {
      "needs_background": "light"
     },
     "output_type": "display_data"
    }
   ],
   "source": [
    "plt.figure(figsize=(8, 6))\n",
    "sn.heatmap(np.linalg.matrix_power(tp, 1), cmap='BuPu', annot=True, fmt=\".2f\", cbar=True)\n",
    "\n",
    "plt.xticks(np.arange(6) + 0.5, ['<'] + example_articles.to_list(), rotation=0)  # Keep x-ticks horizontal\n",
    "plt.yticks(np.arange(6) + 0.5, ['<'] + example_articles.to_list(), rotation=0)  # Make y-ticks horizontal\n",
    "\n",
    "plt.tight_layout()\n",
    "plt.show()"
   ]
  },
  {
   "cell_type": "code",
   "execution_count": 27,
   "metadata": {},
   "outputs": [
    {
     "name": "stdout",
     "output_type": "stream",
     "text": [
      "[ True  True  True  True  True  True]\n"
     ]
    }
   ],
   "source": [
    "eigval, eigvec = np.linalg.eig(tp.T)\n",
    "steady_state = eigvec[:, 0] / np.sum(eigvec[:, 0])\n",
    "print(np.isclose(steady_state @ tp, steady_state)) # testing if the vector is really a left eigenvector with eigenvalue 1"
   ]
  },
  {
   "cell_type": "code",
   "execution_count": 28,
   "metadata": {},
   "outputs": [
    {
     "data": {
      "text/plain": [
       "array([0.19663573, 0.29825261, 0.20772912, 0.07736369, 0.15835267,\n",
       "       0.06166618])"
      ]
     },
     "execution_count": 28,
     "metadata": {},
     "output_type": "execute_result"
    }
   ],
   "source": [
    "steady_state # 0.19% end up in \"<\", 0.29% in \"United States\", ..."
   ]
  },
  {
   "cell_type": "code",
   "execution_count": 29,
   "metadata": {},
   "outputs": [],
   "source": [
    "example_articles = pd.Series(['United States', 'France', 'Agriculture', 'Mexico'])\n",
    "markov_example = get_transition_probabilities(example_articles, parser, backclicks=False)\n",
    "user_example = row_normalise(user_transitions[example_articles].loc[example_articles])\n",
    "diff_example = user_example-markov_example"
   ]
  },
  {
   "cell_type": "code",
   "execution_count": 30,
   "metadata": {},
   "outputs": [
    {
     "data": {
      "image/png": "[encoded data removed]",
      "text/plain": [
       "<Figure size 1080x288 with 6 Axes>"
      ]
     },
     "metadata": {
      "needs_background": "light"
     },
     "output_type": "display_data"
    }
   ],
   "source": [
    "plt.figure(figsize=(15, 4))\n",
    "\n",
    "plt.subplot(131)\n",
    "sn.heatmap(markov_example, cmap='BuPu', annot=True, fmt=\".2f\", cbar=True, vmin=0, vmax=1)\n",
    "plt.xticks(np.arange(4) + 0.5, example_articles.to_list(), rotation=0)  # Keep x-ticks horizontal\n",
    "plt.yticks(np.arange(4) + 0.5, example_articles.to_list(), rotation=0)  # Make y-ticks horizontal\n",
    "plt.title('Markov Transition')\n",
    "\n",
    "plt.subplot(132)\n",
    "sn.heatmap(user_example, cmap='BuPu', annot=True, fmt=\".2f\", cbar=True, vmin=0, vmax=1)\n",
    "plt.xticks(np.arange(4) + 0.5, example_articles.to_list(), rotation=0)  # Keep x-ticks horizontal\n",
    "plt.yticks(np.arange(4) + 0.5, example_articles.to_list(), rotation=0)  # Make y-ticks horizontal\n",
    "plt.title('User Transition')\n",
    "\n",
    "plt.subplot(133)\n",
    "sn.heatmap(diff_example, cmap='vlag', annot=True, fmt=\".2f\", cbar=True, vmin=-1, vmax=1)\n",
    "plt.xticks(np.arange(4) + 0.5, example_articles.to_list(), rotation=0)  # Keep x-ticks horizontal\n",
    "plt.yticks(np.arange(4) + 0.5, example_articles.to_list(), rotation=0)  # Make y-ticks horizontal\n",
    "plt.title('Difference')\n",
    "\n",
    "plt.tight_layout()\n",
    "plt.show()"
   ]
  },
  {
   "cell_type": "markdown",
   "metadata": {},
   "source": [
    "<div class=\"alert alert-block alert-success\">\n",
    "\n",
    "For France and Agriculture, the Markov Chain perfectly aligns with the observations. For Mexico, it is a very close match, slightly more people than random go to France and slightly less to Agriculture and United States. For United States, many more people went to Agriculture than predicted and less to France.\n",
    "</div>"
   ]
  }
 ],
 "metadata": {
  "kernelspec": {
   "display_name": "ada_project",
   "language": "python",
   "name": "python3"
  },
  "language_info": {
   "codemirror_mode": {
    "name": "ipython",
    "version": 3
   },
   "file_extension": ".py",
   "mimetype": "text/x-python",
   "name": "python",
   "nbconvert_exporter": "python",
   "pygments_lexer": "ipython3",
   "version": "3.9.18"
  }
 },
 "nbformat": 4,
 "nbformat_minor": 2
}
