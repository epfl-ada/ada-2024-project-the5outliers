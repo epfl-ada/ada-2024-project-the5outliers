{
 "cells": [
  {
   "cell_type": "code",
   "execution_count": 1,
   "metadata": {},
   "outputs": [],
   "source": [
    "import seaborn as sn\n",
    "import matplotlib.pyplot as plt\n",
    "import matplotlib.colors as mcolors\n",
    "from scipy.cluster.hierarchy import linkage, leaves_list\n",
    "from scipy.stats import kurtosis\n",
    "import ipywidgets as widgets\n",
    "from IPython.display import display\n",
    "import plotly.graph_objects as go\n",
    "\n",
    "from src.utils.HTMLParser import HTMLParser\n",
    "from src.data.data_loader import *\n",
    "from src.utils.helpers import *\n",
    "from src.models.networks import *\n",
    "\n",
    "from src.models.similarity_matrices import *\n",
    "\n",
    "parser = HTMLParser()\n",
    "parser.load_pickle()"
   ]
  },
  {
   "cell_type": "code",
   "execution_count": 12,
   "metadata": {},
   "outputs": [
    {
     "name": "stdout",
     "output_type": "stream",
     "text": [
      "Unfinished Paths\n",
      "---------------- \n",
      "Number of rows before filtering: 24875\n",
      "Invalid target articles found: {'Fats', 'Macedonia', 'Usa', 'Bogota', 'Podcast', 'Sportacus', ' Zebra', 'Rss', 'The', 'Great', 'Adolph Hitler', 'Black ops 2', 'Test', 'Long peper', 'Pikachu', 'Charlottes web', 'Christmas', 'Western Australia', 'Rat', 'Netbook', 'English', 'Mustard', 'Georgia', 'Kashmir', 'The Rock'}\n",
      "Invalid articles found in path: {'Private Peaceful', 'Wikipedia Text of the GNU Free Documentation License', 'Pikachu', 'Osteomalacia', 'Local community'}\n",
      "Number of 'timeout' games with a duration of less than 30 minutes: 7\n",
      "Number of rows after filtering: 24709 \n",
      "\n",
      "Finished Paths\n",
      "-------------- \n",
      "Number of rows before filtering: 51318\n",
      "Invalid articles found in path: {'Pikachu', 'Osteomalacia', 'Wikipedia Text of the GNU Free Documentation License', 'Local community'}\n",
      "Number of rows after filtering: 51196\n"
     ]
    }
   ],
   "source": [
    "df_article_names = read_articles() \n",
    "df_html_stats = parser.get_df_html_stats()\n",
    "df_categories = read_categories()\n",
    "df_links = read_links()\n",
    "df_shortest_path = read_shortest_path_matrix()\n",
    "df_unfinished = read_unfinished_paths()\n",
    "df_finished = read_finished_paths() \n",
    "df_sm = read_similartiy_matrix() \n",
    "df_scat = read_categories_matrix()"
   ]
  },
  {
   "cell_type": "markdown",
   "metadata": {},
   "source": [
    "- **Only parse one time to save the parsed_information into the pickle file**  \n",
    "Avoid do ``parser.parse_all()`` at each call of ``mean_link_position_per_category()`` function"
   ]
  },
  {
   "cell_type": "code",
   "execution_count": 3,
   "metadata": {},
   "outputs": [
    {
     "name": "stderr",
     "output_type": "stream",
     "text": [
      "100%|██████████| 4584/4584 [08:34<00:00,  8.90it/s]\n"
     ]
    }
   ],
   "source": [
    "# indices = [i for i in parser.article_names.index if parser.article_names[i] in df_article_names.values]\n",
    "# parser.parse_selection(indices)\n",
    "# parser.save_pickle()"
   ]
  },
  {
   "cell_type": "code",
   "execution_count": 16,
   "metadata": {},
   "outputs": [],
   "source": [
    "#DEFINE A NEW COLOR PALETTE TO HIGHLIGHT COUNTRY AND CATEGORIES, and add a possible color 'Others'\n",
    "categories_others = ['Art',\n",
    " 'Business Studies',\n",
    " 'Citizenship',\n",
    " 'Countries',\n",
    " 'Design and Technology',\n",
    " 'Everyday life',\n",
    " 'Geography',\n",
    " 'History',\n",
    " 'IT',\n",
    " 'Language and literature',\n",
    " 'Mathematics',\n",
    " 'Music',\n",
    " 'People',\n",
    " 'Religion',\n",
    " 'Science',\n",
    " 'Others',]\n",
    "\n",
    "# colors for country and geo \n",
    "highlight_colors = {'Countries': '#2CB5AE','Geography': '#16A2F3'}\n",
    "\n",
    "# shades of grey for other categories\n",
    "num_greys = len(categories_others) - 2  # - country and geo \n",
    "grey_shades = [mcolors.to_hex((v, v, v)) for v in np.linspace(0.2, 0.4, num_greys)]\n",
    "non_custom_categories = [cat for cat in categories_others if cat not in highlight_colors]\n",
    "grey_palette = dict(zip(non_custom_categories, grey_shades)) ##here zip with a new \n",
    "\n",
    "# Combine custom colors and grey palette\n",
    "palette_category_dict = {**highlight_colors, **grey_palette}"
   ]
  },
  {
   "cell_type": "code",
   "execution_count": 4,
   "metadata": {},
   "outputs": [],
   "source": [
    "df_article = pd.DataFrame(df_article_names).copy()\n",
    "\n",
    "# Compute in-degree (number of times each article is a target link)\n",
    "in_degree = df_links.groupby('linkTarget').size().reset_index(name=\"in_degree\")\n",
    "# Compute out-degree (link density: number of times each article is a source link)\n",
    "out_degree = df_links.groupby('linkSource').size().reset_index(name=\"out_degree\")\n",
    "\n",
    "# Merge in-degree and out-degree with df_article_names\n",
    "df_article = df_article.merge(in_degree, left_on='article', right_on='linkTarget', how='left')\n",
    "df_article = df_article.merge(out_degree, left_on='article', right_on='linkSource', how='left')\n",
    "df_article = df_article.drop(columns=['linkTarget', 'linkSource'])\n",
    "\n",
    "# Fill NaN values with 0, assuming no links imply zero counts for those articles\n",
    "df_article = df_article.fillna(0).astype({'in_degree': 'int', 'out_degree': 'int'})\n",
    "\n",
    "# add the html stats to the articles\n",
    "df_html_stats = df_html_stats.rename(columns={'article_name': 'article'})\n",
    "df_article = pd.merge(df_article, df_html_stats, how='inner')\n",
    "\n",
    "# add the category (level_1) to each articles\n",
    "category_map = dict(zip(df_categories[\"article\"], df_categories[\"level_1\"]))\n",
    "df_article[\"category\"] = df_article[\"article\"].map(category_map)"
   ]
  },
  {
   "cell_type": "code",
   "execution_count": 5,
   "metadata": {},
   "outputs": [],
   "source": [
    "df_article = pd.DataFrame(df_article_names).copy()\n",
    "\n",
    "# Compute in-degree (number of times each article is a target link)\n",
    "in_degree = df_links.groupby('linkTarget').size().reset_index(name=\"in_degree\")\n",
    "# Compute out-degree (link density: number of times each article is a source link)\n",
    "out_degree = df_links.groupby('linkSource').size().reset_index(name=\"out_degree\")\n",
    "\n",
    "# Merge in-degree and out-degree with df_article_names\n",
    "df_article = df_article.merge(in_degree, left_on='article', right_on='linkTarget', how='left')\n",
    "df_article = df_article.merge(out_degree, left_on='article', right_on='linkSource', how='left')\n",
    "df_article = df_article.drop(columns=['linkTarget', 'linkSource'])\n",
    "\n",
    "# Fill NaN values with 0, assuming no links imply zero counts for those articles\n",
    "df_article = df_article.fillna(0).astype({'in_degree': 'int', 'out_degree': 'int'})\n",
    "\n",
    "# add the html stats to the articles\n",
    "df_html_stats = df_html_stats.rename(columns={'article_name': 'article'})\n",
    "df_article = pd.merge(df_article, df_html_stats, how='inner')\n",
    "\n",
    "# add the category (level_1) to each articles\n",
    "category_map = dict(zip(df_categories[\"article\"], df_categories[\"level_1\"]))\n",
    "df_article[\"category\"] = df_article[\"article\"].map(category_map)"
   ]
  },
  {
   "cell_type": "code",
   "execution_count": 6,
   "metadata": {},
   "outputs": [],
   "source": [
    "# let's add some useful metrics to each paths dataframe: shortest path, semantic similarity\n",
    "df_unfinished['cosine_similarity'] = df_unfinished.apply(lambda x: find_shortest_distance(x, df_sm), axis=1)\n",
    "df_unfinished['shortest_path'] = df_unfinished.apply(lambda x: find_shortest_distance(x, df_shortest_path), axis=1)\n",
    "df_unfinished['path_length'] = df_unfinished['path'].apply(lambda x: x.count(';') + 1)\n",
    "df_unfinished['back_clicks'] = df_unfinished['path'].apply(lambda x: x.count('<'))\n",
    "df_unfinished['categories_similarity'] = df_unfinished.apply(lambda x: find_shortest_distance(x, df_scat), axis=1)\n",
    "\n",
    "df_finished['cosine_similarity'] = df_finished.apply(lambda x: find_shortest_distance(x, df_sm), axis=1)\n",
    "df_finished['shortest_path'] = df_finished.apply(lambda x: find_shortest_distance(x, df_shortest_path), axis=1)\n",
    "df_finished['path_length'] = df_finished['path'].apply(lambda x: x.count(';') + 1)\n",
    "df_finished['back_clicks'] = df_finished['path'].apply(lambda x: x.count('<'))\n",
    "df_finished['categories_similarity'] = df_finished.apply(lambda x: find_shortest_distance(x, df_scat), axis=1)"
   ]
  },
  {
   "cell_type": "markdown",
   "metadata": {},
   "source": [
    "## Where is Geography and Country link in a page ?"
   ]
  },
  {
   "cell_type": "code",
   "execution_count": 7,
   "metadata": {},
   "outputs": [],
   "source": [
    "from tqdm import tqdm\n",
    "\n",
    "def mean_link_position_per_category(parser, df_categories, category= [\"Country\", \"Geography\"]) : \n",
    "    \n",
    "    #parser.parse_all()\n",
    "    articles_links = {article: data[\"total_links\"] for article, data in parser.parsed_articles.items()}\n",
    "    article_to_category = dict(zip(df_categories['article'], df_categories['level_1']))\n",
    "    articles_links_voyage = {k: [v_select for v_select in v if v_select in article_to_category.keys() and article_to_category[v_select] in category] for k, v in articles_links.items()}\n",
    "    position_voyage = []\n",
    "    for article, voyage_list in tqdm(articles_links_voyage.items()):\n",
    "        position = []\n",
    "        for a in voyage_list:\n",
    "            info = parser.find_link_positions(article, a)\n",
    "            position.append(info['article_link_position'][0]/info['total_links'] if len(info['article_link_position']) != 0 else np.NaN)\n",
    "        position_voyage.append(np.mean(position))\n",
    "    return position_voyage"
   ]
  },
  {
   "cell_type": "code",
   "execution_count": 21,
   "metadata": {},
   "outputs": [
    {
     "name": "stderr",
     "output_type": "stream",
     "text": [
      "  0%|          | 0/4599 [00:00<?, ?it/s]c:\\Users\\david\\anaconda3\\envs\\ada_project\\lib\\site-packages\\numpy\\core\\fromnumeric.py:3464: RuntimeWarning: Mean of empty slice.\n",
      "  return _methods._mean(a, axis=axis, dtype=dtype,\n",
      "c:\\Users\\david\\anaconda3\\envs\\ada_project\\lib\\site-packages\\numpy\\core\\_methods.py:192: RuntimeWarning: invalid value encountered in scalar divide\n",
      "  ret = ret.dtype.type(ret / rcount)\n",
      "100%|██████████| 4599/4599 [00:22<00:00, 205.39it/s]\n"
     ]
    },
    {
     "data": {
      "text/html": [
       "<div>\n",
       "<style scoped>\n",
       "    .dataframe tbody tr th:only-of-type {\n",
       "        vertical-align: middle;\n",
       "    }\n",
       "\n",
       "    .dataframe tbody tr th {\n",
       "        vertical-align: top;\n",
       "    }\n",
       "\n",
       "    .dataframe thead th {\n",
       "        text-align: right;\n",
       "    }\n",
       "</style>\n",
       "<table border=\"1\" class=\"dataframe\">\n",
       "  <thead>\n",
       "    <tr style=\"text-align: right;\">\n",
       "      <th></th>\n",
       "      <th>0</th>\n",
       "    </tr>\n",
       "  </thead>\n",
       "  <tbody>\n",
       "    <tr>\n",
       "      <th>count</th>\n",
       "      <td>2681.000000</td>\n",
       "    </tr>\n",
       "    <tr>\n",
       "      <th>mean</th>\n",
       "      <td>0.509034</td>\n",
       "    </tr>\n",
       "    <tr>\n",
       "      <th>std</th>\n",
       "      <td>0.233797</td>\n",
       "    </tr>\n",
       "    <tr>\n",
       "      <th>min</th>\n",
       "      <td>0.020833</td>\n",
       "    </tr>\n",
       "    <tr>\n",
       "      <th>25%</th>\n",
       "      <td>0.333333</td>\n",
       "    </tr>\n",
       "    <tr>\n",
       "      <th>50%</th>\n",
       "      <td>0.500000</td>\n",
       "    </tr>\n",
       "    <tr>\n",
       "      <th>75%</th>\n",
       "      <td>0.673077</td>\n",
       "    </tr>\n",
       "    <tr>\n",
       "      <th>max</th>\n",
       "      <td>1.000000</td>\n",
       "    </tr>\n",
       "  </tbody>\n",
       "</table>\n",
       "</div>"
      ],
      "text/plain": [
       "                 0\n",
       "count  2681.000000\n",
       "mean      0.509034\n",
       "std       0.233797\n",
       "min       0.020833\n",
       "25%       0.333333\n",
       "50%       0.500000\n",
       "75%       0.673077\n",
       "max       1.000000"
      ]
     },
     "execution_count": 21,
     "metadata": {},
     "output_type": "execute_result"
    }
   ],
   "source": [
    "pd.DataFrame(mean_link_position_per_category(parser, df_categories, category=[\"People\"])).describe()"
   ]
  },
  {
   "cell_type": "code",
   "execution_count": 22,
   "metadata": {},
   "outputs": [
    {
     "name": "stdout",
     "output_type": "stream",
     "text": [
      "Art\n"
     ]
    },
    {
     "name": "stderr",
     "output_type": "stream",
     "text": [
      "  0%|          | 0/4599 [00:00<?, ?it/s]c:\\Users\\david\\anaconda3\\envs\\ada_project\\lib\\site-packages\\numpy\\core\\fromnumeric.py:3464: RuntimeWarning: Mean of empty slice.\n",
      "  return _methods._mean(a, axis=axis, dtype=dtype,\n",
      "c:\\Users\\david\\anaconda3\\envs\\ada_project\\lib\\site-packages\\numpy\\core\\_methods.py:192: RuntimeWarning: invalid value encountered in scalar divide\n",
      "  ret = ret.dtype.type(ret / rcount)\n",
      "100%|██████████| 4599/4599 [00:01<00:00, 3596.15it/s]\n"
     ]
    },
    {
     "name": "stdout",
     "output_type": "stream",
     "text": [
      "Business Studies\n"
     ]
    },
    {
     "name": "stderr",
     "output_type": "stream",
     "text": [
      "100%|██████████| 4599/4599 [00:04<00:00, 1106.62it/s]\n"
     ]
    },
    {
     "name": "stdout",
     "output_type": "stream",
     "text": [
      "Citizenship\n"
     ]
    },
    {
     "name": "stderr",
     "output_type": "stream",
     "text": [
      "100%|██████████| 4599/4599 [00:14<00:00, 314.76it/s]\n"
     ]
    },
    {
     "name": "stdout",
     "output_type": "stream",
     "text": [
      "Countries\n"
     ]
    },
    {
     "name": "stderr",
     "output_type": "stream",
     "text": [
      "100%|██████████| 4599/4599 [00:34<00:00, 132.49it/s]\n"
     ]
    },
    {
     "name": "stdout",
     "output_type": "stream",
     "text": [
      "Design and Technology\n"
     ]
    },
    {
     "name": "stderr",
     "output_type": "stream",
     "text": [
      "100%|██████████| 4599/4599 [00:04<00:00, 965.12it/s] \n"
     ]
    },
    {
     "name": "stdout",
     "output_type": "stream",
     "text": [
      "Everyday life\n"
     ]
    },
    {
     "name": "stderr",
     "output_type": "stream",
     "text": [
      "100%|██████████| 4599/4599 [00:14<00:00, 322.94it/s]\n"
     ]
    },
    {
     "name": "stdout",
     "output_type": "stream",
     "text": [
      "Geography\n"
     ]
    },
    {
     "name": "stderr",
     "output_type": "stream",
     "text": [
      "100%|██████████| 4599/4599 [01:59<00:00, 38.51it/s] \n"
     ]
    },
    {
     "name": "stdout",
     "output_type": "stream",
     "text": [
      "History\n"
     ]
    },
    {
     "name": "stderr",
     "output_type": "stream",
     "text": [
      "100%|██████████| 4599/4599 [00:22<00:00, 205.05it/s]\n"
     ]
    },
    {
     "name": "stdout",
     "output_type": "stream",
     "text": [
      "IT\n"
     ]
    },
    {
     "name": "stderr",
     "output_type": "stream",
     "text": [
      "100%|██████████| 4599/4599 [00:02<00:00, 2149.10it/s]\n"
     ]
    },
    {
     "name": "stdout",
     "output_type": "stream",
     "text": [
      "Language and literature\n"
     ]
    },
    {
     "name": "stderr",
     "output_type": "stream",
     "text": [
      "100%|██████████| 4599/4599 [00:11<00:00, 415.91it/s]\n"
     ]
    },
    {
     "name": "stdout",
     "output_type": "stream",
     "text": [
      "Mathematics\n"
     ]
    },
    {
     "name": "stderr",
     "output_type": "stream",
     "text": [
      "100%|██████████| 4599/4599 [00:01<00:00, 2461.85it/s]\n"
     ]
    },
    {
     "name": "stdout",
     "output_type": "stream",
     "text": [
      "Music\n"
     ]
    },
    {
     "name": "stderr",
     "output_type": "stream",
     "text": [
      "100%|██████████| 4599/4599 [00:02<00:00, 1797.81it/s]\n"
     ]
    },
    {
     "name": "stdout",
     "output_type": "stream",
     "text": [
      "People\n"
     ]
    },
    {
     "name": "stderr",
     "output_type": "stream",
     "text": [
      "100%|██████████| 4599/4599 [00:23<00:00, 194.28it/s]\n"
     ]
    },
    {
     "name": "stdout",
     "output_type": "stream",
     "text": [
      "Religion\n"
     ]
    },
    {
     "name": "stderr",
     "output_type": "stream",
     "text": [
      "100%|██████████| 4599/4599 [00:10<00:00, 454.68it/s]\n"
     ]
    },
    {
     "name": "stdout",
     "output_type": "stream",
     "text": [
      "Science\n"
     ]
    },
    {
     "name": "stderr",
     "output_type": "stream",
     "text": [
      "100%|██████████| 4599/4599 [00:42<00:00, 108.90it/s]\n"
     ]
    },
    {
     "name": "stdout",
     "output_type": "stream",
     "text": [
      "Others\n"
     ]
    },
    {
     "name": "stderr",
     "output_type": "stream",
     "text": [
      "100%|██████████| 4599/4599 [00:00<00:00, 50301.46it/s]\n"
     ]
    }
   ],
   "source": [
    "link_per_cat = {}\n",
    "\n",
    "for category in categories_others:\n",
    "    print(category)\n",
    "    link_per_cat[category] = mean_link_position_per_category(parser, df_categories, category=[category])"
   ]
  },
  {
   "cell_type": "code",
   "execution_count": 23,
   "metadata": {},
   "outputs": [
    {
     "data": {
      "text/html": [
       "<div>\n",
       "<style scoped>\n",
       "    .dataframe tbody tr th:only-of-type {\n",
       "        vertical-align: middle;\n",
       "    }\n",
       "\n",
       "    .dataframe tbody tr th {\n",
       "        vertical-align: top;\n",
       "    }\n",
       "\n",
       "    .dataframe thead th {\n",
       "        text-align: right;\n",
       "    }\n",
       "</style>\n",
       "<table border=\"1\" class=\"dataframe\">\n",
       "  <thead>\n",
       "    <tr style=\"text-align: right;\">\n",
       "      <th></th>\n",
       "      <th>Art</th>\n",
       "      <th>Business Studies</th>\n",
       "      <th>Citizenship</th>\n",
       "      <th>Countries</th>\n",
       "      <th>Design and Technology</th>\n",
       "      <th>Everyday life</th>\n",
       "      <th>Geography</th>\n",
       "      <th>History</th>\n",
       "      <th>IT</th>\n",
       "      <th>Language and literature</th>\n",
       "      <th>Mathematics</th>\n",
       "      <th>Music</th>\n",
       "      <th>People</th>\n",
       "      <th>Religion</th>\n",
       "      <th>Science</th>\n",
       "      <th>Others</th>\n",
       "    </tr>\n",
       "  </thead>\n",
       "  <tbody>\n",
       "    <tr>\n",
       "      <th>count</th>\n",
       "      <td>372.000000</td>\n",
       "      <td>1093.000000</td>\n",
       "      <td>2133.000000</td>\n",
       "      <td>2224.000000</td>\n",
       "      <td>1241.000000</td>\n",
       "      <td>2122.000000</td>\n",
       "      <td>4159.000000</td>\n",
       "      <td>2566.000000</td>\n",
       "      <td>416.000000</td>\n",
       "      <td>1958.000000</td>\n",
       "      <td>347.000000</td>\n",
       "      <td>414.000000</td>\n",
       "      <td>2681.000000</td>\n",
       "      <td>1416.000000</td>\n",
       "      <td>3005.000000</td>\n",
       "      <td>0.0</td>\n",
       "    </tr>\n",
       "    <tr>\n",
       "      <th>mean</th>\n",
       "      <td>0.500919</td>\n",
       "      <td>0.459936</td>\n",
       "      <td>0.472866</td>\n",
       "      <td>0.514260</td>\n",
       "      <td>0.518863</td>\n",
       "      <td>0.572223</td>\n",
       "      <td>0.465889</td>\n",
       "      <td>0.470308</td>\n",
       "      <td>0.586041</td>\n",
       "      <td>0.417649</td>\n",
       "      <td>0.507558</td>\n",
       "      <td>0.564922</td>\n",
       "      <td>0.509034</td>\n",
       "      <td>0.511915</td>\n",
       "      <td>0.462983</td>\n",
       "      <td>NaN</td>\n",
       "    </tr>\n",
       "    <tr>\n",
       "      <th>std</th>\n",
       "      <td>0.271207</td>\n",
       "      <td>0.277006</td>\n",
       "      <td>0.250323</td>\n",
       "      <td>0.243503</td>\n",
       "      <td>0.258508</td>\n",
       "      <td>0.268075</td>\n",
       "      <td>0.181100</td>\n",
       "      <td>0.220326</td>\n",
       "      <td>0.266998</td>\n",
       "      <td>0.285513</td>\n",
       "      <td>0.260628</td>\n",
       "      <td>0.276636</td>\n",
       "      <td>0.233797</td>\n",
       "      <td>0.261169</td>\n",
       "      <td>0.210527</td>\n",
       "      <td>NaN</td>\n",
       "    </tr>\n",
       "    <tr>\n",
       "      <th>min</th>\n",
       "      <td>0.013889</td>\n",
       "      <td>0.003279</td>\n",
       "      <td>0.007353</td>\n",
       "      <td>0.012195</td>\n",
       "      <td>0.013514</td>\n",
       "      <td>0.005051</td>\n",
       "      <td>0.011905</td>\n",
       "      <td>0.009836</td>\n",
       "      <td>0.053521</td>\n",
       "      <td>0.006061</td>\n",
       "      <td>0.013158</td>\n",
       "      <td>0.009615</td>\n",
       "      <td>0.020833</td>\n",
       "      <td>0.018519</td>\n",
       "      <td>0.006757</td>\n",
       "      <td>NaN</td>\n",
       "    </tr>\n",
       "    <tr>\n",
       "      <th>25%</th>\n",
       "      <td>0.281724</td>\n",
       "      <td>0.230233</td>\n",
       "      <td>0.279481</td>\n",
       "      <td>0.327845</td>\n",
       "      <td>0.307692</td>\n",
       "      <td>0.363636</td>\n",
       "      <td>0.341531</td>\n",
       "      <td>0.308528</td>\n",
       "      <td>0.382003</td>\n",
       "      <td>0.171054</td>\n",
       "      <td>0.303301</td>\n",
       "      <td>0.322046</td>\n",
       "      <td>0.333333</td>\n",
       "      <td>0.294118</td>\n",
       "      <td>0.328571</td>\n",
       "      <td>NaN</td>\n",
       "    </tr>\n",
       "    <tr>\n",
       "      <th>50%</th>\n",
       "      <td>0.500000</td>\n",
       "      <td>0.434783</td>\n",
       "      <td>0.447368</td>\n",
       "      <td>0.502727</td>\n",
       "      <td>0.510204</td>\n",
       "      <td>0.588132</td>\n",
       "      <td>0.444444</td>\n",
       "      <td>0.444444</td>\n",
       "      <td>0.592215</td>\n",
       "      <td>0.375000</td>\n",
       "      <td>0.483333</td>\n",
       "      <td>0.559028</td>\n",
       "      <td>0.500000</td>\n",
       "      <td>0.482759</td>\n",
       "      <td>0.437821</td>\n",
       "      <td>NaN</td>\n",
       "    </tr>\n",
       "    <tr>\n",
       "      <th>75%</th>\n",
       "      <td>0.721285</td>\n",
       "      <td>0.666667</td>\n",
       "      <td>0.645354</td>\n",
       "      <td>0.697146</td>\n",
       "      <td>0.717557</td>\n",
       "      <td>0.800000</td>\n",
       "      <td>0.571132</td>\n",
       "      <td>0.608817</td>\n",
       "      <td>0.809921</td>\n",
       "      <td>0.630049</td>\n",
       "      <td>0.718254</td>\n",
       "      <td>0.833333</td>\n",
       "      <td>0.673077</td>\n",
       "      <td>0.719618</td>\n",
       "      <td>0.582143</td>\n",
       "      <td>NaN</td>\n",
       "    </tr>\n",
       "    <tr>\n",
       "      <th>max</th>\n",
       "      <td>1.000000</td>\n",
       "      <td>1.000000</td>\n",
       "      <td>1.000000</td>\n",
       "      <td>1.000000</td>\n",
       "      <td>1.000000</td>\n",
       "      <td>1.000000</td>\n",
       "      <td>1.000000</td>\n",
       "      <td>1.000000</td>\n",
       "      <td>1.000000</td>\n",
       "      <td>1.000000</td>\n",
       "      <td>1.000000</td>\n",
       "      <td>1.000000</td>\n",
       "      <td>1.000000</td>\n",
       "      <td>1.000000</td>\n",
       "      <td>1.000000</td>\n",
       "      <td>NaN</td>\n",
       "    </tr>\n",
       "  </tbody>\n",
       "</table>\n",
       "</div>"
      ],
      "text/plain": [
       "              Art  Business Studies  Citizenship    Countries  \\\n",
       "count  372.000000       1093.000000  2133.000000  2224.000000   \n",
       "mean     0.500919          0.459936     0.472866     0.514260   \n",
       "std      0.271207          0.277006     0.250323     0.243503   \n",
       "min      0.013889          0.003279     0.007353     0.012195   \n",
       "25%      0.281724          0.230233     0.279481     0.327845   \n",
       "50%      0.500000          0.434783     0.447368     0.502727   \n",
       "75%      0.721285          0.666667     0.645354     0.697146   \n",
       "max      1.000000          1.000000     1.000000     1.000000   \n",
       "\n",
       "       Design and Technology  Everyday life    Geography      History  \\\n",
       "count            1241.000000    2122.000000  4159.000000  2566.000000   \n",
       "mean                0.518863       0.572223     0.465889     0.470308   \n",
       "std                 0.258508       0.268075     0.181100     0.220326   \n",
       "min                 0.013514       0.005051     0.011905     0.009836   \n",
       "25%                 0.307692       0.363636     0.341531     0.308528   \n",
       "50%                 0.510204       0.588132     0.444444     0.444444   \n",
       "75%                 0.717557       0.800000     0.571132     0.608817   \n",
       "max                 1.000000       1.000000     1.000000     1.000000   \n",
       "\n",
       "               IT  Language and literature  Mathematics       Music  \\\n",
       "count  416.000000              1958.000000   347.000000  414.000000   \n",
       "mean     0.586041                 0.417649     0.507558    0.564922   \n",
       "std      0.266998                 0.285513     0.260628    0.276636   \n",
       "min      0.053521                 0.006061     0.013158    0.009615   \n",
       "25%      0.382003                 0.171054     0.303301    0.322046   \n",
       "50%      0.592215                 0.375000     0.483333    0.559028   \n",
       "75%      0.809921                 0.630049     0.718254    0.833333   \n",
       "max      1.000000                 1.000000     1.000000    1.000000   \n",
       "\n",
       "            People     Religion      Science  Others  \n",
       "count  2681.000000  1416.000000  3005.000000     0.0  \n",
       "mean      0.509034     0.511915     0.462983     NaN  \n",
       "std       0.233797     0.261169     0.210527     NaN  \n",
       "min       0.020833     0.018519     0.006757     NaN  \n",
       "25%       0.333333     0.294118     0.328571     NaN  \n",
       "50%       0.500000     0.482759     0.437821     NaN  \n",
       "75%       0.673077     0.719618     0.582143     NaN  \n",
       "max       1.000000     1.000000     1.000000     NaN  "
      ]
     },
     "execution_count": 23,
     "metadata": {},
     "output_type": "execute_result"
    }
   ],
   "source": [
    "df = pd.DataFrame(link_per_cat)\n",
    "df.describe()"
   ]
  },
  {
   "cell_type": "markdown",
   "metadata": {},
   "source": [
    "## Where do people click on a page ?"
   ]
  },
  {
   "cell_type": "code",
   "execution_count": 11,
   "metadata": {},
   "outputs": [],
   "source": [
    "df_finished['position'] = np.NaN\n",
    "\n",
    "for i in range(len(df_finished)):\n",
    "    articles = df_finished['path'][i].split(';')\n",
    "    \n",
    "    position = []\n",
    "    for a in range(len(articles)-1):\n",
    "        if articles[a+1] == '<' or articles[a] == '<':\n",
    "            continue\n",
    "        else:\n",
    "            info = parser.find_link_positions(articles[a], articles[a+1])\n",
    "            position.append(info['article_link_position'][0]/info['total_links'] if len(info['article_link_position']) != 0 else np.NaN)\n",
    "    df_finished.loc[i, 'position'] = np.mean(position)"
   ]
  },
  {
   "cell_type": "code",
   "execution_count": 25,
   "metadata": {},
   "outputs": [
    {
     "data": {
      "text/plain": [
       "count    51189.000000\n",
       "mean         0.337180\n",
       "std          0.151484\n",
       "min          0.004376\n",
       "25%          0.228583\n",
       "50%          0.326736\n",
       "75%          0.432948\n",
       "max          1.000000\n",
       "Name: position, dtype: float64"
      ]
     },
     "execution_count": 25,
     "metadata": {},
     "output_type": "execute_result"
    }
   ],
   "source": [
    "df_finished[\"position\"].describe()"
   ]
  },
  {
   "cell_type": "code",
   "execution_count": null,
   "metadata": {},
   "outputs": [],
   "source": [
    "df_unfinished['position'] = np.NaN\n",
    "\n",
    "for i in range(len(df_unfinished)):\n",
    "    articles = df_unfinished['path'][i].split(';')\n",
    "    \n",
    "    position = []\n",
    "    for a in range(len(articles)-1):\n",
    "        if articles[a+1] == '<' or articles[a] == '<':\n",
    "            continue\n",
    "        else:\n",
    "            info = parser.find_link_positions(articles[a], articles[a+1])\n",
    "            position.append(info['article_link_position'][0]/info['total_links'] if len(info['article_link_position']) != 0 else np.NaN)\n",
    "    df_unfinished.loc[i, 'position'] = np.mean(position)"
   ]
  },
  {
   "cell_type": "code",
   "execution_count": null,
   "metadata": {},
   "outputs": [],
   "source": [
    "df_unfinished[\"position\"].describe()"
   ]
  },
  {
   "cell_type": "code",
   "execution_count": null,
   "metadata": {},
   "outputs": [],
   "source": [
    "all_paths = pd.concat([df_finished, df_unfinished])\n",
    "all_paths[\"position\"].describe()"
   ]
  },
  {
   "cell_type": "code",
   "execution_count": 73,
   "metadata": {},
   "outputs": [],
   "source": [
    "all_paths[\"category\"] = \"All\"\n",
    "all_paths[\"Legend :\"] = \"Clicked Link Position in Paths\"\n",
    "df_melted = pd.melt(df, var_name='category', value_name='position').dropna()\n",
    "df_melted[\"Legend :\"] = \"Article Link Position in Articles\"\n",
    "df_comparison_path_category = pd.concat([all_paths[[\"category\", \"position\", \"Legend :\"]], df_melted])\n"
   ]
  },
  {
   "cell_type": "code",
   "execution_count": null,
   "metadata": {},
   "outputs": [],
   "source": [
    "df_comparison_path_category"
   ]
  },
  {
   "cell_type": "code",
   "execution_count": null,
   "metadata": {},
   "outputs": [],
   "source": [
    "import plotly.express as px\n",
    "fig = px.box(df_comparison_path_category, x=\"category\", y=\"position\", color=\"Legend :\", title=\"Position of the clicked link in articles compared to position of each category in articles\")\n",
    "fig.update_xaxes(tickangle=45)\n",
    "\n",
    "fig.update_layout(\n",
    "    autosize=False,\n",
    "    width=1500,\n",
    "    height=500,\n",
    "    boxgroupgap=0.2, # update\n",
    "    boxgap=0)\n",
    "fig.show()"
   ]
  }
 ],
 "metadata": {
  "kernelspec": {
   "display_name": "ada_project",
   "language": "python",
   "name": "python3"
  },
  "language_info": {
   "codemirror_mode": {
    "name": "ipython",
    "version": 3
   },
   "file_extension": ".py",
   "mimetype": "text/x-python",
   "name": "python",
   "nbconvert_exporter": "python",
   "pygments_lexer": "ipython3",
   "version": "3.8.19"
  }
 },
 "nbformat": 4,
 "nbformat_minor": 2
}
