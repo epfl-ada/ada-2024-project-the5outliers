{
 "cells": [
  {
   "cell_type": "markdown",
   "metadata": {},
   "source": [
    "# <span style=\"background: linear-gradient(to right, #3458d6, #34d634); -webkit-background-clip: text; color: transparent;\">Wikispeedia Voyages</span>: why so many players pass through Geography or Countries to reach their target</h1>"
   ]
  },
  {
   "cell_type": "code",
   "execution_count": 1,
   "metadata": {},
   "outputs": [],
   "source": [
    "%load_ext autoreload\n",
    "%autoreload 2"
   ]
  },
  {
   "cell_type": "code",
   "execution_count": 2,
   "metadata": {},
   "outputs": [],
   "source": [
    "import seaborn as sn\n",
    "import matplotlib.pyplot as plt\n",
    "from scipy.cluster.hierarchy import linkage, leaves_list\n",
    "from scipy.stats import kurtosis\n",
    "import ipywidgets as widgets\n",
    "from IPython.display import display\n",
    "import plotly.graph_objects as go\n",
    "\n",
    "from src.utils.HTMLParser import HTMLParser\n",
    "from src.data.data_loader import *\n",
    "from src.utils.helpers import *\n",
    "from src.models.networks import *\n",
    "\n",
    "parser = HTMLParser()\n",
    "parser.load_pickle()"
   ]
  },
  {
   "cell_type": "markdown",
   "metadata": {},
   "source": [
    "# 1 INTRO\n"
   ]
  },
  {
   "cell_type": "markdown",
   "metadata": {},
   "source": [
    "Many gamers pass through county or geography-linked articles to reach their targets, irrespective of the source and target articles : Let's call this a Wikispedia Voyage. "
   ]
  },
  {
   "cell_type": "markdown",
   "metadata": {},
   "source": [
    "![alt text](./figures/5_2.png)"
   ]
  },
  {
   "cell_type": "markdown",
   "metadata": {},
   "source": [
    "## 2. MOTIVATIONS - INTRODUCTORY STATISTICS"
   ]
  },
  {
   "cell_type": "markdown",
   "metadata": {},
   "source": [
    "Examining the paths players take when playing to wikispedia, we noticed the first few clicks of the games were often on articles of countries or geography.\n",
    "\n",
    "Looking at the first category players visit, while all the other categories are chosen less that 10% of the time, countries and geography are chosen 28% and 20% of the time respectively. This is true even if the source is not in those 2 categories, we by the way notice sources mostly lay in science, but players dont stay in this category. "
   ]
  },
  {
   "cell_type": "markdown",
   "metadata": {},
   "source": [
    "![alt text](./figures/33a3.png)"
   ]
  },
  {
   "cell_type": "markdown",
   "metadata": {},
   "source": [
    "5% of all articles are country articles, and 17% and Geography articles. We need to investigate if the country and geography articles are more likely to be picked due to a predominance in the game: \n",
    "\n",
    "The following plot shows how articles popularity in player's paths is correlated to articles link density in wikispedia pages. \n",
    "\n",
    "Country articles have the most in and out degree links and are therefore both easily accessible, and allow acces to many other articles."
   ]
  },
  {
   "cell_type": "markdown",
   "metadata": {},
   "source": [
    "![alt text](./figures/8.png)"
   ]
  },
  {
   "cell_type": "markdown",
   "metadata": {},
   "source": [
    "Users transitions between categories show how centraly countries are positioned, reflecting its strong connections with other categories. This might explain in parts why they are so popular as they allow to reach many other categories easily."
   ]
  },
  {
   "cell_type": "markdown",
   "metadata": {},
   "source": [
    "![alt text](./figures/7.png)"
   ]
  },
  {
   "cell_type": "markdown",
   "metadata": {},
   "source": [
    "Back-clicks are an indicator of difficulty (they are strongly correlated to difficulty ratings): the more difficult a game is, the more likely players are to get stuck and go back.\n",
    "\n",
    "The category with the least backclicks is \"Countries\". This is interesting as \"Countries\" is also one of the most visited category.\n",
    "\n",
    "This might be due to many reasons, including centrality in the network as we just saw. It could also indicate players are more familiar with countries than other articles, and are therefore less likely to get stuck."
   ]
  },
  {
   "cell_type": "markdown",
   "metadata": {},
   "source": [
    "![alt text](./figures/9.png)"
   ]
  },
  {
   "cell_type": "markdown",
   "metadata": {},
   "source": [
    "Let’s call a Wikispeedia Voyage a game that neither start or target articles in country or geography categorie, and that passes through those categories anyway. This projects aimes to investigate what explains why so many people use voyages to reack their targets."
   ]
  },
  {
   "cell_type": "markdown",
   "metadata": {},
   "source": [
    "## Questions"
   ]
  },
  {
   "cell_type": "markdown",
   "metadata": {},
   "source": [
    "\n",
    "\n",
    "- human reasoning in the game is inherently tied to countries and geography ?\n",
    "- or whether these articles simply have interesting properties for navigation ?\n",
    "-  how efficient are they in comparison ?"
   ]
  },
  {
   "cell_type": "markdown",
   "metadata": {},
   "source": [
    "- Do certain articles have interesting properties that make them particularly useful in the game? For instance, are they more numerous, more connected or have higher link density?\n",
    "- What can we say about the prominence or centrality of different categories of articles?\n",
    "- How can we rigorously define Wikispeedia Voyages?\n",
    "- Are paths going through geography and country categories efficient? - Are they rather an easy but long way to reach the goal? How do they compare to the optimal path or paths going through other categories?\n",
    "- Is there a semantic detour taken through Wikispeedia Voyages? That is, are articles successions on more direct paths semantically closer?\n",
    "- Are countries inherently tied to how humans reason about the - Wikispeedia route they envision? \n",
    "- Can we find evidence or hints in the user behaviours that they are more comfortable with certain categories?"
   ]
  },
  {
   "cell_type": "markdown",
   "metadata": {},
   "source": [
    "# 3. CORE RESULTS"
   ]
  },
  {
   "cell_type": "markdown",
   "metadata": {},
   "source": [
    "Ynnicks plan\n",
    "3. **CORE RESULTS**: for Voyage vs Non-Voyage, only keep the visuals for interesting results but mention the unsignificant ones. If we find nothing at first, we can look further into how to define Voyage vs Non-Voyage more precisely (e.g. only keeping Countries).\n",
    "   1. Article features (3.1.a) for the two classes\n",
    "   2. Difficulty measures (3.2), comparing path efficiencies in both classes. Do people in voyages succeed more for similar games? + comparing with shortest paths\n",
    "   3. Have some idea *when* people do voyages (and when they do not). Is it in difficult games? Any games? (difficulty based on start and end categories 3.4).\n",
    "   4. Similarity on paths, semantic detour\n",
    "   5. (Something causal about human reasoning if we find anything)\n",
    "4. Some conclusion + introducing further research ideas\n"
   ]
  }
 ],
 "metadata": {
  "kernelspec": {
   "display_name": "ada",
   "language": "python",
   "name": "python3"
  },
  "language_info": {
   "codemirror_mode": {
    "name": "ipython",
    "version": 3
   },
   "file_extension": ".py",
   "mimetype": "text/x-python",
   "name": "python",
   "nbconvert_exporter": "python",
   "pygments_lexer": "ipython3",
   "version": "3.9.18"
  }
 },
 "nbformat": 4,
 "nbformat_minor": 2
}
