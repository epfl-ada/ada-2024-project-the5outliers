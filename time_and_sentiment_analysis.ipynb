{
 "cells": [
  {
   "cell_type": "code",
   "execution_count": 28,
   "metadata": {},
   "outputs": [],
   "source": [
    "%load_ext autoreload\n",
    "%autoreload 2"
   ]
  },
  {
   "cell_type": "code",
   "execution_count": 33,
   "metadata": {},
   "outputs": [],
   "source": [
    "import pandas as pd\n",
    "import numpy as np\n",
    "import matplotlib.pyplot as plt\n",
    "\n",
    "from src.data_loader import *\n",
    "import src.models.similarity_matrix as sm\n",
    "\n",
    "import datetime"
   ]
  },
  {
   "cell_type": "code",
   "execution_count": 30,
   "metadata": {},
   "outputs": [],
   "source": [
    "\n",
    "# Define a tuple of file paths and column names\n",
    "files_and_columns = (\n",
    "    ('data/paths_finished.tsv', ['hashedIpAddress', 'timestamp', 'durationInSec', 'path', 'rating']),\n",
    "    ('data/paths_unfinished.tsv', ['hashedIpAddress', 'timestamp', 'durationInSec', 'path', 'target', 'type']),\n",
    "    ('data/articles.tsv', ['article']),\n",
    "    ('data/categories.tsv', ['article', 'category'])\n",
    ")\n",
    "\n",
    "def read_files(file_tuples):\n",
    "    dataframes = []\n",
    "    for path, column_names in file_tuples:\n",
    "        df = pd.read_csv(path, sep='\\t', comment='#', names=column_names, header=None)\n",
    "        dataframes.append(df)\n",
    "    return dataframes\n",
    "\n",
    "paths_finished, paths_unfinished, articles, categories  = read_files(files_and_columns)"
   ]
  },
  {
   "cell_type": "markdown",
   "metadata": {},
   "source": [
    "# Correlation US politics"
   ]
  },
  {
   "cell_type": "code",
   "execution_count": 3,
   "metadata": {},
   "outputs": [],
   "source": [
    "import datetime\n",
    "paths_finished[\"date\"] = paths_finished.timestamp.apply(lambda d:  datetime.datetime.utcfromtimestamp(d))\n",
    "paths_finished = paths_finished.sort_values(by=\"date\", ascending=False)"
   ]
  },
  {
   "cell_type": "code",
   "execution_count": 4,
   "metadata": {},
   "outputs": [
    {
     "data": {
      "text/html": [
       "<div>\n",
       "<style scoped>\n",
       "    .dataframe tbody tr th:only-of-type {\n",
       "        vertical-align: middle;\n",
       "    }\n",
       "\n",
       "    .dataframe tbody tr th {\n",
       "        vertical-align: top;\n",
       "    }\n",
       "\n",
       "    .dataframe thead th {\n",
       "        text-align: right;\n",
       "    }\n",
       "</style>\n",
       "<table border=\"1\" class=\"dataframe\">\n",
       "  <thead>\n",
       "    <tr style=\"text-align: right;\">\n",
       "      <th></th>\n",
       "      <th>date</th>\n",
       "      <th>theme</th>\n",
       "      <th>count</th>\n",
       "      <th>ratio</th>\n",
       "    </tr>\n",
       "  </thead>\n",
       "  <tbody>\n",
       "    <tr>\n",
       "      <th>0</th>\n",
       "      <td>2008-08</td>\n",
       "      <td>False</td>\n",
       "      <td>89</td>\n",
       "      <td>1.0</td>\n",
       "    </tr>\n",
       "    <tr>\n",
       "      <th>1</th>\n",
       "      <td>2008-08</td>\n",
       "      <td>True</td>\n",
       "      <td>0</td>\n",
       "      <td>0.0</td>\n",
       "    </tr>\n",
       "    <tr>\n",
       "      <th>2</th>\n",
       "      <td>2008-09</td>\n",
       "      <td>False</td>\n",
       "      <td>318</td>\n",
       "      <td>1.0</td>\n",
       "    </tr>\n",
       "    <tr>\n",
       "      <th>3</th>\n",
       "      <td>2008-09</td>\n",
       "      <td>True</td>\n",
       "      <td>0</td>\n",
       "      <td>0.0</td>\n",
       "    </tr>\n",
       "    <tr>\n",
       "      <th>4</th>\n",
       "      <td>2008-10</td>\n",
       "      <td>False</td>\n",
       "      <td>756</td>\n",
       "      <td>1.0</td>\n",
       "    </tr>\n",
       "    <tr>\n",
       "      <th>...</th>\n",
       "      <td>...</td>\n",
       "      <td>...</td>\n",
       "      <td>...</td>\n",
       "      <td>...</td>\n",
       "    </tr>\n",
       "    <tr>\n",
       "      <th>127</th>\n",
       "      <td>2013-11</td>\n",
       "      <td>False</td>\n",
       "      <td>799</td>\n",
       "      <td>1.0</td>\n",
       "    </tr>\n",
       "    <tr>\n",
       "      <th>128</th>\n",
       "      <td>2013-12</td>\n",
       "      <td>False</td>\n",
       "      <td>580</td>\n",
       "      <td>1.0</td>\n",
       "    </tr>\n",
       "    <tr>\n",
       "      <th>129</th>\n",
       "      <td>2013-12</td>\n",
       "      <td>True</td>\n",
       "      <td>0</td>\n",
       "      <td>0.0</td>\n",
       "    </tr>\n",
       "    <tr>\n",
       "      <th>130</th>\n",
       "      <td>2014-01</td>\n",
       "      <td>False</td>\n",
       "      <td>321</td>\n",
       "      <td>1.0</td>\n",
       "    </tr>\n",
       "    <tr>\n",
       "      <th>131</th>\n",
       "      <td>2014-01</td>\n",
       "      <td>True</td>\n",
       "      <td>0</td>\n",
       "      <td>0.0</td>\n",
       "    </tr>\n",
       "  </tbody>\n",
       "</table>\n",
       "<p>132 rows × 4 columns</p>\n",
       "</div>"
      ],
      "text/plain": [
       "        date  theme  count  ratio\n",
       "0    2008-08  False     89    1.0\n",
       "1    2008-08   True      0    0.0\n",
       "2    2008-09  False    318    1.0\n",
       "3    2008-09   True      0    0.0\n",
       "4    2008-10  False    756    1.0\n",
       "..       ...    ...    ...    ...\n",
       "127  2013-11  False    799    1.0\n",
       "128  2013-12  False    580    1.0\n",
       "129  2013-12   True      0    0.0\n",
       "130  2014-01  False    321    1.0\n",
       "131  2014-01   True      0    0.0\n",
       "\n",
       "[132 rows x 4 columns]"
      ]
     },
     "execution_count": 4,
     "metadata": {},
     "output_type": "execute_result"
    }
   ],
   "source": [
    "# extract article names where category possess \"Sports\"\n",
    "articles = categories[categories[\"category\"].str.contains(\"Political_People\")][\"article\"]\n",
    "# paths_finished[\"theme\"] = paths_finished[\"path\"].apply(lambda x: any([article in articles.values for article in x.split(\";\")]))\n",
    "paths_finished[\"theme\"] = paths_finished[\"path\"].apply(lambda x: any([article==\"Barack_Obama\" for article in x.split(\";\")]))\n",
    "\n",
    "\n",
    "#plot the number of paths that contain at least one article from the category \"Sports\" over time\n",
    "#keep only years and months\n",
    "paths_finished[\"date\"] = paths_finished[\"date\"].apply(lambda x: x.strftime('%Y-%m'))\n",
    "# group by date and count\n",
    "grouped = paths_finished.groupby([\"date\", \"theme\"]).size().reset_index(name='count')\n",
    "unique_dates = grouped['date'].unique()\n",
    "\n",
    "# Filter for dates that are missing a True theme\n",
    "for date in unique_dates:\n",
    "    # Check if there's a row with theme=True for this date\n",
    "    if not ((grouped['date'] == date) & (grouped['theme'] == True)).any():\n",
    "        # Append a new row with theme=True and count=0\n",
    "        grouped = pd.concat([grouped, pd.DataFrame({'date': [date], 'theme': [True], 'count': [0]})], ignore_index=True)\n",
    "\n",
    "# Sort by date to keep the order\n",
    "grouped = grouped.sort_values(by='date').reset_index(drop=True)\n",
    "\n",
    "grouped[\"ratio\"] = grouped.apply(lambda x: x[\"count\"]/grouped[(grouped[\"date\"]==x[\"date\"]) & (grouped[\"theme\"]==False)][\"count\"].values[0], axis=1)\n",
    "grouped"
   ]
  },
  {
   "cell_type": "code",
   "execution_count": 5,
   "metadata": {},
   "outputs": [
    {
     "data": {
      "image/png": "[encoded data removed]",
      "text/plain": [
       "<Figure size 1500x1000 with 2 Axes>"
      ]
     },
     "metadata": {},
     "output_type": "display_data"
    }
   ],
   "source": [
    "import matplotlib.pyplot as plt\n",
    "fig, ax = plt.subplots(sharex=True, nrows=2, ncols=1, figsize=(15, 10))\n",
    "grouped[grouped[\"theme\"]==True].plot(x=\"date\", y=\"ratio\", ax=ax[0])\n",
    "grouped[grouped[\"theme\"]==False].plot(x=\"date\", y=\"count\", ax=ax[1])\n",
    "plt.show()"
   ]
  },
  {
   "cell_type": "markdown",
   "metadata": {},
   "source": [
    "# Temporal Shifts in Navigational Patterns (Game Strategy Over Time)"
   ]
  },
  {
   "cell_type": "code",
   "execution_count": 16,
   "metadata": {},
   "outputs": [],
   "source": [
    "import datetime\n",
    "paths_finished[\"date\"] = paths_finished.timestamp.apply(lambda d:  datetime.datetime.utcfromtimestamp(d))\n",
    "paths_finished = paths_finished.sort_values(by=\"date\", ascending=False)\n",
    "paths_finished[\"length\"] = paths_finished[\"path\"].apply(lambda x: len(x.split(\";\")))\n",
    "paths_finished[\"date\"] = paths_finished[\"date\"].apply(lambda x: x.strftime('%Y-%m'))"
   ]
  },
  {
   "cell_type": "code",
   "execution_count": 18,
   "metadata": {},
   "outputs": [
    {
     "data": {
      "text/html": [
       "<div>\n",
       "<style scoped>\n",
       "    .dataframe tbody tr th:only-of-type {\n",
       "        vertical-align: middle;\n",
       "    }\n",
       "\n",
       "    .dataframe tbody tr th {\n",
       "        vertical-align: top;\n",
       "    }\n",
       "\n",
       "    .dataframe thead th {\n",
       "        text-align: right;\n",
       "    }\n",
       "</style>\n",
       "<table border=\"1\" class=\"dataframe\">\n",
       "  <thead>\n",
       "    <tr style=\"text-align: right;\">\n",
       "      <th></th>\n",
       "      <th>hashedIpAddress</th>\n",
       "      <th>timestamp</th>\n",
       "      <th>durationInSec</th>\n",
       "      <th>path</th>\n",
       "      <th>rating</th>\n",
       "      <th>date</th>\n",
       "      <th>length</th>\n",
       "    </tr>\n",
       "  </thead>\n",
       "  <tbody>\n",
       "    <tr>\n",
       "      <th>935</th>\n",
       "      <td>1cf0cbb3281049ab</td>\n",
       "      <td>1389823250</td>\n",
       "      <td>400</td>\n",
       "      <td>ASCII;Computer;Automobile;Germany;Adolf_Hitler...</td>\n",
       "      <td>NaN</td>\n",
       "      <td>2014-01</td>\n",
       "      <td>6</td>\n",
       "    </tr>\n",
       "    <tr>\n",
       "      <th>35658</th>\n",
       "      <td>1cf0cbb3281049ab</td>\n",
       "      <td>1389822405</td>\n",
       "      <td>79</td>\n",
       "      <td>Bird_of_prey;Eagle;United_States;Moon;Lunar_ec...</td>\n",
       "      <td>2.0</td>\n",
       "      <td>2014-01</td>\n",
       "      <td>5</td>\n",
       "    </tr>\n",
       "    <tr>\n",
       "      <th>11965</th>\n",
       "      <td>473d6ac602c2b198</td>\n",
       "      <td>1389821745</td>\n",
       "      <td>9</td>\n",
       "      <td>Sudan;Seychelles</td>\n",
       "      <td>NaN</td>\n",
       "      <td>2014-01</td>\n",
       "      <td>2</td>\n",
       "    </tr>\n",
       "    <tr>\n",
       "      <th>20951</th>\n",
       "      <td>473d6ac602c2b198</td>\n",
       "      <td>1389821729</td>\n",
       "      <td>35</td>\n",
       "      <td>Egyptian_pyramids;Archaeology;Agriculture;Milk</td>\n",
       "      <td>NaN</td>\n",
       "      <td>2014-01</td>\n",
       "      <td>4</td>\n",
       "    </tr>\n",
       "    <tr>\n",
       "      <th>51088</th>\n",
       "      <td>473d6ac602c2b198</td>\n",
       "      <td>1389821687</td>\n",
       "      <td>130</td>\n",
       "      <td>Hubble%27s_law;Albert_Einstein;Israel;Argentin...</td>\n",
       "      <td>NaN</td>\n",
       "      <td>2014-01</td>\n",
       "      <td>10</td>\n",
       "    </tr>\n",
       "    <tr>\n",
       "      <th>...</th>\n",
       "      <td>...</td>\n",
       "      <td>...</td>\n",
       "      <td>...</td>\n",
       "      <td>...</td>\n",
       "      <td>...</td>\n",
       "      <td>...</td>\n",
       "      <td>...</td>\n",
       "    </tr>\n",
       "    <tr>\n",
       "      <th>2510</th>\n",
       "      <td>321e4b101c5b58ff</td>\n",
       "      <td>1219099695</td>\n",
       "      <td>81</td>\n",
       "      <td>Brazil;Agriculture;Ethanol;Hydrogen;Chemical_e...</td>\n",
       "      <td>NaN</td>\n",
       "      <td>2008-08</td>\n",
       "      <td>7</td>\n",
       "    </tr>\n",
       "    <tr>\n",
       "      <th>4869</th>\n",
       "      <td>321e4b101c5b58ff</td>\n",
       "      <td>1219099185</td>\n",
       "      <td>91</td>\n",
       "      <td>George_W._Bush;Jesus;Christianity;Roman_Cathol...</td>\n",
       "      <td>2.0</td>\n",
       "      <td>2008-08</td>\n",
       "      <td>5</td>\n",
       "    </tr>\n",
       "    <tr>\n",
       "      <th>10377</th>\n",
       "      <td>NaN</td>\n",
       "      <td>1219094972</td>\n",
       "      <td>96</td>\n",
       "      <td>Heat;Latin;Europe;Italy</td>\n",
       "      <td>NaN</td>\n",
       "      <td>2008-08</td>\n",
       "      <td>4</td>\n",
       "    </tr>\n",
       "    <tr>\n",
       "      <th>13719</th>\n",
       "      <td>NaN</td>\n",
       "      <td>1219094972</td>\n",
       "      <td>140</td>\n",
       "      <td>Tyrannosaurus;London;Temperate;Weather;Solar_S...</td>\n",
       "      <td>NaN</td>\n",
       "      <td>2008-08</td>\n",
       "      <td>6</td>\n",
       "    </tr>\n",
       "    <tr>\n",
       "      <th>15545</th>\n",
       "      <td>NaN</td>\n",
       "      <td>1219094972</td>\n",
       "      <td>106</td>\n",
       "      <td>Tropical_Storm_Bonnie_%282004%29;Gulf_of_Mexic...</td>\n",
       "      <td>NaN</td>\n",
       "      <td>2008-08</td>\n",
       "      <td>12</td>\n",
       "    </tr>\n",
       "  </tbody>\n",
       "</table>\n",
       "<p>51318 rows × 7 columns</p>\n",
       "</div>"
      ],
      "text/plain": [
       "        hashedIpAddress   timestamp  durationInSec  \\\n",
       "935    1cf0cbb3281049ab  1389823250            400   \n",
       "35658  1cf0cbb3281049ab  1389822405             79   \n",
       "11965  473d6ac602c2b198  1389821745              9   \n",
       "20951  473d6ac602c2b198  1389821729             35   \n",
       "51088  473d6ac602c2b198  1389821687            130   \n",
       "...                 ...         ...            ...   \n",
       "2510   321e4b101c5b58ff  1219099695             81   \n",
       "4869   321e4b101c5b58ff  1219099185             91   \n",
       "10377               NaN  1219094972             96   \n",
       "13719               NaN  1219094972            140   \n",
       "15545               NaN  1219094972            106   \n",
       "\n",
       "                                                    path  rating     date  \\\n",
       "935    ASCII;Computer;Automobile;Germany;Adolf_Hitler...     NaN  2014-01   \n",
       "35658  Bird_of_prey;Eagle;United_States;Moon;Lunar_ec...     2.0  2014-01   \n",
       "11965                                   Sudan;Seychelles     NaN  2014-01   \n",
       "20951     Egyptian_pyramids;Archaeology;Agriculture;Milk     NaN  2014-01   \n",
       "51088  Hubble%27s_law;Albert_Einstein;Israel;Argentin...     NaN  2014-01   \n",
       "...                                                  ...     ...      ...   \n",
       "2510   Brazil;Agriculture;Ethanol;Hydrogen;Chemical_e...     NaN  2008-08   \n",
       "4869   George_W._Bush;Jesus;Christianity;Roman_Cathol...     2.0  2008-08   \n",
       "10377                            Heat;Latin;Europe;Italy     NaN  2008-08   \n",
       "13719  Tyrannosaurus;London;Temperate;Weather;Solar_S...     NaN  2008-08   \n",
       "15545  Tropical_Storm_Bonnie_%282004%29;Gulf_of_Mexic...     NaN  2008-08   \n",
       "\n",
       "       length  \n",
       "935         6  \n",
       "35658       5  \n",
       "11965       2  \n",
       "20951       4  \n",
       "51088      10  \n",
       "...       ...  \n",
       "2510        7  \n",
       "4869        5  \n",
       "10377       4  \n",
       "13719       6  \n",
       "15545      12  \n",
       "\n",
       "[51318 rows x 7 columns]"
      ]
     },
     "execution_count": 18,
     "metadata": {},
     "output_type": "execute_result"
    }
   ],
   "source": [
    "paths_finished"
   ]
  },
  {
   "cell_type": "code",
   "execution_count": 17,
   "metadata": {},
   "outputs": [
    {
     "data": {
      "text/plain": [
       "<Axes: xlabel='date'>"
      ]
     },
     "execution_count": 17,
     "metadata": {},
     "output_type": "execute_result"
    },
    {
     "data": {
      "text/plain": [
       "<Figure size 1500x1000 with 0 Axes>"
      ]
     },
     "metadata": {},
     "output_type": "display_data"
    },
    {
     "data": {
      "image/png": "[encoded data removed]",
      "text/plain": [
       "<Figure size 640x480 with 1 Axes>"
      ]
     },
     "metadata": {},
     "output_type": "display_data"
    }
   ],
   "source": [
    "grouped_length = paths_finished.groupby([\"date\"]).agg({\"length\": \"mean\"}).reset_index()\n",
    "plt.figure(figsize=(15, 10))\n",
    "grouped_length.plot(x=\"date\", y=\"length\")"
   ]
  },
  {
   "cell_type": "code",
   "execution_count": 20,
   "metadata": {},
   "outputs": [
    {
     "data": {
      "text/plain": [
       "<Axes: xlabel='date'>"
      ]
     },
     "execution_count": 20,
     "metadata": {},
     "output_type": "execute_result"
    },
    {
     "data": {
      "text/plain": [
       "<Figure size 1500x1000 with 0 Axes>"
      ]
     },
     "metadata": {},
     "output_type": "display_data"
    },
    {
     "data": {
      "image/png": "[encoded data removed]",
      "text/plain": [
       "<Figure size 640x480 with 1 Axes>"
      ]
     },
     "metadata": {},
     "output_type": "display_data"
    }
   ],
   "source": [
    "grouped_duration = paths_finished.groupby([\"date\"]).agg({\"durationInSec\": \"mean\"}).reset_index()\n",
    "plt.figure(figsize=(15, 10))\n",
    "grouped_duration.plot(x=\"date\", y=\"durationInSec\")"
   ]
  },
  {
   "cell_type": "markdown",
   "metadata": {},
   "source": [
    "# Sentiment analysis"
   ]
  },
  {
   "cell_type": "code",
   "execution_count": 31,
   "metadata": {},
   "outputs": [],
   "source": [
    "from urllib.parse import unquote"
   ]
  },
  {
   "cell_type": "code",
   "execution_count": null,
   "metadata": {},
   "outputs": [],
   "source": [
    "paths_finished[\"date\"] = paths_finished.timestamp.apply(lambda d:  datetime.datetime.utcfromtimestamp(d))\n",
    "paths_finished = paths_finished.sort_values(by=\"date\", ascending=False)\n",
    "paths_finished[\"path\"] = paths_finished[\"path\"].apply(lambda x: [unquote(article) for article in x.split(\";\")])\n",
    "paths_finished"
   ]
  },
  {
   "cell_type": "code",
   "execution_count": null,
   "metadata": {},
   "outputs": [
    {
     "data": {
      "text/plain": [
       "37"
      ]
     },
     "execution_count": 36,
     "metadata": {},
     "output_type": "execute_result"
    }
   ],
   "source": [
    "# extract all path with \"Barack_Obama\" in it\n",
    "paths_finished_obbama = paths_finished[paths_finished[\"path\"].apply(lambda x: \"Barack_Obama\" in x)]\n",
    "len(paths_finished_obbama)\n",
    "\n",
    "#extract all articles path that are before or after the article  \"Barack_Obama\"\n",
    "articles_associated = []\n",
    "for path in paths_finished_obbama[\"path\"]:\n",
    "    index = path.index(\"Barack_Obama\")\n",
    "    articles_associated.append(path[index-1] if index > 0 else None)\n",
    "    articles_associated.append(path[index+1] if index < len(path)-1 else None)\n",
    "\n",
    "# remove None and duplicates\n",
    "articles_associated = [article for article in articles_associated if article is not None]\n",
    "articles_associated = list(set(articles_associated))\n",
    "articles_associated"
   ]
  },
  {
   "cell_type": "code",
   "execution_count": null,
   "metadata": {},
   "outputs": [
    {
     "data": {
      "text/html": [
       "<div>\n",
       "<style scoped>\n",
       "    .dataframe tbody tr th:only-of-type {\n",
       "        vertical-align: middle;\n",
       "    }\n",
       "\n",
       "    .dataframe tbody tr th {\n",
       "        vertical-align: top;\n",
       "    }\n",
       "\n",
       "    .dataframe thead th {\n",
       "        text-align: right;\n",
       "    }\n",
       "</style>\n",
       "<table border=\"1\" class=\"dataframe\">\n",
       "  <thead>\n",
       "    <tr style=\"text-align: right;\">\n",
       "      <th></th>\n",
       "      <th>label</th>\n",
       "      <th>score</th>\n",
       "      <th>article</th>\n",
       "    </tr>\n",
       "  </thead>\n",
       "  <tbody>\n",
       "    <tr>\n",
       "      <th>0</th>\n",
       "      <td>POSITIVE</td>\n",
       "      <td>0.978041</td>\n",
       "      <td>Ethiopia</td>\n",
       "    </tr>\n",
       "    <tr>\n",
       "      <th>2</th>\n",
       "      <td>NEGATIVE</td>\n",
       "      <td>0.999374</td>\n",
       "      <td>AIDS</td>\n",
       "    </tr>\n",
       "    <tr>\n",
       "      <th>4</th>\n",
       "      <td>POSITIVE</td>\n",
       "      <td>0.818699</td>\n",
       "      <td>&lt;</td>\n",
       "    </tr>\n",
       "    <tr>\n",
       "      <th>5</th>\n",
       "      <td>NEGATIVE</td>\n",
       "      <td>0.998475</td>\n",
       "      <td>Terrorism</td>\n",
       "    </tr>\n",
       "    <tr>\n",
       "      <th>6</th>\n",
       "      <td>NEGATIVE</td>\n",
       "      <td>0.836602</td>\n",
       "      <td>Jew</td>\n",
       "    </tr>\n",
       "    <tr>\n",
       "      <th>7</th>\n",
       "      <td>POSITIVE</td>\n",
       "      <td>0.995604</td>\n",
       "      <td>Kenya</td>\n",
       "    </tr>\n",
       "    <tr>\n",
       "      <th>8</th>\n",
       "      <td>POSITIVE</td>\n",
       "      <td>0.996469</td>\n",
       "      <td>Franklin_D._Roosevelt</td>\n",
       "    </tr>\n",
       "    <tr>\n",
       "      <th>9</th>\n",
       "      <td>POSITIVE</td>\n",
       "      <td>0.812479</td>\n",
       "      <td>United_States_Senate</td>\n",
       "    </tr>\n",
       "    <tr>\n",
       "      <th>10</th>\n",
       "      <td>POSITIVE</td>\n",
       "      <td>0.993721</td>\n",
       "      <td>Ukraine</td>\n",
       "    </tr>\n",
       "    <tr>\n",
       "      <th>11</th>\n",
       "      <td>POSITIVE</td>\n",
       "      <td>0.998632</td>\n",
       "      <td>Chicago</td>\n",
       "    </tr>\n",
       "    <tr>\n",
       "      <th>12</th>\n",
       "      <td>POSITIVE</td>\n",
       "      <td>0.898800</td>\n",
       "      <td>United_States_dollar</td>\n",
       "    </tr>\n",
       "    <tr>\n",
       "      <th>13</th>\n",
       "      <td>POSITIVE</td>\n",
       "      <td>0.990749</td>\n",
       "      <td>Internet</td>\n",
       "    </tr>\n",
       "    <tr>\n",
       "      <th>14</th>\n",
       "      <td>POSITIVE</td>\n",
       "      <td>0.979624</td>\n",
       "      <td>Iran</td>\n",
       "    </tr>\n",
       "    <tr>\n",
       "      <th>15</th>\n",
       "      <td>POSITIVE</td>\n",
       "      <td>0.977757</td>\n",
       "      <td>Cinema_of_the_United_States</td>\n",
       "    </tr>\n",
       "    <tr>\n",
       "      <th>16</th>\n",
       "      <td>NEGATIVE</td>\n",
       "      <td>0.899539</td>\n",
       "      <td>Ethanol</td>\n",
       "    </tr>\n",
       "    <tr>\n",
       "      <th>17</th>\n",
       "      <td>POSITIVE</td>\n",
       "      <td>0.815591</td>\n",
       "      <td>Political_science</td>\n",
       "    </tr>\n",
       "    <tr>\n",
       "      <th>18</th>\n",
       "      <td>POSITIVE</td>\n",
       "      <td>0.990334</td>\n",
       "      <td>Ronald_Reagan</td>\n",
       "    </tr>\n",
       "    <tr>\n",
       "      <th>19</th>\n",
       "      <td>POSITIVE</td>\n",
       "      <td>0.987466</td>\n",
       "      <td>United_Nations</td>\n",
       "    </tr>\n",
       "  </tbody>\n",
       "</table>\n",
       "</div>"
      ],
      "text/plain": [
       "       label     score                      article\n",
       "0   POSITIVE  0.978041                     Ethiopia\n",
       "2   NEGATIVE  0.999374                         AIDS\n",
       "4   POSITIVE  0.818699                            <\n",
       "5   NEGATIVE  0.998475                    Terrorism\n",
       "6   NEGATIVE  0.836602                          Jew\n",
       "7   POSITIVE  0.995604                        Kenya\n",
       "8   POSITIVE  0.996469        Franklin_D._Roosevelt\n",
       "9   POSITIVE  0.812479         United_States_Senate\n",
       "10  POSITIVE  0.993721                      Ukraine\n",
       "11  POSITIVE  0.998632                      Chicago\n",
       "12  POSITIVE  0.898800         United_States_dollar\n",
       "13  POSITIVE  0.990749                     Internet\n",
       "14  POSITIVE  0.979624                         Iran\n",
       "15  POSITIVE  0.977757  Cinema_of_the_United_States\n",
       "16  NEGATIVE  0.899539                      Ethanol\n",
       "17  POSITIVE  0.815591            Political_science\n",
       "18  POSITIVE  0.990334                Ronald_Reagan\n",
       "19  POSITIVE  0.987466               United_Nations"
      ]
     },
     "execution_count": 19,
     "metadata": {},
     "output_type": "execute_result"
    }
   ],
   "source": [
    "from transformers import pipeline\n",
    "sentiment_pipeline = pipeline(\"sentiment-analysis\")\n",
    "sentiments = sentiment_pipeline(articles_associated)\n",
    "sentiments = pd.DataFrame(sentiments)\n",
    "sentiments[\"article\"] = articles_associated\n",
    "sentiments = sentiments[sentiments[\"score\"]>0.8]\n",
    "sentiments"
   ]
  },
  {
   "cell_type": "code",
   "execution_count": 20,
   "metadata": {},
   "outputs": [
    {
     "data": {
      "text/plain": [
       "label\n",
       "NEGATIVE     4\n",
       "POSITIVE    14\n",
       "dtype: int64"
      ]
     },
     "execution_count": 20,
     "metadata": {},
     "output_type": "execute_result"
    }
   ],
   "source": [
    "sentiments.groupby(\"label\").size()"
   ]
  },
  {
   "cell_type": "markdown",
   "metadata": {},
   "source": [
    "### Climate"
   ]
  },
  {
   "cell_type": "code",
   "execution_count": 77,
   "metadata": {},
   "outputs": [
    {
     "name": "stderr",
     "output_type": "stream",
     "text": [
      "c:\\Users\\camil\\miniconda3\\envs\\ada\\Lib\\site-packages\\transformers\\tokenization_utils_base.py:1601: FutureWarning: `clean_up_tokenization_spaces` was not set. It will be set to `True` by default. This behavior will be depracted in transformers v4.45, and will be then set to `False` by default. For more details check this issue: https://github.com/huggingface/transformers/issues/31884\n",
      "  warnings.warn(\n"
     ]
    },
    {
     "data": {
      "text/plain": [
       "[{'label': 'POSITIVE', 'score': 0.998561680316925},\n",
       " {'label': 'NEGATIVE', 'score': 0.9991401433944702}]"
      ]
     },
     "execution_count": 77,
     "metadata": {},
     "output_type": "execute_result"
    }
   ],
   "source": [
    "from transformers import pipeline\n",
    "sentiment_pipeline = pipeline(\"sentiment-analysis\", model=\"siebert/sentiment-roberta-large-english\")\n",
    "data = [\"I love you\", \"I hate you\"]\n",
    "sentiment_pipeline(data)"
   ]
  },
  {
   "cell_type": "code",
   "execution_count": 78,
   "metadata": {},
   "outputs": [],
   "source": [
    "def sentiment_analysis(paths_finished, article, sentiment_pipeline= sentiment_pipeline):\n",
    "    paths_finished[\"date\"] = paths_finished.timestamp.apply(lambda d:  datetime.datetime.utcfromtimestamp(d))\n",
    "    paths_finished = paths_finished.sort_values(by=\"date\", ascending=False)\n",
    "\n",
    "    paths_finished_Climate_change = paths_finished[paths_finished[\"path\"].apply(lambda x: article in x)]\n",
    "    paths_finished_Climate_change[\"date\"] = paths_finished_Climate_change[\"date\"].apply(lambda x: x.strftime('%Y')) #-%m\n",
    "\n",
    "    def get_associated_articles(path, article):\n",
    "        articles_associated = []\n",
    "        index = path.index(article)\n",
    "        articles_associated.append(path[index-1] if index > 0 else None)\n",
    "        articles_associated.append(path[index+1] if index < len(path)-1 else None)\n",
    "        return articles_associated\n",
    "        \n",
    "    paths_finished_Climate_change[\"associated\"] = paths_finished_Climate_change[\"path\"].apply(get_associated_articles, article=article)\n",
    "    print(len(paths_finished_Climate_change))\n",
    "\n",
    "    grouped = paths_finished_Climate_change.groupby([\"date\"]).agg({\"associated\": \"sum\"})\n",
    "    \n",
    "    def sentiment_score(list_article, sentiment_pipeline= sentiment_pipeline): \n",
    "        articles_associated = [article for article in list_article if article is not None]\n",
    "        articles_associated = list(set(articles_associated))  \n",
    "        sentiments = sentiment_pipeline(articles_associated)\n",
    "        sentiments = pd.DataFrame(sentiments)\n",
    "        sentiments = sentiments[sentiments[\"score\"]>0.8]\n",
    "        return (len( sentiments[sentiments[\"label\"] == \"POSITIVE\"]))/len(sentiments)\n",
    "\n",
    "    grouped[\"score\"] = grouped[\"associated\"].apply(sentiment_score, sentiment_pipeline)\n",
    "    return grouped"
   ]
  },
  {
   "cell_type": "code",
   "execution_count": 79,
   "metadata": {},
   "outputs": [
    {
     "name": "stderr",
     "output_type": "stream",
     "text": [
      "C:\\Users\\camil\\AppData\\Local\\Temp\\ipykernel_23004\\3582499600.py:6: SettingWithCopyWarning: \n",
      "A value is trying to be set on a copy of a slice from a DataFrame.\n",
      "Try using .loc[row_indexer,col_indexer] = value instead\n",
      "\n",
      "See the caveats in the documentation: https://pandas.pydata.org/pandas-docs/stable/user_guide/indexing.html#returning-a-view-versus-a-copy\n",
      "  paths_finished_Climate_change[\"date\"] = paths_finished_Climate_change[\"date\"].apply(lambda x: x.strftime('%Y')) #-%m\n",
      "C:\\Users\\camil\\AppData\\Local\\Temp\\ipykernel_23004\\3582499600.py:15: SettingWithCopyWarning: \n",
      "A value is trying to be set on a copy of a slice from a DataFrame.\n",
      "Try using .loc[row_indexer,col_indexer] = value instead\n",
      "\n",
      "See the caveats in the documentation: https://pandas.pydata.org/pandas-docs/stable/user_guide/indexing.html#returning-a-view-versus-a-copy\n",
      "  paths_finished_Climate_change[\"associated\"] = paths_finished_Climate_change[\"path\"].apply(get_associated_articles, article=article)\n",
      "C:\\Users\\camil\\AppData\\Local\\Temp\\ipykernel_23004\\3582499600.py:28: FutureWarning: the convert_dtype parameter is deprecated and will be removed in a future version.  Do ``ser.astype(object).apply()`` instead if you want ``convert_dtype=False``.\n",
      "  grouped[\"score\"] = grouped[\"associated\"].apply(sentiment_score, sentiment_pipeline)\n"
     ]
    },
    {
     "name": "stdout",
     "output_type": "stream",
     "text": [
      "317\n"
     ]
    }
   ],
   "source": [
    "climate = sentiment_analysis(paths_finished, \"Climate\")"
   ]
  },
  {
   "cell_type": "code",
   "execution_count": 80,
   "metadata": {},
   "outputs": [
    {
     "data": {
      "text/html": [
       "<div>\n",
       "<style scoped>\n",
       "    .dataframe tbody tr th:only-of-type {\n",
       "        vertical-align: middle;\n",
       "    }\n",
       "\n",
       "    .dataframe tbody tr th {\n",
       "        vertical-align: top;\n",
       "    }\n",
       "\n",
       "    .dataframe thead th {\n",
       "        text-align: right;\n",
       "    }\n",
       "</style>\n",
       "<table border=\"1\" class=\"dataframe\">\n",
       "  <thead>\n",
       "    <tr style=\"text-align: right;\">\n",
       "      <th></th>\n",
       "      <th>associated</th>\n",
       "      <th>score</th>\n",
       "    </tr>\n",
       "    <tr>\n",
       "      <th>date</th>\n",
       "      <th></th>\n",
       "      <th></th>\n",
       "    </tr>\n",
       "  </thead>\n",
       "  <tbody>\n",
       "    <tr>\n",
       "      <th>2008</th>\n",
       "      <td>[Ecology, Global_warming, Geography, Tropical_...</td>\n",
       "      <td>0.882353</td>\n",
       "    </tr>\n",
       "    <tr>\n",
       "      <th>2009</th>\n",
       "      <td>[Serbia, Global_warming, Ice, Weather, Greece,...</td>\n",
       "      <td>0.800000</td>\n",
       "    </tr>\n",
       "    <tr>\n",
       "      <th>2010</th>\n",
       "      <td>[&lt;, &lt;, Sun, Meteorology, Climate_change, None,...</td>\n",
       "      <td>0.769231</td>\n",
       "    </tr>\n",
       "    <tr>\n",
       "      <th>2011</th>\n",
       "      <td>[&lt;, Global_warming, Meteorology, Sea, Sun, Wea...</td>\n",
       "      <td>0.785714</td>\n",
       "    </tr>\n",
       "    <tr>\n",
       "      <th>2012</th>\n",
       "      <td>[Ukraine, Global_warming, Earth, Global_warmin...</td>\n",
       "      <td>0.740741</td>\n",
       "    </tr>\n",
       "    <tr>\n",
       "      <th>2013</th>\n",
       "      <td>[None, Global_warming, New_Zealand, Weather, T...</td>\n",
       "      <td>0.923077</td>\n",
       "    </tr>\n",
       "    <tr>\n",
       "      <th>2014</th>\n",
       "      <td>[Ice, Global_warming, Finland, None]</td>\n",
       "      <td>0.666667</td>\n",
       "    </tr>\n",
       "  </tbody>\n",
       "</table>\n",
       "</div>"
      ],
      "text/plain": [
       "                                             associated     score\n",
       "date                                                             \n",
       "2008  [Ecology, Global_warming, Geography, Tropical_...  0.882353\n",
       "2009  [Serbia, Global_warming, Ice, Weather, Greece,...  0.800000\n",
       "2010  [<, <, Sun, Meteorology, Climate_change, None,...  0.769231\n",
       "2011  [<, Global_warming, Meteorology, Sea, Sun, Wea...  0.785714\n",
       "2012  [Ukraine, Global_warming, Earth, Global_warmin...  0.740741\n",
       "2013  [None, Global_warming, New_Zealand, Weather, T...  0.923077\n",
       "2014               [Ice, Global_warming, Finland, None]  0.666667"
      ]
     },
     "execution_count": 80,
     "metadata": {},
     "output_type": "execute_result"
    }
   ],
   "source": [
    "climate"
   ]
  },
  {
   "cell_type": "markdown",
   "metadata": {},
   "source": [
    "### Natural_disaster"
   ]
  },
  {
   "cell_type": "code",
   "execution_count": 64,
   "metadata": {},
   "outputs": [
    {
     "name": "stderr",
     "output_type": "stream",
     "text": [
      "C:\\Users\\camil\\AppData\\Local\\Temp\\ipykernel_23004\\3008977688.py:6: SettingWithCopyWarning: \n",
      "A value is trying to be set on a copy of a slice from a DataFrame.\n",
      "Try using .loc[row_indexer,col_indexer] = value instead\n",
      "\n",
      "See the caveats in the documentation: https://pandas.pydata.org/pandas-docs/stable/user_guide/indexing.html#returning-a-view-versus-a-copy\n",
      "  paths_finished_Climate_change[\"date\"] = paths_finished_Climate_change[\"date\"].apply(lambda x: x.strftime('%Y')) #-%m\n",
      "C:\\Users\\camil\\AppData\\Local\\Temp\\ipykernel_23004\\3008977688.py:15: SettingWithCopyWarning: \n",
      "A value is trying to be set on a copy of a slice from a DataFrame.\n",
      "Try using .loc[row_indexer,col_indexer] = value instead\n",
      "\n",
      "See the caveats in the documentation: https://pandas.pydata.org/pandas-docs/stable/user_guide/indexing.html#returning-a-view-versus-a-copy\n",
      "  paths_finished_Climate_change[\"associated\"] = paths_finished_Climate_change[\"path\"].apply(get_associated_articles, article=article)\n"
     ]
    },
    {
     "name": "stdout",
     "output_type": "stream",
     "text": [
      "25\n"
     ]
    },
    {
     "data": {
      "text/html": [
       "<div>\n",
       "<style scoped>\n",
       "    .dataframe tbody tr th:only-of-type {\n",
       "        vertical-align: middle;\n",
       "    }\n",
       "\n",
       "    .dataframe tbody tr th {\n",
       "        vertical-align: top;\n",
       "    }\n",
       "\n",
       "    .dataframe thead th {\n",
       "        text-align: right;\n",
       "    }\n",
       "</style>\n",
       "<table border=\"1\" class=\"dataframe\">\n",
       "  <thead>\n",
       "    <tr style=\"text-align: right;\">\n",
       "      <th></th>\n",
       "      <th>associated</th>\n",
       "      <th>score</th>\n",
       "    </tr>\n",
       "    <tr>\n",
       "      <th>date</th>\n",
       "      <th></th>\n",
       "      <th></th>\n",
       "    </tr>\n",
       "  </thead>\n",
       "  <tbody>\n",
       "    <tr>\n",
       "      <th>2009</th>\n",
       "      <td>[Ecology, Tsunami, Hurricane_Katrina, None, Hu...</td>\n",
       "      <td>0.750000</td>\n",
       "    </tr>\n",
       "    <tr>\n",
       "      <th>2010</th>\n",
       "      <td>[None, Japan, 2004_Indian_Ocean_earthquake, No...</td>\n",
       "      <td>0.833333</td>\n",
       "    </tr>\n",
       "    <tr>\n",
       "      <th>2011</th>\n",
       "      <td>[Mount_Nyiragongo, Earthquake, None, Tornado, ...</td>\n",
       "      <td>0.250000</td>\n",
       "    </tr>\n",
       "    <tr>\n",
       "      <th>2012</th>\n",
       "      <td>[Dublin, Earth, House, AIDS]</td>\n",
       "      <td>0.750000</td>\n",
       "    </tr>\n",
       "    <tr>\n",
       "      <th>2013</th>\n",
       "      <td>[2004_Indian_Ocean_earthquake, None, Effect_of...</td>\n",
       "      <td>0.333333</td>\n",
       "    </tr>\n",
       "  </tbody>\n",
       "</table>\n",
       "</div>"
      ],
      "text/plain": [
       "                                             associated     score\n",
       "date                                                             \n",
       "2009  [Ecology, Tsunami, Hurricane_Katrina, None, Hu...  0.750000\n",
       "2010  [None, Japan, 2004_Indian_Ocean_earthquake, No...  0.833333\n",
       "2011  [Mount_Nyiragongo, Earthquake, None, Tornado, ...  0.250000\n",
       "2012                       [Dublin, Earth, House, AIDS]  0.750000\n",
       "2013  [2004_Indian_Ocean_earthquake, None, Effect_of...  0.333333"
      ]
     },
     "execution_count": 64,
     "metadata": {},
     "output_type": "execute_result"
    }
   ],
   "source": [
    "disaster = sentiment_analysis(paths_finished, \"Natural_disaster\")\n",
    "disaster"
   ]
  },
  {
   "cell_type": "code",
   "execution_count": 81,
   "metadata": {},
   "outputs": [
    {
     "name": "stderr",
     "output_type": "stream",
     "text": [
      "C:\\Users\\camil\\AppData\\Local\\Temp\\ipykernel_23004\\3582499600.py:6: SettingWithCopyWarning: \n",
      "A value is trying to be set on a copy of a slice from a DataFrame.\n",
      "Try using .loc[row_indexer,col_indexer] = value instead\n",
      "\n",
      "See the caveats in the documentation: https://pandas.pydata.org/pandas-docs/stable/user_guide/indexing.html#returning-a-view-versus-a-copy\n",
      "  paths_finished_Climate_change[\"date\"] = paths_finished_Climate_change[\"date\"].apply(lambda x: x.strftime('%Y')) #-%m\n",
      "C:\\Users\\camil\\AppData\\Local\\Temp\\ipykernel_23004\\3582499600.py:15: SettingWithCopyWarning: \n",
      "A value is trying to be set on a copy of a slice from a DataFrame.\n",
      "Try using .loc[row_indexer,col_indexer] = value instead\n",
      "\n",
      "See the caveats in the documentation: https://pandas.pydata.org/pandas-docs/stable/user_guide/indexing.html#returning-a-view-versus-a-copy\n",
      "  paths_finished_Climate_change[\"associated\"] = paths_finished_Climate_change[\"path\"].apply(get_associated_articles, article=article)\n",
      "C:\\Users\\camil\\AppData\\Local\\Temp\\ipykernel_23004\\3582499600.py:28: FutureWarning: the convert_dtype parameter is deprecated and will be removed in a future version.  Do ``ser.astype(object).apply()`` instead if you want ``convert_dtype=False``.\n",
      "  grouped[\"score\"] = grouped[\"associated\"].apply(sentiment_score, sentiment_pipeline)\n"
     ]
    },
    {
     "name": "stdout",
     "output_type": "stream",
     "text": [
      "677\n"
     ]
    },
    {
     "data": {
      "text/html": [
       "<div>\n",
       "<style scoped>\n",
       "    .dataframe tbody tr th:only-of-type {\n",
       "        vertical-align: middle;\n",
       "    }\n",
       "\n",
       "    .dataframe tbody tr th {\n",
       "        vertical-align: top;\n",
       "    }\n",
       "\n",
       "    .dataframe thead th {\n",
       "        text-align: right;\n",
       "    }\n",
       "</style>\n",
       "<table border=\"1\" class=\"dataframe\">\n",
       "  <thead>\n",
       "    <tr style=\"text-align: right;\">\n",
       "      <th></th>\n",
       "      <th>associated</th>\n",
       "      <th>score</th>\n",
       "    </tr>\n",
       "    <tr>\n",
       "      <th>date</th>\n",
       "      <th></th>\n",
       "      <th></th>\n",
       "    </tr>\n",
       "  </thead>\n",
       "  <tbody>\n",
       "    <tr>\n",
       "      <th>2008</th>\n",
       "      <td>[Christianity, &lt;, &lt;, God, Christianity, Atheis...</td>\n",
       "      <td>0.684211</td>\n",
       "    </tr>\n",
       "    <tr>\n",
       "      <th>2009</th>\n",
       "      <td>[Islam, Philosophy, South_Africa, None, Mesopo...</td>\n",
       "      <td>0.698925</td>\n",
       "    </tr>\n",
       "    <tr>\n",
       "      <th>2010</th>\n",
       "      <td>[Jew, Christianity, None, Evolution, Politics,...</td>\n",
       "      <td>0.679245</td>\n",
       "    </tr>\n",
       "    <tr>\n",
       "      <th>2011</th>\n",
       "      <td>[None, Philosophy, Hinduism, Judaism, &lt;, Human...</td>\n",
       "      <td>0.744681</td>\n",
       "    </tr>\n",
       "    <tr>\n",
       "      <th>2012</th>\n",
       "      <td>[Zeus, Christianity, Buddhism, Islam, Jew, God...</td>\n",
       "      <td>0.702128</td>\n",
       "    </tr>\n",
       "    <tr>\n",
       "      <th>2013</th>\n",
       "      <td>[Mythology, Buddhism, Human, Roman_Catholic_Ch...</td>\n",
       "      <td>0.723404</td>\n",
       "    </tr>\n",
       "    <tr>\n",
       "      <th>2014</th>\n",
       "      <td>[Philosophy, Atheism, Buddhism, Christianity, ...</td>\n",
       "      <td>1.000000</td>\n",
       "    </tr>\n",
       "  </tbody>\n",
       "</table>\n",
       "</div>"
      ],
      "text/plain": [
       "                                             associated     score\n",
       "date                                                             \n",
       "2008  [Christianity, <, <, God, Christianity, Atheis...  0.684211\n",
       "2009  [Islam, Philosophy, South_Africa, None, Mesopo...  0.698925\n",
       "2010  [Jew, Christianity, None, Evolution, Politics,...  0.679245\n",
       "2011  [None, Philosophy, Hinduism, Judaism, <, Human...  0.744681\n",
       "2012  [Zeus, Christianity, Buddhism, Islam, Jew, God...  0.702128\n",
       "2013  [Mythology, Buddhism, Human, Roman_Catholic_Ch...  0.723404\n",
       "2014  [Philosophy, Atheism, Buddhism, Christianity, ...  1.000000"
      ]
     },
     "execution_count": 81,
     "metadata": {},
     "output_type": "execute_result"
    }
   ],
   "source": [
    "disaster = sentiment_analysis(paths_finished, \"Religion\")\n",
    "disaster"
   ]
  },
  {
   "cell_type": "code",
   "execution_count": 82,
   "metadata": {},
   "outputs": [
    {
     "name": "stderr",
     "output_type": "stream",
     "text": [
      "C:\\Users\\camil\\AppData\\Local\\Temp\\ipykernel_23004\\3582499600.py:6: SettingWithCopyWarning: \n",
      "A value is trying to be set on a copy of a slice from a DataFrame.\n",
      "Try using .loc[row_indexer,col_indexer] = value instead\n",
      "\n",
      "See the caveats in the documentation: https://pandas.pydata.org/pandas-docs/stable/user_guide/indexing.html#returning-a-view-versus-a-copy\n",
      "  paths_finished_Climate_change[\"date\"] = paths_finished_Climate_change[\"date\"].apply(lambda x: x.strftime('%Y')) #-%m\n",
      "C:\\Users\\camil\\AppData\\Local\\Temp\\ipykernel_23004\\3582499600.py:15: SettingWithCopyWarning: \n",
      "A value is trying to be set on a copy of a slice from a DataFrame.\n",
      "Try using .loc[row_indexer,col_indexer] = value instead\n",
      "\n",
      "See the caveats in the documentation: https://pandas.pydata.org/pandas-docs/stable/user_guide/indexing.html#returning-a-view-versus-a-copy\n",
      "  paths_finished_Climate_change[\"associated\"] = paths_finished_Climate_change[\"path\"].apply(get_associated_articles, article=article)\n",
      "C:\\Users\\camil\\AppData\\Local\\Temp\\ipykernel_23004\\3582499600.py:28: FutureWarning: the convert_dtype parameter is deprecated and will be removed in a future version.  Do ``ser.astype(object).apply()`` instead if you want ``convert_dtype=False``.\n",
      "  grouped[\"score\"] = grouped[\"associated\"].apply(sentiment_score, sentiment_pipeline)\n"
     ]
    },
    {
     "name": "stdout",
     "output_type": "stream",
     "text": [
      "1007\n"
     ]
    },
    {
     "data": {
      "text/html": [
       "<div>\n",
       "<style scoped>\n",
       "    .dataframe tbody tr th:only-of-type {\n",
       "        vertical-align: middle;\n",
       "    }\n",
       "\n",
       "    .dataframe tbody tr th {\n",
       "        vertical-align: top;\n",
       "    }\n",
       "\n",
       "    .dataframe thead th {\n",
       "        text-align: right;\n",
       "    }\n",
       "</style>\n",
       "<table border=\"1\" class=\"dataframe\">\n",
       "  <thead>\n",
       "    <tr style=\"text-align: right;\">\n",
       "      <th></th>\n",
       "      <th>associated</th>\n",
       "      <th>score</th>\n",
       "    </tr>\n",
       "    <tr>\n",
       "      <th>date</th>\n",
       "      <th></th>\n",
       "      <th></th>\n",
       "    </tr>\n",
       "  </thead>\n",
       "  <tbody>\n",
       "    <tr>\n",
       "      <th>2008</th>\n",
       "      <td>[Soviet_Union, Saint_Petersburg, Russian_langu...</td>\n",
       "      <td>0.648649</td>\n",
       "    </tr>\n",
       "    <tr>\n",
       "      <th>2009</th>\n",
       "      <td>[Opera, Serbia, &lt;, None, Soviet_Union, &lt;, Chem...</td>\n",
       "      <td>0.681818</td>\n",
       "    </tr>\n",
       "    <tr>\n",
       "      <th>2010</th>\n",
       "      <td>[Helsinki, Petroleum, Europe, Soviet_Union, Pe...</td>\n",
       "      <td>0.680000</td>\n",
       "    </tr>\n",
       "    <tr>\n",
       "      <th>2011</th>\n",
       "      <td>[Russian_language, Europe, Europe, Sputnik_1, ...</td>\n",
       "      <td>0.645161</td>\n",
       "    </tr>\n",
       "    <tr>\n",
       "      <th>2012</th>\n",
       "      <td>[Soviet_Union, None, United_States, National_A...</td>\n",
       "      <td>0.585106</td>\n",
       "    </tr>\n",
       "    <tr>\n",
       "      <th>2013</th>\n",
       "      <td>[Europe, Asia, Zoroaster, Turkey, Opera, Tribe...</td>\n",
       "      <td>0.643678</td>\n",
       "    </tr>\n",
       "    <tr>\n",
       "      <th>2014</th>\n",
       "      <td>[Helium, Poland, Norway, Soviet_Union, Dmitri_...</td>\n",
       "      <td>0.500000</td>\n",
       "    </tr>\n",
       "  </tbody>\n",
       "</table>\n",
       "</div>"
      ],
      "text/plain": [
       "                                             associated     score\n",
       "date                                                             \n",
       "2008  [Soviet_Union, Saint_Petersburg, Russian_langu...  0.648649\n",
       "2009  [Opera, Serbia, <, None, Soviet_Union, <, Chem...  0.681818\n",
       "2010  [Helsinki, Petroleum, Europe, Soviet_Union, Pe...  0.680000\n",
       "2011  [Russian_language, Europe, Europe, Sputnik_1, ...  0.645161\n",
       "2012  [Soviet_Union, None, United_States, National_A...  0.585106\n",
       "2013  [Europe, Asia, Zoroaster, Turkey, Opera, Tribe...  0.643678\n",
       "2014  [Helium, Poland, Norway, Soviet_Union, Dmitri_...  0.500000"
      ]
     },
     "execution_count": 82,
     "metadata": {},
     "output_type": "execute_result"
    }
   ],
   "source": [
    "disaster = sentiment_analysis(paths_finished, \"Russia\")\n",
    "disaster"
   ]
  }
 ],
 "metadata": {
  "kernelspec": {
   "display_name": "ada",
   "language": "python",
   "name": "python3"
  },
  "language_info": {
   "codemirror_mode": {
    "name": "ipython",
    "version": 3
   },
   "file_extension": ".py",
   "mimetype": "text/x-python",
   "name": "python",
   "nbconvert_exporter": "python",
   "pygments_lexer": "ipython3",
   "version": "3.11.9"
  }
 },
 "nbformat": 4,
 "nbformat_minor": 2
}
