{
 "cells": [
  {
   "cell_type": "code",
   "execution_count": 1,
   "metadata": {},
   "outputs": [],
   "source": [
    "%load_ext autoreload\n",
    "%autoreload 2"
   ]
  },
  {
   "cell_type": "markdown",
   "metadata": {},
   "source": [
    "#### Correlation between the rating and the backclip number"
   ]
  },
  {
   "cell_type": "code",
   "execution_count": 2,
   "metadata": {},
   "outputs": [],
   "source": [
    "import pandas as pd\n",
    "import numpy as np\n",
    "import matplotlib.pyplot as plt\n",
    "\n",
    "from src.data_loader import *\n",
    "# import src.models.similarity_matrix as sm"
   ]
  },
  {
   "cell_type": "code",
   "execution_count": 3,
   "metadata": {},
   "outputs": [],
   "source": [
    "\n",
    "# Define a tuple of file paths and column names\n",
    "files_and_columns = (\n",
    "    ('data/paths_finished.tsv', ['hashedIpAddress', 'timestamp', 'durationInSec', 'path', 'rating']),\n",
    "    ('data/paths_unfinished.tsv', ['hashedIpAddress', 'timestamp', 'durationInSec', 'path', 'target', 'type']),\n",
    "    ('data/articles.tsv', ['article']),\n",
    "    ('data/categories.tsv', ['article', 'category'])\n",
    ")\n",
    "\n",
    "def read_files(file_tuples):\n",
    "    dataframes = []\n",
    "    for path, column_names in file_tuples:\n",
    "        df = pd.read_csv(path, sep='\\t', comment='#', names=column_names, header=None)\n",
    "        dataframes.append(df)\n",
    "    return dataframes\n",
    "\n",
    "paths_finished, paths_unfinished, articles, categories  = read_files(files_and_columns)"
   ]
  },
  {
   "cell_type": "code",
   "execution_count": 4,
   "metadata": {},
   "outputs": [],
   "source": [
    "def backtrack(paths) :\n",
    "\n",
    "    paths[\"path_list\"] = paths[\"path\"].apply(lambda x: x.split(\";\"))\n",
    "    # compute number of \"<\" in each path\n",
    "    paths[\"back\"]=paths[\"path_list\"].apply(lambda x: x.count(\"<\"))\n",
    "    paths[\"size\"]=paths[\"path_list\"].apply(lambda x: len(x))\n",
    "\n",
    "    return paths\n",
    "\n",
    "paths_finished = backtrack(paths_finished)\n",
    "paths_unfinished = backtrack(paths_unfinished)"
   ]
  },
  {
   "cell_type": "code",
   "execution_count": 5,
   "metadata": {},
   "outputs": [
    {
     "data": {
      "text/html": [
       "<div>\n",
       "<style scoped>\n",
       "    .dataframe tbody tr th:only-of-type {\n",
       "        vertical-align: middle;\n",
       "    }\n",
       "\n",
       "    .dataframe tbody tr th {\n",
       "        vertical-align: top;\n",
       "    }\n",
       "\n",
       "    .dataframe thead th {\n",
       "        text-align: right;\n",
       "    }\n",
       "</style>\n",
       "<table border=\"1\" class=\"dataframe\">\n",
       "  <thead>\n",
       "    <tr style=\"text-align: right;\">\n",
       "      <th></th>\n",
       "      <th>rating</th>\n",
       "      <th>back</th>\n",
       "      <th>size</th>\n",
       "      <th>back_per_size</th>\n",
       "    </tr>\n",
       "  </thead>\n",
       "  <tbody>\n",
       "    <tr>\n",
       "      <th>0</th>\n",
       "      <td>1.0</td>\n",
       "      <td>0.121400</td>\n",
       "      <td>4.666120</td>\n",
       "      <td>0.026017</td>\n",
       "    </tr>\n",
       "    <tr>\n",
       "      <th>1</th>\n",
       "      <td>2.0</td>\n",
       "      <td>0.245792</td>\n",
       "      <td>6.001592</td>\n",
       "      <td>0.040954</td>\n",
       "    </tr>\n",
       "    <tr>\n",
       "      <th>2</th>\n",
       "      <td>3.0</td>\n",
       "      <td>0.490566</td>\n",
       "      <td>7.645503</td>\n",
       "      <td>0.064164</td>\n",
       "    </tr>\n",
       "    <tr>\n",
       "      <th>3</th>\n",
       "      <td>4.0</td>\n",
       "      <td>1.007278</td>\n",
       "      <td>10.082969</td>\n",
       "      <td>0.099899</td>\n",
       "    </tr>\n",
       "    <tr>\n",
       "      <th>4</th>\n",
       "      <td>5.0</td>\n",
       "      <td>1.835060</td>\n",
       "      <td>13.296200</td>\n",
       "      <td>0.138014</td>\n",
       "    </tr>\n",
       "  </tbody>\n",
       "</table>\n",
       "</div>"
      ],
      "text/plain": [
       "   rating      back       size  back_per_size\n",
       "0     1.0  0.121400   4.666120       0.026017\n",
       "1     2.0  0.245792   6.001592       0.040954\n",
       "2     3.0  0.490566   7.645503       0.064164\n",
       "3     4.0  1.007278  10.082969       0.099899\n",
       "4     5.0  1.835060  13.296200       0.138014"
      ]
     },
     "execution_count": 5,
     "metadata": {},
     "output_type": "execute_result"
    }
   ],
   "source": [
    "back_per_rating = paths_finished.groupby(\"rating\").agg({\"back\": \"mean\", \"size\": \"mean\"}).reset_index()\n",
    "\n",
    "back_per_rating[\"back_per_size\"] = back_per_rating[\"back\"]/back_per_rating[\"size\"]\n",
    "back_per_rating"
   ]
  }
 ],
 "metadata": {
  "kernelspec": {
   "display_name": "ada",
   "language": "python",
   "name": "python3"
  },
  "language_info": {
   "codemirror_mode": {
    "name": "ipython",
    "version": 3
   },
   "file_extension": ".py",
   "mimetype": "text/x-python",
   "name": "python",
   "nbconvert_exporter": "python",
   "pygments_lexer": "ipython3",
   "version": "3.11.9"
  }
 },
 "nbformat": 4,
 "nbformat_minor": 2
}
