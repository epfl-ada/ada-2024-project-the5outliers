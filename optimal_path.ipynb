{
 "cells": [
  {
   "cell_type": "code",
   "execution_count": 1,
   "metadata": {},
   "outputs": [],
   "source": [
    "from src.data_loader import *\n",
    "from src.helpers import *"
   ]
  },
  {
   "cell_type": "code",
   "execution_count": 2,
   "metadata": {},
   "outputs": [
    {
     "name": "stdout",
     "output_type": "stream",
     "text": [
      "Finished Paths \n",
      "Number of rows before filtering: 51318\n",
      "Invalid articles found in path: {'Wikipedia Text of the GNU Free Documentation License', 'Pikachu'}\n",
      "Number of rows after filtering: 51210 \n",
      "\n",
      "Unfinished Paths \n",
      "Number of rows before filtering: 24875\n",
      "Invalid target articles found: {'The Rock', 'Bogota', 'Great', 'Usa', 'Sportacus', 'Rss', 'Mustard', 'Test', 'Georgia', 'Netbook', 'Black ops 2', 'Fats', 'The', 'Macedonia', 'Kashmir', 'Western Australia', 'Pikachu', 'Rat', 'Christmas', 'Adolph Hitler', 'Charlottes web', 'Long peper', 'English', ' Zebra', 'Podcast'}\n",
      "Invalid articles found in path: {'Wikipedia Text of the GNU Free Documentation License', 'Pikachu'}\n",
      "Number of rows after filtering: 24721 \n",
      "\n"
     ]
    }
   ],
   "source": [
    "df_categories = read_categories()\n",
    "df_finished = read_finished_paths()\n",
    "df_unfinished = read_unfinished_paths()\n",
    "\n",
    "# Drop all rows with Pikachu in target source and path (because pikachu doens't have category)\n",
    "# migth handle it better by puting none for the pickachu value or be a category by itself\n",
    "df_finished = df_finished.loc[~df_finished['path'].str.contains('Pikachu'), :]\n",
    "df_unfinished = df_unfinished.loc[~df_unfinished['target'].str.contains('Pikachu'), :]\n",
    "df_unfinished = df_unfinished.loc[~df_unfinished['path'].str.contains('Pikachu'), :]\n",
    "\n",
    "df_categories_filtered = filter_most_specific_category(df_categories)"
   ]
  },
  {
   "cell_type": "code",
   "execution_count": 3,
   "metadata": {},
   "outputs": [
    {
     "data": {
      "text/html": [
       "<div>\n",
       "<style scoped>\n",
       "    .dataframe tbody tr th:only-of-type {\n",
       "        vertical-align: middle;\n",
       "    }\n",
       "\n",
       "    .dataframe tbody tr th {\n",
       "        vertical-align: top;\n",
       "    }\n",
       "\n",
       "    .dataframe thead th {\n",
       "        text-align: right;\n",
       "    }\n",
       "</style>\n",
       "<table border=\"1\" class=\"dataframe\">\n",
       "  <thead>\n",
       "    <tr style=\"text-align: right;\">\n",
       "      <th></th>\n",
       "      <th>source</th>\n",
       "      <th>target</th>\n",
       "    </tr>\n",
       "  </thead>\n",
       "  <tbody>\n",
       "    <tr>\n",
       "      <th>0</th>\n",
       "      <td>14th century</td>\n",
       "      <td>African slave trade</td>\n",
       "    </tr>\n",
       "    <tr>\n",
       "      <th>3</th>\n",
       "      <td>14th century</td>\n",
       "      <td>Greece</td>\n",
       "    </tr>\n",
       "    <tr>\n",
       "      <th>4</th>\n",
       "      <td>14th century</td>\n",
       "      <td>John F. Kennedy</td>\n",
       "    </tr>\n",
       "    <tr>\n",
       "      <th>6</th>\n",
       "      <td>14th century</td>\n",
       "      <td>Fire</td>\n",
       "    </tr>\n",
       "    <tr>\n",
       "      <th>7</th>\n",
       "      <td>14th century</td>\n",
       "      <td>Rainbow</td>\n",
       "    </tr>\n",
       "    <tr>\n",
       "      <th>...</th>\n",
       "      <td>...</td>\n",
       "      <td>...</td>\n",
       "    </tr>\n",
       "    <tr>\n",
       "      <th>75924</th>\n",
       "      <td>Wine</td>\n",
       "      <td>History of post-Soviet Russia</td>\n",
       "    </tr>\n",
       "    <tr>\n",
       "      <th>75925</th>\n",
       "      <td>Turks and Caicos Islands</td>\n",
       "      <td>Iraq War</td>\n",
       "    </tr>\n",
       "    <tr>\n",
       "      <th>75926</th>\n",
       "      <td>Franz Kafka</td>\n",
       "      <td>Cholera</td>\n",
       "    </tr>\n",
       "    <tr>\n",
       "      <th>75927</th>\n",
       "      <td>Modern history</td>\n",
       "      <td>Hollandic</td>\n",
       "    </tr>\n",
       "    <tr>\n",
       "      <th>75929</th>\n",
       "      <td>Jamaica</td>\n",
       "      <td>Alan Turing</td>\n",
       "    </tr>\n",
       "  </tbody>\n",
       "</table>\n",
       "<p>42526 rows × 2 columns</p>\n",
       "</div>"
      ],
      "text/plain": [
       "                         source                         target\n",
       "0                  14th century            African slave trade\n",
       "3                  14th century                         Greece\n",
       "4                  14th century                John F. Kennedy\n",
       "6                  14th century                           Fire\n",
       "7                  14th century                        Rainbow\n",
       "...                         ...                            ...\n",
       "75924                      Wine  History of post-Soviet Russia\n",
       "75925  Turks and Caicos Islands                       Iraq War\n",
       "75926               Franz Kafka                        Cholera\n",
       "75927            Modern history                      Hollandic\n",
       "75929                   Jamaica                    Alan Turing\n",
       "\n",
       "[42526 rows x 2 columns]"
      ]
     },
     "execution_count": 3,
     "metadata": {},
     "output_type": "execute_result"
    }
   ],
   "source": [
    "tasks_finished = pd.DataFrame()\n",
    "\n",
    "tasks_finished['source'] = df_finished['path'].apply(lambda x: x.split(';')[0])\n",
    "tasks_finished['target'] = df_finished['path'].apply(lambda x: x.split(';')[-1])\n",
    "df_unfinished['source'] = df_unfinished['path'].apply(lambda x: x.split(';')[0])\n",
    "tasks_finished = pd.concat([tasks_finished, df_unfinished[['source', 'target']]], ignore_index=True)\n",
    "\n",
    "tasks_finished = tasks_finished.drop_duplicates(subset=['source', 'target'])\n",
    "tasks_finished"
   ]
  },
  {
   "cell_type": "code",
   "execution_count": 4,
   "metadata": {},
   "outputs": [
    {
     "data": {
      "text/html": [
       "<div>\n",
       "<style scoped>\n",
       "    .dataframe tbody tr th:only-of-type {\n",
       "        vertical-align: middle;\n",
       "    }\n",
       "\n",
       "    .dataframe tbody tr th {\n",
       "        vertical-align: top;\n",
       "    }\n",
       "\n",
       "    .dataframe thead th {\n",
       "        text-align: right;\n",
       "    }\n",
       "</style>\n",
       "<table border=\"1\" class=\"dataframe\">\n",
       "  <thead>\n",
       "    <tr style=\"text-align: right;\">\n",
       "      <th></th>\n",
       "      <th>source</th>\n",
       "      <th>target</th>\n",
       "    </tr>\n",
       "  </thead>\n",
       "  <tbody>\n",
       "    <tr>\n",
       "      <th>0</th>\n",
       "      <td>14th century</td>\n",
       "      <td>African slave trade</td>\n",
       "    </tr>\n",
       "    <tr>\n",
       "      <th>3</th>\n",
       "      <td>14th century</td>\n",
       "      <td>Greece</td>\n",
       "    </tr>\n",
       "    <tr>\n",
       "      <th>4</th>\n",
       "      <td>14th century</td>\n",
       "      <td>John F. Kennedy</td>\n",
       "    </tr>\n",
       "    <tr>\n",
       "      <th>6</th>\n",
       "      <td>14th century</td>\n",
       "      <td>Fire</td>\n",
       "    </tr>\n",
       "    <tr>\n",
       "      <th>7</th>\n",
       "      <td>14th century</td>\n",
       "      <td>Rainbow</td>\n",
       "    </tr>\n",
       "    <tr>\n",
       "      <th>...</th>\n",
       "      <td>...</td>\n",
       "      <td>...</td>\n",
       "    </tr>\n",
       "    <tr>\n",
       "      <th>75924</th>\n",
       "      <td>Wine</td>\n",
       "      <td>History of post-Soviet Russia</td>\n",
       "    </tr>\n",
       "    <tr>\n",
       "      <th>75925</th>\n",
       "      <td>Turks and Caicos Islands</td>\n",
       "      <td>Iraq War</td>\n",
       "    </tr>\n",
       "    <tr>\n",
       "      <th>75926</th>\n",
       "      <td>Franz Kafka</td>\n",
       "      <td>Cholera</td>\n",
       "    </tr>\n",
       "    <tr>\n",
       "      <th>75927</th>\n",
       "      <td>Modern history</td>\n",
       "      <td>Hollandic</td>\n",
       "    </tr>\n",
       "    <tr>\n",
       "      <th>75929</th>\n",
       "      <td>Jamaica</td>\n",
       "      <td>Alan Turing</td>\n",
       "    </tr>\n",
       "  </tbody>\n",
       "</table>\n",
       "<p>42525 rows × 2 columns</p>\n",
       "</div>"
      ],
      "text/plain": [
       "                         source                         target\n",
       "0                  14th century            African slave trade\n",
       "3                  14th century                         Greece\n",
       "4                  14th century                John F. Kennedy\n",
       "6                  14th century                           Fire\n",
       "7                  14th century                        Rainbow\n",
       "...                         ...                            ...\n",
       "75924                      Wine  History of post-Soviet Russia\n",
       "75925  Turks and Caicos Islands                       Iraq War\n",
       "75926               Franz Kafka                        Cholera\n",
       "75927            Modern history                      Hollandic\n",
       "75929                   Jamaica                    Alan Turing\n",
       "\n",
       "[42525 rows x 2 columns]"
      ]
     },
     "execution_count": 4,
     "metadata": {},
     "output_type": "execute_result"
    }
   ],
   "source": [
    "links = read_links()\n",
    "# One pair source-target has an article which is not in links\n",
    "# Get articles from both linkSource and linkTarget columns\n",
    "unique_nodes = set(links['linkSource']).union(set(links['linkTarget']))\n",
    "# Keep rows where both source and target are in the articles set\n",
    "tasks_finished = tasks_finished[tasks_finished['source'].isin(unique_nodes) & tasks_finished['target'].isin(unique_nodes)]\n",
    "\n",
    "tasks_finished\n"
   ]
  },
  {
   "cell_type": "code",
   "execution_count": 5,
   "metadata": {},
   "outputs": [
    {
     "name": "stderr",
     "output_type": "stream",
     "text": [
      "/var/folders/qp/pyvldkl53w97p1km8zjl72vr0000gn/T/ipykernel_6065/3656778676.py:17: SettingWithCopyWarning: \n",
      "A value is trying to be set on a copy of a slice from a DataFrame.\n",
      "Try using .loc[row_indexer,col_indexer] = value instead\n",
      "\n",
      "See the caveats in the documentation: https://pandas.pydata.org/pandas-docs/stable/user_guide/indexing.html#returning-a-view-versus-a-copy\n",
      "  tasks_finished.loc[:, 'shortest_path'] = tasks_finished.apply(find_shortest_path, axis=1)\n"
     ]
    },
    {
     "data": {
      "text/html": [
       "<div>\n",
       "<style scoped>\n",
       "    .dataframe tbody tr th:only-of-type {\n",
       "        vertical-align: middle;\n",
       "    }\n",
       "\n",
       "    .dataframe tbody tr th {\n",
       "        vertical-align: top;\n",
       "    }\n",
       "\n",
       "    .dataframe thead th {\n",
       "        text-align: right;\n",
       "    }\n",
       "</style>\n",
       "<table border=\"1\" class=\"dataframe\">\n",
       "  <thead>\n",
       "    <tr style=\"text-align: right;\">\n",
       "      <th></th>\n",
       "      <th>source</th>\n",
       "      <th>target</th>\n",
       "      <th>shortest_path</th>\n",
       "    </tr>\n",
       "  </thead>\n",
       "  <tbody>\n",
       "    <tr>\n",
       "      <th>0</th>\n",
       "      <td>14th century</td>\n",
       "      <td>African slave trade</td>\n",
       "      <td>[14th century, Lithuania, Pope John Paul II, A...</td>\n",
       "    </tr>\n",
       "    <tr>\n",
       "      <th>3</th>\n",
       "      <td>14th century</td>\n",
       "      <td>Greece</td>\n",
       "      <td>[14th century, England, Greece]</td>\n",
       "    </tr>\n",
       "    <tr>\n",
       "      <th>4</th>\n",
       "      <td>14th century</td>\n",
       "      <td>John F. Kennedy</td>\n",
       "      <td>[14th century, China, United States, John F. K...</td>\n",
       "    </tr>\n",
       "    <tr>\n",
       "      <th>6</th>\n",
       "      <td>14th century</td>\n",
       "      <td>Fire</td>\n",
       "      <td>[14th century, China, Gunpowder, Fire]</td>\n",
       "    </tr>\n",
       "    <tr>\n",
       "      <th>7</th>\n",
       "      <td>14th century</td>\n",
       "      <td>Rainbow</td>\n",
       "      <td>[14th century, Time, Isaac Newton, Rainbow]</td>\n",
       "    </tr>\n",
       "    <tr>\n",
       "      <th>...</th>\n",
       "      <td>...</td>\n",
       "      <td>...</td>\n",
       "      <td>...</td>\n",
       "    </tr>\n",
       "    <tr>\n",
       "      <th>75924</th>\n",
       "      <td>Wine</td>\n",
       "      <td>History of post-Soviet Russia</td>\n",
       "      <td>[Wine, Judaism, Khazars, History of post-Sovie...</td>\n",
       "    </tr>\n",
       "    <tr>\n",
       "      <th>75925</th>\n",
       "      <td>Turks and Caicos Islands</td>\n",
       "      <td>Iraq War</td>\n",
       "      <td>[Turks and Caicos Islands, Canada, NATO, Iraq ...</td>\n",
       "    </tr>\n",
       "    <tr>\n",
       "      <th>75926</th>\n",
       "      <td>Franz Kafka</td>\n",
       "      <td>Cholera</td>\n",
       "      <td>[Franz Kafka, 20th century, Paris, Cholera]</td>\n",
       "    </tr>\n",
       "    <tr>\n",
       "      <th>75927</th>\n",
       "      <td>Modern history</td>\n",
       "      <td>Hollandic</td>\n",
       "      <td>[Modern history, Earth, Afrikaans, Hollandic]</td>\n",
       "    </tr>\n",
       "    <tr>\n",
       "      <th>75929</th>\n",
       "      <td>Jamaica</td>\n",
       "      <td>Alan Turing</td>\n",
       "      <td>[Jamaica, Islam, Algorithm, Alan Turing]</td>\n",
       "    </tr>\n",
       "  </tbody>\n",
       "</table>\n",
       "<p>42525 rows × 3 columns</p>\n",
       "</div>"
      ],
      "text/plain": [
       "                         source                         target  \\\n",
       "0                  14th century            African slave trade   \n",
       "3                  14th century                         Greece   \n",
       "4                  14th century                John F. Kennedy   \n",
       "6                  14th century                           Fire   \n",
       "7                  14th century                        Rainbow   \n",
       "...                         ...                            ...   \n",
       "75924                      Wine  History of post-Soviet Russia   \n",
       "75925  Turks and Caicos Islands                       Iraq War   \n",
       "75926               Franz Kafka                        Cholera   \n",
       "75927            Modern history                      Hollandic   \n",
       "75929                   Jamaica                    Alan Turing   \n",
       "\n",
       "                                           shortest_path  \n",
       "0      [14th century, Lithuania, Pope John Paul II, A...  \n",
       "3                        [14th century, England, Greece]  \n",
       "4      [14th century, China, United States, John F. K...  \n",
       "6                 [14th century, China, Gunpowder, Fire]  \n",
       "7            [14th century, Time, Isaac Newton, Rainbow]  \n",
       "...                                                  ...  \n",
       "75924  [Wine, Judaism, Khazars, History of post-Sovie...  \n",
       "75925  [Turks and Caicos Islands, Canada, NATO, Iraq ...  \n",
       "75926        [Franz Kafka, 20th century, Paris, Cholera]  \n",
       "75927      [Modern history, Earth, Afrikaans, Hollandic]  \n",
       "75929           [Jamaica, Islam, Algorithm, Alan Turing]  \n",
       "\n",
       "[42525 rows x 3 columns]"
      ]
     },
     "execution_count": 5,
     "metadata": {},
     "output_type": "execute_result"
    }
   ],
   "source": [
    "import networkx as nx\n",
    "\n",
    "# Build the directed graph from the links\n",
    "G = nx.DiGraph()\n",
    "G.add_edges_from(links[['linkSource', 'linkTarget']].itertuples(index=False, name=None))\n",
    "\n",
    "# Find shortest paths for each unique (source, target) pair\n",
    "def find_shortest_path(row):\n",
    "    source, target = row['source'], row['target']\n",
    "    try:\n",
    "        # Use NetworkX to find the shortest path\n",
    "        path = nx.shortest_path(G, source=source, target=target)\n",
    "    except nx.NetworkXNoPath:\n",
    "        path = None  # If no path exists\n",
    "    return path\n",
    "\n",
    "tasks_finished.loc[:, 'shortest_path'] = tasks_finished.apply(find_shortest_path, axis=1)\n",
    "tasks_finished"
   ]
  },
  {
   "cell_type": "code",
   "execution_count": 6,
   "metadata": {},
   "outputs": [
    {
     "data": {
      "text/html": [
       "<div>\n",
       "<style scoped>\n",
       "    .dataframe tbody tr th:only-of-type {\n",
       "        vertical-align: middle;\n",
       "    }\n",
       "\n",
       "    .dataframe tbody tr th {\n",
       "        vertical-align: top;\n",
       "    }\n",
       "\n",
       "    .dataframe thead th {\n",
       "        text-align: right;\n",
       "    }\n",
       "</style>\n",
       "<table border=\"1\" class=\"dataframe\">\n",
       "  <thead>\n",
       "    <tr style=\"text-align: right;\">\n",
       "      <th>article</th>\n",
       "      <th>Áedán mac Gabráin</th>\n",
       "      <th>Åland</th>\n",
       "      <th>Édouard Manet</th>\n",
       "      <th>Éire</th>\n",
       "      <th>Óengus I of the Picts</th>\n",
       "      <th>€2 commemorative coins</th>\n",
       "      <th>10th century</th>\n",
       "      <th>11th century</th>\n",
       "      <th>12th century</th>\n",
       "      <th>13th century</th>\n",
       "      <th>...</th>\n",
       "      <th>Ziad Jarrah</th>\n",
       "      <th>Zimbabwe</th>\n",
       "      <th>Zinc</th>\n",
       "      <th>Zinc chloride</th>\n",
       "      <th>Zion National Park</th>\n",
       "      <th>Zionism</th>\n",
       "      <th>Zirconium</th>\n",
       "      <th>Zoroaster</th>\n",
       "      <th>Zuid-Gelders</th>\n",
       "      <th>Zulu</th>\n",
       "    </tr>\n",
       "    <tr>\n",
       "      <th>article</th>\n",
       "      <th></th>\n",
       "      <th></th>\n",
       "      <th></th>\n",
       "      <th></th>\n",
       "      <th></th>\n",
       "      <th></th>\n",
       "      <th></th>\n",
       "      <th></th>\n",
       "      <th></th>\n",
       "      <th></th>\n",
       "      <th></th>\n",
       "      <th></th>\n",
       "      <th></th>\n",
       "      <th></th>\n",
       "      <th></th>\n",
       "      <th></th>\n",
       "      <th></th>\n",
       "      <th></th>\n",
       "      <th></th>\n",
       "      <th></th>\n",
       "      <th></th>\n",
       "    </tr>\n",
       "  </thead>\n",
       "  <tbody>\n",
       "    <tr>\n",
       "      <th>Áedán mac Gabráin</th>\n",
       "      <td>0</td>\n",
       "      <td>-1</td>\n",
       "      <td>-1</td>\n",
       "      <td>-1</td>\n",
       "      <td>-1</td>\n",
       "      <td>-1</td>\n",
       "      <td>3</td>\n",
       "      <td>3</td>\n",
       "      <td>3</td>\n",
       "      <td>3</td>\n",
       "      <td>...</td>\n",
       "      <td>4</td>\n",
       "      <td>3</td>\n",
       "      <td>3</td>\n",
       "      <td>4</td>\n",
       "      <td>4</td>\n",
       "      <td>3</td>\n",
       "      <td>4</td>\n",
       "      <td>4</td>\n",
       "      <td>4</td>\n",
       "      <td>2</td>\n",
       "    </tr>\n",
       "    <tr>\n",
       "      <th>Åland</th>\n",
       "      <td>-1</td>\n",
       "      <td>0</td>\n",
       "      <td>-1</td>\n",
       "      <td>-1</td>\n",
       "      <td>-1</td>\n",
       "      <td>-1</td>\n",
       "      <td>2</td>\n",
       "      <td>2</td>\n",
       "      <td>2</td>\n",
       "      <td>2</td>\n",
       "      <td>...</td>\n",
       "      <td>4</td>\n",
       "      <td>2</td>\n",
       "      <td>3</td>\n",
       "      <td>4</td>\n",
       "      <td>4</td>\n",
       "      <td>3</td>\n",
       "      <td>4</td>\n",
       "      <td>3</td>\n",
       "      <td>3</td>\n",
       "      <td>3</td>\n",
       "    </tr>\n",
       "    <tr>\n",
       "      <th>Édouard Manet</th>\n",
       "      <td>-1</td>\n",
       "      <td>-1</td>\n",
       "      <td>0</td>\n",
       "      <td>-1</td>\n",
       "      <td>-1</td>\n",
       "      <td>-1</td>\n",
       "      <td>3</td>\n",
       "      <td>3</td>\n",
       "      <td>2</td>\n",
       "      <td>2</td>\n",
       "      <td>...</td>\n",
       "      <td>4</td>\n",
       "      <td>3</td>\n",
       "      <td>2</td>\n",
       "      <td>3</td>\n",
       "      <td>4</td>\n",
       "      <td>3</td>\n",
       "      <td>4</td>\n",
       "      <td>3</td>\n",
       "      <td>3</td>\n",
       "      <td>3</td>\n",
       "    </tr>\n",
       "    <tr>\n",
       "      <th>Éire</th>\n",
       "      <td>-1</td>\n",
       "      <td>-1</td>\n",
       "      <td>-1</td>\n",
       "      <td>0</td>\n",
       "      <td>-1</td>\n",
       "      <td>-1</td>\n",
       "      <td>3</td>\n",
       "      <td>3</td>\n",
       "      <td>3</td>\n",
       "      <td>3</td>\n",
       "      <td>...</td>\n",
       "      <td>4</td>\n",
       "      <td>2</td>\n",
       "      <td>2</td>\n",
       "      <td>3</td>\n",
       "      <td>4</td>\n",
       "      <td>3</td>\n",
       "      <td>4</td>\n",
       "      <td>4</td>\n",
       "      <td>3</td>\n",
       "      <td>3</td>\n",
       "    </tr>\n",
       "    <tr>\n",
       "      <th>Óengus I of the Picts</th>\n",
       "      <td>-1</td>\n",
       "      <td>-1</td>\n",
       "      <td>-1</td>\n",
       "      <td>-1</td>\n",
       "      <td>0</td>\n",
       "      <td>-1</td>\n",
       "      <td>2</td>\n",
       "      <td>2</td>\n",
       "      <td>3</td>\n",
       "      <td>2</td>\n",
       "      <td>...</td>\n",
       "      <td>4</td>\n",
       "      <td>2</td>\n",
       "      <td>3</td>\n",
       "      <td>4</td>\n",
       "      <td>4</td>\n",
       "      <td>3</td>\n",
       "      <td>4</td>\n",
       "      <td>3</td>\n",
       "      <td>3</td>\n",
       "      <td>3</td>\n",
       "    </tr>\n",
       "    <tr>\n",
       "      <th>...</th>\n",
       "      <td>...</td>\n",
       "      <td>...</td>\n",
       "      <td>...</td>\n",
       "      <td>...</td>\n",
       "      <td>...</td>\n",
       "      <td>...</td>\n",
       "      <td>...</td>\n",
       "      <td>...</td>\n",
       "      <td>...</td>\n",
       "      <td>...</td>\n",
       "      <td>...</td>\n",
       "      <td>...</td>\n",
       "      <td>...</td>\n",
       "      <td>...</td>\n",
       "      <td>...</td>\n",
       "      <td>...</td>\n",
       "      <td>...</td>\n",
       "      <td>...</td>\n",
       "      <td>...</td>\n",
       "      <td>...</td>\n",
       "      <td>...</td>\n",
       "    </tr>\n",
       "    <tr>\n",
       "      <th>Zionism</th>\n",
       "      <td>-1</td>\n",
       "      <td>-1</td>\n",
       "      <td>-1</td>\n",
       "      <td>-1</td>\n",
       "      <td>-1</td>\n",
       "      <td>-1</td>\n",
       "      <td>2</td>\n",
       "      <td>2</td>\n",
       "      <td>2</td>\n",
       "      <td>2</td>\n",
       "      <td>...</td>\n",
       "      <td>3</td>\n",
       "      <td>2</td>\n",
       "      <td>2</td>\n",
       "      <td>3</td>\n",
       "      <td>3</td>\n",
       "      <td>0</td>\n",
       "      <td>3</td>\n",
       "      <td>3</td>\n",
       "      <td>3</td>\n",
       "      <td>2</td>\n",
       "    </tr>\n",
       "    <tr>\n",
       "      <th>Zirconium</th>\n",
       "      <td>-1</td>\n",
       "      <td>-1</td>\n",
       "      <td>-1</td>\n",
       "      <td>-1</td>\n",
       "      <td>-1</td>\n",
       "      <td>-1</td>\n",
       "      <td>3</td>\n",
       "      <td>3</td>\n",
       "      <td>3</td>\n",
       "      <td>3</td>\n",
       "      <td>...</td>\n",
       "      <td>3</td>\n",
       "      <td>3</td>\n",
       "      <td>2</td>\n",
       "      <td>2</td>\n",
       "      <td>3</td>\n",
       "      <td>3</td>\n",
       "      <td>0</td>\n",
       "      <td>3</td>\n",
       "      <td>4</td>\n",
       "      <td>3</td>\n",
       "    </tr>\n",
       "    <tr>\n",
       "      <th>Zoroaster</th>\n",
       "      <td>-1</td>\n",
       "      <td>-1</td>\n",
       "      <td>-1</td>\n",
       "      <td>-1</td>\n",
       "      <td>-1</td>\n",
       "      <td>-1</td>\n",
       "      <td>2</td>\n",
       "      <td>2</td>\n",
       "      <td>2</td>\n",
       "      <td>2</td>\n",
       "      <td>...</td>\n",
       "      <td>3</td>\n",
       "      <td>2</td>\n",
       "      <td>2</td>\n",
       "      <td>3</td>\n",
       "      <td>4</td>\n",
       "      <td>3</td>\n",
       "      <td>3</td>\n",
       "      <td>0</td>\n",
       "      <td>3</td>\n",
       "      <td>3</td>\n",
       "    </tr>\n",
       "    <tr>\n",
       "      <th>Zuid-Gelders</th>\n",
       "      <td>-1</td>\n",
       "      <td>-1</td>\n",
       "      <td>-1</td>\n",
       "      <td>-1</td>\n",
       "      <td>-1</td>\n",
       "      <td>-1</td>\n",
       "      <td>3</td>\n",
       "      <td>3</td>\n",
       "      <td>3</td>\n",
       "      <td>3</td>\n",
       "      <td>...</td>\n",
       "      <td>4</td>\n",
       "      <td>3</td>\n",
       "      <td>3</td>\n",
       "      <td>4</td>\n",
       "      <td>4</td>\n",
       "      <td>3</td>\n",
       "      <td>5</td>\n",
       "      <td>4</td>\n",
       "      <td>0</td>\n",
       "      <td>3</td>\n",
       "    </tr>\n",
       "    <tr>\n",
       "      <th>Zulu</th>\n",
       "      <td>-1</td>\n",
       "      <td>-1</td>\n",
       "      <td>-1</td>\n",
       "      <td>-1</td>\n",
       "      <td>-1</td>\n",
       "      <td>-1</td>\n",
       "      <td>2</td>\n",
       "      <td>2</td>\n",
       "      <td>2</td>\n",
       "      <td>3</td>\n",
       "      <td>...</td>\n",
       "      <td>4</td>\n",
       "      <td>1</td>\n",
       "      <td>3</td>\n",
       "      <td>4</td>\n",
       "      <td>4</td>\n",
       "      <td>3</td>\n",
       "      <td>4</td>\n",
       "      <td>3</td>\n",
       "      <td>3</td>\n",
       "      <td>0</td>\n",
       "    </tr>\n",
       "  </tbody>\n",
       "</table>\n",
       "<p>4597 rows × 4597 columns</p>\n",
       "</div>"
      ],
      "text/plain": [
       "article                Áedán mac Gabráin  Åland  Édouard Manet  Éire  \\\n",
       "article                                                                \n",
       "Áedán mac Gabráin                      0     -1             -1    -1   \n",
       "Åland                                 -1      0             -1    -1   \n",
       "Édouard Manet                         -1     -1              0    -1   \n",
       "Éire                                  -1     -1             -1     0   \n",
       "Óengus I of the Picts                 -1     -1             -1    -1   \n",
       "...                                  ...    ...            ...   ...   \n",
       "Zionism                               -1     -1             -1    -1   \n",
       "Zirconium                             -1     -1             -1    -1   \n",
       "Zoroaster                             -1     -1             -1    -1   \n",
       "Zuid-Gelders                          -1     -1             -1    -1   \n",
       "Zulu                                  -1     -1             -1    -1   \n",
       "\n",
       "article                Óengus I of the Picts  €2 commemorative coins  \\\n",
       "article                                                                \n",
       "Áedán mac Gabráin                         -1                      -1   \n",
       "Åland                                     -1                      -1   \n",
       "Édouard Manet                             -1                      -1   \n",
       "Éire                                      -1                      -1   \n",
       "Óengus I of the Picts                      0                      -1   \n",
       "...                                      ...                     ...   \n",
       "Zionism                                   -1                      -1   \n",
       "Zirconium                                 -1                      -1   \n",
       "Zoroaster                                 -1                      -1   \n",
       "Zuid-Gelders                              -1                      -1   \n",
       "Zulu                                      -1                      -1   \n",
       "\n",
       "article                10th century  11th century  12th century  13th century  \\\n",
       "article                                                                         \n",
       "Áedán mac Gabráin                 3             3             3             3   \n",
       "Åland                             2             2             2             2   \n",
       "Édouard Manet                     3             3             2             2   \n",
       "Éire                              3             3             3             3   \n",
       "Óengus I of the Picts             2             2             3             2   \n",
       "...                             ...           ...           ...           ...   \n",
       "Zionism                           2             2             2             2   \n",
       "Zirconium                         3             3             3             3   \n",
       "Zoroaster                         2             2             2             2   \n",
       "Zuid-Gelders                      3             3             3             3   \n",
       "Zulu                              2             2             2             3   \n",
       "\n",
       "article                ...  Ziad Jarrah  Zimbabwe  Zinc  Zinc chloride  \\\n",
       "article                ...                                               \n",
       "Áedán mac Gabráin      ...            4         3     3              4   \n",
       "Åland                  ...            4         2     3              4   \n",
       "Édouard Manet          ...            4         3     2              3   \n",
       "Éire                   ...            4         2     2              3   \n",
       "Óengus I of the Picts  ...            4         2     3              4   \n",
       "...                    ...          ...       ...   ...            ...   \n",
       "Zionism                ...            3         2     2              3   \n",
       "Zirconium              ...            3         3     2              2   \n",
       "Zoroaster              ...            3         2     2              3   \n",
       "Zuid-Gelders           ...            4         3     3              4   \n",
       "Zulu                   ...            4         1     3              4   \n",
       "\n",
       "article                Zion National Park  Zionism  Zirconium  Zoroaster  \\\n",
       "article                                                                    \n",
       "Áedán mac Gabráin                       4        3          4          4   \n",
       "Åland                                   4        3          4          3   \n",
       "Édouard Manet                           4        3          4          3   \n",
       "Éire                                    4        3          4          4   \n",
       "Óengus I of the Picts                   4        3          4          3   \n",
       "...                                   ...      ...        ...        ...   \n",
       "Zionism                                 3        0          3          3   \n",
       "Zirconium                               3        3          0          3   \n",
       "Zoroaster                               4        3          3          0   \n",
       "Zuid-Gelders                            4        3          5          4   \n",
       "Zulu                                    4        3          4          3   \n",
       "\n",
       "article                Zuid-Gelders  Zulu  \n",
       "article                                    \n",
       "Áedán mac Gabráin                 4     2  \n",
       "Åland                             3     3  \n",
       "Édouard Manet                     3     3  \n",
       "Éire                              3     3  \n",
       "Óengus I of the Picts             3     3  \n",
       "...                             ...   ...  \n",
       "Zionism                           3     2  \n",
       "Zirconium                         4     3  \n",
       "Zoroaster                         3     3  \n",
       "Zuid-Gelders                      0     3  \n",
       "Zulu                              3     0  \n",
       "\n",
       "[4597 rows x 4597 columns]"
      ]
     },
     "execution_count": 6,
     "metadata": {},
     "output_type": "execute_result"
    }
   ],
   "source": [
    "matrix_path_length = read_shortest_path_matrix()\n",
    "matrix_path_length"
   ]
  },
  {
   "cell_type": "code",
   "execution_count": 7,
   "metadata": {},
   "outputs": [
    {
     "name": "stderr",
     "output_type": "stream",
     "text": [
      "/var/folders/qp/pyvldkl53w97p1km8zjl72vr0000gn/T/ipykernel_6065/1386123835.py:12: SettingWithCopyWarning: \n",
      "A value is trying to be set on a copy of a slice from a DataFrame.\n",
      "Try using .loc[row_indexer,col_indexer] = value instead\n",
      "\n",
      "See the caveats in the documentation: https://pandas.pydata.org/pandas-docs/stable/user_guide/indexing.html#returning-a-view-versus-a-copy\n",
      "  tasks_finished[['computed_length', 'matrix_length', 'matches_matrix']] = tasks_finished.apply(compare_with_matrix, axis=1, result_type='expand')\n",
      "/var/folders/qp/pyvldkl53w97p1km8zjl72vr0000gn/T/ipykernel_6065/1386123835.py:12: SettingWithCopyWarning: \n",
      "A value is trying to be set on a copy of a slice from a DataFrame.\n",
      "Try using .loc[row_indexer,col_indexer] = value instead\n",
      "\n",
      "See the caveats in the documentation: https://pandas.pydata.org/pandas-docs/stable/user_guide/indexing.html#returning-a-view-versus-a-copy\n",
      "  tasks_finished[['computed_length', 'matrix_length', 'matches_matrix']] = tasks_finished.apply(compare_with_matrix, axis=1, result_type='expand')\n",
      "/var/folders/qp/pyvldkl53w97p1km8zjl72vr0000gn/T/ipykernel_6065/1386123835.py:12: SettingWithCopyWarning: \n",
      "A value is trying to be set on a copy of a slice from a DataFrame.\n",
      "Try using .loc[row_indexer,col_indexer] = value instead\n",
      "\n",
      "See the caveats in the documentation: https://pandas.pydata.org/pandas-docs/stable/user_guide/indexing.html#returning-a-view-versus-a-copy\n",
      "  tasks_finished[['computed_length', 'matrix_length', 'matches_matrix']] = tasks_finished.apply(compare_with_matrix, axis=1, result_type='expand')\n"
     ]
    }
   ],
   "source": [
    "def compare_with_matrix(row):\n",
    "    source, target = row['source'], row['target']\n",
    "    # Retrieve the corresponding matrix path length for source-target\n",
    "    matrix_length = matrix_path_length.loc[source, target]\n",
    "    \n",
    "    # Compute the path length from shortest_path, if it exists\n",
    "    computed_length = len(row['shortest_path']) -1 if row['shortest_path'] is not None else -1\n",
    "    \n",
    "    matches_matrix = computed_length == matrix_length\n",
    "    return computed_length, matrix_length, matches_matrix\n",
    "\n",
    "tasks_finished[['computed_length', 'matrix_length', 'matches_matrix']] = tasks_finished.apply(compare_with_matrix, axis=1, result_type='expand')\n"
   ]
  },
  {
   "cell_type": "code",
   "execution_count": 8,
   "metadata": {},
   "outputs": [
    {
     "name": "stdout",
     "output_type": "stream",
     "text": [
      "All computed lengths match the matrix lengths.\n"
     ]
    },
    {
     "data": {
      "text/html": [
       "<div>\n",
       "<style scoped>\n",
       "    .dataframe tbody tr th:only-of-type {\n",
       "        vertical-align: middle;\n",
       "    }\n",
       "\n",
       "    .dataframe tbody tr th {\n",
       "        vertical-align: top;\n",
       "    }\n",
       "\n",
       "    .dataframe thead th {\n",
       "        text-align: right;\n",
       "    }\n",
       "</style>\n",
       "<table border=\"1\" class=\"dataframe\">\n",
       "  <thead>\n",
       "    <tr style=\"text-align: right;\">\n",
       "      <th></th>\n",
       "      <th>source</th>\n",
       "      <th>target</th>\n",
       "      <th>shortest_path</th>\n",
       "      <th>computed_length</th>\n",
       "      <th>matrix_length</th>\n",
       "      <th>matches_matrix</th>\n",
       "    </tr>\n",
       "  </thead>\n",
       "  <tbody>\n",
       "    <tr>\n",
       "      <th>0</th>\n",
       "      <td>14th century</td>\n",
       "      <td>African slave trade</td>\n",
       "      <td>[14th century, Lithuania, Pope John Paul II, A...</td>\n",
       "      <td>3</td>\n",
       "      <td>3</td>\n",
       "      <td>True</td>\n",
       "    </tr>\n",
       "    <tr>\n",
       "      <th>3</th>\n",
       "      <td>14th century</td>\n",
       "      <td>Greece</td>\n",
       "      <td>[14th century, England, Greece]</td>\n",
       "      <td>2</td>\n",
       "      <td>2</td>\n",
       "      <td>True</td>\n",
       "    </tr>\n",
       "    <tr>\n",
       "      <th>4</th>\n",
       "      <td>14th century</td>\n",
       "      <td>John F. Kennedy</td>\n",
       "      <td>[14th century, China, United States, John F. K...</td>\n",
       "      <td>3</td>\n",
       "      <td>3</td>\n",
       "      <td>True</td>\n",
       "    </tr>\n",
       "    <tr>\n",
       "      <th>6</th>\n",
       "      <td>14th century</td>\n",
       "      <td>Fire</td>\n",
       "      <td>[14th century, China, Gunpowder, Fire]</td>\n",
       "      <td>3</td>\n",
       "      <td>3</td>\n",
       "      <td>True</td>\n",
       "    </tr>\n",
       "    <tr>\n",
       "      <th>7</th>\n",
       "      <td>14th century</td>\n",
       "      <td>Rainbow</td>\n",
       "      <td>[14th century, Time, Isaac Newton, Rainbow]</td>\n",
       "      <td>3</td>\n",
       "      <td>3</td>\n",
       "      <td>True</td>\n",
       "    </tr>\n",
       "    <tr>\n",
       "      <th>...</th>\n",
       "      <td>...</td>\n",
       "      <td>...</td>\n",
       "      <td>...</td>\n",
       "      <td>...</td>\n",
       "      <td>...</td>\n",
       "      <td>...</td>\n",
       "    </tr>\n",
       "    <tr>\n",
       "      <th>75924</th>\n",
       "      <td>Wine</td>\n",
       "      <td>History of post-Soviet Russia</td>\n",
       "      <td>[Wine, Judaism, Khazars, History of post-Sovie...</td>\n",
       "      <td>3</td>\n",
       "      <td>3</td>\n",
       "      <td>True</td>\n",
       "    </tr>\n",
       "    <tr>\n",
       "      <th>75925</th>\n",
       "      <td>Turks and Caicos Islands</td>\n",
       "      <td>Iraq War</td>\n",
       "      <td>[Turks and Caicos Islands, Canada, NATO, Iraq ...</td>\n",
       "      <td>3</td>\n",
       "      <td>3</td>\n",
       "      <td>True</td>\n",
       "    </tr>\n",
       "    <tr>\n",
       "      <th>75926</th>\n",
       "      <td>Franz Kafka</td>\n",
       "      <td>Cholera</td>\n",
       "      <td>[Franz Kafka, 20th century, Paris, Cholera]</td>\n",
       "      <td>3</td>\n",
       "      <td>3</td>\n",
       "      <td>True</td>\n",
       "    </tr>\n",
       "    <tr>\n",
       "      <th>75927</th>\n",
       "      <td>Modern history</td>\n",
       "      <td>Hollandic</td>\n",
       "      <td>[Modern history, Earth, Afrikaans, Hollandic]</td>\n",
       "      <td>3</td>\n",
       "      <td>3</td>\n",
       "      <td>True</td>\n",
       "    </tr>\n",
       "    <tr>\n",
       "      <th>75929</th>\n",
       "      <td>Jamaica</td>\n",
       "      <td>Alan Turing</td>\n",
       "      <td>[Jamaica, Islam, Algorithm, Alan Turing]</td>\n",
       "      <td>3</td>\n",
       "      <td>3</td>\n",
       "      <td>True</td>\n",
       "    </tr>\n",
       "  </tbody>\n",
       "</table>\n",
       "<p>42519 rows × 6 columns</p>\n",
       "</div>"
      ],
      "text/plain": [
       "                         source                         target  \\\n",
       "0                  14th century            African slave trade   \n",
       "3                  14th century                         Greece   \n",
       "4                  14th century                John F. Kennedy   \n",
       "6                  14th century                           Fire   \n",
       "7                  14th century                        Rainbow   \n",
       "...                         ...                            ...   \n",
       "75924                      Wine  History of post-Soviet Russia   \n",
       "75925  Turks and Caicos Islands                       Iraq War   \n",
       "75926               Franz Kafka                        Cholera   \n",
       "75927            Modern history                      Hollandic   \n",
       "75929                   Jamaica                    Alan Turing   \n",
       "\n",
       "                                           shortest_path  computed_length  \\\n",
       "0      [14th century, Lithuania, Pope John Paul II, A...                3   \n",
       "3                        [14th century, England, Greece]                2   \n",
       "4      [14th century, China, United States, John F. K...                3   \n",
       "6                 [14th century, China, Gunpowder, Fire]                3   \n",
       "7            [14th century, Time, Isaac Newton, Rainbow]                3   \n",
       "...                                                  ...              ...   \n",
       "75924  [Wine, Judaism, Khazars, History of post-Sovie...                3   \n",
       "75925  [Turks and Caicos Islands, Canada, NATO, Iraq ...                3   \n",
       "75926        [Franz Kafka, 20th century, Paris, Cholera]                3   \n",
       "75927      [Modern history, Earth, Afrikaans, Hollandic]                3   \n",
       "75929           [Jamaica, Islam, Algorithm, Alan Turing]                3   \n",
       "\n",
       "       matrix_length  matches_matrix  \n",
       "0                  3            True  \n",
       "3                  2            True  \n",
       "4                  3            True  \n",
       "6                  3            True  \n",
       "7                  3            True  \n",
       "...              ...             ...  \n",
       "75924              3            True  \n",
       "75925              3            True  \n",
       "75926              3            True  \n",
       "75927              3            True  \n",
       "75929              3            True  \n",
       "\n",
       "[42519 rows x 6 columns]"
      ]
     },
     "execution_count": 8,
     "metadata": {},
     "output_type": "execute_result"
    }
   ],
   "source": [
    "# Check if any values in the matches_matrix column are False\n",
    "any_false = not tasks_finished['matches_matrix'].all()\n",
    "\n",
    "if any_false:\n",
    "    print(\"There are rows where computed length does not match the matrix length.\")\n",
    "else:\n",
    "    print(\"All computed lengths match the matrix lengths.\")\n",
    "\n",
    "tasks_finished=tasks_finished.dropna()\n",
    "tasks_finished\n"
   ]
  },
  {
   "cell_type": "code",
   "execution_count": 9,
   "metadata": {},
   "outputs": [],
   "source": [
    "def analyze_categories_paths(df_paths, df_categories, omit_loops=False):\n",
    "    \"\"\"\n",
    "    Analyze the paths to find common paths.\n",
    "    Optionally omit consecutive repetitions of the same category in paths.\n",
    "    \"\"\"\n",
    "    # Map articles to main categories\n",
    "    article_to_category = dict(zip(df_categories['article'], df_categories['level_1']))\n",
    "    \n",
    "    category_paths = []\n",
    "    path_counts = {}\n",
    "    \n",
    "    for path in df_paths['shortest_path']:\n",
    "        articles = path\n",
    "        categories = [article_to_category.get(article, article) for article in articles]\n",
    "\n",
    "        # Remove consecutive duplicate categories if omit_loops is True\n",
    "        if omit_loops:\n",
    "            categories = [category for i, category in enumerate(categories) \n",
    "                          if i == 0 or category != categories[i - 1]]\n",
    "\n",
    "        # Create a string representation of the category path\n",
    "        category_path = ' -> '.join(categories)\n",
    "        category_paths.append(category_path)\n",
    "        \n",
    "        # Count path occurrences\n",
    "        if category_path in path_counts:\n",
    "            path_counts[category_path] += 1\n",
    "        else:\n",
    "            path_counts[category_path] = 1\n",
    "    \n",
    "    # Most common paths\n",
    "    sorted_paths = sorted(path_counts.items(), key=lambda x: x[1], reverse=True)\n",
    "    df_common_paths = pd.DataFrame(sorted_paths, columns=['Category Path', 'Count'])\n",
    "    \n",
    "    return df_common_paths"
   ]
  },
  {
   "cell_type": "code",
   "execution_count": 10,
   "metadata": {},
   "outputs": [],
   "source": [
    "optimal_paths = analyze_categories_paths(tasks_finished, df_categories_filtered, omit_loops=False)\n",
    "optimal_paths.to_csv(\"optimal_paths.csv\", index=False)"
   ]
  },
  {
   "cell_type": "code",
   "execution_count": 11,
   "metadata": {},
   "outputs": [
    {
     "data": {
      "application/vnd.plotly.v1+json": {
       "config": {
        "plotlyServerURL": "https://plot.ly"
       },
       "data": [
        {
         "hovertemplate": "Category=Art<br>Position in Path=%{x}<br>Percentage (%)=%{y}<extra></extra>",
         "legendgroup": "Art",
         "line": {
          "color": "#636efa",
          "dash": "solid"
         },
         "marker": {
          "symbol": "circle"
         },
         "mode": "lines+markers",
         "name": "Art",
         "orientation": "v",
         "showlegend": true,
         "type": "scatter",
         "x": [
          1,
          2,
          3,
          4,
          5
         ],
         "xaxis": "x",
         "y": [
          0.8161057409628636,
          0.6328220570245601,
          0.6725595695618755,
          0.8919847448545404,
          0.6191636215996752
         ],
         "yaxis": "y"
        },
        {
         "hovertemplate": "Category=Business Studies<br>Position in Path=%{x}<br>Percentage (%)=%{y}<extra></extra>",
         "legendgroup": "Business Studies",
         "line": {
          "color": "#EF553B",
          "dash": "solid"
         },
         "marker": {
          "symbol": "circle"
         },
         "mode": "lines+markers",
         "name": "Business Studies",
         "orientation": "v",
         "showlegend": true,
         "type": "scatter",
         "x": [
          1,
          2,
          3,
          4,
          5,
          6,
          8
         ],
         "xaxis": "x",
         "y": [
          1.8462334485759309,
          1.4114990119506916,
          1.5685049961568027,
          1.7429949254578119,
          1.2992285830288266,
          0.3796507213363705,
          8.333333333333332
         ],
         "yaxis": "y"
        },
        {
         "hovertemplate": "Category=Citizenship<br>Position in Path=%{x}<br>Percentage (%)=%{y}<extra></extra>",
         "legendgroup": "Citizenship",
         "line": {
          "color": "#00cc96",
          "dash": "solid"
         },
         "marker": {
          "symbol": "circle"
         },
         "mode": "lines+markers",
         "name": "Citizenship",
         "orientation": "v",
         "showlegend": true,
         "type": "scatter",
         "x": [
          1,
          2,
          3,
          4,
          5,
          6
         ],
         "xaxis": "x",
         "y": [
          4.788447517580376,
          4.133339606662275,
          5.296406610299769,
          5.197465880795537,
          3.1059683313032886,
          2.3538344722854974
         ],
         "yaxis": "y"
        },
        {
         "hovertemplate": "Category=Countries<br>Position in Path=%{x}<br>Percentage (%)=%{y}<extra></extra>",
         "legendgroup": "Countries",
         "line": {
          "color": "#ab63fa",
          "dash": "solid"
         },
         "marker": {
          "symbol": "circle"
         },
         "mode": "lines+markers",
         "name": "Countries",
         "orientation": "v",
         "showlegend": true,
         "type": "scatter",
         "x": [
          1,
          2,
          3,
          4,
          5
         ],
         "xaxis": "x",
         "y": [
          6.223100261059762,
          22.97685141620401,
          18.099058416602613,
          4.81293535474517,
          0.3857084855866829
         ],
         "yaxis": "y"
        },
        {
         "hovertemplate": "Category=Design and Technology<br>Position in Path=%{x}<br>Percentage (%)=%{y}<extra></extra>",
         "legendgroup": "Design and Technology",
         "line": {
          "color": "#FFA15A",
          "dash": "solid"
         },
         "marker": {
          "symbol": "circle"
         },
         "mode": "lines+markers",
         "name": "Design and Technology",
         "orientation": "v",
         "showlegend": true,
         "type": "scatter",
         "x": [
          1,
          2,
          3,
          4,
          5,
          6,
          7,
          8
         ],
         "xaxis": "x",
         "y": [
          4.494461299654272,
          1.6561588406888115,
          2.0056687163720213,
          3.794875027579034,
          4.841656516443361,
          5.54290053151101,
          9.58904109589041,
          8.333333333333332
         ],
         "yaxis": "y"
        },
        {
         "hovertemplate": "Category=Everyday life<br>Position in Path=%{x}<br>Percentage (%)=%{y}<extra></extra>",
         "legendgroup": "Everyday life",
         "line": {
          "color": "#19d3f3",
          "dash": "solid"
         },
         "marker": {
          "symbol": "circle"
         },
         "mode": "lines+markers",
         "name": "Everyday life",
         "orientation": "v",
         "showlegend": true,
         "type": "scatter",
         "x": [
          1,
          2,
          3,
          4,
          5,
          6,
          7
         ],
         "xaxis": "x",
         "y": [
          9.837954796679131,
          4.846146607697375,
          6.2067640276710225,
          9.963122892173857,
          12.758830694275275,
          11.389521640091116,
          4.794520547945205
         ],
         "yaxis": "y"
        },
        {
         "hovertemplate": "Category=Geography<br>Position in Path=%{x}<br>Percentage (%)=%{y}<extra></extra>",
         "legendgroup": "Geography",
         "line": {
          "color": "#FF6692",
          "dash": "solid"
         },
         "marker": {
          "symbol": "circle"
         },
         "mode": "lines+markers",
         "name": "Geography",
         "orientation": "v",
         "showlegend": true,
         "type": "scatter",
         "x": [
          1,
          2,
          3,
          4,
          5,
          6,
          7,
          8
         ],
         "xaxis": "x",
         "y": [
          16.75251064230109,
          22.471064270255013,
          21.497886241352806,
          18.35345289501056,
          11.662606577344702,
          10.022779043280181,
          16.43835616438356,
          8.333333333333332
         ],
         "yaxis": "y"
        },
        {
         "hovertemplate": "Category=History<br>Position in Path=%{x}<br>Percentage (%)=%{y}<extra></extra>",
         "legendgroup": "History",
         "line": {
          "color": "#B6E880",
          "dash": "solid"
         },
         "marker": {
          "symbol": "circle"
         },
         "mode": "lines+markers",
         "name": "History",
         "orientation": "v",
         "showlegend": true,
         "type": "scatter",
         "x": [
          1,
          2,
          3,
          4,
          5,
          6,
          7
         ],
         "xaxis": "x",
         "y": [
          9.073590630071262,
          12.668203632257457,
          13.01402767102229,
          9.332744980615878,
          7.592367032074705,
          6.378132118451026,
          5.47945205479452
         ],
         "yaxis": "y"
        },
        {
         "hovertemplate": "Category=IT<br>Position in Path=%{x}<br>Percentage (%)=%{y}<extra></extra>",
         "legendgroup": "IT",
         "line": {
          "color": "#FF97FF",
          "dash": "solid"
         },
         "marker": {
          "symbol": "circle"
         },
         "mode": "lines+markers",
         "name": "IT",
         "orientation": "v",
         "showlegend": true,
         "type": "scatter",
         "x": [
          1,
          2,
          3,
          4,
          5,
          6,
          7
         ],
         "xaxis": "x",
         "y": [
          1.9732354947200075,
          0.7669144631598758,
          1.2009992313604918,
          1.9289564093674156,
          3.380024360535932,
          2.885345482156416,
          3.4246575342465753
         ],
         "yaxis": "y"
        },
        {
         "hovertemplate": "Category=Language and literature<br>Position in Path=%{x}<br>Percentage (%)=%{y}<extra></extra>",
         "legendgroup": "Language and literature",
         "line": {
          "color": "#FECB52",
          "dash": "solid"
         },
         "marker": {
          "symbol": "circle"
         },
         "mode": "lines+markers",
         "name": "Language and literature",
         "orientation": "v",
         "showlegend": true,
         "type": "scatter",
         "x": [
          1,
          2,
          3,
          4,
          5,
          6,
          7
         ],
         "xaxis": "x",
         "y": [
          3.6524847715139113,
          3.451115084219441,
          3.0193120676402767,
          2.921801620071233,
          4.374746244417378,
          11.617312072892938,
          16.43835616438356
         ],
         "yaxis": "y"
        },
        {
         "hovertemplate": "Category=Mathematics<br>Position in Path=%{x}<br>Percentage (%)=%{y}<extra></extra>",
         "legendgroup": "Mathematics",
         "line": {
          "color": "#636efa",
          "dash": "solid"
         },
         "marker": {
          "symbol": "circle"
         },
         "mode": "lines+markers",
         "name": "Mathematics",
         "orientation": "v",
         "showlegend": true,
         "type": "scatter",
         "x": [
          1,
          2,
          3,
          4,
          5,
          6
         ],
         "xaxis": "x",
         "y": [
          1.1806486511912322,
          0.4799096640632352,
          0.5308416602613374,
          1.166199136382261,
          1.1977263499796995,
          0.759301442672741
         ],
         "yaxis": "y"
        },
        {
         "hovertemplate": "Category=Music<br>Position in Path=%{x}<br>Percentage (%)=%{y}<extra></extra>",
         "legendgroup": "Music",
         "line": {
          "color": "#EF553B",
          "dash": "solid"
         },
         "marker": {
          "symbol": "circle"
         },
         "mode": "lines+markers",
         "name": "Music",
         "orientation": "v",
         "showlegend": true,
         "type": "scatter",
         "x": [
          1,
          2,
          3,
          4,
          5,
          6,
          7
         ],
         "xaxis": "x",
         "y": [
          2.0790705331734047,
          0.4987296508892443,
          1.1145272867025366,
          2.5624862104831845,
          3.0450669914738127,
          3.037205770690964,
          3.4246575342465753
         ],
         "yaxis": "y"
        },
        {
         "hovertemplate": "Category=People<br>Position in Path=%{x}<br>Percentage (%)=%{y}<extra></extra>",
         "legendgroup": "People",
         "line": {
          "color": "#00cc96",
          "dash": "solid"
         },
         "marker": {
          "symbol": "circle"
         },
         "mode": "lines+markers",
         "name": "People",
         "orientation": "v",
         "showlegend": true,
         "type": "scatter",
         "x": [
          1,
          2,
          3,
          4,
          5,
          6,
          7
         ],
         "xaxis": "x",
         "y": [
          11.133846045297396,
          5.257833819516327,
          6.538239815526518,
          11.529612002395435,
          12.09906617945595,
          5.618830675778284,
          0.684931506849315
         ],
         "yaxis": "y"
        },
        {
         "hovertemplate": "Category=Religion<br>Position in Path=%{x}<br>Percentage (%)=%{y}<extra></extra>",
         "legendgroup": "Religion",
         "line": {
          "color": "#ab63fa",
          "dash": "solid"
         },
         "marker": {
          "symbol": "circle"
         },
         "mode": "lines+markers",
         "name": "Religion",
         "orientation": "v",
         "showlegend": true,
         "type": "scatter",
         "x": [
          1,
          2,
          3,
          4,
          5,
          6
         ],
         "xaxis": "x",
         "y": [
          3.0245302100237543,
          2.5007057495059755,
          3.266717909300538,
          2.921801620071233,
          1.7661388550548112,
          0.15186028853454822
         ],
         "yaxis": "y"
        },
        {
         "hovertemplate": "Category=Science<br>Position in Path=%{x}<br>Percentage (%)=%{y}<extra></extra>",
         "legendgroup": "Science",
         "line": {
          "color": "#FFA15A",
          "dash": "solid"
         },
         "marker": {
          "symbol": "circle"
         },
         "mode": "lines+markers",
         "name": "Science",
         "orientation": "v",
         "showlegend": true,
         "type": "scatter",
         "x": [
          1,
          2,
          3,
          4,
          5,
          6,
          7,
          8
         ],
         "xaxis": "x",
         "y": [
          23.123779957195605,
          16.248706125905713,
          15.9684857801691,
          22.87956629999685,
          31.871701177425905,
          39.863325740318906,
          39.726027397260275,
          75
         ],
         "yaxis": "y"
        }
       ],
       "layout": {
        "height": 600,
        "legend": {
         "title": {
          "text": "Category"
         },
         "tracegroupgap": 0
        },
        "template": {
         "data": {
          "bar": [
           {
            "error_x": {
             "color": "#2a3f5f"
            },
            "error_y": {
             "color": "#2a3f5f"
            },
            "marker": {
             "line": {
              "color": "white",
              "width": 0.5
             },
             "pattern": {
              "fillmode": "overlay",
              "size": 10,
              "solidity": 0.2
             }
            },
            "type": "bar"
           }
          ],
          "barpolar": [
           {
            "marker": {
             "line": {
              "color": "white",
              "width": 0.5
             },
             "pattern": {
              "fillmode": "overlay",
              "size": 10,
              "solidity": 0.2
             }
            },
            "type": "barpolar"
           }
          ],
          "carpet": [
           {
            "aaxis": {
             "endlinecolor": "#2a3f5f",
             "gridcolor": "#C8D4E3",
             "linecolor": "#C8D4E3",
             "minorgridcolor": "#C8D4E3",
             "startlinecolor": "#2a3f5f"
            },
            "baxis": {
             "endlinecolor": "#2a3f5f",
             "gridcolor": "#C8D4E3",
             "linecolor": "#C8D4E3",
             "minorgridcolor": "#C8D4E3",
             "startlinecolor": "#2a3f5f"
            },
            "type": "carpet"
           }
          ],
          "choropleth": [
           {
            "colorbar": {
             "outlinewidth": 0,
             "ticks": ""
            },
            "type": "choropleth"
           }
          ],
          "contour": [
           {
            "colorbar": {
             "outlinewidth": 0,
             "ticks": ""
            },
            "colorscale": [
             [
              0,
              "#0d0887"
             ],
             [
              0.1111111111111111,
              "#46039f"
             ],
             [
              0.2222222222222222,
              "#7201a8"
             ],
             [
              0.3333333333333333,
              "#9c179e"
             ],
             [
              0.4444444444444444,
              "#bd3786"
             ],
             [
              0.5555555555555556,
              "#d8576b"
             ],
             [
              0.6666666666666666,
              "#ed7953"
             ],
             [
              0.7777777777777778,
              "#fb9f3a"
             ],
             [
              0.8888888888888888,
              "#fdca26"
             ],
             [
              1,
              "#f0f921"
             ]
            ],
            "type": "contour"
           }
          ],
          "contourcarpet": [
           {
            "colorbar": {
             "outlinewidth": 0,
             "ticks": ""
            },
            "type": "contourcarpet"
           }
          ],
          "heatmap": [
           {
            "colorbar": {
             "outlinewidth": 0,
             "ticks": ""
            },
            "colorscale": [
             [
              0,
              "#0d0887"
             ],
             [
              0.1111111111111111,
              "#46039f"
             ],
             [
              0.2222222222222222,
              "#7201a8"
             ],
             [
              0.3333333333333333,
              "#9c179e"
             ],
             [
              0.4444444444444444,
              "#bd3786"
             ],
             [
              0.5555555555555556,
              "#d8576b"
             ],
             [
              0.6666666666666666,
              "#ed7953"
             ],
             [
              0.7777777777777778,
              "#fb9f3a"
             ],
             [
              0.8888888888888888,
              "#fdca26"
             ],
             [
              1,
              "#f0f921"
             ]
            ],
            "type": "heatmap"
           }
          ],
          "heatmapgl": [
           {
            "colorbar": {
             "outlinewidth": 0,
             "ticks": ""
            },
            "colorscale": [
             [
              0,
              "#0d0887"
             ],
             [
              0.1111111111111111,
              "#46039f"
             ],
             [
              0.2222222222222222,
              "#7201a8"
             ],
             [
              0.3333333333333333,
              "#9c179e"
             ],
             [
              0.4444444444444444,
              "#bd3786"
             ],
             [
              0.5555555555555556,
              "#d8576b"
             ],
             [
              0.6666666666666666,
              "#ed7953"
             ],
             [
              0.7777777777777778,
              "#fb9f3a"
             ],
             [
              0.8888888888888888,
              "#fdca26"
             ],
             [
              1,
              "#f0f921"
             ]
            ],
            "type": "heatmapgl"
           }
          ],
          "histogram": [
           {
            "marker": {
             "pattern": {
              "fillmode": "overlay",
              "size": 10,
              "solidity": 0.2
             }
            },
            "type": "histogram"
           }
          ],
          "histogram2d": [
           {
            "colorbar": {
             "outlinewidth": 0,
             "ticks": ""
            },
            "colorscale": [
             [
              0,
              "#0d0887"
             ],
             [
              0.1111111111111111,
              "#46039f"
             ],
             [
              0.2222222222222222,
              "#7201a8"
             ],
             [
              0.3333333333333333,
              "#9c179e"
             ],
             [
              0.4444444444444444,
              "#bd3786"
             ],
             [
              0.5555555555555556,
              "#d8576b"
             ],
             [
              0.6666666666666666,
              "#ed7953"
             ],
             [
              0.7777777777777778,
              "#fb9f3a"
             ],
             [
              0.8888888888888888,
              "#fdca26"
             ],
             [
              1,
              "#f0f921"
             ]
            ],
            "type": "histogram2d"
           }
          ],
          "histogram2dcontour": [
           {
            "colorbar": {
             "outlinewidth": 0,
             "ticks": ""
            },
            "colorscale": [
             [
              0,
              "#0d0887"
             ],
             [
              0.1111111111111111,
              "#46039f"
             ],
             [
              0.2222222222222222,
              "#7201a8"
             ],
             [
              0.3333333333333333,
              "#9c179e"
             ],
             [
              0.4444444444444444,
              "#bd3786"
             ],
             [
              0.5555555555555556,
              "#d8576b"
             ],
             [
              0.6666666666666666,
              "#ed7953"
             ],
             [
              0.7777777777777778,
              "#fb9f3a"
             ],
             [
              0.8888888888888888,
              "#fdca26"
             ],
             [
              1,
              "#f0f921"
             ]
            ],
            "type": "histogram2dcontour"
           }
          ],
          "mesh3d": [
           {
            "colorbar": {
             "outlinewidth": 0,
             "ticks": ""
            },
            "type": "mesh3d"
           }
          ],
          "parcoords": [
           {
            "line": {
             "colorbar": {
              "outlinewidth": 0,
              "ticks": ""
             }
            },
            "type": "parcoords"
           }
          ],
          "pie": [
           {
            "automargin": true,
            "type": "pie"
           }
          ],
          "scatter": [
           {
            "fillpattern": {
             "fillmode": "overlay",
             "size": 10,
             "solidity": 0.2
            },
            "type": "scatter"
           }
          ],
          "scatter3d": [
           {
            "line": {
             "colorbar": {
              "outlinewidth": 0,
              "ticks": ""
             }
            },
            "marker": {
             "colorbar": {
              "outlinewidth": 0,
              "ticks": ""
             }
            },
            "type": "scatter3d"
           }
          ],
          "scattercarpet": [
           {
            "marker": {
             "colorbar": {
              "outlinewidth": 0,
              "ticks": ""
             }
            },
            "type": "scattercarpet"
           }
          ],
          "scattergeo": [
           {
            "marker": {
             "colorbar": {
              "outlinewidth": 0,
              "ticks": ""
             }
            },
            "type": "scattergeo"
           }
          ],
          "scattergl": [
           {
            "marker": {
             "colorbar": {
              "outlinewidth": 0,
              "ticks": ""
             }
            },
            "type": "scattergl"
           }
          ],
          "scattermapbox": [
           {
            "marker": {
             "colorbar": {
              "outlinewidth": 0,
              "ticks": ""
             }
            },
            "type": "scattermapbox"
           }
          ],
          "scatterpolar": [
           {
            "marker": {
             "colorbar": {
              "outlinewidth": 0,
              "ticks": ""
             }
            },
            "type": "scatterpolar"
           }
          ],
          "scatterpolargl": [
           {
            "marker": {
             "colorbar": {
              "outlinewidth": 0,
              "ticks": ""
             }
            },
            "type": "scatterpolargl"
           }
          ],
          "scatterternary": [
           {
            "marker": {
             "colorbar": {
              "outlinewidth": 0,
              "ticks": ""
             }
            },
            "type": "scatterternary"
           }
          ],
          "surface": [
           {
            "colorbar": {
             "outlinewidth": 0,
             "ticks": ""
            },
            "colorscale": [
             [
              0,
              "#0d0887"
             ],
             [
              0.1111111111111111,
              "#46039f"
             ],
             [
              0.2222222222222222,
              "#7201a8"
             ],
             [
              0.3333333333333333,
              "#9c179e"
             ],
             [
              0.4444444444444444,
              "#bd3786"
             ],
             [
              0.5555555555555556,
              "#d8576b"
             ],
             [
              0.6666666666666666,
              "#ed7953"
             ],
             [
              0.7777777777777778,
              "#fb9f3a"
             ],
             [
              0.8888888888888888,
              "#fdca26"
             ],
             [
              1,
              "#f0f921"
             ]
            ],
            "type": "surface"
           }
          ],
          "table": [
           {
            "cells": {
             "fill": {
              "color": "#EBF0F8"
             },
             "line": {
              "color": "white"
             }
            },
            "header": {
             "fill": {
              "color": "#C8D4E3"
             },
             "line": {
              "color": "white"
             }
            },
            "type": "table"
           }
          ]
         },
         "layout": {
          "annotationdefaults": {
           "arrowcolor": "#2a3f5f",
           "arrowhead": 0,
           "arrowwidth": 1
          },
          "autotypenumbers": "strict",
          "coloraxis": {
           "colorbar": {
            "outlinewidth": 0,
            "ticks": ""
           }
          },
          "colorscale": {
           "diverging": [
            [
             0,
             "#8e0152"
            ],
            [
             0.1,
             "#c51b7d"
            ],
            [
             0.2,
             "#de77ae"
            ],
            [
             0.3,
             "#f1b6da"
            ],
            [
             0.4,
             "#fde0ef"
            ],
            [
             0.5,
             "#f7f7f7"
            ],
            [
             0.6,
             "#e6f5d0"
            ],
            [
             0.7,
             "#b8e186"
            ],
            [
             0.8,
             "#7fbc41"
            ],
            [
             0.9,
             "#4d9221"
            ],
            [
             1,
             "#276419"
            ]
           ],
           "sequential": [
            [
             0,
             "#0d0887"
            ],
            [
             0.1111111111111111,
             "#46039f"
            ],
            [
             0.2222222222222222,
             "#7201a8"
            ],
            [
             0.3333333333333333,
             "#9c179e"
            ],
            [
             0.4444444444444444,
             "#bd3786"
            ],
            [
             0.5555555555555556,
             "#d8576b"
            ],
            [
             0.6666666666666666,
             "#ed7953"
            ],
            [
             0.7777777777777778,
             "#fb9f3a"
            ],
            [
             0.8888888888888888,
             "#fdca26"
            ],
            [
             1,
             "#f0f921"
            ]
           ],
           "sequentialminus": [
            [
             0,
             "#0d0887"
            ],
            [
             0.1111111111111111,
             "#46039f"
            ],
            [
             0.2222222222222222,
             "#7201a8"
            ],
            [
             0.3333333333333333,
             "#9c179e"
            ],
            [
             0.4444444444444444,
             "#bd3786"
            ],
            [
             0.5555555555555556,
             "#d8576b"
            ],
            [
             0.6666666666666666,
             "#ed7953"
            ],
            [
             0.7777777777777778,
             "#fb9f3a"
            ],
            [
             0.8888888888888888,
             "#fdca26"
            ],
            [
             1,
             "#f0f921"
            ]
           ]
          },
          "colorway": [
           "#636efa",
           "#EF553B",
           "#00cc96",
           "#ab63fa",
           "#FFA15A",
           "#19d3f3",
           "#FF6692",
           "#B6E880",
           "#FF97FF",
           "#FECB52"
          ],
          "font": {
           "color": "#2a3f5f"
          },
          "geo": {
           "bgcolor": "white",
           "lakecolor": "white",
           "landcolor": "white",
           "showlakes": true,
           "showland": true,
           "subunitcolor": "#C8D4E3"
          },
          "hoverlabel": {
           "align": "left"
          },
          "hovermode": "closest",
          "mapbox": {
           "style": "light"
          },
          "paper_bgcolor": "white",
          "plot_bgcolor": "white",
          "polar": {
           "angularaxis": {
            "gridcolor": "#EBF0F8",
            "linecolor": "#EBF0F8",
            "ticks": ""
           },
           "bgcolor": "white",
           "radialaxis": {
            "gridcolor": "#EBF0F8",
            "linecolor": "#EBF0F8",
            "ticks": ""
           }
          },
          "scene": {
           "xaxis": {
            "backgroundcolor": "white",
            "gridcolor": "#DFE8F3",
            "gridwidth": 2,
            "linecolor": "#EBF0F8",
            "showbackground": true,
            "ticks": "",
            "zerolinecolor": "#EBF0F8"
           },
           "yaxis": {
            "backgroundcolor": "white",
            "gridcolor": "#DFE8F3",
            "gridwidth": 2,
            "linecolor": "#EBF0F8",
            "showbackground": true,
            "ticks": "",
            "zerolinecolor": "#EBF0F8"
           },
           "zaxis": {
            "backgroundcolor": "white",
            "gridcolor": "#DFE8F3",
            "gridwidth": 2,
            "linecolor": "#EBF0F8",
            "showbackground": true,
            "ticks": "",
            "zerolinecolor": "#EBF0F8"
           }
          },
          "shapedefaults": {
           "line": {
            "color": "#2a3f5f"
           }
          },
          "ternary": {
           "aaxis": {
            "gridcolor": "#DFE8F3",
            "linecolor": "#A2B1C6",
            "ticks": ""
           },
           "baxis": {
            "gridcolor": "#DFE8F3",
            "linecolor": "#A2B1C6",
            "ticks": ""
           },
           "bgcolor": "white",
           "caxis": {
            "gridcolor": "#DFE8F3",
            "linecolor": "#A2B1C6",
            "ticks": ""
           }
          },
          "title": {
           "x": 0.05
          },
          "xaxis": {
           "automargin": true,
           "gridcolor": "#EBF0F8",
           "linecolor": "#EBF0F8",
           "ticks": "",
           "title": {
            "standoff": 15
           },
           "zerolinecolor": "#EBF0F8",
           "zerolinewidth": 2
          },
          "yaxis": {
           "automargin": true,
           "gridcolor": "#EBF0F8",
           "linecolor": "#EBF0F8",
           "ticks": "",
           "title": {
            "standoff": 15
           },
           "zerolinecolor": "#EBF0F8",
           "zerolinewidth": 2
          }
         }
        },
        "title": {
         "text": "Normalized Category Frequencies Across Path Positions"
        },
        "width": 900,
        "xaxis": {
         "anchor": "y",
         "domain": [
          0,
          1
         ],
         "dtick": 1,
         "tick0": 1,
         "tickmode": "linear",
         "title": {
          "text": "Position in Path"
         }
        },
        "yaxis": {
         "anchor": "x",
         "domain": [
          0,
          1
         ],
         "title": {
          "text": "Percentage (%)"
         }
        }
       }
      }
     },
     "metadata": {},
     "output_type": "display_data"
    }
   ],
   "source": [
    "# Calculate position frequencies (normalized or not)\n",
    "df_position_data = get_position_frequencies(optimal_paths, max_position=15, normalize=True)\n",
    "\n",
    "# Plot interactive histogram (line or bar plot, with options for normalization and stacking)\n",
    "plot_position_interactive(df_position_data, plot_type=\"line\", normalized=True)"
   ]
  },
  {
   "cell_type": "code",
   "execution_count": 12,
   "metadata": {},
   "outputs": [
    {
     "data": {
      "application/vnd.plotly.v1+json": {
       "config": {
        "plotlyServerURL": "https://plot.ly"
       },
       "data": [
        {
         "hovertemplate": "Category=Art<br>Position in Path=%{x}<br>Frequency=%{y}<extra></extra>",
         "legendgroup": "Art",
         "line": {
          "color": "#636efa",
          "dash": "solid"
         },
         "marker": {
          "symbol": "circle"
         },
         "mode": "lines+markers",
         "name": "Art",
         "orientation": "v",
         "showlegend": true,
         "type": "scatter",
         "x": [
          1,
          2,
          3,
          4,
          5
         ],
         "xaxis": "x",
         "y": [
          347,
          269,
          280,
          283,
          61
         ],
         "yaxis": "y"
        },
        {
         "hovertemplate": "Category=Business Studies<br>Position in Path=%{x}<br>Frequency=%{y}<extra></extra>",
         "legendgroup": "Business Studies",
         "line": {
          "color": "#EF553B",
          "dash": "solid"
         },
         "marker": {
          "symbol": "circle"
         },
         "mode": "lines+markers",
         "name": "Business Studies",
         "orientation": "v",
         "showlegend": true,
         "type": "scatter",
         "x": [
          1,
          2,
          3,
          4,
          5,
          6,
          8
         ],
         "xaxis": "x",
         "y": [
          785,
          600,
          653,
          553,
          128,
          5,
          1
         ],
         "yaxis": "y"
        },
        {
         "hovertemplate": "Category=Citizenship<br>Position in Path=%{x}<br>Frequency=%{y}<extra></extra>",
         "legendgroup": "Citizenship",
         "line": {
          "color": "#00cc96",
          "dash": "solid"
         },
         "marker": {
          "symbol": "circle"
         },
         "mode": "lines+markers",
         "name": "Citizenship",
         "orientation": "v",
         "showlegend": true,
         "type": "scatter",
         "x": [
          1,
          2,
          3,
          4,
          5,
          6
         ],
         "xaxis": "x",
         "y": [
          2036,
          1757,
          2205,
          1649,
          306,
          31
         ],
         "yaxis": "y"
        },
        {
         "hovertemplate": "Category=Countries<br>Position in Path=%{x}<br>Frequency=%{y}<extra></extra>",
         "legendgroup": "Countries",
         "line": {
          "color": "#ab63fa",
          "dash": "solid"
         },
         "marker": {
          "symbol": "circle"
         },
         "mode": "lines+markers",
         "name": "Countries",
         "orientation": "v",
         "showlegend": true,
         "type": "scatter",
         "x": [
          1,
          2,
          3,
          4,
          5
         ],
         "xaxis": "x",
         "y": [
          2646,
          9767,
          7535,
          1527,
          38
         ],
         "yaxis": "y"
        },
        {
         "hovertemplate": "Category=Design and Technology<br>Position in Path=%{x}<br>Frequency=%{y}<extra></extra>",
         "legendgroup": "Design and Technology",
         "line": {
          "color": "#FFA15A",
          "dash": "solid"
         },
         "marker": {
          "symbol": "circle"
         },
         "mode": "lines+markers",
         "name": "Design and Technology",
         "orientation": "v",
         "showlegend": true,
         "type": "scatter",
         "x": [
          1,
          2,
          3,
          4,
          5,
          6,
          7,
          8
         ],
         "xaxis": "x",
         "y": [
          1911,
          704,
          835,
          1204,
          477,
          73,
          14,
          1
         ],
         "yaxis": "y"
        },
        {
         "hovertemplate": "Category=Everyday life<br>Position in Path=%{x}<br>Frequency=%{y}<extra></extra>",
         "legendgroup": "Everyday life",
         "line": {
          "color": "#19d3f3",
          "dash": "solid"
         },
         "marker": {
          "symbol": "circle"
         },
         "mode": "lines+markers",
         "name": "Everyday life",
         "orientation": "v",
         "showlegend": true,
         "type": "scatter",
         "x": [
          1,
          2,
          3,
          4,
          5,
          6,
          7
         ],
         "xaxis": "x",
         "y": [
          4183,
          2060,
          2584,
          3161,
          1257,
          150,
          7
         ],
         "yaxis": "y"
        },
        {
         "hovertemplate": "Category=Geography<br>Position in Path=%{x}<br>Frequency=%{y}<extra></extra>",
         "legendgroup": "Geography",
         "line": {
          "color": "#FF6692",
          "dash": "solid"
         },
         "marker": {
          "symbol": "circle"
         },
         "mode": "lines+markers",
         "name": "Geography",
         "orientation": "v",
         "showlegend": true,
         "type": "scatter",
         "x": [
          1,
          2,
          3,
          4,
          5,
          6,
          7,
          8
         ],
         "xaxis": "x",
         "y": [
          7123,
          9552,
          8950,
          5823,
          1149,
          132,
          24,
          1
         ],
         "yaxis": "y"
        },
        {
         "hovertemplate": "Category=History<br>Position in Path=%{x}<br>Frequency=%{y}<extra></extra>",
         "legendgroup": "History",
         "line": {
          "color": "#B6E880",
          "dash": "solid"
         },
         "marker": {
          "symbol": "circle"
         },
         "mode": "lines+markers",
         "name": "History",
         "orientation": "v",
         "showlegend": true,
         "type": "scatter",
         "x": [
          1,
          2,
          3,
          4,
          5,
          6,
          7
         ],
         "xaxis": "x",
         "y": [
          3858,
          5385,
          5418,
          2961,
          748,
          84,
          8
         ],
         "yaxis": "y"
        },
        {
         "hovertemplate": "Category=IT<br>Position in Path=%{x}<br>Frequency=%{y}<extra></extra>",
         "legendgroup": "IT",
         "line": {
          "color": "#FF97FF",
          "dash": "solid"
         },
         "marker": {
          "symbol": "circle"
         },
         "mode": "lines+markers",
         "name": "IT",
         "orientation": "v",
         "showlegend": true,
         "type": "scatter",
         "x": [
          1,
          2,
          3,
          4,
          5,
          6,
          7
         ],
         "xaxis": "x",
         "y": [
          839,
          326,
          500,
          612,
          333,
          38,
          5
         ],
         "yaxis": "y"
        },
        {
         "hovertemplate": "Category=Language and literature<br>Position in Path=%{x}<br>Frequency=%{y}<extra></extra>",
         "legendgroup": "Language and literature",
         "line": {
          "color": "#FECB52",
          "dash": "solid"
         },
         "marker": {
          "symbol": "circle"
         },
         "mode": "lines+markers",
         "name": "Language and literature",
         "orientation": "v",
         "showlegend": true,
         "type": "scatter",
         "x": [
          1,
          2,
          3,
          4,
          5,
          6,
          7
         ],
         "xaxis": "x",
         "y": [
          1553,
          1467,
          1257,
          927,
          431,
          153,
          24
         ],
         "yaxis": "y"
        },
        {
         "hovertemplate": "Category=Mathematics<br>Position in Path=%{x}<br>Frequency=%{y}<extra></extra>",
         "legendgroup": "Mathematics",
         "line": {
          "color": "#636efa",
          "dash": "solid"
         },
         "marker": {
          "symbol": "circle"
         },
         "mode": "lines+markers",
         "name": "Mathematics",
         "orientation": "v",
         "showlegend": true,
         "type": "scatter",
         "x": [
          1,
          2,
          3,
          4,
          5,
          6
         ],
         "xaxis": "x",
         "y": [
          502,
          204,
          221,
          370,
          118,
          10
         ],
         "yaxis": "y"
        },
        {
         "hovertemplate": "Category=Music<br>Position in Path=%{x}<br>Frequency=%{y}<extra></extra>",
         "legendgroup": "Music",
         "line": {
          "color": "#EF553B",
          "dash": "solid"
         },
         "marker": {
          "symbol": "circle"
         },
         "mode": "lines+markers",
         "name": "Music",
         "orientation": "v",
         "showlegend": true,
         "type": "scatter",
         "x": [
          1,
          2,
          3,
          4,
          5,
          6,
          7
         ],
         "xaxis": "x",
         "y": [
          884,
          212,
          464,
          813,
          300,
          40,
          5
         ],
         "yaxis": "y"
        },
        {
         "hovertemplate": "Category=People<br>Position in Path=%{x}<br>Frequency=%{y}<extra></extra>",
         "legendgroup": "People",
         "line": {
          "color": "#00cc96",
          "dash": "solid"
         },
         "marker": {
          "symbol": "circle"
         },
         "mode": "lines+markers",
         "name": "People",
         "orientation": "v",
         "showlegend": true,
         "type": "scatter",
         "x": [
          1,
          2,
          3,
          4,
          5,
          6,
          7
         ],
         "xaxis": "x",
         "y": [
          4734,
          2235,
          2722,
          3658,
          1192,
          74,
          1
         ],
         "yaxis": "y"
        },
        {
         "hovertemplate": "Category=Religion<br>Position in Path=%{x}<br>Frequency=%{y}<extra></extra>",
         "legendgroup": "Religion",
         "line": {
          "color": "#ab63fa",
          "dash": "solid"
         },
         "marker": {
          "symbol": "circle"
         },
         "mode": "lines+markers",
         "name": "Religion",
         "orientation": "v",
         "showlegend": true,
         "type": "scatter",
         "x": [
          1,
          2,
          3,
          4,
          5,
          6
         ],
         "xaxis": "x",
         "y": [
          1286,
          1063,
          1360,
          927,
          174,
          2
         ],
         "yaxis": "y"
        },
        {
         "hovertemplate": "Category=Science<br>Position in Path=%{x}<br>Frequency=%{y}<extra></extra>",
         "legendgroup": "Science",
         "line": {
          "color": "#FFA15A",
          "dash": "solid"
         },
         "marker": {
          "symbol": "circle"
         },
         "mode": "lines+markers",
         "name": "Science",
         "orientation": "v",
         "showlegend": true,
         "type": "scatter",
         "x": [
          1,
          2,
          3,
          4,
          5,
          6,
          7,
          8
         ],
         "xaxis": "x",
         "y": [
          9832,
          6907,
          6648,
          7259,
          3140,
          525,
          58,
          9
         ],
         "yaxis": "y"
        }
       ],
       "layout": {
        "height": 600,
        "legend": {
         "title": {
          "text": "Category"
         },
         "tracegroupgap": 0
        },
        "template": {
         "data": {
          "bar": [
           {
            "error_x": {
             "color": "#2a3f5f"
            },
            "error_y": {
             "color": "#2a3f5f"
            },
            "marker": {
             "line": {
              "color": "white",
              "width": 0.5
             },
             "pattern": {
              "fillmode": "overlay",
              "size": 10,
              "solidity": 0.2
             }
            },
            "type": "bar"
           }
          ],
          "barpolar": [
           {
            "marker": {
             "line": {
              "color": "white",
              "width": 0.5
             },
             "pattern": {
              "fillmode": "overlay",
              "size": 10,
              "solidity": 0.2
             }
            },
            "type": "barpolar"
           }
          ],
          "carpet": [
           {
            "aaxis": {
             "endlinecolor": "#2a3f5f",
             "gridcolor": "#C8D4E3",
             "linecolor": "#C8D4E3",
             "minorgridcolor": "#C8D4E3",
             "startlinecolor": "#2a3f5f"
            },
            "baxis": {
             "endlinecolor": "#2a3f5f",
             "gridcolor": "#C8D4E3",
             "linecolor": "#C8D4E3",
             "minorgridcolor": "#C8D4E3",
             "startlinecolor": "#2a3f5f"
            },
            "type": "carpet"
           }
          ],
          "choropleth": [
           {
            "colorbar": {
             "outlinewidth": 0,
             "ticks": ""
            },
            "type": "choropleth"
           }
          ],
          "contour": [
           {
            "colorbar": {
             "outlinewidth": 0,
             "ticks": ""
            },
            "colorscale": [
             [
              0,
              "#0d0887"
             ],
             [
              0.1111111111111111,
              "#46039f"
             ],
             [
              0.2222222222222222,
              "#7201a8"
             ],
             [
              0.3333333333333333,
              "#9c179e"
             ],
             [
              0.4444444444444444,
              "#bd3786"
             ],
             [
              0.5555555555555556,
              "#d8576b"
             ],
             [
              0.6666666666666666,
              "#ed7953"
             ],
             [
              0.7777777777777778,
              "#fb9f3a"
             ],
             [
              0.8888888888888888,
              "#fdca26"
             ],
             [
              1,
              "#f0f921"
             ]
            ],
            "type": "contour"
           }
          ],
          "contourcarpet": [
           {
            "colorbar": {
             "outlinewidth": 0,
             "ticks": ""
            },
            "type": "contourcarpet"
           }
          ],
          "heatmap": [
           {
            "colorbar": {
             "outlinewidth": 0,
             "ticks": ""
            },
            "colorscale": [
             [
              0,
              "#0d0887"
             ],
             [
              0.1111111111111111,
              "#46039f"
             ],
             [
              0.2222222222222222,
              "#7201a8"
             ],
             [
              0.3333333333333333,
              "#9c179e"
             ],
             [
              0.4444444444444444,
              "#bd3786"
             ],
             [
              0.5555555555555556,
              "#d8576b"
             ],
             [
              0.6666666666666666,
              "#ed7953"
             ],
             [
              0.7777777777777778,
              "#fb9f3a"
             ],
             [
              0.8888888888888888,
              "#fdca26"
             ],
             [
              1,
              "#f0f921"
             ]
            ],
            "type": "heatmap"
           }
          ],
          "heatmapgl": [
           {
            "colorbar": {
             "outlinewidth": 0,
             "ticks": ""
            },
            "colorscale": [
             [
              0,
              "#0d0887"
             ],
             [
              0.1111111111111111,
              "#46039f"
             ],
             [
              0.2222222222222222,
              "#7201a8"
             ],
             [
              0.3333333333333333,
              "#9c179e"
             ],
             [
              0.4444444444444444,
              "#bd3786"
             ],
             [
              0.5555555555555556,
              "#d8576b"
             ],
             [
              0.6666666666666666,
              "#ed7953"
             ],
             [
              0.7777777777777778,
              "#fb9f3a"
             ],
             [
              0.8888888888888888,
              "#fdca26"
             ],
             [
              1,
              "#f0f921"
             ]
            ],
            "type": "heatmapgl"
           }
          ],
          "histogram": [
           {
            "marker": {
             "pattern": {
              "fillmode": "overlay",
              "size": 10,
              "solidity": 0.2
             }
            },
            "type": "histogram"
           }
          ],
          "histogram2d": [
           {
            "colorbar": {
             "outlinewidth": 0,
             "ticks": ""
            },
            "colorscale": [
             [
              0,
              "#0d0887"
             ],
             [
              0.1111111111111111,
              "#46039f"
             ],
             [
              0.2222222222222222,
              "#7201a8"
             ],
             [
              0.3333333333333333,
              "#9c179e"
             ],
             [
              0.4444444444444444,
              "#bd3786"
             ],
             [
              0.5555555555555556,
              "#d8576b"
             ],
             [
              0.6666666666666666,
              "#ed7953"
             ],
             [
              0.7777777777777778,
              "#fb9f3a"
             ],
             [
              0.8888888888888888,
              "#fdca26"
             ],
             [
              1,
              "#f0f921"
             ]
            ],
            "type": "histogram2d"
           }
          ],
          "histogram2dcontour": [
           {
            "colorbar": {
             "outlinewidth": 0,
             "ticks": ""
            },
            "colorscale": [
             [
              0,
              "#0d0887"
             ],
             [
              0.1111111111111111,
              "#46039f"
             ],
             [
              0.2222222222222222,
              "#7201a8"
             ],
             [
              0.3333333333333333,
              "#9c179e"
             ],
             [
              0.4444444444444444,
              "#bd3786"
             ],
             [
              0.5555555555555556,
              "#d8576b"
             ],
             [
              0.6666666666666666,
              "#ed7953"
             ],
             [
              0.7777777777777778,
              "#fb9f3a"
             ],
             [
              0.8888888888888888,
              "#fdca26"
             ],
             [
              1,
              "#f0f921"
             ]
            ],
            "type": "histogram2dcontour"
           }
          ],
          "mesh3d": [
           {
            "colorbar": {
             "outlinewidth": 0,
             "ticks": ""
            },
            "type": "mesh3d"
           }
          ],
          "parcoords": [
           {
            "line": {
             "colorbar": {
              "outlinewidth": 0,
              "ticks": ""
             }
            },
            "type": "parcoords"
           }
          ],
          "pie": [
           {
            "automargin": true,
            "type": "pie"
           }
          ],
          "scatter": [
           {
            "fillpattern": {
             "fillmode": "overlay",
             "size": 10,
             "solidity": 0.2
            },
            "type": "scatter"
           }
          ],
          "scatter3d": [
           {
            "line": {
             "colorbar": {
              "outlinewidth": 0,
              "ticks": ""
             }
            },
            "marker": {
             "colorbar": {
              "outlinewidth": 0,
              "ticks": ""
             }
            },
            "type": "scatter3d"
           }
          ],
          "scattercarpet": [
           {
            "marker": {
             "colorbar": {
              "outlinewidth": 0,
              "ticks": ""
             }
            },
            "type": "scattercarpet"
           }
          ],
          "scattergeo": [
           {
            "marker": {
             "colorbar": {
              "outlinewidth": 0,
              "ticks": ""
             }
            },
            "type": "scattergeo"
           }
          ],
          "scattergl": [
           {
            "marker": {
             "colorbar": {
              "outlinewidth": 0,
              "ticks": ""
             }
            },
            "type": "scattergl"
           }
          ],
          "scattermapbox": [
           {
            "marker": {
             "colorbar": {
              "outlinewidth": 0,
              "ticks": ""
             }
            },
            "type": "scattermapbox"
           }
          ],
          "scatterpolar": [
           {
            "marker": {
             "colorbar": {
              "outlinewidth": 0,
              "ticks": ""
             }
            },
            "type": "scatterpolar"
           }
          ],
          "scatterpolargl": [
           {
            "marker": {
             "colorbar": {
              "outlinewidth": 0,
              "ticks": ""
             }
            },
            "type": "scatterpolargl"
           }
          ],
          "scatterternary": [
           {
            "marker": {
             "colorbar": {
              "outlinewidth": 0,
              "ticks": ""
             }
            },
            "type": "scatterternary"
           }
          ],
          "surface": [
           {
            "colorbar": {
             "outlinewidth": 0,
             "ticks": ""
            },
            "colorscale": [
             [
              0,
              "#0d0887"
             ],
             [
              0.1111111111111111,
              "#46039f"
             ],
             [
              0.2222222222222222,
              "#7201a8"
             ],
             [
              0.3333333333333333,
              "#9c179e"
             ],
             [
              0.4444444444444444,
              "#bd3786"
             ],
             [
              0.5555555555555556,
              "#d8576b"
             ],
             [
              0.6666666666666666,
              "#ed7953"
             ],
             [
              0.7777777777777778,
              "#fb9f3a"
             ],
             [
              0.8888888888888888,
              "#fdca26"
             ],
             [
              1,
              "#f0f921"
             ]
            ],
            "type": "surface"
           }
          ],
          "table": [
           {
            "cells": {
             "fill": {
              "color": "#EBF0F8"
             },
             "line": {
              "color": "white"
             }
            },
            "header": {
             "fill": {
              "color": "#C8D4E3"
             },
             "line": {
              "color": "white"
             }
            },
            "type": "table"
           }
          ]
         },
         "layout": {
          "annotationdefaults": {
           "arrowcolor": "#2a3f5f",
           "arrowhead": 0,
           "arrowwidth": 1
          },
          "autotypenumbers": "strict",
          "coloraxis": {
           "colorbar": {
            "outlinewidth": 0,
            "ticks": ""
           }
          },
          "colorscale": {
           "diverging": [
            [
             0,
             "#8e0152"
            ],
            [
             0.1,
             "#c51b7d"
            ],
            [
             0.2,
             "#de77ae"
            ],
            [
             0.3,
             "#f1b6da"
            ],
            [
             0.4,
             "#fde0ef"
            ],
            [
             0.5,
             "#f7f7f7"
            ],
            [
             0.6,
             "#e6f5d0"
            ],
            [
             0.7,
             "#b8e186"
            ],
            [
             0.8,
             "#7fbc41"
            ],
            [
             0.9,
             "#4d9221"
            ],
            [
             1,
             "#276419"
            ]
           ],
           "sequential": [
            [
             0,
             "#0d0887"
            ],
            [
             0.1111111111111111,
             "#46039f"
            ],
            [
             0.2222222222222222,
             "#7201a8"
            ],
            [
             0.3333333333333333,
             "#9c179e"
            ],
            [
             0.4444444444444444,
             "#bd3786"
            ],
            [
             0.5555555555555556,
             "#d8576b"
            ],
            [
             0.6666666666666666,
             "#ed7953"
            ],
            [
             0.7777777777777778,
             "#fb9f3a"
            ],
            [
             0.8888888888888888,
             "#fdca26"
            ],
            [
             1,
             "#f0f921"
            ]
           ],
           "sequentialminus": [
            [
             0,
             "#0d0887"
            ],
            [
             0.1111111111111111,
             "#46039f"
            ],
            [
             0.2222222222222222,
             "#7201a8"
            ],
            [
             0.3333333333333333,
             "#9c179e"
            ],
            [
             0.4444444444444444,
             "#bd3786"
            ],
            [
             0.5555555555555556,
             "#d8576b"
            ],
            [
             0.6666666666666666,
             "#ed7953"
            ],
            [
             0.7777777777777778,
             "#fb9f3a"
            ],
            [
             0.8888888888888888,
             "#fdca26"
            ],
            [
             1,
             "#f0f921"
            ]
           ]
          },
          "colorway": [
           "#636efa",
           "#EF553B",
           "#00cc96",
           "#ab63fa",
           "#FFA15A",
           "#19d3f3",
           "#FF6692",
           "#B6E880",
           "#FF97FF",
           "#FECB52"
          ],
          "font": {
           "color": "#2a3f5f"
          },
          "geo": {
           "bgcolor": "white",
           "lakecolor": "white",
           "landcolor": "white",
           "showlakes": true,
           "showland": true,
           "subunitcolor": "#C8D4E3"
          },
          "hoverlabel": {
           "align": "left"
          },
          "hovermode": "closest",
          "mapbox": {
           "style": "light"
          },
          "paper_bgcolor": "white",
          "plot_bgcolor": "white",
          "polar": {
           "angularaxis": {
            "gridcolor": "#EBF0F8",
            "linecolor": "#EBF0F8",
            "ticks": ""
           },
           "bgcolor": "white",
           "radialaxis": {
            "gridcolor": "#EBF0F8",
            "linecolor": "#EBF0F8",
            "ticks": ""
           }
          },
          "scene": {
           "xaxis": {
            "backgroundcolor": "white",
            "gridcolor": "#DFE8F3",
            "gridwidth": 2,
            "linecolor": "#EBF0F8",
            "showbackground": true,
            "ticks": "",
            "zerolinecolor": "#EBF0F8"
           },
           "yaxis": {
            "backgroundcolor": "white",
            "gridcolor": "#DFE8F3",
            "gridwidth": 2,
            "linecolor": "#EBF0F8",
            "showbackground": true,
            "ticks": "",
            "zerolinecolor": "#EBF0F8"
           },
           "zaxis": {
            "backgroundcolor": "white",
            "gridcolor": "#DFE8F3",
            "gridwidth": 2,
            "linecolor": "#EBF0F8",
            "showbackground": true,
            "ticks": "",
            "zerolinecolor": "#EBF0F8"
           }
          },
          "shapedefaults": {
           "line": {
            "color": "#2a3f5f"
           }
          },
          "ternary": {
           "aaxis": {
            "gridcolor": "#DFE8F3",
            "linecolor": "#A2B1C6",
            "ticks": ""
           },
           "baxis": {
            "gridcolor": "#DFE8F3",
            "linecolor": "#A2B1C6",
            "ticks": ""
           },
           "bgcolor": "white",
           "caxis": {
            "gridcolor": "#DFE8F3",
            "linecolor": "#A2B1C6",
            "ticks": ""
           }
          },
          "title": {
           "x": 0.05
          },
          "xaxis": {
           "automargin": true,
           "gridcolor": "#EBF0F8",
           "linecolor": "#EBF0F8",
           "ticks": "",
           "title": {
            "standoff": 15
           },
           "zerolinecolor": "#EBF0F8",
           "zerolinewidth": 2
          },
          "yaxis": {
           "automargin": true,
           "gridcolor": "#EBF0F8",
           "linecolor": "#EBF0F8",
           "ticks": "",
           "title": {
            "standoff": 15
           },
           "zerolinecolor": "#EBF0F8",
           "zerolinewidth": 2
          }
         }
        },
        "title": {
         "text": "Category Frequencies Across Path Positions"
        },
        "width": 900,
        "xaxis": {
         "anchor": "y",
         "domain": [
          0,
          1
         ],
         "dtick": 1,
         "tick0": 1,
         "tickmode": "linear",
         "title": {
          "text": "Position in Path"
         }
        },
        "yaxis": {
         "anchor": "x",
         "domain": [
          0,
          1
         ],
         "title": {
          "text": "Frequency"
         }
        }
       }
      }
     },
     "metadata": {},
     "output_type": "display_data"
    }
   ],
   "source": [
    "# Calculate position frequencies (normalized or not)\n",
    "df_position_data = get_position_frequencies(optimal_paths, max_position=15)\n",
    "\n",
    "# Plot interactive histogram (line or bar plot, with options for normalization and stacking)\n",
    "plot_position_interactive(df_position_data, plot_type=\"line\")"
   ]
  }
 ],
 "metadata": {
  "kernelspec": {
   "display_name": "ada",
   "language": "python",
   "name": "python3"
  },
  "language_info": {
   "codemirror_mode": {
    "name": "ipython",
    "version": 3
   },
   "file_extension": ".py",
   "mimetype": "text/x-python",
   "name": "python",
   "nbconvert_exporter": "python",
   "pygments_lexer": "ipython3",
   "version": "3.11.9"
  },
  "orig_nbformat": 4
 },
 "nbformat": 4,
 "nbformat_minor": 2
}
