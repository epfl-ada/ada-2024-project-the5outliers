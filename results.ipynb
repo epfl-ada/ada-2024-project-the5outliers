{
 "cells": [
  {
   "cell_type": "markdown",
   "metadata": {},
   "source": [
    "<h1>The5Outliers - <span style=\"background: linear-gradient(to right, #28649c, #1dc2b1); -webkit-background-clip: text; color: transparent;\">Wikispeedia Voyages</span>: why so many players pass through World regions to reach their target</h1>"
   ]
  },
  {
   "cell_type": "code",
   "execution_count": 1,
   "metadata": {},
   "outputs": [],
   "source": [
    "%load_ext autoreload\n",
    "%autoreload 2"
   ]
  },
  {
   "cell_type": "code",
   "execution_count": 2,
   "metadata": {},
   "outputs": [],
   "source": [
    "import seaborn as sn\n",
    "import matplotlib.pyplot as plt\n",
    "from scipy.stats import kurtosis\n",
    "import plotly.graph_objects as go\n",
    "import pandas as pd\n",
    "import plotly.express as px\n",
    "import numpy as np\n",
    "\n",
    "import config\n",
    "from src.utils.HTMLParser import HTMLParser\n",
    "from src.data.data_loader import *\n",
    "from src.utils.helpers import *\n",
    "from src.models.networks import *\n",
    "from src.models.similarity_matrices import *\n",
    "from src.models.markov_chains import *\n",
    "\n",
    "parser = HTMLParser()\n",
    "parser.load_pickle()"
   ]
  },
  {
   "cell_type": "code",
   "execution_count": 3,
   "metadata": {},
   "outputs": [],
   "source": [
    "# Delete for final version?\n",
    "# Compute and save all embending, similarity matrices and parsed articles\n",
    "#compute_save_all()"
   ]
  },
  {
   "cell_type": "markdown",
   "metadata": {},
   "source": [
    "# 0. Data preprocessing and loading"
   ]
  },
  {
   "cell_type": "markdown",
   "metadata": {},
   "source": [
    "<div class=\"alert alert-block alert-info\">\n",
    "\n",
    "We use the `read_all()` function to load, clean, and enhance the data with useful features for analysis. It combines multiple data sources, performs preprocessing, and computes additional features for articles and user paths.\n",
    "\n",
    "</div>"
   ]
  },
  {
   "cell_type": "markdown",
   "metadata": {},
   "source": [
    "## Preprocessed Dataframes:\n",
    "<div class=\"alert alert-block alert-info\">\n",
    "\n",
    "- `df_article_names`: Valid article names, that is without special characters and discardig any invalid articles (e.g. non-Wikispeedia articles or with missing categories).\n",
    "- `df_html_stats`: Gathers wikispedia page statistics like number of links, link density, and structural information from the HTML version of each article.\n",
    "- `df_categories`: Article categories and sub categories.\n",
    "- `df_links`: Links inward and outward between articles.\n",
    "- `df_shortest_path_length`: Matrix of shortest paths lengths possible between two articles.\n",
    "- `df_unfinished` and `df_finished`: Cleaned paths with computed features.\n",
    "- `df_sm` and `df_scat` (not returned): Matrices for semantic and category similarity.\n",
    "- `df_article`: Dataframe with article-level features.\n",
    "\n",
    "<div>\n"
   ]
  },
  {
   "cell_type": "code",
   "execution_count": null,
   "metadata": {},
   "outputs": [],
   "source": [
    "# Load and preprocess the data\n",
    "df_article_names, df_html_stats, df_categories, df_links, df_shortest_path, df_unfinished, df_finished, df_article = read_all()"
   ]
  },
  {
   "cell_type": "markdown",
   "metadata": {},
   "source": [
    "## Key Modifications\n",
    "\n",
    "### 1. Categories:\n",
    "<div class=\"alert alert-block alert-info\">\n",
    "Each category is organized into multiple sub-levels, with a hierarchical depth of up to 3 levels. We observe that some articles are associated with multiple categories, highlighting overlaps and shared connections within the dataset. For our analysis we need to have only one category corresponding to each article, thus we choose to keep the most specific one.\n",
    "\n",
    "Attributing the **first level category** based on the one **with fewer total articles** helps prioritize specialization over generality. \n",
    "\n",
    "Categories with fewer total articles are typically more specific, while those with higher counts cover broader topics. By focusing on the category with fewer articles, we ensure the article’s primary focus is on a unique or specialized perspective, providing a clearer thematic assignment. This method promotes a balanced classification system, ensuring articles are categorized accurately without being overshadowed by more general categories.\n",
    "\n",
    "- For example, a category like **\"Science\"** may encompass a wide range of topics, while **\"IT\"** might be more specialized.\n",
    "</div>"
   ]
  },
  {
   "cell_type": "code",
   "execution_count": null,
   "metadata": {},
   "outputs": [],
   "source": [
    "df_categories_original = read_categories()\n",
    "# Count the number of articles with multiples categorie\n",
    "df_categories_original.groupby(\"article\")[\"article\"].size().value_counts()"
   ]
  },
  {
   "cell_type": "code",
   "execution_count": null,
   "metadata": {},
   "outputs": [],
   "source": [
    "labels, parents, values, ids = create_treemap_data(df_categories_original, show_articles=True)\n",
    "\n",
    "create_colored_treemap(labels, parents, values, ids,color_palette=config.PALETTE_CATEGORY_DICT_COLORS, title=\"Category Distribution in Articles (Only the most specific category is shown for each article)\")\n",
    "print(f'We have {df_categories_original[\"level_1\"].unique().size} distinct level 1 categories.')"
   ]
  },
  {
   "cell_type": "markdown",
   "metadata": {},
   "source": [
    "### 2. Article Features:\n",
    "\n",
    "<div class=\"alert alert-block alert-info\">\n",
    "\n",
    "- **In-Degree**: of an article corresponds to the number of links on other pages targetting an article \n",
    "    - Some articles have no articles leading to it.\n",
    "- **Out-Degree**: of an article corresponds to the number of links towards other pages on this article\n",
    "    - Some articles lead to no other articles.\n",
    "- **HTML Stats**: Structural details like the number of links per article.\n",
    "    - Links do not consider duplicates inside the page (each link is considered to appear once) but this is relaxed with the HTML parsing.\n",
    "- **Categories**: Assigns the most specific category to each article.\n",
    "</div>"
   ]
  },
  {
   "cell_type": "markdown",
   "metadata": {},
   "source": [
    "### 3. Path Features:\n",
    "<div class=\"alert alert-block alert-info\">\n",
    "Metrics computed for user navigation paths:\n",
    "\n",
    "- **Path Length**: Number of articles in a user's path.\n",
    "- **Back-Clicks**: How many times users revisit previous articles.\n",
    "- **Cosine Similarity**: Semantic similarity between source and target articles.\n",
    "- **Shortest Path**: Length of the shortest path possible between the source and target articles.\n",
    "- **Category Similarity**: Category similarity between the categories of the source and target articles.\n",
    "</div>"
   ]
  },
  {
   "cell_type": "markdown",
   "metadata": {},
   "source": [
    "## 1 Find Voyages\n",
    "<div class=\"alert alert-block alert-info\">\n",
    "\n",
    "The goal of our research is to explore the role and significance of World Regions in user behavior while playing Wikispeedia. To achieve this, we first extract articles corresponding to *World Regions*.  \n",
    "Fortunately, articles are categorized, so we gather those under *'Countries'* and relevant subcategories of *'Geography'* such as *'Geography of Asia'*. These articles are grouped into a new category called *'World Regions'*, while remaining *'Geography'* articles are keeping the same category.\n",
    "</div>"
   ]
  },
  {
   "cell_type": "code",
   "execution_count": 7,
   "metadata": {},
   "outputs": [],
   "source": [
    "world_regions_categories = ['Geography of Great Britain', 'Geography of Asia', 'Geography of Oceania Australasia', 'North American Geography', 'European Geography', 'African Geography', 'Central and South American Geography', 'Antarctica', 'Geography of the Middle East', 'African Countries', 'Countries']\n",
    "df_categories = assign_world_region_categories(df_categories, world_regions_categories)"
   ]
  },
  {
   "cell_type": "markdown",
   "metadata": {},
   "source": [
    "<div class=\"alert alert-block alert-info\">\n",
    "\n",
    "Below we can observe the new distributions of articles categories after the most specific category and the assignement of the new categorgories world regions.\n",
    "</div>"
   ]
  },
  {
   "cell_type": "code",
   "execution_count": null,
   "metadata": {},
   "outputs": [],
   "source": [
    "labels_filtered, parents_filtered, values_filtered, ids_filtered = create_treemap_data(df_categories, show_articles=True)\n",
    "cat_fig = create_colored_treemap(labels_filtered, parents_filtered, values_filtered, ids_filtered,color_palette=config.PALETTE_CATEGORY_DICT_COLORS, title=\"Category Distribution in Articles (Only the most specific category is shown for each article)\")"
   ]
  },
  {
   "cell_type": "code",
   "execution_count": 9,
   "metadata": {},
   "outputs": [],
   "source": [
    "# Save the Plotly figure as a full HTML file\n",
    "#cat_fig.write_html(\"html/categories.html\", include_plotlyjs=\"cdn\")"
   ]
  },
  {
   "cell_type": "code",
   "execution_count": null,
   "metadata": {},
   "outputs": [],
   "source": [
    "plot_articles_pie_chart(df_categories, config.PALETTE_CATEGORY_DICT_COLORS, config.CATEGORY_ABBREVIATIONS)"
   ]
  },
  {
   "cell_type": "markdown",
   "metadata": {},
   "source": [
    "### Sort games into voyage or not-voyage & assign the new category *'World Regions'*"
   ]
  },
  {
   "cell_type": "markdown",
   "metadata": {},
   "source": [
    "<div class=\"alert alert-block alert-info\">\n",
    "\n",
    "A <span style=\"background: linear-gradient(to right, #3458d6, #34d634); -webkit-background-clip: text; color: transparent;\">Wikispeedia Voyage</span> is defined as a path game where neither the source nor the target is in **World Regions**, but the path includes at least one article from this category.\n",
    "</div>"
   ]
  },
  {
   "cell_type": "code",
   "execution_count": 10,
   "metadata": {},
   "outputs": [],
   "source": [
    "# Sort paths into voyage and non-voyage\n",
    "df_finished = game_voyage_sorting(df_finished, df_categories)\n",
    "df_unfinished = game_voyage_sorting(df_unfinished, df_categories)\n",
    "\n",
    "# Assign the categories \"World Regions\" to the concerned articles\n",
    "category_map = dict(zip(df_categories[\"article\"], df_categories[\"level_1\"]))\n",
    "df_article[\"category\"] = df_article[\"article\"].map(category_map)"
   ]
  },
  {
   "cell_type": "code",
   "execution_count": null,
   "metadata": {},
   "outputs": [],
   "source": [
    "# Count the voyages \n",
    "voyage_count = (df_finished['Wikispeedia_Voyage'] == 1).sum() + (df_unfinished['Wikispeedia_Voyage'] == 1).sum()\n",
    "non_voyage_count = (df_finished['Wikispeedia_Voyage'] == 0).sum() + (df_unfinished['Wikispeedia_Voyage'] == 0).sum()\n",
    "\n",
    "print('Out of the ', len(df_finished)+len(df_unfinished), ' finished and unfinished games : ')\n",
    "print('  - ', voyage_count, ' are voyages')\n",
    "print('  - ', non_voyage_count, ' are not')"
   ]
  },
  {
   "cell_type": "markdown",
   "metadata": {},
   "source": [
    "<div class=\"alert alert-block alert-success\">\n",
    "\n",
    "We immediately see that <span style=\"background: linear-gradient(to right, #3458d6, #34d634); -webkit-background-clip: text; color: transparent;\">Wikispeedia Voyage</span> are very commun since they are approximately one third of the paths."
   ]
  },
  {
   "cell_type": "code",
   "execution_count": null,
   "metadata": {},
   "outputs": [],
   "source": [
    "#concatenate all games in a dataframe and plot the sankey diagram \n",
    "df_merged = pd.concat([df_finished, df_unfinished], ignore_index=True, sort=False)\n",
    "sankey_fig = plot_sankey_voyage(df_merged, background_color=\"white\")"
   ]
  },
  {
   "cell_type": "code",
   "execution_count": 13,
   "metadata": {},
   "outputs": [],
   "source": [
    "# Save the Plotly figure as a full HTML file\n",
    "#sankey_fig.write_html(\"html/sankey.html\", include_plotlyjs=\"cdn\")"
   ]
  },
  {
   "cell_type": "markdown",
   "metadata": {},
   "source": [
    "# 2. Article features"
   ]
  },
  {
   "cell_type": "markdown",
   "metadata": {},
   "source": [
    "## 2.1.a. Distributions of words, links, and categories in articles"
   ]
  },
  {
   "cell_type": "code",
   "execution_count": null,
   "metadata": {},
   "outputs": [],
   "source": [
    "#TODO: big big plot voyage/non-voyage\n",
    "\n",
    "metrics = [\n",
    "    (\"total_words\", \"Number of Words in Article\"),\n",
    "    (\"abstract_words\", \"Number of Words in Article Abstract\"),\n",
    "    (\"link_density\", \"Links Density in Article\"),\n",
    "    (\"abstract_link_density\", \"Links Density in Article Abstract\"),\n",
    "    (\"num_sections\", \"Number of Sections in Article\"),\n",
    "    (\"num_subsections\", \"Number of Sub- Sections in Article\")\n",
    "]\n",
    "\n",
    "fig, ax = plt.subplots(2, 3, figsize=(15, 5))\n",
    "\n",
    "# Loop through metrics to create histograms\n",
    "for i, (metric, title) in enumerate(metrics):\n",
    "    row, col = divmod(i, 3)\n",
    "    sn.histplot(df_article, x=metric, bins=30, kde=True, ax=ax[row, col])\n",
    "    ax[row, col].set_title(title)\n",
    "    if col == 1 or col == 2:\n",
    "        ax[row, col].set_ylabel('')\n",
    "\n",
    "plt.tight_layout()\n",
    "plt.suptitle(\"Distribution of Article Metrics\", y=1.05, fontsize=16)\n",
    "plt.show()"
   ]
  },
  {
   "cell_type": "markdown",
   "metadata": {},
   "source": [
    "<div class=\"alert alert-block alert-success\">\n",
    "\n",
    "Results : The data is right-skewed for most of metrics, indicating that while most articles adhere to certain standards of complexity and length, a small subset stands out as particularly detailed or interconnected."
   ]
  },
  {
   "cell_type": "markdown",
   "metadata": {},
   "source": [
    "## 2.1.b Articles Complexity"
   ]
  },
  {
   "cell_type": "markdown",
   "metadata": {},
   "source": [
    "<div class=\"alert alert-block alert-info\">\n",
    "\n",
    "Which categories feature the most complex articles? To answer this question, let’s identify the most complex articles and the categories they belong to. We define complexity based on factors such as the number of words, links, and sections within each article."
   ]
  },
  {
   "cell_type": "code",
   "execution_count": null,
   "metadata": {},
   "outputs": [],
   "source": [
    "#add count of start and target in df_articles\n",
    "count_start_and_target_per_articles(df_finished, df_unfinished, df_article)\n",
    "\n",
    "#plot \n",
    "plot_proportion_category_start_stop_pies(\n",
    "    df_article=df_article,\n",
    "    palette=config.PALETTE_CATEGORY_DICT_COLORS,\n",
    "    abbreviations=config.CATEGORY_ABBREVIATIONS,\n",
    "    threshold=2.3\n",
    ")"
   ]
  },
  {
   "cell_type": "markdown",
   "metadata": {},
   "source": [
    "<div class=\"alert alert-block alert-success\">\n",
    "\n",
    "\"Science\" and \"World Regions\" categories are the most prevalent categories in both start and end articles, indicating their significant representation."
   ]
  },
  {
   "cell_type": "code",
   "execution_count": null,
   "metadata": {},
   "outputs": [],
   "source": [
    "metrics = [\n",
    "    \"total_words\", \"link_density\", \"num_sections\",\n",
    "    \"abstract_words\", \"abstract_link_density\", \"num_subsections\"\n",
    "]\n",
    "\n",
    "plot_metrics_by_category(df_article, metrics, config.PALETTE_CATEGORY_DICT_COLORS, config.CATEGORY_ABBREVIATIONS)\n",
    "\n",
    "#TODO : add abreviations on x axis anf in legend "
   ]
  },
  {
   "cell_type": "code",
   "execution_count": null,
   "metadata": {},
   "outputs": [],
   "source": [
    "plot_proportions_of_in_and_out_degree_in_categories(\n",
    "    df=df_article,\n",
    "    palette=config.PALETTE_CATEGORY_DICT_COLORS,\n",
    "    abbreviations=config.CATEGORY_ABBREVIATIONS\n",
    ")"
   ]
  },
  {
   "cell_type": "markdown",
   "metadata": {},
   "source": [
    "<div class=\"alert alert-block alert-success\">\n",
    "\n",
    "Results : The category \"World Regions\" stands out as a particularly complex topic, characterized by articles with the highest link density and the greatest number of category levels. World Regions articles are highly represented in the network, being the category with the highest number of incoming and outgoing links."
   ]
  },
  {
   "cell_type": "markdown",
   "metadata": {},
   "source": [
    "## 2.1.c Articles Popularity and Connectivity"
   ]
  },
  {
   "cell_type": "markdown",
   "metadata": {},
   "source": [
    "<div class=\"alert alert-block alert-info\">\n",
    "\n",
    "Is there a correlation between the number of links in an article and the frequency with which people interact with it in the game? Does this depend more on the in-degree or out-degree of the links? And is there a significant difference between the in-degree and out-degree of links? We will compare and investigate these factors to understand their impact on article interaction."
   ]
  },
  {
   "cell_type": "code",
   "execution_count": null,
   "metadata": {},
   "outputs": [],
   "source": [
    "#TODO. comment + lists of countries in other categories\n",
    "plot_article_popularity_link_density(df_article, df_finished, config.PALETTE_CATEGORY_DICT_COLORS, config.CATEGORY_ABBREVIATIONS, df_categories)"
   ]
  },
  {
   "cell_type": "markdown",
   "metadata": {},
   "source": [
    "<div class=\"alert alert-block alert-success\">\n",
    "\n",
    "Results : We observe a significant overlap between the most visited articles and those with the highest degree. Additionally, the \"Countries\" category is prominently represented."
   ]
  },
  {
   "cell_type": "markdown",
   "metadata": {},
   "source": [
    "# 3. Analyse user behaviour (paths)"
   ]
  },
  {
   "cell_type": "markdown",
   "metadata": {},
   "source": [
    "<div class=\"alert alert-block alert-info\">\n",
    "\n",
    "Let's look for patterns in user behaviour and try to understand how we could measure whether a game was difficult or not. Many different metrics can be considered, for instance:\n",
    "- Game duration\n",
    "- Game path length\n",
    "- Difficulty rating given for finished paths\n",
    "- Number of back-clicks needed\n",
    "- Whether a game was finished or not\n",
    "- For unfinished games, how the game was abandoned\n",
    "\n",
    "A combination of these parameters can help finding in which games users struggled. This will then allow to assess whether players struggle less in <span style=\"background: linear-gradient(to right, #3458d6, #34d634); -webkit-background-clip: text; color: transparent;\">Wikispeedia Voyages</span> than in other paths.\n",
    "\n",
    "Let's first have a look of how the difficulty measures are distributed amongst each other for finished paths."
   ]
  },
  {
   "cell_type": "markdown",
   "metadata": {},
   "source": [
    "## 3.a Path duration"
   ]
  },
  {
   "cell_type": "code",
   "execution_count": null,
   "metadata": {},
   "outputs": [],
   "source": [
    "#TODO: keep code but not plot, not link to story\n",
    "\n",
    "# Find medians and kurtosis for both finished and unfinished\n",
    "median_finished = df_finished['durationInSec'].median()\n",
    "kurtosis_finished = kurtosis(df_finished['durationInSec'])\n",
    "median_unfinished = df_unfinished.groupby('type')['durationInSec'].median()\n",
    "kurtosis_unfinished = df_unfinished.groupby('type')['durationInSec'].apply(kurtosis)\n",
    "\n",
    "print(f\"The median duration of finished paths is {median_finished:.0f} seconds\")\n",
    "print(f\"The median duration of all unfinished paths is {df_unfinished['durationInSec'].median():.0f} seconds, among which :\")\n",
    "print(f\"  - The median duration of restart paths is {median_unfinished['restart']:.0f} seconds\")\n",
    "print(f\"  - The median duration of timeout paths is {median_unfinished['timeout']:.0f} seconds\")\n",
    "\n",
    "print(f\"Kurtosis of finished game durations: {kurtosis_finished:.2f}\")\n",
    "print(f\"Kurtosis of restart game durations: {kurtosis_unfinished['restart']:.2f}\")\n",
    "print(f\"Kurtosis of timeout game durations: {kurtosis_unfinished['timeout']:.2f}\")\n",
    "\n",
    "# Plotting histograms\n",
    "plt.figure(figsize=(12, 4))\n",
    "\n",
    "# Unfinished games\n",
    "ax1 = plt.subplot(121)\n",
    "sn.histplot(df_unfinished, x='durationInSec', hue='type', bins=100)\n",
    "plt.yscale('log')\n",
    "plt.xlabel('Duration in seconds')\n",
    "plt.title('Histogram of game duration for unfinished games')\n",
    "\n",
    "# Finished games\n",
    "plt.subplot(122, sharey=ax1)\n",
    "sn.histplot(df_finished, x='durationInSec', bins=100, alpha=0.5, color='y')\n",
    "plt.yscale('log')\n",
    "plt.xlabel('Duration in seconds')\n",
    "plt.title('Histogram of game duration for finished games')\n",
    "plt.show()"
   ]
  },
  {
   "cell_type": "markdown",
   "metadata": {},
   "source": [
    "<div class=\"alert alert-block alert-success\">\n",
    "\n",
    "Time-out paths are games where the player stopped playing for more that 30 minutes. If we set those aside, and look at the duration of paths where the players decided to restart a new game, the mediam duration of games is 114 seconds, approximately the same as finished path duration of 107 seconds.\n",
    "\n",
    "The kurtosis in finished games is much higher than in unfinished restart games (3973 vs 45), meaning that finished games are more heavy tailed. We can in fact see very little players restart after 3000 seconds, whereas many finished games go beyond 6000. "
   ]
  },
  {
   "cell_type": "markdown",
   "metadata": {},
   "source": [
    "## 3.b Path duration and path length vs. user rating\n",
    "\n",
    "Let's first look at path duration distribution over different user rating. We found similar results for finished and unfinished paths, so let's have a look at **finished ones** for example."
   ]
  },
  {
   "cell_type": "code",
   "execution_count": null,
   "metadata": {},
   "outputs": [],
   "source": [
    "# change metric to 'path_length' for path length \n",
    "metric = 'durationInSec'\n",
    "\n",
    "df_finished_strNaN = df_finished.copy()\n",
    "df_finished_strNaN['rating'] = df_finished_strNaN['rating'].fillna('NaN')\n",
    "\n",
    "plt.figure(figsize=(10, 6))\n",
    "blues_palette = sn.color_palette(\"Blues\", n_colors=6)\n",
    "\n",
    "means, stds = [], []\n",
    "ax1 = plt.subplot(231)\n",
    "sn.histplot(df_finished[df_finished_strNaN['rating']=='NaN'], x=metric, bins=50, log_scale=True, color=blues_palette[0]) \n",
    "mean = df_finished[df_finished_strNaN['rating']=='NaN'][metric].mean()\n",
    "plt.axvline(mean, color='red', label=f'Mean: {mean:.2f}', linestyle='--')\n",
    "plt.yscale('log')\n",
    "plt.xlabel('Duration in seconds')\n",
    "plt.title('NaN')\n",
    "plt.legend()\n",
    "\n",
    "for i in range(1, 6):\n",
    "    plt.subplot(231+i, sharex = ax1, sharey=ax1)\n",
    "    sn.histplot(df_finished[df_finished_strNaN['rating']==i], x=metric, bins=50, log_scale=True, color=blues_palette[i])\n",
    "    mean = df_finished[df_finished_strNaN['rating']==i][metric].mean()\n",
    "    plt.axvline(mean, color=\"red\", label=f'Mean: {mean:.2f}', linestyle='--')\n",
    "    plt.yscale('log')\n",
    "    plt.title(i)\n",
    "    plt.xlabel('Duration in seconds')\n",
    "    plt.legend()\n",
    "\n",
    "plt.tight_layout()\n",
    "plt.suptitle('Path duration by rating of the finished paths', y=1.04)\n",
    "plt.show()"
   ]
  },
  {
   "cell_type": "markdown",
   "metadata": {},
   "source": [
    "<div class=\"alert alert-block alert-success\">\n",
    "\n",
    "The distributions of the path duration by rating are nice log-normal distributions! This means we can use the mean (location) and standard deviation (scale) to characterise them. Indeed, except for NaN, there is a steady increase of the path duration mean when rating goes up."
   ]
  },
  {
   "cell_type": "markdown",
   "metadata": {},
   "source": [
    "<div class=\"alert alert-block alert-info\">\n",
    "\n",
    "Let's now look at whether path duration is correlated with path length:"
   ]
  },
  {
   "cell_type": "code",
   "execution_count": null,
   "metadata": {},
   "outputs": [],
   "source": [
    "df_path_stats_duration = pd.DataFrame()\n",
    "df_path_stats_duration['mean'] = df_finished.groupby('rating', dropna=False)['durationInSec'].mean()\n",
    "df_path_stats_duration['std'] = df_finished.groupby('rating', dropna=False)['durationInSec'].std()\n",
    "df_path_stats_duration['sem'] = df_finished.groupby('rating', dropna=False)['durationInSec'].sem()\n",
    "\n",
    "df_path_stats_length = pd.DataFrame()\n",
    "df_path_stats_length['mean'] = df_finished.groupby('rating', dropna=False)['path_length'].mean()\n",
    "df_path_stats_length['std'] = df_finished.groupby('rating', dropna=False)['path_length'].std()\n",
    "df_path_stats_length['sem'] = df_finished.groupby('rating', dropna=False)['path_length'].sem()\n",
    "\n",
    "df_path_stats = pd.concat([df_path_stats_duration, df_path_stats_length], axis=1, keys=['duration', 'length'])\n",
    "\n",
    "df_path_stats"
   ]
  },
  {
   "cell_type": "code",
   "execution_count": null,
   "metadata": {},
   "outputs": [],
   "source": [
    "order = ['NaN', '1.0', '2.0', '3.0', '4.0', '5.0']\n",
    "\n",
    "plt.figure(figsize=(10, 4))\n",
    "plt.subplot(121)\n",
    "sn.barplot(df_finished_strNaN, x='rating', y='durationInSec', order=order, errorbar=('ci', 95), color='#0b3880')\n",
    "plt.xlabel('Rating')\n",
    "plt.ylabel('Duration in seconds')\n",
    "plt.subplot(122)\n",
    "sn.barplot(df_finished_strNaN, x='rating', y='path_length', order=order, errorbar=('ci', 95), color='#0b3880')\n",
    "plt.suptitle('Duration and Path Length by Rating of the Finished Paths')\n",
    "plt.xlabel('Rating')\n",
    "plt.ylabel('Path Length')\n",
    "plt.show()"
   ]
  },
  {
   "cell_type": "markdown",
   "metadata": {},
   "source": [
    "<div class=\"alert alert-block alert-success\">\n",
    "\n",
    "There is a clear correlation between how long players took or how many clicks they made with the experienced difficulty rating. This means we can easily combine the two into a difficulty measure as they agree with each other on what players considered difficult. \n",
    "\n",
    "Let's now loow at back-clicks: could it indicate whether players had a hard time?"
   ]
  },
  {
   "cell_type": "markdown",
   "metadata": {},
   "source": [
    "## 3.c Back-clicks\n",
    "<div class=\"alert alert-block alert-info\">\n",
    "\n",
    "The number of back-clicks made in a game may indicate players getting stuck.\n",
    "Lets investigate how this metric is related with player ratings, and if they are more prominent in certain categories:\n",
    "\n",
    "</div>"
   ]
  },
  {
   "cell_type": "code",
   "execution_count": null,
   "metadata": {},
   "outputs": [],
   "source": [
    "# Define color palette with NaN explicitly included\n",
    "blues_palette = sn.color_palette(\"Blues\", n_colors=6)\n",
    "rating_order_plot1 = ['1.0', '2.0', '3.0', '4.0', '5.0', 'NaN']  # For Plot 1\n",
    "rating_order_plot2 = ['NaN', '1.0', '2.0', '3.0', '4.0', '5.0']  # For Plot 2 (stacked bars)\n",
    "# Map ratings to consistent colors\n",
    "rating_colors = {rating: blues_palette[i] for i, rating in enumerate(rating_order_plot2)}\n",
    "\n",
    "# Function to extract categories where back-clicks occurred using Transition Category Path\n",
    "def extract_back_click_categories(category_path):\n",
    "    back_click_categories = []\n",
    "    for i, category in enumerate(category_path):\n",
    "        if category == '<' and i > 0:  # Detect back-click and ensure valid index\n",
    "            back_click_categories.append(category_path[i - 1])  # Use preceding category\n",
    "    return back_click_categories\n",
    "\n",
    "# Apply the function to identify back-click categories\n",
    "df_finished['back_click_categories'] = df_finished['Transition Category Path'].apply(extract_back_click_categories)\n",
    "\n",
    "# Explode back-click categories for analysis\n",
    "df_back_clicks = df_finished.explode('back_click_categories').dropna(subset=['back_click_categories'])\n",
    "df_back_clicks['rating'] = df_back_clicks['rating'].fillna('NaN')\n",
    "df_back_clicks['rating'] = df_back_clicks['rating'].astype(str)\n",
    "\n",
    "# Count total back-click occurrences grouped by category and rating\n",
    "category_rating_back_click_counts = (df_back_clicks.groupby(['back_click_categories', 'rating']).size().reset_index(name='back_click_count'))\n",
    "\n",
    "# Count total occurrences of each category in Category Path\n",
    "category_total_occurrences = df_finished['Category Path'].explode().value_counts().reset_index()\n",
    "category_total_occurrences.columns = ['Category', 'total_occurrences']\n",
    "\n",
    "# Merge total occurrences into back-click data\n",
    "category_rating_back_click_counts = pd.merge(category_rating_back_click_counts,category_total_occurrences.rename(columns={'Category': 'back_click_categories'}),on='back_click_categories',how='left')\n",
    "\n",
    "# Normalize back-click counts by total occurrences\n",
    "category_rating_back_click_counts['normalized_back_clicks'] = (category_rating_back_click_counts['back_click_count']/ category_rating_back_click_counts['total_occurrences'])\n",
    "# Reorder both columns (ratings) and rows (categories)\n",
    "df_pivot = category_rating_back_click_counts.pivot(index='back_click_categories', columns='rating', values='normalized_back_clicks').fillna(0)\n",
    "df_pivot = df_pivot[rating_order_plot2].loc[df_pivot[rating_order_plot2].sum(axis=1).sort_values(ascending=False).index]\n",
    "\n",
    "fig, ax = plt.subplots(1, 2, figsize=(12, 6), sharey=False)\n",
    "# ---- Plot 1: Back-Clicks per Rating ----\n",
    "back_per_rating = (\n",
    "    df_finished.groupby(\"rating\", dropna=False)\n",
    "    .agg(mean_back_clicks=(\"back_clicks\", \"mean\"), mean_path_length=(\"path_length\", \"mean\"))\n",
    "    .reset_index()\n",
    ")\n",
    "back_per_rating['rating'] = back_per_rating['rating'].fillna('NaN')\n",
    "back_per_rating['normalized_back_clicks'] = back_per_rating[\"mean_back_clicks\"] / back_per_rating[\"mean_path_length\"]\n",
    "\n",
    "# Plot 1 with shared colors\n",
    "# TODO : add eroor bars\n",
    "sn.barplot(data=back_per_rating,x=\"rating\",hue=\"rating\",y=\"normalized_back_clicks\",palette=[rating_colors[r] for r in rating_order_plot1],ax=ax[0])\n",
    "ax[0].set_title(\"Distribution of Back-Clicks per Rating\")\n",
    "ax[0].set_xlabel(\"Rating\")\n",
    "ax[0].set_ylabel(\"Mean Back-Clicks number\")\n",
    "\n",
    "# ---- Plot 2: Stacked bar plot for back-clicks by category and rating ----\n",
    "bottom = pd.Series([0] * len(df_pivot), index=df_pivot.index)\n",
    "for rating in rating_order_plot2:\n",
    "    ax[1].bar(df_pivot.index,df_pivot[rating],bottom=bottom,label=f'Rating {rating}',color=rating_colors[rating])\n",
    "    bottom += df_pivot[rating]\n",
    "\n",
    "ax[1].set_title(\"Normalized Back-Clicks by Category and Rating\")\n",
    "ax[1].set_xlabel(\"Category\")\n",
    "ax[1].set_ylabel(\"Normalized Back-Clicks\")\n",
    "ax[1].tick_params(axis='x', rotation=90)\n",
    "\n",
    "# ---- Shared Legend ----\n",
    "handles = [plt.Rectangle((0, 0), 1, 1, color=rating_colors[rating]) for rating in rating_order_plot1]\n",
    "ax[0].legend(handles, [f\"{r}\" for r in rating_order_plot1], title=\"Rating\", loc='upper left')\n",
    "plt.tight_layout()\n",
    "plt.show()"
   ]
  },
  {
   "cell_type": "markdown",
   "metadata": {},
   "source": [
    "TO ADAPT A LITTLE WITH NEW PLOT\n",
    "<div class=\"alert alert-block alert-success\">\n",
    "\n",
    "The back-clicks are correlated with the difficulty rating, which is expected as the more difficult a game is, the more likely players are to get stuck and go back.\n",
    "The category with the most back-clicks is \"Art\", and the one with the least is \"Countries\". This is interesting as \"Countries\" is also one of the most visited category, which might indicate that players are more familiar with it and therefore less likely to get stuck.\n",
    "Additionaly, The distribution of rating inside each category seams quite similar.\n",
    "\n",
    "</div>"
   ]
  },
  {
   "cell_type": "markdown",
   "metadata": {},
   "source": [
    "## 3.d Difficulty measure between voyage and non-voyage games"
   ]
  },
  {
   "cell_type": "markdown",
   "metadata": {},
   "source": [
    "<div class=\"alert alert-block alert-info\">\n",
    "\n",
    "Here, we examine how difficulty metrics differ between  <span style=\"background: linear-gradient(to right, #3458d6, #34d634); -webkit-background-clip: text; color: transparent;\">Wikispeedia Voyage</span> and non-Voyage paths, as well as between World Regions and non-World Regions categories.\n",
    "\n",
    "</div>"
   ]
  },
  {
   "cell_type": "code",
   "execution_count": null,
   "metadata": {},
   "outputs": [],
   "source": [
    "plot_difficulties_voyage(df_finished, df_unfinished, config.PALETTE_CATEGORY_DICT_COLORS)"
   ]
  },
  {
   "cell_type": "code",
   "execution_count": null,
   "metadata": {},
   "outputs": [],
   "source": [
    "df_finished.groupby([\"Wikispeedia_Voyage\"])[\"back_clicks\"].mean().reset_index()"
   ]
  },
  {
   "cell_type": "markdown",
   "metadata": {},
   "source": [
    "<div class=\"alert alert-block alert-success\">\n",
    "\n",
    " <span style=\"background: linear-gradient(to right, #3458d6, #34d634); -webkit-background-clip: text; color: transparent;\">Wikispeedia Voyage</span> paths tend to be longer than non-voyage paths, with more back-clicks and a slightly higher rating. However, the percentage of completed games is higher for  <span style=\"background: linear-gradient(to right, #3458d6, #34d634); -webkit-background-clip: text; color: transparent;\">Voyages</span> compared to Non-Voyages.\n",
    "\n",
    "While World Regions articles are relatively few in number, they are highly prevalent within the network, often serving as key intermediate steps in paths. Although the <span style=\"background: linear-gradient(to right, #3458d6, #34d634); -webkit-background-clip: text; color: transparent;\"> Voyage</span> paths seem effective, they tend to be slower and less efficient overall. Is the popularity of these articles solely due to this? Could it be that users intentionally choose these articles? Further investigation is needed to explore this.\n",
    "\n",
    "</div>"
   ]
  },
  {
   "cell_type": "markdown",
   "metadata": {},
   "source": [
    "## 3.2.a Transitions between categories (Networks)"
   ]
  },
  {
   "cell_type": "markdown",
   "metadata": {},
   "source": [
    "<div class=\"alert alert-block alert-info\">\n",
    "\n",
    "Here, we create a network *(directed graph)* to represent user transitions between different categories of articles.\n",
    "\n",
    "- **Nodes:** Each node represents a group of articles belonging to a specific category, with each article assigned to his main category. \n",
    "- **Edges:** Each edge represents a transition from one article category to another, indicating the flow of user activity.\n",
    "\n",
    "In this visualization, we exclude transitions within the same category (self-loops), as these are already represented in the transition matrix shown earlier (3.3.b). The focus here is on how users navigate between different categories.\n",
    "\n",
    "The node positions are determined using a **force-directed algorithm**:\n",
    "\n",
    "- Nodes repel each other like charged particles, preventing overlaps.\n",
    "- Edges act like springs, pulling connected nodes closer to reflect their relationships.\n",
    "\n",
    "----------\n",
    "\n",
    "</div>\n"
   ]
  },
  {
   "cell_type": "markdown",
   "metadata": {},
   "source": [
    "<div class=\"alert alert-block alert-info\">\n",
    "\n",
    "In the cell below, \n",
    "- we recursively replace each back click **(<)** with the article that was visited prior to it. This ensures that we accurately reconstruct the original navigation path and correctly identify the corresponding category for each step \n",
    "- and we use the merged df of paths as in this section we will first only analyse how users make moves between categories of articles, independ of their succes on the research.\n",
    "\n",
    "</div>"
   ]
  },
  {
   "cell_type": "markdown",
   "metadata": {},
   "source": [
    "### User networks"
   ]
  },
  {
   "cell_type": "code",
   "execution_count": null,
   "metadata": {},
   "outputs": [],
   "source": [
    "df_merged_no_backclick = df_merged['path'].apply(replace_back_clicks)\n",
    "G_user = build_network_from_paths(df_merged_no_backclick, df_categories, include_self_loops=False)\n",
    "plot_network(G_user, df_categories,palette=config.PALETTE_CATEGORY_DICT_COLORS, title=\"Network of transitions whithin Categoires\", show_edge_labels=False, node_abbreviations=config.CATEGORY_ABBREVIATIONS)"
   ]
  },
  {
   "cell_type": "markdown",
   "metadata": {},
   "source": [
    "### Structure wikipedia network"
   ]
  },
  {
   "cell_type": "code",
   "execution_count": 36,
   "metadata": {},
   "outputs": [],
   "source": [
    "markov_transitions_cat = get_transition_probabilities(df_article_names, parser, backclicks=False, normalise=False)\n",
    "markov_transitions_cat = pd.DataFrame(markov_transitions_cat)\n",
    "markov_transitions_cat.index = df_article_names\n",
    "markov_transitions_cat.columns = df_article_names"
   ]
  },
  {
   "cell_type": "code",
   "execution_count": null,
   "metadata": {},
   "outputs": [],
   "source": [
    "G_structure = build_network_from_matrix(markov_transitions_cat,category_map,include_self_loops=False)\n",
    "plot_network(G_structure, df_categories,palette=config.PALETTE_CATEGORY_DICT_COLORS, title=\"Network of transitions whithin Categoires\", show_edge_labels=False, node_abbreviations=config.CATEGORY_ABBREVIATIONS)"
   ]
  },
  {
   "cell_type": "markdown",
   "metadata": {},
   "source": [
    "## 3.3 Comparison with optimal paths"
   ]
  },
  {
   "cell_type": "markdown",
   "metadata": {},
   "source": [
    "<div class=\"alert alert-block alert-info\">\n",
    "\n",
    "Let's define the optimal path as the shortest path that can be taken. This assumption is coherent since the goal of the game is to reach the target while keeping the number of clicks as low as possible.\n",
    "\n",
    "We can analyze whether users’ choice of categories aligns with the categories in the optimal path to determine if passing through 'World Regions' is an effective strategy for reaching the target.\n",
    "\n",
    "To achieve this, we first need to compute the optimal path by constructing a directed graph where edges represent connections between articles. Here we take all the shortest possible paths per each combinaton of source-target present in the users' games. \n",
    "\n",
    "</div>"
   ]
  },
  {
   "cell_type": "code",
   "execution_count": 29,
   "metadata": {},
   "outputs": [],
   "source": [
    "#optimal_paths = compute_optimal_paths(df_links, df_shortest_path, df_finished, df_unfinished)\n",
    "\n",
    "# Read precomputed optimal paths\n",
    "optimal_paths = pd.read_pickle('data/paths-and-graph/optimal_paths.pkl')"
   ]
  },
  {
   "cell_type": "markdown",
   "metadata": {},
   "source": [
    "<div class=\"alert alert-block alert-success\">\n",
    "\n",
    "Some combination of source and target have many possible shortest paths!\n",
    "\n",
    "</div>"
   ]
  },
  {
   "cell_type": "code",
   "execution_count": null,
   "metadata": {},
   "outputs": [],
   "source": [
    "# Count the number of shortest paths for each (source, target) combination\n",
    "path_counts = optimal_paths.groupby(['source', 'target']).size().reset_index(name='path_count')\n",
    "path_counts.sort_values(by='path_count')"
   ]
  },
  {
   "cell_type": "code",
   "execution_count": 31,
   "metadata": {},
   "outputs": [],
   "source": [
    "# Map the paths artciles to their categories\n",
    "optimal_paths['Category Path'] = optimal_paths['path'].apply(lambda path: map_path_to_categories(path, category_map))\n",
    "\n",
    "# Get users paths mapped to categories and remove backclicks\n",
    "users_finished, users_unfinished = users_paths(df_finished, df_unfinished, category_map)\n",
    "\n",
    "# Filter optimal paths to match source-target pairs in users paths and remove path where target available in source\n",
    "optimal_fin, users_finished, optimal_unf, users_unfinished = filter_pairs(optimal_paths, users_finished, users_unfinished)"
   ]
  },
  {
   "cell_type": "markdown",
   "metadata": {},
   "source": [
    "<div class=\"alert alert-block alert-info\">\n",
    "\n",
    "To compare user paths with optimal paths, we calculate the percentage of times each category is visited at each step for both datasets and each source-target association.\n",
    "\n",
    "1. We can average the percentages by groupping them by source-target category pairs (e.g., source in 'Art' and target in 'Music'), then average within these groups to balance category representation. We can then visualize the categories taken at each of the first 10 steps.\n",
    "\n",
    "2. To examine the difference between user and optimal paths in general trends, we average these percentages across steps for each category. Next, we compute the difference between the optimal and user paths for each source-target association and category. We then average these differences by groupping them by source-target category pairs.\n",
    "\n",
    "</div>"
   ]
  },
  {
   "cell_type": "code",
   "execution_count": 32,
   "metadata": {},
   "outputs": [],
   "source": [
    "S_T_opt_fin_percentages, S_T_fin_percentages, S_T_opt_unf_percentages, S_T_unf_percentages = calculate_step_percentages(optimal_fin, users_finished, optimal_unf, users_unfinished)\n",
    "\n",
    "dataframes = [\n",
    "    (S_T_opt_fin_percentages, 'opt'),\n",
    "    (S_T_fin_percentages, 'fin'),\n",
    "    (S_T_opt_unf_percentages, 'opt'),\n",
    "    (S_T_unf_percentages, 'unf')\n",
    "]\n",
    "\n",
    "category_fin_means, category_unf_means=process_and_calculate_differences(dataframes, category_map, column_names=['source', 'target', 'categories'])"
   ]
  },
  {
   "cell_type": "code",
   "execution_count": null,
   "metadata": {},
   "outputs": [],
   "source": [
    "#TODO: warning\n",
    "S_T_fin_percentages_norm_steps, S_T_opt_fin_percentages_norm_steps = process_percentages(S_T_opt_fin_percentages, S_T_fin_percentages, category_map, max_step=10)"
   ]
  },
  {
   "cell_type": "markdown",
   "metadata": {},
   "source": [
    "<div class=\"alert alert-block alert-info\">\n",
    "\n",
    "This analysis applies to both finished and unfinished user paths. However, for easier visualization, we plot only finished paths at each step. The observed differences confirm that trends remain similar across both path types.\n",
    "\n",
    "</div>"
   ]
  },
  {
   "cell_type": "code",
   "execution_count": null,
   "metadata": {},
   "outputs": [],
   "source": [
    "plot_position_line(S_T_fin_percentages_norm_steps, S_T_opt_fin_percentages_norm_steps, category_fin_means, category_unf_means, config.PALETTE_CATEGORY_DICT_COLORS)"
   ]
  },
  {
   "cell_type": "markdown",
   "metadata": {},
   "source": [
    "<div class=\"alert alert-block alert-success\">\n",
    "\n",
    "In early path positions, the category 'World Regions' appears most frequently and consistently decreases over subsequent steps, aligning with other categories. This trend holds true for both optimal and user paths.\n",
    "\n",
    "Note that, optimal paths are often very short. After the 5th step, only a few paths remain, which predominantly include categories like 'Citizenship', causing their percentages to increase sharply at the end.\n",
    "\n",
    "The plot clearly shows that users pass through 'World Regions' less often than optimal paths suggest. This finding was surprising, as we intuitively expected humans to use more  <span style=\"background: linear-gradient(to right, #3458d6, #34d634); -webkit-background-clip: text; color: transparent;\">Wikispeedia Voyages</span> than necessary. However, the opposite is true. Users might benefit from using this category more, likely because, as shown earlier, it is highly interconnected with other categories.\n",
    "\n",
    "</div>"
   ]
  },
  {
   "cell_type": "markdown",
   "metadata": {},
   "source": [
    "## 3.4 User behaviour vs. random network transitions\n",
    "\n",
    "<div class=\"alert alert-block alert-info\">\n",
    "\n",
    "There seems to be some inherent bias of the categories just by the structure of the Wikispeedia network. Indeed, it seems much more likely to end up in World Regions or Science just because the categories are much bigger and more links lead to it. Maybe there is a way of disentangling the user behaviour from the network structure? If we consider that users only click on links randomly (i.e. a random walk in the Wikispeedia Network), we can capture the effect of the network structure. Indeed, if taking a random walk always leads you to World Regions, then maybe the users do not actually choose to go there but the network structure just makes it very likely that they end there anyway.\n",
    "\n",
    "To model this, Markov chains come in handy: we can model the transition probabilities from one article A to an article B just by counting the number of links to article B in article A, and dividing by the number of links there are on the page in total. While this does not eliminate all bias (for instance, links further up in the page may be clicked more), this Markov chain still gives valuable insight about the network structure.\n",
    "\n",
    "To get an equivalent transition matrix for users, we can simply count the transitions users actually made at each step. To compare the two obtained probability distributions, we will use the Kullback–Leibler ($KL$) divergence, a type of statistical distance measuring how much a model probability distribution $Q$ (the random probabilities) differ from a probability distribution $P$ (our users' transitions). The KL-divergence is defined as\n",
    "\n",
    "$$ D_{KL}(P || Q)_{ij} = P_{ij} \\log \\frac{P_{ij}}{Q_{ij}} $$\n",
    "\n",
    "\n",
    "It is 0 when $P$ and $Q$ are exactly the same or when the user transition probability is 0. A higher value indicates a stronger divergence: if the divergence is high, users choose a certain transition more than the random transitions in the network would suggest. That is, the users actually choose this transition and it is not only due to the network structure.\n",
    "</div>"
   ]
  },
  {
   "cell_type": "code",
   "execution_count": null,
   "metadata": {},
   "outputs": [],
   "source": [
    "df_paths = pd.concat([df_finished[['path', 'path_length']], df_unfinished[['path', 'path_length']]])\n",
    "\n",
    "markov_transitions = get_transition_probabilities(df_article_names, parser, backclicks=False)\n",
    "user_transitions = get_nth_transition_matrix(df_finished, df_article_names, 1)\n",
    "\n",
    "print(f'Non-zero values of random transitions: {np.count_nonzero(markov_transitions)}')\n",
    "print(f'Non-zero values of user transitions: {np.count_nonzero(user_transitions.to_numpy())}')"
   ]
  },
  {
   "cell_type": "markdown",
   "metadata": {},
   "source": [
    "<div class=\"alert alert-block alert-info\">\n",
    "\n",
    "First, let's see whether the obtained transition matrix makes sense with what we have observed previously. Let's have a look at which articles we seem to converge naturally to when taking a random walk in the Wikispeedia network.\n",
    "\n",
    "The transition matrix's $P$ left eigenvector with eigenvalue $1$ (i.e. $x$ such that $xP=x$) is called the steady-state of the system. Let's call the normalised vector $x = (x_1, x_2, \\dots, x_N)$, where the sum of all $x_i$ is $1$. After $\\infty$ iterations, starting from whatever article, the probability distribution of the end article is given by $x$. \n",
    "\n",
    "**Example**: For 3 articles, let's say that we have $x=(0.2, 0.3, 0.5)$. Then, when starting from any of the articles and taking infinitely many steps, there is probability 0.2 to be in article 1, probability 0.3 to be in article 2 and probability 0.5 to be in article 3.\n",
    "\n",
    "</div>"
   ]
  },
  {
   "cell_type": "code",
   "execution_count": null,
   "metadata": {},
   "outputs": [],
   "source": [
    "# Markov steady-state with back-clicks\n",
    "markov_transitions = get_transition_probabilities(df_article_names, parser, backclicks=True)\n",
    "ssb = compute_steady_state(markov_transitions, df_article_names, backclicks=True)\n",
    "ssb.sort_values(by='steady_state_proportion', ascending=False).head(5)"
   ]
  },
  {
   "cell_type": "code",
   "execution_count": null,
   "metadata": {},
   "outputs": [],
   "source": [
    "# Markov steady-state with back-clicks\n",
    "markov_transitions = get_transition_probabilities(df_article_names, parser, backclicks=False)\n",
    "ss = compute_steady_state(markov_transitions, df_article_names)\n",
    "ss.sort_values(by='steady_state_proportion', ascending=False).head(20)"
   ]
  },
  {
   "cell_type": "markdown",
   "metadata": {},
   "source": [
    "<div class=\"alert alert-block alert-info\">\n",
    "\n",
    "We considered 2 scenarios: one with a \"back-click article\", which appears once on every page and therefore has a non-null probability of being chosen. The transition from this \"back-click article\" leads uniformly to all articles, as we make the assumption that every article is equally likely to be reached from a back-click. While this is certainly not true, it is an easy hypothesis to make in a system that is agnostic of player behaviours. The other scenario removes the possibility of using backclicks.\n",
    "\n",
    "To find the probabilities to be in a certain article in the steady state, we can look at the normalised values of the eigenvector. In the first scenario, we see that with our assumptions, back-clicks are very favoured by the network (more than $2\\%$ probability to back-click). This makes sense, as it is present on every article in Wikispeedia. \n",
    "\n",
    "In the second scenario, United States is the most likely article to be in ($1.35\\%$ probability), followed mainly by other countries. It looks like countries are naturally favoured by the network structure. This is interesting as it shows that there is definitely a bias towards World Regions (particularly large countries) in Wikispeedia articles: they have more links and are more interconnected than other articles. This is a first hint that World Regions are intertwined with the human mind, as humans wrote the articles in questions and made them particularly rich and link-dense.\n",
    "\n",
    "</div>"
   ]
  },
  {
   "cell_type": "markdown",
   "metadata": {},
   "source": [
    "<div class=\"alert alert-block alert-success\">\n",
    "\n",
    "To answer our initial question (whether users choose World Region articles more than random) we need to compare the random transitions with the user transitions through the $KL$ divergence introduced above.\n",
    "</div>"
   ]
  },
  {
   "cell_type": "code",
   "execution_count": null,
   "metadata": {},
   "outputs": [],
   "source": [
    "KL = np.where((user_transitions > 0) & (markov_transitions > 0), user_transitions * np.log(user_transitions / markov_transitions), 0)\n",
    "KL_df = pd.DataFrame(KL, columns=user_transitions.columns, index=user_transitions.index)\n",
    "\n",
    "mean_KL = pd.DataFrame()\n",
    "mean_KL['mean'] = KL_df.mean(axis=0)\n",
    "mean_KL['CI'] = 1.96 * KL_df.sem(axis=0)\n",
    "mean_KL.sort_values(by='mean', ascending=False).head(10)"
   ]
  },
  {
   "cell_type": "code",
   "execution_count": null,
   "metadata": {},
   "outputs": [],
   "source": [
    "sn.heatmap(KL_df.iloc[4200:4300, 4200:4300], cmap='BuPu', cbar=True)\n",
    "plt.ylabel('Pre-Transition Article')\n",
    "plt.ylabel('Post-Transition Article')\n",
    "plt.title(r'$KL$ Divergence for a Subset of Articles')\n",
    "plt.show()"
   ]
  },
  {
   "cell_type": "markdown",
   "metadata": {},
   "source": [
    "<div class=\"alert alert-block alert-info\">\n",
    "\n",
    "It seems that even when comparing the random transitions (that already favour World Region articles) with the user transitions, there is a consistent bias towards World Region articles. This shows that users use certain articles more than the already favourable random transitions would suggest. This could have multiple reasons: it could be because users are more comfortable with the articles' topic, but it could also be as part of the users' strategy, if users noticed that these articles had promising connectivity.\n",
    "\n",
    "</div>"
   ]
  },
  {
   "cell_type": "code",
   "execution_count": 40,
   "metadata": {},
   "outputs": [],
   "source": [
    "%%capture\n",
    "mean_KL_step = get_step_divergences(df_article_names, parser, df_paths, backclicks=False)"
   ]
  },
  {
   "cell_type": "code",
   "execution_count": null,
   "metadata": {},
   "outputs": [],
   "source": [
    "PALETTE_ARTICLE_DICT_COLORS = {}\n",
    "for _, row in df_categories.iterrows():\n",
    "    article = row['article']\n",
    "    category = row['level_1']\n",
    "    PALETTE_ARTICLE_DICT_COLORS[article] = config.PALETTE_CATEGORY_DICT.get(category, '#808080')\n",
    "\n",
    "PALETTE_ARTICLE_DICT_COLORS['<'] = '#000000'\n",
    "\n",
    "main_mean_div = mean_KL_step.iloc[:15]\n",
    "fig_art = plot_article_step_divergence(main_mean_div, PALETTE_ARTICLE_DICT_COLORS)\n",
    "fig_art.show()"
   ]
  },
  {
   "cell_type": "code",
   "execution_count": 42,
   "metadata": {},
   "outputs": [],
   "source": [
    "%%capture\n",
    "KL_cat_df = get_step_divergences(df_article_names, parser, df_paths, df_categories=df_categories, backclicks=False)"
   ]
  },
  {
   "cell_type": "code",
   "execution_count": null,
   "metadata": {},
   "outputs": [],
   "source": [
    "backclick_palette = config.PALETTE_CATEGORY_DICT_COLORS\n",
    "backclick_palette['<'] = '#000000'\n",
    "fig_cat = plot_category_step_divergence(KL_cat_df, backclick_palette)\n",
    "fig_cat.show()"
   ]
  },
  {
   "cell_type": "markdown",
   "metadata": {},
   "source": [
    "<div class=\"alert alert-block alert-success\">\n",
    "\n",
    "We can take two main conclusions from these figures:\n",
    "1. In the first few steps, World Region articles seem to be chosen by users much more than random. The Divergence Value is statistically significantly higher for World Regions than it is for all the other categories.\n",
    "2. Certain articles in the World Region category have a much higher impact than others. Looking at the scales of mean divergence ($10^{-1}$ for United States vs $10^{-4}$ for aggregated World Regions), it seems that a few articles contribute much more than others to World Regions being so popular.\n",
    "\n",
    "</div>"
   ]
  },
  {
   "cell_type": "markdown",
   "metadata": {},
   "source": [
    "### Categories normalised by transition probabilities"
   ]
  },
  {
   "cell_type": "code",
   "execution_count": null,
   "metadata": {},
   "outputs": [],
   "source": [
    "# shows that World Region articles are highly connected, but we can remove this plot if we are sure that we already show this elsewhere.\n",
    "\n",
    "from collections import Counter\n",
    "from src.utils.helpers import map_path_to_categories\n",
    "\n",
    "markov_transitions = get_transition_probabilities(df_article_names, parser, backclicks=False, normalise=False)\n",
    "article_to_category = dict(zip(df_categories['article'], df_categories['level_1']))\n",
    "mapped_categories = map_path_to_categories(df_article_names, article_to_category)\n",
    "transitions_per_category = pd.DataFrame({'category': mapped_categories, 'transition': markov_transitions.sum(axis=1)})\n",
    "transitions_per_category=transitions_per_category.groupby('category', as_index=False).sum()\n",
    "category_counts = Counter(mapped_categories)\n",
    "category_counts_df = pd.DataFrame(category_counts.items(), columns=['category', 'count'])\n",
    "\n",
    "result = pd.merge(category_counts_df , transitions_per_category, on='category')\n",
    "result['ratio'] =  result['transition'] / result['count']\n",
    "result = result.sort_values(by='ratio')\n",
    "\n",
    "sn.barplot(data=result, x='category', y='ratio', hue='category', legend=None, palette='viridis')\n",
    "\n",
    "# Customize the plot\n",
    "plt.xlabel('Category')\n",
    "plt.ylabel('Transitions / # Articles in Category')\n",
    "plt.title('Ratio of Count to Transitions by Category')\n",
    "plt.xticks(rotation=90) \n",
    "plt.show()"
   ]
  },
  {
   "cell_type": "markdown",
   "metadata": {},
   "source": [
    "### Page structure\n",
    "\n",
    "<div class=\"alert alert-block alert-info\">\n",
    "\n",
    "To relax the assumption made for Markov networks that every link in an article is equally likely to be clicked, we can have a look at how link position influences whether links are clicked or not. If we find for instance that only the first few links are generally clicked, the uniform link choice assumption may be false.\n",
    "\n",
    "</div>"
   ]
  },
  {
   "cell_type": "code",
   "execution_count": null,
   "metadata": {},
   "outputs": [],
   "source": [
    "# where are link to a certain category in a page ? TODO: Takes first link or the mean?\n",
    "link_per_cat = find_category_position_articles(parser, df_categories, config.CATEGORIES_OTHERS)\n",
    "df = pd.DataFrame(link_per_cat)\n",
    "df.describe()"
   ]
  },
  {
   "cell_type": "code",
   "execution_count": null,
   "metadata": {},
   "outputs": [],
   "source": [
    "# Where do people click on an article page ?\n",
    "df_merged = location_click_on_page(df_merged, parser)"
   ]
  },
  {
   "cell_type": "code",
   "execution_count": null,
   "metadata": {},
   "outputs": [],
   "source": [
    "# put that in a function\n",
    "\n",
    "df_merged[\"category\"] = \"All\"\n",
    "df_merged[\"Legend :\"] = \"Clicked Link Position in Paths\"\n",
    "df_melted = pd.melt(df, var_name='category', value_name='position').dropna()\n",
    "df_melted[\"Legend :\"] = \"Article Link Position in Articles\"\n",
    "df_comparison_path_category = pd.concat([df_merged[[\"category\", \"position\", \"Legend :\"]], df_melted])\n",
    "\n",
    "fig = px.box(df_comparison_path_category, x=\"category\", y=\"position\", color=\"Legend :\", title=\"Position of the clicked link in articles compared to position of each category in articles\")\n",
    "fig.update_xaxes(tickangle=45)\n",
    "\n",
    "fig.update_layout(\n",
    "    autosize=False,\n",
    "    width=1500,\n",
    "    height=500,\n",
    "    boxgroupgap=0.2, # update\n",
    "    boxgap=0)\n",
    "fig.show()"
   ]
  },
  {
   "cell_type": "markdown",
   "metadata": {},
   "source": [
    "## 4.2. Evolution of similarity on paths\n",
    "\n",
    "<div class=\"alert alert-block alert-info\">\n",
    "\n",
    "We can get an idea of how similar one article is to another by comparing the cosine similarity of the article name embeddings. While this is not a precise method (for individual paths, the similarity may or may not make intuitive sense), it seems that the aggregated similarity over all paths does give significant results. In the following we analyse the mean similarity between one article and the next in user paths for both Voyages and Other paths. For this, we use both BERT and BGEM3 embeddings, to validate our results with at least two different models. \n",
    "\n",
    "</div>"
   ]
  },
  {
   "cell_type": "code",
   "execution_count": 51,
   "metadata": {},
   "outputs": [],
   "source": [
    "bert_similarity = read_similartiy_matrix(model='bert')\n",
    "BGEM3_similarity = read_similartiy_matrix(model='BGEM3')\n",
    "\n",
    "df_paths = pd.concat([df_finished[['path', 'Wikispeedia_Voyage']], df_unfinished[['path', 'Wikispeedia_Voyage']]])\n",
    "\n",
    "bert_similarities = [\n",
    "    get_path_similarities(df_paths[df_paths['Wikispeedia_Voyage']==True], df_sm=bert_similarity),\n",
    "    get_path_similarities(df_paths[df_paths['Wikispeedia_Voyage']==False], df_sm=bert_similarity)\n",
    "]\n",
    "\n",
    "BGEM3_similarities = [\n",
    "    get_path_similarities(df_paths[df_paths['Wikispeedia_Voyage']==True], df_sm=BGEM3_similarity),\n",
    "    get_path_similarities(df_paths[df_paths['Wikispeedia_Voyage']==False], df_sm=BGEM3_similarity)\n",
    "]"
   ]
  },
  {
   "cell_type": "markdown",
   "metadata": {},
   "source": [
    "<div class=\"alert alert-block alert-info\">\n",
    "\n",
    "The similarities are computed for all paths and all steps along each path. We focus here on the first 10 steps of all paths and take the mean over each step in all paths. Because the paths have different lenghts, the mean of e.g. position L is taken over all paths that have at least L steps. Furthermore, we compute the interval as $1.96$ times the standard error, which we compute in the same fashion as the mean for each path position. We also normalise the scale to $[0, 1]$, as the similarity scores for the two models are in a different, somewhat arbitrary, range. To preserve linearity, we simply use min-max scaling for each type of embedding, setting the maximum mean similarity to 1 and the minimum to 0. \n",
    "</div>"
   ]
  },
  {
   "cell_type": "code",
   "execution_count": 52,
   "metadata": {},
   "outputs": [],
   "source": [
    "bert_normalised_means, bert_normalised_sems = get_normalised_mean_similarity(bert_similarities, 10)\n",
    "BGEM3_normalised_means, BGEM3_normalised_sems = get_normalised_mean_similarity(BGEM3_similarities, 10)"
   ]
  },
  {
   "cell_type": "code",
   "execution_count": null,
   "metadata": {},
   "outputs": [],
   "source": [
    "fig, axs = plt.subplots(nrows=1, ncols=2, figsize=(10, 5), sharey=True)\n",
    "colours = ['#d9630a', '#6c2e02', '#1dc2b1', '#096057']\n",
    "labels = ['Voyage Similarities (BERT)', 'Other Similarities (BERT)', 'Voyage Similarities (BGEM3)', 'Other Similarities (BGEM3)']\n",
    "means = bert_normalised_means + BGEM3_normalised_means\n",
    "sems = bert_normalised_sems + BGEM3_normalised_sems\n",
    "\n",
    "for i in range(4):\n",
    "    sn.lineplot(x=np.arange(1, len(means[i])+1), y=means[i], lw=3, color=colours[i], label=labels[i], ax=axs[i//2])\n",
    "\n",
    "    axs[i//2].fill_between(\n",
    "        np.arange(1, len(means[i])+1), \n",
    "        np.array(means[i][:10]) - np.array(sems[i][:10]), \n",
    "        np.array(means[i][:10]) + np.array(sems[i][:10]), \n",
    "        color=colours[i], alpha=0.3)\n",
    "\n",
    "axs[0].set_title('BERT embedding')\n",
    "axs[0].set_ylabel('Normalised Mean Similarity')\n",
    "axs[0].set_xticks(np.arange(1, len(means[0])+1))\n",
    "axs[0].set_xlabel('Step Along Path')\n",
    "\n",
    "axs[1].set_xticks(np.arange(1, len(means[0])+1))\n",
    "axs[1].set_xlabel('Step Along Path')\n",
    "axs[1].set_title('BGEM3 embedding')\n",
    "\n",
    "plt.suptitle('Mean Name Similarity Between Previous and Next Articles in User Paths')\n",
    "plt.tight_layout()\n",
    "plt.legend()\n",
    "plt.show()"
   ]
  },
  {
   "cell_type": "markdown",
   "metadata": {},
   "source": [
    "<div class=\"alert alert-block alert-info\">\n",
    "\n",
    "There is a clear trend for both types of embeddings: in the first few clicks, the articles chosen have a low similarity to the previous one. This can be interpreted as leaving the original category, because article names in different categories are likely to be less similar. After this, the similarity for the next clicks stabilises, with relatively small fluctuations.\n",
    "\n",
    "There is also a statistically significant difference between Voyages and Other paths. Generally, both embeddings agree that the similarity along paths is generally lower for Voyages. This could indeed show that there is a stronger detour or zoom-out behaviour from users in Voyages, as the articles visited are on average less similar to one-another.\n",
    "\n",
    "</div>"
   ]
  }
 ],
 "metadata": {
  "kernelspec": {
   "display_name": "ada_p",
   "language": "python",
   "name": "python3"
  },
  "language_info": {
   "codemirror_mode": {
    "name": "ipython",
    "version": 3
   },
   "file_extension": ".py",
   "mimetype": "text/x-python",
   "name": "python",
   "nbconvert_exporter": "python",
   "pygments_lexer": "ipython3",
   "version": "3.10.15"
  }
 },
 "nbformat": 4,
 "nbformat_minor": 2
}
