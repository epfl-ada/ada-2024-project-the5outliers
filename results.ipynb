{
 "cells": [
  {
   "cell_type": "code",
   "execution_count": 1,
   "metadata": {},
   "outputs": [],
   "source": [
    "%load_ext autoreload\n",
    "%autoreload 2"
   ]
  },
  {
   "cell_type": "code",
   "execution_count": 2,
   "metadata": {},
   "outputs": [
    {
     "ename": "NameError",
     "evalue": "name 'htmlParser' is not defined",
     "output_type": "error",
     "traceback": [
      "\u001b[1;31m---------------------------------------------------------------------------\u001b[0m",
      "\u001b[1;31mNameError\u001b[0m                                 Traceback (most recent call last)",
      "Cell \u001b[1;32mIn[2], line 6\u001b[0m\n\u001b[0;32m      3\u001b[0m \u001b[38;5;28;01mimport\u001b[39;00m \u001b[38;5;21;01mseaborn\u001b[39;00m \u001b[38;5;28;01mas\u001b[39;00m \u001b[38;5;21;01msn\u001b[39;00m\n\u001b[0;32m      4\u001b[0m \u001b[38;5;28;01mimport\u001b[39;00m \u001b[38;5;21;01mmatplotlib\u001b[39;00m\u001b[38;5;21;01m.\u001b[39;00m\u001b[38;5;21;01mpyplot\u001b[39;00m \u001b[38;5;28;01mas\u001b[39;00m \u001b[38;5;21;01mplt\u001b[39;00m\n\u001b[1;32m----> 6\u001b[0m parser \u001b[38;5;241m=\u001b[39m \u001b[43mhtmlParser\u001b[49m()\n\u001b[0;32m      7\u001b[0m parser\u001b[38;5;241m.\u001b[39mload_pickle()\n",
      "\u001b[1;31mNameError\u001b[0m: name 'htmlParser' is not defined"
     ]
    }
   ],
   "source": [
    "from src.data_loader import *\n",
    "from src.helpers import *\n",
    "from src.htmlParser import *\n",
    "import seaborn as sn\n",
    "import matplotlib.pyplot as plt\n",
    "\n",
    "parser = htmlParser()\n",
    "parser.load_pickle()"
   ]
  },
  {
   "cell_type": "markdown",
   "metadata": {},
   "source": [
    "# Section 1: blablal"
   ]
  },
  {
   "cell_type": "markdown",
   "metadata": {},
   "source": [
    "## A- Data Cleaning\n",
    "This part loads, cleans the data, and defines useful datasets for further analysis. \n",
    "\n",
    "- `read_articles()` loads a list of valid article names, that is without special characters and discardig any invalid articles, like non-wikispedia articles or with missing categories\n",
    "- `parser.get_df_html_stats()` gathers wikispedia page statistics like number of links, link density, and structural information\n",
    "- `read_categories()` sorts for each category of a same article its different levels of sub categories \n",
    "- `read_links()` gathers all the links outward of a page \n",
    "- `read_shortest_path_matrix()` reads the matrix of shortest paths possible between two articles \n",
    "- `read_unfinished_paths()` and `read_finished_paths()` load the original unfinished and finished paths and clean them\n",
    "- `read_similartiy_matrix()` reads the matrix of semantic similarity between article names \n",
    "- `read_categories_matrix()` reads the matrix that describes the similarity between article's category levels and sub-levels"
   ]
  },
  {
   "cell_type": "code",
   "execution_count": 3,
   "metadata": {},
   "outputs": [
    {
     "name": "stdout",
     "output_type": "stream",
     "text": [
      "Unfinished Paths \n",
      "Number of rows before filtering: 24875\n",
      "Invalid target articles found: {'Test', 'Rat', 'Netbook', 'Western Australia', 'Rss', 'Christmas', 'Charlottes web', 'Pikachu', ' Zebra', 'English', 'Macedonia', 'Black ops 2', 'Great', 'Kashmir', 'Georgia', 'The', 'Usa', 'Mustard', 'Podcast', 'Sportacus', 'Adolph Hitler', 'Bogota', 'The Rock', 'Fats', 'Long peper'}\n",
      "Invalid articles found in path: {'Pikachu', 'Wikipedia Text of the GNU Free Documentation License'}\n",
      "Number of rows dropped of type 'timeout' with a duration less than 30 minutes: 7\n",
      "Type 'timeout' occurs only after 30 minutes of inactivity, thus this path are technically impossible.\n",
      "Number of rows after filtering: 24714 \n",
      "\n",
      "Finished Paths \n",
      "Number of rows before filtering: 51318\n",
      "Invalid articles found in path: {'Pikachu', 'Wikipedia Text of the GNU Free Documentation License'}\n",
      "Number of rows after filtering: 51210 \n",
      "\n"
     ]
    }
   ],
   "source": [
    "df_article_names = read_articles() \n",
    "df_html_stats = parser.get_df_html_stats()\n",
    "df_categories = read_categories()\n",
    "df_links = read_links()\n",
    "df_shortest_path = read_shortest_path_matrix()\n",
    "df_unfinished = read_unfinished_paths()\n",
    "df_finished = read_finished_paths() \n",
    "df_sm = read_similartiy_matrix() \n",
    "df_scat = read_categories_matrix()"
   ]
  },
  {
   "cell_type": "markdown",
   "metadata": {},
   "source": [
    "## B- Exploratory Data Analysis\n",
    "\n",
    "This part aims to explore article features and player behaviour"
   ]
  },
  {
   "cell_type": "markdown",
   "metadata": {},
   "source": [
    "### Player Features Analysis???"
   ]
  },
  {
   "cell_type": "markdown",
   "metadata": {},
   "source": [
    "New metrics are added to characterize the game paths. Specifically:\n",
    "\n",
    "- **Path Length** which accounts for the total number of articles in a path\n",
    "\n",
    "- **Back Clicks** which indicates how many times the user revisited previous articles\n",
    "\n",
    "- **Cosine Similarity** which measures the semantic similarity between articles in the paths\n",
    "\n",
    "- **Shortest Path** which gives the length of the shortest path possible between the source and target articles\n",
    "\n",
    "- **Categories Similarity** which  measure the category similarity between the categories of the source and target articles"
   ]
  },
  {
   "cell_type": "code",
   "execution_count": 4,
   "metadata": {},
   "outputs": [],
   "source": [
    "# let's add some useful metrics to each paths dataframe: shortest path, semantic similarity\n",
    "df_unfinished['cosine_similarity'] = df_unfinished.apply(lambda x: find_shortest_distance(x, df_sm), axis=1)\n",
    "df_unfinished['shortest_path'] = df_unfinished.apply(lambda x: find_shortest_distance(x, df_shortest_path), axis=1)\n",
    "df_unfinished['path_length'] = df_unfinished['path'].apply(lambda x: x.count(';') + 1)\n",
    "df_unfinished['back_clicks'] = df_unfinished['path'].apply(lambda x: x.count('<'))\n",
    "df_unfinished[\"categories_similarity\"] = df_unfinished.apply(lambda x: find_shortest_distance(x, df_scat), axis=1)\n",
    "\n",
    "df_finished['cosine_similarity'] = df_finished.apply(lambda x: find_shortest_distance(x, df_sm), axis=1)\n",
    "df_finished['shortest_path'] = df_finished.apply(lambda x: find_shortest_distance(x, df_shortest_path), axis=1)\n",
    "df_finished['path_length'] = df_finished['path'].apply(lambda x: x.count(';') + 1)\n",
    "df_finished['back_clicks'] = df_finished['path'].apply(lambda x: x.count('<'))\n",
    "df_finished[\"categories_similarity\"] = df_finished.apply(lambda x: find_shortest_distance(x, df_scat), axis=1)"
   ]
  },
  {
   "cell_type": "markdown",
   "metadata": {},
   "source": [
    "#### Analysis of the similarity between source and target artiche"
   ]
  },
  {
   "cell_type": "code",
   "execution_count": 78,
   "metadata": {},
   "outputs": [
    {
     "data": {
      "image/png": "[encoded data removed]",
      "text/plain": [
       "<Figure size 864x360 with 2 Axes>"
      ]
     },
     "metadata": {
      "needs_background": "light"
     },
     "output_type": "display_data"
    }
   ],
   "source": [
    "# note: -1 with no errorbar makes no sense. 1 with no error bar makes sense (trivial case where start=target and similarity with itself=1)\n",
    "\n",
    "df_finished_clean = df_finished[df_finished['shortest_path'] != 0].copy()\n",
    "\n",
    "plt.figure(figsize=(12, 5))\n",
    "ax = plt.subplot(121)\n",
    "sn.barplot(data=df_finished_clean, x='shortest_path', y='cosine_similarity')\n",
    "plt.title('Finished paths')\n",
    "\n",
    "plt.subplot(122, sharey=ax)\n",
    "sn.barplot(data=df_unfinished, x='shortest_path', y='cosine_similarity')\n",
    "plt.title('Unfinished paths')\n",
    "\n",
    "plt.suptitle('Mean cosine similarity per shortest path length')\n",
    "plt.show()"
   ]
  },
  {
   "cell_type": "code",
   "execution_count": 79,
   "metadata": {},
   "outputs": [
    {
     "name": "stdout",
     "output_type": "stream",
     "text": [
      "Finished paths:\n",
      "Pearson correlation: -0.2837, p-value: 0.0000e+00\n",
      "Spearman correlation: -0.2359, p-value: 0.0000e+00\n",
      "\n",
      "Unfinished paths:\n",
      "Pearson correlation: -0.2732, p-value: 0.0000e+00\n",
      "Spearman correlation: -0.2751, p-value: 0.0000e+00\n"
     ]
    }
   ],
   "source": [
    "from scipy.stats import pearsonr, spearmanr\n",
    "\n",
    "def calculate_correlations_with_shortestPath(df, column_name):\n",
    "    # Ensure 'shortest_path' is numeric\n",
    "    df['shortest_path'] = df['shortest_path'].astype(float)\n",
    "\n",
    "    pearson_corr, pearson_p = pearsonr(df['shortest_path'], df[column_name])\n",
    "    spearman_corr, spearman_p = spearmanr(df['shortest_path'], df[column_name])\n",
    "\n",
    "    # Print results\n",
    "    print(f\"Pearson correlation: {pearson_corr:.4f}, p-value: {pearson_p:.4e}\")\n",
    "    print(f\"Spearman correlation: {spearman_corr:.4f}, p-value: {spearman_p:.4e}\")\n",
    "\n",
    "print('Finished paths:')\n",
    "finished_results = calculate_correlations_with_shortestPath(df_finished_clean,\"cosine_similarity\")\n",
    "print('\\nUnfinished paths:')\n",
    "unfinished_results = calculate_correlations_with_shortestPath(df_unfinished,\"cosine_similarity\")"
   ]
  },
  {
   "cell_type": "code",
   "execution_count": 80,
   "metadata": {},
   "outputs": [
    {
     "data": {
      "image/png": "[encoded data removed]",
      "text/plain": [
       "<Figure size 864x360 with 2 Axes>"
      ]
     },
     "metadata": {
      "needs_background": "light"
     },
     "output_type": "display_data"
    }
   ],
   "source": [
    "# note: -1 with no errorbar makes no sense. 1 with no error bar makes sense (trivial case where start=target and similarity with itself=1)\n",
    "# impossible paths in unfinishes paths are possible however. check if it is sound though because of the previous problem.\n",
    "\n",
    "plt.figure(figsize=(12, 5))\n",
    "ax = plt.subplot(121)\n",
    "sn.barplot(data=df_finished_clean, x='shortest_path', y='categories_similarity')\n",
    "plt.title('Finished paths')\n",
    "\n",
    "plt.subplot(122, sharey=ax)\n",
    "sn.barplot(data=df_unfinished, x='shortest_path', y='categories_similarity')\n",
    "plt.title('Unfinished paths')\n",
    "\n",
    "plt.suptitle('Mean categories_similarity per shortest path length')\n",
    "plt.show()"
   ]
  },
  {
   "cell_type": "code",
   "execution_count": 81,
   "metadata": {},
   "outputs": [
    {
     "name": "stdout",
     "output_type": "stream",
     "text": [
      "Finished paths:\n",
      "Pearson correlation: -0.1968, p-value: 0.0000e+00\n",
      "Spearman correlation: -0.1938, p-value: 0.0000e+00\n",
      "\n",
      "Unfinished paths:\n",
      "Pearson correlation: -0.0763, p-value: 3.3577e-33\n",
      "Spearman correlation: -0.0816, p-value: 8.2011e-38\n"
     ]
    }
   ],
   "source": [
    "print('Finished paths:')\n",
    "finished_results = calculate_correlations_with_shortestPath(df_finished_clean,\"categories_similarity\")\n",
    "print('\\nUnfinished paths:')\n",
    "unfinished_results = calculate_correlations_with_shortestPath(df_unfinished,\"categories_similarity\")"
   ]
  },
  {
   "cell_type": "markdown",
   "metadata": {},
   "source": [
    "- Pearson Correlation\n",
    "Measures the linear relationship between two continuous variables.\n",
    "\n",
    "- Spearman Correlation\n",
    "Assesses the monotonic relationship using ranked data, making it less sensitive to outliers and non-linear relationships.\n",
    "\n",
    "The p-values are effectively zero, which is highly significant statistically. This suggests that the observed correlations are unlikely to be due to random chance.\n",
    "\n",
    "-> Thus as the distance path increase, the cosine_similarity decrease\n",
    "In other words..."
   ]
  },
  {
   "cell_type": "markdown",
   "metadata": {},
   "source": [
    "### Difficulty measure\n",
    "Here we look for patterns in user behaviour and try to understand how we could measure whether a game was difficult or not"
   ]
  },
  {
   "cell_type": "code",
   "execution_count": 82,
   "metadata": {},
   "outputs": [
    {
     "name": "stdout",
     "output_type": "stream",
     "text": [
      "The mean duration of finished paths is 158 seconds\n",
      "The mean duration of unfinished paths is 835 seconds\n"
     ]
    },
    {
     "data": {
      "image/png": "[encoded data removed]",
      "text/plain": [
       "<Figure size 864x288 with 2 Axes>"
      ]
     },
     "metadata": {
      "needs_background": "light"
     },
     "output_type": "display_data"
    }
   ],
   "source": [
    "print(f\"The mean duration of finished paths is {df_finished['durationInSec'].mean():.0f} seconds\")\n",
    "print(f\"The mean duration of unfinished paths is {df_unfinished['durationInSec'].mean():.0f} seconds\")\n",
    "\n",
    "plt.figure(figsize=(12, 4))\n",
    "ax1 = plt.subplot(121)\n",
    "sn.histplot(df_unfinished, x='durationInSec', hue='type', bins=75)\n",
    "plt.yscale('log')\n",
    "plt.title('Histogram of game duration for unfinished games')\n",
    "\n",
    "plt.subplot(122, sharey = ax1)\n",
    "sn.histplot(df_finished, x='durationInSec', bins=75, alpha=0.5)\n",
    "plt.yscale('log')\n",
    "plt.title('Histogram of game duration for finished games')\n",
    "plt.show()"
   ]
  },
  {
   "cell_type": "code",
   "execution_count": 83,
   "metadata": {},
   "outputs": [
    {
     "data": {
      "text/html": [
       "<div>\n",
       "<style scoped>\n",
       "    .dataframe tbody tr th:only-of-type {\n",
       "        vertical-align: middle;\n",
       "    }\n",
       "\n",
       "    .dataframe tbody tr th {\n",
       "        vertical-align: top;\n",
       "    }\n",
       "\n",
       "    .dataframe thead tr th {\n",
       "        text-align: left;\n",
       "    }\n",
       "\n",
       "    .dataframe thead tr:last-of-type th {\n",
       "        text-align: right;\n",
       "    }\n",
       "</style>\n",
       "<table border=\"1\" class=\"dataframe\">\n",
       "  <thead>\n",
       "    <tr>\n",
       "      <th></th>\n",
       "      <th colspan=\"3\" halign=\"left\">duration</th>\n",
       "      <th colspan=\"3\" halign=\"left\">length</th>\n",
       "    </tr>\n",
       "    <tr>\n",
       "      <th></th>\n",
       "      <th>mean</th>\n",
       "      <th>std</th>\n",
       "      <th>sem</th>\n",
       "      <th>mean</th>\n",
       "      <th>std</th>\n",
       "      <th>sem</th>\n",
       "    </tr>\n",
       "    <tr>\n",
       "      <th>rating</th>\n",
       "      <th></th>\n",
       "      <th></th>\n",
       "      <th></th>\n",
       "      <th></th>\n",
       "      <th></th>\n",
       "      <th></th>\n",
       "    </tr>\n",
       "  </thead>\n",
       "  <tbody>\n",
       "    <tr>\n",
       "      <th>1.0</th>\n",
       "      <td>80.150609</td>\n",
       "      <td>152.273618</td>\n",
       "      <td>1.648539</td>\n",
       "      <td>4.664909</td>\n",
       "      <td>2.052327</td>\n",
       "      <td>0.022219</td>\n",
       "    </tr>\n",
       "    <tr>\n",
       "      <th>2.0</th>\n",
       "      <td>137.036683</td>\n",
       "      <td>311.602204</td>\n",
       "      <td>3.325851</td>\n",
       "      <td>5.996355</td>\n",
       "      <td>2.432872</td>\n",
       "      <td>0.025967</td>\n",
       "    </tr>\n",
       "    <tr>\n",
       "      <th>3.0</th>\n",
       "      <td>195.863962</td>\n",
       "      <td>296.518511</td>\n",
       "      <td>3.482914</td>\n",
       "      <td>7.640866</td>\n",
       "      <td>3.706646</td>\n",
       "      <td>0.043538</td>\n",
       "    </tr>\n",
       "    <tr>\n",
       "      <th>4.0</th>\n",
       "      <td>281.351095</td>\n",
       "      <td>359.639492</td>\n",
       "      <td>6.870559</td>\n",
       "      <td>10.079927</td>\n",
       "      <td>5.871245</td>\n",
       "      <td>0.112164</td>\n",
       "    </tr>\n",
       "    <tr>\n",
       "      <th>5.0</th>\n",
       "      <td>368.231304</td>\n",
       "      <td>463.405289</td>\n",
       "      <td>13.665076</td>\n",
       "      <td>13.237391</td>\n",
       "      <td>17.200507</td>\n",
       "      <td>0.507215</td>\n",
       "    </tr>\n",
       "    <tr>\n",
       "      <th>NaN</th>\n",
       "      <td>158.053993</td>\n",
       "      <td>430.555836</td>\n",
       "      <td>2.853805</td>\n",
       "      <td>6.815218</td>\n",
       "      <td>4.031546</td>\n",
       "      <td>0.026722</td>\n",
       "    </tr>\n",
       "  </tbody>\n",
       "</table>\n",
       "</div>"
      ],
      "text/plain": [
       "          duration                            length                     \n",
       "              mean         std        sem       mean        std       sem\n",
       "rating                                                                   \n",
       "1.0      80.150609  152.273618   1.648539   4.664909   2.052327  0.022219\n",
       "2.0     137.036683  311.602204   3.325851   5.996355   2.432872  0.025967\n",
       "3.0     195.863962  296.518511   3.482914   7.640866   3.706646  0.043538\n",
       "4.0     281.351095  359.639492   6.870559  10.079927   5.871245  0.112164\n",
       "5.0     368.231304  463.405289  13.665076  13.237391  17.200507  0.507215\n",
       "NaN     158.053993  430.555836   2.853805   6.815218   4.031546  0.026722"
      ]
     },
     "execution_count": 83,
     "metadata": {},
     "output_type": "execute_result"
    }
   ],
   "source": [
    "df_path_stats_duration = pd.DataFrame()\n",
    "df_path_stats_duration['mean'] = df_finished.groupby('rating', dropna=False)['durationInSec'].mean()\n",
    "df_path_stats_duration['std'] = df_finished.groupby('rating', dropna=False)['durationInSec'].std()\n",
    "df_path_stats_duration['sem'] = df_finished.groupby('rating', dropna=False)['durationInSec'].sem()\n",
    "\n",
    "df_path_stats_length = pd.DataFrame()\n",
    "df_path_stats_length['mean'] = df_finished.groupby('rating', dropna=False)['path_length'].mean()\n",
    "df_path_stats_length['std'] = df_finished.groupby('rating', dropna=False)['path_length'].std()\n",
    "df_path_stats_length['sem'] = df_finished.groupby('rating', dropna=False)['path_length'].sem()\n",
    "\n",
    "df_path_stats = pd.concat([df_path_stats_duration, df_path_stats_length], axis=1, keys=['duration', 'length'])\n",
    "\n",
    "df_path_stats"
   ]
  },
  {
   "cell_type": "code",
   "execution_count": 84,
   "metadata": {},
   "outputs": [
    {
     "data": {
      "image/png": "[encoded data removed]",
      "text/plain": [
       "<Figure size 720x432 with 6 Axes>"
      ]
     },
     "metadata": {
      "needs_background": "light"
     },
     "output_type": "display_data"
    }
   ],
   "source": [
    "# Those are some nice log-normal distributions -> are they though? the distribution is normal in loglog, not log.\n",
    "# except for NaN, there is a steady increase of the path duration mean when rating goes up\n",
    "\n",
    "plt.figure(figsize=(10, 6))\n",
    "\n",
    "means, stds = [], []\n",
    "ax1 = plt.subplot(231)\n",
    "sn.histplot(df_finished[df_finished['rating'].isnull()], x='durationInSec', bins=50) # change x to x = 'path_length' for path length\n",
    "means.append(df_finished[df_finished['rating'].isnull()]['durationInSec'].mean())\n",
    "stds.append(df_finished[df_finished['rating'].isnull()]['durationInSec'].std())\n",
    "plt.axvline(means[0], color='red')\n",
    "plt.yscale('log')\n",
    "plt.xscale('log')\n",
    "plt.title('NaN')\n",
    "\n",
    "for i in range(1, 6):\n",
    "    plt.subplot(231+i, sharex = ax1, sharey=ax1)\n",
    "    means.append(df_finished[df_finished['rating']==i]['durationInSec'].mean())\n",
    "    stds.append(df_finished[df_finished['rating']==i]['durationInSec'].std())\n",
    "    sn.histplot(df_finished[df_finished['rating']==i], x='durationInSec', bins=50)\n",
    "    plt.axvline(means[i], color='red')\n",
    "    plt.yscale('log')\n",
    "    plt.xscale('log')\n",
    "    plt.title(i)\n",
    "\n",
    "plt.tight_layout()\n",
    "plt.suptitle('Path duration by rating', y=1.04)\n",
    "plt.show()"
   ]
  },
  {
   "cell_type": "code",
   "execution_count": 85,
   "metadata": {},
   "outputs": [
    {
     "data": {
      "image/png": "[encoded data removed]",
      "text/plain": [
       "<Figure size 720x288 with 2 Axes>"
      ]
     },
     "metadata": {
      "needs_background": "light"
     },
     "output_type": "display_data"
    }
   ],
   "source": [
    "plt.figure(figsize=(10, 4))\n",
    "plt.subplot(121)\n",
    "sn.histplot(df_finished, x='path_length', bins=50)\n",
    "plt.yscale('log')\n",
    "plt.xlim(0, 120)\n",
    "\n",
    "plt.subplot(122)\n",
    "sn.histplot(df_finished, x='back_clicks', bins=50)\n",
    "plt.yscale('log')"
   ]
  },
  {
   "cell_type": "markdown",
   "metadata": {},
   "source": [
    "### Categories distribution in start and end paths \n",
    "The aim here is to look whether categories of the source and target articles are correlated with finishing or not a game. "
   ]
  },
  {
   "cell_type": "code",
   "execution_count": 86,
   "metadata": {},
   "outputs": [],
   "source": [
    "paths_finished = find_categories_start_end(df_finished, df_categories)\n",
    "paths_unfinished = find_categories_start_end(df_unfinished, df_categories)\n",
    "\n",
    "paths_finished[\"finished\"] = 1\n",
    "paths_unfinished[\"finished\"] = 0\n",
    "\n",
    "paths = pd.concat([paths_finished, paths_unfinished], join='inner')\n",
    "paths_melted = paths.melt(\n",
    "    id_vars=[\"finished\"],\n",
    "    value_vars=[\"start_category\", \"end_category\"],\n",
    "    var_name=\"category_type\",\n",
    "    value_name=\"category\"\n",
    ")"
   ]
  },
  {
   "cell_type": "code",
   "execution_count": 87,
   "metadata": {},
   "outputs": [
    {
     "data": {
      "image/png": "[encoded data removed]",
      "text/plain": [
       "<Figure size 576x576 with 4 Axes>"
      ]
     },
     "metadata": {
      "needs_background": "light"
     },
     "output_type": "display_data"
    }
   ],
   "source": [
    "# Create a color palette based on unique categories\n",
    "unique_categories = paths_melted['category'].unique()\n",
    "palette = sn.color_palette(\"Set1\", n_colors=len(unique_categories))\n",
    "color_mapping = dict(zip(unique_categories, palette))\n",
    "\n",
    "g = sn.FacetGrid(\n",
    "    data=paths_melted,\n",
    "    col=\"finished\",\n",
    "    row=\"category_type\",\n",
    "    sharey=True,\n",
    "    sharex=True,\n",
    "    margin_titles=True,\n",
    "    height=4,\n",
    ")\n",
    "\n",
    "g.map_dataframe(\n",
    "    sn.countplot,\n",
    "    x=\"category\",\n",
    "    hue=\"category\",\n",
    "    palette=color_mapping,\n",
    "    order=paths_melted['category'].value_counts().index  # Order by frequency\n",
    ")\n",
    "\n",
    "# Rotate x-axis labels for readability\n",
    "for ax in g.axes.flatten():\n",
    "    for label in ax.get_xticklabels():\n",
    "        label.set_rotation(90)\n",
    "\n",
    "plt.tight_layout()\n",
    "plt.show()"
   ]
  },
  {
   "cell_type": "markdown",
   "metadata": {},
   "source": [
    "### Corelation between difficulty and combination of source-target categories\n",
    "In this part we aim to get a glance at the extend to which the choice of the source article and the end article affects the difficulty of the game.\n",
    "This could highlight potential combinations of categories that are harder to connect.\n",
    "\n",
    "Different difficulty metrics are used like path duration, path length in terms of number of clicks and user ratings. \n",
    "\n",
    "The number of backclicks and its link with current difficulty mettrics and categories is also studied to explore whether it indicates difficulty as well.\n",
    "#### Correlation between the duration of game and the combination of source-target category\n",
    "Here the difficulty measure is the game duration. \n",
    "\n",
    "🚨put different colors for finished ans unfinished, so the colorbar isnt the same for diffrent scales🚨"
   ]
  },
  {
   "cell_type": "code",
   "execution_count": 88,
   "metadata": {},
   "outputs": [
    {
     "data": {
      "image/png": "[encoded data removed]",
      "text/plain": [
       "<Figure size 1080x360 with 4 Axes>"
      ]
     },
     "metadata": {
      "needs_background": "light"
     },
     "output_type": "display_data"
    }
   ],
   "source": [
    "fig, ax = plt.subplots(1, 2, figsize=(15, 5))\n",
    "\n",
    "path_finished_length_categories = paths_finished.pivot_table(index='start_category', \n",
    "                                                    columns='end_category', \n",
    "                                                    values='durationInSec', \n",
    "                                                    aggfunc='mean')\n",
    "path_unfinished_length_categories = paths_unfinished.pivot_table(index='start_category',\n",
    "                                                    columns='end_category',\n",
    "                                                    values='durationInSec',\n",
    "                                                    aggfunc='mean')\n",
    "\n",
    "sn.heatmap(path_finished_length_categories , cmap='BuPu', ax=ax[0])\n",
    "sn.heatmap(path_unfinished_length_categories , cmap='BuPu', ax=ax[1])\n",
    "ax[0].set_title(\"Finished Paths\")\n",
    "ax[1].set_title(\"Unfinished Paths\")\n",
    "fig.suptitle(\"Heatmap of Duration (seconds) for Each Start-End Category Combination\")\n",
    "plt.xlabel(\"End Category\")\n",
    "plt.ylabel(\"Start Category\")\n",
    "plt.tight_layout()\n",
    "plt.show()"
   ]
  },
  {
   "cell_type": "markdown",
   "metadata": {},
   "source": [
    "#### Correlation between the length of path and the combination of source-target category\n",
    "Here the difficulty metric used is the number of clicks in the game. \n",
    "\n",
    "🚨put different colors for finished ans unfinished, so the colorbar isnt the same for diffrent scales🚨"
   ]
  },
  {
   "cell_type": "code",
   "execution_count": 89,
   "metadata": {},
   "outputs": [
    {
     "data": {
      "image/png": "[encoded data removed]",
      "text/plain": [
       "<Figure size 1080x360 with 4 Axes>"
      ]
     },
     "metadata": {
      "needs_background": "light"
     },
     "output_type": "display_data"
    }
   ],
   "source": [
    "paths_finished[\"steps_count\"] = paths_finished[\"path\"].apply(lambda x: len(x.split(\";\")))\n",
    "paths_unfinished[\"steps_count\"] = paths_unfinished[\"path\"].apply(lambda x: len(x.split(\";\")))\n",
    "\n",
    "fig, ax = plt.subplots(1, 2, figsize=(15, 5))\n",
    "\n",
    "path_finished_length_categories = paths_finished.pivot_table(index='start_category', \n",
    "                                                    columns='end_category', \n",
    "                                                    values='steps_count', \n",
    "                                                    aggfunc='mean')\n",
    "path_unfinished_length_categories = paths_unfinished.pivot_table(index='start_category',\n",
    "                                                    columns='end_category',\n",
    "                                                    values='steps_count',\n",
    "                                                    aggfunc='mean')\n",
    "\n",
    "sn.heatmap(path_finished_length_categories , cmap='BuPu', ax=ax[0])\n",
    "sn.heatmap(path_unfinished_length_categories , cmap='BuPu', ax=ax[1])\n",
    "ax[0].set_title(\"Finished Paths\")\n",
    "ax[1].set_title(\"Unfinished Paths\")\n",
    "fig.suptitle(\"Heatmap of length of path (number of steps) for Each Start-End Category Combination\")\n",
    "plt.xlabel(\"End Category\")\n",
    "plt.ylabel(\"Start Category\")\n",
    "plt.tight_layout()\n",
    "plt.show()"
   ]
  },
  {
   "cell_type": "markdown",
   "metadata": {},
   "source": [
    "#### Correlation between the player rating and the combination of source-target category\n",
    "Here we use the difficulty rating by the players as difficulty metric."
   ]
  },
  {
   "cell_type": "code",
   "execution_count": 90,
   "metadata": {},
   "outputs": [
    {
     "data": {
      "image/png": "[encoded data removed]",
      "text/plain": [
       "<Figure size 432x288 with 2 Axes>"
      ]
     },
     "metadata": {
      "needs_background": "light"
     },
     "output_type": "display_data"
    }
   ],
   "source": [
    "path_finished_length_categories = paths_finished.pivot_table(index='start_category', \n",
    "                                                    columns='end_category', \n",
    "                                                    values='rating', \n",
    "                                                    aggfunc='mean')\n",
    "\n",
    "sn.heatmap(path_finished_length_categories , cmap='BuPu')\n",
    "plt.title(\"Heatmap of rating for Each Start-End Category Combination\")\n",
    "plt.xlabel(\"End Category\")\n",
    "plt.ylabel(\"Start Category\")\n",
    "plt.tight_layout()\n",
    "plt.show()"
   ]
  },
  {
   "cell_type": "markdown",
   "metadata": {},
   "source": [
    "### Correlation between the rating, the backclip number and the topics\n",
    "Here we explore to which extend the backclicks might be correlated with difficulty and topics. "
   ]
  },
  {
   "cell_type": "code",
   "execution_count": 91,
   "metadata": {},
   "outputs": [],
   "source": [
    "df_categories_filtered = filter_most_specific_category(df_categories)\n",
    "paths_finished = extract_category_path(df_finished, df_categories_filtered)\n",
    "paths_finished = backtrack(paths_finished)"
   ]
  },
  {
   "cell_type": "code",
   "execution_count": 92,
   "metadata": {},
   "outputs": [
    {
     "name": "stderr",
     "output_type": "stream",
     "text": [
      "<ipython-input-92-acb2ccd0c44e>:5: UserWarning:\n",
      "\n",
      "The palette list has more values (6) than needed (5), which may not be intended.\n",
      "\n"
     ]
    },
    {
     "data": {
      "image/png": "[encoded data removed]",
      "text/plain": [
       "<Figure size 864x432 with 2 Axes>"
      ]
     },
     "metadata": {
      "needs_background": "light"
     },
     "output_type": "display_data"
    }
   ],
   "source": [
    "fig, ax = plt.subplots(1, 2, figsize=(12, 6))\n",
    "\n",
    "back_per_rating = paths_finished.groupby(\"rating\").agg({\"back_nb\": \"mean\", \"size\": \"mean\"}).reset_index()\n",
    "back_per_rating['Mean Back Clicks number'] = back_per_rating[\"back_nb\"]/back_per_rating[\"size\"]\n",
    "sn.barplot(x=\"rating\", y='Mean Back Clicks number', hue=\"rating\", data=back_per_rating, palette=sn.color_palette('viridis'), ax=ax[0])\n",
    "\n",
    "df_exploded = paths_finished.explode('category')\n",
    "category_back_mean = df_exploded.groupby(['category', 'rating']).size().reset_index(name='size')\n",
    "back_mean = df_exploded.groupby('category')[\"have_back\"].mean().reset_index().sort_values(by='have_back', ascending=False)\n",
    "category_back_mean = category_back_mean.merge(back_mean, on='category').sort_values(by='have_back', ascending=False)\n",
    "category_back_mean['rating_proportion'] = category_back_mean.groupby('category')['size'].transform(lambda x: x / x.sum())\n",
    "\n",
    "order = category_back_mean[\"category\"].unique()\n",
    "base_heights = category_back_mean[['category', 'have_back']].drop_duplicates().set_index('category')['have_back']\n",
    "df_pivot = category_back_mean.pivot(index='category', columns='rating', values='rating_proportion').fillna(0)\n",
    "df_pivot = df_pivot.reindex(order)\n",
    "\n",
    "colors = sn.color_palette('viridis')\n",
    "\n",
    "bottom = pd.Series([0] * len(df_pivot), index=df_pivot.index)\n",
    "for i, rating in enumerate(df_pivot.columns):\n",
    "    ax[1].bar(df_pivot.index, \n",
    "           height=df_pivot[rating] * base_heights,  \n",
    "           bottom=bottom * base_heights,           \n",
    "           label=f'Rating {rating}', \n",
    "           color=colors[i])\n",
    "    bottom += df_pivot[rating]\n",
    "\n",
    "ax[1].set_title('Mean Number of Path with Back Clicks by Category')\n",
    "plt.xlabel('Category')\n",
    "plt.ylabel('Mean Number of Path with Back Clicks')\n",
    "plt.xticks(rotation=90)\n",
    "ax[0].set_title(\"Distribution of Back Clicks per Rating\")\n",
    "plt.show()"
   ]
  },
  {
   "cell_type": "markdown",
   "metadata": {},
   "source": [
    "Show that irrespective of the start and end categories, many players path through countries and geography\n"
   ]
  },
  {
   "cell_type": "markdown",
   "metadata": {},
   "source": [
    "## Sort games into voyage or not-voyage "
   ]
  },
  {
   "cell_type": "code",
   "execution_count": 93,
   "metadata": {},
   "outputs": [],
   "source": [
    "fig = plt.figure(figsize=(12, 8))\n",
    "ax = fig.add_subplot(111)\n",
    "cax = ax.matshow(df_sm, cmap='BuPu')\n",
    "cbar = fig.colorbar(cax)\n",
    "plt.title('Cosine similarity of article names')"
   ]
  },
  {
   "cell_type": "code",
   "execution_count": 94,
   "metadata": {},
   "outputs": [
    {
     "name": "stdout",
     "output_type": "stream",
     "text": [
      "out of 75924 games : \n",
      "  -  37956  are voyages\n",
      "  -  37968  are not\n"
     ]
    }
   ],
   "source": [
    "voyage_count = (df_finished_voyage['voyage'] == 1).sum() + (df_unfinished_voyage['voyage'] == 1).sum()\n",
    "non_voyage_count = (df_finished_voyage['voyage'] == 0).sum() + (df_unfinished_voyage['voyage'] == 0).sum()\n",
    "print('out of', len(df_finished_voyage)+len(df_unfinished_voyage), 'games : ')\n",
    "print('  - ', voyage_count, ' are voyages')\n",
    "print('  - ', non_voyage_count, ' are not')\n",
    "upper_triangle_indices = np.triu_indices_from(similarity_matrix, k=1) # Flatten the upper triangle of the matrix without the diagonal for sorting\n",
    "\n",
    "# Get the sorted indices for most similar pairs (descending order)\n",
    "sorted_similar_indices = np.argsort(-similarity_matrix[upper_triangle_indices])\n",
    "top_similar_pairs = list(zip(upper_triangle_indices[0][sorted_similar_indices], \n",
    "                             upper_triangle_indices[1][sorted_similar_indices]))\n",
    "\n",
    "print(\"Top 5 most similar pairs:\")\n",
    "for i, (idx1, idx2) in enumerate(top_similar_pairs[:5]):\n",
    "    print(f\"Pair {i+1}: Articles '{df_article_names[idx1]}' and '{df_article_names[idx2]}' with similarity {similarity_matrix[idx1, idx2]:.4f}\")\n",
    "\n",
    "sorted_dissimilar_indices = np.argsort(similarity_matrix[upper_triangle_indices])\n",
    "top_dissimilar_pairs = list(zip(upper_triangle_indices[0][sorted_dissimilar_indices], \n",
    "                                upper_triangle_indices[1][sorted_dissimilar_indices]))\n",
    "\n",
    "# Print the top 5 most dissimilar pairs\n",
    "print(\"\\nTop 5 most dissimilar pairs:\")\n",
    "for i, (idx1, idx2) in enumerate(top_dissimilar_pairs[:5]):\n",
    "    print(f\"Pair {i+1}: Articles '{df_article_names[idx1]}' and '{df_article_names[idx2]}' with similarity {similarity_matrix[idx1, idx2]:.4f}\")"
   ]
  },
  {
   "cell_type": "markdown",
   "metadata": {},
   "source": [
    "### Cluster Analysis (Hierarchical Clustering)\n",
    "Find clusters of words that are more similar to each other than to words in other clusters. At the bottom of the tree, most similar pairs are formed, then pairs of pairs are compared and so on. Check out <a href=https://docs.scipy.org/doc/scipy/reference/generated/scipy.cluster.hierarchy.linkage.html> this link </a> for more detail and <a href=https://stackoverflow.com/questions/66969893/scipy-and-the-hierarchical-clustering-input> this </a> or <a href=https://joernhees.de/blog/2015/08/26/scipy-hierarchical-clustering-and-dendrogram-tutorial> this link </a> to get a somewhat intuitive idea how how 2D clustering works. The clustering allows to reorder the similarity matrix in a way that regroups articles with high similarity. More analysis needs to be done to understand what the clusters essentially are and represent."
   ]
  },
  {
   "cell_type": "code",
   "execution_count": 95,
   "metadata": {},
   "outputs": [
    {
     "data": {
      "application/vnd.plotly.v1+json": {
       "config": {
        "plotlyServerURL": "https://plot.ly"
       },
       "data": [
        {
         "link": {
          "source": [
           0,
           3,
           0,
           3,
           0,
           2,
           0,
           2,
           1,
           3,
           1,
           3,
           1,
           2,
           1,
           2
          ],
          "target": [
           3,
           4,
           3,
           5,
           2,
           4,
           2,
           5,
           3,
           4,
           3,
           5,
           2,
           4,
           2,
           5
          ],
          "value": [
           2091,
           2091,
           4336,
           4336,
           970,
           970,
           2807,
           2807,
           4810,
           4810,
           13045,
           13045,
           4858,
           4858,
           18293,
           18293
          ]
         },
         "node": {
          "color": [
           "rgba(0, 128, 128, 0.6)",
           "rgba(244,109,67,0.8)",
           "rgba(0, 128, 128, 0.6)",
           "rgba(244,109,67,0.8)",
           "rgba(0, 128, 128, 0.6)",
           "rgba(244,109,67,0.8)"
          ],
          "label": [
           "First in Countries/Geography",
           "First not in Countries/Geography",
           "Voyage",
           "Non-Voyage",
           "Target in Countries/Geography",
           "Target not in Countries/Geography"
          ],
          "line": {
           "color": "white",
           "width": 0.1
          },
          "pad": 15,
          "thickness": 20
         },
         "type": "sankey"
        }
       ],
       "layout": {
        "font": {
         "size": 10
        },
        "plot_bgcolor": "white",
        "template": {
         "data": {
          "bar": [
           {
            "error_x": {
             "color": "#2a3f5f"
            },
            "error_y": {
             "color": "#2a3f5f"
            },
            "marker": {
             "line": {
              "color": "#E5ECF6",
              "width": 0.5
             },
             "pattern": {
              "fillmode": "overlay",
              "size": 10,
              "solidity": 0.2
             }
            },
            "type": "bar"
           }
          ],
          "barpolar": [
           {
            "marker": {
             "line": {
              "color": "#E5ECF6",
              "width": 0.5
             },
             "pattern": {
              "fillmode": "overlay",
              "size": 10,
              "solidity": 0.2
             }
            },
            "type": "barpolar"
           }
          ],
          "carpet": [
           {
            "aaxis": {
             "endlinecolor": "#2a3f5f",
             "gridcolor": "white",
             "linecolor": "white",
             "minorgridcolor": "white",
             "startlinecolor": "#2a3f5f"
            },
            "baxis": {
             "endlinecolor": "#2a3f5f",
             "gridcolor": "white",
             "linecolor": "white",
             "minorgridcolor": "white",
             "startlinecolor": "#2a3f5f"
            },
            "type": "carpet"
           }
          ],
          "choropleth": [
           {
            "colorbar": {
             "outlinewidth": 0,
             "ticks": ""
            },
            "type": "choropleth"
           }
          ],
          "contour": [
           {
            "colorbar": {
             "outlinewidth": 0,
             "ticks": ""
            },
            "colorscale": [
             [
              0,
              "#0d0887"
             ],
             [
              0.1111111111111111,
              "#46039f"
             ],
             [
              0.2222222222222222,
              "#7201a8"
             ],
             [
              0.3333333333333333,
              "#9c179e"
             ],
             [
              0.4444444444444444,
              "#bd3786"
             ],
             [
              0.5555555555555556,
              "#d8576b"
             ],
             [
              0.6666666666666666,
              "#ed7953"
             ],
             [
              0.7777777777777778,
              "#fb9f3a"
             ],
             [
              0.8888888888888888,
              "#fdca26"
             ],
             [
              1,
              "#f0f921"
             ]
            ],
            "type": "contour"
           }
          ],
          "contourcarpet": [
           {
            "colorbar": {
             "outlinewidth": 0,
             "ticks": ""
            },
            "type": "contourcarpet"
           }
          ],
          "heatmap": [
           {
            "colorbar": {
             "outlinewidth": 0,
             "ticks": ""
            },
            "colorscale": [
             [
              0,
              "#0d0887"
             ],
             [
              0.1111111111111111,
              "#46039f"
             ],
             [
              0.2222222222222222,
              "#7201a8"
             ],
             [
              0.3333333333333333,
              "#9c179e"
             ],
             [
              0.4444444444444444,
              "#bd3786"
             ],
             [
              0.5555555555555556,
              "#d8576b"
             ],
             [
              0.6666666666666666,
              "#ed7953"
             ],
             [
              0.7777777777777778,
              "#fb9f3a"
             ],
             [
              0.8888888888888888,
              "#fdca26"
             ],
             [
              1,
              "#f0f921"
             ]
            ],
            "type": "heatmap"
           }
          ],
          "heatmapgl": [
           {
            "colorbar": {
             "outlinewidth": 0,
             "ticks": ""
            },
            "colorscale": [
             [
              0,
              "#0d0887"
             ],
             [
              0.1111111111111111,
              "#46039f"
             ],
             [
              0.2222222222222222,
              "#7201a8"
             ],
             [
              0.3333333333333333,
              "#9c179e"
             ],
             [
              0.4444444444444444,
              "#bd3786"
             ],
             [
              0.5555555555555556,
              "#d8576b"
             ],
             [
              0.6666666666666666,
              "#ed7953"
             ],
             [
              0.7777777777777778,
              "#fb9f3a"
             ],
             [
              0.8888888888888888,
              "#fdca26"
             ],
             [
              1,
              "#f0f921"
             ]
            ],
            "type": "heatmapgl"
           }
          ],
          "histogram": [
           {
            "marker": {
             "pattern": {
              "fillmode": "overlay",
              "size": 10,
              "solidity": 0.2
             }
            },
            "type": "histogram"
           }
          ],
          "histogram2d": [
           {
            "colorbar": {
             "outlinewidth": 0,
             "ticks": ""
            },
            "colorscale": [
             [
              0,
              "#0d0887"
             ],
             [
              0.1111111111111111,
              "#46039f"
             ],
             [
              0.2222222222222222,
              "#7201a8"
             ],
             [
              0.3333333333333333,
              "#9c179e"
             ],
             [
              0.4444444444444444,
              "#bd3786"
             ],
             [
              0.5555555555555556,
              "#d8576b"
             ],
             [
              0.6666666666666666,
              "#ed7953"
             ],
             [
              0.7777777777777778,
              "#fb9f3a"
             ],
             [
              0.8888888888888888,
              "#fdca26"
             ],
             [
              1,
              "#f0f921"
             ]
            ],
            "type": "histogram2d"
           }
          ],
          "histogram2dcontour": [
           {
            "colorbar": {
             "outlinewidth": 0,
             "ticks": ""
            },
            "colorscale": [
             [
              0,
              "#0d0887"
             ],
             [
              0.1111111111111111,
              "#46039f"
             ],
             [
              0.2222222222222222,
              "#7201a8"
             ],
             [
              0.3333333333333333,
              "#9c179e"
             ],
             [
              0.4444444444444444,
              "#bd3786"
             ],
             [
              0.5555555555555556,
              "#d8576b"
             ],
             [
              0.6666666666666666,
              "#ed7953"
             ],
             [
              0.7777777777777778,
              "#fb9f3a"
             ],
             [
              0.8888888888888888,
              "#fdca26"
             ],
             [
              1,
              "#f0f921"
             ]
            ],
            "type": "histogram2dcontour"
           }
          ],
          "mesh3d": [
           {
            "colorbar": {
             "outlinewidth": 0,
             "ticks": ""
            },
            "type": "mesh3d"
           }
          ],
          "parcoords": [
           {
            "line": {
             "colorbar": {
              "outlinewidth": 0,
              "ticks": ""
             }
            },
            "type": "parcoords"
           }
          ],
          "pie": [
           {
            "automargin": true,
            "type": "pie"
           }
          ],
          "scatter": [
           {
            "fillpattern": {
             "fillmode": "overlay",
             "size": 10,
             "solidity": 0.2
            },
            "type": "scatter"
           }
          ],
          "scatter3d": [
           {
            "line": {
             "colorbar": {
              "outlinewidth": 0,
              "ticks": ""
             }
            },
            "marker": {
             "colorbar": {
              "outlinewidth": 0,
              "ticks": ""
             }
            },
            "type": "scatter3d"
           }
          ],
          "scattercarpet": [
           {
            "marker": {
             "colorbar": {
              "outlinewidth": 0,
              "ticks": ""
             }
            },
            "type": "scattercarpet"
           }
          ],
          "scattergeo": [
           {
            "marker": {
             "colorbar": {
              "outlinewidth": 0,
              "ticks": ""
             }
            },
            "type": "scattergeo"
           }
          ],
          "scattergl": [
           {
            "marker": {
             "colorbar": {
              "outlinewidth": 0,
              "ticks": ""
             }
            },
            "type": "scattergl"
           }
          ],
          "scattermapbox": [
           {
            "marker": {
             "colorbar": {
              "outlinewidth": 0,
              "ticks": ""
             }
            },
            "type": "scattermapbox"
           }
          ],
          "scatterpolar": [
           {
            "marker": {
             "colorbar": {
              "outlinewidth": 0,
              "ticks": ""
             }
            },
            "type": "scatterpolar"
           }
          ],
          "scatterpolargl": [
           {
            "marker": {
             "colorbar": {
              "outlinewidth": 0,
              "ticks": ""
             }
            },
            "type": "scatterpolargl"
           }
          ],
          "scatterternary": [
           {
            "marker": {
             "colorbar": {
              "outlinewidth": 0,
              "ticks": ""
             }
            },
            "type": "scatterternary"
           }
          ],
          "surface": [
           {
            "colorbar": {
             "outlinewidth": 0,
             "ticks": ""
            },
            "colorscale": [
             [
              0,
              "#0d0887"
             ],
             [
              0.1111111111111111,
              "#46039f"
             ],
             [
              0.2222222222222222,
              "#7201a8"
             ],
             [
              0.3333333333333333,
              "#9c179e"
             ],
             [
              0.4444444444444444,
              "#bd3786"
             ],
             [
              0.5555555555555556,
              "#d8576b"
             ],
             [
              0.6666666666666666,
              "#ed7953"
             ],
             [
              0.7777777777777778,
              "#fb9f3a"
             ],
             [
              0.8888888888888888,
              "#fdca26"
             ],
             [
              1,
              "#f0f921"
             ]
            ],
            "type": "surface"
           }
          ],
          "table": [
           {
            "cells": {
             "fill": {
              "color": "#EBF0F8"
             },
             "line": {
              "color": "white"
             }
            },
            "header": {
             "fill": {
              "color": "#C8D4E3"
             },
             "line": {
              "color": "white"
             }
            },
            "type": "table"
           }
          ]
         },
         "layout": {
          "annotationdefaults": {
           "arrowcolor": "#2a3f5f",
           "arrowhead": 0,
           "arrowwidth": 1
          },
          "autotypenumbers": "strict",
          "coloraxis": {
           "colorbar": {
            "outlinewidth": 0,
            "ticks": ""
           }
          },
          "colorscale": {
           "diverging": [
            [
             0,
             "#8e0152"
            ],
            [
             0.1,
             "#c51b7d"
            ],
            [
             0.2,
             "#de77ae"
            ],
            [
             0.3,
             "#f1b6da"
            ],
            [
             0.4,
             "#fde0ef"
            ],
            [
             0.5,
             "#f7f7f7"
            ],
            [
             0.6,
             "#e6f5d0"
            ],
            [
             0.7,
             "#b8e186"
            ],
            [
             0.8,
             "#7fbc41"
            ],
            [
             0.9,
             "#4d9221"
            ],
            [
             1,
             "#276419"
            ]
           ],
           "sequential": [
            [
             0,
             "#0d0887"
            ],
            [
             0.1111111111111111,
             "#46039f"
            ],
            [
             0.2222222222222222,
             "#7201a8"
            ],
            [
             0.3333333333333333,
             "#9c179e"
            ],
            [
             0.4444444444444444,
             "#bd3786"
            ],
            [
             0.5555555555555556,
             "#d8576b"
            ],
            [
             0.6666666666666666,
             "#ed7953"
            ],
            [
             0.7777777777777778,
             "#fb9f3a"
            ],
            [
             0.8888888888888888,
             "#fdca26"
            ],
            [
             1,
             "#f0f921"
            ]
           ],
           "sequentialminus": [
            [
             0,
             "#0d0887"
            ],
            [
             0.1111111111111111,
             "#46039f"
            ],
            [
             0.2222222222222222,
             "#7201a8"
            ],
            [
             0.3333333333333333,
             "#9c179e"
            ],
            [
             0.4444444444444444,
             "#bd3786"
            ],
            [
             0.5555555555555556,
             "#d8576b"
            ],
            [
             0.6666666666666666,
             "#ed7953"
            ],
            [
             0.7777777777777778,
             "#fb9f3a"
            ],
            [
             0.8888888888888888,
             "#fdca26"
            ],
            [
             1,
             "#f0f921"
            ]
           ]
          },
          "colorway": [
           "#636efa",
           "#EF553B",
           "#00cc96",
           "#ab63fa",
           "#FFA15A",
           "#19d3f3",
           "#FF6692",
           "#B6E880",
           "#FF97FF",
           "#FECB52"
          ],
          "font": {
           "color": "#2a3f5f"
          },
          "geo": {
           "bgcolor": "white",
           "lakecolor": "white",
           "landcolor": "#E5ECF6",
           "showlakes": true,
           "showland": true,
           "subunitcolor": "white"
          },
          "hoverlabel": {
           "align": "left"
          },
          "hovermode": "closest",
          "mapbox": {
           "style": "light"
          },
          "paper_bgcolor": "white",
          "plot_bgcolor": "#E5ECF6",
          "polar": {
           "angularaxis": {
            "gridcolor": "white",
            "linecolor": "white",
            "ticks": ""
           },
           "bgcolor": "#E5ECF6",
           "radialaxis": {
            "gridcolor": "white",
            "linecolor": "white",
            "ticks": ""
           }
          },
          "scene": {
           "xaxis": {
            "backgroundcolor": "#E5ECF6",
            "gridcolor": "white",
            "gridwidth": 2,
            "linecolor": "white",
            "showbackground": true,
            "ticks": "",
            "zerolinecolor": "white"
           },
           "yaxis": {
            "backgroundcolor": "#E5ECF6",
            "gridcolor": "white",
            "gridwidth": 2,
            "linecolor": "white",
            "showbackground": true,
            "ticks": "",
            "zerolinecolor": "white"
           },
           "zaxis": {
            "backgroundcolor": "#E5ECF6",
            "gridcolor": "white",
            "gridwidth": 2,
            "linecolor": "white",
            "showbackground": true,
            "ticks": "",
            "zerolinecolor": "white"
           }
          },
          "shapedefaults": {
           "line": {
            "color": "#2a3f5f"
           }
          },
          "ternary": {
           "aaxis": {
            "gridcolor": "white",
            "linecolor": "white",
            "ticks": ""
           },
           "baxis": {
            "gridcolor": "white",
            "linecolor": "white",
            "ticks": ""
           },
           "bgcolor": "#E5ECF6",
           "caxis": {
            "gridcolor": "white",
            "linecolor": "white",
            "ticks": ""
           }
          },
          "title": {
           "x": 0.05
          },
          "xaxis": {
           "automargin": true,
           "gridcolor": "white",
           "linecolor": "white",
           "ticks": "",
           "title": {
            "standoff": 15
           },
           "zerolinecolor": "white",
           "zerolinewidth": 2
          },
          "yaxis": {
           "automargin": true,
           "gridcolor": "white",
           "linecolor": "white",
           "ticks": "",
           "title": {
            "standoff": 15
           },
           "zerolinecolor": "white",
           "zerolinewidth": 2
          }
         }
        },
        "title": {
         "font": {
          "size": 14
         },
         "text": "Path classification as Voyage or not",
         "x": 0.5
        }
       }
      }
     },
     "metadata": {},
     "output_type": "display_data"
    },
    {
     "ename": "NameError",
     "evalue": "name 'similarity_matrix' is not defined",
     "output_type": "error",
     "traceback": [
      "\u001b[0;31m---------------------------------------------------------------------------\u001b[0m",
      "\u001b[0;31mNameError\u001b[0m                                 Traceback (most recent call last)",
      "\u001b[0;32m<ipython-input-95-4052defdf36d>\u001b[0m in \u001b[0;36m<module>\u001b[0;34m\u001b[0m\n\u001b[1;32m     65\u001b[0m \u001b[0;34m\u001b[0m\u001b[0m\n\u001b[1;32m     66\u001b[0m \u001b[0;31m# Perform hierarchical clustering\u001b[0m\u001b[0;34m\u001b[0m\u001b[0;34m\u001b[0m\u001b[0m\n\u001b[0;32m---> 67\u001b[0;31m \u001b[0mlinkage_matrix\u001b[0m \u001b[0;34m=\u001b[0m \u001b[0mlinkage\u001b[0m\u001b[0;34m(\u001b[0m\u001b[0msimilarity_matrix\u001b[0m\u001b[0;34m,\u001b[0m \u001b[0mmethod\u001b[0m\u001b[0;34m=\u001b[0m\u001b[0;34m'ward'\u001b[0m\u001b[0;34m)\u001b[0m\u001b[0;34m\u001b[0m\u001b[0;34m\u001b[0m\u001b[0m\n\u001b[0m\u001b[1;32m     68\u001b[0m \u001b[0;34m\u001b[0m\u001b[0m\n\u001b[1;32m     69\u001b[0m \u001b[0;31m# Plot the dendrogram\u001b[0m\u001b[0;34m\u001b[0m\u001b[0;34m\u001b[0m\u001b[0m\n",
      "\u001b[0;31mNameError\u001b[0m: name 'similarity_matrix' is not defined"
     ]
    }
   ],
   "source": [
    "import pandas as pd\n",
    "import plotly.graph_objects as go\n",
    "\n",
    "# Mapping for start, voyage, and end nodes\n",
    "df_finished_voyage['start_category_label'] = df_finished_voyage['start_category'].apply(lambda x: 'First in Countries/Geography' if x in ['Countries', 'Geography'] else 'First not in Countries/Geography')\n",
    "df_finished_voyage['end_category_label'] = df_finished_voyage['end_category'].apply(lambda x: 'Target in Countries/Geography' if x in ['Countries', 'Geography'] else 'Target not in Countries/Geography')\n",
    "df_finished_voyage['voyage_label'] = df_finished_voyage['voyage'].apply(lambda x: 'Voyage' if x else 'Non-Voyage')\n",
    "\n",
    "# Count occurrences for each flow from start -> voyage -> end\n",
    "flows = df_finished_voyage.groupby(['start_category_label', 'voyage_label', 'end_category_label']).size().reset_index(name='count')\n",
    "\n",
    "# Define nodes for the Sankey diagram\n",
    "labels = ['First in Countries/Geography', 'First not in Countries/Geography',\n",
    "          'Voyage', 'Non-Voyage',\n",
    "          'Target in Countries/Geography', 'Target not in Countries/Geography']\n",
    "\n",
    "# Create mappings for source and target node indices\n",
    "label_map = {label: i for i, label in enumerate(labels)}\n",
    "\n",
    "# Map flows to Sankey source, target, and value arrays\n",
    "sources = []\n",
    "targets = []\n",
    "values = []\n",
    "\n",
    "for _, row in flows.iterrows():\n",
    "    # Add start -> voyage\n",
    "    sources.append(label_map[row['start_category_label']])\n",
    "    targets.append(label_map[row['voyage_label']])\n",
    "    values.append(row['count'])\n",
    "\n",
    "    # Add voyage -> end\n",
    "    sources.append(label_map[row['voyage_label']])\n",
    "    targets.append(label_map[row['end_category_label']])\n",
    "    values.append(row['count'])\n",
    "\n",
    "\n",
    "node_colors = [\n",
    "    \"rgba(0, 128, 128, 0.6)\",  \"rgba(244,109,67,0.8)\",   \n",
    "    \"rgba(0, 128, 128, 0.6)\",  \"rgba(244,109,67,0.8)\",   \n",
    "    \"rgba(0, 128, 128, 0.6)\",  \"rgba(244,109,67,0.8)\"\n",
    "    ]\n",
    "\n",
    "link_colors = [\n",
    "    \"rgba(146,197,222,0.6)\",  \"rgba(244,109,67,0.6)\",   \n",
    "    \"rgba(146,197,222,0.6)\",  \"rgba(244,109,67,0.6)\",   \n",
    "    \"rgba(146,197,222,0.6)\",  \"rgba(244,109,67,0.6)\"\n",
    "    ]\n",
    "\n",
    "# Create the Sankey plot\n",
    "fig = go.Figure(data=[go.Sankey(\n",
    "    node=dict(pad=15, thickness=20, line=dict(color=\"white\", width=0.1), label=labels, color=node_colors),\n",
    "    link=dict(source=sources, target=targets, value=values)\n",
    ")])\n",
    "\n",
    "fig.update_layout(\n",
    "    title_text=\"Path classification as Voyage or not\",\n",
    "    font_size=10,\n",
    "    title_font_size=14,\n",
    "    title_x=0.5,\n",
    "    plot_bgcolor=\"white\"\n",
    ")\n",
    "\n",
    "fig.show()\n",
    "from scipy.cluster.hierarchy import dendrogram, linkage, leaves_list\n",
    "\n",
    "# Perform hierarchical clustering\n",
    "linkage_matrix = linkage(similarity_matrix, method='ward')\n",
    "\n",
    "# Plot the dendrogram\n",
    "plt.figure(figsize=(12, 6))\n",
    "dendrogram(linkage_matrix)\n",
    "plt.title('Hierarchical Clustering Dendrogram')\n",
    "plt.xlabel('Article Index (sorted by similarity)')\n",
    "plt.tick_params(\n",
    "    axis='x',          \n",
    "    which='both',      \n",
    "    bottom=False,      \n",
    "    top=False,    \n",
    "    labelbottom=False)\n",
    "plt.ylabel('Distance')\n",
    "plt.show()"
   ]
  },
  {
   "cell_type": "code",
   "execution_count": null,
   "metadata": {},
   "outputs": [],
   "source": [
    "ordered_indices = leaves_list(linkage_matrix)\n",
    "reordered_matrix = similarity_matrix[ordered_indices, :][:, ordered_indices]\n",
    "\n",
    "plt.figure(figsize=(12, 8))\n",
    "plt.imshow(reordered_matrix, cmap='BuPu')\n",
    "plt.title('Reordered Similarity Matrix')\n",
    "plt.colorbar()\n",
    "plt.show()"
   ]
  },
  {
   "cell_type": "code",
   "execution_count": null,
   "metadata": {},
   "outputs": [],
   "source": [
    "print('The reordered article indices make intuitive sense, similar words are regrouped')\n",
    "print(df_article_names[ordered_indices].head(10))\n",
    "print(df_article_names[ordered_indices].tail(10))"
   ]
  },
  {
   "cell_type": "markdown",
   "metadata": {},
   "source": [
    "## Evolution of similarity on paths"
   ]
  },
  {
   "cell_type": "code",
   "execution_count": null,
   "metadata": {},
   "outputs": [],
   "source": [
    "df_unfinished = read_unfinished_paths()\n",
    "df_finished = read_finished_paths()\n",
    "\n",
    "all_paths = []\n",
    "df_finished['path'].apply(lambda x: all_paths.append(x.split(';')))\n",
    "for path in all_paths:\n",
    "    for step in range(len(path)):\n",
    "        if path[step] == '<':\n",
    "            path[step] = path[step-2]\n",
    "\n",
    "step_similarity = []\n",
    "\n",
    "for path in all_paths:\n",
    "    path_similarity = []\n",
    "    for step in range(len(path)-1):\n",
    "        current, next = sm.get_indices(df_article_names, [path[step], path[step+1]])\n",
    "        path_similarity.append(similarity_matrix[current, next])\n",
    "\n",
    "    step_similarity.append(path_similarity)"
   ]
  },
  {
   "cell_type": "code",
   "execution_count": null,
   "metadata": {},
   "outputs": [],
   "source": [
    "paths_similarity = []\n",
    "for N in range(1, 17):\n",
    "    paths_len_N = []\n",
    "    for path in step_similarity:\n",
    "        if len(path)==N:\n",
    "            paths_len_N.append(path)\n",
    "\n",
    "    paths_similarity.append(np.array(paths_len_N))\n",
    "means = [np.mean(paths_len_N, axis=0) for paths_len_N in paths_similarity]\n"
   ]
  },
  {
   "cell_type": "code",
   "execution_count": null,
   "metadata": {},
   "outputs": [],
   "source": [
    "plt.figure(figsize=(16, 16))\n",
    "for i in range(len(paths_similarity)):\n",
    "    plt.subplot(4, 4, 1+i)\n",
    "    plt.plot(paths_similarity[i].T, 'b.', alpha=0.5)\n",
    "    plt.plot(means[i], 'r', lw=2)\n",
    "    plt.title(f'Path length {i}')\n",
    "plt.show()"
   ]
  },
  {
   "cell_type": "markdown",
   "metadata": {},
   "source": [
    "### html Parsing"
   ]
  },
  {
   "cell_type": "code",
   "execution_count": null,
   "metadata": {},
   "outputs": [],
   "source": [
    "parser = htmlParser()\n",
    "print(f'There are {len(parser.article_URLs)} valid articles')\n",
    "\n",
    "df_html_articles = parser.article_names # The html articles in the data\n",
    "df_article_names = read_articles() # The articles used in the paths-and-graph data\n",
    "intersect = pd.merge(df_html_articles, df_article_names, how='inner', on=\"article\")\n",
    "print(f'There are {len(df_article_names)} articles in the paths-and-graph data and {len(intersect)} of those are in the html articles.')\n",
    "difference = df_html_articles[~df_html_articles.isin(df_article_names)]\n",
    "print(f'This means there are {len(difference)} articles more in the html data, such as \"{difference.iloc[0]}\", \"{difference.iloc[5]}\" or \"{difference.iloc[10]}\".')"
   ]
  },
  {
   "cell_type": "code",
   "execution_count": null,
   "metadata": {},
   "outputs": [],
   "source": [
    "parsed = parser.parse_html_article(parser.article_URLs[266])\n",
    "if parsed: parser.get_overview(parsed)"
   ]
  },
  {
   "cell_type": "code",
   "execution_count": null,
   "metadata": {},
   "outputs": [],
   "source": [
    "df_html_stats = parser2.get_df_html_stats()"
   ]
  },
  {
   "cell_type": "code",
   "execution_count": null,
   "metadata": {},
   "outputs": [],
   "source": [
    "import ipywidgets as widgets\n",
    "from IPython.display import display\n",
    "\n",
    "sort_column = widgets.Dropdown(\n",
    "    options=df_html_stats.columns,\n",
    "    value='total_words',\n",
    "    description='Sort by:'\n",
    ")\n",
    "\n",
    "n_slider = widgets.IntSlider(\n",
    "    value=5,\n",
    "    min=1,\n",
    "    max=20,\n",
    "    step=1,\n",
    "    description='Number (n):'\n",
    ")\n",
    "\n",
    "# Display function to update table based on widget values\n",
    "def display_sorted(n, sort_by):\n",
    "    sorted_df = df_html_stats.sort_values(by=sort_by, ascending=False)\n",
    "    top_n = sorted_df.head(n)\n",
    "    bottom_n = sorted_df.tail(n)\n",
    "    \n",
    "    print(f\"\\nTop {n} Articles by {sort_by}:\")\n",
    "    display(top_n)\n",
    "    print(f\"\\nBottom {n} Articles by {sort_by}:\")\n",
    "    display(bottom_n)\n",
    "\n",
    "# Link widgets to display function\n",
    "widgets.interactive(display_sorted, n=n_slider, sort_by=sort_column)\n"
   ]
  },
  {
   "cell_type": "markdown",
   "metadata": {},
   "source": [
    "# David Notebooks"
   ]
  },
  {
   "cell_type": "code",
   "execution_count": 5,
   "metadata": {},
   "outputs": [],
   "source": [
    "from src.data_loader import *\n",
    "import plotly.graph_objects as go\n",
    "from src.helpers import *"
   ]
  },
  {
   "cell_type": "markdown",
   "metadata": {},
   "source": [
    "## Categories Distributions"
   ]
  },
  {
   "cell_type": "code",
   "execution_count": 6,
   "metadata": {},
   "outputs": [
    {
     "name": "stdout",
     "output_type": "stream",
     "text": [
      "Finished Paths \n",
      "Number of rows before filtering: 51318\n",
      "Invalid articles found in path: {'Pikachu', 'Wikipedia Text of the GNU Free Documentation License'}\n",
      "Number of rows after filtering: 51210 \n",
      "\n",
      "Unfinished Paths \n",
      "Number of rows before filtering: 24875\n",
      "Invalid target articles found: {'The Rock', 'Adolph Hitler', 'Fats', 'Sportacus', 'Rat', 'English', 'Christmas', 'Bogota', ' Zebra', 'Test', 'Charlottes web', 'Black ops 2', 'The', 'Mustard', 'Macedonia', 'Long peper', 'Podcast', 'Georgia', 'Kashmir', 'Great', 'Netbook', 'Western Australia', 'Usa', 'Rss', 'Pikachu'}\n",
      "Invalid articles found in path: {'Pikachu', 'Wikipedia Text of the GNU Free Documentation License'}\n",
      "Number of rows dropped of type 'timeout' with a duration less than 30 minutes: 7\n",
      "Type 'timeout' occurs only after 30 minutes of inactivity, thus this path are technically impossible.\n",
      "Number of rows after filtering: 24714 \n",
      "\n"
     ]
    }
   ],
   "source": [
    "df_finished = read_finished_paths()\n",
    "df_unfinished = read_unfinished_paths()"
   ]
  },
  {
   "cell_type": "code",
   "execution_count": 7,
   "metadata": {},
   "outputs": [],
   "source": [
    "df_categories = read_categories()\n",
    "labels, parents, values, ids = create_treemap_data(df_categories)"
   ]
  },
  {
   "cell_type": "code",
   "execution_count": 8,
   "metadata": {},
   "outputs": [
    {
     "data": {
      "application/vnd.plotly.v1+json": {
       "config": {
        "plotlyServerURL": "https://plot.ly"
       },
       "data": [
        {
         "ids": [
          "Art",
          "Business Studies",
          "Citizenship",
          "Countries",
          "Design and Technology",
          "Everyday life",
          "Geography",
          "History",
          "IT",
          "Language and literature",
          "Mathematics",
          "Music",
          "People",
          "Religion",
          "Science",
          "Art/Art",
          "Art/Artists",
          "Business Studies/Business",
          "Business Studies/Companies",
          "Business Studies/Currency",
          "Business Studies/Economics",
          "Citizenship/Animal and Human Rights",
          "Citizenship/Community organisations",
          "Citizenship/Conflict and Peace",
          "Citizenship/Culture and Diversity",
          "Citizenship/Education",
          "Citizenship/Environment",
          "Citizenship/Law",
          "Citizenship/Media",
          "Citizenship/Politics and government",
          "Design and Technology/Air and Sea transport",
          "Design and Technology/Architecture",
          "Design and Technology/Engineering",
          "Design and Technology/Railway transport",
          "Design and Technology/Road transport",
          "Everyday life/Cartoons",
          "Everyday life/Computer and Video games",
          "Everyday life/Drink",
          "Everyday life/Everyday life",
          "Everyday life/Films",
          "Everyday life/Food and agriculture",
          "Everyday life/Games",
          "Everyday life/Recreation",
          "Everyday life/Sports",
          "Everyday life/Sports events",
          "Everyday life/Sports teams",
          "Everyday life/Television",
          "Geography/African Geography",
          "Geography/Antarctica",
          "Geography/Central and South American Geography",
          "Geography/Climate and the Weather",
          "Geography/European Geography",
          "Geography/General Geography",
          "Geography/Geography of Asia",
          "Geography/Geography of Great Britain",
          "Geography/Geography of Oceania Australasia",
          "Geography/Geography of the Middle East",
          "Geography/Geology and geophysics",
          "Geography/Mineralogy",
          "Geography/Natural Disasters",
          "Geography/North American Geography",
          "Geography/Peoples",
          "Geography/Storms",
          "History/Ancient History Classical History and Mythology",
          "History/Archaeology",
          "History/British History",
          "History/General history",
          "History/Historians chroniclers and history books",
          "History/Military History and War",
          "History/North American History",
          "History/Pre 1900 Military",
          "History/Recent History",
          "History/World War II",
          "IT/Computer Programming",
          "IT/Computing hardware and infrastructure",
          "IT/Cryptography",
          "IT/Software",
          "IT/Websites and the Internet",
          "Language and literature/General Literature",
          "Language and literature/Languages",
          "Language and literature/Linguistics",
          "Language and literature/Literature types",
          "Language and literature/Novels",
          "Language and literature/Poetry and Opera",
          "Language and literature/Theatre",
          "Music/Musical Instruments",
          "Music/Musical Recordings and compositions",
          "Music/Musical genres styles eras and events",
          "Music/Performers and composers",
          "People/Actors models and celebrities",
          "People/Artists",
          "People/Astronomers and physicists",
          "People/Chemists",
          "People/Computing People",
          "People/Engineers and inventors",
          "People/Geographers and explorers",
          "People/Historical figures",
          "People/Human Scientists",
          "People/Mathematicians",
          "People/Military People",
          "People/Monarchs of Great Britain",
          "People/Performers and composers",
          "People/Philosophers",
          "People/Political People",
          "People/Producers directors and media figures",
          "People/Religious figures and leaders",
          "People/Sports and games people",
          "People/USA Presidents",
          "People/Writers and critics",
          "Religion/Divinities",
          "Religion/Myths",
          "Religion/Philosophy",
          "Religion/Religious disputes",
          "Religion/Religious movements traditions and organizations",
          "Religion/Religious texts",
          "Science/Biology",
          "Science/Chemistry",
          "Science/Physics",
          "Geography/African Geography/African Countries",
          "Geography/Central and South American Geography/Central and South American Countries",
          "Geography/European Geography/European Countries",
          "Geography/Geography of Asia/Asian Countries",
          "Geography/Geography of the Middle East/Middle Eastern Countries",
          "History/British History/British History 1500 and before including Roman Britain",
          "History/British History/British History 15001750",
          "History/British History/British History 17501900",
          "History/British History/British History Post 1900",
          "Science/Biology/Birds",
          "Science/Biology/Dinosaurs",
          "Science/Biology/Evolution and reproduction",
          "Science/Biology/General Biology",
          "Science/Biology/Health and medicine",
          "Science/Biology/Insects Reptiles and Fish",
          "Science/Biology/Mammals",
          "Science/Biology/Organisms",
          "Science/Biology/Plants",
          "Science/Chemistry/Chemical compounds",
          "Science/Chemistry/Chemical elements",
          "Science/Chemistry/General Chemistry",
          "Science/Chemistry/Materials science",
          "Science/Physics/Electricity and Electronics",
          "Science/Physics/General Physics",
          "Science/Physics/Space Astronomy",
          "Science/Physics/Space transport",
          "Science/Physics/The Planets"
         ],
         "labels": [
          "Art",
          "Business Studies",
          "Citizenship",
          "Countries",
          "Design and Technology",
          "Everyday life",
          "Geography",
          "History",
          "IT",
          "Language and literature",
          "Mathematics",
          "Music",
          "People",
          "Religion",
          "Science",
          "Art",
          "Artists",
          "Business",
          "Companies",
          "Currency",
          "Economics",
          "Animal and Human Rights",
          "Community organisations",
          "Conflict and Peace",
          "Culture and Diversity",
          "Education",
          "Environment",
          "Law",
          "Media",
          "Politics and government",
          "Air and Sea transport",
          "Architecture",
          "Engineering",
          "Railway transport",
          "Road transport",
          "Cartoons",
          "Computer and Video games",
          "Drink",
          "Everyday life",
          "Films",
          "Food and agriculture",
          "Games",
          "Recreation",
          "Sports",
          "Sports events",
          "Sports teams",
          "Television",
          "African Geography",
          "Antarctica",
          "Central and South American Geography",
          "Climate and the Weather",
          "European Geography",
          "General Geography",
          "Geography of Asia",
          "Geography of Great Britain",
          "Geography of Oceania Australasia",
          "Geography of the Middle East",
          "Geology and geophysics",
          "Mineralogy",
          "Natural Disasters",
          "North American Geography",
          "Peoples",
          "Storms",
          "Ancient History Classical History and Mythology",
          "Archaeology",
          "British History",
          "General history",
          "Historians chroniclers and history books",
          "Military History and War",
          "North American History",
          "Pre 1900 Military",
          "Recent History",
          "World War II",
          "Computer Programming",
          "Computing hardware and infrastructure",
          "Cryptography",
          "Software",
          "Websites and the Internet",
          "General Literature",
          "Languages",
          "Linguistics",
          "Literature types",
          "Novels",
          "Poetry and Opera",
          "Theatre",
          "Musical Instruments",
          "Musical Recordings and compositions",
          "Musical genres styles eras and events",
          "Performers and composers",
          "Actors models and celebrities",
          "Artists",
          "Astronomers and physicists",
          "Chemists",
          "Computing People",
          "Engineers and inventors",
          "Geographers and explorers",
          "Historical figures",
          "Human Scientists",
          "Mathematicians",
          "Military People",
          "Monarchs of Great Britain",
          "Performers and composers",
          "Philosophers",
          "Political People",
          "Producers directors and media figures",
          "Religious figures and leaders",
          "Sports and games people",
          "USA Presidents",
          "Writers and critics",
          "Divinities",
          "Myths",
          "Philosophy",
          "Religious disputes",
          "Religious movements traditions and organizations",
          "Religious texts",
          "Biology",
          "Chemistry",
          "Physics",
          "African Countries",
          "Central and South American Countries",
          "European Countries",
          "Asian Countries",
          "Middle Eastern Countries",
          "British History 1500 and before including Roman Britain",
          "British History 15001750",
          "British History 17501900",
          "British History Post 1900",
          "Birds",
          "Dinosaurs",
          "Evolution and reproduction",
          "General Biology",
          "Health and medicine",
          "Insects Reptiles and Fish",
          "Mammals",
          "Organisms",
          "Plants",
          "Chemical compounds",
          "Chemical elements",
          "General Chemistry",
          "Materials science",
          "Electricity and Electronics",
          "General Physics",
          "Space Astronomy",
          "Space transport",
          "The Planets"
         ],
         "parents": [
          "",
          "",
          "",
          "",
          "",
          "",
          "",
          "",
          "",
          "",
          "",
          "",
          "",
          "",
          "",
          "Art",
          "Art",
          "Business Studies",
          "Business Studies",
          "Business Studies",
          "Business Studies",
          "Citizenship",
          "Citizenship",
          "Citizenship",
          "Citizenship",
          "Citizenship",
          "Citizenship",
          "Citizenship",
          "Citizenship",
          "Citizenship",
          "Design and Technology",
          "Design and Technology",
          "Design and Technology",
          "Design and Technology",
          "Design and Technology",
          "Everyday life",
          "Everyday life",
          "Everyday life",
          "Everyday life",
          "Everyday life",
          "Everyday life",
          "Everyday life",
          "Everyday life",
          "Everyday life",
          "Everyday life",
          "Everyday life",
          "Everyday life",
          "Geography",
          "Geography",
          "Geography",
          "Geography",
          "Geography",
          "Geography",
          "Geography",
          "Geography",
          "Geography",
          "Geography",
          "Geography",
          "Geography",
          "Geography",
          "Geography",
          "Geography",
          "Geography",
          "History",
          "History",
          "History",
          "History",
          "History",
          "History",
          "History",
          "History",
          "History",
          "History",
          "IT",
          "IT",
          "IT",
          "IT",
          "IT",
          "Language and literature",
          "Language and literature",
          "Language and literature",
          "Language and literature",
          "Language and literature",
          "Language and literature",
          "Language and literature",
          "Music",
          "Music",
          "Music",
          "Music",
          "People",
          "People",
          "People",
          "People",
          "People",
          "People",
          "People",
          "People",
          "People",
          "People",
          "People",
          "People",
          "People",
          "People",
          "People",
          "People",
          "People",
          "People",
          "People",
          "People",
          "Religion",
          "Religion",
          "Religion",
          "Religion",
          "Religion",
          "Religion",
          "Science",
          "Science",
          "Science",
          "Geography/African Geography",
          "Geography/Central and South American Geography",
          "Geography/European Geography",
          "Geography/Geography of Asia",
          "Geography/Geography of the Middle East",
          "History/British History",
          "History/British History",
          "History/British History",
          "History/British History",
          "Science/Biology",
          "Science/Biology",
          "Science/Biology",
          "Science/Biology",
          "Science/Biology",
          "Science/Biology",
          "Science/Biology",
          "Science/Biology",
          "Science/Biology",
          "Science/Chemistry",
          "Science/Chemistry",
          "Science/Chemistry",
          "Science/Chemistry",
          "Science/Physics",
          "Science/Physics",
          "Science/Physics",
          "Science/Physics",
          "Science/Physics"
         ],
         "textfont": {
          "size": 18
         },
         "type": "treemap",
         "values": [
          38,
          88,
          224,
          229,
          254,
          374,
          1084,
          545,
          84,
          196,
          45,
          97,
          689,
          134,
          1122,
          36,
          2,
          28,
          18,
          14,
          28,
          17,
          11,
          10,
          16,
          17,
          26,
          19,
          11,
          97,
          24,
          53,
          74,
          84,
          19,
          20,
          26,
          15,
          27,
          36,
          97,
          21,
          21,
          32,
          22,
          16,
          41,
          137,
          8,
          83,
          38,
          139,
          65,
          106,
          124,
          58,
          36,
          76,
          17,
          39,
          103,
          22,
          33,
          87,
          11,
          158,
          80,
          10,
          71,
          22,
          27,
          48,
          31,
          15,
          20,
          6,
          23,
          20,
          16,
          47,
          15,
          17,
          39,
          30,
          32,
          17,
          18,
          46,
          16,
          25,
          36,
          21,
          8,
          9,
          25,
          21,
          108,
          23,
          15,
          22,
          43,
          43,
          23,
          67,
          8,
          39,
          45,
          37,
          71,
          21,
          17,
          24,
          19,
          35,
          18,
          704,
          192,
          226,
          57,
          48,
          56,
          37,
          18,
          73,
          29,
          24,
          18,
          161,
          59,
          11,
          51,
          109,
          72,
          114,
          19,
          108,
          42,
          119,
          21,
          10,
          20,
          55,
          105,
          33,
          13
         ]
        }
       ],
       "layout": {
        "margin": {
         "b": 25,
         "l": 25,
         "r": 25,
         "t": 50
        },
        "template": {
         "data": {
          "bar": [
           {
            "error_x": {
             "color": "#2a3f5f"
            },
            "error_y": {
             "color": "#2a3f5f"
            },
            "marker": {
             "line": {
              "color": "#E5ECF6",
              "width": 0.5
             },
             "pattern": {
              "fillmode": "overlay",
              "size": 10,
              "solidity": 0.2
             }
            },
            "type": "bar"
           }
          ],
          "barpolar": [
           {
            "marker": {
             "line": {
              "color": "#E5ECF6",
              "width": 0.5
             },
             "pattern": {
              "fillmode": "overlay",
              "size": 10,
              "solidity": 0.2
             }
            },
            "type": "barpolar"
           }
          ],
          "carpet": [
           {
            "aaxis": {
             "endlinecolor": "#2a3f5f",
             "gridcolor": "white",
             "linecolor": "white",
             "minorgridcolor": "white",
             "startlinecolor": "#2a3f5f"
            },
            "baxis": {
             "endlinecolor": "#2a3f5f",
             "gridcolor": "white",
             "linecolor": "white",
             "minorgridcolor": "white",
             "startlinecolor": "#2a3f5f"
            },
            "type": "carpet"
           }
          ],
          "choropleth": [
           {
            "colorbar": {
             "outlinewidth": 0,
             "ticks": ""
            },
            "type": "choropleth"
           }
          ],
          "contour": [
           {
            "colorbar": {
             "outlinewidth": 0,
             "ticks": ""
            },
            "colorscale": [
             [
              0,
              "#0d0887"
             ],
             [
              0.1111111111111111,
              "#46039f"
             ],
             [
              0.2222222222222222,
              "#7201a8"
             ],
             [
              0.3333333333333333,
              "#9c179e"
             ],
             [
              0.4444444444444444,
              "#bd3786"
             ],
             [
              0.5555555555555556,
              "#d8576b"
             ],
             [
              0.6666666666666666,
              "#ed7953"
             ],
             [
              0.7777777777777778,
              "#fb9f3a"
             ],
             [
              0.8888888888888888,
              "#fdca26"
             ],
             [
              1,
              "#f0f921"
             ]
            ],
            "type": "contour"
           }
          ],
          "contourcarpet": [
           {
            "colorbar": {
             "outlinewidth": 0,
             "ticks": ""
            },
            "type": "contourcarpet"
           }
          ],
          "heatmap": [
           {
            "colorbar": {
             "outlinewidth": 0,
             "ticks": ""
            },
            "colorscale": [
             [
              0,
              "#0d0887"
             ],
             [
              0.1111111111111111,
              "#46039f"
             ],
             [
              0.2222222222222222,
              "#7201a8"
             ],
             [
              0.3333333333333333,
              "#9c179e"
             ],
             [
              0.4444444444444444,
              "#bd3786"
             ],
             [
              0.5555555555555556,
              "#d8576b"
             ],
             [
              0.6666666666666666,
              "#ed7953"
             ],
             [
              0.7777777777777778,
              "#fb9f3a"
             ],
             [
              0.8888888888888888,
              "#fdca26"
             ],
             [
              1,
              "#f0f921"
             ]
            ],
            "type": "heatmap"
           }
          ],
          "heatmapgl": [
           {
            "colorbar": {
             "outlinewidth": 0,
             "ticks": ""
            },
            "colorscale": [
             [
              0,
              "#0d0887"
             ],
             [
              0.1111111111111111,
              "#46039f"
             ],
             [
              0.2222222222222222,
              "#7201a8"
             ],
             [
              0.3333333333333333,
              "#9c179e"
             ],
             [
              0.4444444444444444,
              "#bd3786"
             ],
             [
              0.5555555555555556,
              "#d8576b"
             ],
             [
              0.6666666666666666,
              "#ed7953"
             ],
             [
              0.7777777777777778,
              "#fb9f3a"
             ],
             [
              0.8888888888888888,
              "#fdca26"
             ],
             [
              1,
              "#f0f921"
             ]
            ],
            "type": "heatmapgl"
           }
          ],
          "histogram": [
           {
            "marker": {
             "pattern": {
              "fillmode": "overlay",
              "size": 10,
              "solidity": 0.2
             }
            },
            "type": "histogram"
           }
          ],
          "histogram2d": [
           {
            "colorbar": {
             "outlinewidth": 0,
             "ticks": ""
            },
            "colorscale": [
             [
              0,
              "#0d0887"
             ],
             [
              0.1111111111111111,
              "#46039f"
             ],
             [
              0.2222222222222222,
              "#7201a8"
             ],
             [
              0.3333333333333333,
              "#9c179e"
             ],
             [
              0.4444444444444444,
              "#bd3786"
             ],
             [
              0.5555555555555556,
              "#d8576b"
             ],
             [
              0.6666666666666666,
              "#ed7953"
             ],
             [
              0.7777777777777778,
              "#fb9f3a"
             ],
             [
              0.8888888888888888,
              "#fdca26"
             ],
             [
              1,
              "#f0f921"
             ]
            ],
            "type": "histogram2d"
           }
          ],
          "histogram2dcontour": [
           {
            "colorbar": {
             "outlinewidth": 0,
             "ticks": ""
            },
            "colorscale": [
             [
              0,
              "#0d0887"
             ],
             [
              0.1111111111111111,
              "#46039f"
             ],
             [
              0.2222222222222222,
              "#7201a8"
             ],
             [
              0.3333333333333333,
              "#9c179e"
             ],
             [
              0.4444444444444444,
              "#bd3786"
             ],
             [
              0.5555555555555556,
              "#d8576b"
             ],
             [
              0.6666666666666666,
              "#ed7953"
             ],
             [
              0.7777777777777778,
              "#fb9f3a"
             ],
             [
              0.8888888888888888,
              "#fdca26"
             ],
             [
              1,
              "#f0f921"
             ]
            ],
            "type": "histogram2dcontour"
           }
          ],
          "mesh3d": [
           {
            "colorbar": {
             "outlinewidth": 0,
             "ticks": ""
            },
            "type": "mesh3d"
           }
          ],
          "parcoords": [
           {
            "line": {
             "colorbar": {
              "outlinewidth": 0,
              "ticks": ""
             }
            },
            "type": "parcoords"
           }
          ],
          "pie": [
           {
            "automargin": true,
            "type": "pie"
           }
          ],
          "scatter": [
           {
            "fillpattern": {
             "fillmode": "overlay",
             "size": 10,
             "solidity": 0.2
            },
            "type": "scatter"
           }
          ],
          "scatter3d": [
           {
            "line": {
             "colorbar": {
              "outlinewidth": 0,
              "ticks": ""
             }
            },
            "marker": {
             "colorbar": {
              "outlinewidth": 0,
              "ticks": ""
             }
            },
            "type": "scatter3d"
           }
          ],
          "scattercarpet": [
           {
            "marker": {
             "colorbar": {
              "outlinewidth": 0,
              "ticks": ""
             }
            },
            "type": "scattercarpet"
           }
          ],
          "scattergeo": [
           {
            "marker": {
             "colorbar": {
              "outlinewidth": 0,
              "ticks": ""
             }
            },
            "type": "scattergeo"
           }
          ],
          "scattergl": [
           {
            "marker": {
             "colorbar": {
              "outlinewidth": 0,
              "ticks": ""
             }
            },
            "type": "scattergl"
           }
          ],
          "scattermapbox": [
           {
            "marker": {
             "colorbar": {
              "outlinewidth": 0,
              "ticks": ""
             }
            },
            "type": "scattermapbox"
           }
          ],
          "scatterpolar": [
           {
            "marker": {
             "colorbar": {
              "outlinewidth": 0,
              "ticks": ""
             }
            },
            "type": "scatterpolar"
           }
          ],
          "scatterpolargl": [
           {
            "marker": {
             "colorbar": {
              "outlinewidth": 0,
              "ticks": ""
             }
            },
            "type": "scatterpolargl"
           }
          ],
          "scatterternary": [
           {
            "marker": {
             "colorbar": {
              "outlinewidth": 0,
              "ticks": ""
             }
            },
            "type": "scatterternary"
           }
          ],
          "surface": [
           {
            "colorbar": {
             "outlinewidth": 0,
             "ticks": ""
            },
            "colorscale": [
             [
              0,
              "#0d0887"
             ],
             [
              0.1111111111111111,
              "#46039f"
             ],
             [
              0.2222222222222222,
              "#7201a8"
             ],
             [
              0.3333333333333333,
              "#9c179e"
             ],
             [
              0.4444444444444444,
              "#bd3786"
             ],
             [
              0.5555555555555556,
              "#d8576b"
             ],
             [
              0.6666666666666666,
              "#ed7953"
             ],
             [
              0.7777777777777778,
              "#fb9f3a"
             ],
             [
              0.8888888888888888,
              "#fdca26"
             ],
             [
              1,
              "#f0f921"
             ]
            ],
            "type": "surface"
           }
          ],
          "table": [
           {
            "cells": {
             "fill": {
              "color": "#EBF0F8"
             },
             "line": {
              "color": "white"
             }
            },
            "header": {
             "fill": {
              "color": "#C8D4E3"
             },
             "line": {
              "color": "white"
             }
            },
            "type": "table"
           }
          ]
         },
         "layout": {
          "annotationdefaults": {
           "arrowcolor": "#2a3f5f",
           "arrowhead": 0,
           "arrowwidth": 1
          },
          "autotypenumbers": "strict",
          "coloraxis": {
           "colorbar": {
            "outlinewidth": 0,
            "ticks": ""
           }
          },
          "colorscale": {
           "diverging": [
            [
             0,
             "#8e0152"
            ],
            [
             0.1,
             "#c51b7d"
            ],
            [
             0.2,
             "#de77ae"
            ],
            [
             0.3,
             "#f1b6da"
            ],
            [
             0.4,
             "#fde0ef"
            ],
            [
             0.5,
             "#f7f7f7"
            ],
            [
             0.6,
             "#e6f5d0"
            ],
            [
             0.7,
             "#b8e186"
            ],
            [
             0.8,
             "#7fbc41"
            ],
            [
             0.9,
             "#4d9221"
            ],
            [
             1,
             "#276419"
            ]
           ],
           "sequential": [
            [
             0,
             "#0d0887"
            ],
            [
             0.1111111111111111,
             "#46039f"
            ],
            [
             0.2222222222222222,
             "#7201a8"
            ],
            [
             0.3333333333333333,
             "#9c179e"
            ],
            [
             0.4444444444444444,
             "#bd3786"
            ],
            [
             0.5555555555555556,
             "#d8576b"
            ],
            [
             0.6666666666666666,
             "#ed7953"
            ],
            [
             0.7777777777777778,
             "#fb9f3a"
            ],
            [
             0.8888888888888888,
             "#fdca26"
            ],
            [
             1,
             "#f0f921"
            ]
           ],
           "sequentialminus": [
            [
             0,
             "#0d0887"
            ],
            [
             0.1111111111111111,
             "#46039f"
            ],
            [
             0.2222222222222222,
             "#7201a8"
            ],
            [
             0.3333333333333333,
             "#9c179e"
            ],
            [
             0.4444444444444444,
             "#bd3786"
            ],
            [
             0.5555555555555556,
             "#d8576b"
            ],
            [
             0.6666666666666666,
             "#ed7953"
            ],
            [
             0.7777777777777778,
             "#fb9f3a"
            ],
            [
             0.8888888888888888,
             "#fdca26"
            ],
            [
             1,
             "#f0f921"
            ]
           ]
          },
          "colorway": [
           "#636efa",
           "#EF553B",
           "#00cc96",
           "#ab63fa",
           "#FFA15A",
           "#19d3f3",
           "#FF6692",
           "#B6E880",
           "#FF97FF",
           "#FECB52"
          ],
          "font": {
           "color": "#2a3f5f"
          },
          "geo": {
           "bgcolor": "white",
           "lakecolor": "white",
           "landcolor": "#E5ECF6",
           "showlakes": true,
           "showland": true,
           "subunitcolor": "white"
          },
          "hoverlabel": {
           "align": "left"
          },
          "hovermode": "closest",
          "mapbox": {
           "style": "light"
          },
          "paper_bgcolor": "white",
          "plot_bgcolor": "#E5ECF6",
          "polar": {
           "angularaxis": {
            "gridcolor": "white",
            "linecolor": "white",
            "ticks": ""
           },
           "bgcolor": "#E5ECF6",
           "radialaxis": {
            "gridcolor": "white",
            "linecolor": "white",
            "ticks": ""
           }
          },
          "scene": {
           "xaxis": {
            "backgroundcolor": "#E5ECF6",
            "gridcolor": "white",
            "gridwidth": 2,
            "linecolor": "white",
            "showbackground": true,
            "ticks": "",
            "zerolinecolor": "white"
           },
           "yaxis": {
            "backgroundcolor": "#E5ECF6",
            "gridcolor": "white",
            "gridwidth": 2,
            "linecolor": "white",
            "showbackground": true,
            "ticks": "",
            "zerolinecolor": "white"
           },
           "zaxis": {
            "backgroundcolor": "#E5ECF6",
            "gridcolor": "white",
            "gridwidth": 2,
            "linecolor": "white",
            "showbackground": true,
            "ticks": "",
            "zerolinecolor": "white"
           }
          },
          "shapedefaults": {
           "line": {
            "color": "#2a3f5f"
           }
          },
          "ternary": {
           "aaxis": {
            "gridcolor": "white",
            "linecolor": "white",
            "ticks": ""
           },
           "baxis": {
            "gridcolor": "white",
            "linecolor": "white",
            "ticks": ""
           },
           "bgcolor": "#E5ECF6",
           "caxis": {
            "gridcolor": "white",
            "linecolor": "white",
            "ticks": ""
           }
          },
          "title": {
           "x": 0.05
          },
          "xaxis": {
           "automargin": true,
           "gridcolor": "white",
           "linecolor": "white",
           "ticks": "",
           "title": {
            "standoff": 15
           },
           "zerolinecolor": "white",
           "zerolinewidth": 2
          },
          "yaxis": {
           "automargin": true,
           "gridcolor": "white",
           "linecolor": "white",
           "ticks": "",
           "title": {
            "standoff": 15
           },
           "zerolinecolor": "white",
           "zerolinewidth": 2
          }
         }
        },
        "title": {
         "text": "Category Distribution in Articles (Some articles have multiple categories, thus the sum of values is greater than the number of articles)"
        }
       }
      }
     },
     "metadata": {},
     "output_type": "display_data"
    }
   ],
   "source": [
    "# Plotting the treemap\n",
    "fig = go.Figure(go.Treemap(\n",
    "    labels=labels,\n",
    "    parents=parents,\n",
    "    values=values,\n",
    "    ids=ids,\n",
    "    #textinfo=\"label+value\",  # Show both label and value\n",
    "    textfont=dict(size=18),  # Increase font size; will automatically fit smaller labels\n",
    "\n",
    "))\n",
    "fig.update_layout(margin=dict(t=50, l=25, r=25, b=25), title=\"Category Distribution in Articles (Some articles have multiple categories, thus the sum of values is greater than the number of articles)\")\n",
    "fig.show()"
   ]
  },
  {
   "cell_type": "markdown",
   "metadata": {},
   "source": [
    "- Assing to articles with multiples categories the most specific category (category with less articles)"
   ]
  },
  {
   "cell_type": "code",
   "execution_count": 9,
   "metadata": {},
   "outputs": [
    {
     "data": {
      "application/vnd.plotly.v1+json": {
       "config": {
        "plotlyServerURL": "https://plot.ly"
       },
       "data": [
        {
         "ids": [
          "Art",
          "Business Studies",
          "Citizenship",
          "Countries",
          "Design and Technology",
          "Everyday life",
          "Geography",
          "History",
          "IT",
          "Language and literature",
          "Mathematics",
          "Music",
          "People",
          "Religion",
          "Science",
          "Art/Art",
          "Art/Artists",
          "Business Studies/Business",
          "Business Studies/Companies",
          "Business Studies/Currency",
          "Business Studies/Economics",
          "Citizenship/Animal and Human Rights",
          "Citizenship/Community organisations",
          "Citizenship/Conflict and Peace",
          "Citizenship/Culture and Diversity",
          "Citizenship/Education",
          "Citizenship/Environment",
          "Citizenship/Law",
          "Citizenship/Media",
          "Citizenship/Politics and government",
          "Design and Technology/Air and Sea transport",
          "Design and Technology/Architecture",
          "Design and Technology/Engineering",
          "Design and Technology/Railway transport",
          "Design and Technology/Road transport",
          "Everyday life/Cartoons",
          "Everyday life/Computer and Video games",
          "Everyday life/Drink",
          "Everyday life/Everyday life",
          "Everyday life/Films",
          "Everyday life/Food and agriculture",
          "Everyday life/Games",
          "Everyday life/Recreation",
          "Everyday life/Sports",
          "Everyday life/Sports events",
          "Everyday life/Sports teams",
          "Everyday life/Television",
          "Geography/African Geography",
          "Geography/Antarctica",
          "Geography/Central and South American Geography",
          "Geography/Climate and the Weather",
          "Geography/European Geography",
          "Geography/General Geography",
          "Geography/Geography of Asia",
          "Geography/Geography of Great Britain",
          "Geography/Geography of Oceania Australasia",
          "Geography/Geography of the Middle East",
          "Geography/Geology and geophysics",
          "Geography/Mineralogy",
          "Geography/Natural Disasters",
          "Geography/North American Geography",
          "Geography/Peoples",
          "Geography/Storms",
          "History/Ancient History Classical History and Mythology",
          "History/Archaeology",
          "History/British History",
          "History/General history",
          "History/Historians chroniclers and history books",
          "History/Military History and War",
          "History/North American History",
          "History/Pre 1900 Military",
          "History/Recent History",
          "History/World War II",
          "IT/Computer Programming",
          "IT/Computing hardware and infrastructure",
          "IT/Cryptography",
          "IT/Software",
          "IT/Websites and the Internet",
          "Language and literature/General Literature",
          "Language and literature/Languages",
          "Language and literature/Linguistics",
          "Language and literature/Literature types",
          "Language and literature/Novels",
          "Language and literature/Poetry and Opera",
          "Language and literature/Theatre",
          "Music/Musical Instruments",
          "Music/Musical Recordings and compositions",
          "Music/Musical genres styles eras and events",
          "Music/Performers and composers",
          "People/Actors models and celebrities",
          "People/Artists",
          "People/Astronomers and physicists",
          "People/Chemists",
          "People/Computing People",
          "People/Engineers and inventors",
          "People/Geographers and explorers",
          "People/Historical figures",
          "People/Human Scientists",
          "People/Mathematicians",
          "People/Military People",
          "People/Monarchs of Great Britain",
          "People/Performers and composers",
          "People/Philosophers",
          "People/Political People",
          "People/Producers directors and media figures",
          "People/Religious figures and leaders",
          "People/Sports and games people",
          "People/USA Presidents",
          "People/Writers and critics",
          "Religion/Divinities",
          "Religion/Myths",
          "Religion/Philosophy",
          "Religion/Religious disputes",
          "Religion/Religious movements traditions and organizations",
          "Religion/Religious texts",
          "Science/Biology",
          "Science/Chemistry",
          "Science/Physics",
          "Geography/African Geography/African Countries",
          "History/British History/British History 1500 and before including Roman Britain",
          "History/British History/British History 15001750",
          "History/British History/British History 17501900",
          "History/British History/British History Post 1900",
          "Science/Biology/Birds",
          "Science/Biology/Dinosaurs",
          "Science/Biology/Evolution and reproduction",
          "Science/Biology/General Biology",
          "Science/Biology/Health and medicine",
          "Science/Biology/Insects Reptiles and Fish",
          "Science/Biology/Mammals",
          "Science/Biology/Organisms",
          "Science/Biology/Plants",
          "Science/Chemistry/Chemical compounds",
          "Science/Chemistry/Chemical elements",
          "Science/Chemistry/General Chemistry",
          "Science/Chemistry/Materials science",
          "Science/Physics/Electricity and Electronics",
          "Science/Physics/General Physics",
          "Science/Physics/Space Astronomy",
          "Science/Physics/Space transport",
          "Science/Physics/The Planets"
         ],
         "labels": [
          "Art",
          "Business Studies",
          "Citizenship",
          "Countries",
          "Design and Technology",
          "Everyday life",
          "Geography",
          "History",
          "IT",
          "Language and literature",
          "Mathematics",
          "Music",
          "People",
          "Religion",
          "Science",
          "Art",
          "Artists",
          "Business",
          "Companies",
          "Currency",
          "Economics",
          "Animal and Human Rights",
          "Community organisations",
          "Conflict and Peace",
          "Culture and Diversity",
          "Education",
          "Environment",
          "Law",
          "Media",
          "Politics and government",
          "Air and Sea transport",
          "Architecture",
          "Engineering",
          "Railway transport",
          "Road transport",
          "Cartoons",
          "Computer and Video games",
          "Drink",
          "Everyday life",
          "Films",
          "Food and agriculture",
          "Games",
          "Recreation",
          "Sports",
          "Sports events",
          "Sports teams",
          "Television",
          "African Geography",
          "Antarctica",
          "Central and South American Geography",
          "Climate and the Weather",
          "European Geography",
          "General Geography",
          "Geography of Asia",
          "Geography of Great Britain",
          "Geography of Oceania Australasia",
          "Geography of the Middle East",
          "Geology and geophysics",
          "Mineralogy",
          "Natural Disasters",
          "North American Geography",
          "Peoples",
          "Storms",
          "Ancient History Classical History and Mythology",
          "Archaeology",
          "British History",
          "General history",
          "Historians chroniclers and history books",
          "Military History and War",
          "North American History",
          "Pre 1900 Military",
          "Recent History",
          "World War II",
          "Computer Programming",
          "Computing hardware and infrastructure",
          "Cryptography",
          "Software",
          "Websites and the Internet",
          "General Literature",
          "Languages",
          "Linguistics",
          "Literature types",
          "Novels",
          "Poetry and Opera",
          "Theatre",
          "Musical Instruments",
          "Musical Recordings and compositions",
          "Musical genres styles eras and events",
          "Performers and composers",
          "Actors models and celebrities",
          "Artists",
          "Astronomers and physicists",
          "Chemists",
          "Computing People",
          "Engineers and inventors",
          "Geographers and explorers",
          "Historical figures",
          "Human Scientists",
          "Mathematicians",
          "Military People",
          "Monarchs of Great Britain",
          "Performers and composers",
          "Philosophers",
          "Political People",
          "Producers directors and media figures",
          "Religious figures and leaders",
          "Sports and games people",
          "USA Presidents",
          "Writers and critics",
          "Divinities",
          "Myths",
          "Philosophy",
          "Religious disputes",
          "Religious movements traditions and organizations",
          "Religious texts",
          "Biology",
          "Chemistry",
          "Physics",
          "African Countries",
          "British History 1500 and before including Roman Britain",
          "British History 15001750",
          "British History 17501900",
          "British History Post 1900",
          "Birds",
          "Dinosaurs",
          "Evolution and reproduction",
          "General Biology",
          "Health and medicine",
          "Insects Reptiles and Fish",
          "Mammals",
          "Organisms",
          "Plants",
          "Chemical compounds",
          "Chemical elements",
          "General Chemistry",
          "Materials science",
          "Electricity and Electronics",
          "General Physics",
          "Space Astronomy",
          "Space transport",
          "The Planets"
         ],
         "parents": [
          "",
          "",
          "",
          "",
          "",
          "",
          "",
          "",
          "",
          "",
          "",
          "",
          "",
          "",
          "",
          "Art",
          "Art",
          "Business Studies",
          "Business Studies",
          "Business Studies",
          "Business Studies",
          "Citizenship",
          "Citizenship",
          "Citizenship",
          "Citizenship",
          "Citizenship",
          "Citizenship",
          "Citizenship",
          "Citizenship",
          "Citizenship",
          "Design and Technology",
          "Design and Technology",
          "Design and Technology",
          "Design and Technology",
          "Design and Technology",
          "Everyday life",
          "Everyday life",
          "Everyday life",
          "Everyday life",
          "Everyday life",
          "Everyday life",
          "Everyday life",
          "Everyday life",
          "Everyday life",
          "Everyday life",
          "Everyday life",
          "Everyday life",
          "Geography",
          "Geography",
          "Geography",
          "Geography",
          "Geography",
          "Geography",
          "Geography",
          "Geography",
          "Geography",
          "Geography",
          "Geography",
          "Geography",
          "Geography",
          "Geography",
          "Geography",
          "Geography",
          "History",
          "History",
          "History",
          "History",
          "History",
          "History",
          "History",
          "History",
          "History",
          "History",
          "IT",
          "IT",
          "IT",
          "IT",
          "IT",
          "Language and literature",
          "Language and literature",
          "Language and literature",
          "Language and literature",
          "Language and literature",
          "Language and literature",
          "Language and literature",
          "Music",
          "Music",
          "Music",
          "Music",
          "People",
          "People",
          "People",
          "People",
          "People",
          "People",
          "People",
          "People",
          "People",
          "People",
          "People",
          "People",
          "People",
          "People",
          "People",
          "People",
          "People",
          "People",
          "People",
          "People",
          "Religion",
          "Religion",
          "Religion",
          "Religion",
          "Religion",
          "Religion",
          "Science",
          "Science",
          "Science",
          "Geography/African Geography",
          "History/British History",
          "History/British History",
          "History/British History",
          "History/British History",
          "Science/Biology",
          "Science/Biology",
          "Science/Biology",
          "Science/Biology",
          "Science/Biology",
          "Science/Biology",
          "Science/Biology",
          "Science/Biology",
          "Science/Biology",
          "Science/Chemistry",
          "Science/Chemistry",
          "Science/Chemistry",
          "Science/Chemistry",
          "Science/Physics",
          "Science/Physics",
          "Science/Physics",
          "Science/Physics",
          "Science/Physics"
         ],
         "textfont": {
          "size": 18
         },
         "type": "treemap",
         "values": [
          38,
          84,
          209,
          229,
          242,
          355,
          800,
          489,
          83,
          193,
          45,
          97,
          578,
          131,
          1024,
          36,
          2,
          27,
          16,
          14,
          27,
          16,
          8,
          10,
          14,
          17,
          25,
          19,
          8,
          92,
          24,
          49,
          67,
          83,
          19,
          19,
          25,
          15,
          20,
          35,
          97,
          21,
          18,
          30,
          22,
          16,
          37,
          81,
          7,
          34,
          31,
          78,
          62,
          68,
          115,
          43,
          16,
          71,
          16,
          36,
          92,
          21,
          29,
          81,
          9,
          134,
          78,
          9,
          63,
          21,
          23,
          44,
          27,
          14,
          20,
          6,
          23,
          20,
          16,
          47,
          15,
          16,
          39,
          30,
          30,
          17,
          18,
          46,
          16,
          25,
          35,
          18,
          8,
          9,
          21,
          20,
          84,
          20,
          15,
          17,
          5,
          38,
          23,
          57,
          7,
          34,
          45,
          37,
          60,
          21,
          17,
          24,
          16,
          35,
          18,
          638,
          180,
          206,
          5,
          61,
          24,
          23,
          16,
          160,
          59,
          8,
          42,
          101,
          72,
          112,
          16,
          68,
          38,
          117,
          15,
          10,
          17,
          50,
          100,
          27,
          12
         ]
        }
       ],
       "layout": {
        "margin": {
         "b": 25,
         "l": 25,
         "r": 25,
         "t": 50
        },
        "template": {
         "data": {
          "bar": [
           {
            "error_x": {
             "color": "#2a3f5f"
            },
            "error_y": {
             "color": "#2a3f5f"
            },
            "marker": {
             "line": {
              "color": "#E5ECF6",
              "width": 0.5
             },
             "pattern": {
              "fillmode": "overlay",
              "size": 10,
              "solidity": 0.2
             }
            },
            "type": "bar"
           }
          ],
          "barpolar": [
           {
            "marker": {
             "line": {
              "color": "#E5ECF6",
              "width": 0.5
             },
             "pattern": {
              "fillmode": "overlay",
              "size": 10,
              "solidity": 0.2
             }
            },
            "type": "barpolar"
           }
          ],
          "carpet": [
           {
            "aaxis": {
             "endlinecolor": "#2a3f5f",
             "gridcolor": "white",
             "linecolor": "white",
             "minorgridcolor": "white",
             "startlinecolor": "#2a3f5f"
            },
            "baxis": {
             "endlinecolor": "#2a3f5f",
             "gridcolor": "white",
             "linecolor": "white",
             "minorgridcolor": "white",
             "startlinecolor": "#2a3f5f"
            },
            "type": "carpet"
           }
          ],
          "choropleth": [
           {
            "colorbar": {
             "outlinewidth": 0,
             "ticks": ""
            },
            "type": "choropleth"
           }
          ],
          "contour": [
           {
            "colorbar": {
             "outlinewidth": 0,
             "ticks": ""
            },
            "colorscale": [
             [
              0,
              "#0d0887"
             ],
             [
              0.1111111111111111,
              "#46039f"
             ],
             [
              0.2222222222222222,
              "#7201a8"
             ],
             [
              0.3333333333333333,
              "#9c179e"
             ],
             [
              0.4444444444444444,
              "#bd3786"
             ],
             [
              0.5555555555555556,
              "#d8576b"
             ],
             [
              0.6666666666666666,
              "#ed7953"
             ],
             [
              0.7777777777777778,
              "#fb9f3a"
             ],
             [
              0.8888888888888888,
              "#fdca26"
             ],
             [
              1,
              "#f0f921"
             ]
            ],
            "type": "contour"
           }
          ],
          "contourcarpet": [
           {
            "colorbar": {
             "outlinewidth": 0,
             "ticks": ""
            },
            "type": "contourcarpet"
           }
          ],
          "heatmap": [
           {
            "colorbar": {
             "outlinewidth": 0,
             "ticks": ""
            },
            "colorscale": [
             [
              0,
              "#0d0887"
             ],
             [
              0.1111111111111111,
              "#46039f"
             ],
             [
              0.2222222222222222,
              "#7201a8"
             ],
             [
              0.3333333333333333,
              "#9c179e"
             ],
             [
              0.4444444444444444,
              "#bd3786"
             ],
             [
              0.5555555555555556,
              "#d8576b"
             ],
             [
              0.6666666666666666,
              "#ed7953"
             ],
             [
              0.7777777777777778,
              "#fb9f3a"
             ],
             [
              0.8888888888888888,
              "#fdca26"
             ],
             [
              1,
              "#f0f921"
             ]
            ],
            "type": "heatmap"
           }
          ],
          "heatmapgl": [
           {
            "colorbar": {
             "outlinewidth": 0,
             "ticks": ""
            },
            "colorscale": [
             [
              0,
              "#0d0887"
             ],
             [
              0.1111111111111111,
              "#46039f"
             ],
             [
              0.2222222222222222,
              "#7201a8"
             ],
             [
              0.3333333333333333,
              "#9c179e"
             ],
             [
              0.4444444444444444,
              "#bd3786"
             ],
             [
              0.5555555555555556,
              "#d8576b"
             ],
             [
              0.6666666666666666,
              "#ed7953"
             ],
             [
              0.7777777777777778,
              "#fb9f3a"
             ],
             [
              0.8888888888888888,
              "#fdca26"
             ],
             [
              1,
              "#f0f921"
             ]
            ],
            "type": "heatmapgl"
           }
          ],
          "histogram": [
           {
            "marker": {
             "pattern": {
              "fillmode": "overlay",
              "size": 10,
              "solidity": 0.2
             }
            },
            "type": "histogram"
           }
          ],
          "histogram2d": [
           {
            "colorbar": {
             "outlinewidth": 0,
             "ticks": ""
            },
            "colorscale": [
             [
              0,
              "#0d0887"
             ],
             [
              0.1111111111111111,
              "#46039f"
             ],
             [
              0.2222222222222222,
              "#7201a8"
             ],
             [
              0.3333333333333333,
              "#9c179e"
             ],
             [
              0.4444444444444444,
              "#bd3786"
             ],
             [
              0.5555555555555556,
              "#d8576b"
             ],
             [
              0.6666666666666666,
              "#ed7953"
             ],
             [
              0.7777777777777778,
              "#fb9f3a"
             ],
             [
              0.8888888888888888,
              "#fdca26"
             ],
             [
              1,
              "#f0f921"
             ]
            ],
            "type": "histogram2d"
           }
          ],
          "histogram2dcontour": [
           {
            "colorbar": {
             "outlinewidth": 0,
             "ticks": ""
            },
            "colorscale": [
             [
              0,
              "#0d0887"
             ],
             [
              0.1111111111111111,
              "#46039f"
             ],
             [
              0.2222222222222222,
              "#7201a8"
             ],
             [
              0.3333333333333333,
              "#9c179e"
             ],
             [
              0.4444444444444444,
              "#bd3786"
             ],
             [
              0.5555555555555556,
              "#d8576b"
             ],
             [
              0.6666666666666666,
              "#ed7953"
             ],
             [
              0.7777777777777778,
              "#fb9f3a"
             ],
             [
              0.8888888888888888,
              "#fdca26"
             ],
             [
              1,
              "#f0f921"
             ]
            ],
            "type": "histogram2dcontour"
           }
          ],
          "mesh3d": [
           {
            "colorbar": {
             "outlinewidth": 0,
             "ticks": ""
            },
            "type": "mesh3d"
           }
          ],
          "parcoords": [
           {
            "line": {
             "colorbar": {
              "outlinewidth": 0,
              "ticks": ""
             }
            },
            "type": "parcoords"
           }
          ],
          "pie": [
           {
            "automargin": true,
            "type": "pie"
           }
          ],
          "scatter": [
           {
            "fillpattern": {
             "fillmode": "overlay",
             "size": 10,
             "solidity": 0.2
            },
            "type": "scatter"
           }
          ],
          "scatter3d": [
           {
            "line": {
             "colorbar": {
              "outlinewidth": 0,
              "ticks": ""
             }
            },
            "marker": {
             "colorbar": {
              "outlinewidth": 0,
              "ticks": ""
             }
            },
            "type": "scatter3d"
           }
          ],
          "scattercarpet": [
           {
            "marker": {
             "colorbar": {
              "outlinewidth": 0,
              "ticks": ""
             }
            },
            "type": "scattercarpet"
           }
          ],
          "scattergeo": [
           {
            "marker": {
             "colorbar": {
              "outlinewidth": 0,
              "ticks": ""
             }
            },
            "type": "scattergeo"
           }
          ],
          "scattergl": [
           {
            "marker": {
             "colorbar": {
              "outlinewidth": 0,
              "ticks": ""
             }
            },
            "type": "scattergl"
           }
          ],
          "scattermapbox": [
           {
            "marker": {
             "colorbar": {
              "outlinewidth": 0,
              "ticks": ""
             }
            },
            "type": "scattermapbox"
           }
          ],
          "scatterpolar": [
           {
            "marker": {
             "colorbar": {
              "outlinewidth": 0,
              "ticks": ""
             }
            },
            "type": "scatterpolar"
           }
          ],
          "scatterpolargl": [
           {
            "marker": {
             "colorbar": {
              "outlinewidth": 0,
              "ticks": ""
             }
            },
            "type": "scatterpolargl"
           }
          ],
          "scatterternary": [
           {
            "marker": {
             "colorbar": {
              "outlinewidth": 0,
              "ticks": ""
             }
            },
            "type": "scatterternary"
           }
          ],
          "surface": [
           {
            "colorbar": {
             "outlinewidth": 0,
             "ticks": ""
            },
            "colorscale": [
             [
              0,
              "#0d0887"
             ],
             [
              0.1111111111111111,
              "#46039f"
             ],
             [
              0.2222222222222222,
              "#7201a8"
             ],
             [
              0.3333333333333333,
              "#9c179e"
             ],
             [
              0.4444444444444444,
              "#bd3786"
             ],
             [
              0.5555555555555556,
              "#d8576b"
             ],
             [
              0.6666666666666666,
              "#ed7953"
             ],
             [
              0.7777777777777778,
              "#fb9f3a"
             ],
             [
              0.8888888888888888,
              "#fdca26"
             ],
             [
              1,
              "#f0f921"
             ]
            ],
            "type": "surface"
           }
          ],
          "table": [
           {
            "cells": {
             "fill": {
              "color": "#EBF0F8"
             },
             "line": {
              "color": "white"
             }
            },
            "header": {
             "fill": {
              "color": "#C8D4E3"
             },
             "line": {
              "color": "white"
             }
            },
            "type": "table"
           }
          ]
         },
         "layout": {
          "annotationdefaults": {
           "arrowcolor": "#2a3f5f",
           "arrowhead": 0,
           "arrowwidth": 1
          },
          "autotypenumbers": "strict",
          "coloraxis": {
           "colorbar": {
            "outlinewidth": 0,
            "ticks": ""
           }
          },
          "colorscale": {
           "diverging": [
            [
             0,
             "#8e0152"
            ],
            [
             0.1,
             "#c51b7d"
            ],
            [
             0.2,
             "#de77ae"
            ],
            [
             0.3,
             "#f1b6da"
            ],
            [
             0.4,
             "#fde0ef"
            ],
            [
             0.5,
             "#f7f7f7"
            ],
            [
             0.6,
             "#e6f5d0"
            ],
            [
             0.7,
             "#b8e186"
            ],
            [
             0.8,
             "#7fbc41"
            ],
            [
             0.9,
             "#4d9221"
            ],
            [
             1,
             "#276419"
            ]
           ],
           "sequential": [
            [
             0,
             "#0d0887"
            ],
            [
             0.1111111111111111,
             "#46039f"
            ],
            [
             0.2222222222222222,
             "#7201a8"
            ],
            [
             0.3333333333333333,
             "#9c179e"
            ],
            [
             0.4444444444444444,
             "#bd3786"
            ],
            [
             0.5555555555555556,
             "#d8576b"
            ],
            [
             0.6666666666666666,
             "#ed7953"
            ],
            [
             0.7777777777777778,
             "#fb9f3a"
            ],
            [
             0.8888888888888888,
             "#fdca26"
            ],
            [
             1,
             "#f0f921"
            ]
           ],
           "sequentialminus": [
            [
             0,
             "#0d0887"
            ],
            [
             0.1111111111111111,
             "#46039f"
            ],
            [
             0.2222222222222222,
             "#7201a8"
            ],
            [
             0.3333333333333333,
             "#9c179e"
            ],
            [
             0.4444444444444444,
             "#bd3786"
            ],
            [
             0.5555555555555556,
             "#d8576b"
            ],
            [
             0.6666666666666666,
             "#ed7953"
            ],
            [
             0.7777777777777778,
             "#fb9f3a"
            ],
            [
             0.8888888888888888,
             "#fdca26"
            ],
            [
             1,
             "#f0f921"
            ]
           ]
          },
          "colorway": [
           "#636efa",
           "#EF553B",
           "#00cc96",
           "#ab63fa",
           "#FFA15A",
           "#19d3f3",
           "#FF6692",
           "#B6E880",
           "#FF97FF",
           "#FECB52"
          ],
          "font": {
           "color": "#2a3f5f"
          },
          "geo": {
           "bgcolor": "white",
           "lakecolor": "white",
           "landcolor": "#E5ECF6",
           "showlakes": true,
           "showland": true,
           "subunitcolor": "white"
          },
          "hoverlabel": {
           "align": "left"
          },
          "hovermode": "closest",
          "mapbox": {
           "style": "light"
          },
          "paper_bgcolor": "white",
          "plot_bgcolor": "#E5ECF6",
          "polar": {
           "angularaxis": {
            "gridcolor": "white",
            "linecolor": "white",
            "ticks": ""
           },
           "bgcolor": "#E5ECF6",
           "radialaxis": {
            "gridcolor": "white",
            "linecolor": "white",
            "ticks": ""
           }
          },
          "scene": {
           "xaxis": {
            "backgroundcolor": "#E5ECF6",
            "gridcolor": "white",
            "gridwidth": 2,
            "linecolor": "white",
            "showbackground": true,
            "ticks": "",
            "zerolinecolor": "white"
           },
           "yaxis": {
            "backgroundcolor": "#E5ECF6",
            "gridcolor": "white",
            "gridwidth": 2,
            "linecolor": "white",
            "showbackground": true,
            "ticks": "",
            "zerolinecolor": "white"
           },
           "zaxis": {
            "backgroundcolor": "#E5ECF6",
            "gridcolor": "white",
            "gridwidth": 2,
            "linecolor": "white",
            "showbackground": true,
            "ticks": "",
            "zerolinecolor": "white"
           }
          },
          "shapedefaults": {
           "line": {
            "color": "#2a3f5f"
           }
          },
          "ternary": {
           "aaxis": {
            "gridcolor": "white",
            "linecolor": "white",
            "ticks": ""
           },
           "baxis": {
            "gridcolor": "white",
            "linecolor": "white",
            "ticks": ""
           },
           "bgcolor": "#E5ECF6",
           "caxis": {
            "gridcolor": "white",
            "linecolor": "white",
            "ticks": ""
           }
          },
          "title": {
           "x": 0.05
          },
          "xaxis": {
           "automargin": true,
           "gridcolor": "white",
           "linecolor": "white",
           "ticks": "",
           "title": {
            "standoff": 15
           },
           "zerolinecolor": "white",
           "zerolinewidth": 2
          },
          "yaxis": {
           "automargin": true,
           "gridcolor": "white",
           "linecolor": "white",
           "ticks": "",
           "title": {
            "standoff": 15
           },
           "zerolinecolor": "white",
           "zerolinewidth": 2
          }
         }
        },
        "title": {
         "text": "Category Distribution in Articles (Only the most specific category is shown for each article)"
        }
       }
      }
     },
     "metadata": {},
     "output_type": "display_data"
    }
   ],
   "source": [
    "df_categories_filtered = filter_most_specific_category(df_categories)\n",
    "labels_filtered, parents_filtered, values_filtered, ids_filtered = create_treemap_data(df_categories_filtered)\n",
    "\n",
    "# Plotting the treemap\n",
    "fig = go.Figure(go.Treemap(\n",
    "    labels=labels_filtered,\n",
    "    parents=parents_filtered,\n",
    "    values=values_filtered,\n",
    "    ids=ids_filtered,\n",
    "    textfont=dict(size=18),  # Increase font size; will automatically fit smaller labels\n",
    "))\n",
    "\n",
    "fig.update_layout(margin=dict(t=50, l=25, r=25, b=25), title=\"Category Distribution in Articles (Only the most specific category is shown for each article)\")\n",
    "fig.show()"
   ]
  },
  {
   "cell_type": "markdown",
   "metadata": {},
   "source": [
    "## Common paths of transitions between categories"
   ]
  },
  {
   "cell_type": "markdown",
   "metadata": {},
   "source": [
    "### Navigation within the same category (not merged)\n",
    "\n",
    "Example :\n",
    "- Science -> Science -> Science\n",
    "- Science -> Science -> Science -> Citizenship -> Design and Technology"
   ]
  },
  {
   "cell_type": "code",
   "execution_count": 10,
   "metadata": {},
   "outputs": [],
   "source": [
    "common_paths_f = analyze_categories_paths(df_finished, df_categories_filtered, omit_loops=False)\n",
    "common_paths_u = analyze_categories_paths(df_unfinished, df_categories_filtered, omit_loops=False)"
   ]
  },
  {
   "cell_type": "code",
   "execution_count": 11,
   "metadata": {},
   "outputs": [
    {
     "data": {
      "application/vnd.plotly.v1+json": {
       "config": {
        "plotlyServerURL": "https://plot.ly"
       },
       "data": [
        {
         "line": {
          "color": "#636EFA"
         },
         "mode": "lines+markers",
         "name": "Art",
         "type": "scatter",
         "x": [
          1,
          2,
          3,
          4,
          5,
          6,
          7,
          8,
          9,
          10,
          11,
          12,
          13,
          14,
          15
         ],
         "xaxis": "x",
         "y": [
          408,
          250,
          251,
          263,
          247,
          173,
          136,
          104,
          66,
          48,
          37,
          32,
          23,
          14,
          14
         ],
         "yaxis": "y"
        },
        {
         "line": {
          "color": "#EF553B"
         },
         "mode": "lines+markers",
         "name": "Business Studies",
         "type": "scatter",
         "x": [
          1,
          2,
          3,
          4,
          5,
          6,
          7,
          8,
          9,
          10,
          11,
          12,
          13,
          14,
          15
         ],
         "xaxis": "x",
         "y": [
          849,
          681,
          767,
          666,
          519,
          347,
          245,
          182,
          126,
          83,
          74,
          53,
          38,
          37,
          30
         ],
         "yaxis": "y"
        },
        {
         "line": {
          "color": "#00CC96"
         },
         "mode": "lines+markers",
         "name": "Citizenship",
         "type": "scatter",
         "x": [
          1,
          2,
          3,
          4,
          5,
          6,
          7,
          8,
          9,
          10,
          11,
          12,
          13,
          14,
          15
         ],
         "xaxis": "x",
         "y": [
          2110,
          2679,
          3069,
          3030,
          1946,
          1307,
          880,
          618,
          396,
          308,
          210,
          175,
          123,
          103,
          90
         ],
         "yaxis": "y"
        },
        {
         "line": {
          "color": "#AB63FA"
         },
         "mode": "lines+markers",
         "name": "Countries",
         "type": "scatter",
         "x": [
          1,
          2,
          3,
          4,
          5,
          6,
          7,
          8,
          9,
          10,
          11,
          12,
          13,
          14,
          15
         ],
         "xaxis": "x",
         "y": [
          2885,
          12264,
          9235,
          7292,
          4490,
          2797,
          1579,
          1028,
          611,
          467,
          306,
          249,
          188,
          137,
          101
         ],
         "yaxis": "y"
        },
        {
         "line": {
          "color": "#FFA15A"
         },
         "mode": "lines+markers",
         "name": "Design and Technology",
         "type": "scatter",
         "x": [
          1,
          2,
          3,
          4,
          5,
          6,
          7,
          8,
          9,
          10,
          11,
          12,
          13,
          14,
          15
         ],
         "xaxis": "x",
         "y": [
          2669,
          759,
          901,
          1015,
          1511,
          1002,
          696,
          515,
          375,
          267,
          174,
          148,
          117,
          98,
          63
         ],
         "yaxis": "y"
        },
        {
         "line": {
          "color": "#19D3F3"
         },
         "mode": "lines+markers",
         "name": "Everyday life",
         "type": "scatter",
         "x": [
          1,
          2,
          3,
          4,
          5,
          6,
          7,
          8,
          9,
          10,
          11,
          12,
          13,
          14,
          15
         ],
         "xaxis": "x",
         "y": [
          5572,
          2385,
          2723,
          2811,
          2559,
          2117,
          1546,
          1189,
          845,
          624,
          470,
          379,
          322,
          239,
          220
         ],
         "yaxis": "y"
        },
        {
         "line": {
          "color": "#FF6692"
         },
         "mode": "lines+markers",
         "name": "Geography",
         "type": "scatter",
         "x": [
          1,
          2,
          3,
          4,
          5,
          6,
          7,
          8,
          9,
          10,
          11,
          12,
          13,
          14,
          15
         ],
         "xaxis": "x",
         "y": [
          7235,
          10732,
          10818,
          9043,
          6645,
          4282,
          2755,
          1854,
          1236,
          844,
          618,
          440,
          337,
          282,
          211
         ],
         "yaxis": "y"
        },
        {
         "line": {
          "color": "#B6E880"
         },
         "mode": "lines+markers",
         "name": "History",
         "type": "scatter",
         "x": [
          1,
          2,
          3,
          4,
          5,
          6,
          7,
          8,
          9,
          10,
          11,
          12,
          13,
          14,
          15
         ],
         "xaxis": "x",
         "y": [
          4004,
          4492,
          4532,
          4060,
          3177,
          2163,
          1607,
          1075,
          780,
          535,
          442,
          324,
          234,
          186,
          155
         ],
         "yaxis": "y"
        },
        {
         "line": {
          "color": "#FF97FF"
         },
         "mode": "lines+markers",
         "name": "IT",
         "type": "scatter",
         "x": [
          1,
          2,
          3,
          4,
          5,
          6,
          7,
          8,
          9,
          10,
          11,
          12,
          13,
          14,
          15
         ],
         "xaxis": "x",
         "y": [
          1201,
          1057,
          927,
          1015,
          1038,
          889,
          654,
          460,
          316,
          247,
          171,
          130,
          102,
          75,
          59
         ],
         "yaxis": "y"
        },
        {
         "line": {
          "color": "#FECB52"
         },
         "mode": "lines+markers",
         "name": "Language and literature",
         "type": "scatter",
         "x": [
          1,
          2,
          3,
          4,
          5,
          6,
          7,
          8,
          9,
          10,
          11,
          12,
          13,
          14,
          15
         ],
         "xaxis": "x",
         "y": [
          2506,
          2201,
          1939,
          1683,
          1067,
          674,
          488,
          294,
          229,
          168,
          127,
          86,
          66,
          70,
          50
         ],
         "yaxis": "y"
        },
        {
         "line": {
          "color": "#636EFA"
         },
         "mode": "lines+markers",
         "name": "Mathematics",
         "type": "scatter",
         "x": [
          1,
          2,
          3,
          4,
          5,
          6,
          7,
          8,
          9,
          10,
          11,
          12,
          13,
          14,
          15
         ],
         "xaxis": "x",
         "y": [
          595,
          338,
          447,
          443,
          428,
          320,
          212,
          152,
          104,
          64,
          55,
          31,
          27,
          19,
          11
         ],
         "yaxis": "y"
        },
        {
         "line": {
          "color": "#EF553B"
         },
         "mode": "lines+markers",
         "name": "Music",
         "type": "scatter",
         "x": [
          1,
          2,
          3,
          4,
          5,
          6,
          7,
          8,
          9,
          10,
          11,
          12,
          13,
          14,
          15
         ],
         "xaxis": "x",
         "y": [
          925,
          358,
          442,
          611,
          551,
          432,
          304,
          230,
          172,
          113,
          84,
          49,
          45,
          29,
          32
         ],
         "yaxis": "y"
        },
        {
         "line": {
          "color": "#00CC96"
         },
         "mode": "lines+markers",
         "name": "People",
         "type": "scatter",
         "x": [
          1,
          2,
          3,
          4,
          5,
          6,
          7,
          8,
          9,
          10,
          11,
          12,
          13,
          14,
          15
         ],
         "xaxis": "x",
         "y": [
          4801,
          1909,
          1774,
          2150,
          2129,
          1532,
          989,
          644,
          433,
          322,
          259,
          161,
          123,
          101,
          91
         ],
         "yaxis": "y"
        },
        {
         "line": {
          "color": "#AB63FA"
         },
         "mode": "lines+markers",
         "name": "Religion",
         "type": "scatter",
         "x": [
          1,
          2,
          3,
          4,
          5,
          6,
          7,
          8,
          9,
          10,
          11,
          12,
          13,
          14,
          15
         ],
         "xaxis": "x",
         "y": [
          1504,
          1534,
          1736,
          1594,
          1328,
          896,
          559,
          354,
          233,
          179,
          134,
          101,
          79,
          59,
          50
         ],
         "yaxis": "y"
        },
        {
         "line": {
          "color": "#FFA15A"
         },
         "mode": "lines+markers",
         "name": "Science",
         "type": "scatter",
         "x": [
          1,
          2,
          3,
          4,
          5,
          6,
          7,
          8,
          9,
          10,
          11,
          12,
          13,
          14,
          15
         ],
         "xaxis": "x",
         "y": [
          13946,
          9560,
          8724,
          9290,
          8376,
          6569,
          4841,
          3424,
          2419,
          1714,
          1255,
          957,
          706,
          589,
          433
         ],
         "yaxis": "y"
        },
        {
         "line": {
          "color": "#19D3F3"
         },
         "mode": "lines+markers",
         "name": "<",
         "type": "scatter",
         "x": [
          3,
          4,
          5,
          6,
          7,
          8,
          9,
          10,
          11,
          12,
          13,
          14,
          15
         ],
         "xaxis": "x",
         "y": [
          2117,
          2012,
          2431,
          2019,
          1901,
          1411,
          1242,
          955,
          819,
          665,
          591,
          464,
          431
         ],
         "yaxis": "y"
        },
        {
         "line": {
          "color": "#636EFA"
         },
         "mode": "lines+markers",
         "name": "Art",
         "showlegend": false,
         "type": "scatter",
         "x": [
          1,
          2,
          3,
          4,
          5,
          6,
          7,
          8,
          9,
          10,
          11,
          12,
          13,
          14,
          15
         ],
         "xaxis": "x2",
         "y": [
          0.7967193907439953,
          0.4882907869294322,
          0.497996111265426,
          0.5598365192217634,
          0.6425264034129338,
          0.6286565645553981,
          0.7013201320132013,
          0.76843505246047,
          0.6887196076385266,
          0.6918420294032862,
          0.7067812798471824,
          0.8040201005025126,
          0.7369432874078821,
          0.5595523581135092,
          0.6859382655560999
         ],
         "yaxis": "y2"
        },
        {
         "line": {
          "color": "#EF553B"
         },
         "mode": "lines+markers",
         "name": "Business Studies",
         "showlegend": false,
         "type": "scatter",
         "x": [
          1,
          2,
          3,
          4,
          5,
          6,
          7,
          8,
          9,
          10,
          11,
          12,
          13,
          14,
          15
         ],
         "xaxis": "x2",
         "y": [
          1.6578793204452256,
          1.3301041035957732,
          1.5217650093250268,
          1.4176848737707013,
          1.3500858436085532,
          1.260946982085105,
          1.2634075907590758,
          1.3447613418058224,
          1.3148283418553688,
          1.1963101758431824,
          1.4135625596943648,
          1.3316582914572863,
          1.2175584748478052,
          1.4788169464428458,
          1.4698677119059285
         ],
         "yaxis": "y2"
        },
        {
         "line": {
          "color": "#00CC96"
         },
         "mode": "lines+markers",
         "name": "Citizenship",
         "showlegend": false,
         "type": "scatter",
         "x": [
          1,
          2,
          3,
          4,
          5,
          6,
          7,
          8,
          9,
          10,
          11,
          12,
          13,
          14,
          15
         ],
         "xaxis": "x2",
         "y": [
          4.120289006053506,
          5.232524072735796,
          6.089044085552161,
          6.449827578866704,
          5.062171583164248,
          4.749445837421417,
          4.537953795379538,
          4.5662775232747155,
          4.13231764583116,
          4.439319688671087,
          4.011461318051576,
          4.396984924623116,
          3.9410445370073695,
          4.116706634692246,
          4.409603135717785
         ],
         "yaxis": "y2"
        },
        {
         "line": {
          "color": "#AB63FA"
         },
         "mode": "lines+markers",
         "name": "Countries",
         "showlegend": false,
         "type": "scatter",
         "x": [
          1,
          2,
          3,
          4,
          5,
          6,
          7,
          8,
          9,
          10,
          11,
          12,
          13,
          14,
          15
         ],
         "xaxis": "x2",
         "y": [
          5.633665299746143,
          23.953592843610227,
          18.32268560771398,
          15.522159308612544,
          11.679933406170335,
          10.163886769141321,
          8.14253300330033,
          7.595684941628492,
          6.375873943441511,
          6.731046411069473,
          5.845272206303725,
          6.256281407035176,
          6.023710349247036,
          5.475619504396483,
          4.948554630083293
         ],
         "yaxis": "y2"
        },
        {
         "line": {
          "color": "#FFA15A"
         },
         "mode": "lines+markers",
         "name": "Design and Technology",
         "showlegend": false,
         "type": "scatter",
         "x": [
          1,
          2,
          3,
          4,
          5,
          6,
          7,
          8,
          9,
          10,
          11,
          12,
          13,
          14,
          15
         ],
         "xaxis": "x2",
         "y": [
          5.211872681116969,
          1.482450829117756,
          1.7876274751001946,
          2.1605858061220147,
          3.930596743145518,
          3.6411206802572766,
          3.5891089108910887,
          3.805231269395596,
          3.9131795888552645,
          3.8483712885557795,
          3.32378223495702,
          3.7185929648241203,
          3.7487984620314005,
          3.9168665067945643,
          3.0867221950024497
         ],
         "yaxis": "y2"
        },
        {
         "line": {
          "color": "#19D3F3"
         },
         "mode": "lines+markers",
         "name": "Everyday life",
         "showlegend": false,
         "type": "scatter",
         "x": [
          1,
          2,
          3,
          4,
          5,
          6,
          7,
          8,
          9,
          10,
          11,
          12,
          13,
          14,
          15
         ],
         "xaxis": "x2",
         "y": [
          10.880687365748877,
          4.658294107306784,
          5.402563390341653,
          5.983651922176338,
          6.656781645075699,
          7.692866746611432,
          7.972359735973597,
          8.78528151322595,
          8.817698006887197,
          8.99394638224272,
          8.97803247373448,
          9.522613065326633,
          10.317206023710348,
          9.552358113509191,
          10.779029887310141
         ],
         "yaxis": "y2"
        },
        {
         "line": {
          "color": "#FF6692"
         },
         "mode": "lines+markers",
         "name": "Geography",
         "showlegend": false,
         "type": "scatter",
         "x": [
          1,
          2,
          3,
          4,
          5,
          6,
          7,
          8,
          9,
          10,
          11,
          12,
          13,
          14,
          15
         ],
         "xaxis": "x2",
         "y": [
          14.128099980472564,
          20.961346901306666,
          21.463433990714652,
          19.249435906168845,
          17.285781176837833,
          15.56015843598968,
          14.206889438943895,
          13.698832569824146,
          12.897839924866952,
          12.164889017007784,
          11.80515759312321,
          11.055276381909549,
          10.797821211150273,
          11.270983213429256,
          10.338069573738364
         ],
         "yaxis": "y2"
        },
        {
         "line": {
          "color": "#B6E880"
         },
         "mode": "lines+markers",
         "name": "History",
         "showlegend": false,
         "type": "scatter",
         "x": [
          1,
          2,
          3,
          4,
          5,
          6,
          7,
          8,
          9,
          10,
          11,
          12,
          13,
          14,
          15
         ],
         "xaxis": "x2",
         "y": [
          7.818785393477837,
          8.773608859548037,
          8.991706678306416,
          8.642343224488059,
          8.264398314343687,
          7.86002398342963,
          8.286922442244224,
          7.942958474951972,
          8.13941354481895,
          7.711155952724128,
          8.443170964660936,
          8.140703517587939,
          7.497596924062801,
          7.434052757793765,
          7.594316511513964
         ],
         "yaxis": "y2"
        },
        {
         "line": {
          "color": "#FF97FF"
         },
         "mode": "lines+markers",
         "name": "IT",
         "showlegend": false,
         "type": "scatter",
         "x": [
          1,
          2,
          3,
          4,
          5,
          6,
          7,
          8,
          9,
          10,
          11,
          12,
          13,
          14,
          15
         ],
         "xaxis": "x2",
         "y": [
          2.3452450693223983,
          2.0644934471376395,
          1.8392127296535852,
          2.1605858061220147,
          2.7001716872171064,
          3.230495294160398,
          3.3725247524752477,
          3.398847347421309,
          3.297506000208703,
          3.5601037763044103,
          3.2664756446991405,
          3.2663316582914574,
          3.2681832745914767,
          2.997601918465228,
          2.8907398334149925
         ],
         "yaxis": "y2"
        },
        {
         "line": {
          "color": "#FECB52"
         },
         "mode": "lines+markers",
         "name": "Language and literature",
         "showlegend": false,
         "type": "scatter",
         "x": [
          1,
          2,
          3,
          4,
          5,
          6,
          7,
          8,
          9,
          10,
          11,
          12,
          13,
          14,
          15
         ],
         "xaxis": "x2",
         "y": [
          4.8935754735403245,
          4.298912088126721,
          3.847069560731717,
          3.5825279918259607,
          2.7756100098850216,
          2.4492169046840364,
          2.5165016501650164,
          2.1723067829170977,
          2.3896483355942815,
          2.4214471029115017,
          2.425978987583572,
          2.1608040201005023,
          2.1147068247356615,
          2.7977617905675456,
          2.449779519843214
         ],
         "yaxis": "y2"
        },
        {
         "line": {
          "color": "#636EFA"
         },
         "mode": "lines+markers",
         "name": "Mathematics",
         "showlegend": false,
         "type": "scatter",
         "x": [
          1,
          2,
          3,
          4,
          5,
          6,
          7,
          8,
          9,
          10,
          11,
          12,
          13,
          14,
          15
         ],
         "xaxis": "x2",
         "y": [
          1.1618824448349931,
          0.6601691439285924,
          0.88686956866791,
          0.9429945932138448,
          1.1133655897195776,
          1.162832951778771,
          1.0932343234323434,
          1.1230973843653023,
          1.0852551393091934,
          0.9224560392043817,
          1.0506208213944603,
          0.7788944723618091,
          0.8651073373918615,
          0.759392486011191,
          0.5389514943655072
         ],
         "yaxis": "y2"
        },
        {
         "line": {
          "color": "#EF553B"
         },
         "mode": "lines+markers",
         "name": "Music",
         "showlegend": false,
         "type": "scatter",
         "x": [
          1,
          2,
          3,
          4,
          5,
          6,
          7,
          8,
          9,
          10,
          11,
          12,
          13,
          14,
          15
         ],
         "xaxis": "x2",
         "y": [
          1.8062878344073423,
          0.699232406882947,
          0.8769493274076426,
          1.300608795606454,
          1.4333281306903907,
          1.5698244849013407,
          1.5676567656765676,
          1.6994236737106545,
          1.7948450380882812,
          1.6287114442202364,
          1.6045845272206303,
          1.2311557788944723,
          1.4418455623197692,
          1.1590727418065547,
          1.567858892699657
         ],
         "yaxis": "y2"
        },
        {
         "line": {
          "color": "#00CC96"
         },
         "mode": "lines+markers",
         "name": "People",
         "showlegend": false,
         "type": "scatter",
         "x": [
          1,
          2,
          3,
          4,
          5,
          6,
          7,
          8,
          9,
          10,
          11,
          12,
          13,
          14,
          15
         ],
         "xaxis": "x2",
         "y": [
          9.375122046475298,
          3.7285884489931442,
          3.519701599142891,
          4.57661032823875,
          5.538213412413507,
          5.567062756640866,
          5.100041254125412,
          4.758386286389833,
          4.518418031931545,
          4.641106947247045,
          4.947468958930277,
          4.045226130653266,
          3.9410445370073695,
          4.0367705835331735,
          4.45859872611465
         ],
         "yaxis": "y2"
        },
        {
         "line": {
          "color": "#AB63FA"
         },
         "mode": "lines+markers",
         "name": "Religion",
         "showlegend": false,
         "type": "scatter",
         "x": [
          1,
          2,
          3,
          4,
          5,
          6,
          7,
          8,
          9,
          10,
          11,
          12,
          13,
          14,
          15
         ],
         "xaxis": "x2",
         "y": [
          2.9369263815661,
          2.996152268598996,
          3.444307765564859,
          3.393077610796543,
          3.4545549138962595,
          3.2559322649805584,
          2.88263201320132,
          2.615634697798138,
          2.4313889178754042,
          2.579994234649755,
          2.559694364851958,
          2.5376884422110555,
          2.531239987183595,
          2.3581135091926457,
          2.449779519843214
         ],
         "yaxis": "y2"
        },
        {
         "line": {
          "color": "#FFA15A"
         },
         "mode": "lines+markers",
         "name": "Science",
         "showlegend": false,
         "type": "scatter",
         "x": [
          1,
          2,
          3,
          4,
          5,
          6,
          7,
          8,
          9,
          10,
          11,
          12,
          13,
          14,
          15
         ],
         "xaxis": "x2",
         "y": [
          27.232962312048425,
          18.67223969218149,
          17.308836950914646,
          19.775213929924647,
          21.788668643670984,
          23.870780188233585,
          24.963902640264028,
          25.299246342544702,
          25.242617134509025,
          24.70452579994235,
          23.973256924546323,
          24.045226130653266,
          22.620954822172383,
          23.541167066346922,
          21.215090641842234
         ],
         "yaxis": "y2"
        },
        {
         "line": {
          "color": "#19D3F3"
         },
         "mode": "lines+markers",
         "name": "<",
         "showlegend": false,
         "type": "scatter",
         "x": [
          3,
          4,
          5,
          6,
          7,
          8,
          9,
          10,
          11,
          12,
          13,
          14,
          15
         ],
         "xaxis": "x2",
         "y": [
          4.200230149597238,
          4.282855804844821,
          6.3238124967483476,
          7.3367491551291835,
          9.803011551155114,
          10.425594798285799,
          12.960450798288637,
          13.764773710002883,
          15.644699140401148,
          16.70854271356784,
          18.93623838513297,
          18.545163868904876,
          21.117099461048504
         ],
         "yaxis": "y2"
        }
       ],
       "layout": {
        "annotations": [
         {
          "font": {
           "size": 16
          },
          "showarrow": false,
          "text": "Non-Normalized Frequencies",
          "x": 0.2375,
          "xanchor": "center",
          "xref": "paper",
          "y": 1,
          "yanchor": "bottom",
          "yref": "paper"
         },
         {
          "font": {
           "size": 16
          },
          "showarrow": false,
          "text": "Normalized Frequencies",
          "x": 0.7625,
          "xanchor": "center",
          "xref": "paper",
          "y": 1,
          "yanchor": "bottom",
          "yref": "paper"
         }
        ],
        "height": 600,
        "legend": {
         "title": {
          "text": "Category"
         }
        },
        "template": {
         "data": {
          "bar": [
           {
            "error_x": {
             "color": "#2a3f5f"
            },
            "error_y": {
             "color": "#2a3f5f"
            },
            "marker": {
             "line": {
              "color": "white",
              "width": 0.5
             },
             "pattern": {
              "fillmode": "overlay",
              "size": 10,
              "solidity": 0.2
             }
            },
            "type": "bar"
           }
          ],
          "barpolar": [
           {
            "marker": {
             "line": {
              "color": "white",
              "width": 0.5
             },
             "pattern": {
              "fillmode": "overlay",
              "size": 10,
              "solidity": 0.2
             }
            },
            "type": "barpolar"
           }
          ],
          "carpet": [
           {
            "aaxis": {
             "endlinecolor": "#2a3f5f",
             "gridcolor": "#C8D4E3",
             "linecolor": "#C8D4E3",
             "minorgridcolor": "#C8D4E3",
             "startlinecolor": "#2a3f5f"
            },
            "baxis": {
             "endlinecolor": "#2a3f5f",
             "gridcolor": "#C8D4E3",
             "linecolor": "#C8D4E3",
             "minorgridcolor": "#C8D4E3",
             "startlinecolor": "#2a3f5f"
            },
            "type": "carpet"
           }
          ],
          "choropleth": [
           {
            "colorbar": {
             "outlinewidth": 0,
             "ticks": ""
            },
            "type": "choropleth"
           }
          ],
          "contour": [
           {
            "colorbar": {
             "outlinewidth": 0,
             "ticks": ""
            },
            "colorscale": [
             [
              0,
              "#0d0887"
             ],
             [
              0.1111111111111111,
              "#46039f"
             ],
             [
              0.2222222222222222,
              "#7201a8"
             ],
             [
              0.3333333333333333,
              "#9c179e"
             ],
             [
              0.4444444444444444,
              "#bd3786"
             ],
             [
              0.5555555555555556,
              "#d8576b"
             ],
             [
              0.6666666666666666,
              "#ed7953"
             ],
             [
              0.7777777777777778,
              "#fb9f3a"
             ],
             [
              0.8888888888888888,
              "#fdca26"
             ],
             [
              1,
              "#f0f921"
             ]
            ],
            "type": "contour"
           }
          ],
          "contourcarpet": [
           {
            "colorbar": {
             "outlinewidth": 0,
             "ticks": ""
            },
            "type": "contourcarpet"
           }
          ],
          "heatmap": [
           {
            "colorbar": {
             "outlinewidth": 0,
             "ticks": ""
            },
            "colorscale": [
             [
              0,
              "#0d0887"
             ],
             [
              0.1111111111111111,
              "#46039f"
             ],
             [
              0.2222222222222222,
              "#7201a8"
             ],
             [
              0.3333333333333333,
              "#9c179e"
             ],
             [
              0.4444444444444444,
              "#bd3786"
             ],
             [
              0.5555555555555556,
              "#d8576b"
             ],
             [
              0.6666666666666666,
              "#ed7953"
             ],
             [
              0.7777777777777778,
              "#fb9f3a"
             ],
             [
              0.8888888888888888,
              "#fdca26"
             ],
             [
              1,
              "#f0f921"
             ]
            ],
            "type": "heatmap"
           }
          ],
          "heatmapgl": [
           {
            "colorbar": {
             "outlinewidth": 0,
             "ticks": ""
            },
            "colorscale": [
             [
              0,
              "#0d0887"
             ],
             [
              0.1111111111111111,
              "#46039f"
             ],
             [
              0.2222222222222222,
              "#7201a8"
             ],
             [
              0.3333333333333333,
              "#9c179e"
             ],
             [
              0.4444444444444444,
              "#bd3786"
             ],
             [
              0.5555555555555556,
              "#d8576b"
             ],
             [
              0.6666666666666666,
              "#ed7953"
             ],
             [
              0.7777777777777778,
              "#fb9f3a"
             ],
             [
              0.8888888888888888,
              "#fdca26"
             ],
             [
              1,
              "#f0f921"
             ]
            ],
            "type": "heatmapgl"
           }
          ],
          "histogram": [
           {
            "marker": {
             "pattern": {
              "fillmode": "overlay",
              "size": 10,
              "solidity": 0.2
             }
            },
            "type": "histogram"
           }
          ],
          "histogram2d": [
           {
            "colorbar": {
             "outlinewidth": 0,
             "ticks": ""
            },
            "colorscale": [
             [
              0,
              "#0d0887"
             ],
             [
              0.1111111111111111,
              "#46039f"
             ],
             [
              0.2222222222222222,
              "#7201a8"
             ],
             [
              0.3333333333333333,
              "#9c179e"
             ],
             [
              0.4444444444444444,
              "#bd3786"
             ],
             [
              0.5555555555555556,
              "#d8576b"
             ],
             [
              0.6666666666666666,
              "#ed7953"
             ],
             [
              0.7777777777777778,
              "#fb9f3a"
             ],
             [
              0.8888888888888888,
              "#fdca26"
             ],
             [
              1,
              "#f0f921"
             ]
            ],
            "type": "histogram2d"
           }
          ],
          "histogram2dcontour": [
           {
            "colorbar": {
             "outlinewidth": 0,
             "ticks": ""
            },
            "colorscale": [
             [
              0,
              "#0d0887"
             ],
             [
              0.1111111111111111,
              "#46039f"
             ],
             [
              0.2222222222222222,
              "#7201a8"
             ],
             [
              0.3333333333333333,
              "#9c179e"
             ],
             [
              0.4444444444444444,
              "#bd3786"
             ],
             [
              0.5555555555555556,
              "#d8576b"
             ],
             [
              0.6666666666666666,
              "#ed7953"
             ],
             [
              0.7777777777777778,
              "#fb9f3a"
             ],
             [
              0.8888888888888888,
              "#fdca26"
             ],
             [
              1,
              "#f0f921"
             ]
            ],
            "type": "histogram2dcontour"
           }
          ],
          "mesh3d": [
           {
            "colorbar": {
             "outlinewidth": 0,
             "ticks": ""
            },
            "type": "mesh3d"
           }
          ],
          "parcoords": [
           {
            "line": {
             "colorbar": {
              "outlinewidth": 0,
              "ticks": ""
             }
            },
            "type": "parcoords"
           }
          ],
          "pie": [
           {
            "automargin": true,
            "type": "pie"
           }
          ],
          "scatter": [
           {
            "fillpattern": {
             "fillmode": "overlay",
             "size": 10,
             "solidity": 0.2
            },
            "type": "scatter"
           }
          ],
          "scatter3d": [
           {
            "line": {
             "colorbar": {
              "outlinewidth": 0,
              "ticks": ""
             }
            },
            "marker": {
             "colorbar": {
              "outlinewidth": 0,
              "ticks": ""
             }
            },
            "type": "scatter3d"
           }
          ],
          "scattercarpet": [
           {
            "marker": {
             "colorbar": {
              "outlinewidth": 0,
              "ticks": ""
             }
            },
            "type": "scattercarpet"
           }
          ],
          "scattergeo": [
           {
            "marker": {
             "colorbar": {
              "outlinewidth": 0,
              "ticks": ""
             }
            },
            "type": "scattergeo"
           }
          ],
          "scattergl": [
           {
            "marker": {
             "colorbar": {
              "outlinewidth": 0,
              "ticks": ""
             }
            },
            "type": "scattergl"
           }
          ],
          "scattermapbox": [
           {
            "marker": {
             "colorbar": {
              "outlinewidth": 0,
              "ticks": ""
             }
            },
            "type": "scattermapbox"
           }
          ],
          "scatterpolar": [
           {
            "marker": {
             "colorbar": {
              "outlinewidth": 0,
              "ticks": ""
             }
            },
            "type": "scatterpolar"
           }
          ],
          "scatterpolargl": [
           {
            "marker": {
             "colorbar": {
              "outlinewidth": 0,
              "ticks": ""
             }
            },
            "type": "scatterpolargl"
           }
          ],
          "scatterternary": [
           {
            "marker": {
             "colorbar": {
              "outlinewidth": 0,
              "ticks": ""
             }
            },
            "type": "scatterternary"
           }
          ],
          "surface": [
           {
            "colorbar": {
             "outlinewidth": 0,
             "ticks": ""
            },
            "colorscale": [
             [
              0,
              "#0d0887"
             ],
             [
              0.1111111111111111,
              "#46039f"
             ],
             [
              0.2222222222222222,
              "#7201a8"
             ],
             [
              0.3333333333333333,
              "#9c179e"
             ],
             [
              0.4444444444444444,
              "#bd3786"
             ],
             [
              0.5555555555555556,
              "#d8576b"
             ],
             [
              0.6666666666666666,
              "#ed7953"
             ],
             [
              0.7777777777777778,
              "#fb9f3a"
             ],
             [
              0.8888888888888888,
              "#fdca26"
             ],
             [
              1,
              "#f0f921"
             ]
            ],
            "type": "surface"
           }
          ],
          "table": [
           {
            "cells": {
             "fill": {
              "color": "#EBF0F8"
             },
             "line": {
              "color": "white"
             }
            },
            "header": {
             "fill": {
              "color": "#C8D4E3"
             },
             "line": {
              "color": "white"
             }
            },
            "type": "table"
           }
          ]
         },
         "layout": {
          "annotationdefaults": {
           "arrowcolor": "#2a3f5f",
           "arrowhead": 0,
           "arrowwidth": 1
          },
          "autotypenumbers": "strict",
          "coloraxis": {
           "colorbar": {
            "outlinewidth": 0,
            "ticks": ""
           }
          },
          "colorscale": {
           "diverging": [
            [
             0,
             "#8e0152"
            ],
            [
             0.1,
             "#c51b7d"
            ],
            [
             0.2,
             "#de77ae"
            ],
            [
             0.3,
             "#f1b6da"
            ],
            [
             0.4,
             "#fde0ef"
            ],
            [
             0.5,
             "#f7f7f7"
            ],
            [
             0.6,
             "#e6f5d0"
            ],
            [
             0.7,
             "#b8e186"
            ],
            [
             0.8,
             "#7fbc41"
            ],
            [
             0.9,
             "#4d9221"
            ],
            [
             1,
             "#276419"
            ]
           ],
           "sequential": [
            [
             0,
             "#0d0887"
            ],
            [
             0.1111111111111111,
             "#46039f"
            ],
            [
             0.2222222222222222,
             "#7201a8"
            ],
            [
             0.3333333333333333,
             "#9c179e"
            ],
            [
             0.4444444444444444,
             "#bd3786"
            ],
            [
             0.5555555555555556,
             "#d8576b"
            ],
            [
             0.6666666666666666,
             "#ed7953"
            ],
            [
             0.7777777777777778,
             "#fb9f3a"
            ],
            [
             0.8888888888888888,
             "#fdca26"
            ],
            [
             1,
             "#f0f921"
            ]
           ],
           "sequentialminus": [
            [
             0,
             "#0d0887"
            ],
            [
             0.1111111111111111,
             "#46039f"
            ],
            [
             0.2222222222222222,
             "#7201a8"
            ],
            [
             0.3333333333333333,
             "#9c179e"
            ],
            [
             0.4444444444444444,
             "#bd3786"
            ],
            [
             0.5555555555555556,
             "#d8576b"
            ],
            [
             0.6666666666666666,
             "#ed7953"
            ],
            [
             0.7777777777777778,
             "#fb9f3a"
            ],
            [
             0.8888888888888888,
             "#fdca26"
            ],
            [
             1,
             "#f0f921"
            ]
           ]
          },
          "colorway": [
           "#636efa",
           "#EF553B",
           "#00cc96",
           "#ab63fa",
           "#FFA15A",
           "#19d3f3",
           "#FF6692",
           "#B6E880",
           "#FF97FF",
           "#FECB52"
          ],
          "font": {
           "color": "#2a3f5f"
          },
          "geo": {
           "bgcolor": "white",
           "lakecolor": "white",
           "landcolor": "white",
           "showlakes": true,
           "showland": true,
           "subunitcolor": "#C8D4E3"
          },
          "hoverlabel": {
           "align": "left"
          },
          "hovermode": "closest",
          "mapbox": {
           "style": "light"
          },
          "paper_bgcolor": "white",
          "plot_bgcolor": "white",
          "polar": {
           "angularaxis": {
            "gridcolor": "#EBF0F8",
            "linecolor": "#EBF0F8",
            "ticks": ""
           },
           "bgcolor": "white",
           "radialaxis": {
            "gridcolor": "#EBF0F8",
            "linecolor": "#EBF0F8",
            "ticks": ""
           }
          },
          "scene": {
           "xaxis": {
            "backgroundcolor": "white",
            "gridcolor": "#DFE8F3",
            "gridwidth": 2,
            "linecolor": "#EBF0F8",
            "showbackground": true,
            "ticks": "",
            "zerolinecolor": "#EBF0F8"
           },
           "yaxis": {
            "backgroundcolor": "white",
            "gridcolor": "#DFE8F3",
            "gridwidth": 2,
            "linecolor": "#EBF0F8",
            "showbackground": true,
            "ticks": "",
            "zerolinecolor": "#EBF0F8"
           },
           "zaxis": {
            "backgroundcolor": "white",
            "gridcolor": "#DFE8F3",
            "gridwidth": 2,
            "linecolor": "#EBF0F8",
            "showbackground": true,
            "ticks": "",
            "zerolinecolor": "#EBF0F8"
           }
          },
          "shapedefaults": {
           "line": {
            "color": "#2a3f5f"
           }
          },
          "ternary": {
           "aaxis": {
            "gridcolor": "#DFE8F3",
            "linecolor": "#A2B1C6",
            "ticks": ""
           },
           "baxis": {
            "gridcolor": "#DFE8F3",
            "linecolor": "#A2B1C6",
            "ticks": ""
           },
           "bgcolor": "white",
           "caxis": {
            "gridcolor": "#DFE8F3",
            "linecolor": "#A2B1C6",
            "ticks": ""
           }
          },
          "title": {
           "x": 0.05
          },
          "xaxis": {
           "automargin": true,
           "gridcolor": "#EBF0F8",
           "linecolor": "#EBF0F8",
           "ticks": "",
           "title": {
            "standoff": 15
           },
           "zerolinecolor": "#EBF0F8",
           "zerolinewidth": 2
          },
          "yaxis": {
           "automargin": true,
           "gridcolor": "#EBF0F8",
           "linecolor": "#EBF0F8",
           "ticks": "",
           "title": {
            "standoff": 15
           },
           "zerolinecolor": "#EBF0F8",
           "zerolinewidth": 2
          }
         }
        },
        "title": {
         "text": "Position Frequencies for Finished Paths"
        },
        "width": 1200,
        "xaxis": {
         "anchor": "y",
         "domain": [
          0,
          0.475
         ],
         "title": {
          "text": "Position in Path"
         }
        },
        "xaxis2": {
         "anchor": "y2",
         "domain": [
          0.525,
          1
         ],
         "title": {
          "text": "Position in Path"
         }
        },
        "yaxis": {
         "anchor": "x",
         "domain": [
          0,
          1
         ],
         "title": {
          "text": "Frequency"
         }
        },
        "yaxis2": {
         "anchor": "x2",
         "domain": [
          0,
          1
         ],
         "title": {
          "text": "Percentage (%)"
         }
        }
       }
      }
     },
     "metadata": {},
     "output_type": "display_data"
    }
   ],
   "source": [
    "df_position_data = get_position_frequencies(common_paths_f, max_position=15)\n",
    "plot_position_line(df_position_data, title=\"Position Frequencies for Finished Paths\")"
   ]
  },
  {
   "cell_type": "code",
   "execution_count": 12,
   "metadata": {},
   "outputs": [
    {
     "data": {
      "application/vnd.plotly.v1+json": {
       "config": {
        "plotlyServerURL": "https://plot.ly"
       },
       "data": [
        {
         "marker": {
          "color": "#636EFA"
         },
         "name": "Art",
         "type": "bar",
         "x": [
          1,
          2,
          3,
          4,
          5,
          6,
          7,
          8,
          9,
          10,
          11,
          12,
          13,
          14,
          15
         ],
         "xaxis": "x",
         "y": [
          0.7967193907439953,
          0.4882907869294322,
          0.497996111265426,
          0.5598365192217634,
          0.6425264034129338,
          0.6286565645553981,
          0.7013201320132013,
          0.76843505246047,
          0.6887196076385266,
          0.6918420294032862,
          0.7067812798471824,
          0.8040201005025126,
          0.7369432874078821,
          0.5595523581135092,
          0.6859382655560999
         ],
         "yaxis": "y"
        },
        {
         "marker": {
          "color": "#EF553B"
         },
         "name": "Business Studies",
         "type": "bar",
         "x": [
          1,
          2,
          3,
          4,
          5,
          6,
          7,
          8,
          9,
          10,
          11,
          12,
          13,
          14,
          15
         ],
         "xaxis": "x",
         "y": [
          1.6578793204452256,
          1.3301041035957732,
          1.5217650093250268,
          1.4176848737707013,
          1.3500858436085532,
          1.260946982085105,
          1.2634075907590758,
          1.3447613418058224,
          1.3148283418553688,
          1.1963101758431824,
          1.4135625596943648,
          1.3316582914572863,
          1.2175584748478052,
          1.4788169464428458,
          1.4698677119059285
         ],
         "yaxis": "y"
        },
        {
         "marker": {
          "color": "#00CC96"
         },
         "name": "Citizenship",
         "type": "bar",
         "x": [
          1,
          2,
          3,
          4,
          5,
          6,
          7,
          8,
          9,
          10,
          11,
          12,
          13,
          14,
          15
         ],
         "xaxis": "x",
         "y": [
          4.120289006053506,
          5.232524072735796,
          6.089044085552161,
          6.449827578866704,
          5.062171583164248,
          4.749445837421417,
          4.537953795379538,
          4.5662775232747155,
          4.13231764583116,
          4.439319688671087,
          4.011461318051576,
          4.396984924623116,
          3.9410445370073695,
          4.116706634692246,
          4.409603135717785
         ],
         "yaxis": "y"
        },
        {
         "marker": {
          "color": "#AB63FA"
         },
         "name": "Countries",
         "type": "bar",
         "x": [
          1,
          2,
          3,
          4,
          5,
          6,
          7,
          8,
          9,
          10,
          11,
          12,
          13,
          14,
          15
         ],
         "xaxis": "x",
         "y": [
          5.633665299746143,
          23.953592843610227,
          18.32268560771398,
          15.522159308612544,
          11.679933406170335,
          10.163886769141321,
          8.14253300330033,
          7.595684941628492,
          6.375873943441511,
          6.731046411069473,
          5.845272206303725,
          6.256281407035176,
          6.023710349247036,
          5.475619504396483,
          4.948554630083293
         ],
         "yaxis": "y"
        },
        {
         "marker": {
          "color": "#FFA15A"
         },
         "name": "Design and Technology",
         "type": "bar",
         "x": [
          1,
          2,
          3,
          4,
          5,
          6,
          7,
          8,
          9,
          10,
          11,
          12,
          13,
          14,
          15
         ],
         "xaxis": "x",
         "y": [
          5.211872681116969,
          1.482450829117756,
          1.7876274751001946,
          2.1605858061220147,
          3.930596743145518,
          3.6411206802572766,
          3.5891089108910887,
          3.805231269395596,
          3.9131795888552645,
          3.8483712885557795,
          3.32378223495702,
          3.7185929648241203,
          3.7487984620314005,
          3.9168665067945643,
          3.0867221950024497
         ],
         "yaxis": "y"
        },
        {
         "marker": {
          "color": "#19D3F3"
         },
         "name": "Everyday life",
         "type": "bar",
         "x": [
          1,
          2,
          3,
          4,
          5,
          6,
          7,
          8,
          9,
          10,
          11,
          12,
          13,
          14,
          15
         ],
         "xaxis": "x",
         "y": [
          10.880687365748877,
          4.658294107306784,
          5.402563390341653,
          5.983651922176338,
          6.656781645075699,
          7.692866746611432,
          7.972359735973597,
          8.78528151322595,
          8.817698006887197,
          8.99394638224272,
          8.97803247373448,
          9.522613065326633,
          10.317206023710348,
          9.552358113509191,
          10.779029887310141
         ],
         "yaxis": "y"
        },
        {
         "marker": {
          "color": "#FF6692"
         },
         "name": "Geography",
         "type": "bar",
         "x": [
          1,
          2,
          3,
          4,
          5,
          6,
          7,
          8,
          9,
          10,
          11,
          12,
          13,
          14,
          15
         ],
         "xaxis": "x",
         "y": [
          14.128099980472564,
          20.961346901306666,
          21.463433990714652,
          19.249435906168845,
          17.285781176837833,
          15.56015843598968,
          14.206889438943895,
          13.698832569824146,
          12.897839924866952,
          12.164889017007784,
          11.80515759312321,
          11.055276381909549,
          10.797821211150273,
          11.270983213429256,
          10.338069573738364
         ],
         "yaxis": "y"
        },
        {
         "marker": {
          "color": "#B6E880"
         },
         "name": "History",
         "type": "bar",
         "x": [
          1,
          2,
          3,
          4,
          5,
          6,
          7,
          8,
          9,
          10,
          11,
          12,
          13,
          14,
          15
         ],
         "xaxis": "x",
         "y": [
          7.818785393477837,
          8.773608859548037,
          8.991706678306416,
          8.642343224488059,
          8.264398314343687,
          7.86002398342963,
          8.286922442244224,
          7.942958474951972,
          8.13941354481895,
          7.711155952724128,
          8.443170964660936,
          8.140703517587939,
          7.497596924062801,
          7.434052757793765,
          7.594316511513964
         ],
         "yaxis": "y"
        },
        {
         "marker": {
          "color": "#FF97FF"
         },
         "name": "IT",
         "type": "bar",
         "x": [
          1,
          2,
          3,
          4,
          5,
          6,
          7,
          8,
          9,
          10,
          11,
          12,
          13,
          14,
          15
         ],
         "xaxis": "x",
         "y": [
          2.3452450693223983,
          2.0644934471376395,
          1.8392127296535852,
          2.1605858061220147,
          2.7001716872171064,
          3.230495294160398,
          3.3725247524752477,
          3.398847347421309,
          3.297506000208703,
          3.5601037763044103,
          3.2664756446991405,
          3.2663316582914574,
          3.2681832745914767,
          2.997601918465228,
          2.8907398334149925
         ],
         "yaxis": "y"
        },
        {
         "marker": {
          "color": "#FECB52"
         },
         "name": "Language and literature",
         "type": "bar",
         "x": [
          1,
          2,
          3,
          4,
          5,
          6,
          7,
          8,
          9,
          10,
          11,
          12,
          13,
          14,
          15
         ],
         "xaxis": "x",
         "y": [
          4.8935754735403245,
          4.298912088126721,
          3.847069560731717,
          3.5825279918259607,
          2.7756100098850216,
          2.4492169046840364,
          2.5165016501650164,
          2.1723067829170977,
          2.3896483355942815,
          2.4214471029115017,
          2.425978987583572,
          2.1608040201005023,
          2.1147068247356615,
          2.7977617905675456,
          2.449779519843214
         ],
         "yaxis": "y"
        },
        {
         "marker": {
          "color": "#636EFA"
         },
         "name": "Mathematics",
         "type": "bar",
         "x": [
          1,
          2,
          3,
          4,
          5,
          6,
          7,
          8,
          9,
          10,
          11,
          12,
          13,
          14,
          15
         ],
         "xaxis": "x",
         "y": [
          1.1618824448349931,
          0.6601691439285924,
          0.88686956866791,
          0.9429945932138448,
          1.1133655897195776,
          1.162832951778771,
          1.0932343234323434,
          1.1230973843653023,
          1.0852551393091934,
          0.9224560392043817,
          1.0506208213944603,
          0.7788944723618091,
          0.8651073373918615,
          0.759392486011191,
          0.5389514943655072
         ],
         "yaxis": "y"
        },
        {
         "marker": {
          "color": "#EF553B"
         },
         "name": "Music",
         "type": "bar",
         "x": [
          1,
          2,
          3,
          4,
          5,
          6,
          7,
          8,
          9,
          10,
          11,
          12,
          13,
          14,
          15
         ],
         "xaxis": "x",
         "y": [
          1.8062878344073423,
          0.699232406882947,
          0.8769493274076426,
          1.300608795606454,
          1.4333281306903907,
          1.5698244849013407,
          1.5676567656765676,
          1.6994236737106545,
          1.7948450380882812,
          1.6287114442202364,
          1.6045845272206303,
          1.2311557788944723,
          1.4418455623197692,
          1.1590727418065547,
          1.567858892699657
         ],
         "yaxis": "y"
        },
        {
         "marker": {
          "color": "#00CC96"
         },
         "name": "People",
         "type": "bar",
         "x": [
          1,
          2,
          3,
          4,
          5,
          6,
          7,
          8,
          9,
          10,
          11,
          12,
          13,
          14,
          15
         ],
         "xaxis": "x",
         "y": [
          9.375122046475298,
          3.7285884489931442,
          3.519701599142891,
          4.57661032823875,
          5.538213412413507,
          5.567062756640866,
          5.100041254125412,
          4.758386286389833,
          4.518418031931545,
          4.641106947247045,
          4.947468958930277,
          4.045226130653266,
          3.9410445370073695,
          4.0367705835331735,
          4.45859872611465
         ],
         "yaxis": "y"
        },
        {
         "marker": {
          "color": "#AB63FA"
         },
         "name": "Religion",
         "type": "bar",
         "x": [
          1,
          2,
          3,
          4,
          5,
          6,
          7,
          8,
          9,
          10,
          11,
          12,
          13,
          14,
          15
         ],
         "xaxis": "x",
         "y": [
          2.9369263815661,
          2.996152268598996,
          3.444307765564859,
          3.393077610796543,
          3.4545549138962595,
          3.2559322649805584,
          2.88263201320132,
          2.615634697798138,
          2.4313889178754042,
          2.579994234649755,
          2.559694364851958,
          2.5376884422110555,
          2.531239987183595,
          2.3581135091926457,
          2.449779519843214
         ],
         "yaxis": "y"
        },
        {
         "marker": {
          "color": "#FFA15A"
         },
         "name": "Science",
         "type": "bar",
         "x": [
          1,
          2,
          3,
          4,
          5,
          6,
          7,
          8,
          9,
          10,
          11,
          12,
          13,
          14,
          15
         ],
         "xaxis": "x",
         "y": [
          27.232962312048425,
          18.67223969218149,
          17.308836950914646,
          19.775213929924647,
          21.788668643670984,
          23.870780188233585,
          24.963902640264028,
          25.299246342544702,
          25.242617134509025,
          24.70452579994235,
          23.973256924546323,
          24.045226130653266,
          22.620954822172383,
          23.541167066346922,
          21.215090641842234
         ],
         "yaxis": "y"
        },
        {
         "marker": {
          "color": "#19D3F3"
         },
         "name": "<",
         "type": "bar",
         "x": [
          3,
          4,
          5,
          6,
          7,
          8,
          9,
          10,
          11,
          12,
          13,
          14,
          15
         ],
         "xaxis": "x",
         "y": [
          4.200230149597238,
          4.282855804844821,
          6.3238124967483476,
          7.3367491551291835,
          9.803011551155114,
          10.425594798285799,
          12.960450798288637,
          13.764773710002883,
          15.644699140401148,
          16.70854271356784,
          18.93623838513297,
          18.545163868904876,
          21.117099461048504
         ],
         "yaxis": "y"
        }
       ],
       "layout": {
        "annotations": [
         {
          "font": {
           "size": 16
          },
          "showarrow": false,
          "text": "Normalized Category Frequencies Across Path Positions",
          "x": 0.5,
          "xanchor": "center",
          "xref": "paper",
          "y": 1,
          "yanchor": "bottom",
          "yref": "paper"
         }
        ],
        "barmode": "stack",
        "height": 600,
        "legend": {
         "title": {
          "text": "Category"
         }
        },
        "template": {
         "data": {
          "bar": [
           {
            "error_x": {
             "color": "#2a3f5f"
            },
            "error_y": {
             "color": "#2a3f5f"
            },
            "marker": {
             "line": {
              "color": "white",
              "width": 0.5
             },
             "pattern": {
              "fillmode": "overlay",
              "size": 10,
              "solidity": 0.2
             }
            },
            "type": "bar"
           }
          ],
          "barpolar": [
           {
            "marker": {
             "line": {
              "color": "white",
              "width": 0.5
             },
             "pattern": {
              "fillmode": "overlay",
              "size": 10,
              "solidity": 0.2
             }
            },
            "type": "barpolar"
           }
          ],
          "carpet": [
           {
            "aaxis": {
             "endlinecolor": "#2a3f5f",
             "gridcolor": "#C8D4E3",
             "linecolor": "#C8D4E3",
             "minorgridcolor": "#C8D4E3",
             "startlinecolor": "#2a3f5f"
            },
            "baxis": {
             "endlinecolor": "#2a3f5f",
             "gridcolor": "#C8D4E3",
             "linecolor": "#C8D4E3",
             "minorgridcolor": "#C8D4E3",
             "startlinecolor": "#2a3f5f"
            },
            "type": "carpet"
           }
          ],
          "choropleth": [
           {
            "colorbar": {
             "outlinewidth": 0,
             "ticks": ""
            },
            "type": "choropleth"
           }
          ],
          "contour": [
           {
            "colorbar": {
             "outlinewidth": 0,
             "ticks": ""
            },
            "colorscale": [
             [
              0,
              "#0d0887"
             ],
             [
              0.1111111111111111,
              "#46039f"
             ],
             [
              0.2222222222222222,
              "#7201a8"
             ],
             [
              0.3333333333333333,
              "#9c179e"
             ],
             [
              0.4444444444444444,
              "#bd3786"
             ],
             [
              0.5555555555555556,
              "#d8576b"
             ],
             [
              0.6666666666666666,
              "#ed7953"
             ],
             [
              0.7777777777777778,
              "#fb9f3a"
             ],
             [
              0.8888888888888888,
              "#fdca26"
             ],
             [
              1,
              "#f0f921"
             ]
            ],
            "type": "contour"
           }
          ],
          "contourcarpet": [
           {
            "colorbar": {
             "outlinewidth": 0,
             "ticks": ""
            },
            "type": "contourcarpet"
           }
          ],
          "heatmap": [
           {
            "colorbar": {
             "outlinewidth": 0,
             "ticks": ""
            },
            "colorscale": [
             [
              0,
              "#0d0887"
             ],
             [
              0.1111111111111111,
              "#46039f"
             ],
             [
              0.2222222222222222,
              "#7201a8"
             ],
             [
              0.3333333333333333,
              "#9c179e"
             ],
             [
              0.4444444444444444,
              "#bd3786"
             ],
             [
              0.5555555555555556,
              "#d8576b"
             ],
             [
              0.6666666666666666,
              "#ed7953"
             ],
             [
              0.7777777777777778,
              "#fb9f3a"
             ],
             [
              0.8888888888888888,
              "#fdca26"
             ],
             [
              1,
              "#f0f921"
             ]
            ],
            "type": "heatmap"
           }
          ],
          "heatmapgl": [
           {
            "colorbar": {
             "outlinewidth": 0,
             "ticks": ""
            },
            "colorscale": [
             [
              0,
              "#0d0887"
             ],
             [
              0.1111111111111111,
              "#46039f"
             ],
             [
              0.2222222222222222,
              "#7201a8"
             ],
             [
              0.3333333333333333,
              "#9c179e"
             ],
             [
              0.4444444444444444,
              "#bd3786"
             ],
             [
              0.5555555555555556,
              "#d8576b"
             ],
             [
              0.6666666666666666,
              "#ed7953"
             ],
             [
              0.7777777777777778,
              "#fb9f3a"
             ],
             [
              0.8888888888888888,
              "#fdca26"
             ],
             [
              1,
              "#f0f921"
             ]
            ],
            "type": "heatmapgl"
           }
          ],
          "histogram": [
           {
            "marker": {
             "pattern": {
              "fillmode": "overlay",
              "size": 10,
              "solidity": 0.2
             }
            },
            "type": "histogram"
           }
          ],
          "histogram2d": [
           {
            "colorbar": {
             "outlinewidth": 0,
             "ticks": ""
            },
            "colorscale": [
             [
              0,
              "#0d0887"
             ],
             [
              0.1111111111111111,
              "#46039f"
             ],
             [
              0.2222222222222222,
              "#7201a8"
             ],
             [
              0.3333333333333333,
              "#9c179e"
             ],
             [
              0.4444444444444444,
              "#bd3786"
             ],
             [
              0.5555555555555556,
              "#d8576b"
             ],
             [
              0.6666666666666666,
              "#ed7953"
             ],
             [
              0.7777777777777778,
              "#fb9f3a"
             ],
             [
              0.8888888888888888,
              "#fdca26"
             ],
             [
              1,
              "#f0f921"
             ]
            ],
            "type": "histogram2d"
           }
          ],
          "histogram2dcontour": [
           {
            "colorbar": {
             "outlinewidth": 0,
             "ticks": ""
            },
            "colorscale": [
             [
              0,
              "#0d0887"
             ],
             [
              0.1111111111111111,
              "#46039f"
             ],
             [
              0.2222222222222222,
              "#7201a8"
             ],
             [
              0.3333333333333333,
              "#9c179e"
             ],
             [
              0.4444444444444444,
              "#bd3786"
             ],
             [
              0.5555555555555556,
              "#d8576b"
             ],
             [
              0.6666666666666666,
              "#ed7953"
             ],
             [
              0.7777777777777778,
              "#fb9f3a"
             ],
             [
              0.8888888888888888,
              "#fdca26"
             ],
             [
              1,
              "#f0f921"
             ]
            ],
            "type": "histogram2dcontour"
           }
          ],
          "mesh3d": [
           {
            "colorbar": {
             "outlinewidth": 0,
             "ticks": ""
            },
            "type": "mesh3d"
           }
          ],
          "parcoords": [
           {
            "line": {
             "colorbar": {
              "outlinewidth": 0,
              "ticks": ""
             }
            },
            "type": "parcoords"
           }
          ],
          "pie": [
           {
            "automargin": true,
            "type": "pie"
           }
          ],
          "scatter": [
           {
            "fillpattern": {
             "fillmode": "overlay",
             "size": 10,
             "solidity": 0.2
            },
            "type": "scatter"
           }
          ],
          "scatter3d": [
           {
            "line": {
             "colorbar": {
              "outlinewidth": 0,
              "ticks": ""
             }
            },
            "marker": {
             "colorbar": {
              "outlinewidth": 0,
              "ticks": ""
             }
            },
            "type": "scatter3d"
           }
          ],
          "scattercarpet": [
           {
            "marker": {
             "colorbar": {
              "outlinewidth": 0,
              "ticks": ""
             }
            },
            "type": "scattercarpet"
           }
          ],
          "scattergeo": [
           {
            "marker": {
             "colorbar": {
              "outlinewidth": 0,
              "ticks": ""
             }
            },
            "type": "scattergeo"
           }
          ],
          "scattergl": [
           {
            "marker": {
             "colorbar": {
              "outlinewidth": 0,
              "ticks": ""
             }
            },
            "type": "scattergl"
           }
          ],
          "scattermapbox": [
           {
            "marker": {
             "colorbar": {
              "outlinewidth": 0,
              "ticks": ""
             }
            },
            "type": "scattermapbox"
           }
          ],
          "scatterpolar": [
           {
            "marker": {
             "colorbar": {
              "outlinewidth": 0,
              "ticks": ""
             }
            },
            "type": "scatterpolar"
           }
          ],
          "scatterpolargl": [
           {
            "marker": {
             "colorbar": {
              "outlinewidth": 0,
              "ticks": ""
             }
            },
            "type": "scatterpolargl"
           }
          ],
          "scatterternary": [
           {
            "marker": {
             "colorbar": {
              "outlinewidth": 0,
              "ticks": ""
             }
            },
            "type": "scatterternary"
           }
          ],
          "surface": [
           {
            "colorbar": {
             "outlinewidth": 0,
             "ticks": ""
            },
            "colorscale": [
             [
              0,
              "#0d0887"
             ],
             [
              0.1111111111111111,
              "#46039f"
             ],
             [
              0.2222222222222222,
              "#7201a8"
             ],
             [
              0.3333333333333333,
              "#9c179e"
             ],
             [
              0.4444444444444444,
              "#bd3786"
             ],
             [
              0.5555555555555556,
              "#d8576b"
             ],
             [
              0.6666666666666666,
              "#ed7953"
             ],
             [
              0.7777777777777778,
              "#fb9f3a"
             ],
             [
              0.8888888888888888,
              "#fdca26"
             ],
             [
              1,
              "#f0f921"
             ]
            ],
            "type": "surface"
           }
          ],
          "table": [
           {
            "cells": {
             "fill": {
              "color": "#EBF0F8"
             },
             "line": {
              "color": "white"
             }
            },
            "header": {
             "fill": {
              "color": "#C8D4E3"
             },
             "line": {
              "color": "white"
             }
            },
            "type": "table"
           }
          ]
         },
         "layout": {
          "annotationdefaults": {
           "arrowcolor": "#2a3f5f",
           "arrowhead": 0,
           "arrowwidth": 1
          },
          "autotypenumbers": "strict",
          "coloraxis": {
           "colorbar": {
            "outlinewidth": 0,
            "ticks": ""
           }
          },
          "colorscale": {
           "diverging": [
            [
             0,
             "#8e0152"
            ],
            [
             0.1,
             "#c51b7d"
            ],
            [
             0.2,
             "#de77ae"
            ],
            [
             0.3,
             "#f1b6da"
            ],
            [
             0.4,
             "#fde0ef"
            ],
            [
             0.5,
             "#f7f7f7"
            ],
            [
             0.6,
             "#e6f5d0"
            ],
            [
             0.7,
             "#b8e186"
            ],
            [
             0.8,
             "#7fbc41"
            ],
            [
             0.9,
             "#4d9221"
            ],
            [
             1,
             "#276419"
            ]
           ],
           "sequential": [
            [
             0,
             "#0d0887"
            ],
            [
             0.1111111111111111,
             "#46039f"
            ],
            [
             0.2222222222222222,
             "#7201a8"
            ],
            [
             0.3333333333333333,
             "#9c179e"
            ],
            [
             0.4444444444444444,
             "#bd3786"
            ],
            [
             0.5555555555555556,
             "#d8576b"
            ],
            [
             0.6666666666666666,
             "#ed7953"
            ],
            [
             0.7777777777777778,
             "#fb9f3a"
            ],
            [
             0.8888888888888888,
             "#fdca26"
            ],
            [
             1,
             "#f0f921"
            ]
           ],
           "sequentialminus": [
            [
             0,
             "#0d0887"
            ],
            [
             0.1111111111111111,
             "#46039f"
            ],
            [
             0.2222222222222222,
             "#7201a8"
            ],
            [
             0.3333333333333333,
             "#9c179e"
            ],
            [
             0.4444444444444444,
             "#bd3786"
            ],
            [
             0.5555555555555556,
             "#d8576b"
            ],
            [
             0.6666666666666666,
             "#ed7953"
            ],
            [
             0.7777777777777778,
             "#fb9f3a"
            ],
            [
             0.8888888888888888,
             "#fdca26"
            ],
            [
             1,
             "#f0f921"
            ]
           ]
          },
          "colorway": [
           "#636efa",
           "#EF553B",
           "#00cc96",
           "#ab63fa",
           "#FFA15A",
           "#19d3f3",
           "#FF6692",
           "#B6E880",
           "#FF97FF",
           "#FECB52"
          ],
          "font": {
           "color": "#2a3f5f"
          },
          "geo": {
           "bgcolor": "white",
           "lakecolor": "white",
           "landcolor": "white",
           "showlakes": true,
           "showland": true,
           "subunitcolor": "#C8D4E3"
          },
          "hoverlabel": {
           "align": "left"
          },
          "hovermode": "closest",
          "mapbox": {
           "style": "light"
          },
          "paper_bgcolor": "white",
          "plot_bgcolor": "white",
          "polar": {
           "angularaxis": {
            "gridcolor": "#EBF0F8",
            "linecolor": "#EBF0F8",
            "ticks": ""
           },
           "bgcolor": "white",
           "radialaxis": {
            "gridcolor": "#EBF0F8",
            "linecolor": "#EBF0F8",
            "ticks": ""
           }
          },
          "scene": {
           "xaxis": {
            "backgroundcolor": "white",
            "gridcolor": "#DFE8F3",
            "gridwidth": 2,
            "linecolor": "#EBF0F8",
            "showbackground": true,
            "ticks": "",
            "zerolinecolor": "#EBF0F8"
           },
           "yaxis": {
            "backgroundcolor": "white",
            "gridcolor": "#DFE8F3",
            "gridwidth": 2,
            "linecolor": "#EBF0F8",
            "showbackground": true,
            "ticks": "",
            "zerolinecolor": "#EBF0F8"
           },
           "zaxis": {
            "backgroundcolor": "white",
            "gridcolor": "#DFE8F3",
            "gridwidth": 2,
            "linecolor": "#EBF0F8",
            "showbackground": true,
            "ticks": "",
            "zerolinecolor": "#EBF0F8"
           }
          },
          "shapedefaults": {
           "line": {
            "color": "#2a3f5f"
           }
          },
          "ternary": {
           "aaxis": {
            "gridcolor": "#DFE8F3",
            "linecolor": "#A2B1C6",
            "ticks": ""
           },
           "baxis": {
            "gridcolor": "#DFE8F3",
            "linecolor": "#A2B1C6",
            "ticks": ""
           },
           "bgcolor": "white",
           "caxis": {
            "gridcolor": "#DFE8F3",
            "linecolor": "#A2B1C6",
            "ticks": ""
           }
          },
          "title": {
           "x": 0.05
          },
          "xaxis": {
           "automargin": true,
           "gridcolor": "#EBF0F8",
           "linecolor": "#EBF0F8",
           "ticks": "",
           "title": {
            "standoff": 15
           },
           "zerolinecolor": "#EBF0F8",
           "zerolinewidth": 2
          },
          "yaxis": {
           "automargin": true,
           "gridcolor": "#EBF0F8",
           "linecolor": "#EBF0F8",
           "ticks": "",
           "title": {
            "standoff": 15
           },
           "zerolinecolor": "#EBF0F8",
           "zerolinewidth": 2
          }
         }
        },
        "title": {
         "text": "Normalized Position Frequencies for Finished Paths"
        },
        "width": 900,
        "xaxis": {
         "anchor": "y",
         "domain": [
          0,
          1
         ],
         "dtick": 1,
         "tickmode": "linear",
         "title": {
          "text": "Position in Path"
         }
        },
        "yaxis": {
         "anchor": "x",
         "domain": [
          0,
          1
         ],
         "title": {
          "text": "Percentage (%)"
         }
        }
       }
      }
     },
     "metadata": {},
     "output_type": "display_data"
    }
   ],
   "source": [
    "plot_normalized_position_bar(df_position_data, title=\"Normalized Position Frequencies for Finished Paths\")"
   ]
  },
  {
   "cell_type": "code",
   "execution_count": 13,
   "metadata": {},
   "outputs": [
    {
     "data": {
      "application/vnd.plotly.v1+json": {
       "config": {
        "plotlyServerURL": "https://plot.ly"
       },
       "data": [
        {
         "line": {
          "color": "#636EFA"
         },
         "mode": "lines+markers",
         "name": "Art",
         "type": "scatter",
         "x": [
          1,
          2,
          3,
          4,
          5,
          6,
          7,
          8,
          9,
          10,
          11,
          12,
          13,
          14,
          15
         ],
         "xaxis": "x",
         "y": [
          200,
          128,
          91,
          99,
          84,
          74,
          58,
          39,
          30,
          23,
          15,
          12,
          8,
          9,
          5
         ],
         "yaxis": "y"
        },
        {
         "line": {
          "color": "#EF553B"
         },
         "mode": "lines+markers",
         "name": "Business Studies",
         "type": "scatter",
         "x": [
          1,
          2,
          3,
          4,
          5,
          6,
          7,
          8,
          9,
          10,
          11,
          12,
          13,
          14,
          15
         ],
         "xaxis": "x",
         "y": [
          364,
          252,
          260,
          225,
          184,
          153,
          117,
          79,
          76,
          48,
          54,
          38,
          33,
          20,
          27
         ],
         "yaxis": "y"
        },
        {
         "line": {
          "color": "#00CC96"
         },
         "mode": "lines+markers",
         "name": "Citizenship",
         "type": "scatter",
         "x": [
          1,
          2,
          3,
          4,
          5,
          6,
          7,
          8,
          9,
          10,
          11,
          12,
          13,
          14,
          15
         ],
         "xaxis": "x",
         "y": [
          941,
          1021,
          1048,
          848,
          653,
          485,
          351,
          289,
          225,
          177,
          142,
          136,
          111,
          77,
          72
         ],
         "yaxis": "y"
        },
        {
         "line": {
          "color": "#AB63FA"
         },
         "mode": "lines+markers",
         "name": "Countries",
         "type": "scatter",
         "x": [
          1,
          2,
          3,
          4,
          5,
          6,
          7,
          8,
          9,
          10,
          11,
          12,
          13,
          14,
          15
         ],
         "xaxis": "x",
         "y": [
          1349,
          4387,
          2665,
          1967,
          1223,
          836,
          576,
          431,
          313,
          228,
          170,
          123,
          112,
          89,
          69
         ],
         "yaxis": "y"
        },
        {
         "line": {
          "color": "#FFA15A"
         },
         "mode": "lines+markers",
         "name": "Design and Technology",
         "type": "scatter",
         "x": [
          1,
          2,
          3,
          4,
          5,
          6,
          7,
          8,
          9,
          10,
          11,
          12,
          13,
          14,
          15
         ],
         "xaxis": "x",
         "y": [
          1958,
          359,
          326,
          285,
          294,
          205,
          192,
          151,
          100,
          88,
          78,
          53,
          46,
          43,
          34
         ],
         "yaxis": "y"
        },
        {
         "line": {
          "color": "#19D3F3"
         },
         "mode": "lines+markers",
         "name": "Everyday life",
         "type": "scatter",
         "x": [
          1,
          2,
          3,
          4,
          5,
          6,
          7,
          8,
          9,
          10,
          11,
          12,
          13,
          14,
          15
         ],
         "xaxis": "x",
         "y": [
          2450,
          1016,
          1088,
          1023,
          827,
          666,
          530,
          413,
          330,
          267,
          208,
          175,
          133,
          112,
          90
         ],
         "yaxis": "y"
        },
        {
         "line": {
          "color": "#FF6692"
         },
         "mode": "lines+markers",
         "name": "Geography",
         "type": "scatter",
         "x": [
          1,
          2,
          3,
          4,
          5,
          6,
          7,
          8,
          9,
          10,
          11,
          12,
          13,
          14,
          15
         ],
         "xaxis": "x",
         "y": [
          3192,
          3636,
          3306,
          2441,
          1783,
          1257,
          872,
          643,
          501,
          397,
          322,
          249,
          198,
          182,
          139
         ],
         "yaxis": "y"
        },
        {
         "line": {
          "color": "#B6E880"
         },
         "mode": "lines+markers",
         "name": "History",
         "type": "scatter",
         "x": [
          1,
          2,
          3,
          4,
          5,
          6,
          7,
          8,
          9,
          10,
          11,
          12,
          13,
          14,
          15
         ],
         "xaxis": "x",
         "y": [
          1795,
          1722,
          1443,
          1113,
          772,
          566,
          457,
          300,
          240,
          215,
          131,
          111,
          89,
          84,
          63
         ],
         "yaxis": "y"
        },
        {
         "line": {
          "color": "#FF97FF"
         },
         "mode": "lines+markers",
         "name": "IT",
         "type": "scatter",
         "x": [
          1,
          2,
          3,
          4,
          5,
          6,
          7,
          8,
          9,
          10,
          11,
          12,
          13,
          14,
          15
         ],
         "xaxis": "x",
         "y": [
          567,
          490,
          335,
          259,
          221,
          175,
          127,
          116,
          95,
          62,
          50,
          38,
          33,
          30,
          26
         ],
         "yaxis": "y"
        },
        {
         "line": {
          "color": "#FECB52"
         },
         "mode": "lines+markers",
         "name": "Language and literature",
         "type": "scatter",
         "x": [
          1,
          2,
          3,
          4,
          5,
          6,
          7,
          8,
          9,
          10,
          11,
          12,
          13,
          14,
          15
         ],
         "xaxis": "x",
         "y": [
          1637,
          930,
          726,
          564,
          413,
          293,
          220,
          157,
          120,
          100,
          70,
          72,
          57,
          45,
          37
         ],
         "yaxis": "y"
        },
        {
         "line": {
          "color": "#636EFA"
         },
         "mode": "lines+markers",
         "name": "Mathematics",
         "type": "scatter",
         "x": [
          1,
          2,
          3,
          4,
          5,
          6,
          7,
          8,
          9,
          10,
          11,
          12,
          13,
          14,
          15
         ],
         "xaxis": "x",
         "y": [
          295,
          153,
          97,
          79,
          59,
          60,
          51,
          36,
          22,
          23,
          13,
          16,
          19,
          19,
          11
         ],
         "yaxis": "y"
        },
        {
         "line": {
          "color": "#EF553B"
         },
         "mode": "lines+markers",
         "name": "Music",
         "type": "scatter",
         "x": [
          1,
          2,
          3,
          4,
          5,
          6,
          7,
          8,
          9,
          10,
          11,
          12,
          13,
          14,
          15
         ],
         "xaxis": "x",
         "y": [
          409,
          181,
          214,
          184,
          160,
          119,
          90,
          70,
          49,
          37,
          30,
          26,
          24,
          18,
          11
         ],
         "yaxis": "y"
        },
        {
         "line": {
          "color": "#00CC96"
         },
         "mode": "lines+markers",
         "name": "People",
         "type": "scatter",
         "x": [
          1,
          2,
          3,
          4,
          5,
          6,
          7,
          8,
          9,
          10,
          11,
          12,
          13,
          14,
          15
         ],
         "xaxis": "x",
         "y": [
          2165,
          730,
          575,
          481,
          392,
          321,
          223,
          186,
          149,
          114,
          99,
          88,
          62,
          49,
          51
         ],
         "yaxis": "y"
        },
        {
         "line": {
          "color": "#AB63FA"
         },
         "mode": "lines+markers",
         "name": "Religion",
         "type": "scatter",
         "x": [
          1,
          2,
          3,
          4,
          5,
          6,
          7,
          8,
          9,
          10,
          11,
          12,
          13,
          14,
          15
         ],
         "xaxis": "x",
         "y": [
          709,
          625,
          574,
          411,
          330,
          268,
          180,
          125,
          98,
          78,
          69,
          46,
          46,
          29,
          19
         ],
         "yaxis": "y"
        },
        {
         "line": {
          "color": "#FFA15A"
         },
         "mode": "lines+markers",
         "name": "Science",
         "type": "scatter",
         "x": [
          1,
          2,
          3,
          4,
          5,
          6,
          7,
          8,
          9,
          10,
          11,
          12,
          13,
          14,
          15
         ],
         "xaxis": "x",
         "y": [
          6683,
          3896,
          2563,
          2235,
          1823,
          1416,
          1129,
          908,
          712,
          539,
          431,
          360,
          287,
          228,
          202
         ],
         "yaxis": "y"
        },
        {
         "line": {
          "color": "#19D3F3"
         },
         "mode": "lines+markers",
         "name": "<",
         "type": "scatter",
         "x": [
          3,
          4,
          5,
          6,
          7,
          8,
          9,
          10,
          11,
          12,
          13,
          14,
          15
         ],
         "xaxis": "x",
         "y": [
          1027,
          981,
          1264,
          1139,
          1083,
          884,
          816,
          686,
          621,
          517,
          440,
          371,
          320
         ],
         "yaxis": "y"
        },
        {
         "line": {
          "color": "#636EFA"
         },
         "mode": "lines+markers",
         "name": "Art",
         "showlegend": false,
         "type": "scatter",
         "x": [
          1,
          2,
          3,
          4,
          5,
          6,
          7,
          8,
          9,
          10,
          11,
          12,
          13,
          14,
          15
         ],
         "xaxis": "x2",
         "y": [
          0.8092579104960751,
          0.655536208132746,
          0.5569837189374465,
          0.7502841985600606,
          0.8013737836290785,
          0.9212000497945972,
          0.9271099744245525,
          0.8079552517091362,
          0.7739938080495357,
          0.7462686567164178,
          0.5992808629644426,
          0.5825242718446602,
          0.47114252061248524,
          0.6405693950177936,
          0.4251700680272109
         ],
         "yaxis": "y2"
        },
        {
         "line": {
          "color": "#EF553B"
         },
         "mode": "lines+markers",
         "name": "Business Studies",
         "showlegend": false,
         "type": "scatter",
         "x": [
          1,
          2,
          3,
          4,
          5,
          6,
          7,
          8,
          9,
          10,
          11,
          12,
          13,
          14,
          15
         ],
         "xaxis": "x2",
         "y": [
          1.4728493971028567,
          1.2905869097613438,
          1.5913820541069899,
          1.7051913603637743,
          1.7553901927113147,
          1.9046433461969376,
          1.8702046035805626,
          1.6366273047441475,
          1.9607843137254901,
          1.5574302401038287,
          2.1574111066719937,
          1.8446601941747571,
          1.9434628975265018,
          1.4234875444839856,
          2.295918367346939
         ],
         "yaxis": "y2"
        },
        {
         "line": {
          "color": "#00CC96"
         },
         "mode": "lines+markers",
         "name": "Citizenship",
         "showlegend": false,
         "type": "scatter",
         "x": [
          1,
          2,
          3,
          4,
          5,
          6,
          7,
          8,
          9,
          10,
          11,
          12,
          13,
          14,
          15
         ],
         "xaxis": "x2",
         "y": [
          3.8075584688840336,
          5.2289255351838575,
          6.414493818092789,
          6.426676771504358,
          6.229727151307003,
          6.037594920951077,
          5.610613810741688,
          5.987155583177958,
          5.8049535603715166,
          5.743024010382868,
          5.673192169396724,
          6.601941747572816,
          6.5371024734982335,
          5.480427046263346,
          6.122448979591836
         ],
         "yaxis": "y2"
        },
        {
         "line": {
          "color": "#AB63FA"
         },
         "mode": "lines+markers",
         "name": "Countries",
         "showlegend": false,
         "type": "scatter",
         "x": [
          1,
          2,
          3,
          4,
          5,
          6,
          7,
          8,
          9,
          10,
          11,
          12,
          13,
          14,
          15
         ],
         "xaxis": "x2",
         "y": [
          5.458444606296027,
          22.467479258424664,
          16.311666054596646,
          14.907161803713528,
          11.66762068307575,
          10.40707083281464,
          9.207161125319693,
          8.928941371452249,
          8.075335397316822,
          7.397793640493186,
          6.791849780263684,
          5.970873786407767,
          6.595995288574794,
          6.334519572953737,
          5.86734693877551
         ],
         "yaxis": "y2"
        },
        {
         "line": {
          "color": "#FFA15A"
         },
         "mode": "lines+markers",
         "name": "Design and Technology",
         "showlegend": false,
         "type": "scatter",
         "x": [
          1,
          2,
          3,
          4,
          5,
          6,
          7,
          8,
          9,
          10,
          11,
          12,
          13,
          14,
          15
         ],
         "xaxis": "x2",
         "y": [
          7.922634943756575,
          1.8385742087473111,
          1.995348267841841,
          2.159909056460781,
          2.8048082427017746,
          2.5519731109174657,
          3.0690537084398977,
          3.128237000207168,
          2.5799793601651184,
          2.855288773523686,
          3.116260487415102,
          2.5728155339805827,
          2.7090694935217905,
          3.0604982206405693,
          2.891156462585034
         ],
         "yaxis": "y2"
        },
        {
         "line": {
          "color": "#19D3F3"
         },
         "mode": "lines+markers",
         "name": "Everyday life",
         "showlegend": false,
         "type": "scatter",
         "x": [
          1,
          2,
          3,
          4,
          5,
          6,
          7,
          8,
          9,
          10,
          11,
          12,
          13,
          14,
          15
         ],
         "xaxis": "x2",
         "y": [
          9.91340940357692,
          5.203318652053672,
          6.659321826416942,
          7.7529367184539595,
          7.8897157031100935,
          8.290800448151375,
          8.471867007672634,
          8.556038947586494,
          8.513931888544892,
          8.663205710577547,
          8.310027966440272,
          8.495145631067961,
          7.832744405182568,
          7.97153024911032,
          7.653061224489796
         ],
         "yaxis": "y2"
        },
        {
         "line": {
          "color": "#FF6692"
         },
         "mode": "lines+markers",
         "name": "Geography",
         "showlegend": false,
         "type": "scatter",
         "x": [
          1,
          2,
          3,
          4,
          5,
          6,
          7,
          8,
          9,
          10,
          11,
          12,
          13,
          14,
          15
         ],
         "xaxis": "x2",
         "y": [
          12.915756251517358,
          18.621325412270817,
          20.235034887991183,
          18.49943160287988,
          17.010112573936272,
          15.647952197186605,
          13.938618925831204,
          13.320903252537807,
          12.925696594427244,
          12.881245944192083,
          12.864562524970037,
          12.087378640776699,
          11.66077738515901,
          12.95373665480427,
          11.819727891156463
         ],
         "yaxis": "y2"
        },
        {
         "line": {
          "color": "#B6E880"
         },
         "mode": "lines+markers",
         "name": "History",
         "showlegend": false,
         "type": "scatter",
         "x": [
          1,
          2,
          3,
          4,
          5,
          6,
          7,
          8,
          9,
          10,
          11,
          12,
          13,
          14,
          15
         ],
         "xaxis": "x2",
         "y": [
          7.263089746702274,
          8.81901055003585,
          8.832170400293794,
          8.435013262599469,
          7.365006678114863,
          7.045935515996514,
          7.304987212276215,
          6.215040397762586,
          6.191950464396285,
          6.975989617131733,
          5.233719536556133,
          5.388349514563107,
          5.241460541813899,
          5.9786476868327405,
          5.357142857142857
         ],
         "yaxis": "y2"
        },
        {
         "line": {
          "color": "#FF97FF"
         },
         "mode": "lines+markers",
         "name": "IT",
         "showlegend": false,
         "type": "scatter",
         "x": [
          1,
          2,
          3,
          4,
          5,
          6,
          7,
          8,
          9,
          10,
          11,
          12,
          13,
          14,
          15
         ],
         "xaxis": "x2",
         "y": [
          2.294246176256373,
          2.5094745467581685,
          2.0504345697147754,
          1.9628647214854114,
          2.108376264071742,
          2.178513631271007,
          2.0300511508951407,
          2.403148953801533,
          2.450980392156863,
          2.011680726800779,
          1.9976028765481422,
          1.8446601941747571,
          1.9434628975265018,
          2.135231316725979,
          2.2108843537414966
         ],
         "yaxis": "y2"
        },
        {
         "line": {
          "color": "#FECB52"
         },
         "mode": "lines+markers",
         "name": "Language and literature",
         "showlegend": false,
         "type": "scatter",
         "x": [
          1,
          2,
          3,
          4,
          5,
          6,
          7,
          8,
          9,
          10,
          11,
          12,
          13,
          14,
          15
         ],
         "xaxis": "x2",
         "y": [
          6.623775997410375,
          4.762880262214483,
          4.443628351083364,
          4.27434634331186,
          3.9400877695096357,
          3.6474542512137433,
          3.5166240409207163,
          3.2525378081624194,
          3.0959752321981426,
          3.244646333549643,
          2.796644027167399,
          3.4951456310679614,
          3.356890459363958,
          3.202846975088968,
          3.1462585034013606
         ],
         "yaxis": "y2"
        },
        {
         "line": {
          "color": "#636EFA"
         },
         "mode": "lines+markers",
         "name": "Mathematics",
         "showlegend": false,
         "type": "scatter",
         "x": [
          1,
          2,
          3,
          4,
          5,
          6,
          7,
          8,
          9,
          10,
          11,
          12,
          13,
          14,
          15
         ],
         "xaxis": "x2",
         "y": [
          1.1936554179817107,
          0.783570623783673,
          0.5937079201860693,
          0.5987116331943918,
          0.5628696813585193,
          0.7469189592929167,
          0.8152173913043478,
          0.7458048477315102,
          0.5675954592363261,
          0.7462686567164178,
          0.519376747902517,
          0.7766990291262136,
          1.1189634864546525,
          1.3523131672597866,
          0.935374149659864
         ],
         "yaxis": "y2"
        },
        {
         "line": {
          "color": "#EF553B"
         },
         "mode": "lines+markers",
         "name": "Music",
         "showlegend": false,
         "type": "scatter",
         "x": [
          1,
          2,
          3,
          4,
          5,
          6,
          7,
          8,
          9,
          10,
          11,
          12,
          13,
          14,
          15
         ],
         "xaxis": "x2",
         "y": [
          1.6549324269644734,
          0.9269691693127113,
          1.3098298445342147,
          1.394467601364153,
          1.5264262545315779,
          1.4813892692642847,
          1.438618925831202,
          1.4501760928112701,
          1.2641898864809082,
          1.200519143413368,
          1.1985617259288852,
          1.262135922330097,
          1.4134275618374559,
          1.2811387900355873,
          0.935374149659864
         ],
         "yaxis": "y2"
        },
        {
         "line": {
          "color": "#00CC96"
         },
         "mode": "lines+markers",
         "name": "People",
         "showlegend": false,
         "type": "scatter",
         "x": [
          1,
          2,
          3,
          4,
          5,
          6,
          7,
          8,
          9,
          10,
          11,
          12,
          13,
          14,
          15
         ],
         "xaxis": "x2",
         "y": [
          8.760216881120012,
          3.738604937007067,
          3.519402619659689,
          3.645320197044335,
          3.739744323602366,
          3.996016432217105,
          3.5645780051150897,
          3.853325046612803,
          3.8441692466460267,
          3.698896820246593,
          3.9552536955653217,
          4.271844660194175,
          3.651354534746761,
          3.4875444839857654,
          4.336734693877551
         ],
         "yaxis": "y2"
        },
        {
         "line": {
          "color": "#AB63FA"
         },
         "mode": "lines+markers",
         "name": "Religion",
         "showlegend": false,
         "type": "scatter",
         "x": [
          1,
          2,
          3,
          4,
          5,
          6,
          7,
          8,
          9,
          10,
          11,
          12,
          13,
          14,
          15
         ],
         "xaxis": "x2",
         "y": [
          2.868819292708586,
          3.200860391273174,
          3.513281919451585,
          3.1148162182644943,
          3.1482541499713794,
          3.336238018175028,
          2.877237851662404,
          2.5896001657344105,
          2.5283797729618165,
          2.5308241401687215,
          2.7566919696364365,
          2.233009708737864,
          2.7090694935217905,
          2.0640569395017794,
          1.6156462585034015
         ],
         "yaxis": "y2"
        },
        {
         "line": {
          "color": "#FFA15A"
         },
         "mode": "lines+markers",
         "name": "Science",
         "showlegend": false,
         "type": "scatter",
         "x": [
          1,
          2,
          3,
          4,
          5,
          6,
          7,
          8,
          9,
          10,
          11,
          12,
          13,
          14,
          15
         ],
         "xaxis": "x2",
         "y": [
          27.041353079226347,
          19.952883335040458,
          15.687354633370058,
          16.93823417961349,
          17.39171913756917,
          17.627287439312838,
          18.046675191815854,
          18.81085560389476,
          18.369453044375643,
          17.488643737832575,
          17.219336795844985,
          17.475728155339805,
          16.90223792697291,
          16.227758007117437,
          17.17687074829932
         ],
         "yaxis": "y2"
        },
        {
         "line": {
          "color": "#19D3F3"
         },
         "mode": "lines+markers",
         "name": "<",
         "showlegend": false,
         "type": "scatter",
         "x": [
          3,
          4,
          5,
          6,
          7,
          8,
          9,
          10,
          11,
          12,
          13,
          14,
          15
         ],
         "xaxis": "x2",
         "y": [
          6.28595911372261,
          7.4346343311860545,
          12.058767410799467,
          14.17901157724387,
          17.311381074168796,
          18.31365237207375,
          21.052631578947366,
          22.25827384815055,
          24.810227726727927,
          25.097087378640776,
          25.91283863368669,
          26.405693950177938,
          27.2108843537415
         ],
         "yaxis": "y2"
        }
       ],
       "layout": {
        "annotations": [
         {
          "font": {
           "size": 16
          },
          "showarrow": false,
          "text": "Non-Normalized Frequencies",
          "x": 0.2375,
          "xanchor": "center",
          "xref": "paper",
          "y": 1,
          "yanchor": "bottom",
          "yref": "paper"
         },
         {
          "font": {
           "size": 16
          },
          "showarrow": false,
          "text": "Normalized Frequencies",
          "x": 0.7625,
          "xanchor": "center",
          "xref": "paper",
          "y": 1,
          "yanchor": "bottom",
          "yref": "paper"
         }
        ],
        "height": 600,
        "legend": {
         "title": {
          "text": "Category"
         }
        },
        "template": {
         "data": {
          "bar": [
           {
            "error_x": {
             "color": "#2a3f5f"
            },
            "error_y": {
             "color": "#2a3f5f"
            },
            "marker": {
             "line": {
              "color": "white",
              "width": 0.5
             },
             "pattern": {
              "fillmode": "overlay",
              "size": 10,
              "solidity": 0.2
             }
            },
            "type": "bar"
           }
          ],
          "barpolar": [
           {
            "marker": {
             "line": {
              "color": "white",
              "width": 0.5
             },
             "pattern": {
              "fillmode": "overlay",
              "size": 10,
              "solidity": 0.2
             }
            },
            "type": "barpolar"
           }
          ],
          "carpet": [
           {
            "aaxis": {
             "endlinecolor": "#2a3f5f",
             "gridcolor": "#C8D4E3",
             "linecolor": "#C8D4E3",
             "minorgridcolor": "#C8D4E3",
             "startlinecolor": "#2a3f5f"
            },
            "baxis": {
             "endlinecolor": "#2a3f5f",
             "gridcolor": "#C8D4E3",
             "linecolor": "#C8D4E3",
             "minorgridcolor": "#C8D4E3",
             "startlinecolor": "#2a3f5f"
            },
            "type": "carpet"
           }
          ],
          "choropleth": [
           {
            "colorbar": {
             "outlinewidth": 0,
             "ticks": ""
            },
            "type": "choropleth"
           }
          ],
          "contour": [
           {
            "colorbar": {
             "outlinewidth": 0,
             "ticks": ""
            },
            "colorscale": [
             [
              0,
              "#0d0887"
             ],
             [
              0.1111111111111111,
              "#46039f"
             ],
             [
              0.2222222222222222,
              "#7201a8"
             ],
             [
              0.3333333333333333,
              "#9c179e"
             ],
             [
              0.4444444444444444,
              "#bd3786"
             ],
             [
              0.5555555555555556,
              "#d8576b"
             ],
             [
              0.6666666666666666,
              "#ed7953"
             ],
             [
              0.7777777777777778,
              "#fb9f3a"
             ],
             [
              0.8888888888888888,
              "#fdca26"
             ],
             [
              1,
              "#f0f921"
             ]
            ],
            "type": "contour"
           }
          ],
          "contourcarpet": [
           {
            "colorbar": {
             "outlinewidth": 0,
             "ticks": ""
            },
            "type": "contourcarpet"
           }
          ],
          "heatmap": [
           {
            "colorbar": {
             "outlinewidth": 0,
             "ticks": ""
            },
            "colorscale": [
             [
              0,
              "#0d0887"
             ],
             [
              0.1111111111111111,
              "#46039f"
             ],
             [
              0.2222222222222222,
              "#7201a8"
             ],
             [
              0.3333333333333333,
              "#9c179e"
             ],
             [
              0.4444444444444444,
              "#bd3786"
             ],
             [
              0.5555555555555556,
              "#d8576b"
             ],
             [
              0.6666666666666666,
              "#ed7953"
             ],
             [
              0.7777777777777778,
              "#fb9f3a"
             ],
             [
              0.8888888888888888,
              "#fdca26"
             ],
             [
              1,
              "#f0f921"
             ]
            ],
            "type": "heatmap"
           }
          ],
          "heatmapgl": [
           {
            "colorbar": {
             "outlinewidth": 0,
             "ticks": ""
            },
            "colorscale": [
             [
              0,
              "#0d0887"
             ],
             [
              0.1111111111111111,
              "#46039f"
             ],
             [
              0.2222222222222222,
              "#7201a8"
             ],
             [
              0.3333333333333333,
              "#9c179e"
             ],
             [
              0.4444444444444444,
              "#bd3786"
             ],
             [
              0.5555555555555556,
              "#d8576b"
             ],
             [
              0.6666666666666666,
              "#ed7953"
             ],
             [
              0.7777777777777778,
              "#fb9f3a"
             ],
             [
              0.8888888888888888,
              "#fdca26"
             ],
             [
              1,
              "#f0f921"
             ]
            ],
            "type": "heatmapgl"
           }
          ],
          "histogram": [
           {
            "marker": {
             "pattern": {
              "fillmode": "overlay",
              "size": 10,
              "solidity": 0.2
             }
            },
            "type": "histogram"
           }
          ],
          "histogram2d": [
           {
            "colorbar": {
             "outlinewidth": 0,
             "ticks": ""
            },
            "colorscale": [
             [
              0,
              "#0d0887"
             ],
             [
              0.1111111111111111,
              "#46039f"
             ],
             [
              0.2222222222222222,
              "#7201a8"
             ],
             [
              0.3333333333333333,
              "#9c179e"
             ],
             [
              0.4444444444444444,
              "#bd3786"
             ],
             [
              0.5555555555555556,
              "#d8576b"
             ],
             [
              0.6666666666666666,
              "#ed7953"
             ],
             [
              0.7777777777777778,
              "#fb9f3a"
             ],
             [
              0.8888888888888888,
              "#fdca26"
             ],
             [
              1,
              "#f0f921"
             ]
            ],
            "type": "histogram2d"
           }
          ],
          "histogram2dcontour": [
           {
            "colorbar": {
             "outlinewidth": 0,
             "ticks": ""
            },
            "colorscale": [
             [
              0,
              "#0d0887"
             ],
             [
              0.1111111111111111,
              "#46039f"
             ],
             [
              0.2222222222222222,
              "#7201a8"
             ],
             [
              0.3333333333333333,
              "#9c179e"
             ],
             [
              0.4444444444444444,
              "#bd3786"
             ],
             [
              0.5555555555555556,
              "#d8576b"
             ],
             [
              0.6666666666666666,
              "#ed7953"
             ],
             [
              0.7777777777777778,
              "#fb9f3a"
             ],
             [
              0.8888888888888888,
              "#fdca26"
             ],
             [
              1,
              "#f0f921"
             ]
            ],
            "type": "histogram2dcontour"
           }
          ],
          "mesh3d": [
           {
            "colorbar": {
             "outlinewidth": 0,
             "ticks": ""
            },
            "type": "mesh3d"
           }
          ],
          "parcoords": [
           {
            "line": {
             "colorbar": {
              "outlinewidth": 0,
              "ticks": ""
             }
            },
            "type": "parcoords"
           }
          ],
          "pie": [
           {
            "automargin": true,
            "type": "pie"
           }
          ],
          "scatter": [
           {
            "fillpattern": {
             "fillmode": "overlay",
             "size": 10,
             "solidity": 0.2
            },
            "type": "scatter"
           }
          ],
          "scatter3d": [
           {
            "line": {
             "colorbar": {
              "outlinewidth": 0,
              "ticks": ""
             }
            },
            "marker": {
             "colorbar": {
              "outlinewidth": 0,
              "ticks": ""
             }
            },
            "type": "scatter3d"
           }
          ],
          "scattercarpet": [
           {
            "marker": {
             "colorbar": {
              "outlinewidth": 0,
              "ticks": ""
             }
            },
            "type": "scattercarpet"
           }
          ],
          "scattergeo": [
           {
            "marker": {
             "colorbar": {
              "outlinewidth": 0,
              "ticks": ""
             }
            },
            "type": "scattergeo"
           }
          ],
          "scattergl": [
           {
            "marker": {
             "colorbar": {
              "outlinewidth": 0,
              "ticks": ""
             }
            },
            "type": "scattergl"
           }
          ],
          "scattermapbox": [
           {
            "marker": {
             "colorbar": {
              "outlinewidth": 0,
              "ticks": ""
             }
            },
            "type": "scattermapbox"
           }
          ],
          "scatterpolar": [
           {
            "marker": {
             "colorbar": {
              "outlinewidth": 0,
              "ticks": ""
             }
            },
            "type": "scatterpolar"
           }
          ],
          "scatterpolargl": [
           {
            "marker": {
             "colorbar": {
              "outlinewidth": 0,
              "ticks": ""
             }
            },
            "type": "scatterpolargl"
           }
          ],
          "scatterternary": [
           {
            "marker": {
             "colorbar": {
              "outlinewidth": 0,
              "ticks": ""
             }
            },
            "type": "scatterternary"
           }
          ],
          "surface": [
           {
            "colorbar": {
             "outlinewidth": 0,
             "ticks": ""
            },
            "colorscale": [
             [
              0,
              "#0d0887"
             ],
             [
              0.1111111111111111,
              "#46039f"
             ],
             [
              0.2222222222222222,
              "#7201a8"
             ],
             [
              0.3333333333333333,
              "#9c179e"
             ],
             [
              0.4444444444444444,
              "#bd3786"
             ],
             [
              0.5555555555555556,
              "#d8576b"
             ],
             [
              0.6666666666666666,
              "#ed7953"
             ],
             [
              0.7777777777777778,
              "#fb9f3a"
             ],
             [
              0.8888888888888888,
              "#fdca26"
             ],
             [
              1,
              "#f0f921"
             ]
            ],
            "type": "surface"
           }
          ],
          "table": [
           {
            "cells": {
             "fill": {
              "color": "#EBF0F8"
             },
             "line": {
              "color": "white"
             }
            },
            "header": {
             "fill": {
              "color": "#C8D4E3"
             },
             "line": {
              "color": "white"
             }
            },
            "type": "table"
           }
          ]
         },
         "layout": {
          "annotationdefaults": {
           "arrowcolor": "#2a3f5f",
           "arrowhead": 0,
           "arrowwidth": 1
          },
          "autotypenumbers": "strict",
          "coloraxis": {
           "colorbar": {
            "outlinewidth": 0,
            "ticks": ""
           }
          },
          "colorscale": {
           "diverging": [
            [
             0,
             "#8e0152"
            ],
            [
             0.1,
             "#c51b7d"
            ],
            [
             0.2,
             "#de77ae"
            ],
            [
             0.3,
             "#f1b6da"
            ],
            [
             0.4,
             "#fde0ef"
            ],
            [
             0.5,
             "#f7f7f7"
            ],
            [
             0.6,
             "#e6f5d0"
            ],
            [
             0.7,
             "#b8e186"
            ],
            [
             0.8,
             "#7fbc41"
            ],
            [
             0.9,
             "#4d9221"
            ],
            [
             1,
             "#276419"
            ]
           ],
           "sequential": [
            [
             0,
             "#0d0887"
            ],
            [
             0.1111111111111111,
             "#46039f"
            ],
            [
             0.2222222222222222,
             "#7201a8"
            ],
            [
             0.3333333333333333,
             "#9c179e"
            ],
            [
             0.4444444444444444,
             "#bd3786"
            ],
            [
             0.5555555555555556,
             "#d8576b"
            ],
            [
             0.6666666666666666,
             "#ed7953"
            ],
            [
             0.7777777777777778,
             "#fb9f3a"
            ],
            [
             0.8888888888888888,
             "#fdca26"
            ],
            [
             1,
             "#f0f921"
            ]
           ],
           "sequentialminus": [
            [
             0,
             "#0d0887"
            ],
            [
             0.1111111111111111,
             "#46039f"
            ],
            [
             0.2222222222222222,
             "#7201a8"
            ],
            [
             0.3333333333333333,
             "#9c179e"
            ],
            [
             0.4444444444444444,
             "#bd3786"
            ],
            [
             0.5555555555555556,
             "#d8576b"
            ],
            [
             0.6666666666666666,
             "#ed7953"
            ],
            [
             0.7777777777777778,
             "#fb9f3a"
            ],
            [
             0.8888888888888888,
             "#fdca26"
            ],
            [
             1,
             "#f0f921"
            ]
           ]
          },
          "colorway": [
           "#636efa",
           "#EF553B",
           "#00cc96",
           "#ab63fa",
           "#FFA15A",
           "#19d3f3",
           "#FF6692",
           "#B6E880",
           "#FF97FF",
           "#FECB52"
          ],
          "font": {
           "color": "#2a3f5f"
          },
          "geo": {
           "bgcolor": "white",
           "lakecolor": "white",
           "landcolor": "white",
           "showlakes": true,
           "showland": true,
           "subunitcolor": "#C8D4E3"
          },
          "hoverlabel": {
           "align": "left"
          },
          "hovermode": "closest",
          "mapbox": {
           "style": "light"
          },
          "paper_bgcolor": "white",
          "plot_bgcolor": "white",
          "polar": {
           "angularaxis": {
            "gridcolor": "#EBF0F8",
            "linecolor": "#EBF0F8",
            "ticks": ""
           },
           "bgcolor": "white",
           "radialaxis": {
            "gridcolor": "#EBF0F8",
            "linecolor": "#EBF0F8",
            "ticks": ""
           }
          },
          "scene": {
           "xaxis": {
            "backgroundcolor": "white",
            "gridcolor": "#DFE8F3",
            "gridwidth": 2,
            "linecolor": "#EBF0F8",
            "showbackground": true,
            "ticks": "",
            "zerolinecolor": "#EBF0F8"
           },
           "yaxis": {
            "backgroundcolor": "white",
            "gridcolor": "#DFE8F3",
            "gridwidth": 2,
            "linecolor": "#EBF0F8",
            "showbackground": true,
            "ticks": "",
            "zerolinecolor": "#EBF0F8"
           },
           "zaxis": {
            "backgroundcolor": "white",
            "gridcolor": "#DFE8F3",
            "gridwidth": 2,
            "linecolor": "#EBF0F8",
            "showbackground": true,
            "ticks": "",
            "zerolinecolor": "#EBF0F8"
           }
          },
          "shapedefaults": {
           "line": {
            "color": "#2a3f5f"
           }
          },
          "ternary": {
           "aaxis": {
            "gridcolor": "#DFE8F3",
            "linecolor": "#A2B1C6",
            "ticks": ""
           },
           "baxis": {
            "gridcolor": "#DFE8F3",
            "linecolor": "#A2B1C6",
            "ticks": ""
           },
           "bgcolor": "white",
           "caxis": {
            "gridcolor": "#DFE8F3",
            "linecolor": "#A2B1C6",
            "ticks": ""
           }
          },
          "title": {
           "x": 0.05
          },
          "xaxis": {
           "automargin": true,
           "gridcolor": "#EBF0F8",
           "linecolor": "#EBF0F8",
           "ticks": "",
           "title": {
            "standoff": 15
           },
           "zerolinecolor": "#EBF0F8",
           "zerolinewidth": 2
          },
          "yaxis": {
           "automargin": true,
           "gridcolor": "#EBF0F8",
           "linecolor": "#EBF0F8",
           "ticks": "",
           "title": {
            "standoff": 15
           },
           "zerolinecolor": "#EBF0F8",
           "zerolinewidth": 2
          }
         }
        },
        "title": {
         "text": "Position Frequencies for Unfinished Paths"
        },
        "width": 1200,
        "xaxis": {
         "anchor": "y",
         "domain": [
          0,
          0.475
         ],
         "title": {
          "text": "Position in Path"
         }
        },
        "xaxis2": {
         "anchor": "y2",
         "domain": [
          0.525,
          1
         ],
         "title": {
          "text": "Position in Path"
         }
        },
        "yaxis": {
         "anchor": "x",
         "domain": [
          0,
          1
         ],
         "title": {
          "text": "Frequency"
         }
        },
        "yaxis2": {
         "anchor": "x2",
         "domain": [
          0,
          1
         ],
         "title": {
          "text": "Percentage (%)"
         }
        }
       }
      }
     },
     "metadata": {},
     "output_type": "display_data"
    }
   ],
   "source": [
    "df_position_data = get_position_frequencies(common_paths_u, max_position=15)\n",
    "plot_position_line(df_position_data, title=\"Position Frequencies for Unfinished Paths\")"
   ]
  },
  {
   "cell_type": "markdown",
   "metadata": {},
   "source": [
    "### Navigation with only change of category  (merged)\n",
    "\n",
    "Example :\n",
    "- Science -> Science -> Science **become** Science\n",
    "- Science -> Science -> Science -> Citizenship -> Design and Technology **become** Science -> Citizenship -> Design and Technology"
   ]
  },
  {
   "cell_type": "code",
   "execution_count": 14,
   "metadata": {},
   "outputs": [],
   "source": [
    "common_paths_f_nl = analyze_categories_paths(df_finished, df_categories_filtered, omit_loops=True)\n",
    "common_paths_u_nl = analyze_categories_paths(df_unfinished, df_categories_filtered, omit_loops=True)"
   ]
  },
  {
   "cell_type": "code",
   "execution_count": 15,
   "metadata": {},
   "outputs": [
    {
     "data": {
      "application/vnd.plotly.v1+json": {
       "config": {
        "plotlyServerURL": "https://plot.ly"
       },
       "data": [
        {
         "line": {
          "color": "#636EFA"
         },
         "mode": "lines+markers",
         "name": "Art",
         "type": "scatter",
         "x": [
          1,
          2,
          3,
          4,
          5,
          6,
          7,
          8,
          9,
          10,
          11,
          12,
          13,
          14,
          15
         ],
         "xaxis": "x",
         "y": [
          408,
          263,
          249,
          207,
          155,
          106,
          73,
          50,
          33,
          20,
          15,
          16,
          12,
          7,
          8
         ],
         "yaxis": "y"
        },
        {
         "line": {
          "color": "#EF553B"
         },
         "mode": "lines+markers",
         "name": "Business Studies",
         "type": "scatter",
         "x": [
          1,
          2,
          3,
          4,
          5,
          6,
          7,
          8,
          9,
          10,
          11,
          12,
          13,
          14,
          15
         ],
         "xaxis": "x",
         "y": [
          849,
          748,
          770,
          460,
          331,
          194,
          126,
          98,
          51,
          32,
          31,
          31,
          13,
          20,
          9
         ],
         "yaxis": "y"
        },
        {
         "line": {
          "color": "#00CC96"
         },
         "mode": "lines+markers",
         "name": "Citizenship",
         "type": "scatter",
         "x": [
          1,
          2,
          3,
          4,
          5,
          6,
          7,
          8,
          9,
          10,
          11,
          12,
          13,
          14,
          15
         ],
         "xaxis": "x",
         "y": [
          2110,
          3017,
          3237,
          2389,
          1218,
          743,
          473,
          312,
          213,
          125,
          95,
          74,
          64,
          50,
          32
         ],
         "yaxis": "y"
        },
        {
         "line": {
          "color": "#AB63FA"
         },
         "mode": "lines+markers",
         "name": "Countries",
         "type": "scatter",
         "x": [
          1,
          2,
          3,
          4,
          5,
          6,
          7,
          8,
          9,
          10,
          11,
          12,
          13,
          14,
          15
         ],
         "xaxis": "x",
         "y": [
          2885,
          13802,
          8178,
          5186,
          2613,
          1416,
          806,
          459,
          311,
          198,
          152,
          94,
          69,
          68,
          43
         ],
         "yaxis": "y"
        },
        {
         "line": {
          "color": "#FFA15A"
         },
         "mode": "lines+markers",
         "name": "Design and Technology",
         "type": "scatter",
         "x": [
          1,
          2,
          3,
          4,
          5,
          6,
          7,
          8,
          9,
          10,
          11,
          12,
          13,
          14,
          15
         ],
         "xaxis": "x",
         "y": [
          2669,
          927,
          1305,
          1109,
          1109,
          584,
          356,
          228,
          173,
          109,
          85,
          53,
          43,
          34,
          24
         ],
         "yaxis": "y"
        },
        {
         "line": {
          "color": "#19D3F3"
         },
         "mode": "lines+markers",
         "name": "Everyday life",
         "type": "scatter",
         "x": [
          1,
          2,
          3,
          4,
          5,
          6,
          7,
          8,
          9,
          10,
          11,
          12,
          13,
          14,
          15
         ],
         "xaxis": "x",
         "y": [
          5572,
          2479,
          2841,
          1965,
          1597,
          923,
          689,
          465,
          307,
          227,
          187,
          143,
          108,
          94,
          72
         ],
         "yaxis": "y"
        },
        {
         "line": {
          "color": "#FF6692"
         },
         "mode": "lines+markers",
         "name": "Geography",
         "type": "scatter",
         "x": [
          1,
          2,
          3,
          4,
          5,
          6,
          7,
          8,
          9,
          10,
          11,
          12,
          13,
          14,
          15
         ],
         "xaxis": "x",
         "y": [
          7235,
          10202,
          8264,
          5171,
          3404,
          1771,
          1177,
          649,
          421,
          274,
          196,
          148,
          98,
          80,
          66
         ],
         "yaxis": "y"
        },
        {
         "line": {
          "color": "#B6E880"
         },
         "mode": "lines+markers",
         "name": "History",
         "type": "scatter",
         "x": [
          1,
          2,
          3,
          4,
          5,
          6,
          7,
          8,
          9,
          10,
          11,
          12,
          13,
          14,
          15
         ],
         "xaxis": "x",
         "y": [
          4004,
          4491,
          4047,
          2953,
          1729,
          1154,
          659,
          425,
          263,
          190,
          123,
          109,
          71,
          49,
          37
         ],
         "yaxis": "y"
        },
        {
         "line": {
          "color": "#FF97FF"
         },
         "mode": "lines+markers",
         "name": "IT",
         "type": "scatter",
         "x": [
          1,
          2,
          3,
          4,
          5,
          6,
          7,
          8,
          9,
          10,
          11,
          12,
          13,
          14,
          15
         ],
         "xaxis": "x",
         "y": [
          1201,
          823,
          765,
          574,
          388,
          247,
          153,
          109,
          62,
          57,
          36,
          25,
          19,
          18,
          9
         ],
         "yaxis": "y"
        },
        {
         "line": {
          "color": "#FECB52"
         },
         "mode": "lines+markers",
         "name": "Language and literature",
         "type": "scatter",
         "x": [
          1,
          2,
          3,
          4,
          5,
          6,
          7,
          8,
          9,
          10,
          11,
          12,
          13,
          14,
          15
         ],
         "xaxis": "x",
         "y": [
          2506,
          2421,
          1617,
          1095,
          658,
          384,
          234,
          145,
          99,
          94,
          41,
          40,
          24,
          28,
          17
         ],
         "yaxis": "y"
        },
        {
         "line": {
          "color": "#636EFA"
         },
         "mode": "lines+markers",
         "name": "Mathematics",
         "type": "scatter",
         "x": [
          1,
          2,
          3,
          4,
          5,
          6,
          7,
          8,
          9,
          10,
          11,
          12,
          13,
          14,
          15
         ],
         "xaxis": "x",
         "y": [
          595,
          288,
          503,
          312,
          193,
          118,
          67,
          40,
          20,
          16,
          11,
          12,
          7,
          6,
          6
         ],
         "yaxis": "y"
        },
        {
         "line": {
          "color": "#EF553B"
         },
         "mode": "lines+markers",
         "name": "Music",
         "type": "scatter",
         "x": [
          1,
          2,
          3,
          4,
          5,
          6,
          7,
          8,
          9,
          10,
          11,
          12,
          13,
          14,
          15
         ],
         "xaxis": "x",
         "y": [
          925,
          353,
          420,
          394,
          266,
          153,
          102,
          79,
          32,
          33,
          30,
          17,
          14,
          12,
          13
         ],
         "yaxis": "y"
        },
        {
         "line": {
          "color": "#00CC96"
         },
         "mode": "lines+markers",
         "name": "People",
         "type": "scatter",
         "x": [
          1,
          2,
          3,
          4,
          5,
          6,
          7,
          8,
          9,
          10,
          11,
          12,
          13,
          14,
          15
         ],
         "xaxis": "x",
         "y": [
          4801,
          2370,
          2223,
          2471,
          1709,
          1024,
          615,
          361,
          238,
          156,
          140,
          74,
          63,
          54,
          49
         ],
         "yaxis": "y"
        },
        {
         "line": {
          "color": "#AB63FA"
         },
         "mode": "lines+markers",
         "name": "Religion",
         "type": "scatter",
         "x": [
          1,
          2,
          3,
          4,
          5,
          6,
          7,
          8,
          9,
          10,
          11,
          12,
          13,
          14,
          15
         ],
         "xaxis": "x",
         "y": [
          1504,
          1590,
          1322,
          944,
          521,
          340,
          169,
          155,
          73,
          72,
          51,
          43,
          28,
          29,
          20
         ],
         "yaxis": "y"
        },
        {
         "line": {
          "color": "#FFA15A"
         },
         "mode": "lines+markers",
         "name": "Science",
         "type": "scatter",
         "x": [
          1,
          2,
          3,
          4,
          5,
          6,
          7,
          8,
          9,
          10,
          11,
          12,
          13,
          14,
          15
         ],
         "xaxis": "x",
         "y": [
          13946,
          4392,
          5435,
          4103,
          2687,
          1773,
          1043,
          710,
          499,
          372,
          264,
          177,
          141,
          111,
          93
         ],
         "yaxis": "y"
        },
        {
         "line": {
          "color": "#19D3F3"
         },
         "mode": "lines+markers",
         "name": "<",
         "type": "scatter",
         "x": [
          2,
          3,
          4,
          5,
          6,
          7,
          8,
          9,
          10,
          11,
          12,
          13,
          14,
          15
         ],
         "xaxis": "x",
         "y": [
          1106,
          2695,
          2698,
          2047,
          1569,
          1148,
          828,
          644,
          513,
          375,
          304,
          254,
          178,
          159
         ],
         "yaxis": "y"
        },
        {
         "line": {
          "color": "#636EFA"
         },
         "mode": "lines+markers",
         "name": "Art",
         "showlegend": false,
         "type": "scatter",
         "x": [
          1,
          2,
          3,
          4,
          5,
          6,
          7,
          8,
          9,
          10,
          11,
          12,
          13,
          14,
          15
         ],
         "xaxis": "x2",
         "y": [
          0.7967193907439953,
          0.5337717161876928,
          0.5675731120785941,
          0.6462489463332397,
          0.7515151515151516,
          0.8480678454276342,
          0.9252217997465145,
          0.9778994719342852,
          0.959581273626054,
          0.8038585209003215,
          0.8187772925764192,
          1.1764705882352942,
          1.1673151750972763,
          0.8353221957040573,
          1.21765601217656
         ],
         "yaxis": "y2"
        },
        {
         "line": {
          "color": "#EF553B"
         },
         "mode": "lines+markers",
         "name": "Business Studies",
         "showlegend": false,
         "type": "scatter",
         "x": [
          1,
          2,
          3,
          4,
          5,
          6,
          7,
          8,
          9,
          10,
          11,
          12,
          13,
          14,
          15
         ],
         "xaxis": "x2",
         "y": [
          1.6578793204452256,
          1.518103588244845,
          1.7551457682751705,
          1.4361087696294215,
          1.604848484848485,
          1.5521241699335946,
          1.596958174904943,
          1.916682964991199,
          1.482989241058447,
          1.2861736334405145,
          1.6921397379912666,
          2.2794117647058822,
          1.264591439688716,
          2.386634844868735,
          1.36986301369863
         ],
         "yaxis": "y2"
        },
        {
         "line": {
          "color": "#00CC96"
         },
         "mode": "lines+markers",
         "name": "Citizenship",
         "showlegend": false,
         "type": "scatter",
         "x": [
          1,
          2,
          3,
          4,
          5,
          6,
          7,
          8,
          9,
          10,
          11,
          12,
          13,
          14,
          15
         ],
         "xaxis": "x2",
         "y": [
          4.120289006053506,
          6.123153109270985,
          7.378450457021722,
          7.458399675314539,
          5.905454545454545,
          5.944475558044644,
          5.994930291508238,
          6.102092704869939,
          6.193660947949986,
          5.024115755627009,
          5.185589519650655,
          5.4411764705882355,
          6.22568093385214,
          5.966587112171838,
          4.87062404870624
         ],
         "yaxis": "y2"
        },
        {
         "line": {
          "color": "#AB63FA"
         },
         "mode": "lines+markers",
         "name": "Countries",
         "showlegend": false,
         "type": "scatter",
         "x": [
          1,
          2,
          3,
          4,
          5,
          6,
          7,
          8,
          9,
          10,
          11,
          12,
          13,
          14,
          15
         ],
         "xaxis": "x2",
         "y": [
          5.633665299746143,
          28.01185257346972,
          18.641015705135512,
          16.19056538977865,
          12.66909090909091,
          11.328906312505001,
          10.215462610899873,
          8.977117152356739,
          9.043326548415237,
          7.958199356913183,
          8.296943231441048,
          6.911764705882353,
          6.712062256809339,
          8.1145584725537,
          6.54490106544901
         ],
         "yaxis": "y2"
        },
        {
         "line": {
          "color": "#FFA15A"
         },
         "mode": "lines+markers",
         "name": "Design and Technology",
         "showlegend": false,
         "type": "scatter",
         "x": [
          1,
          2,
          3,
          4,
          5,
          6,
          7,
          8,
          9,
          10,
          11,
          12,
          13,
          14,
          15
         ],
         "xaxis": "x2",
         "y": [
          5.211872681116969,
          1.8813930832927424,
          2.9746301657131133,
          3.4622709250413664,
          5.376969696969697,
          4.672373789903192,
          4.512040557667934,
          4.459221592020341,
          5.0305321314335565,
          4.381028938906752,
          4.639737991266375,
          3.8970588235294117,
          4.182879377431906,
          4.05727923627685,
          3.65296803652968
         ],
         "yaxis": "y2"
        },
        {
         "line": {
          "color": "#19D3F3"
         },
         "mode": "lines+markers",
         "name": "Everyday life",
         "showlegend": false,
         "type": "scatter",
         "x": [
          1,
          2,
          3,
          4,
          5,
          6,
          7,
          8,
          9,
          10,
          11,
          12,
          13,
          14,
          15
         ],
         "xaxis": "x2",
         "y": [
          10.880687365748877,
          5.031255073875629,
          6.475804061908779,
          6.1346820267865505,
          7.743030303030303,
          7.384590767261382,
          8.73257287705957,
          9.094465088988853,
          8.927013666763594,
          9.12379421221865,
          10.207423580786026,
          10.514705882352942,
          10.505836575875486,
          11.217183770883054,
          10.95890410958904
         ],
         "yaxis": "y2"
        },
        {
         "line": {
          "color": "#FF6692"
         },
         "mode": "lines+markers",
         "name": "Geography",
         "showlegend": false,
         "type": "scatter",
         "x": [
          1,
          2,
          3,
          4,
          5,
          6,
          7,
          8,
          9,
          10,
          11,
          12,
          13,
          14,
          15
         ],
         "xaxis": "x2",
         "y": [
          14.128099980472564,
          20.705471667478488,
          18.83704497276105,
          16.143735755986388,
          16.504242424242424,
          14.169133530682455,
          14.917617237008873,
          12.693135145707021,
          12.241930793835417,
          11.012861736334404,
          10.698689956331878,
          10.882352941176471,
          9.53307392996109,
          9.54653937947494,
          10.045662100456621
         ],
         "yaxis": "y2"
        },
        {
         "line": {
          "color": "#B6E880"
         },
         "mode": "lines+markers",
         "name": "History",
         "showlegend": false,
         "type": "scatter",
         "x": [
          1,
          2,
          3,
          4,
          5,
          6,
          7,
          8,
          9,
          10,
          11,
          12,
          13,
          14,
          15
         ],
         "xaxis": "x2",
         "y": [
          7.818785393477837,
          9.114710180224064,
          9.224772628843656,
          9.219193905903655,
          8.383030303030303,
          9.232738619089528,
          8.35234474017744,
          8.312145511441424,
          7.647571968595522,
          7.636655948553055,
          6.713973799126638,
          8.014705882352942,
          6.906614785992218,
          5.847255369928401,
          5.6316590563165905
         ],
         "yaxis": "y2"
        },
        {
         "line": {
          "color": "#FF97FF"
         },
         "mode": "lines+markers",
         "name": "IT",
         "showlegend": false,
         "type": "scatter",
         "x": [
          1,
          2,
          3,
          4,
          5,
          6,
          7,
          8,
          9,
          10,
          11,
          12,
          13,
          14,
          15
         ],
         "xaxis": "x2",
         "y": [
          2.3452450693223983,
          1.6703198571196625,
          1.7437487178318252,
          1.792013986450626,
          1.8812121212121211,
          1.9761580926474116,
          1.9391634980988595,
          2.1318208488167416,
          1.8028496656004651,
          2.2909967845659165,
          1.9650655021834063,
          1.8382352941176472,
          1.8482490272373542,
          2.1479713603818613,
          1.36986301369863
         ],
         "yaxis": "y2"
        },
        {
         "line": {
          "color": "#FECB52"
         },
         "mode": "lines+markers",
         "name": "Language and literature",
         "showlegend": false,
         "type": "scatter",
         "x": [
          1,
          2,
          3,
          4,
          5,
          6,
          7,
          8,
          9,
          10,
          11,
          12,
          13,
          14,
          15
         ],
         "xaxis": "x2",
         "y": [
          4.8935754735403245,
          4.913541159279103,
          3.6858061133778577,
          3.4185632668352532,
          3.19030303030303,
          3.072245779662373,
          2.9657794676806084,
          2.8359084686094267,
          2.8787438208781624,
          3.778135048231511,
          2.2379912663755457,
          2.941176470588235,
          2.3346303501945527,
          3.341288782816229,
          2.5875190258751903
         ],
         "yaxis": "y2"
        },
        {
         "line": {
          "color": "#636EFA"
         },
         "mode": "lines+markers",
         "name": "Mathematics",
         "showlegend": false,
         "type": "scatter",
         "x": [
          1,
          2,
          3,
          4,
          5,
          6,
          7,
          8,
          9,
          10,
          11,
          12,
          13,
          14,
          15
         ],
         "xaxis": "x2",
         "y": [
          1.1618824448349931,
          0.5845104724792985,
          1.1465432746005333,
          0.9740563828790859,
          0.9357575757575757,
          0.9440755260420834,
          0.8491761723700888,
          0.7823195775474282,
          0.5815644082582146,
          0.6430868167202572,
          0.6004366812227074,
          0.8823529411764706,
          0.6809338521400778,
          0.7159904534606205,
          0.91324200913242
         ],
         "yaxis": "y2"
        },
        {
         "line": {
          "color": "#EF553B"
         },
         "mode": "lines+markers",
         "name": "Music",
         "showlegend": false,
         "type": "scatter",
         "x": [
          1,
          2,
          3,
          4,
          5,
          6,
          7,
          8,
          9,
          10,
          11,
          12,
          13,
          14,
          15
         ],
         "xaxis": "x2",
         "y": [
          1.8062878344073423,
          0.7164312388374736,
          0.957352237241002,
          1.230058380943461,
          1.2896969696969696,
          1.2240979278342268,
          1.2927756653992395,
          1.5450811656561707,
          0.9305030532131433,
          1.3263665594855305,
          1.6375545851528384,
          1.25,
          1.3618677042801557,
          1.431980906921241,
          1.97869101978691
         ],
         "yaxis": "y2"
        },
        {
         "line": {
          "color": "#00CC96"
         },
         "mode": "lines+markers",
         "name": "People",
         "showlegend": false,
         "type": "scatter",
         "x": [
          1,
          2,
          3,
          4,
          5,
          6,
          7,
          8,
          9,
          10,
          11,
          12,
          13,
          14,
          15
         ],
         "xaxis": "x2",
         "y": [
          9.375122046475298,
          4.8100340964442285,
          5.067128627111304,
          7.714401673378914,
          8.286060606060607,
          8.192655412432995,
          7.79467680608365,
          7.060434187365539,
          6.920616458272753,
          6.270096463022508,
          7.641921397379912,
          5.4411764705882355,
          6.1284046692607,
          6.443914081145586,
          7.4581430745814306
         ],
         "yaxis": "y2"
        },
        {
         "line": {
          "color": "#AB63FA"
         },
         "mode": "lines+markers",
         "name": "Religion",
         "showlegend": false,
         "type": "scatter",
         "x": [
          1,
          2,
          3,
          4,
          5,
          6,
          7,
          8,
          9,
          10,
          11,
          12,
          13,
          14,
          15
         ],
         "xaxis": "x2",
         "y": [
          2.9369263815661,
          3.2269849001461277,
          3.013380137220487,
          2.947144953326465,
          2.526060606060606,
          2.720217617409393,
          2.1419518377693283,
          3.031488362996284,
          2.1227100901424834,
          2.8938906752411575,
          2.7838427947598254,
          3.161764705882353,
          2.7237354085603114,
          3.4606205250596656,
          3.0441400304414
         ],
         "yaxis": "y2"
        },
        {
         "line": {
          "color": "#FFA15A"
         },
         "mode": "lines+markers",
         "name": "Science",
         "showlegend": false,
         "type": "scatter",
         "x": [
          1,
          2,
          3,
          4,
          5,
          6,
          7,
          8,
          9,
          10,
          11,
          12,
          13,
          14,
          15
         ],
         "xaxis": "x2",
         "y": [
          27.232962312048425,
          8.913784705309304,
          12.3885938319163,
          12.80946582997721,
          13.027878787878787,
          14.185134810784863,
          13.219264892268695,
          13.886172501466849,
          14.510031986042454,
          14.951768488745982,
          14.41048034934498,
          13.014705882352942,
          13.715953307392997,
          13.24582338902148,
          14.15525114155251
         ],
         "yaxis": "y2"
        },
        {
         "line": {
          "color": "#19D3F3"
         },
         "mode": "lines+markers",
         "name": "<",
         "showlegend": false,
         "type": "scatter",
         "x": [
          2,
          3,
          4,
          5,
          6,
          7,
          8,
          9,
          10,
          11,
          12,
          13,
          14,
          15
         ],
         "xaxis": "x2",
         "y": [
          2.2446825783406394,
          6.143010188963097,
          8.423090131435172,
          9.924848484848486,
          12.553004240339227,
          14.550063371356147,
          16.19401525523176,
          18.72637394591451,
          20.618971061093248,
          20.46943231441048,
          22.35294117647059,
          24.708171206225682,
          21.241050119331742,
          24.200913242009133
         ],
         "yaxis": "y2"
        }
       ],
       "layout": {
        "annotations": [
         {
          "font": {
           "size": 16
          },
          "showarrow": false,
          "text": "Non-Normalized Frequencies",
          "x": 0.2375,
          "xanchor": "center",
          "xref": "paper",
          "y": 1,
          "yanchor": "bottom",
          "yref": "paper"
         },
         {
          "font": {
           "size": 16
          },
          "showarrow": false,
          "text": "Normalized Frequencies",
          "x": 0.7625,
          "xanchor": "center",
          "xref": "paper",
          "y": 1,
          "yanchor": "bottom",
          "yref": "paper"
         }
        ],
        "height": 600,
        "legend": {
         "title": {
          "text": "Category"
         }
        },
        "template": {
         "data": {
          "bar": [
           {
            "error_x": {
             "color": "#2a3f5f"
            },
            "error_y": {
             "color": "#2a3f5f"
            },
            "marker": {
             "line": {
              "color": "white",
              "width": 0.5
             },
             "pattern": {
              "fillmode": "overlay",
              "size": 10,
              "solidity": 0.2
             }
            },
            "type": "bar"
           }
          ],
          "barpolar": [
           {
            "marker": {
             "line": {
              "color": "white",
              "width": 0.5
             },
             "pattern": {
              "fillmode": "overlay",
              "size": 10,
              "solidity": 0.2
             }
            },
            "type": "barpolar"
           }
          ],
          "carpet": [
           {
            "aaxis": {
             "endlinecolor": "#2a3f5f",
             "gridcolor": "#C8D4E3",
             "linecolor": "#C8D4E3",
             "minorgridcolor": "#C8D4E3",
             "startlinecolor": "#2a3f5f"
            },
            "baxis": {
             "endlinecolor": "#2a3f5f",
             "gridcolor": "#C8D4E3",
             "linecolor": "#C8D4E3",
             "minorgridcolor": "#C8D4E3",
             "startlinecolor": "#2a3f5f"
            },
            "type": "carpet"
           }
          ],
          "choropleth": [
           {
            "colorbar": {
             "outlinewidth": 0,
             "ticks": ""
            },
            "type": "choropleth"
           }
          ],
          "contour": [
           {
            "colorbar": {
             "outlinewidth": 0,
             "ticks": ""
            },
            "colorscale": [
             [
              0,
              "#0d0887"
             ],
             [
              0.1111111111111111,
              "#46039f"
             ],
             [
              0.2222222222222222,
              "#7201a8"
             ],
             [
              0.3333333333333333,
              "#9c179e"
             ],
             [
              0.4444444444444444,
              "#bd3786"
             ],
             [
              0.5555555555555556,
              "#d8576b"
             ],
             [
              0.6666666666666666,
              "#ed7953"
             ],
             [
              0.7777777777777778,
              "#fb9f3a"
             ],
             [
              0.8888888888888888,
              "#fdca26"
             ],
             [
              1,
              "#f0f921"
             ]
            ],
            "type": "contour"
           }
          ],
          "contourcarpet": [
           {
            "colorbar": {
             "outlinewidth": 0,
             "ticks": ""
            },
            "type": "contourcarpet"
           }
          ],
          "heatmap": [
           {
            "colorbar": {
             "outlinewidth": 0,
             "ticks": ""
            },
            "colorscale": [
             [
              0,
              "#0d0887"
             ],
             [
              0.1111111111111111,
              "#46039f"
             ],
             [
              0.2222222222222222,
              "#7201a8"
             ],
             [
              0.3333333333333333,
              "#9c179e"
             ],
             [
              0.4444444444444444,
              "#bd3786"
             ],
             [
              0.5555555555555556,
              "#d8576b"
             ],
             [
              0.6666666666666666,
              "#ed7953"
             ],
             [
              0.7777777777777778,
              "#fb9f3a"
             ],
             [
              0.8888888888888888,
              "#fdca26"
             ],
             [
              1,
              "#f0f921"
             ]
            ],
            "type": "heatmap"
           }
          ],
          "heatmapgl": [
           {
            "colorbar": {
             "outlinewidth": 0,
             "ticks": ""
            },
            "colorscale": [
             [
              0,
              "#0d0887"
             ],
             [
              0.1111111111111111,
              "#46039f"
             ],
             [
              0.2222222222222222,
              "#7201a8"
             ],
             [
              0.3333333333333333,
              "#9c179e"
             ],
             [
              0.4444444444444444,
              "#bd3786"
             ],
             [
              0.5555555555555556,
              "#d8576b"
             ],
             [
              0.6666666666666666,
              "#ed7953"
             ],
             [
              0.7777777777777778,
              "#fb9f3a"
             ],
             [
              0.8888888888888888,
              "#fdca26"
             ],
             [
              1,
              "#f0f921"
             ]
            ],
            "type": "heatmapgl"
           }
          ],
          "histogram": [
           {
            "marker": {
             "pattern": {
              "fillmode": "overlay",
              "size": 10,
              "solidity": 0.2
             }
            },
            "type": "histogram"
           }
          ],
          "histogram2d": [
           {
            "colorbar": {
             "outlinewidth": 0,
             "ticks": ""
            },
            "colorscale": [
             [
              0,
              "#0d0887"
             ],
             [
              0.1111111111111111,
              "#46039f"
             ],
             [
              0.2222222222222222,
              "#7201a8"
             ],
             [
              0.3333333333333333,
              "#9c179e"
             ],
             [
              0.4444444444444444,
              "#bd3786"
             ],
             [
              0.5555555555555556,
              "#d8576b"
             ],
             [
              0.6666666666666666,
              "#ed7953"
             ],
             [
              0.7777777777777778,
              "#fb9f3a"
             ],
             [
              0.8888888888888888,
              "#fdca26"
             ],
             [
              1,
              "#f0f921"
             ]
            ],
            "type": "histogram2d"
           }
          ],
          "histogram2dcontour": [
           {
            "colorbar": {
             "outlinewidth": 0,
             "ticks": ""
            },
            "colorscale": [
             [
              0,
              "#0d0887"
             ],
             [
              0.1111111111111111,
              "#46039f"
             ],
             [
              0.2222222222222222,
              "#7201a8"
             ],
             [
              0.3333333333333333,
              "#9c179e"
             ],
             [
              0.4444444444444444,
              "#bd3786"
             ],
             [
              0.5555555555555556,
              "#d8576b"
             ],
             [
              0.6666666666666666,
              "#ed7953"
             ],
             [
              0.7777777777777778,
              "#fb9f3a"
             ],
             [
              0.8888888888888888,
              "#fdca26"
             ],
             [
              1,
              "#f0f921"
             ]
            ],
            "type": "histogram2dcontour"
           }
          ],
          "mesh3d": [
           {
            "colorbar": {
             "outlinewidth": 0,
             "ticks": ""
            },
            "type": "mesh3d"
           }
          ],
          "parcoords": [
           {
            "line": {
             "colorbar": {
              "outlinewidth": 0,
              "ticks": ""
             }
            },
            "type": "parcoords"
           }
          ],
          "pie": [
           {
            "automargin": true,
            "type": "pie"
           }
          ],
          "scatter": [
           {
            "fillpattern": {
             "fillmode": "overlay",
             "size": 10,
             "solidity": 0.2
            },
            "type": "scatter"
           }
          ],
          "scatter3d": [
           {
            "line": {
             "colorbar": {
              "outlinewidth": 0,
              "ticks": ""
             }
            },
            "marker": {
             "colorbar": {
              "outlinewidth": 0,
              "ticks": ""
             }
            },
            "type": "scatter3d"
           }
          ],
          "scattercarpet": [
           {
            "marker": {
             "colorbar": {
              "outlinewidth": 0,
              "ticks": ""
             }
            },
            "type": "scattercarpet"
           }
          ],
          "scattergeo": [
           {
            "marker": {
             "colorbar": {
              "outlinewidth": 0,
              "ticks": ""
             }
            },
            "type": "scattergeo"
           }
          ],
          "scattergl": [
           {
            "marker": {
             "colorbar": {
              "outlinewidth": 0,
              "ticks": ""
             }
            },
            "type": "scattergl"
           }
          ],
          "scattermapbox": [
           {
            "marker": {
             "colorbar": {
              "outlinewidth": 0,
              "ticks": ""
             }
            },
            "type": "scattermapbox"
           }
          ],
          "scatterpolar": [
           {
            "marker": {
             "colorbar": {
              "outlinewidth": 0,
              "ticks": ""
             }
            },
            "type": "scatterpolar"
           }
          ],
          "scatterpolargl": [
           {
            "marker": {
             "colorbar": {
              "outlinewidth": 0,
              "ticks": ""
             }
            },
            "type": "scatterpolargl"
           }
          ],
          "scatterternary": [
           {
            "marker": {
             "colorbar": {
              "outlinewidth": 0,
              "ticks": ""
             }
            },
            "type": "scatterternary"
           }
          ],
          "surface": [
           {
            "colorbar": {
             "outlinewidth": 0,
             "ticks": ""
            },
            "colorscale": [
             [
              0,
              "#0d0887"
             ],
             [
              0.1111111111111111,
              "#46039f"
             ],
             [
              0.2222222222222222,
              "#7201a8"
             ],
             [
              0.3333333333333333,
              "#9c179e"
             ],
             [
              0.4444444444444444,
              "#bd3786"
             ],
             [
              0.5555555555555556,
              "#d8576b"
             ],
             [
              0.6666666666666666,
              "#ed7953"
             ],
             [
              0.7777777777777778,
              "#fb9f3a"
             ],
             [
              0.8888888888888888,
              "#fdca26"
             ],
             [
              1,
              "#f0f921"
             ]
            ],
            "type": "surface"
           }
          ],
          "table": [
           {
            "cells": {
             "fill": {
              "color": "#EBF0F8"
             },
             "line": {
              "color": "white"
             }
            },
            "header": {
             "fill": {
              "color": "#C8D4E3"
             },
             "line": {
              "color": "white"
             }
            },
            "type": "table"
           }
          ]
         },
         "layout": {
          "annotationdefaults": {
           "arrowcolor": "#2a3f5f",
           "arrowhead": 0,
           "arrowwidth": 1
          },
          "autotypenumbers": "strict",
          "coloraxis": {
           "colorbar": {
            "outlinewidth": 0,
            "ticks": ""
           }
          },
          "colorscale": {
           "diverging": [
            [
             0,
             "#8e0152"
            ],
            [
             0.1,
             "#c51b7d"
            ],
            [
             0.2,
             "#de77ae"
            ],
            [
             0.3,
             "#f1b6da"
            ],
            [
             0.4,
             "#fde0ef"
            ],
            [
             0.5,
             "#f7f7f7"
            ],
            [
             0.6,
             "#e6f5d0"
            ],
            [
             0.7,
             "#b8e186"
            ],
            [
             0.8,
             "#7fbc41"
            ],
            [
             0.9,
             "#4d9221"
            ],
            [
             1,
             "#276419"
            ]
           ],
           "sequential": [
            [
             0,
             "#0d0887"
            ],
            [
             0.1111111111111111,
             "#46039f"
            ],
            [
             0.2222222222222222,
             "#7201a8"
            ],
            [
             0.3333333333333333,
             "#9c179e"
            ],
            [
             0.4444444444444444,
             "#bd3786"
            ],
            [
             0.5555555555555556,
             "#d8576b"
            ],
            [
             0.6666666666666666,
             "#ed7953"
            ],
            [
             0.7777777777777778,
             "#fb9f3a"
            ],
            [
             0.8888888888888888,
             "#fdca26"
            ],
            [
             1,
             "#f0f921"
            ]
           ],
           "sequentialminus": [
            [
             0,
             "#0d0887"
            ],
            [
             0.1111111111111111,
             "#46039f"
            ],
            [
             0.2222222222222222,
             "#7201a8"
            ],
            [
             0.3333333333333333,
             "#9c179e"
            ],
            [
             0.4444444444444444,
             "#bd3786"
            ],
            [
             0.5555555555555556,
             "#d8576b"
            ],
            [
             0.6666666666666666,
             "#ed7953"
            ],
            [
             0.7777777777777778,
             "#fb9f3a"
            ],
            [
             0.8888888888888888,
             "#fdca26"
            ],
            [
             1,
             "#f0f921"
            ]
           ]
          },
          "colorway": [
           "#636efa",
           "#EF553B",
           "#00cc96",
           "#ab63fa",
           "#FFA15A",
           "#19d3f3",
           "#FF6692",
           "#B6E880",
           "#FF97FF",
           "#FECB52"
          ],
          "font": {
           "color": "#2a3f5f"
          },
          "geo": {
           "bgcolor": "white",
           "lakecolor": "white",
           "landcolor": "white",
           "showlakes": true,
           "showland": true,
           "subunitcolor": "#C8D4E3"
          },
          "hoverlabel": {
           "align": "left"
          },
          "hovermode": "closest",
          "mapbox": {
           "style": "light"
          },
          "paper_bgcolor": "white",
          "plot_bgcolor": "white",
          "polar": {
           "angularaxis": {
            "gridcolor": "#EBF0F8",
            "linecolor": "#EBF0F8",
            "ticks": ""
           },
           "bgcolor": "white",
           "radialaxis": {
            "gridcolor": "#EBF0F8",
            "linecolor": "#EBF0F8",
            "ticks": ""
           }
          },
          "scene": {
           "xaxis": {
            "backgroundcolor": "white",
            "gridcolor": "#DFE8F3",
            "gridwidth": 2,
            "linecolor": "#EBF0F8",
            "showbackground": true,
            "ticks": "",
            "zerolinecolor": "#EBF0F8"
           },
           "yaxis": {
            "backgroundcolor": "white",
            "gridcolor": "#DFE8F3",
            "gridwidth": 2,
            "linecolor": "#EBF0F8",
            "showbackground": true,
            "ticks": "",
            "zerolinecolor": "#EBF0F8"
           },
           "zaxis": {
            "backgroundcolor": "white",
            "gridcolor": "#DFE8F3",
            "gridwidth": 2,
            "linecolor": "#EBF0F8",
            "showbackground": true,
            "ticks": "",
            "zerolinecolor": "#EBF0F8"
           }
          },
          "shapedefaults": {
           "line": {
            "color": "#2a3f5f"
           }
          },
          "ternary": {
           "aaxis": {
            "gridcolor": "#DFE8F3",
            "linecolor": "#A2B1C6",
            "ticks": ""
           },
           "baxis": {
            "gridcolor": "#DFE8F3",
            "linecolor": "#A2B1C6",
            "ticks": ""
           },
           "bgcolor": "white",
           "caxis": {
            "gridcolor": "#DFE8F3",
            "linecolor": "#A2B1C6",
            "ticks": ""
           }
          },
          "title": {
           "x": 0.05
          },
          "xaxis": {
           "automargin": true,
           "gridcolor": "#EBF0F8",
           "linecolor": "#EBF0F8",
           "ticks": "",
           "title": {
            "standoff": 15
           },
           "zerolinecolor": "#EBF0F8",
           "zerolinewidth": 2
          },
          "yaxis": {
           "automargin": true,
           "gridcolor": "#EBF0F8",
           "linecolor": "#EBF0F8",
           "ticks": "",
           "title": {
            "standoff": 15
           },
           "zerolinecolor": "#EBF0F8",
           "zerolinewidth": 2
          }
         }
        },
        "title": {
         "text": "Position Frequencies for Finished Paths"
        },
        "width": 1200,
        "xaxis": {
         "anchor": "y",
         "domain": [
          0,
          0.475
         ],
         "title": {
          "text": "Position in Path"
         }
        },
        "xaxis2": {
         "anchor": "y2",
         "domain": [
          0.525,
          1
         ],
         "title": {
          "text": "Position in Path"
         }
        },
        "yaxis": {
         "anchor": "x",
         "domain": [
          0,
          1
         ],
         "title": {
          "text": "Frequency"
         }
        },
        "yaxis2": {
         "anchor": "x2",
         "domain": [
          0,
          1
         ],
         "title": {
          "text": "Percentage (%)"
         }
        }
       }
      }
     },
     "metadata": {},
     "output_type": "display_data"
    }
   ],
   "source": [
    "df_position_data = get_position_frequencies(common_paths_f_nl, max_position=15)\n",
    "plot_position_line(df_position_data, title=\"Position Frequencies for Finished Paths\")"
   ]
  },
  {
   "cell_type": "code",
   "execution_count": 16,
   "metadata": {},
   "outputs": [
    {
     "data": {
      "application/vnd.plotly.v1+json": {
       "config": {
        "plotlyServerURL": "https://plot.ly"
       },
       "data": [
        {
         "line": {
          "color": "#636EFA"
         },
         "mode": "lines+markers",
         "name": "Art",
         "type": "scatter",
         "x": [
          1,
          2,
          3,
          4,
          5,
          6,
          7,
          8,
          9,
          10,
          11,
          12,
          13,
          14,
          15
         ],
         "xaxis": "x",
         "y": [
          200,
          122,
          93,
          84,
          61,
          52,
          34,
          19,
          12,
          13,
          8,
          9,
          13,
          5,
          5
         ],
         "yaxis": "y"
        },
        {
         "line": {
          "color": "#EF553B"
         },
         "mode": "lines+markers",
         "name": "Business Studies",
         "type": "scatter",
         "x": [
          1,
          2,
          3,
          4,
          5,
          6,
          7,
          8,
          9,
          10,
          11,
          12,
          13,
          14,
          15
         ],
         "xaxis": "x",
         "y": [
          364,
          262,
          249,
          172,
          144,
          98,
          65,
          58,
          40,
          25,
          20,
          18,
          8,
          12,
          6
         ],
         "yaxis": "y"
        },
        {
         "line": {
          "color": "#00CC96"
         },
         "mode": "lines+markers",
         "name": "Citizenship",
         "type": "scatter",
         "x": [
          1,
          2,
          3,
          4,
          5,
          6,
          7,
          8,
          9,
          10,
          11,
          12,
          13,
          14,
          15
         ],
         "xaxis": "x",
         "y": [
          941,
          1092,
          1092,
          698,
          470,
          307,
          235,
          185,
          112,
          120,
          66,
          57,
          64,
          36,
          30
         ],
         "yaxis": "y"
        },
        {
         "line": {
          "color": "#AB63FA"
         },
         "mode": "lines+markers",
         "name": "Countries",
         "type": "scatter",
         "x": [
          1,
          2,
          3,
          4,
          5,
          6,
          7,
          8,
          9,
          10,
          11,
          12,
          13,
          14,
          15
         ],
         "xaxis": "x",
         "y": [
          1349,
          4841,
          2262,
          1609,
          834,
          548,
          381,
          252,
          174,
          102,
          101,
          74,
          49,
          55,
          36
         ],
         "yaxis": "y"
        },
        {
         "line": {
          "color": "#FFA15A"
         },
         "mode": "lines+markers",
         "name": "Design and Technology",
         "type": "scatter",
         "x": [
          1,
          2,
          3,
          4,
          5,
          6,
          7,
          8,
          9,
          10,
          11,
          12,
          13,
          14,
          15
         ],
         "xaxis": "x",
         "y": [
          1958,
          387,
          318,
          286,
          229,
          155,
          120,
          90,
          66,
          46,
          35,
          31,
          24,
          14,
          15
         ],
         "yaxis": "y"
        },
        {
         "line": {
          "color": "#19D3F3"
         },
         "mode": "lines+markers",
         "name": "Everyday life",
         "type": "scatter",
         "x": [
          1,
          2,
          3,
          4,
          5,
          6,
          7,
          8,
          9,
          10,
          11,
          12,
          13,
          14,
          15
         ],
         "xaxis": "x",
         "y": [
          2450,
          977,
          1110,
          637,
          591,
          386,
          271,
          210,
          162,
          122,
          109,
          73,
          64,
          48,
          49
         ],
         "yaxis": "y"
        },
        {
         "line": {
          "color": "#FF6692"
         },
         "mode": "lines+markers",
         "name": "Geography",
         "type": "scatter",
         "x": [
          1,
          2,
          3,
          4,
          5,
          6,
          7,
          8,
          9,
          10,
          11,
          12,
          13,
          14,
          15
         ],
         "xaxis": "x",
         "y": [
          3192,
          3378,
          2553,
          1556,
          1042,
          634,
          463,
          293,
          244,
          169,
          131,
          104,
          79,
          61,
          49
         ],
         "yaxis": "y"
        },
        {
         "line": {
          "color": "#B6E880"
         },
         "mode": "lines+markers",
         "name": "History",
         "type": "scatter",
         "x": [
          1,
          2,
          3,
          4,
          5,
          6,
          7,
          8,
          9,
          10,
          11,
          12,
          13,
          14,
          15
         ],
         "xaxis": "x",
         "y": [
          1795,
          1652,
          1311,
          757,
          544,
          348,
          241,
          174,
          132,
          87,
          61,
          42,
          45,
          31,
          27
         ],
         "yaxis": "y"
        },
        {
         "line": {
          "color": "#FF97FF"
         },
         "mode": "lines+markers",
         "name": "IT",
         "type": "scatter",
         "x": [
          1,
          2,
          3,
          4,
          5,
          6,
          7,
          8,
          9,
          10,
          11,
          12,
          13,
          14,
          15
         ],
         "xaxis": "x",
         "y": [
          567,
          342,
          181,
          166,
          137,
          91,
          65,
          48,
          30,
          23,
          21,
          14,
          9,
          8,
          11
         ],
         "yaxis": "y"
        },
        {
         "line": {
          "color": "#FECB52"
         },
         "mode": "lines+markers",
         "name": "Language and literature",
         "type": "scatter",
         "x": [
          1,
          2,
          3,
          4,
          5,
          6,
          7,
          8,
          9,
          10,
          11,
          12,
          13,
          14,
          15
         ],
         "xaxis": "x",
         "y": [
          1637,
          910,
          571,
          407,
          273,
          201,
          126,
          100,
          74,
          64,
          43,
          25,
          21,
          20,
          12
         ],
         "yaxis": "y"
        },
        {
         "line": {
          "color": "#636EFA"
         },
         "mode": "lines+markers",
         "name": "Mathematics",
         "type": "scatter",
         "x": [
          1,
          2,
          3,
          4,
          5,
          6,
          7,
          8,
          9,
          10,
          11,
          12,
          13,
          14,
          15
         ],
         "xaxis": "x",
         "y": [
          295,
          109,
          105,
          62,
          44,
          34,
          32,
          15,
          18,
          13,
          11,
          8,
          7,
          4,
          6
         ],
         "yaxis": "y"
        },
        {
         "line": {
          "color": "#EF553B"
         },
         "mode": "lines+markers",
         "name": "Music",
         "type": "scatter",
         "x": [
          1,
          2,
          3,
          4,
          5,
          6,
          7,
          8,
          9,
          10,
          11,
          12,
          13,
          14,
          15
         ],
         "xaxis": "x",
         "y": [
          409,
          148,
          201,
          118,
          84,
          53,
          43,
          27,
          23,
          12,
          13,
          10,
          6,
          6,
          3
         ],
         "yaxis": "y"
        },
        {
         "line": {
          "color": "#00CC96"
         },
         "mode": "lines+markers",
         "name": "People",
         "type": "scatter",
         "x": [
          1,
          2,
          3,
          4,
          5,
          6,
          7,
          8,
          9,
          10,
          11,
          12,
          13,
          14,
          15
         ],
         "xaxis": "x",
         "y": [
          2165,
          906,
          568,
          496,
          362,
          229,
          166,
          136,
          113,
          73,
          67,
          44,
          33,
          28,
          26
         ],
         "yaxis": "y"
        },
        {
         "line": {
          "color": "#AB63FA"
         },
         "mode": "lines+markers",
         "name": "Religion",
         "type": "scatter",
         "x": [
          1,
          2,
          3,
          4,
          5,
          6,
          7,
          8,
          9,
          10,
          11,
          12,
          13,
          14,
          15
         ],
         "xaxis": "x",
         "y": [
          709,
          623,
          372,
          260,
          198,
          128,
          73,
          66,
          43,
          34,
          23,
          22,
          13,
          13,
          6
         ],
         "yaxis": "y"
        },
        {
         "line": {
          "color": "#FFA15A"
         },
         "mode": "lines+markers",
         "name": "Science",
         "type": "scatter",
         "x": [
          1,
          2,
          3,
          4,
          5,
          6,
          7,
          8,
          9,
          10,
          11,
          12,
          13,
          14,
          15
         ],
         "xaxis": "x",
         "y": [
          6683,
          1463,
          1404,
          1104,
          775,
          505,
          403,
          256,
          217,
          132,
          127,
          98,
          78,
          70,
          55
         ],
         "yaxis": "y"
        },
        {
         "line": {
          "color": "#19D3F3"
         },
         "mode": "lines+markers",
         "name": "<",
         "type": "scatter",
         "x": [
          2,
          3,
          4,
          5,
          6,
          7,
          8,
          9,
          10,
          11,
          12,
          13,
          14,
          15
         ],
         "xaxis": "x",
         "y": [
          612,
          1298,
          1385,
          1085,
          982,
          685,
          577,
          398,
          347,
          259,
          214,
          169,
          140,
          103
         ],
         "yaxis": "y"
        },
        {
         "line": {
          "color": "#636EFA"
         },
         "mode": "lines+markers",
         "name": "Art",
         "showlegend": false,
         "type": "scatter",
         "x": [
          1,
          2,
          3,
          4,
          5,
          6,
          7,
          8,
          9,
          10,
          11,
          12,
          13,
          14,
          15
         ],
         "xaxis": "x2",
         "y": [
          0.8092579104960751,
          0.6844703770197487,
          0.679427235534775,
          0.8574053281616821,
          0.8875309180852612,
          1.0945064197011154,
          0.9991184249191889,
          0.7581803671189146,
          0.6458557588805167,
          0.9406657018813315,
          0.730593607305936,
          1.0676156583629894,
          1.906158357771261,
          0.9074410163339384,
          1.1389521640091116
         ],
         "yaxis": "y2"
        },
        {
         "line": {
          "color": "#EF553B"
         },
         "mode": "lines+markers",
         "name": "Business Studies",
         "showlegend": false,
         "type": "scatter",
         "x": [
          1,
          2,
          3,
          4,
          5,
          6,
          7,
          8,
          9,
          10,
          11,
          12,
          13,
          14,
          15
         ],
         "xaxis": "x2",
         "y": [
          1.4728493971028567,
          1.4699281867145422,
          1.8191116306253652,
          1.7556394814739207,
          2.0951549541684855,
          2.0627236371290256,
          1.9100793417572732,
          2.314445331205108,
          2.1528525296017222,
          1.808972503617945,
          1.82648401826484,
          2.135231316725979,
          1.1730205278592376,
          2.1778584392014517,
          1.366742596810934
         ],
         "yaxis": "y2"
        },
        {
         "line": {
          "color": "#00CC96"
         },
         "mode": "lines+markers",
         "name": "Citizenship",
         "showlegend": false,
         "type": "scatter",
         "x": [
          1,
          2,
          3,
          4,
          5,
          6,
          7,
          8,
          9,
          10,
          11,
          12,
          13,
          14,
          15
         ],
         "xaxis": "x2",
         "y": [
          3.8075584688840336,
          6.126570915619389,
          7.977790765634133,
          7.124629988772073,
          6.838352975411029,
          6.461797516312355,
          6.905671466353218,
          7.382282521947327,
          6.027987082884822,
          8.683068017366136,
          6.027397260273973,
          6.761565836298933,
          9.3841642228739,
          6.533575317604355,
          6.83371298405467
         ],
         "yaxis": "y2"
        },
        {
         "line": {
          "color": "#AB63FA"
         },
         "mode": "lines+markers",
         "name": "Countries",
         "showlegend": false,
         "type": "scatter",
         "x": [
          1,
          2,
          3,
          4,
          5,
          6,
          7,
          8,
          9,
          10,
          11,
          12,
          13,
          14,
          15
         ],
         "xaxis": "x2",
         "y": [
          5.458444606296027,
          27.16000897666068,
          16.52542372881356,
          16.42339491681127,
          12.134439109559144,
          11.534413807619448,
          11.196003526300323,
          10.05586592178771,
          9.364908503767493,
          7.380607814761215,
          9.223744292237443,
          8.778173190984578,
          7.184750733137831,
          9.98185117967332,
          8.200455580865604
         ],
         "yaxis": "y2"
        },
        {
         "line": {
          "color": "#FFA15A"
         },
         "mode": "lines+markers",
         "name": "Design and Technology",
         "showlegend": false,
         "type": "scatter",
         "x": [
          1,
          2,
          3,
          4,
          5,
          6,
          7,
          8,
          9,
          10,
          11,
          12,
          13,
          14,
          15
         ],
         "xaxis": "x2",
         "y": [
          7.922634943756575,
          2.171229802513465,
          2.3232028053769724,
          2.919260998264775,
          3.331878364615161,
          3.2624710587244787,
          3.5263003232441963,
          3.5913806863527533,
          3.552206673842842,
          3.3285094066570187,
          3.1963470319634704,
          3.6773428232502967,
          3.519061583577713,
          2.540834845735027,
          3.416856492027335
         ],
         "yaxis": "y2"
        },
        {
         "line": {
          "color": "#19D3F3"
         },
         "mode": "lines+markers",
         "name": "Everyday life",
         "showlegend": false,
         "type": "scatter",
         "x": [
          1,
          2,
          3,
          4,
          5,
          6,
          7,
          8,
          9,
          10,
          11,
          12,
          13,
          14,
          15
         ],
         "xaxis": "x2",
         "y": [
          9.91340940357692,
          5.48137342908438,
          8.109292811221508,
          6.501990405226089,
          8.598865124399826,
          8.124605346242896,
          7.9635615633264765,
          8.379888268156424,
          8.719052744886975,
          8.827785817655572,
          9.954337899543379,
          8.659549228944247,
          9.3841642228739,
          8.711433756805807,
          11.161731207289293
         ],
         "yaxis": "y2"
        },
        {
         "line": {
          "color": "#FF6692"
         },
         "mode": "lines+markers",
         "name": "Geography",
         "showlegend": false,
         "type": "scatter",
         "x": [
          1,
          2,
          3,
          4,
          5,
          6,
          7,
          8,
          9,
          10,
          11,
          12,
          13,
          14,
          15
         ],
         "xaxis": "x2",
         "y": [
          12.915756251517358,
          18.951974865350092,
          18.651373465809467,
          15.882412983566399,
          15.160774043358069,
          13.34455904020206,
          13.60564208051719,
          11.69193934557063,
          13.132400430570506,
          12.228654124457309,
          11.963470319634704,
          12.336892052194544,
          11.58357771260997,
          11.070780399274046,
          11.161731207289293
         ],
         "yaxis": "y2"
        },
        {
         "line": {
          "color": "#B6E880"
         },
         "mode": "lines+markers",
         "name": "History",
         "showlegend": false,
         "type": "scatter",
         "x": [
          1,
          2,
          3,
          4,
          5,
          6,
          7,
          8,
          9,
          10,
          11,
          12,
          13,
          14,
          15
         ],
         "xaxis": "x2",
         "y": [
          7.263089746702274,
          9.268402154398563,
          9.577732320280537,
          7.726855159742778,
          7.915029826858723,
          7.3247737318459265,
          7.081986482515427,
          6.943335993615324,
          7.104413347685684,
          6.295224312590449,
          5.570776255707763,
          4.98220640569395,
          6.598240469208211,
          5.626134301270418,
          6.150341685649203
         ],
         "yaxis": "y2"
        },
        {
         "line": {
          "color": "#FF97FF"
         },
         "mode": "lines+markers",
         "name": "IT",
         "showlegend": false,
         "type": "scatter",
         "x": [
          1,
          2,
          3,
          4,
          5,
          6,
          7,
          8,
          9,
          10,
          11,
          12,
          13,
          14,
          15
         ],
         "xaxis": "x2",
         "y": [
          2.294246176256373,
          1.9187612208258529,
          1.3223261250730567,
          1.694396243748086,
          1.9933071438964063,
          1.9153862344769523,
          1.9100793417572732,
          1.9154030327214684,
          1.6146393972012916,
          1.6642547033285093,
          1.9178082191780823,
          1.6607354685646498,
          1.3196480938416422,
          1.4519056261343013,
          2.5056947608200453
         ],
         "yaxis": "y2"
        },
        {
         "line": {
          "color": "#FECB52"
         },
         "mode": "lines+markers",
         "name": "Language and literature",
         "showlegend": false,
         "type": "scatter",
         "x": [
          1,
          2,
          3,
          4,
          5,
          6,
          7,
          8,
          9,
          10,
          11,
          12,
          13,
          14,
          15
         ],
         "xaxis": "x2",
         "y": [
          6.623775997410375,
          5.105475763016158,
          4.171537112799532,
          4.1543329590691025,
          3.9720646006110867,
          4.230688276152389,
          3.702615339406406,
          3.9904229848363926,
          3.982777179763186,
          4.630969609261939,
          3.9269406392694064,
          2.965599051008304,
          3.0791788856304985,
          3.6297640653357535,
          2.733485193621868
         ],
         "yaxis": "y2"
        },
        {
         "line": {
          "color": "#636EFA"
         },
         "mode": "lines+markers",
         "name": "Mathematics",
         "showlegend": false,
         "type": "scatter",
         "x": [
          1,
          2,
          3,
          4,
          5,
          6,
          7,
          8,
          9,
          10,
          11,
          12,
          13,
          14,
          15
         ],
         "xaxis": "x2",
         "y": [
          1.1936554179817107,
          0.6115350089766607,
          0.7670952659263588,
          0.6328467898336225,
          0.6401862359959261,
          0.7156388128814986,
          0.940346752865119,
          0.5985634477254589,
          0.9687836383207751,
          0.9406657018813315,
          1.004566210045662,
          0.9489916963226572,
          1.0263929618768328,
          0.7259528130671506,
          1.366742596810934
         ],
         "yaxis": "y2"
        },
        {
         "line": {
          "color": "#EF553B"
         },
         "mode": "lines+markers",
         "name": "Music",
         "showlegend": false,
         "type": "scatter",
         "x": [
          1,
          2,
          3,
          4,
          5,
          6,
          7,
          8,
          9,
          10,
          11,
          12,
          13,
          14,
          15
         ],
         "xaxis": "x2",
         "y": [
          1.6549324269644734,
          0.8303411131059245,
          1.4684395090590299,
          1.2044503419414105,
          1.2221737232649499,
          1.1155546200799833,
          1.2635909491625037,
          1.077414205905826,
          1.2378902045209903,
          0.8683068017366137,
          1.187214611872146,
          1.1862396204033214,
          0.8797653958944283,
          1.0889292196007259,
          0.683371298405467
         ],
         "yaxis": "y2"
        },
        {
         "line": {
          "color": "#00CC96"
         },
         "mode": "lines+markers",
         "name": "People",
         "showlegend": false,
         "type": "scatter",
         "x": [
          1,
          2,
          3,
          4,
          5,
          6,
          7,
          8,
          9,
          10,
          11,
          12,
          13,
          14,
          15
         ],
         "xaxis": "x2",
         "y": [
          8.760216881120012,
          5.083034111310592,
          4.149620105201636,
          5.06277431866898,
          5.266986759784665,
          4.820037886760682,
          4.878048780487805,
          5.426975259377494,
          6.081808396124865,
          5.2821997105644,
          6.1187214611872145,
          5.2194543297746145,
          4.838709677419355,
          5.081669691470054,
          5.922551252847381
         ],
         "yaxis": "y2"
        },
        {
         "line": {
          "color": "#AB63FA"
         },
         "mode": "lines+markers",
         "name": "Religion",
         "showlegend": false,
         "type": "scatter",
         "x": [
          1,
          2,
          3,
          4,
          5,
          6,
          7,
          8,
          9,
          10,
          11,
          12,
          13,
          14,
          15
         ],
         "xaxis": "x2",
         "y": [
          2.868819292708586,
          3.4952872531418313,
          2.7177089421391,
          2.653873634786159,
          2.8808380619816676,
          2.6941696484950537,
          2.145166029973553,
          2.6336791699920195,
          2.3143164693218514,
          2.460202604920405,
          2.1004566210045663,
          2.6097271648873073,
          1.906158357771261,
          2.35934664246824,
          1.366742596810934
         ],
         "yaxis": "y2"
        },
        {
         "line": {
          "color": "#FFA15A"
         },
         "mode": "lines+markers",
         "name": "Science",
         "showlegend": false,
         "type": "scatter",
         "x": [
          1,
          2,
          3,
          4,
          5,
          6,
          7,
          8,
          9,
          10,
          11,
          12,
          13,
          14,
          15
         ],
         "xaxis": "x2",
         "y": [
          27.041353079226347,
          8.208034111310592,
          10.257159555815312,
          11.268755741553536,
          11.276007565837334,
          10.629341191328141,
          11.842491918895092,
          10.215482841181165,
          11.679224973089344,
          9.55137481910275,
          11.598173515981735,
          11.625148279952551,
          11.436950146627565,
          12.704174228675136,
          12.52847380410023
         ],
         "yaxis": "y2"
        },
        {
         "line": {
          "color": "#19D3F3"
         },
         "mode": "lines+markers",
         "name": "<",
         "showlegend": false,
         "type": "scatter",
         "x": [
          2,
          3,
          4,
          5,
          6,
          7,
          8,
          9,
          10,
          11,
          12,
          13,
          14,
          15
         ],
         "xaxis": "x2",
         "y": [
          3.433572710951526,
          9.482758620689655,
          14.136980708380117,
          15.786410592172267,
          20.66933277204799,
          20.129297678518952,
          23.024740622505984,
          21.420882669537136,
          25.108538350217074,
          23.652968036529682,
          25.38552787663108,
          24.780058651026394,
          25.40834845735027,
          23.462414578587698
         ],
         "yaxis": "y2"
        }
       ],
       "layout": {
        "annotations": [
         {
          "font": {
           "size": 16
          },
          "showarrow": false,
          "text": "Non-Normalized Frequencies",
          "x": 0.2375,
          "xanchor": "center",
          "xref": "paper",
          "y": 1,
          "yanchor": "bottom",
          "yref": "paper"
         },
         {
          "font": {
           "size": 16
          },
          "showarrow": false,
          "text": "Normalized Frequencies",
          "x": 0.7625,
          "xanchor": "center",
          "xref": "paper",
          "y": 1,
          "yanchor": "bottom",
          "yref": "paper"
         }
        ],
        "height": 600,
        "legend": {
         "title": {
          "text": "Category"
         }
        },
        "template": {
         "data": {
          "bar": [
           {
            "error_x": {
             "color": "#2a3f5f"
            },
            "error_y": {
             "color": "#2a3f5f"
            },
            "marker": {
             "line": {
              "color": "white",
              "width": 0.5
             },
             "pattern": {
              "fillmode": "overlay",
              "size": 10,
              "solidity": 0.2
             }
            },
            "type": "bar"
           }
          ],
          "barpolar": [
           {
            "marker": {
             "line": {
              "color": "white",
              "width": 0.5
             },
             "pattern": {
              "fillmode": "overlay",
              "size": 10,
              "solidity": 0.2
             }
            },
            "type": "barpolar"
           }
          ],
          "carpet": [
           {
            "aaxis": {
             "endlinecolor": "#2a3f5f",
             "gridcolor": "#C8D4E3",
             "linecolor": "#C8D4E3",
             "minorgridcolor": "#C8D4E3",
             "startlinecolor": "#2a3f5f"
            },
            "baxis": {
             "endlinecolor": "#2a3f5f",
             "gridcolor": "#C8D4E3",
             "linecolor": "#C8D4E3",
             "minorgridcolor": "#C8D4E3",
             "startlinecolor": "#2a3f5f"
            },
            "type": "carpet"
           }
          ],
          "choropleth": [
           {
            "colorbar": {
             "outlinewidth": 0,
             "ticks": ""
            },
            "type": "choropleth"
           }
          ],
          "contour": [
           {
            "colorbar": {
             "outlinewidth": 0,
             "ticks": ""
            },
            "colorscale": [
             [
              0,
              "#0d0887"
             ],
             [
              0.1111111111111111,
              "#46039f"
             ],
             [
              0.2222222222222222,
              "#7201a8"
             ],
             [
              0.3333333333333333,
              "#9c179e"
             ],
             [
              0.4444444444444444,
              "#bd3786"
             ],
             [
              0.5555555555555556,
              "#d8576b"
             ],
             [
              0.6666666666666666,
              "#ed7953"
             ],
             [
              0.7777777777777778,
              "#fb9f3a"
             ],
             [
              0.8888888888888888,
              "#fdca26"
             ],
             [
              1,
              "#f0f921"
             ]
            ],
            "type": "contour"
           }
          ],
          "contourcarpet": [
           {
            "colorbar": {
             "outlinewidth": 0,
             "ticks": ""
            },
            "type": "contourcarpet"
           }
          ],
          "heatmap": [
           {
            "colorbar": {
             "outlinewidth": 0,
             "ticks": ""
            },
            "colorscale": [
             [
              0,
              "#0d0887"
             ],
             [
              0.1111111111111111,
              "#46039f"
             ],
             [
              0.2222222222222222,
              "#7201a8"
             ],
             [
              0.3333333333333333,
              "#9c179e"
             ],
             [
              0.4444444444444444,
              "#bd3786"
             ],
             [
              0.5555555555555556,
              "#d8576b"
             ],
             [
              0.6666666666666666,
              "#ed7953"
             ],
             [
              0.7777777777777778,
              "#fb9f3a"
             ],
             [
              0.8888888888888888,
              "#fdca26"
             ],
             [
              1,
              "#f0f921"
             ]
            ],
            "type": "heatmap"
           }
          ],
          "heatmapgl": [
           {
            "colorbar": {
             "outlinewidth": 0,
             "ticks": ""
            },
            "colorscale": [
             [
              0,
              "#0d0887"
             ],
             [
              0.1111111111111111,
              "#46039f"
             ],
             [
              0.2222222222222222,
              "#7201a8"
             ],
             [
              0.3333333333333333,
              "#9c179e"
             ],
             [
              0.4444444444444444,
              "#bd3786"
             ],
             [
              0.5555555555555556,
              "#d8576b"
             ],
             [
              0.6666666666666666,
              "#ed7953"
             ],
             [
              0.7777777777777778,
              "#fb9f3a"
             ],
             [
              0.8888888888888888,
              "#fdca26"
             ],
             [
              1,
              "#f0f921"
             ]
            ],
            "type": "heatmapgl"
           }
          ],
          "histogram": [
           {
            "marker": {
             "pattern": {
              "fillmode": "overlay",
              "size": 10,
              "solidity": 0.2
             }
            },
            "type": "histogram"
           }
          ],
          "histogram2d": [
           {
            "colorbar": {
             "outlinewidth": 0,
             "ticks": ""
            },
            "colorscale": [
             [
              0,
              "#0d0887"
             ],
             [
              0.1111111111111111,
              "#46039f"
             ],
             [
              0.2222222222222222,
              "#7201a8"
             ],
             [
              0.3333333333333333,
              "#9c179e"
             ],
             [
              0.4444444444444444,
              "#bd3786"
             ],
             [
              0.5555555555555556,
              "#d8576b"
             ],
             [
              0.6666666666666666,
              "#ed7953"
             ],
             [
              0.7777777777777778,
              "#fb9f3a"
             ],
             [
              0.8888888888888888,
              "#fdca26"
             ],
             [
              1,
              "#f0f921"
             ]
            ],
            "type": "histogram2d"
           }
          ],
          "histogram2dcontour": [
           {
            "colorbar": {
             "outlinewidth": 0,
             "ticks": ""
            },
            "colorscale": [
             [
              0,
              "#0d0887"
             ],
             [
              0.1111111111111111,
              "#46039f"
             ],
             [
              0.2222222222222222,
              "#7201a8"
             ],
             [
              0.3333333333333333,
              "#9c179e"
             ],
             [
              0.4444444444444444,
              "#bd3786"
             ],
             [
              0.5555555555555556,
              "#d8576b"
             ],
             [
              0.6666666666666666,
              "#ed7953"
             ],
             [
              0.7777777777777778,
              "#fb9f3a"
             ],
             [
              0.8888888888888888,
              "#fdca26"
             ],
             [
              1,
              "#f0f921"
             ]
            ],
            "type": "histogram2dcontour"
           }
          ],
          "mesh3d": [
           {
            "colorbar": {
             "outlinewidth": 0,
             "ticks": ""
            },
            "type": "mesh3d"
           }
          ],
          "parcoords": [
           {
            "line": {
             "colorbar": {
              "outlinewidth": 0,
              "ticks": ""
             }
            },
            "type": "parcoords"
           }
          ],
          "pie": [
           {
            "automargin": true,
            "type": "pie"
           }
          ],
          "scatter": [
           {
            "fillpattern": {
             "fillmode": "overlay",
             "size": 10,
             "solidity": 0.2
            },
            "type": "scatter"
           }
          ],
          "scatter3d": [
           {
            "line": {
             "colorbar": {
              "outlinewidth": 0,
              "ticks": ""
             }
            },
            "marker": {
             "colorbar": {
              "outlinewidth": 0,
              "ticks": ""
             }
            },
            "type": "scatter3d"
           }
          ],
          "scattercarpet": [
           {
            "marker": {
             "colorbar": {
              "outlinewidth": 0,
              "ticks": ""
             }
            },
            "type": "scattercarpet"
           }
          ],
          "scattergeo": [
           {
            "marker": {
             "colorbar": {
              "outlinewidth": 0,
              "ticks": ""
             }
            },
            "type": "scattergeo"
           }
          ],
          "scattergl": [
           {
            "marker": {
             "colorbar": {
              "outlinewidth": 0,
              "ticks": ""
             }
            },
            "type": "scattergl"
           }
          ],
          "scattermapbox": [
           {
            "marker": {
             "colorbar": {
              "outlinewidth": 0,
              "ticks": ""
             }
            },
            "type": "scattermapbox"
           }
          ],
          "scatterpolar": [
           {
            "marker": {
             "colorbar": {
              "outlinewidth": 0,
              "ticks": ""
             }
            },
            "type": "scatterpolar"
           }
          ],
          "scatterpolargl": [
           {
            "marker": {
             "colorbar": {
              "outlinewidth": 0,
              "ticks": ""
             }
            },
            "type": "scatterpolargl"
           }
          ],
          "scatterternary": [
           {
            "marker": {
             "colorbar": {
              "outlinewidth": 0,
              "ticks": ""
             }
            },
            "type": "scatterternary"
           }
          ],
          "surface": [
           {
            "colorbar": {
             "outlinewidth": 0,
             "ticks": ""
            },
            "colorscale": [
             [
              0,
              "#0d0887"
             ],
             [
              0.1111111111111111,
              "#46039f"
             ],
             [
              0.2222222222222222,
              "#7201a8"
             ],
             [
              0.3333333333333333,
              "#9c179e"
             ],
             [
              0.4444444444444444,
              "#bd3786"
             ],
             [
              0.5555555555555556,
              "#d8576b"
             ],
             [
              0.6666666666666666,
              "#ed7953"
             ],
             [
              0.7777777777777778,
              "#fb9f3a"
             ],
             [
              0.8888888888888888,
              "#fdca26"
             ],
             [
              1,
              "#f0f921"
             ]
            ],
            "type": "surface"
           }
          ],
          "table": [
           {
            "cells": {
             "fill": {
              "color": "#EBF0F8"
             },
             "line": {
              "color": "white"
             }
            },
            "header": {
             "fill": {
              "color": "#C8D4E3"
             },
             "line": {
              "color": "white"
             }
            },
            "type": "table"
           }
          ]
         },
         "layout": {
          "annotationdefaults": {
           "arrowcolor": "#2a3f5f",
           "arrowhead": 0,
           "arrowwidth": 1
          },
          "autotypenumbers": "strict",
          "coloraxis": {
           "colorbar": {
            "outlinewidth": 0,
            "ticks": ""
           }
          },
          "colorscale": {
           "diverging": [
            [
             0,
             "#8e0152"
            ],
            [
             0.1,
             "#c51b7d"
            ],
            [
             0.2,
             "#de77ae"
            ],
            [
             0.3,
             "#f1b6da"
            ],
            [
             0.4,
             "#fde0ef"
            ],
            [
             0.5,
             "#f7f7f7"
            ],
            [
             0.6,
             "#e6f5d0"
            ],
            [
             0.7,
             "#b8e186"
            ],
            [
             0.8,
             "#7fbc41"
            ],
            [
             0.9,
             "#4d9221"
            ],
            [
             1,
             "#276419"
            ]
           ],
           "sequential": [
            [
             0,
             "#0d0887"
            ],
            [
             0.1111111111111111,
             "#46039f"
            ],
            [
             0.2222222222222222,
             "#7201a8"
            ],
            [
             0.3333333333333333,
             "#9c179e"
            ],
            [
             0.4444444444444444,
             "#bd3786"
            ],
            [
             0.5555555555555556,
             "#d8576b"
            ],
            [
             0.6666666666666666,
             "#ed7953"
            ],
            [
             0.7777777777777778,
             "#fb9f3a"
            ],
            [
             0.8888888888888888,
             "#fdca26"
            ],
            [
             1,
             "#f0f921"
            ]
           ],
           "sequentialminus": [
            [
             0,
             "#0d0887"
            ],
            [
             0.1111111111111111,
             "#46039f"
            ],
            [
             0.2222222222222222,
             "#7201a8"
            ],
            [
             0.3333333333333333,
             "#9c179e"
            ],
            [
             0.4444444444444444,
             "#bd3786"
            ],
            [
             0.5555555555555556,
             "#d8576b"
            ],
            [
             0.6666666666666666,
             "#ed7953"
            ],
            [
             0.7777777777777778,
             "#fb9f3a"
            ],
            [
             0.8888888888888888,
             "#fdca26"
            ],
            [
             1,
             "#f0f921"
            ]
           ]
          },
          "colorway": [
           "#636efa",
           "#EF553B",
           "#00cc96",
           "#ab63fa",
           "#FFA15A",
           "#19d3f3",
           "#FF6692",
           "#B6E880",
           "#FF97FF",
           "#FECB52"
          ],
          "font": {
           "color": "#2a3f5f"
          },
          "geo": {
           "bgcolor": "white",
           "lakecolor": "white",
           "landcolor": "white",
           "showlakes": true,
           "showland": true,
           "subunitcolor": "#C8D4E3"
          },
          "hoverlabel": {
           "align": "left"
          },
          "hovermode": "closest",
          "mapbox": {
           "style": "light"
          },
          "paper_bgcolor": "white",
          "plot_bgcolor": "white",
          "polar": {
           "angularaxis": {
            "gridcolor": "#EBF0F8",
            "linecolor": "#EBF0F8",
            "ticks": ""
           },
           "bgcolor": "white",
           "radialaxis": {
            "gridcolor": "#EBF0F8",
            "linecolor": "#EBF0F8",
            "ticks": ""
           }
          },
          "scene": {
           "xaxis": {
            "backgroundcolor": "white",
            "gridcolor": "#DFE8F3",
            "gridwidth": 2,
            "linecolor": "#EBF0F8",
            "showbackground": true,
            "ticks": "",
            "zerolinecolor": "#EBF0F8"
           },
           "yaxis": {
            "backgroundcolor": "white",
            "gridcolor": "#DFE8F3",
            "gridwidth": 2,
            "linecolor": "#EBF0F8",
            "showbackground": true,
            "ticks": "",
            "zerolinecolor": "#EBF0F8"
           },
           "zaxis": {
            "backgroundcolor": "white",
            "gridcolor": "#DFE8F3",
            "gridwidth": 2,
            "linecolor": "#EBF0F8",
            "showbackground": true,
            "ticks": "",
            "zerolinecolor": "#EBF0F8"
           }
          },
          "shapedefaults": {
           "line": {
            "color": "#2a3f5f"
           }
          },
          "ternary": {
           "aaxis": {
            "gridcolor": "#DFE8F3",
            "linecolor": "#A2B1C6",
            "ticks": ""
           },
           "baxis": {
            "gridcolor": "#DFE8F3",
            "linecolor": "#A2B1C6",
            "ticks": ""
           },
           "bgcolor": "white",
           "caxis": {
            "gridcolor": "#DFE8F3",
            "linecolor": "#A2B1C6",
            "ticks": ""
           }
          },
          "title": {
           "x": 0.05
          },
          "xaxis": {
           "automargin": true,
           "gridcolor": "#EBF0F8",
           "linecolor": "#EBF0F8",
           "ticks": "",
           "title": {
            "standoff": 15
           },
           "zerolinecolor": "#EBF0F8",
           "zerolinewidth": 2
          },
          "yaxis": {
           "automargin": true,
           "gridcolor": "#EBF0F8",
           "linecolor": "#EBF0F8",
           "ticks": "",
           "title": {
            "standoff": 15
           },
           "zerolinecolor": "#EBF0F8",
           "zerolinewidth": 2
          }
         }
        },
        "title": {
         "text": "Position Frequencies for Unfinished Paths"
        },
        "width": 1200,
        "xaxis": {
         "anchor": "y",
         "domain": [
          0,
          0.475
         ],
         "title": {
          "text": "Position in Path"
         }
        },
        "xaxis2": {
         "anchor": "y2",
         "domain": [
          0.525,
          1
         ],
         "title": {
          "text": "Position in Path"
         }
        },
        "yaxis": {
         "anchor": "x",
         "domain": [
          0,
          1
         ],
         "title": {
          "text": "Frequency"
         }
        },
        "yaxis2": {
         "anchor": "x2",
         "domain": [
          0,
          1
         ],
         "title": {
          "text": "Percentage (%)"
         }
        }
       }
      }
     },
     "metadata": {},
     "output_type": "display_data"
    }
   ],
   "source": [
    "df_position_data = get_position_frequencies(common_paths_u_nl, max_position=15)\n",
    "plot_position_line(df_position_data, title=\"Position Frequencies for Unfinished Paths\")"
   ]
  },
  {
   "cell_type": "code",
   "execution_count": null,
   "metadata": {},
   "outputs": [],
   "source": []
  }
 ],
 "metadata": {
  "kernelspec": {
   "display_name": "ada",
   "language": "python",
   "name": "python3"
  },
  "language_info": {
   "codemirror_mode": {
    "name": "ipython",
    "version": 3
   },
   "file_extension": ".py",
   "mimetype": "text/x-python",
   "name": "python",
   "nbconvert_exporter": "python",
   "pygments_lexer": "ipython3",
   "version": "3.11.10"
  }
 },
 "nbformat": 4,
 "nbformat_minor": 2
}
