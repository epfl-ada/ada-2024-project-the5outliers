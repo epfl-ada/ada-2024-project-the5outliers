{
 "cells": [
  {
   "cell_type": "markdown",
   "metadata": {},
   "source": [
    "<h1>The5Outliers - <span style=\"background: linear-gradient(to right, #3458d6, #34d634); -webkit-background-clip: text; color: transparent;\">Wikispeedia Voyages</span>: why so many players pass through World regions to reach their target</h1>"
   ]
  },
  {
   "cell_type": "code",
   "execution_count": 2,
   "metadata": {},
   "outputs": [],
   "source": [
    "%load_ext autoreload\n",
    "%autoreload 2"
   ]
  },
  {
   "cell_type": "code",
   "execution_count": 3,
   "metadata": {},
   "outputs": [],
   "source": [
    "import seaborn as sn\n",
    "import matplotlib.pyplot as plt\n",
    "from scipy.stats import kurtosis\n",
    "import plotly.graph_objects as go\n",
    "\n",
    "import config\n",
    "from src.utils.HTMLParser import HTMLParser\n",
    "from src.data.data_loader import *\n",
    "from src.utils.helpers import *\n",
    "from src.models.networks import *\n",
    "from src.models.similarity_matrices import *\n",
    "\n",
    "parser = HTMLParser()\n",
    "parser.load_pickle()"
   ]
  },
  {
   "cell_type": "code",
   "execution_count": 4,
   "metadata": {},
   "outputs": [],
   "source": [
    "# Delete for final version?\n",
    "# Compute and save all embending, similarity matrices and parsed articles\n",
    "#compute_save_all()"
   ]
  },
  {
   "cell_type": "markdown",
   "metadata": {},
   "source": [
    "# 0. Data preprocessing and loading"
   ]
  },
  {
   "cell_type": "markdown",
   "metadata": {},
   "source": [
    "We use the `read_all()` function to load, clean, and enhance the data with useful features for analysis. It combines multiple data sources, performs preprocessing, and computes additional features for articles and user paths.\n",
    "\n",
    "## Preprocessed Dataframes:\n",
    "\n",
    "- `df_article_names`: Valid article names, that is without special characters and discardig any invalid articles (e.g. non-Wikispeedia articles or with missing categories).\n",
    "- `df_html_stats`: Gathers wikispedia page statistics like number of links, link density, and structural information from the HTML version of each article.\n",
    "- `df_categories`: Article categories and sub categories.\n",
    "- `df_links`: Links inward and outward between articles.\n",
    "- `df_shortest_path_length`: Matrix of shortest paths lengths possible between two articles.\n",
    "- `df_unfinished` and `df_finished`: Cleaned paths with computed features.\n",
    "- `df_sm` and `df_scat`: Matrices for semantic and category similarity.\n",
    "- `df_article`: Dataframe with article-level features."
   ]
  },
  {
   "cell_type": "code",
   "execution_count": null,
   "metadata": {},
   "outputs": [],
   "source": [
    "# Load and preprocess the data\n",
    "df_article_names, df_html_stats, df_categories, df_links, df_shortest_path, df_unfinished, df_finished, df_sm, df_scat, df_article = read_all()"
   ]
  },
  {
   "cell_type": "markdown",
   "metadata": {},
   "source": [
    "## Key Modifications\n",
    "\n",
    "### 1. Categories:\n",
    "Some articles belong to multiple categories. For our analysis we need to have only one category corresponding to each article, thus we choose to keep the most specific one. We will explain later (3.3) what filtering the most specific category really means.\n",
    "\n",
    "### 2. Article Features:\n",
    "- **In-Degree**: of an article corresponds to the number of links on other pages targetting an article \n",
    "    - Some articles have no articles leading to it.\n",
    "- **Out-Degree**: of an article corresponds to the number of links towards other pages on this article\n",
    "    - Some articles lead to no other articles.\n",
    "- **HTML Stats**: Structural details like the number of links per article.\n",
    "    - Links do not consider duplicates inside the page (each link is considered to appear once) but this is relaxed with the HTML parsing.\n",
    "- **Categories**: Assigns the most specific category to each article.\n",
    "\n",
    "### 3. Path Features:\n",
    "Metrics computed for user navigation paths:\n",
    "\n",
    "- **Path Length**: Number of articles in a user's path.\n",
    "- **Back-Clicks**: How many times users revisit previous articles.\n",
    "- **Cosine Similarity**: Semantic similarity between source and target articles.\n",
    "- **Shortest Path**: Length of the shortest path possible between the source and target articles.\n",
    "- **Category Similarity**: Category similarity between the categories of the source and target articles."
   ]
  },
  {
   "cell_type": "markdown",
   "metadata": {},
   "source": [
    "## 1.1 Find Voyages\n",
    "\n",
    "The goal of our research is to explore the role and significance of world regions in user behavior while playing Wikispeedia. To achieve this, we first extract articles corresponding to *World Regions*.  \n",
    "Fortunately, articles are categorized, so we gather those under *'Countries'* and relevant subcategories of *'Geography'* such as *'Geography of Asia'*. These articles are grouped into a new category called *'Voyages'*, while remaining *'Geography'* articles are keeping the same category.\n",
    "\n",
    "A <span style=\"background: linear-gradient(to right, #3458d6, #34d634); -webkit-background-clip: text; color: transparent;\">Wikispeedia Voyage</span> is defined as a path game where neither the source nor the target is in **World Region**, but the path includes at least one article from this category."
   ]
  },
  {
   "cell_type": "code",
   "execution_count": 6,
   "metadata": {},
   "outputs": [],
   "source": [
    "world_regions_categories = ['Geography of Great Britain', 'Geography of Asia', 'Geography of Oceania Australasia', 'North American Geography', 'European Geography', 'African Geography', 'Central and South American Geography', 'Antarctica', 'Geography of the Middle East', 'African Countries', 'Countries']\n",
    "df_categories = assign_world_region_categories(df_categories, world_regions_categories)"
   ]
  },
  {
   "cell_type": "markdown",
   "metadata": {},
   "source": [
    "### Sort games into voyage or not-voyage & assign the new category *'World Regions'*"
   ]
  },
  {
   "cell_type": "code",
   "execution_count": 7,
   "metadata": {},
   "outputs": [],
   "source": [
    "# Sort paths into voyage and non-voyage\n",
    "df_finished = game_voyage_sorting(df_finished, df_categories)\n",
    "df_unfinished = game_voyage_sorting(df_unfinished, df_categories)\n",
    "\n",
    "# Assign the categories \"World Regions\" to the concerned articles\n",
    "category_map = dict(zip(df_categories[\"article\"], df_categories[\"level_1\"]))\n",
    "df_article[\"category\"] = df_article[\"article\"].map(category_map)"
   ]
  },
  {
   "cell_type": "code",
   "execution_count": null,
   "metadata": {},
   "outputs": [],
   "source": [
    "# Sort paths into voyage and non-voyage\n",
    "df_finished = game_voyage_sorting(df_finished, df_categories)\n",
    "df_unfinished = game_voyage_sorting(df_unfinished, df_categories)\n",
    "\n",
    "# Count the voyages \n",
    "voyage_count = (df_finished['Wikispeedia_Voyage'] == 1).sum() + (df_unfinished['Wikispeedia_Voyage'] == 1).sum()\n",
    "non_voyage_count = (df_finished['Wikispeedia_Voyage'] == 0).sum() + (df_unfinished['Wikispeedia_Voyage'] == 0).sum()\n",
    "\n",
    "print('Out of the ', len(df_finished)+len(df_unfinished), ' finished and unfinished games : ')\n",
    "print('  - ', voyage_count, ' are voyages')\n",
    "print('  - ', non_voyage_count, ' are not')"
   ]
  },
  {
   "cell_type": "markdown",
   "metadata": {},
   "source": [
    "We immediately see that <span style=\"background: linear-gradient(to right, #3458d6, #34d634); -webkit-background-clip: text; color: transparent;\">Wikispeedia Voyage</span> are very commun since they are approximately one third of the paths."
   ]
  },
  {
   "cell_type": "code",
   "execution_count": null,
   "metadata": {},
   "outputs": [],
   "source": [
    "#concatenate all games in a dataframe and plot the sankey diagram \n",
    "df_all_voyage = pd.concat([df_finished_voyage, df_unfinished_voyage], ignore_index=True, sort=False)\n",
    "sankey_fig = plot_sankey_voyage(df_all_voyage)"
   ]
  },
  {
   "cell_type": "code",
   "execution_count": null,
   "metadata": {},
   "outputs": [],
   "source": [
    "sankey_fig.write_html('figures/sankey.html',include_plotlyjs=False)"
   ]
  },
  {
   "cell_type": "code",
   "execution_count": null,
   "metadata": {},
   "outputs": [],
   "source": [
    "import plotly.io \n",
    "\n",
    "plotly.io.to_html(sankey_fig, include_plotlyjs=False)"
   ]
  },
  {
   "cell_type": "markdown",
   "metadata": {},
   "source": [
    "#### Define palettes and abreviations"
   ]
  },
  {
   "cell_type": "code",
   "execution_count": null,
   "metadata": {},
   "outputs": [],
   "source": [
    "category_abbreviations = {\n",
    "    'Art': 'Art',\n",
    "    'Mathematics': 'Math',\n",
    "    'IT': 'IT',\n",
    "    'Business Studies': 'BS',\n",
    "    'Music': 'Music',\n",
    "    'Religion': 'R',\n",
    "    'Language and literature': 'L&L',\n",
    "    'Citizenship': 'CIT',\n",
    "    'Voyages': 'Voy',\n",
    "    'Design and Technology': 'D&T',\n",
    "    'Everyday life': 'Life',\n",
    "    'History': 'Hist',\n",
    "    'People': 'P',\n",
    "    'Geography': 'Geo',\n",
    "    'Science': 'Sci'\n",
    "}\n",
    "\n",
    "#TODO: foutre dans une function - fichier config - david secretaire "
   ]
  },
  {
   "cell_type": "code",
   "execution_count": null,
   "metadata": {},
   "outputs": [],
   "source": [
    "#DEFINE A NEW COLOR PALETTE TO HIGHLIGHT COUNTRY AND CATEGORIES, and add a possible color 'Others'\n",
    "categories_others = ['Art',\n",
    " 'Business Studies',\n",
    " 'Citizenship',\n",
    " 'Voyages',\n",
    " 'Design and Technology',\n",
    " 'Everyday life',\n",
    " 'Geography',\n",
    " 'History',\n",
    " 'IT',\n",
    " 'Language and literature',\n",
    " 'Mathematics',\n",
    " 'Music',\n",
    " 'People',\n",
    " 'Religion',\n",
    " 'Science',\n",
    " 'Others',]\n",
    "\n",
    "# colors for country and geo \n",
    "highlight_colors = {'Voyages': '#2CB5AE'}\n",
    "\n",
    "#TODO: try to change palette colors\n",
    "\n",
    "# shades of grey for other categories\n",
    "num_greys = len(categories_others) - 1  # - country and geo \n",
    "grey_shades = [mcolors.to_hex((v, v, v)) for v in np.linspace(0.2, 0.4, num_greys)]\n",
    "non_custom_categories = [cat for cat in categories_others if cat not in highlight_colors]\n",
    "grey_palette = dict(zip(non_custom_categories, grey_shades)) ##here zip with a new \n",
    "\n",
    "# Combine custom colors and grey palette\n",
    "palette_category_dict = {**highlight_colors, **grey_palette}"
   ]
  },
  {
   "cell_type": "code",
   "execution_count": null,
   "metadata": {},
   "outputs": [],
   "source": [
    "palette_category_dict"
   ]
  },
  {
   "cell_type": "markdown",
   "metadata": {},
   "source": [
    "# 2. Add features to articles and paths"
   ]
  },
  {
   "cell_type": "markdown",
   "metadata": {},
   "source": [
    "## 2.1. Article features \n",
    "In and out degree of articles are added. \n",
    "- **In degree** of an article corresponds to the number of links on other pages targetting an article \n",
    "- **Out degree** of an article corresponds to the number of links towards other pages on this article\n",
    "\n",
    "Some notes:\n",
    "- Some articles have no articles leading to it \n",
    "- Some articles lead to no other articles\n",
    "- Links do not consider duplicates inside the page (each link is considered to appear once, but this will be relaxed with HTML parsing)"
   ]
  },
  {
   "cell_type": "code",
   "execution_count": null,
   "metadata": {},
   "outputs": [],
   "source": [
    "df_article = pd.DataFrame(df_article_names).copy()\n",
    "\n",
    "# Compute in-degree (number of times each article is a target link)\n",
    "in_degree = df_links.groupby('linkTarget').size().reset_index(name=\"in_degree\")\n",
    "# Compute out-degree (link density: number of times each article is a source link)\n",
    "out_degree = df_links.groupby('linkSource').size().reset_index(name=\"out_degree\")\n",
    "\n",
    "# Merge in-degree and out-degree with df_article_names\n",
    "df_article = df_article.merge(in_degree, left_on='article', right_on='linkTarget', how='left')\n",
    "df_article = df_article.merge(out_degree, left_on='article', right_on='linkSource', how='left')\n",
    "df_article = df_article.drop(columns=['linkTarget', 'linkSource'])\n",
    "\n",
    "# Fill NaN values with 0, assuming no links imply zero counts for those articles\n",
    "df_article = df_article.fillna(0).astype({'in_degree': 'int', 'out_degree': 'int'})\n",
    "\n",
    "# add the html stats to the articles\n",
    "df_html_stats = df_html_stats.rename(columns={'article_name': 'article'})\n",
    "df_article = pd.merge(df_article, df_html_stats, how='inner')\n",
    "\n",
    "# add the category (level_1) to each articles\n",
    "category_map = dict(zip(df_categories_filtered[\"article\"], df_categories_filtered[\"level_1\"]))\n",
    "df_article[\"category\"] = df_article[\"article\"].map(category_map)"
   ]
  },
  {
   "cell_type": "markdown",
   "metadata": {},
   "source": [
    "## 2.2. Path features \n",
    "New metrics are added to characterize the game paths. Specifically:\n",
    "\n",
    "- **Path Length** which accounts for the total number of articles in a path\n",
    "\n",
    "- **Back-Clicks** which indicates how many times the user revisited previous articles\n",
    "\n",
    "- **Cosine Similarity** which measures the semantic similarity between the source and target articles\n",
    "\n",
    "- **Shortest Path** which gives the length of the shortest path possible between the source and target articles\n",
    "\n",
    "- **Categories Similarity** which  measure the category similarity between the categories of the source and target articles"
   ]
  },
  {
   "cell_type": "code",
   "execution_count": null,
   "metadata": {},
   "outputs": [],
   "source": [
    "# let's add some useful metrics to each paths dataframe: shortest path, semantic similarity\n",
    "df_unfinished_voyage['cosine_similarity'] = df_unfinished_voyage.apply(lambda x: find_shortest_distance(x, df_sm), axis=1)\n",
    "df_unfinished_voyage['shortest_path'] = df_unfinished_voyage.apply(lambda x: find_shortest_distance(x, df_shortest_path), axis=1)\n",
    "df_unfinished_voyage['path_length'] = df_unfinished_voyage['path'].apply(lambda x: x.count(';') + 1)\n",
    "df_unfinished_voyage['back_clicks'] = df_unfinished_voyage['path'].apply(lambda x: x.count('<'))\n",
    "df_unfinished_voyage['categories_similarity'] = df_unfinished_voyage.apply(lambda x: find_shortest_distance(x, df_scat), axis=1)\n",
    "\n",
    "df_finished_voyage['cosine_similarity'] = df_finished_voyage.apply(lambda x: find_shortest_distance(x, df_sm), axis=1)\n",
    "df_finished_voyage['shortest_path'] = df_finished_voyage.apply(lambda x: find_shortest_distance(x, df_shortest_path), axis=1)\n",
    "df_finished_voyage['path_length'] = df_finished_voyage['path'].apply(lambda x: x.count(';') + 1)\n",
    "df_finished_voyage['back_clicks'] = df_finished_voyage['path'].apply(lambda x: x.count('<'))\n",
    "df_finished_voyage['categories_similarity'] = df_finished_voyage.apply(lambda x: find_shortest_distance(x, df_scat), axis=1)"
   ]
  },
  {
   "cell_type": "markdown",
   "metadata": {},
   "source": [
    "# 3. Core results"
   ]
  },
  {
   "cell_type": "markdown",
   "metadata": {},
   "source": [
    "## 3.1. Article features"
   ]
  },
  {
   "cell_type": "markdown",
   "metadata": {},
   "source": [
    "### 3.1.a. Distributions of words, links, and categories in articles"
   ]
  },
  {
   "cell_type": "code",
   "execution_count": null,
   "metadata": {},
   "outputs": [],
   "source": [
    "#TODO: big big plot voyage/non-voyage\n",
    "\n",
    "metrics = [\n",
    "    (\"total_words\", \"Number of Words in Article\"),\n",
    "    (\"abstract_words\", \"Number of Words in Article Abstract\"),\n",
    "    (\"link_density\", \"Links Density in Article\"),\n",
    "    (\"abstract_link_density\", \"Links Density in Article Abstract\"),\n",
    "    (\"num_sections\", \"Number of Sections in Article\"),\n",
    "    (\"num_subsections\", \"Number of Sub- Sections in Article\")\n",
    "]\n",
    "\n",
    "fig, ax = plt.subplots(2, 3, figsize=(15, 5))\n",
    "\n",
    "# Loop through metrics to create histograms\n",
    "for i, (metric, title) in enumerate(metrics):\n",
    "    row, col = divmod(i, 3)\n",
    "    sn.histplot(df_article, x=metric, bins=30, kde=True, ax=ax[row, col])\n",
    "    ax[row, col].set_title(title)\n",
    "    if col == 1 or col == 2:\n",
    "        ax[row, col].set_ylabel('')\n",
    "\n",
    "plt.tight_layout()\n",
    "plt.suptitle(\"Distribution of Article Metrics\", y=1.05, fontsize=16)\n",
    "plt.show()"
   ]
  },
  {
   "cell_type": "markdown",
   "metadata": {},
   "source": [
    "Results : The data is right-skewed for most of metrics, indicating that while most articles adhere to certain standards of complexity and length, a small subset stands out as particularly detailed or interconnected."
   ]
  },
  {
   "cell_type": "markdown",
   "metadata": {},
   "source": [
    "### 3.1.b Articles Complexity"
   ]
  },
  {
   "cell_type": "markdown",
   "metadata": {},
   "source": [
    "Which categories feature the most complex articles? To answer this question, let’s identify the most complex articles and the categories they belong to. We define complexity based on factors such as the number of words, links, and sections within each article."
   ]
  },
  {
   "cell_type": "code",
   "execution_count": null,
   "metadata": {},
   "outputs": [],
   "source": [
    "#add count of start and target in df_articles\n",
    "count_start_and_target_per_articles(df_finished, df_unfinished, df_article)\n",
    "\n",
    "#plot \n",
    "plot_proportion_category_start_stop_pies(\n",
    "    df_article=df_article,\n",
    "    palette=config.PALETTE_CATEGORY_DICT,\n",
    "    abbreviations=config.CATEGORY_ABBREVIATIONS,\n",
    "    threshold=2.3\n",
    ")"
   ]
  },
  {
   "cell_type": "markdown",
   "metadata": {},
   "source": [
    "\"Science\" and \"World Regions\" categories are the most prevalent categories in both start and end articles, indicating their significant representation."
   ]
  },
  {
   "cell_type": "code",
   "execution_count": null,
   "metadata": {},
   "outputs": [],
   "source": [
    "metrics = [\n",
    "    \"total_words\", \"link_density\", \"num_sections\",\n",
    "    \"abstract_words\", \"abstract_link_density\", \"num_subsections\"\n",
    "]\n",
    "\n",
    "plot_metrics_by_category(df_article, metrics, config.PALETTE_CATEGORY_DICT, config.CATEGORY_ABBREVIATIONS)"
   ]
  },
  {
   "cell_type": "code",
   "execution_count": null,
   "metadata": {},
   "outputs": [],
   "source": [
    "plot_proportions_of_in_and_out_degree_in_categories(\n",
    "    df=df_article,\n",
    "    palette=config.PALETTE_CATEGORY_DICT,\n",
    "    abbreviations=config.CATEGORY_ABBREVIATIONS\n",
    ")"
   ]
  },
  {
   "cell_type": "markdown",
   "metadata": {},
   "source": [
    "World Regions articles are highly represented in the network, being the category with the highest number of incoming and outgoing links."
   ]
  },
  {
   "cell_type": "markdown",
   "metadata": {},
   "source": [
    "Results : The category \"World Regions\" stands out as a particularly complex topic, characterized by articles with the highest link density and the greatest number of category levels."
   ]
  },
  {
   "cell_type": "markdown",
   "metadata": {},
   "source": [
    "### 3.1.c Articles Popularity and Connectivity"
   ]
  },
  {
   "cell_type": "markdown",
   "metadata": {},
   "source": [
    "Is there a correlation between the number of links in an article and the frequency with which people interact with it in the game? Does this depend more on the in-degree or out-degree of the links? And is there a significant difference between the in-degree and out-degree of links? We will compare and investigate these factors to understand their impact on article interaction."
   ]
  },
  {
   "cell_type": "code",
   "execution_count": null,
   "metadata": {},
   "outputs": [],
   "source": [
    "#TODO. comment + lists of countries in other categories\n",
    "plot_article_popularity_link_density(df_article, df_finished, config.PALETTE_CATEGORY_DICT, config.CATEGORY_ABBREVIATIONS, df_categories)"
   ]
  },
  {
   "cell_type": "markdown",
   "metadata": {},
   "source": [
    "Results : We observe a significant overlap between the most visited articles and those with the highest degree. Additionally, the \"Countries\" category is prominently represented."
   ]
  },
  {
   "cell_type": "markdown",
   "metadata": {},
   "source": [
    "## 3.2. Analyse user behaviour"
   ]
  },
  {
   "cell_type": "markdown",
   "metadata": {},
   "source": [
    "Let's look for patterns in user behaviour and try to understand how we could measure whether a game was difficult or not. Many different metrics can be considered, for instance:\n",
    "- Game duration\n",
    "- Game path length\n",
    "- Difficulty rating given for finished paths\n",
    "- Number of back-clicks needed\n",
    "- Whether a game was finished or not\n",
    "- For unfinished games, how the game was abandoned\n",
    "\n",
    "A combination of these parameters can help finding in which games users struggled. This will then allow to assess whether players struggle less in <span style=\"background: linear-gradient(to right, #3458d6, #34d634); -webkit-background-clip: text; color: transparent;\">Wikispeedia Voyages</span> than in other paths.\n",
    "\n",
    "Let's first have a look of how the difficulty measures are distributed amongst each other for finished paths."
   ]
  },
  {
   "cell_type": "markdown",
   "metadata": {},
   "source": [
    "### 3.2.a Path duration"
   ]
  },
  {
   "cell_type": "code",
   "execution_count": null,
   "metadata": {},
   "outputs": [],
   "source": [
    "#TODO: keep code but not plot, not link to story\n",
    "\n",
    "# Find medians and kurtosis for both finished and unfinished\n",
    "median_finished = df_finished['durationInSec'].median()\n",
    "kurtosis_finished = kurtosis(df_finished['durationInSec'])\n",
    "median_unfinished = df_unfinished.groupby('type')['durationInSec'].median()\n",
    "kurtosis_unfinished = df_unfinished.groupby('type')['durationInSec'].apply(kurtosis)\n",
    "\n",
    "print(f\"The median duration of finished paths is {median_finished:.0f} seconds\")\n",
    "print(f\"The median duration of all unfinished paths is {df_unfinished['durationInSec'].median():.0f} seconds, among which :\")\n",
    "print(f\"  - The median duration of restart paths is {median_unfinished['restart']:.0f} seconds\")\n",
    "print(f\"  - The median duration of timeout paths is {median_unfinished['timeout']:.0f} seconds\")\n",
    "\n",
    "print(f\"Kurtosis of finished game durations: {kurtosis_finished:.2f}\")\n",
    "print(f\"Kurtosis of restart game durations: {kurtosis_unfinished['restart']:.2f}\")\n",
    "print(f\"Kurtosis of timeout game durations: {kurtosis_unfinished['timeout']:.2f}\")\n",
    "\n",
    "# Plotting histograms\n",
    "plt.figure(figsize=(12, 4))\n",
    "\n",
    "# Unfinished games\n",
    "ax1 = plt.subplot(121)\n",
    "sn.histplot(df_unfinished, x='durationInSec', hue='type', bins=100)\n",
    "plt.yscale('log')\n",
    "plt.xlabel('Duration in seconds')\n",
    "plt.title('Histogram of game duration for unfinished games')\n",
    "\n",
    "# Finished games\n",
    "plt.subplot(122, sharey=ax1)\n",
    "sn.histplot(df_finished, x='durationInSec', bins=100, alpha=0.5, color='y')\n",
    "plt.yscale('log')\n",
    "plt.xlabel('Duration in seconds')\n",
    "plt.title('Histogram of game duration for finished games')\n",
    "plt.show()"
   ]
  },
  {
   "cell_type": "markdown",
   "metadata": {},
   "source": [
    "Time-out paths are games where the player stopped playing for more that 30 minutes. If we set those aside, and look at the duration of paths where the players decided to restart a new game, the mediam duration of games is 114 seconds, approximately the same as finished path duration of 107 seconds.\n",
    "\n",
    "The kurtosis in finished games is much higher than in unfinished restart games (3973 vs 45), meaning that finished games are more heavy tailed. We can in fact see very little players restart after 3000 seconds, whereas many finished games go beyond 6000. "
   ]
  },
  {
   "cell_type": "markdown",
   "metadata": {},
   "source": [
    "### 3.2.b Path duration and path length vs. user rating\n",
    "\n",
    "Let's first look at path duration distribution over different user rating. We found similar results for finished and unfinished paths, so let's have a look at **finished ones** for example."
   ]
  },
  {
   "cell_type": "code",
   "execution_count": null,
   "metadata": {},
   "outputs": [],
   "source": [
    "# change metric to 'path_length' for path length \n",
    "metric = 'durationInSec'\n",
    "\n",
    "df_finished_strNaN = df_finished.copy()\n",
    "df_finished_strNaN['rating'] = df_finished_strNaN['rating'].fillna('NaN')\n",
    "\n",
    "plt.figure(figsize=(10, 6))\n",
    "blues_palette = sn.color_palette(\"Blues\", n_colors=6)\n",
    "\n",
    "means, stds = [], []\n",
    "ax1 = plt.subplot(231)\n",
    "sn.histplot(df_finished[df_finished_strNaN['rating']=='NaN'], x=metric, bins=50, log_scale=True, color=blues_palette[0]) \n",
    "mean = df_finished[df_finished_strNaN['rating']=='NaN'][metric].mean()\n",
    "plt.axvline(mean, color='red', label=f'Mean: {mean:.2f}', linestyle='--')\n",
    "plt.yscale('log')\n",
    "plt.xlabel('Duration in seconds')\n",
    "plt.title('NaN')\n",
    "plt.legend()\n",
    "\n",
    "for i in range(1, 6):\n",
    "    plt.subplot(231+i, sharex = ax1, sharey=ax1)\n",
    "    sn.histplot(df_finished[df_finished_strNaN['rating']==i], x=metric, bins=50, log_scale=True, color=blues_palette[i])\n",
    "    mean = df_finished[df_finished_strNaN['rating']==i][metric].mean()\n",
    "    plt.axvline(mean, color=\"red\", label=f'Mean: {mean:.2f}', linestyle='--')\n",
    "    plt.yscale('log')\n",
    "    plt.title(i)\n",
    "    plt.xlabel('Duration in seconds')\n",
    "    plt.legend()\n",
    "\n",
    "plt.tight_layout()\n",
    "plt.suptitle('Path duration by rating of the finished paths', y=1.04)\n",
    "plt.show()"
   ]
  },
  {
   "cell_type": "markdown",
   "metadata": {},
   "source": [
    "The distributions of the path duration by rating are nice log-normal distributions! This means we can use the mean (location) and standard deviation (scale) to characterise them. Indeed, except for NaN, there is a steady increase of the path duration mean when rating goes up."
   ]
  },
  {
   "cell_type": "markdown",
   "metadata": {},
   "source": [
    "Let's now look at whether path duration is correlated with path length:"
   ]
  },
  {
   "cell_type": "code",
   "execution_count": null,
   "metadata": {},
   "outputs": [],
   "source": [
    "df_path_stats_duration = pd.DataFrame()\n",
    "df_path_stats_duration['mean'] = df_finished.groupby('rating', dropna=False)['durationInSec'].mean()\n",
    "df_path_stats_duration['std'] = df_finished.groupby('rating', dropna=False)['durationInSec'].std()\n",
    "df_path_stats_duration['sem'] = df_finished.groupby('rating', dropna=False)['durationInSec'].sem()\n",
    "\n",
    "df_path_stats_length = pd.DataFrame()\n",
    "df_path_stats_length['mean'] = df_finished.groupby('rating', dropna=False)['path_length'].mean()\n",
    "df_path_stats_length['std'] = df_finished.groupby('rating', dropna=False)['path_length'].std()\n",
    "df_path_stats_length['sem'] = df_finished.groupby('rating', dropna=False)['path_length'].sem()\n",
    "\n",
    "df_path_stats = pd.concat([df_path_stats_duration, df_path_stats_length], axis=1, keys=['duration', 'length'])\n",
    "\n",
    "df_path_stats"
   ]
  },
  {
   "cell_type": "code",
   "execution_count": null,
   "metadata": {},
   "outputs": [],
   "source": [
    "order = ['NaN', '1.0', '2.0', '3.0', '4.0', '5.0']\n",
    "\n",
    "plt.figure(figsize=(10, 4))\n",
    "plt.subplot(121)\n",
    "sn.barplot(df_finished_strNaN, x='rating', y='durationInSec', order=order, errorbar=('ci', 95), color='#0b3880')\n",
    "plt.xlabel('Rating')\n",
    "plt.ylabel('Duration in seconds')\n",
    "plt.subplot(122)\n",
    "sn.barplot(df_finished_strNaN, x='rating', y='path_length', order=order, errorbar=('ci', 95), color='#0b3880')\n",
    "plt.suptitle('Duration and Path Length by Rating of the Finished Paths')\n",
    "plt.xlabel('Rating')\n",
    "plt.ylabel('Path Length')\n",
    "plt.show()"
   ]
  },
  {
   "cell_type": "markdown",
   "metadata": {},
   "source": [
    "There is a clear correlation between how long players took or how many clicks they made with the experienced difficulty rating. This means we can easily combine the two into a difficulty measure as they agree with each other on what players considered difficult. \n",
    "\n",
    "Let's now loow at back-clicks: could it indicate whether players had a hard time?"
   ]
  },
  {
   "cell_type": "markdown",
   "metadata": {},
   "source": [
    "### 3.2.c Back-clicks\n",
    "The number of back-clicks made in a game may indicate players getting stuck.\n",
    "Lets investigate how this metric is related with player ratings, and if they are more prominent in certain categories:"
   ]
  },
  {
   "cell_type": "code",
   "execution_count": 199,
   "metadata": {},
   "outputs": [],
   "source": [
    "paths_finished = extract_category_path(df_finished, df_categories)\n",
    "paths_finished = backtrack(paths_finished)"
   ]
  },
  {
   "cell_type": "code",
   "execution_count": null,
   "metadata": {},
   "outputs": [],
   "source": [
    "#TODO: a regrouper avec les plot de camille et autres metrics -> tous montrent un peu la meme conclusion, voyages ont un behaviour different\n",
    "\n",
    "fig, ax = plt.subplots(1, 2, figsize=(12, 6))\n",
    "\n",
    "back_per_rating = paths_finished.groupby(\"rating\", dropna=False).agg({\"back_nb\": \"mean\", \"size\": \"mean\"}).reset_index()\n",
    "back_per_rating['Mean Back Clicks number'] = back_per_rating[\"back_nb\"]/back_per_rating[\"size\"]\n",
    "back_per_rating['rating'] = back_per_rating['rating'].fillna('NaN')\n",
    "sn.barplot(x=\"rating\", y='Mean Back Clicks number', hue=\"rating\", data=back_per_rating, palette=blues_palette[1:]+blues_palette[:1], ax=ax[0], legend=True)\n",
    "\n",
    "df_exploded = paths_finished.explode('category')\n",
    "category_back_mean = df_exploded.groupby(['category', 'rating'], dropna = False).size().reset_index(name='size')\n",
    "back_mean = df_exploded.groupby('category')[\"have_back\"].mean().reset_index().sort_values(by='have_back', ascending=False)\n",
    "category_back_mean = category_back_mean.merge(back_mean, on='category').sort_values(by='have_back', ascending=False)\n",
    "category_back_mean['rating_proportion'] = category_back_mean.groupby('category')['size'].transform(lambda x: x / x.sum())\n",
    "\n",
    "order = category_back_mean[\"category\"].unique()\n",
    "base_heights = category_back_mean[['category', 'have_back']].drop_duplicates().set_index('category')['have_back']\n",
    "df_pivot = category_back_mean.pivot(index='category', columns='rating', values='rating_proportion').fillna(0)\n",
    "df_pivot = df_pivot.reindex(order)\n",
    "\n",
    "bottom = pd.Series([0] * len(df_pivot), index=df_pivot.index)\n",
    "for i, rating in enumerate(df_pivot.columns):\n",
    "    ax[1].bar(df_pivot.index, \n",
    "           height=df_pivot[rating] * base_heights,  \n",
    "           bottom=bottom * base_heights,           \n",
    "           label=f'Rating {rating}', \n",
    "           color=blues_palette[i])\n",
    "    bottom += df_pivot[rating]\n",
    "\n",
    "ax[1].set_title('Mean Number of Path with Back-Clicks by Category')\n",
    "plt.xlabel('Category')\n",
    "plt.ylabel('Mean Number of Path with Back-Clicks')\n",
    "plt.xticks(rotation=90)\n",
    "ax[0].set_title(\"Distribution of Back-Clicks per Rating\")\n",
    "plt.show()"
   ]
  },
  {
   "cell_type": "markdown",
   "metadata": {},
   "source": [
    "The back-clicks are correlated with the difficulty rating, which is expected as the more difficult a game is, the more likely players are to get stuck and go back.\n",
    "The category with the most back-clicks is \"Art\", and the one with the least is \"Countries\". This is interesting as \"Countries\" is also one of the most visited category, which might indicate that players are more familiar with it and therefore less likely to get stuck.\n",
    "Additionaly, The distribution of rating inside each category seams quite similar."
   ]
  },
  {
   "cell_type": "code",
   "execution_count": null,
   "metadata": {},
   "outputs": [],
   "source": [
    "plot_difficulties_voyage(df_finished, df_unfinished, config.PALETTE_CATEGORY_DICT)"
   ]
  },
  {
   "cell_type": "code",
   "execution_count": null,
   "metadata": {},
   "outputs": [],
   "source": [
    "paths_finished.groupby([\"Wikispeedia_Voyage\"])[\"back_clicks\"].mean().reset_index()"
   ]
  },
  {
   "cell_type": "markdown",
   "metadata": {},
   "source": [
    "Voyage paths tend to be longer than non-voyage paths, with more back-clicks and a slightly higher rating. However, the percentage of completed games is higher for Voyages compared to Non-Voyages.\n",
    "\n",
    "While World Regions articles are relatively few in number, they are highly prevalent within the network, often serving as key intermediate steps in paths. Although the 'Voyage' paths seem effective, they tend to be slower and less efficient overall. Is the popularity of these articles solely due to this? Could it be that users intentionally choose these articles? Further investigation is needed to explore this."
   ]
  },
  {
   "cell_type": "markdown",
   "metadata": {},
   "source": [
    "## 3.3 Look at articles as a categories types"
   ]
  },
  {
   "cell_type": "markdown",
   "metadata": {},
   "source": [
    "### 3.3.a Categories Distributions\n",
    "! Interactive plots with plotly need the notebook to be run but were replaced with screenshots for convenience. !"
   ]
  },
  {
   "cell_type": "code",
   "execution_count": 39,
   "metadata": {},
   "outputs": [],
   "source": [
    "# Needed because in the read_all and for previous visualizations we already selected the most specific categories\n",
    "df_categories_original = read_categories()"
   ]
  },
  {
   "cell_type": "code",
   "execution_count": null,
   "metadata": {},
   "outputs": [],
   "source": [
    "labels, parents, values, ids = create_treemap_data(df_categories_original)\n",
    "fig = go.Figure(go.Treemap(\n",
    "    labels=labels,\n",
    "    parents=parents,\n",
    "    values=values,\n",
    "    ids=ids,\n",
    "    textfont=dict(size=18),\n",
    "))\n",
    "fig.update_layout(margin=dict(t=50, l=10, r=10, b=5), title=\"Category Distribution in Articles Counting Every Category for Each Article\")\n",
    "fig.show()"
   ]
  },
  {
   "cell_type": "markdown",
   "metadata": {},
   "source": [
    "![alt text](./figures/33a.png)"
   ]
  },
  {
   "cell_type": "code",
   "execution_count": null,
   "metadata": {},
   "outputs": [],
   "source": [
    "print(f'We have {df_categories_original[\"level_1\"].unique().size} distinct level 1 categories.')"
   ]
  },
  {
   "cell_type": "markdown",
   "metadata": {},
   "source": [
    "- Each category is organized into multiple sub-levels, with a hierarchical depth of up to 3 levels.\n",
    "\n",
    "- For this analysis, we will focus exclusively on the most superficial level: Level 1.\n",
    "\n",
    "- Additionally, we observe that some articles are associated with multiple categories, highlighting overlaps and shared connections within the dataset."
   ]
  },
  {
   "cell_type": "markdown",
   "metadata": {},
   "source": [
    "#### Articles with Multiples Categories"
   ]
  },
  {
   "cell_type": "markdown",
   "metadata": {},
   "source": [
    "- First we count the numbers of articles with multiples categories:"
   ]
  },
  {
   "cell_type": "code",
   "execution_count": null,
   "metadata": {},
   "outputs": [],
   "source": [
    "# Count the number of articles with multiples categories\n",
    "df_categories_original.groupby(\"article\")[\"article\"].size().value_counts()"
   ]
  },
  {
   "cell_type": "markdown",
   "metadata": {},
   "source": [
    "- But if we constrain it only to different type of level 1 categories, it is reduced to :"
   ]
  },
  {
   "cell_type": "code",
   "execution_count": null,
   "metadata": {},
   "outputs": [],
   "source": [
    "# Count the number of unique level 1 categories per article\n",
    "df_categories_original.groupby(\"article\")[\"level_1\"].nunique().value_counts()"
   ]
  },
  {
   "cell_type": "code",
   "execution_count": null,
   "metadata": {},
   "outputs": [],
   "source": [
    "plot_cooccurrence_cat_matrix(df_categories_original, config.CATEGORY_ABBREVIATIONS)"
   ]
  },
  {
   "cell_type": "markdown",
   "metadata": {},
   "source": [
    "Attributing the **main category** to articles with multiple categories based on the category **with fewer total articles** helps prioritize specialization over generality. \n",
    "\n",
    "Categories with fewer total articles are typically more specific, while those with higher counts cover broader topics. By focusing on the category with fewer articles, we ensure the article’s primary focus is on a unique or specialized perspective, providing a clearer thematic assignment. This method promotes a balanced classification system, ensuring articles are categorized accurately without being overshadowed by more general categories.\n",
    "\n",
    "- For example, a category like **\"Geography\"** may encompass a wide range of topics, while **\"Countries\"** might be more specialized."
   ]
  },
  {
   "cell_type": "code",
   "execution_count": 47,
   "metadata": {},
   "outputs": [],
   "source": [
    "##TODO: Info so now here we explain about the most specific categories + the new categories we created: world regions to show it?\n",
    "## Maybe do these exploration better at the beginning of the notebook to explain the categories and the new ones we created?"
   ]
  },
  {
   "cell_type": "code",
   "execution_count": null,
   "metadata": {},
   "outputs": [],
   "source": [
    "#TODO: add subcategories\n",
    "\n",
    "labels_filtered, parents_filtered, values_filtered, ids_filtered = create_treemap_data(df_categories)\n",
    "fig = go.Figure(go.Treemap(\n",
    "    labels=labels_filtered,\n",
    "    parents=parents_filtered,\n",
    "    values=values_filtered,\n",
    "    ids=ids_filtered,\n",
    "    textfont=dict(size=18),\n",
    "))\n",
    "\n",
    "fig.update_layout(margin=dict(t=50, l=10, r=10, b=5), title=\"Category Distribution in Articles (Only the most specific category is shown for each article)\")\n",
    "fig.show()"
   ]
  },
  {
   "cell_type": "markdown",
   "metadata": {},
   "source": [
    "![alt text](./figures/33a1.png)"
   ]
  },
  {
   "cell_type": "markdown",
   "metadata": {},
   "source": [
    "### 3.3.b Transitions between categories"
   ]
  },
  {
   "cell_type": "markdown",
   "metadata": {},
   "source": [
    "We decide to merge the finished and unfinished paths as in this section we will first only analyse how users make moves between categories of articles, independ of their succes on the research."
   ]
  },
  {
   "cell_type": "code",
   "execution_count": null,
   "metadata": {},
   "outputs": [],
   "source": [
    "#TODO: a enlever et remplacer par le graph network"
   ]
  },
  {
   "cell_type": "markdown",
   "metadata": {},
   "source": [
    "While this is not the best way to visualise transitions between categories (this comes a bit later with graphs), it gives some important numerical values as first overview. Certain transitions seem to be more prominent than others, such as transitions from Geography to Countries or clicks to remain in Science. Generally, a lot of paths lead to Countries and Geography. Back-clicks, History and Science also have an overall strong presence. Does this give any real information about transitions users like or is it simply due to how many articles there are for the analysed categories?"
   ]
  },
  {
   "cell_type": "code",
   "execution_count": null,
   "metadata": {},
   "outputs": [],
   "source": [
    "plot_articles_pie_chart(df_categories, config.PALETTE_CATEGORY_DICT, config.CATEGORY_ABBREVIATIONS)"
   ]
  },
  {
   "cell_type": "markdown",
   "metadata": {},
   "source": [
    "Geography is both a category that many articles have and a category with high transitions. This needs to be further analysed to see if users really choose to go through Geography or if they are just more likely to find an article with that category. The same cannot be said for Countries, which is a much smaller category which still has high transition counts!"
   ]
  },
  {
   "cell_type": "markdown",
   "metadata": {},
   "source": [
    "#### Transitions within categories (excluding self-category)\n",
    "\n",
    "Let's remove the transitions in early articles that stay in the same category: if a player wants to leave a category but does not find an adequate link, we will only consider the next different category as next step.\n",
    "\n",
    "For example :\n",
    "- Science -> Science -> Science **becomes** Science\n",
    "- Science -> Science -> Science -> Citizenship -> Design and Technology **becomes** Science -> Citizenship -> Design and Technology"
   ]
  },
  {
   "cell_type": "code",
   "execution_count": null,
   "metadata": {},
   "outputs": [],
   "source": [
    "common_paths_nl = analyze_categories_paths(df_merged, df_categories, omit_loops=True)"
   ]
  },
  {
   "cell_type": "code",
   "execution_count": null,
   "metadata": {},
   "outputs": [],
   "source": [
    "df_position_data = get_position_frequencies(common_paths_nl, max_position=15)\n",
    "plot_position_line(df_position_data, df_article, title=\"Position Frequencies for Finished Paths\")"
   ]
  },
  {
   "cell_type": "markdown",
   "metadata": {},
   "source": [
    "![alt text](./figures/33a3.png)"
   ]
  },
  {
   "cell_type": "markdown",
   "metadata": {},
   "source": [
    "We can see that the categories in the early path positions are very often Countries or Geography. A lot of paths start in Science, but players seem to either leave in the first steps or stay there for the rest of the path. Very few start in Countries, but this category seems to be the most popular one to go to as a second step. For Geography, the trend is less clear but players still rather join the category than leave it in the second step.\n",
    "\n",
    "One last interesting analysis is that back-clicks seem to gain popularity as the paths get longer!"
   ]
  },
  {
   "cell_type": "markdown",
   "metadata": {},
   "source": [
    "### Comparison with optimal paths"
   ]
  },
  {
   "cell_type": "markdown",
   "metadata": {},
   "source": [
    "Let's define the optimal path as the shortest path that can be taken. This assumption is coherent since the goal of the game is to reach the target while keeping the number of clicks as low as possible.\n",
    "\n",
    "We can analyze whether users’ choice of categories aligns with the categories in the optimal path to determine if passing through 'Voyages' is an effective strategy for reaching the target.\n",
    "\n",
    "To achieve this, we first need to compute the optimal path by constructing a directed graph where edges represent connections between articles. Here we take all the shortest possible paths per each combinaton of source-target present in the users' games. "
   ]
  },
  {
   "cell_type": "code",
   "execution_count": null,
   "metadata": {},
   "outputs": [],
   "source": [
    "optimal_paths = find_all_source_target_pairs(df_finished, df_unfinished, df_links)\n",
    "optimal_paths = calculate_optimal_path(df_links, optimal_paths, df_shortest_path)"
   ]
  },
  {
   "cell_type": "markdown",
   "metadata": {},
   "source": [
    "Some combination of source and target have many possible shortest paths!"
   ]
  },
  {
   "cell_type": "code",
   "execution_count": null,
   "metadata": {},
   "outputs": [],
   "source": [
    "# Count the number of shortest paths for each (source, target) combination\n",
    "path_counts = optimal_paths.groupby(['source', 'target']).size().reset_index(name='path_count')\n",
    "path_counts.sort_values(by='path_count')"
   ]
  },
  {
   "cell_type": "code",
   "execution_count": null,
   "metadata": {},
   "outputs": [],
   "source": [
    "opt_paths = analyze_categories_paths(optimal_paths, df_categories, users=False, omit_loops=False)\n",
    "df_position_opt_data = get_position_frequencies(opt_paths, max_position=15)\n",
    "plot_position_line(df_position_opt_data, df_article, title=\"Position Frequencies for Optimal Paths\")"
   ]
  },
  {
   "cell_type": "markdown",
   "metadata": {},
   "source": [
    "Indeed, <span style=\"background: linear-gradient(to right, #3458d6, #34d634); -webkit-background-clip: text; color: transparent;\">Wikispeedia Voyages</span> seem to often be the ideal algorithmic path. This is interesting, but in the future we will need to also compare <i>human</i> best performance with the voyages to draw a conclusion."
   ]
  },
  {
   "cell_type": "code",
   "execution_count": null,
   "metadata": {},
   "outputs": [],
   "source": [
    "# Map the paths artciles to their categories\n",
    "optimal_paths['path_categories'] = optimal_paths['path'].apply(lambda path: map_path_to_categories(path, category_map))\n",
    "\n",
    "# Get users paths mapped to categories\n",
    "users_finished, users_unfinished = users_paths(df_finished, df_unfinished, category_map)\n",
    "# Filter optimal paths to match source-target pairs in users paths\n",
    "optimal_fin, users_finished, optimal_unf, users_unfinished = filter_pairs(optimal_paths, users_finished, users_unfinished)"
   ]
  },
  {
   "cell_type": "markdown",
   "metadata": {},
   "source": [
    "To compare user paths with optimal paths, we calculate the percentage of times each category is visited at each step for both datasets and each source-target association. To examine general trends, we average these percentages across steps for each category. Next, we compute the difference between the optimal and user paths for each source-target association and category.\n",
    "\n",
    "We can average these differences directly across all associations or first group them by source-target category pairs (e.g., source in 'Art' and target in 'Music'), then average within these groups to balance category representation. This analysis applies to both finished and unfinished user paths."
   ]
  },
  {
   "cell_type": "code",
   "execution_count": null,
   "metadata": {},
   "outputs": [],
   "source": [
    "\n",
    "S_T_opt_fin_percentages, S_T_fin_percentages, S_T_opt_unf_percentages, S_T_unf_percentages = calculate_step_percentages(optimal_fin, users_finished, optimal_unf, users_unfinished)\n",
    "\n",
    "# Data processing steps\n",
    "dataframes = [\n",
    "    (S_T_opt_fin_percentages, 'opt'),\n",
    "    (S_T_fin_percentages, 'fin'),\n",
    "    (S_T_opt_unf_percentages, 'opt'),\n",
    "    (S_T_unf_percentages, 'unf')\n",
    "]\n",
    "key_columns = ['source', 'target', 'categories']\n",
    "\n",
    "# Calculate averages and rename columns\n",
    "S_T_opt_fin_avg, S_T_fin_avg, S_T_opt_unf_avg, S_T_unf_avg = calculate_average_percentages(\n",
    "    dataframes,\n",
    "    column_names=['source', 'target', 'categories', 'percentage']\n",
    ")\n",
    "\n",
    "# Merge and calculate differences\n",
    "S_T_diff_fin = merge_and_calculate_difference(S_T_opt_fin_avg, S_T_fin_avg, key_columns, ('percentage_fin', 'percentage_opt'))\n",
    "S_T_diff_unf = merge_and_calculate_difference(S_T_opt_unf_avg, S_T_unf_avg, key_columns, ('percentage_unf', 'percentage_opt'))\n",
    "\n",
    "# Process data for both finished and unfinished paths\n",
    "category_fin_means, category_fin_means_norm = process_category_means(S_T_diff_fin, category_map)\n",
    "category_unf_means, category_unf_means_norm = process_category_means(S_T_diff_unf, category_map)\n"
   ]
  },
  {
   "cell_type": "code",
   "execution_count": null,
   "metadata": {},
   "outputs": [],
   "source": [
    "# Combine datasets for bar plot\n",
    "category_fin_means['path'] = 'finished'\n",
    "category_unf_means['path'] = 'unfinished'\n",
    "concat_means = pd.concat([category_fin_means, category_unf_means])\n",
    "\n",
    "# Plot\n",
    "plt.figure(figsize=(10, 6))\n",
    "sn.barplot(x='categories', y='percentage_diff', hue='path', data=concat_means)\n",
    "plt.xlabel('Categories')\n",
    "plt.ylabel('Average percentage difference')\n",
    "plt.title('Average percentage difference by category')\n",
    "plt.xticks(rotation=75)\n",
    "plt.tight_layout()\n",
    "plt.show()"
   ]
  },
  {
   "cell_type": "code",
   "execution_count": null,
   "metadata": {},
   "outputs": [],
   "source": [
    "#TODO: a mettre ensemble avec les deux autres\n",
    "\n",
    "# Combine datasets for bar plot\n",
    "category_fin_means_norm['path'] = 'finished'\n",
    "category_unf_means_norm['path'] = 'unfinished'\n",
    "concat_means_norm = pd.concat([category_fin_means_norm, category_unf_means_norm])\n",
    "\n",
    "# Plot\n",
    "plt.figure(figsize=(10, 6))\n",
    "sn.barplot(x='categories', y='percentage_diff', hue='path', data=concat_means_norm)\n",
    "plt.xlabel('Categories')\n",
    "plt.ylabel('Average percentage difference')\n",
    "plt.title('Average percentage difference by category - normalized')\n",
    "plt.xticks(rotation=75)\n",
    "plt.tight_layout()\n",
    "plt.show()"
   ]
  },
  {
   "cell_type": "markdown",
   "metadata": {},
   "source": [
    "The plot clearly shows that users pass through 'Voyages' less often than optimal paths suggest. This finding was surprising, as we intuitively expected humans to use more  <span style=\"background: linear-gradient(to right, #3458d6, #34d634); -webkit-background-clip: text; color: transparent;\">Wikispeedia Voyages</span> than necessary. However, the opposite is true. Users might benefit from utsing this category more, likely because, as shown earlier, it is highly interconnected with other categories."
   ]
  },
  {
   "cell_type": "markdown",
   "metadata": {},
   "source": [
    "### Comparison with random path"
   ]
  },
  {
   "cell_type": "code",
   "execution_count": null,
   "metadata": {},
   "outputs": [],
   "source": [
    "#TODO: replace with markov, regrouper par categories comme plot avant"
   ]
  },
  {
   "cell_type": "markdown",
   "metadata": {},
   "source": [
    "### Page structure"
   ]
  },
  {
   "cell_type": "code",
   "execution_count": null,
   "metadata": {},
   "outputs": [],
   "source": [
    "# where are link to a certain category in a page ?\n",
    "link_per_cat = find_category_position_articles(parser, df_categories, config.CATEGORIES_OTHERS)\n",
    "df = pd.DataFrame(link_per_cat)\n",
    "df.describe()"
   ]
  },
  {
   "cell_type": "code",
   "execution_count": null,
   "metadata": {},
   "outputs": [],
   "source": [
    "# Where do people click on an article page ?\n",
    "df_finished_voyage = location_click_on_page(df_finished, parser)\n",
    "df_unfinished_voyage = location_click_on_page(df_unfinished, parser)\n",
    "all_paths = pd.concat([df_finished_voyage, df_unfinished_voyage])"
   ]
  },
  {
   "cell_type": "code",
   "execution_count": null,
   "metadata": {},
   "outputs": [],
   "source": [
    "all_paths[\"category\"] = \"All\"\n",
    "all_paths[\"Legend :\"] = \"Clicked Link Position in Paths\"\n",
    "df_melted = pd.melt(df, var_name='category', value_name='position').dropna()\n",
    "df_melted[\"Legend :\"] = \"Article Link Position in Articles\"\n",
    "df_comparison_path_category = pd.concat([all_paths[[\"category\", \"position\", \"Legend :\"]], df_melted])\n",
    "\n",
    "fig = px.box(df_comparison_path_category, x=\"category\", y=\"position\", color=\"Legend :\", title=\"Position of the clicked link in articles compared to position of each category in articles\")\n",
    "fig.update_xaxes(tickangle=45)\n",
    "\n",
    "fig.update_layout(\n",
    "    autosize=False,\n",
    "    width=1500,\n",
    "    height=500,\n",
    "    boxgroupgap=0.2, # update\n",
    "    boxgap=0)\n",
    "fig.show()"
   ]
  },
  {
   "cell_type": "markdown",
   "metadata": {},
   "source": [
    "### 3.3.c Networks"
   ]
  },
  {
   "cell_type": "markdown",
   "metadata": {},
   "source": [
    "Here, we create a network *(directed graph)* to represent user transitions between different categories of articles.\n",
    "\n",
    "- **Nodes:** Each node represents a group of articles belonging to a specific category, with each article assigned to his main category. \n",
    "- **Edges:** Each edge represents a transition from one article category to another, indicating the flow of user activity.\n",
    "\n",
    "In this visualization, we exclude transitions within the same category (self-loops), as these are already represented in the transition matrix shown earlier (3.3.b). The focus here is on how users navigate between different categories.\n",
    "\n",
    "The node positions are determined using a **force-directed algorithm**:\n",
    "\n",
    "- Nodes repel each other like charged particles, preventing overlaps.\n",
    "- Edges act like springs, pulling connected nodes closer to reflect their relationships.\n",
    "\n",
    "----------\n"
   ]
  },
  {
   "cell_type": "markdown",
   "metadata": {},
   "source": [
    "In the cell below, we recursively replace each back click **(<)** with the article that was visited prior to it. This ensures that we accurately reconstruct the original navigation path and correctly identify the corresponding category for each step."
   ]
  },
  {
   "cell_type": "code",
   "execution_count": null,
   "metadata": {},
   "outputs": [],
   "source": [
    "df_all_voyage_no_backclick = df_all_voyage['path'].apply(replace_back_clicks)\n",
    "G = build_network(df_all_voyage_no_backclick, df_categories_filtered, include_self_loops=False)\n",
    "G = filter_network(G, weight_threshold=7, top_n=6)\n",
    "plot_network(G, df_categories_filtered,palette=palette_category_dict, title=\"Network of transitions whithin Categoires\", show_edge_labels=False, node_size=1000, node_abbreviations=category_abbreviations)"
   ]
  },
  {
   "cell_type": "markdown",
   "metadata": {},
   "source": [
    "We observe a clustered graph, with central clusters dominated by categories containing the largest number of articles, such as Science, Geography, People, and History. Additionally, we see Countries positioned close to the center,despite the small size of the category (only 5% of the total articles) reflecting its strong connections with these major categories.\n",
    "\n",
    "Next, we will normalize the edge weights by the total number of articles in the **source** category. This adjustment accounts for the imbalance in category sizes, ensuring a more accurate representation of transition dynamics.\n",
    "\n",
    "**Note:** Currently, we are normalizing by the size of the source node only. However, for future analyses, we plan to explore other normalization methods, such as accounting for the size of the target category."
   ]
  },
  {
   "cell_type": "code",
   "execution_count": null,
   "metadata": {},
   "outputs": [],
   "source": [
    "fig, ax = plt.subplots(1, 1, figsize=(6, 5))\n",
    "\n",
    "path_finished_length_categories = paths_finished.pivot_table(index='start_category', \n",
    "                                                    columns='end_category', \n",
    "                                                    values='rating', \n",
    "                                                    aggfunc='mean')\n",
    "\n",
    "sn.heatmap(path_finished_length_categories , cmap='Greens', square=True)\n",
    "plt.title(\"Heatmap of rating for Each Start-End Category Combination\")\n",
    "plt.xlabel(\"End Category\")\n",
    "plt.ylabel(\"Start Category\")\n",
    "plt.tight_layout()\n",
    "plt.show()"
   ]
  },
  {
   "cell_type": "markdown",
   "metadata": {},
   "source": [
    "Some category combinations seem to be harder than others: Countries to Art of Mathematics to Religion seem to pose problems to players, while paths inside a category (the diagonal) seem to be generally perceived as easier."
   ]
  },
  {
   "cell_type": "markdown",
   "metadata": {},
   "source": [
    "# 4. Methods for Further Analysis\n",
    "This section aims to show a few of the tools that will be useful along the way for our project. Instead of using them to answer our final question, we use them on the dataset as a whole to show that interesting information can be extracted from these methods."
   ]
  },
  {
   "cell_type": "markdown",
   "metadata": {},
   "source": [
    "We can clearly see that the reordered article indices make intuitive sense, similar words are regrouped. Words in the clusters with high similarity (similarity > 0.5) are words that appear more often in natural language, while words in the low-similarity areas are similar one to another, but not commonly used. This shows that we can regroup articles in clusters of 'well-known words' that are likely more present on user paths."
   ]
  },
  {
   "cell_type": "markdown",
   "metadata": {},
   "source": [
    "## 4.2. Evolution of similarity on paths\n",
    "Now that we established similarity as a metric, can we see how mean similarity evolves on paths in general? Do we observe that users quickly try to leave a category in the first few clicks? Later this will be used to assess whether there is a difference for voyages and non-voyages, and whether there is a difference depending on the categories the path in made of, but for now this already gives an insight into what we can expect."
   ]
  },
  {
   "cell_type": "code",
   "execution_count": null,
   "metadata": {},
   "outputs": [],
   "source": [
    "#TODO: test si interessant avec voyages, check with jaccard, add to camille results, could check other embedding\n",
    "\n",
    "all_finished_paths = [replace_back_clicks(path).split(';') for path in df_finished['path'].tolist()]\n",
    "path_similarities = []\n",
    "\n",
    "for path in all_finished_paths:\n",
    "    path_similarity = []\n",
    "    for step in range(len(path)-1):\n",
    "        current, next = path[step], path[step+1]\n",
    "        path_similarity.append(df_sm[current][next])\n",
    "\n",
    "    path_similarities.append(path_similarity)"
   ]
  },
  {
   "cell_type": "markdown",
   "metadata": {},
   "source": [
    "Here is an example to understand what is going on. Each point represents a click of a user, to go from the first page (Batman) to the next (Chemistry). Batman and Chemistry are not strongly semantically related (hence the relatively low value of about 0.4). In the next step to Biology, the similarity is much higher (about 0.7), so the player first leave the category to reach the target category and then tends to stay there."
   ]
  },
  {
   "cell_type": "code",
   "execution_count": null,
   "metadata": {},
   "outputs": [],
   "source": [
    "path_id = 1829\n",
    "path = path_similarities[path_id]\n",
    "plt.plot(range(len(path)), path, marker='o', color='#0c8714')\n",
    "plt.xticks([i-0.5 for i in range(len(path)+1)], all_finished_paths[path_id], rotation=90)\n",
    "plt.ylim(0, 1)\n",
    "plt.tight_layout()\n",
    "plt.show()"
   ]
  },
  {
   "cell_type": "code",
   "execution_count": null,
   "metadata": {},
   "outputs": [],
   "source": [
    "len_N_path_similarity = {}\n",
    "for path_sim in path_similarities:\n",
    "    path_length = len(path_sim)\n",
    "    len_N_path_similarity.setdefault(path_length, []).append(path_sim)\n",
    "\n",
    "len_N_mean_similarity = {paths_len: np.mean(paths, axis=0) for paths_len, paths in len_N_path_similarity.items()}"
   ]
  },
  {
   "cell_type": "code",
   "execution_count": null,
   "metadata": {},
   "outputs": [],
   "source": [
    "plt.figure(figsize=(7, 5))\n",
    "greens_palette = sn.light_palette(\"#0c8714\", n_colors=10)\n",
    "\n",
    "for i in range(1, 11):\n",
    "    sn.lineplot(len_N_mean_similarity[i+1], lw=1, label=i, color=greens_palette[i-1])\n",
    "plt.legend(title='# Link Clicks')\n",
    "plt.xlabel(\"Position of the Click in the Players' Paths\")\n",
    "plt.xticks(range(0, 11))\n",
    "plt.ylabel('Mean Semantic Similarity')\n",
    "plt.title('Mean Semantic Similarity Difference Aggregated by Path Lenghts')\n",
    "plt.tight_layout()\n",
    "plt.show()"
   ]
  },
  {
   "cell_type": "markdown",
   "metadata": {},
   "source": [
    "There is a clear trend: in the first few clicks, the articles chosen have a low similarity to the previous one: this can be interpreted as leaving the original category. After this, the similarity for the next clicks stabilises, with only small fluctuations."
   ]
  },
  {
   "cell_type": "markdown",
   "metadata": {},
   "source": []
  }
 ],
 "metadata": {
  "kernelspec": {
   "display_name": "ada_project",
   "language": "python",
   "name": "python3"
  },
  "language_info": {
   "codemirror_mode": {
    "name": "ipython",
    "version": 3
   },
   "file_extension": ".py",
   "mimetype": "text/x-python",
   "name": "python",
   "nbconvert_exporter": "python",
   "pygments_lexer": "ipython3",
   "version": "3.8.19"
  }
 },
 "nbformat": 4,
 "nbformat_minor": 2
}
