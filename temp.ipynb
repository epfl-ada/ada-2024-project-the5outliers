{
 "cells": [
  {
   "cell_type": "code",
   "execution_count": null,
   "metadata": {
    "vscode": {
     "languageId": "plaintext"
    }
   },
   "outputs": [],
   "source": [
    "sn.histplot(df_finished[df_finished['rating']==i], x='durationInSec', bins=50)\n",
    "plt.axvline(df_finished[df_finished['rating']==i]['durationInSec'].mean(), color='red')\n",
    "plt.yscale('log')\n",
    "plt.xscale('log')"
   ]
  },
  {
   "cell_type": "code",
   "execution_count": null,
   "metadata": {
    "vscode": {
     "languageId": "plaintext"
    }
   },
   "outputs": [],
   "source": [
    "data = df_finished[df_finished['rating']==5]['durationInSec']\n",
    "\n",
    "# Define the range for the bins (replace with your data's min and max)\n",
    "min_data, max_data = data.min(), data.max()\n",
    "\n",
    "# Create logarithmic bins\n",
    "log_bins = np.logspace(np.log10(min_data), np.log10(max_data), num=50)  # Adjust the number of bins as needed\n",
    "\n",
    "# Plot histogram\n",
    "plt.figure()\n",
    "plt.hist(data, bins=log_bins, edgecolor='black', color='skyblue')\n",
    "plt.xscale('log')\n",
    "plt.yscale('log')\n",
    "plt.xlabel('durationInSec')\n",
    "plt.ylabel('Count')\n",
    "\n",
    "# Plot a vertical line for the median if needed\n",
    "median = np.median(data)\n",
    "plt.axvline(median, color='red', linewidth=2)\n",
    "\n",
    "plt.show()\n"
   ]
  },
  {
   "cell_type": "markdown",
   "metadata": {},
   "source": [
    "<h1><span style= \"color: #c7c9cf\">The5Outliers - </span><span style=\"background: linear-gradient(to right, #3458d6, #34d634); -webkit-background-clip: text; color: transparent;\">Wikispeedia Voyages</span><span style= \"color: #c7c9cf\">: why so many players pass through Geography or Countries to reach their target</span></h1>"
   ]
  }
 ],
 "metadata": {
  "language_info": {
   "name": "python"
  }
 },
 "nbformat": 4,
 "nbformat_minor": 2
}
