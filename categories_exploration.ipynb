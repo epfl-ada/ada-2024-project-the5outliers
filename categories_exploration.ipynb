{
 "cells": [
  {
   "cell_type": "code",
   "execution_count": 5,
   "metadata": {},
   "outputs": [],
   "source": [
    "%load_ext autoreload\n",
    "%autoreload 2"
   ]
  },
  {
   "cell_type": "code",
   "execution_count": 13,
   "metadata": {},
   "outputs": [],
   "source": [
    "import pandas as pd\n",
    "import numpy as np\n",
    "from itertools import combinations\n",
    "from collections import Counter, defaultdict\n",
    "import plotly.graph_objects as go\n",
    "import seaborn as sns\n",
    "import matplotlib.pyplot as plt\n",
    "\n",
    "import networkx as nx\n",
    "\n",
    "from src.helpers import create_treemap_data\n",
    "from src.data_loader import *"
   ]
  },
  {
   "cell_type": "markdown",
   "metadata": {},
   "source": [
    "# Categories Structure"
   ]
  },
  {
   "cell_type": "code",
   "execution_count": 7,
   "metadata": {},
   "outputs": [
    {
     "data": {
      "text/html": [
       "<div>\n",
       "<style scoped>\n",
       "    .dataframe tbody tr th:only-of-type {\n",
       "        vertical-align: middle;\n",
       "    }\n",
       "\n",
       "    .dataframe tbody tr th {\n",
       "        vertical-align: top;\n",
       "    }\n",
       "\n",
       "    .dataframe thead th {\n",
       "        text-align: right;\n",
       "    }\n",
       "</style>\n",
       "<table border=\"1\" class=\"dataframe\">\n",
       "  <thead>\n",
       "    <tr style=\"text-align: right;\">\n",
       "      <th></th>\n",
       "      <th>article</th>\n",
       "      <th>category</th>\n",
       "      <th>level_1</th>\n",
       "      <th>level_2</th>\n",
       "      <th>level_3</th>\n",
       "    </tr>\n",
       "  </thead>\n",
       "  <tbody>\n",
       "    <tr>\n",
       "      <th>0</th>\n",
       "      <td>Áedán mac Gabráin</td>\n",
       "      <td>subject.History.British_History.British_Histor...</td>\n",
       "      <td>History</td>\n",
       "      <td>British_History</td>\n",
       "      <td>British_History_1500_and_before_including_Roma...</td>\n",
       "    </tr>\n",
       "    <tr>\n",
       "      <th>1</th>\n",
       "      <td>Áedán mac Gabráin</td>\n",
       "      <td>subject.People.Historical_figures</td>\n",
       "      <td>People</td>\n",
       "      <td>Historical_figures</td>\n",
       "      <td>None</td>\n",
       "    </tr>\n",
       "    <tr>\n",
       "      <th>2</th>\n",
       "      <td>Åland</td>\n",
       "      <td>subject.Countries</td>\n",
       "      <td>Countries</td>\n",
       "      <td>None</td>\n",
       "      <td>None</td>\n",
       "    </tr>\n",
       "    <tr>\n",
       "      <th>3</th>\n",
       "      <td>Åland</td>\n",
       "      <td>subject.Geography.European_Geography.European_...</td>\n",
       "      <td>Geography</td>\n",
       "      <td>European_Geography</td>\n",
       "      <td>European_Countries</td>\n",
       "    </tr>\n",
       "    <tr>\n",
       "      <th>4</th>\n",
       "      <td>Édouard Manet</td>\n",
       "      <td>subject.People.Artists</td>\n",
       "      <td>People</td>\n",
       "      <td>Artists</td>\n",
       "      <td>None</td>\n",
       "    </tr>\n",
       "    <tr>\n",
       "      <th>...</th>\n",
       "      <td>...</td>\n",
       "      <td>...</td>\n",
       "      <td>...</td>\n",
       "      <td>...</td>\n",
       "      <td>...</td>\n",
       "    </tr>\n",
       "    <tr>\n",
       "      <th>5199</th>\n",
       "      <td>Zirconium</td>\n",
       "      <td>subject.Science.Chemistry.Chemical_elements</td>\n",
       "      <td>Science</td>\n",
       "      <td>Chemistry</td>\n",
       "      <td>Chemical_elements</td>\n",
       "    </tr>\n",
       "    <tr>\n",
       "      <th>5200</th>\n",
       "      <td>Zoroaster</td>\n",
       "      <td>subject.People.Religious_figures_and_leaders</td>\n",
       "      <td>People</td>\n",
       "      <td>Religious_figures_and_leaders</td>\n",
       "      <td>None</td>\n",
       "    </tr>\n",
       "    <tr>\n",
       "      <th>5201</th>\n",
       "      <td>Zuid-Gelders</td>\n",
       "      <td>subject.Geography.European_Geography</td>\n",
       "      <td>Geography</td>\n",
       "      <td>European_Geography</td>\n",
       "      <td>None</td>\n",
       "    </tr>\n",
       "    <tr>\n",
       "      <th>5202</th>\n",
       "      <td>Zuid-Gelders</td>\n",
       "      <td>subject.Language_and_literature.Languages</td>\n",
       "      <td>Language_and_literature</td>\n",
       "      <td>Languages</td>\n",
       "      <td>None</td>\n",
       "    </tr>\n",
       "    <tr>\n",
       "      <th>5203</th>\n",
       "      <td>Zulu</td>\n",
       "      <td>subject.Geography.African_Geography</td>\n",
       "      <td>Geography</td>\n",
       "      <td>African_Geography</td>\n",
       "      <td>None</td>\n",
       "    </tr>\n",
       "  </tbody>\n",
       "</table>\n",
       "<p>5204 rows × 5 columns</p>\n",
       "</div>"
      ],
      "text/plain": [
       "                article                                           category  \\\n",
       "0     Áedán mac Gabráin  subject.History.British_History.British_Histor...   \n",
       "1     Áedán mac Gabráin                  subject.People.Historical_figures   \n",
       "2                 Åland                                  subject.Countries   \n",
       "3                 Åland  subject.Geography.European_Geography.European_...   \n",
       "4         Édouard Manet                             subject.People.Artists   \n",
       "...                 ...                                                ...   \n",
       "5199          Zirconium        subject.Science.Chemistry.Chemical_elements   \n",
       "5200          Zoroaster       subject.People.Religious_figures_and_leaders   \n",
       "5201       Zuid-Gelders               subject.Geography.European_Geography   \n",
       "5202       Zuid-Gelders          subject.Language_and_literature.Languages   \n",
       "5203               Zulu                subject.Geography.African_Geography   \n",
       "\n",
       "                      level_1                        level_2  \\\n",
       "0                     History                British_History   \n",
       "1                      People             Historical_figures   \n",
       "2                   Countries                           None   \n",
       "3                   Geography             European_Geography   \n",
       "4                      People                        Artists   \n",
       "...                       ...                            ...   \n",
       "5199                  Science                      Chemistry   \n",
       "5200                   People  Religious_figures_and_leaders   \n",
       "5201                Geography             European_Geography   \n",
       "5202  Language_and_literature                      Languages   \n",
       "5203                Geography              African_Geography   \n",
       "\n",
       "                                                level_3  \n",
       "0     British_History_1500_and_before_including_Roma...  \n",
       "1                                                  None  \n",
       "2                                                  None  \n",
       "3                                    European_Countries  \n",
       "4                                                  None  \n",
       "...                                                 ...  \n",
       "5199                                  Chemical_elements  \n",
       "5200                                               None  \n",
       "5201                                               None  \n",
       "5202                                               None  \n",
       "5203                                               None  \n",
       "\n",
       "[5204 rows x 5 columns]"
      ]
     },
     "execution_count": 7,
     "metadata": {},
     "output_type": "execute_result"
    }
   ],
   "source": [
    "df_categories = read_categories()\n",
    "df_categories"
   ]
  },
  {
   "cell_type": "code",
   "execution_count": 8,
   "metadata": {},
   "outputs": [
    {
     "data": {
      "text/plain": [
       "count\n",
       "1    4000\n",
       "2     590\n",
       "3       8\n",
       "Name: count, dtype: int64"
      ]
     },
     "execution_count": 8,
     "metadata": {},
     "output_type": "execute_result"
    }
   ],
   "source": [
    "# Count artices with multiple categories\n",
    "df_categories['article'].value_counts().value_counts()"
   ]
  },
  {
   "cell_type": "code",
   "execution_count": 9,
   "metadata": {},
   "outputs": [
    {
     "data": {
      "image/png": "[encoded data removed]",
      "text/plain": [
       "<Figure size 800x600 with 2 Axes>"
      ]
     },
     "metadata": {},
     "output_type": "display_data"
    },
    {
     "data": {
      "text/html": [
       "<div>\n",
       "<style scoped>\n",
       "    .dataframe tbody tr th:only-of-type {\n",
       "        vertical-align: middle;\n",
       "    }\n",
       "\n",
       "    .dataframe tbody tr th {\n",
       "        vertical-align: top;\n",
       "    }\n",
       "\n",
       "    .dataframe thead th {\n",
       "        text-align: right;\n",
       "    }\n",
       "</style>\n",
       "<table border=\"1\" class=\"dataframe\">\n",
       "  <thead>\n",
       "    <tr style=\"text-align: right;\">\n",
       "      <th></th>\n",
       "      <th>Category Pair</th>\n",
       "      <th>Articles</th>\n",
       "      <th>Article Count</th>\n",
       "    </tr>\n",
       "  </thead>\n",
       "  <tbody>\n",
       "    <tr>\n",
       "      <th>0</th>\n",
       "      <td>(Countries, Geography)</td>\n",
       "      <td>[Åland, Éire, Abkhazia, Abu Dhabi, Afghanistan...</td>\n",
       "      <td>229</td>\n",
       "    </tr>\n",
       "    <tr>\n",
       "      <th>1</th>\n",
       "      <td>(History, People)</td>\n",
       "      <td>[Áedán mac Gabráin, Óengus I of the Picts, Akh...</td>\n",
       "      <td>79</td>\n",
       "    </tr>\n",
       "    <tr>\n",
       "      <th>2</th>\n",
       "      <td>(Everyday_life, Science)</td>\n",
       "      <td>[Almond, Aquarium, Avocado, Barley, Basil, Bea...</td>\n",
       "      <td>53</td>\n",
       "    </tr>\n",
       "    <tr>\n",
       "      <th>3</th>\n",
       "      <td>(Language_and_literature, People)</td>\n",
       "      <td>[Augusta, Lady Gregory, Benjamin Britten, Coll...</td>\n",
       "      <td>13</td>\n",
       "    </tr>\n",
       "    <tr>\n",
       "      <th>4</th>\n",
       "      <td>(History, Design_and_Technology)</td>\n",
       "      <td>[Avro Lancaster, Castra, Colossus of Rhodes, F...</td>\n",
       "      <td>12</td>\n",
       "    </tr>\n",
       "  </tbody>\n",
       "</table>\n",
       "</div>"
      ],
      "text/plain": [
       "                       Category Pair  \\\n",
       "0             (Countries, Geography)   \n",
       "1                  (History, People)   \n",
       "2           (Everyday_life, Science)   \n",
       "3  (Language_and_literature, People)   \n",
       "4   (History, Design_and_Technology)   \n",
       "\n",
       "                                            Articles  Article Count  \n",
       "0  [Åland, Éire, Abkhazia, Abu Dhabi, Afghanistan...            229  \n",
       "1  [Áedán mac Gabráin, Óengus I of the Picts, Akh...             79  \n",
       "2  [Almond, Aquarium, Avocado, Barley, Basil, Bea...             53  \n",
       "3  [Augusta, Lady Gregory, Benjamin Britten, Coll...             13  \n",
       "4  [Avro Lancaster, Castra, Colossus of Rhodes, F...             12  "
      ]
     },
     "execution_count": 9,
     "metadata": {},
     "output_type": "execute_result"
    }
   ],
   "source": [
    "# Step 1: Filter articles with multiple categories\n",
    "multi_category_articles = df_categories.groupby('article').filter(lambda x: len(x) > 1)\n",
    "\n",
    "# Step 2: Create pairs of category co-occurrences for each article with multiple categories\n",
    "category_pairs = []\n",
    "article_pairs = defaultdict(list)  # Dictionary to store articles for each unique category pair\n",
    "\n",
    "for article in multi_category_articles['article'].unique():\n",
    "    categories = multi_category_articles[multi_category_articles['article'] == article]['level_1'].unique()\n",
    "    for pair in combinations(categories, 2):\n",
    "        pair_set = frozenset(pair)  # Use a frozenset to ignore order\n",
    "        category_pairs.append(pair_set)\n",
    "        article_pairs[pair_set].append(article)  # Add the article to the respective pair list\n",
    "\n",
    "# Step 3: Count the occurrences of each pair\n",
    "pair_counts = Counter(category_pairs)\n",
    "\n",
    "# Step 4: Convert pair_counts to a DataFrame for heatmap plotting\n",
    "categories = df_categories['level_1'].unique()\n",
    "heatmap_data = pd.DataFrame(0, index=categories, columns=categories)\n",
    "\n",
    "# Step 5: Fill in the DataFrame with pair counts\n",
    "for pair, count in pair_counts.items():\n",
    "    cat1, cat2 = list(pair)\n",
    "    heatmap_data.loc[cat1, cat2] = count\n",
    "    heatmap_data.loc[cat2, cat1] = count  # Ensure symmetry\n",
    "\n",
    "# Now, article_pairs contains each unique pair (unordered) with the list of associated articles\n",
    "\n",
    "# Step 6: Plot the heatmap with a mask for the upper triangle, excluding zeros\n",
    "mask = np.triu(np.ones_like(heatmap_data, dtype=bool)) | (heatmap_data == 0)\n",
    "\n",
    "plt.figure(figsize=(8, 6))\n",
    "sns.heatmap(heatmap_data, annot=True, cmap=\"YlGnBu\", mask=mask,                      \n",
    "            cbar_kws={'label': 'Number of Co-occurrences'}, fmt=\"g\", robust=True)\n",
    "plt.title(\"Co-occurrence of Level 1 Categories in Articles\")\n",
    "plt.xlabel(\"Level 1 Category\")\n",
    "plt.ylabel(\"Level 1 Category\")\n",
    "plt.show()\n",
    "\n",
    "# Step 7: Convert article_pairs dictionary to a DataFrame with category pairs as sets and associated articles\n",
    "article_pairs_df = pd.DataFrame([(pair, articles) for pair, articles in article_pairs.items()],\n",
    "                                columns=['Category Pair', 'Articles'])\n",
    "\n",
    "article_pairs_df['Article Count'] = article_pairs_df['Articles'].apply(len)  # Add count of articles\n",
    "article_pairs_df = article_pairs_df.sort_values(by='Article Count', ascending=False).reset_index(drop=True)\n",
    "\n",
    "# Display the DataFrame containing unique category pairs as sets and associated articles\n",
    "article_pairs_df.head()\n"
   ]
  },
  {
   "cell_type": "code",
   "execution_count": 10,
   "metadata": {},
   "outputs": [
    {
     "name": "stdout",
     "output_type": "stream",
     "text": [
      "['Art', 'Business_Studies', 'Citizenship', 'Countries', 'Design_and_Technology', 'Everyday_life', 'Geography', 'History', 'IT', 'Language_and_literature', 'Mathematics', 'Music', 'People', 'Religion', 'Science', 'Art', 'Artists', 'Business', 'Companies', 'Currency', 'Economics', 'Animal_and_Human_Rights', 'Community_organisations', 'Conflict_and_Peace', 'Culture_and_Diversity', 'Education', 'Environment', 'Law', 'Media', 'Politics_and_government', 'Air_and_Sea_transport', 'Architecture', 'Engineering', 'Railway_transport', 'Road_transport', 'Cartoons', 'Computer_and_Video_games', 'Drink', 'Everyday_life', 'Films', 'Food_and_agriculture', 'Games', 'Recreation', 'Sports', 'Sports_events', 'Sports_teams', 'Television', 'African_Geography', 'Antarctica', 'Central_and_South_American_Geography', 'Climate_and_the_Weather', 'European_Geography', 'General_Geography', 'Geography_of_Asia', 'Geography_of_Great_Britain', 'Geography_of_Oceania_Australasia', 'Geography_of_the_Middle_East', 'Geology_and_geophysics', 'Mineralogy', 'Natural_Disasters', 'North_American_Geography', 'Peoples', 'Storms', 'Ancient_History_Classical_History_and_Mythology', 'Archaeology', 'British_History', 'General_history', 'Historians_chroniclers_and_history_books', 'Military_History_and_War', 'North_American_History', 'Pre_1900_Military', 'Recent_History', 'World_War_II', 'Computer_Programming', 'Computing_hardware_and_infrastructure', 'Cryptography', 'Software', 'Websites_and_the_Internet', 'General_Literature', 'Languages', 'Linguistics', 'Literature_types', 'Novels', 'Poetry_and_Opera', 'Theatre', 'Musical_Instruments', 'Musical_Recordings_and_compositions', 'Musical_genres_styles_eras_and_events', 'Performers_and_composers', 'Actors_models_and_celebrities', 'Artists', 'Astronomers_and_physicists', 'Chemists', 'Computing_People', 'Engineers_and_inventors', 'Geographers_and_explorers', 'Historical_figures', 'Human_Scientists', 'Mathematicians', 'Military_People', 'Monarchs_of_Great_Britain', 'Performers_and_composers', 'Philosophers', 'Political_People', 'Producers_directors_and_media_figures', 'Religious_figures_and_leaders', 'Sports_and_games_people', 'USA_Presidents', 'Writers_and_critics', 'Divinities', 'Myths', 'Philosophy', 'Religious_disputes', 'Religious_movements_traditions_and_organizations', 'Religious_texts', 'Biology', 'Chemistry', 'Physics', 'African_Countries', 'Central_and_South_American_Countries', 'European_Countries', 'Asian_Countries', 'Middle_Eastern_Countries', 'British_History_15001750', 'British_History_1500_and_before_including_Roman_Britain', 'British_History_17501900', 'British_History_Post_1900', 'Birds', 'Dinosaurs', 'Evolution_and_reproduction', 'General_Biology', 'Health_and_medicine', 'Insects_Reptiles_and_Fish', 'Mammals', 'Organisms', 'Plants', 'Chemical_compounds', 'Chemical_elements', 'General_Chemistry', 'Materials_science', 'Electricity_and_Electronics', 'General_Physics', 'Space_Astronomy', 'Space_transport', 'The_Planets'] \n",
      " ['', '', '', '', '', '', '', '', '', '', '', '', '', '', '', 'Art', 'Art', 'Business_Studies', 'Business_Studies', 'Business_Studies', 'Business_Studies', 'Citizenship', 'Citizenship', 'Citizenship', 'Citizenship', 'Citizenship', 'Citizenship', 'Citizenship', 'Citizenship', 'Citizenship', 'Design_and_Technology', 'Design_and_Technology', 'Design_and_Technology', 'Design_and_Technology', 'Design_and_Technology', 'Everyday_life', 'Everyday_life', 'Everyday_life', 'Everyday_life', 'Everyday_life', 'Everyday_life', 'Everyday_life', 'Everyday_life', 'Everyday_life', 'Everyday_life', 'Everyday_life', 'Everyday_life', 'Geography', 'Geography', 'Geography', 'Geography', 'Geography', 'Geography', 'Geography', 'Geography', 'Geography', 'Geography', 'Geography', 'Geography', 'Geography', 'Geography', 'Geography', 'Geography', 'History', 'History', 'History', 'History', 'History', 'History', 'History', 'History', 'History', 'History', 'IT', 'IT', 'IT', 'IT', 'IT', 'Language_and_literature', 'Language_and_literature', 'Language_and_literature', 'Language_and_literature', 'Language_and_literature', 'Language_and_literature', 'Language_and_literature', 'Music', 'Music', 'Music', 'Music', 'People', 'People', 'People', 'People', 'People', 'People', 'People', 'People', 'People', 'People', 'People', 'People', 'People', 'People', 'People', 'People', 'People', 'People', 'People', 'People', 'Religion', 'Religion', 'Religion', 'Religion', 'Religion', 'Religion', 'Science', 'Science', 'Science', 'Geography/African_Geography', 'Geography/Central_and_South_American_Geography', 'Geography/European_Geography', 'Geography/Geography_of_Asia', 'Geography/Geography_of_the_Middle_East', 'History/British_History', 'History/British_History', 'History/British_History', 'History/British_History', 'Science/Biology', 'Science/Biology', 'Science/Biology', 'Science/Biology', 'Science/Biology', 'Science/Biology', 'Science/Biology', 'Science/Biology', 'Science/Biology', 'Science/Chemistry', 'Science/Chemistry', 'Science/Chemistry', 'Science/Chemistry', 'Science/Physics', 'Science/Physics', 'Science/Physics', 'Science/Physics', 'Science/Physics'] \n",
      " [38, 88, 224, 229, 254, 374, 1084, 545, 85, 196, 45, 97, 689, 134, 1122, 36, 2, 28, 18, 14, 28, 17, 11, 10, 16, 17, 26, 19, 11, 97, 24, 53, 74, 84, 19, 20, 26, 15, 27, 36, 97, 21, 21, 32, 22, 16, 41, 137, 8, 83, 38, 139, 65, 106, 124, 58, 36, 76, 17, 39, 103, 22, 33, 87, 11, 158, 80, 10, 71, 22, 27, 48, 31, 15, 20, 6, 23, 21, 16, 47, 15, 17, 39, 30, 32, 17, 18, 46, 16, 25, 36, 21, 8, 9, 25, 21, 108, 23, 15, 22, 43, 43, 23, 67, 8, 39, 45, 37, 71, 21, 17, 24, 19, 35, 18, 704, 192, 226, 57, 48, 56, 37, 18, 29, 73, 24, 18, 161, 59, 11, 51, 109, 72, 114, 19, 108, 42, 119, 21, 10, 20, 55, 105, 33, 13] \n",
      " ['Art', 'Business_Studies', 'Citizenship', 'Countries', 'Design_and_Technology', 'Everyday_life', 'Geography', 'History', 'IT', 'Language_and_literature', 'Mathematics', 'Music', 'People', 'Religion', 'Science', 'Art/Art', 'Art/Artists', 'Business_Studies/Business', 'Business_Studies/Companies', 'Business_Studies/Currency', 'Business_Studies/Economics', 'Citizenship/Animal_and_Human_Rights', 'Citizenship/Community_organisations', 'Citizenship/Conflict_and_Peace', 'Citizenship/Culture_and_Diversity', 'Citizenship/Education', 'Citizenship/Environment', 'Citizenship/Law', 'Citizenship/Media', 'Citizenship/Politics_and_government', 'Design_and_Technology/Air_and_Sea_transport', 'Design_and_Technology/Architecture', 'Design_and_Technology/Engineering', 'Design_and_Technology/Railway_transport', 'Design_and_Technology/Road_transport', 'Everyday_life/Cartoons', 'Everyday_life/Computer_and_Video_games', 'Everyday_life/Drink', 'Everyday_life/Everyday_life', 'Everyday_life/Films', 'Everyday_life/Food_and_agriculture', 'Everyday_life/Games', 'Everyday_life/Recreation', 'Everyday_life/Sports', 'Everyday_life/Sports_events', 'Everyday_life/Sports_teams', 'Everyday_life/Television', 'Geography/African_Geography', 'Geography/Antarctica', 'Geography/Central_and_South_American_Geography', 'Geography/Climate_and_the_Weather', 'Geography/European_Geography', 'Geography/General_Geography', 'Geography/Geography_of_Asia', 'Geography/Geography_of_Great_Britain', 'Geography/Geography_of_Oceania_Australasia', 'Geography/Geography_of_the_Middle_East', 'Geography/Geology_and_geophysics', 'Geography/Mineralogy', 'Geography/Natural_Disasters', 'Geography/North_American_Geography', 'Geography/Peoples', 'Geography/Storms', 'History/Ancient_History_Classical_History_and_Mythology', 'History/Archaeology', 'History/British_History', 'History/General_history', 'History/Historians_chroniclers_and_history_books', 'History/Military_History_and_War', 'History/North_American_History', 'History/Pre_1900_Military', 'History/Recent_History', 'History/World_War_II', 'IT/Computer_Programming', 'IT/Computing_hardware_and_infrastructure', 'IT/Cryptography', 'IT/Software', 'IT/Websites_and_the_Internet', 'Language_and_literature/General_Literature', 'Language_and_literature/Languages', 'Language_and_literature/Linguistics', 'Language_and_literature/Literature_types', 'Language_and_literature/Novels', 'Language_and_literature/Poetry_and_Opera', 'Language_and_literature/Theatre', 'Music/Musical_Instruments', 'Music/Musical_Recordings_and_compositions', 'Music/Musical_genres_styles_eras_and_events', 'Music/Performers_and_composers', 'People/Actors_models_and_celebrities', 'People/Artists', 'People/Astronomers_and_physicists', 'People/Chemists', 'People/Computing_People', 'People/Engineers_and_inventors', 'People/Geographers_and_explorers', 'People/Historical_figures', 'People/Human_Scientists', 'People/Mathematicians', 'People/Military_People', 'People/Monarchs_of_Great_Britain', 'People/Performers_and_composers', 'People/Philosophers', 'People/Political_People', 'People/Producers_directors_and_media_figures', 'People/Religious_figures_and_leaders', 'People/Sports_and_games_people', 'People/USA_Presidents', 'People/Writers_and_critics', 'Religion/Divinities', 'Religion/Myths', 'Religion/Philosophy', 'Religion/Religious_disputes', 'Religion/Religious_movements_traditions_and_organizations', 'Religion/Religious_texts', 'Science/Biology', 'Science/Chemistry', 'Science/Physics', 'Geography/African_Geography/African_Countries', 'Geography/Central_and_South_American_Geography/Central_and_South_American_Countries', 'Geography/European_Geography/European_Countries', 'Geography/Geography_of_Asia/Asian_Countries', 'Geography/Geography_of_the_Middle_East/Middle_Eastern_Countries', 'History/British_History/British_History_15001750', 'History/British_History/British_History_1500_and_before_including_Roman_Britain', 'History/British_History/British_History_17501900', 'History/British_History/British_History_Post_1900', 'Science/Biology/Birds', 'Science/Biology/Dinosaurs', 'Science/Biology/Evolution_and_reproduction', 'Science/Biology/General_Biology', 'Science/Biology/Health_and_medicine', 'Science/Biology/Insects_Reptiles_and_Fish', 'Science/Biology/Mammals', 'Science/Biology/Organisms', 'Science/Biology/Plants', 'Science/Chemistry/Chemical_compounds', 'Science/Chemistry/Chemical_elements', 'Science/Chemistry/General_Chemistry', 'Science/Chemistry/Materials_science', 'Science/Physics/Electricity_and_Electronics', 'Science/Physics/General_Physics', 'Science/Physics/Space_Astronomy', 'Science/Physics/Space_transport', 'Science/Physics/The_Planets']\n"
     ]
    }
   ],
   "source": [
    "labels, parents, values, ids = create_treemap_data(df_categories)\n",
    "print(labels,\"\\n\",parents,\"\\n\",values,\"\\n\", ids)"
   ]
  },
  {
   "cell_type": "code",
   "execution_count": 11,
   "metadata": {},
   "outputs": [
    {
     "data": {
      "application/vnd.plotly.v1+json": {
       "config": {
        "plotlyServerURL": "https://plot.ly"
       },
       "data": [
        {
         "ids": [
          "Art",
          "Business_Studies",
          "Citizenship",
          "Countries",
          "Design_and_Technology",
          "Everyday_life",
          "Geography",
          "History",
          "IT",
          "Language_and_literature",
          "Mathematics",
          "Music",
          "People",
          "Religion",
          "Science",
          "Art/Art",
          "Art/Artists",
          "Business_Studies/Business",
          "Business_Studies/Companies",
          "Business_Studies/Currency",
          "Business_Studies/Economics",
          "Citizenship/Animal_and_Human_Rights",
          "Citizenship/Community_organisations",
          "Citizenship/Conflict_and_Peace",
          "Citizenship/Culture_and_Diversity",
          "Citizenship/Education",
          "Citizenship/Environment",
          "Citizenship/Law",
          "Citizenship/Media",
          "Citizenship/Politics_and_government",
          "Design_and_Technology/Air_and_Sea_transport",
          "Design_and_Technology/Architecture",
          "Design_and_Technology/Engineering",
          "Design_and_Technology/Railway_transport",
          "Design_and_Technology/Road_transport",
          "Everyday_life/Cartoons",
          "Everyday_life/Computer_and_Video_games",
          "Everyday_life/Drink",
          "Everyday_life/Everyday_life",
          "Everyday_life/Films",
          "Everyday_life/Food_and_agriculture",
          "Everyday_life/Games",
          "Everyday_life/Recreation",
          "Everyday_life/Sports",
          "Everyday_life/Sports_events",
          "Everyday_life/Sports_teams",
          "Everyday_life/Television",
          "Geography/African_Geography",
          "Geography/Antarctica",
          "Geography/Central_and_South_American_Geography",
          "Geography/Climate_and_the_Weather",
          "Geography/European_Geography",
          "Geography/General_Geography",
          "Geography/Geography_of_Asia",
          "Geography/Geography_of_Great_Britain",
          "Geography/Geography_of_Oceania_Australasia",
          "Geography/Geography_of_the_Middle_East",
          "Geography/Geology_and_geophysics",
          "Geography/Mineralogy",
          "Geography/Natural_Disasters",
          "Geography/North_American_Geography",
          "Geography/Peoples",
          "Geography/Storms",
          "History/Ancient_History_Classical_History_and_Mythology",
          "History/Archaeology",
          "History/British_History",
          "History/General_history",
          "History/Historians_chroniclers_and_history_books",
          "History/Military_History_and_War",
          "History/North_American_History",
          "History/Pre_1900_Military",
          "History/Recent_History",
          "History/World_War_II",
          "IT/Computer_Programming",
          "IT/Computing_hardware_and_infrastructure",
          "IT/Cryptography",
          "IT/Software",
          "IT/Websites_and_the_Internet",
          "Language_and_literature/General_Literature",
          "Language_and_literature/Languages",
          "Language_and_literature/Linguistics",
          "Language_and_literature/Literature_types",
          "Language_and_literature/Novels",
          "Language_and_literature/Poetry_and_Opera",
          "Language_and_literature/Theatre",
          "Music/Musical_Instruments",
          "Music/Musical_Recordings_and_compositions",
          "Music/Musical_genres_styles_eras_and_events",
          "Music/Performers_and_composers",
          "People/Actors_models_and_celebrities",
          "People/Artists",
          "People/Astronomers_and_physicists",
          "People/Chemists",
          "People/Computing_People",
          "People/Engineers_and_inventors",
          "People/Geographers_and_explorers",
          "People/Historical_figures",
          "People/Human_Scientists",
          "People/Mathematicians",
          "People/Military_People",
          "People/Monarchs_of_Great_Britain",
          "People/Performers_and_composers",
          "People/Philosophers",
          "People/Political_People",
          "People/Producers_directors_and_media_figures",
          "People/Religious_figures_and_leaders",
          "People/Sports_and_games_people",
          "People/USA_Presidents",
          "People/Writers_and_critics",
          "Religion/Divinities",
          "Religion/Myths",
          "Religion/Philosophy",
          "Religion/Religious_disputes",
          "Religion/Religious_movements_traditions_and_organizations",
          "Religion/Religious_texts",
          "Science/Biology",
          "Science/Chemistry",
          "Science/Physics",
          "Geography/African_Geography/African_Countries",
          "Geography/Central_and_South_American_Geography/Central_and_South_American_Countries",
          "Geography/European_Geography/European_Countries",
          "Geography/Geography_of_Asia/Asian_Countries",
          "Geography/Geography_of_the_Middle_East/Middle_Eastern_Countries",
          "History/British_History/British_History_15001750",
          "History/British_History/British_History_1500_and_before_including_Roman_Britain",
          "History/British_History/British_History_17501900",
          "History/British_History/British_History_Post_1900",
          "Science/Biology/Birds",
          "Science/Biology/Dinosaurs",
          "Science/Biology/Evolution_and_reproduction",
          "Science/Biology/General_Biology",
          "Science/Biology/Health_and_medicine",
          "Science/Biology/Insects_Reptiles_and_Fish",
          "Science/Biology/Mammals",
          "Science/Biology/Organisms",
          "Science/Biology/Plants",
          "Science/Chemistry/Chemical_compounds",
          "Science/Chemistry/Chemical_elements",
          "Science/Chemistry/General_Chemistry",
          "Science/Chemistry/Materials_science",
          "Science/Physics/Electricity_and_Electronics",
          "Science/Physics/General_Physics",
          "Science/Physics/Space_Astronomy",
          "Science/Physics/Space_transport",
          "Science/Physics/The_Planets"
         ],
         "labels": [
          "Art",
          "Business_Studies",
          "Citizenship",
          "Countries",
          "Design_and_Technology",
          "Everyday_life",
          "Geography",
          "History",
          "IT",
          "Language_and_literature",
          "Mathematics",
          "Music",
          "People",
          "Religion",
          "Science",
          "Art",
          "Artists",
          "Business",
          "Companies",
          "Currency",
          "Economics",
          "Animal_and_Human_Rights",
          "Community_organisations",
          "Conflict_and_Peace",
          "Culture_and_Diversity",
          "Education",
          "Environment",
          "Law",
          "Media",
          "Politics_and_government",
          "Air_and_Sea_transport",
          "Architecture",
          "Engineering",
          "Railway_transport",
          "Road_transport",
          "Cartoons",
          "Computer_and_Video_games",
          "Drink",
          "Everyday_life",
          "Films",
          "Food_and_agriculture",
          "Games",
          "Recreation",
          "Sports",
          "Sports_events",
          "Sports_teams",
          "Television",
          "African_Geography",
          "Antarctica",
          "Central_and_South_American_Geography",
          "Climate_and_the_Weather",
          "European_Geography",
          "General_Geography",
          "Geography_of_Asia",
          "Geography_of_Great_Britain",
          "Geography_of_Oceania_Australasia",
          "Geography_of_the_Middle_East",
          "Geology_and_geophysics",
          "Mineralogy",
          "Natural_Disasters",
          "North_American_Geography",
          "Peoples",
          "Storms",
          "Ancient_History_Classical_History_and_Mythology",
          "Archaeology",
          "British_History",
          "General_history",
          "Historians_chroniclers_and_history_books",
          "Military_History_and_War",
          "North_American_History",
          "Pre_1900_Military",
          "Recent_History",
          "World_War_II",
          "Computer_Programming",
          "Computing_hardware_and_infrastructure",
          "Cryptography",
          "Software",
          "Websites_and_the_Internet",
          "General_Literature",
          "Languages",
          "Linguistics",
          "Literature_types",
          "Novels",
          "Poetry_and_Opera",
          "Theatre",
          "Musical_Instruments",
          "Musical_Recordings_and_compositions",
          "Musical_genres_styles_eras_and_events",
          "Performers_and_composers",
          "Actors_models_and_celebrities",
          "Artists",
          "Astronomers_and_physicists",
          "Chemists",
          "Computing_People",
          "Engineers_and_inventors",
          "Geographers_and_explorers",
          "Historical_figures",
          "Human_Scientists",
          "Mathematicians",
          "Military_People",
          "Monarchs_of_Great_Britain",
          "Performers_and_composers",
          "Philosophers",
          "Political_People",
          "Producers_directors_and_media_figures",
          "Religious_figures_and_leaders",
          "Sports_and_games_people",
          "USA_Presidents",
          "Writers_and_critics",
          "Divinities",
          "Myths",
          "Philosophy",
          "Religious_disputes",
          "Religious_movements_traditions_and_organizations",
          "Religious_texts",
          "Biology",
          "Chemistry",
          "Physics",
          "African_Countries",
          "Central_and_South_American_Countries",
          "European_Countries",
          "Asian_Countries",
          "Middle_Eastern_Countries",
          "British_History_15001750",
          "British_History_1500_and_before_including_Roman_Britain",
          "British_History_17501900",
          "British_History_Post_1900",
          "Birds",
          "Dinosaurs",
          "Evolution_and_reproduction",
          "General_Biology",
          "Health_and_medicine",
          "Insects_Reptiles_and_Fish",
          "Mammals",
          "Organisms",
          "Plants",
          "Chemical_compounds",
          "Chemical_elements",
          "General_Chemistry",
          "Materials_science",
          "Electricity_and_Electronics",
          "General_Physics",
          "Space_Astronomy",
          "Space_transport",
          "The_Planets"
         ],
         "parents": [
          "",
          "",
          "",
          "",
          "",
          "",
          "",
          "",
          "",
          "",
          "",
          "",
          "",
          "",
          "",
          "Art",
          "Art",
          "Business_Studies",
          "Business_Studies",
          "Business_Studies",
          "Business_Studies",
          "Citizenship",
          "Citizenship",
          "Citizenship",
          "Citizenship",
          "Citizenship",
          "Citizenship",
          "Citizenship",
          "Citizenship",
          "Citizenship",
          "Design_and_Technology",
          "Design_and_Technology",
          "Design_and_Technology",
          "Design_and_Technology",
          "Design_and_Technology",
          "Everyday_life",
          "Everyday_life",
          "Everyday_life",
          "Everyday_life",
          "Everyday_life",
          "Everyday_life",
          "Everyday_life",
          "Everyday_life",
          "Everyday_life",
          "Everyday_life",
          "Everyday_life",
          "Everyday_life",
          "Geography",
          "Geography",
          "Geography",
          "Geography",
          "Geography",
          "Geography",
          "Geography",
          "Geography",
          "Geography",
          "Geography",
          "Geography",
          "Geography",
          "Geography",
          "Geography",
          "Geography",
          "Geography",
          "History",
          "History",
          "History",
          "History",
          "History",
          "History",
          "History",
          "History",
          "History",
          "History",
          "IT",
          "IT",
          "IT",
          "IT",
          "IT",
          "Language_and_literature",
          "Language_and_literature",
          "Language_and_literature",
          "Language_and_literature",
          "Language_and_literature",
          "Language_and_literature",
          "Language_and_literature",
          "Music",
          "Music",
          "Music",
          "Music",
          "People",
          "People",
          "People",
          "People",
          "People",
          "People",
          "People",
          "People",
          "People",
          "People",
          "People",
          "People",
          "People",
          "People",
          "People",
          "People",
          "People",
          "People",
          "People",
          "People",
          "Religion",
          "Religion",
          "Religion",
          "Religion",
          "Religion",
          "Religion",
          "Science",
          "Science",
          "Science",
          "Geography/African_Geography",
          "Geography/Central_and_South_American_Geography",
          "Geography/European_Geography",
          "Geography/Geography_of_Asia",
          "Geography/Geography_of_the_Middle_East",
          "History/British_History",
          "History/British_History",
          "History/British_History",
          "History/British_History",
          "Science/Biology",
          "Science/Biology",
          "Science/Biology",
          "Science/Biology",
          "Science/Biology",
          "Science/Biology",
          "Science/Biology",
          "Science/Biology",
          "Science/Biology",
          "Science/Chemistry",
          "Science/Chemistry",
          "Science/Chemistry",
          "Science/Chemistry",
          "Science/Physics",
          "Science/Physics",
          "Science/Physics",
          "Science/Physics",
          "Science/Physics"
         ],
         "type": "treemap",
         "values": [
          38,
          88,
          224,
          229,
          254,
          374,
          1084,
          545,
          85,
          196,
          45,
          97,
          689,
          134,
          1122,
          36,
          2,
          28,
          18,
          14,
          28,
          17,
          11,
          10,
          16,
          17,
          26,
          19,
          11,
          97,
          24,
          53,
          74,
          84,
          19,
          20,
          26,
          15,
          27,
          36,
          97,
          21,
          21,
          32,
          22,
          16,
          41,
          137,
          8,
          83,
          38,
          139,
          65,
          106,
          124,
          58,
          36,
          76,
          17,
          39,
          103,
          22,
          33,
          87,
          11,
          158,
          80,
          10,
          71,
          22,
          27,
          48,
          31,
          15,
          20,
          6,
          23,
          21,
          16,
          47,
          15,
          17,
          39,
          30,
          32,
          17,
          18,
          46,
          16,
          25,
          36,
          21,
          8,
          9,
          25,
          21,
          108,
          23,
          15,
          22,
          43,
          43,
          23,
          67,
          8,
          39,
          45,
          37,
          71,
          21,
          17,
          24,
          19,
          35,
          18,
          704,
          192,
          226,
          57,
          48,
          56,
          37,
          18,
          29,
          73,
          24,
          18,
          161,
          59,
          11,
          51,
          109,
          72,
          114,
          19,
          108,
          42,
          119,
          21,
          10,
          20,
          55,
          105,
          33,
          13
         ]
        }
       ],
       "layout": {
        "margin": {
         "b": 25,
         "l": 25,
         "r": 25,
         "t": 50
        },
        "template": {
         "data": {
          "bar": [
           {
            "error_x": {
             "color": "#2a3f5f"
            },
            "error_y": {
             "color": "#2a3f5f"
            },
            "marker": {
             "line": {
              "color": "#E5ECF6",
              "width": 0.5
             },
             "pattern": {
              "fillmode": "overlay",
              "size": 10,
              "solidity": 0.2
             }
            },
            "type": "bar"
           }
          ],
          "barpolar": [
           {
            "marker": {
             "line": {
              "color": "#E5ECF6",
              "width": 0.5
             },
             "pattern": {
              "fillmode": "overlay",
              "size": 10,
              "solidity": 0.2
             }
            },
            "type": "barpolar"
           }
          ],
          "carpet": [
           {
            "aaxis": {
             "endlinecolor": "#2a3f5f",
             "gridcolor": "white",
             "linecolor": "white",
             "minorgridcolor": "white",
             "startlinecolor": "#2a3f5f"
            },
            "baxis": {
             "endlinecolor": "#2a3f5f",
             "gridcolor": "white",
             "linecolor": "white",
             "minorgridcolor": "white",
             "startlinecolor": "#2a3f5f"
            },
            "type": "carpet"
           }
          ],
          "choropleth": [
           {
            "colorbar": {
             "outlinewidth": 0,
             "ticks": ""
            },
            "type": "choropleth"
           }
          ],
          "contour": [
           {
            "colorbar": {
             "outlinewidth": 0,
             "ticks": ""
            },
            "colorscale": [
             [
              0,
              "#0d0887"
             ],
             [
              0.1111111111111111,
              "#46039f"
             ],
             [
              0.2222222222222222,
              "#7201a8"
             ],
             [
              0.3333333333333333,
              "#9c179e"
             ],
             [
              0.4444444444444444,
              "#bd3786"
             ],
             [
              0.5555555555555556,
              "#d8576b"
             ],
             [
              0.6666666666666666,
              "#ed7953"
             ],
             [
              0.7777777777777778,
              "#fb9f3a"
             ],
             [
              0.8888888888888888,
              "#fdca26"
             ],
             [
              1,
              "#f0f921"
             ]
            ],
            "type": "contour"
           }
          ],
          "contourcarpet": [
           {
            "colorbar": {
             "outlinewidth": 0,
             "ticks": ""
            },
            "type": "contourcarpet"
           }
          ],
          "heatmap": [
           {
            "colorbar": {
             "outlinewidth": 0,
             "ticks": ""
            },
            "colorscale": [
             [
              0,
              "#0d0887"
             ],
             [
              0.1111111111111111,
              "#46039f"
             ],
             [
              0.2222222222222222,
              "#7201a8"
             ],
             [
              0.3333333333333333,
              "#9c179e"
             ],
             [
              0.4444444444444444,
              "#bd3786"
             ],
             [
              0.5555555555555556,
              "#d8576b"
             ],
             [
              0.6666666666666666,
              "#ed7953"
             ],
             [
              0.7777777777777778,
              "#fb9f3a"
             ],
             [
              0.8888888888888888,
              "#fdca26"
             ],
             [
              1,
              "#f0f921"
             ]
            ],
            "type": "heatmap"
           }
          ],
          "heatmapgl": [
           {
            "colorbar": {
             "outlinewidth": 0,
             "ticks": ""
            },
            "colorscale": [
             [
              0,
              "#0d0887"
             ],
             [
              0.1111111111111111,
              "#46039f"
             ],
             [
              0.2222222222222222,
              "#7201a8"
             ],
             [
              0.3333333333333333,
              "#9c179e"
             ],
             [
              0.4444444444444444,
              "#bd3786"
             ],
             [
              0.5555555555555556,
              "#d8576b"
             ],
             [
              0.6666666666666666,
              "#ed7953"
             ],
             [
              0.7777777777777778,
              "#fb9f3a"
             ],
             [
              0.8888888888888888,
              "#fdca26"
             ],
             [
              1,
              "#f0f921"
             ]
            ],
            "type": "heatmapgl"
           }
          ],
          "histogram": [
           {
            "marker": {
             "pattern": {
              "fillmode": "overlay",
              "size": 10,
              "solidity": 0.2
             }
            },
            "type": "histogram"
           }
          ],
          "histogram2d": [
           {
            "colorbar": {
             "outlinewidth": 0,
             "ticks": ""
            },
            "colorscale": [
             [
              0,
              "#0d0887"
             ],
             [
              0.1111111111111111,
              "#46039f"
             ],
             [
              0.2222222222222222,
              "#7201a8"
             ],
             [
              0.3333333333333333,
              "#9c179e"
             ],
             [
              0.4444444444444444,
              "#bd3786"
             ],
             [
              0.5555555555555556,
              "#d8576b"
             ],
             [
              0.6666666666666666,
              "#ed7953"
             ],
             [
              0.7777777777777778,
              "#fb9f3a"
             ],
             [
              0.8888888888888888,
              "#fdca26"
             ],
             [
              1,
              "#f0f921"
             ]
            ],
            "type": "histogram2d"
           }
          ],
          "histogram2dcontour": [
           {
            "colorbar": {
             "outlinewidth": 0,
             "ticks": ""
            },
            "colorscale": [
             [
              0,
              "#0d0887"
             ],
             [
              0.1111111111111111,
              "#46039f"
             ],
             [
              0.2222222222222222,
              "#7201a8"
             ],
             [
              0.3333333333333333,
              "#9c179e"
             ],
             [
              0.4444444444444444,
              "#bd3786"
             ],
             [
              0.5555555555555556,
              "#d8576b"
             ],
             [
              0.6666666666666666,
              "#ed7953"
             ],
             [
              0.7777777777777778,
              "#fb9f3a"
             ],
             [
              0.8888888888888888,
              "#fdca26"
             ],
             [
              1,
              "#f0f921"
             ]
            ],
            "type": "histogram2dcontour"
           }
          ],
          "mesh3d": [
           {
            "colorbar": {
             "outlinewidth": 0,
             "ticks": ""
            },
            "type": "mesh3d"
           }
          ],
          "parcoords": [
           {
            "line": {
             "colorbar": {
              "outlinewidth": 0,
              "ticks": ""
             }
            },
            "type": "parcoords"
           }
          ],
          "pie": [
           {
            "automargin": true,
            "type": "pie"
           }
          ],
          "scatter": [
           {
            "fillpattern": {
             "fillmode": "overlay",
             "size": 10,
             "solidity": 0.2
            },
            "type": "scatter"
           }
          ],
          "scatter3d": [
           {
            "line": {
             "colorbar": {
              "outlinewidth": 0,
              "ticks": ""
             }
            },
            "marker": {
             "colorbar": {
              "outlinewidth": 0,
              "ticks": ""
             }
            },
            "type": "scatter3d"
           }
          ],
          "scattercarpet": [
           {
            "marker": {
             "colorbar": {
              "outlinewidth": 0,
              "ticks": ""
             }
            },
            "type": "scattercarpet"
           }
          ],
          "scattergeo": [
           {
            "marker": {
             "colorbar": {
              "outlinewidth": 0,
              "ticks": ""
             }
            },
            "type": "scattergeo"
           }
          ],
          "scattergl": [
           {
            "marker": {
             "colorbar": {
              "outlinewidth": 0,
              "ticks": ""
             }
            },
            "type": "scattergl"
           }
          ],
          "scattermapbox": [
           {
            "marker": {
             "colorbar": {
              "outlinewidth": 0,
              "ticks": ""
             }
            },
            "type": "scattermapbox"
           }
          ],
          "scatterpolar": [
           {
            "marker": {
             "colorbar": {
              "outlinewidth": 0,
              "ticks": ""
             }
            },
            "type": "scatterpolar"
           }
          ],
          "scatterpolargl": [
           {
            "marker": {
             "colorbar": {
              "outlinewidth": 0,
              "ticks": ""
             }
            },
            "type": "scatterpolargl"
           }
          ],
          "scatterternary": [
           {
            "marker": {
             "colorbar": {
              "outlinewidth": 0,
              "ticks": ""
             }
            },
            "type": "scatterternary"
           }
          ],
          "surface": [
           {
            "colorbar": {
             "outlinewidth": 0,
             "ticks": ""
            },
            "colorscale": [
             [
              0,
              "#0d0887"
             ],
             [
              0.1111111111111111,
              "#46039f"
             ],
             [
              0.2222222222222222,
              "#7201a8"
             ],
             [
              0.3333333333333333,
              "#9c179e"
             ],
             [
              0.4444444444444444,
              "#bd3786"
             ],
             [
              0.5555555555555556,
              "#d8576b"
             ],
             [
              0.6666666666666666,
              "#ed7953"
             ],
             [
              0.7777777777777778,
              "#fb9f3a"
             ],
             [
              0.8888888888888888,
              "#fdca26"
             ],
             [
              1,
              "#f0f921"
             ]
            ],
            "type": "surface"
           }
          ],
          "table": [
           {
            "cells": {
             "fill": {
              "color": "#EBF0F8"
             },
             "line": {
              "color": "white"
             }
            },
            "header": {
             "fill": {
              "color": "#C8D4E3"
             },
             "line": {
              "color": "white"
             }
            },
            "type": "table"
           }
          ]
         },
         "layout": {
          "annotationdefaults": {
           "arrowcolor": "#2a3f5f",
           "arrowhead": 0,
           "arrowwidth": 1
          },
          "autotypenumbers": "strict",
          "coloraxis": {
           "colorbar": {
            "outlinewidth": 0,
            "ticks": ""
           }
          },
          "colorscale": {
           "diverging": [
            [
             0,
             "#8e0152"
            ],
            [
             0.1,
             "#c51b7d"
            ],
            [
             0.2,
             "#de77ae"
            ],
            [
             0.3,
             "#f1b6da"
            ],
            [
             0.4,
             "#fde0ef"
            ],
            [
             0.5,
             "#f7f7f7"
            ],
            [
             0.6,
             "#e6f5d0"
            ],
            [
             0.7,
             "#b8e186"
            ],
            [
             0.8,
             "#7fbc41"
            ],
            [
             0.9,
             "#4d9221"
            ],
            [
             1,
             "#276419"
            ]
           ],
           "sequential": [
            [
             0,
             "#0d0887"
            ],
            [
             0.1111111111111111,
             "#46039f"
            ],
            [
             0.2222222222222222,
             "#7201a8"
            ],
            [
             0.3333333333333333,
             "#9c179e"
            ],
            [
             0.4444444444444444,
             "#bd3786"
            ],
            [
             0.5555555555555556,
             "#d8576b"
            ],
            [
             0.6666666666666666,
             "#ed7953"
            ],
            [
             0.7777777777777778,
             "#fb9f3a"
            ],
            [
             0.8888888888888888,
             "#fdca26"
            ],
            [
             1,
             "#f0f921"
            ]
           ],
           "sequentialminus": [
            [
             0,
             "#0d0887"
            ],
            [
             0.1111111111111111,
             "#46039f"
            ],
            [
             0.2222222222222222,
             "#7201a8"
            ],
            [
             0.3333333333333333,
             "#9c179e"
            ],
            [
             0.4444444444444444,
             "#bd3786"
            ],
            [
             0.5555555555555556,
             "#d8576b"
            ],
            [
             0.6666666666666666,
             "#ed7953"
            ],
            [
             0.7777777777777778,
             "#fb9f3a"
            ],
            [
             0.8888888888888888,
             "#fdca26"
            ],
            [
             1,
             "#f0f921"
            ]
           ]
          },
          "colorway": [
           "#636efa",
           "#EF553B",
           "#00cc96",
           "#ab63fa",
           "#FFA15A",
           "#19d3f3",
           "#FF6692",
           "#B6E880",
           "#FF97FF",
           "#FECB52"
          ],
          "font": {
           "color": "#2a3f5f"
          },
          "geo": {
           "bgcolor": "white",
           "lakecolor": "white",
           "landcolor": "#E5ECF6",
           "showlakes": true,
           "showland": true,
           "subunitcolor": "white"
          },
          "hoverlabel": {
           "align": "left"
          },
          "hovermode": "closest",
          "mapbox": {
           "style": "light"
          },
          "paper_bgcolor": "white",
          "plot_bgcolor": "#E5ECF6",
          "polar": {
           "angularaxis": {
            "gridcolor": "white",
            "linecolor": "white",
            "ticks": ""
           },
           "bgcolor": "#E5ECF6",
           "radialaxis": {
            "gridcolor": "white",
            "linecolor": "white",
            "ticks": ""
           }
          },
          "scene": {
           "xaxis": {
            "backgroundcolor": "#E5ECF6",
            "gridcolor": "white",
            "gridwidth": 2,
            "linecolor": "white",
            "showbackground": true,
            "ticks": "",
            "zerolinecolor": "white"
           },
           "yaxis": {
            "backgroundcolor": "#E5ECF6",
            "gridcolor": "white",
            "gridwidth": 2,
            "linecolor": "white",
            "showbackground": true,
            "ticks": "",
            "zerolinecolor": "white"
           },
           "zaxis": {
            "backgroundcolor": "#E5ECF6",
            "gridcolor": "white",
            "gridwidth": 2,
            "linecolor": "white",
            "showbackground": true,
            "ticks": "",
            "zerolinecolor": "white"
           }
          },
          "shapedefaults": {
           "line": {
            "color": "#2a3f5f"
           }
          },
          "ternary": {
           "aaxis": {
            "gridcolor": "white",
            "linecolor": "white",
            "ticks": ""
           },
           "baxis": {
            "gridcolor": "white",
            "linecolor": "white",
            "ticks": ""
           },
           "bgcolor": "#E5ECF6",
           "caxis": {
            "gridcolor": "white",
            "linecolor": "white",
            "ticks": ""
           }
          },
          "title": {
           "x": 0.05
          },
          "xaxis": {
           "automargin": true,
           "gridcolor": "white",
           "linecolor": "white",
           "ticks": "",
           "title": {
            "standoff": 15
           },
           "zerolinecolor": "white",
           "zerolinewidth": 2
          },
          "yaxis": {
           "automargin": true,
           "gridcolor": "white",
           "linecolor": "white",
           "ticks": "",
           "title": {
            "standoff": 15
           },
           "zerolinecolor": "white",
           "zerolinewidth": 2
          }
         }
        }
       }
      }
     },
     "metadata": {},
     "output_type": "display_data"
    }
   ],
   "source": [
    "# Plotting the treemap\n",
    "fig = go.Figure(go.Treemap(\n",
    "    labels=labels,\n",
    "    parents=parents,\n",
    "    values=values,\n",
    "    ids=ids,\n",
    "))\n",
    "\n",
    "fig.update_layout(margin=dict(t=50, l=25, r=25, b=25))\n",
    "fig.show()"
   ]
  },
  {
   "cell_type": "code",
   "execution_count": 12,
   "metadata": {},
   "outputs": [
    {
     "data": {
      "application/vnd.plotly.v1+json": {
       "config": {
        "plotlyServerURL": "https://plot.ly"
       },
       "data": [
        {
         "ids": [
          "Art",
          "Business_Studies",
          "Citizenship",
          "Countries",
          "Design_and_Technology",
          "Everyday_life",
          "Geography",
          "History",
          "IT",
          "Language_and_literature",
          "Mathematics",
          "Music",
          "People",
          "Religion",
          "Science",
          "Art/Art",
          "Art/Artists",
          "Business_Studies/Business",
          "Business_Studies/Companies",
          "Business_Studies/Currency",
          "Business_Studies/Economics",
          "Citizenship/Animal_and_Human_Rights",
          "Citizenship/Community_organisations",
          "Citizenship/Conflict_and_Peace",
          "Citizenship/Culture_and_Diversity",
          "Citizenship/Education",
          "Citizenship/Environment",
          "Citizenship/Law",
          "Citizenship/Media",
          "Citizenship/Politics_and_government",
          "Design_and_Technology/Air_and_Sea_transport",
          "Design_and_Technology/Architecture",
          "Design_and_Technology/Engineering",
          "Design_and_Technology/Railway_transport",
          "Design_and_Technology/Road_transport",
          "Everyday_life/Cartoons",
          "Everyday_life/Computer_and_Video_games",
          "Everyday_life/Drink",
          "Everyday_life/Everyday_life",
          "Everyday_life/Films",
          "Everyday_life/Food_and_agriculture",
          "Everyday_life/Games",
          "Everyday_life/Recreation",
          "Everyday_life/Sports",
          "Everyday_life/Sports_events",
          "Everyday_life/Sports_teams",
          "Everyday_life/Television",
          "Geography/African_Geography",
          "Geography/Antarctica",
          "Geography/Central_and_South_American_Geography",
          "Geography/Climate_and_the_Weather",
          "Geography/European_Geography",
          "Geography/General_Geography",
          "Geography/Geography_of_Asia",
          "Geography/Geography_of_Great_Britain",
          "Geography/Geography_of_Oceania_Australasia",
          "Geography/Geography_of_the_Middle_East",
          "Geography/Geology_and_geophysics",
          "Geography/Mineralogy",
          "Geography/Natural_Disasters",
          "Geography/North_American_Geography",
          "Geography/Peoples",
          "Geography/Storms",
          "History/Ancient_History_Classical_History_and_Mythology",
          "History/Archaeology",
          "History/British_History",
          "History/General_history",
          "History/Historians_chroniclers_and_history_books",
          "History/Military_History_and_War",
          "History/North_American_History",
          "History/Pre_1900_Military",
          "History/Recent_History",
          "History/World_War_II",
          "IT/Computer_Programming",
          "IT/Computing_hardware_and_infrastructure",
          "IT/Cryptography",
          "IT/Software",
          "IT/Websites_and_the_Internet",
          "Language_and_literature/General_Literature",
          "Language_and_literature/Languages",
          "Language_and_literature/Linguistics",
          "Language_and_literature/Literature_types",
          "Language_and_literature/Novels",
          "Language_and_literature/Poetry_and_Opera",
          "Language_and_literature/Theatre",
          "Music/Musical_Instruments",
          "Music/Musical_Recordings_and_compositions",
          "Music/Musical_genres_styles_eras_and_events",
          "Music/Performers_and_composers",
          "People/Actors_models_and_celebrities",
          "People/Artists",
          "People/Astronomers_and_physicists",
          "People/Chemists",
          "People/Computing_People",
          "People/Engineers_and_inventors",
          "People/Geographers_and_explorers",
          "People/Historical_figures",
          "People/Human_Scientists",
          "People/Mathematicians",
          "People/Military_People",
          "People/Monarchs_of_Great_Britain",
          "People/Performers_and_composers",
          "People/Philosophers",
          "People/Political_People",
          "People/Producers_directors_and_media_figures",
          "People/Religious_figures_and_leaders",
          "People/Sports_and_games_people",
          "People/USA_Presidents",
          "People/Writers_and_critics",
          "Religion/Divinities",
          "Religion/Myths",
          "Religion/Philosophy",
          "Religion/Religious_disputes",
          "Religion/Religious_movements_traditions_and_organizations",
          "Religion/Religious_texts",
          "Science/Biology",
          "Science/Chemistry",
          "Science/Physics",
          "Geography/African_Geography/African_Countries",
          "Geography/Central_and_South_American_Geography/Central_and_South_American_Countries",
          "Geography/European_Geography/European_Countries",
          "Geography/Geography_of_Asia/Asian_Countries",
          "Geography/Geography_of_the_Middle_East/Middle_Eastern_Countries",
          "History/British_History/British_History_15001750",
          "History/British_History/British_History_1500_and_before_including_Roman_Britain",
          "History/British_History/British_History_17501900",
          "History/British_History/British_History_Post_1900",
          "Science/Biology/Birds",
          "Science/Biology/Dinosaurs",
          "Science/Biology/Evolution_and_reproduction",
          "Science/Biology/General_Biology",
          "Science/Biology/Health_and_medicine",
          "Science/Biology/Insects_Reptiles_and_Fish",
          "Science/Biology/Mammals",
          "Science/Biology/Organisms",
          "Science/Biology/Plants",
          "Science/Chemistry/Chemical_compounds",
          "Science/Chemistry/Chemical_elements",
          "Science/Chemistry/General_Chemistry",
          "Science/Chemistry/Materials_science",
          "Science/Physics/Electricity_and_Electronics",
          "Science/Physics/General_Physics",
          "Science/Physics/Space_Astronomy",
          "Science/Physics/Space_transport",
          "Science/Physics/The_Planets"
         ],
         "labels": [
          "Art",
          "Business_Studies",
          "Citizenship",
          "Countries",
          "Design_and_Technology",
          "Everyday_life",
          "Geography",
          "History",
          "IT",
          "Language_and_literature",
          "Mathematics",
          "Music",
          "People",
          "Religion",
          "Science",
          "Art",
          "Artists",
          "Business",
          "Companies",
          "Currency",
          "Economics",
          "Animal_and_Human_Rights",
          "Community_organisations",
          "Conflict_and_Peace",
          "Culture_and_Diversity",
          "Education",
          "Environment",
          "Law",
          "Media",
          "Politics_and_government",
          "Air_and_Sea_transport",
          "Architecture",
          "Engineering",
          "Railway_transport",
          "Road_transport",
          "Cartoons",
          "Computer_and_Video_games",
          "Drink",
          "Everyday_life",
          "Films",
          "Food_and_agriculture",
          "Games",
          "Recreation",
          "Sports",
          "Sports_events",
          "Sports_teams",
          "Television",
          "African_Geography",
          "Antarctica",
          "Central_and_South_American_Geography",
          "Climate_and_the_Weather",
          "European_Geography",
          "General_Geography",
          "Geography_of_Asia",
          "Geography_of_Great_Britain",
          "Geography_of_Oceania_Australasia",
          "Geography_of_the_Middle_East",
          "Geology_and_geophysics",
          "Mineralogy",
          "Natural_Disasters",
          "North_American_Geography",
          "Peoples",
          "Storms",
          "Ancient_History_Classical_History_and_Mythology",
          "Archaeology",
          "British_History",
          "General_history",
          "Historians_chroniclers_and_history_books",
          "Military_History_and_War",
          "North_American_History",
          "Pre_1900_Military",
          "Recent_History",
          "World_War_II",
          "Computer_Programming",
          "Computing_hardware_and_infrastructure",
          "Cryptography",
          "Software",
          "Websites_and_the_Internet",
          "General_Literature",
          "Languages",
          "Linguistics",
          "Literature_types",
          "Novels",
          "Poetry_and_Opera",
          "Theatre",
          "Musical_Instruments",
          "Musical_Recordings_and_compositions",
          "Musical_genres_styles_eras_and_events",
          "Performers_and_composers",
          "Actors_models_and_celebrities",
          "Artists",
          "Astronomers_and_physicists",
          "Chemists",
          "Computing_People",
          "Engineers_and_inventors",
          "Geographers_and_explorers",
          "Historical_figures",
          "Human_Scientists",
          "Mathematicians",
          "Military_People",
          "Monarchs_of_Great_Britain",
          "Performers_and_composers",
          "Philosophers",
          "Political_People",
          "Producers_directors_and_media_figures",
          "Religious_figures_and_leaders",
          "Sports_and_games_people",
          "USA_Presidents",
          "Writers_and_critics",
          "Divinities",
          "Myths",
          "Philosophy",
          "Religious_disputes",
          "Religious_movements_traditions_and_organizations",
          "Religious_texts",
          "Biology",
          "Chemistry",
          "Physics",
          "African_Countries",
          "Central_and_South_American_Countries",
          "European_Countries",
          "Asian_Countries",
          "Middle_Eastern_Countries",
          "British_History_15001750",
          "British_History_1500_and_before_including_Roman_Britain",
          "British_History_17501900",
          "British_History_Post_1900",
          "Birds",
          "Dinosaurs",
          "Evolution_and_reproduction",
          "General_Biology",
          "Health_and_medicine",
          "Insects_Reptiles_and_Fish",
          "Mammals",
          "Organisms",
          "Plants",
          "Chemical_compounds",
          "Chemical_elements",
          "General_Chemistry",
          "Materials_science",
          "Electricity_and_Electronics",
          "General_Physics",
          "Space_Astronomy",
          "Space_transport",
          "The_Planets"
         ],
         "parents": [
          "",
          "",
          "",
          "",
          "",
          "",
          "",
          "",
          "",
          "",
          "",
          "",
          "",
          "",
          "",
          "Art",
          "Art",
          "Business_Studies",
          "Business_Studies",
          "Business_Studies",
          "Business_Studies",
          "Citizenship",
          "Citizenship",
          "Citizenship",
          "Citizenship",
          "Citizenship",
          "Citizenship",
          "Citizenship",
          "Citizenship",
          "Citizenship",
          "Design_and_Technology",
          "Design_and_Technology",
          "Design_and_Technology",
          "Design_and_Technology",
          "Design_and_Technology",
          "Everyday_life",
          "Everyday_life",
          "Everyday_life",
          "Everyday_life",
          "Everyday_life",
          "Everyday_life",
          "Everyday_life",
          "Everyday_life",
          "Everyday_life",
          "Everyday_life",
          "Everyday_life",
          "Everyday_life",
          "Geography",
          "Geography",
          "Geography",
          "Geography",
          "Geography",
          "Geography",
          "Geography",
          "Geography",
          "Geography",
          "Geography",
          "Geography",
          "Geography",
          "Geography",
          "Geography",
          "Geography",
          "Geography",
          "History",
          "History",
          "History",
          "History",
          "History",
          "History",
          "History",
          "History",
          "History",
          "History",
          "IT",
          "IT",
          "IT",
          "IT",
          "IT",
          "Language_and_literature",
          "Language_and_literature",
          "Language_and_literature",
          "Language_and_literature",
          "Language_and_literature",
          "Language_and_literature",
          "Language_and_literature",
          "Music",
          "Music",
          "Music",
          "Music",
          "People",
          "People",
          "People",
          "People",
          "People",
          "People",
          "People",
          "People",
          "People",
          "People",
          "People",
          "People",
          "People",
          "People",
          "People",
          "People",
          "People",
          "People",
          "People",
          "People",
          "Religion",
          "Religion",
          "Religion",
          "Religion",
          "Religion",
          "Religion",
          "Science",
          "Science",
          "Science",
          "Geography/African_Geography",
          "Geography/Central_and_South_American_Geography",
          "Geography/European_Geography",
          "Geography/Geography_of_Asia",
          "Geography/Geography_of_the_Middle_East",
          "History/British_History",
          "History/British_History",
          "History/British_History",
          "History/British_History",
          "Science/Biology",
          "Science/Biology",
          "Science/Biology",
          "Science/Biology",
          "Science/Biology",
          "Science/Biology",
          "Science/Biology",
          "Science/Biology",
          "Science/Biology",
          "Science/Chemistry",
          "Science/Chemistry",
          "Science/Chemistry",
          "Science/Chemistry",
          "Science/Physics",
          "Science/Physics",
          "Science/Physics",
          "Science/Physics",
          "Science/Physics"
         ],
         "type": "sunburst",
         "values": [
          38,
          88,
          224,
          229,
          254,
          374,
          1084,
          545,
          85,
          196,
          45,
          97,
          689,
          134,
          1122,
          36,
          2,
          28,
          18,
          14,
          28,
          17,
          11,
          10,
          16,
          17,
          26,
          19,
          11,
          97,
          24,
          53,
          74,
          84,
          19,
          20,
          26,
          15,
          27,
          36,
          97,
          21,
          21,
          32,
          22,
          16,
          41,
          137,
          8,
          83,
          38,
          139,
          65,
          106,
          124,
          58,
          36,
          76,
          17,
          39,
          103,
          22,
          33,
          87,
          11,
          158,
          80,
          10,
          71,
          22,
          27,
          48,
          31,
          15,
          20,
          6,
          23,
          21,
          16,
          47,
          15,
          17,
          39,
          30,
          32,
          17,
          18,
          46,
          16,
          25,
          36,
          21,
          8,
          9,
          25,
          21,
          108,
          23,
          15,
          22,
          43,
          43,
          23,
          67,
          8,
          39,
          45,
          37,
          71,
          21,
          17,
          24,
          19,
          35,
          18,
          704,
          192,
          226,
          57,
          48,
          56,
          37,
          18,
          29,
          73,
          24,
          18,
          161,
          59,
          11,
          51,
          109,
          72,
          114,
          19,
          108,
          42,
          119,
          21,
          10,
          20,
          55,
          105,
          33,
          13
         ]
        }
       ],
       "layout": {
        "margin": {
         "b": 25,
         "l": 25,
         "r": 25,
         "t": 50
        },
        "template": {
         "data": {
          "bar": [
           {
            "error_x": {
             "color": "#2a3f5f"
            },
            "error_y": {
             "color": "#2a3f5f"
            },
            "marker": {
             "line": {
              "color": "#E5ECF6",
              "width": 0.5
             },
             "pattern": {
              "fillmode": "overlay",
              "size": 10,
              "solidity": 0.2
             }
            },
            "type": "bar"
           }
          ],
          "barpolar": [
           {
            "marker": {
             "line": {
              "color": "#E5ECF6",
              "width": 0.5
             },
             "pattern": {
              "fillmode": "overlay",
              "size": 10,
              "solidity": 0.2
             }
            },
            "type": "barpolar"
           }
          ],
          "carpet": [
           {
            "aaxis": {
             "endlinecolor": "#2a3f5f",
             "gridcolor": "white",
             "linecolor": "white",
             "minorgridcolor": "white",
             "startlinecolor": "#2a3f5f"
            },
            "baxis": {
             "endlinecolor": "#2a3f5f",
             "gridcolor": "white",
             "linecolor": "white",
             "minorgridcolor": "white",
             "startlinecolor": "#2a3f5f"
            },
            "type": "carpet"
           }
          ],
          "choropleth": [
           {
            "colorbar": {
             "outlinewidth": 0,
             "ticks": ""
            },
            "type": "choropleth"
           }
          ],
          "contour": [
           {
            "colorbar": {
             "outlinewidth": 0,
             "ticks": ""
            },
            "colorscale": [
             [
              0,
              "#0d0887"
             ],
             [
              0.1111111111111111,
              "#46039f"
             ],
             [
              0.2222222222222222,
              "#7201a8"
             ],
             [
              0.3333333333333333,
              "#9c179e"
             ],
             [
              0.4444444444444444,
              "#bd3786"
             ],
             [
              0.5555555555555556,
              "#d8576b"
             ],
             [
              0.6666666666666666,
              "#ed7953"
             ],
             [
              0.7777777777777778,
              "#fb9f3a"
             ],
             [
              0.8888888888888888,
              "#fdca26"
             ],
             [
              1,
              "#f0f921"
             ]
            ],
            "type": "contour"
           }
          ],
          "contourcarpet": [
           {
            "colorbar": {
             "outlinewidth": 0,
             "ticks": ""
            },
            "type": "contourcarpet"
           }
          ],
          "heatmap": [
           {
            "colorbar": {
             "outlinewidth": 0,
             "ticks": ""
            },
            "colorscale": [
             [
              0,
              "#0d0887"
             ],
             [
              0.1111111111111111,
              "#46039f"
             ],
             [
              0.2222222222222222,
              "#7201a8"
             ],
             [
              0.3333333333333333,
              "#9c179e"
             ],
             [
              0.4444444444444444,
              "#bd3786"
             ],
             [
              0.5555555555555556,
              "#d8576b"
             ],
             [
              0.6666666666666666,
              "#ed7953"
             ],
             [
              0.7777777777777778,
              "#fb9f3a"
             ],
             [
              0.8888888888888888,
              "#fdca26"
             ],
             [
              1,
              "#f0f921"
             ]
            ],
            "type": "heatmap"
           }
          ],
          "heatmapgl": [
           {
            "colorbar": {
             "outlinewidth": 0,
             "ticks": ""
            },
            "colorscale": [
             [
              0,
              "#0d0887"
             ],
             [
              0.1111111111111111,
              "#46039f"
             ],
             [
              0.2222222222222222,
              "#7201a8"
             ],
             [
              0.3333333333333333,
              "#9c179e"
             ],
             [
              0.4444444444444444,
              "#bd3786"
             ],
             [
              0.5555555555555556,
              "#d8576b"
             ],
             [
              0.6666666666666666,
              "#ed7953"
             ],
             [
              0.7777777777777778,
              "#fb9f3a"
             ],
             [
              0.8888888888888888,
              "#fdca26"
             ],
             [
              1,
              "#f0f921"
             ]
            ],
            "type": "heatmapgl"
           }
          ],
          "histogram": [
           {
            "marker": {
             "pattern": {
              "fillmode": "overlay",
              "size": 10,
              "solidity": 0.2
             }
            },
            "type": "histogram"
           }
          ],
          "histogram2d": [
           {
            "colorbar": {
             "outlinewidth": 0,
             "ticks": ""
            },
            "colorscale": [
             [
              0,
              "#0d0887"
             ],
             [
              0.1111111111111111,
              "#46039f"
             ],
             [
              0.2222222222222222,
              "#7201a8"
             ],
             [
              0.3333333333333333,
              "#9c179e"
             ],
             [
              0.4444444444444444,
              "#bd3786"
             ],
             [
              0.5555555555555556,
              "#d8576b"
             ],
             [
              0.6666666666666666,
              "#ed7953"
             ],
             [
              0.7777777777777778,
              "#fb9f3a"
             ],
             [
              0.8888888888888888,
              "#fdca26"
             ],
             [
              1,
              "#f0f921"
             ]
            ],
            "type": "histogram2d"
           }
          ],
          "histogram2dcontour": [
           {
            "colorbar": {
             "outlinewidth": 0,
             "ticks": ""
            },
            "colorscale": [
             [
              0,
              "#0d0887"
             ],
             [
              0.1111111111111111,
              "#46039f"
             ],
             [
              0.2222222222222222,
              "#7201a8"
             ],
             [
              0.3333333333333333,
              "#9c179e"
             ],
             [
              0.4444444444444444,
              "#bd3786"
             ],
             [
              0.5555555555555556,
              "#d8576b"
             ],
             [
              0.6666666666666666,
              "#ed7953"
             ],
             [
              0.7777777777777778,
              "#fb9f3a"
             ],
             [
              0.8888888888888888,
              "#fdca26"
             ],
             [
              1,
              "#f0f921"
             ]
            ],
            "type": "histogram2dcontour"
           }
          ],
          "mesh3d": [
           {
            "colorbar": {
             "outlinewidth": 0,
             "ticks": ""
            },
            "type": "mesh3d"
           }
          ],
          "parcoords": [
           {
            "line": {
             "colorbar": {
              "outlinewidth": 0,
              "ticks": ""
             }
            },
            "type": "parcoords"
           }
          ],
          "pie": [
           {
            "automargin": true,
            "type": "pie"
           }
          ],
          "scatter": [
           {
            "fillpattern": {
             "fillmode": "overlay",
             "size": 10,
             "solidity": 0.2
            },
            "type": "scatter"
           }
          ],
          "scatter3d": [
           {
            "line": {
             "colorbar": {
              "outlinewidth": 0,
              "ticks": ""
             }
            },
            "marker": {
             "colorbar": {
              "outlinewidth": 0,
              "ticks": ""
             }
            },
            "type": "scatter3d"
           }
          ],
          "scattercarpet": [
           {
            "marker": {
             "colorbar": {
              "outlinewidth": 0,
              "ticks": ""
             }
            },
            "type": "scattercarpet"
           }
          ],
          "scattergeo": [
           {
            "marker": {
             "colorbar": {
              "outlinewidth": 0,
              "ticks": ""
             }
            },
            "type": "scattergeo"
           }
          ],
          "scattergl": [
           {
            "marker": {
             "colorbar": {
              "outlinewidth": 0,
              "ticks": ""
             }
            },
            "type": "scattergl"
           }
          ],
          "scattermapbox": [
           {
            "marker": {
             "colorbar": {
              "outlinewidth": 0,
              "ticks": ""
             }
            },
            "type": "scattermapbox"
           }
          ],
          "scatterpolar": [
           {
            "marker": {
             "colorbar": {
              "outlinewidth": 0,
              "ticks": ""
             }
            },
            "type": "scatterpolar"
           }
          ],
          "scatterpolargl": [
           {
            "marker": {
             "colorbar": {
              "outlinewidth": 0,
              "ticks": ""
             }
            },
            "type": "scatterpolargl"
           }
          ],
          "scatterternary": [
           {
            "marker": {
             "colorbar": {
              "outlinewidth": 0,
              "ticks": ""
             }
            },
            "type": "scatterternary"
           }
          ],
          "surface": [
           {
            "colorbar": {
             "outlinewidth": 0,
             "ticks": ""
            },
            "colorscale": [
             [
              0,
              "#0d0887"
             ],
             [
              0.1111111111111111,
              "#46039f"
             ],
             [
              0.2222222222222222,
              "#7201a8"
             ],
             [
              0.3333333333333333,
              "#9c179e"
             ],
             [
              0.4444444444444444,
              "#bd3786"
             ],
             [
              0.5555555555555556,
              "#d8576b"
             ],
             [
              0.6666666666666666,
              "#ed7953"
             ],
             [
              0.7777777777777778,
              "#fb9f3a"
             ],
             [
              0.8888888888888888,
              "#fdca26"
             ],
             [
              1,
              "#f0f921"
             ]
            ],
            "type": "surface"
           }
          ],
          "table": [
           {
            "cells": {
             "fill": {
              "color": "#EBF0F8"
             },
             "line": {
              "color": "white"
             }
            },
            "header": {
             "fill": {
              "color": "#C8D4E3"
             },
             "line": {
              "color": "white"
             }
            },
            "type": "table"
           }
          ]
         },
         "layout": {
          "annotationdefaults": {
           "arrowcolor": "#2a3f5f",
           "arrowhead": 0,
           "arrowwidth": 1
          },
          "autotypenumbers": "strict",
          "coloraxis": {
           "colorbar": {
            "outlinewidth": 0,
            "ticks": ""
           }
          },
          "colorscale": {
           "diverging": [
            [
             0,
             "#8e0152"
            ],
            [
             0.1,
             "#c51b7d"
            ],
            [
             0.2,
             "#de77ae"
            ],
            [
             0.3,
             "#f1b6da"
            ],
            [
             0.4,
             "#fde0ef"
            ],
            [
             0.5,
             "#f7f7f7"
            ],
            [
             0.6,
             "#e6f5d0"
            ],
            [
             0.7,
             "#b8e186"
            ],
            [
             0.8,
             "#7fbc41"
            ],
            [
             0.9,
             "#4d9221"
            ],
            [
             1,
             "#276419"
            ]
           ],
           "sequential": [
            [
             0,
             "#0d0887"
            ],
            [
             0.1111111111111111,
             "#46039f"
            ],
            [
             0.2222222222222222,
             "#7201a8"
            ],
            [
             0.3333333333333333,
             "#9c179e"
            ],
            [
             0.4444444444444444,
             "#bd3786"
            ],
            [
             0.5555555555555556,
             "#d8576b"
            ],
            [
             0.6666666666666666,
             "#ed7953"
            ],
            [
             0.7777777777777778,
             "#fb9f3a"
            ],
            [
             0.8888888888888888,
             "#fdca26"
            ],
            [
             1,
             "#f0f921"
            ]
           ],
           "sequentialminus": [
            [
             0,
             "#0d0887"
            ],
            [
             0.1111111111111111,
             "#46039f"
            ],
            [
             0.2222222222222222,
             "#7201a8"
            ],
            [
             0.3333333333333333,
             "#9c179e"
            ],
            [
             0.4444444444444444,
             "#bd3786"
            ],
            [
             0.5555555555555556,
             "#d8576b"
            ],
            [
             0.6666666666666666,
             "#ed7953"
            ],
            [
             0.7777777777777778,
             "#fb9f3a"
            ],
            [
             0.8888888888888888,
             "#fdca26"
            ],
            [
             1,
             "#f0f921"
            ]
           ]
          },
          "colorway": [
           "#636efa",
           "#EF553B",
           "#00cc96",
           "#ab63fa",
           "#FFA15A",
           "#19d3f3",
           "#FF6692",
           "#B6E880",
           "#FF97FF",
           "#FECB52"
          ],
          "font": {
           "color": "#2a3f5f"
          },
          "geo": {
           "bgcolor": "white",
           "lakecolor": "white",
           "landcolor": "#E5ECF6",
           "showlakes": true,
           "showland": true,
           "subunitcolor": "white"
          },
          "hoverlabel": {
           "align": "left"
          },
          "hovermode": "closest",
          "mapbox": {
           "style": "light"
          },
          "paper_bgcolor": "white",
          "plot_bgcolor": "#E5ECF6",
          "polar": {
           "angularaxis": {
            "gridcolor": "white",
            "linecolor": "white",
            "ticks": ""
           },
           "bgcolor": "#E5ECF6",
           "radialaxis": {
            "gridcolor": "white",
            "linecolor": "white",
            "ticks": ""
           }
          },
          "scene": {
           "xaxis": {
            "backgroundcolor": "#E5ECF6",
            "gridcolor": "white",
            "gridwidth": 2,
            "linecolor": "white",
            "showbackground": true,
            "ticks": "",
            "zerolinecolor": "white"
           },
           "yaxis": {
            "backgroundcolor": "#E5ECF6",
            "gridcolor": "white",
            "gridwidth": 2,
            "linecolor": "white",
            "showbackground": true,
            "ticks": "",
            "zerolinecolor": "white"
           },
           "zaxis": {
            "backgroundcolor": "#E5ECF6",
            "gridcolor": "white",
            "gridwidth": 2,
            "linecolor": "white",
            "showbackground": true,
            "ticks": "",
            "zerolinecolor": "white"
           }
          },
          "shapedefaults": {
           "line": {
            "color": "#2a3f5f"
           }
          },
          "ternary": {
           "aaxis": {
            "gridcolor": "white",
            "linecolor": "white",
            "ticks": ""
           },
           "baxis": {
            "gridcolor": "white",
            "linecolor": "white",
            "ticks": ""
           },
           "bgcolor": "#E5ECF6",
           "caxis": {
            "gridcolor": "white",
            "linecolor": "white",
            "ticks": ""
           }
          },
          "title": {
           "x": 0.05
          },
          "xaxis": {
           "automargin": true,
           "gridcolor": "white",
           "linecolor": "white",
           "ticks": "",
           "title": {
            "standoff": 15
           },
           "zerolinecolor": "white",
           "zerolinewidth": 2
          },
          "yaxis": {
           "automargin": true,
           "gridcolor": "white",
           "linecolor": "white",
           "ticks": "",
           "title": {
            "standoff": 15
           },
           "zerolinecolor": "white",
           "zerolinewidth": 2
          }
         }
        }
       }
      }
     },
     "metadata": {},
     "output_type": "display_data"
    }
   ],
   "source": [
    "fig = go.Figure(go.Sunburst(\n",
    "    labels=labels,\n",
    "    parents=parents,\n",
    "    values=values,\n",
    "    ids=ids,\n",
    "))\n",
    "\n",
    "fig.update_layout(margin=dict(t=50, l=25, r=25, b=25))\n",
    "fig.show()\n"
   ]
  },
  {
   "cell_type": "markdown",
   "metadata": {},
   "source": [
    "# Paths"
   ]
  },
  {
   "cell_type": "code",
   "execution_count": 14,
   "metadata": {},
   "outputs": [
    {
     "data": {
      "text/html": [
       "<div>\n",
       "<style scoped>\n",
       "    .dataframe tbody tr th:only-of-type {\n",
       "        vertical-align: middle;\n",
       "    }\n",
       "\n",
       "    .dataframe tbody tr th {\n",
       "        vertical-align: top;\n",
       "    }\n",
       "\n",
       "    .dataframe thead th {\n",
       "        text-align: right;\n",
       "    }\n",
       "</style>\n",
       "<table border=\"1\" class=\"dataframe\">\n",
       "  <thead>\n",
       "    <tr style=\"text-align: right;\">\n",
       "      <th></th>\n",
       "      <th>article</th>\n",
       "      <th>level_1</th>\n",
       "    </tr>\n",
       "  </thead>\n",
       "  <tbody>\n",
       "    <tr>\n",
       "      <th>0</th>\n",
       "      <td>National Gallery, London</td>\n",
       "      <td>Art</td>\n",
       "    </tr>\n",
       "    <tr>\n",
       "      <th>1</th>\n",
       "      <td>Mona Lisa</td>\n",
       "      <td>Art</td>\n",
       "    </tr>\n",
       "    <tr>\n",
       "      <th>2</th>\n",
       "      <td>The Last Supper (Leonardo)</td>\n",
       "      <td>Art</td>\n",
       "    </tr>\n",
       "    <tr>\n",
       "      <th>3</th>\n",
       "      <td>Baroque</td>\n",
       "      <td>Art</td>\n",
       "    </tr>\n",
       "    <tr>\n",
       "      <th>4</th>\n",
       "      <td>Fine art</td>\n",
       "      <td>Art</td>\n",
       "    </tr>\n",
       "    <tr>\n",
       "      <th>...</th>\n",
       "      <td>...</td>\n",
       "      <td>...</td>\n",
       "    </tr>\n",
       "    <tr>\n",
       "      <th>4593</th>\n",
       "      <td>Blacktip reef shark</td>\n",
       "      <td>Science</td>\n",
       "    </tr>\n",
       "    <tr>\n",
       "      <th>4594</th>\n",
       "      <td>Medicine</td>\n",
       "      <td>Science</td>\n",
       "    </tr>\n",
       "    <tr>\n",
       "      <th>4595</th>\n",
       "      <td>Shenzhou spacecraft</td>\n",
       "      <td>Science</td>\n",
       "    </tr>\n",
       "    <tr>\n",
       "      <th>4596</th>\n",
       "      <td>Black hole</td>\n",
       "      <td>Science</td>\n",
       "    </tr>\n",
       "    <tr>\n",
       "      <th>4597</th>\n",
       "      <td>Phosphoryl chloride</td>\n",
       "      <td>Science</td>\n",
       "    </tr>\n",
       "  </tbody>\n",
       "</table>\n",
       "<p>4598 rows × 2 columns</p>\n",
       "</div>"
      ],
      "text/plain": [
       "                         article  level_1\n",
       "0       National Gallery, London      Art\n",
       "1                      Mona Lisa      Art\n",
       "2     The Last Supper (Leonardo)      Art\n",
       "3                        Baroque      Art\n",
       "4                       Fine art      Art\n",
       "...                          ...      ...\n",
       "4593         Blacktip reef shark  Science\n",
       "4594                    Medicine  Science\n",
       "4595         Shenzhou spacecraft  Science\n",
       "4596                  Black hole  Science\n",
       "4597         Phosphoryl chloride  Science\n",
       "\n",
       "[4598 rows x 2 columns]"
      ]
     },
     "execution_count": 14,
     "metadata": {},
     "output_type": "execute_result"
    }
   ],
   "source": [
    "# Step 1: Count the number of articles in each category\n",
    "category_counts = df_categories.groupby('level_1')['article'].nunique().reset_index()\n",
    "category_counts.columns = ['level_1', 'count']\n",
    "\n",
    "# Step 2: Merge category counts back to df_categories\n",
    "df_categories_with_counts = df_categories.merge(category_counts, on='level_1')\n",
    "\n",
    "# Step 3: For each article, select the category with the lowest count (most specific)\n",
    "df_main_category = df_categories_with_counts.sort_values('count').drop_duplicates('article', keep='first')\n",
    "\n",
    "# Step 4: Keep only 'article' and its selected 'main category' (level_1)\n",
    "df_main_category = df_main_category[['article', 'level_1']].reset_index(drop=True)\n",
    "\n",
    "df_main_category"
   ]
  },
  {
   "cell_type": "code",
   "execution_count": 15,
   "metadata": {},
   "outputs": [
    {
     "data": {
      "text/html": [
       "<div>\n",
       "<style scoped>\n",
       "    .dataframe tbody tr th:only-of-type {\n",
       "        vertical-align: middle;\n",
       "    }\n",
       "\n",
       "    .dataframe tbody tr th {\n",
       "        vertical-align: top;\n",
       "    }\n",
       "\n",
       "    .dataframe thead th {\n",
       "        text-align: right;\n",
       "    }\n",
       "</style>\n",
       "<table border=\"1\" class=\"dataframe\">\n",
       "  <thead>\n",
       "    <tr style=\"text-align: right;\">\n",
       "      <th></th>\n",
       "      <th>article</th>\n",
       "      <th>level_1</th>\n",
       "    </tr>\n",
       "  </thead>\n",
       "  <tbody>\n",
       "    <tr>\n",
       "      <th>927</th>\n",
       "      <td>Abu Dhabi</td>\n",
       "      <td>Countries</td>\n",
       "    </tr>\n",
       "  </tbody>\n",
       "</table>\n",
       "</div>"
      ],
      "text/plain": [
       "       article    level_1\n",
       "927  Abu Dhabi  Countries"
      ]
     },
     "execution_count": 15,
     "metadata": {},
     "output_type": "execute_result"
    }
   ],
   "source": [
    "# Eg.\n",
    "df_main_category[df_main_category['article'] == 'Abu Dhabi']"
   ]
  },
  {
   "cell_type": "code",
   "execution_count": 17,
   "metadata": {},
   "outputs": [],
   "source": [
    "df_finished = read_finished_paths()"
   ]
  },
  {
   "cell_type": "code",
   "execution_count": 171,
   "metadata": {},
   "outputs": [
    {
     "data": {
      "image/png": "[encoded data removed]",
      "text/plain": [
       "<Figure size 1200x1200 with 1 Axes>"
      ]
     },
     "metadata": {},
     "output_type": "display_data"
    }
   ],
   "source": [
    "# Initialize a directed graph\n",
    "G = nx.DiGraph()\n",
    "\n",
    "# Build the network from paths\n",
    "for path in df_finished['path']:\n",
    "    nodes = path.split(';')\n",
    "    for i in range(len(nodes) - 1):\n",
    "        # Add edges to the graph with weight based on occurrences\n",
    "        if G.has_edge(nodes[i], nodes[i + 1]):\n",
    "            G[nodes[i]][nodes[i + 1]]['weight'] += 1\n",
    "        else:\n",
    "            G.add_edge(nodes[i], nodes[i + 1], weight=1)\n",
    "\n",
    "# Plotting the network graph\n",
    "plt.figure(figsize=(12, 12))\n",
    "pos = nx.spring_layout(G, seed=42)  # Layout for consistent positioning\n",
    "edges = G.edges(data=True)\n",
    "\n",
    "# Draw nodes and edges with weights\n",
    "nx.draw_networkx_nodes(G, pos, node_size=500, node_color=\"skyblue\", edgecolors=\"black\")\n",
    "nx.draw_networkx_edges(G, pos, edgelist=edges, width=[edge[2]['weight']*0.5 for edge in edges], alpha=0.6, arrows=True)\n",
    "nx.draw_networkx_labels(G, pos, font_size=10, font_weight=\"bold\")\n",
    "\n",
    "plt.title(\"Network Visualization of Paths\")\n",
    "plt.show()"
   ]
  },
  {
   "cell_type": "code",
   "execution_count": null,
   "metadata": {},
   "outputs": [],
   "source": []
  }
 ],
 "metadata": {
  "kernelspec": {
   "display_name": "ada",
   "language": "python",
   "name": "python3"
  },
  "language_info": {
   "codemirror_mode": {
    "name": "ipython",
    "version": 3
   },
   "file_extension": ".py",
   "mimetype": "text/x-python",
   "name": "python",
   "nbconvert_exporter": "python",
   "pygments_lexer": "ipython3",
   "version": "3.11.10"
  }
 },
 "nbformat": 4,
 "nbformat_minor": 2
}
